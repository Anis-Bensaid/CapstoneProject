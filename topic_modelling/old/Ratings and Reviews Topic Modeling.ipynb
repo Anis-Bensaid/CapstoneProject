{
 "cells": [
  {
   "cell_type": "markdown",
   "metadata": {},
   "source": [
    "# Topic Modeling using LDA"
   ]
  },
  {
   "cell_type": "code",
   "execution_count": 1,
   "metadata": {},
   "outputs": [],
   "source": [
    "# # To be run only once\n",
    "# if 0 == 1:\n",
    "#     !pip install gensim\n",
    "#     !pip install PyLDAvis\n",
    "#     !pip install spacy\n",
    "#     !python -m spacy download en_core_web_sm"
   ]
  },
  {
   "cell_type": "code",
   "execution_count": 2,
   "metadata": {},
   "outputs": [],
   "source": [
    "import pandas as pd\n",
    "import numpy as np\n",
    "import pickle\n",
    "\n",
    "import matplotlib.pyplot as plt\n",
    "\n",
    "import re\n",
    "import spacy\n",
    "import tqdm\n",
    "\n",
    "import gensim\n",
    "from gensim.utils import simple_preprocess\n",
    "from gensim.models import CoherenceModel\n",
    "import gensim.corpora as corpora\n",
    "\n",
    "from nltk.corpus import stopwords\n",
    "from nltk.stem import PorterStemmer\n",
    "import nltk\n",
    "import en_core_web_sm\n",
    "\n",
    "from pprint import pprint\n",
    "\n",
    "import pyLDAvis.gensim\n",
    "import pickle \n",
    "import pyLDAvis\n",
    "\n",
    "import time\n",
    "from collections import Counter\n",
    "import random"
   ]
  },
  {
   "cell_type": "code",
   "execution_count": 3,
   "metadata": {},
   "outputs": [],
   "source": [
    "random.seed(3)"
   ]
  },
  {
   "cell_type": "code",
   "execution_count": 4,
   "metadata": {},
   "outputs": [],
   "source": [
    "pd.set_option('display.max_rows', 100)\n",
    "pd.set_option('display.max_columns', None)"
   ]
  },
  {
   "cell_type": "code",
   "execution_count": 5,
   "metadata": {},
   "outputs": [
    {
     "name": "stderr",
     "output_type": "stream",
     "text": [
      "[nltk_data] Downloading package stopwords to\n",
      "[nltk_data]     C:\\Users\\asaid\\AppData\\Roaming\\nltk_data...\n",
      "[nltk_data]   Package stopwords is already up-to-date!\n"
     ]
    },
    {
     "data": {
      "text/plain": [
       "True"
      ]
     },
     "execution_count": 5,
     "metadata": {},
     "output_type": "execute_result"
    }
   ],
   "source": [
    "nltk.download('stopwords')"
   ]
  },
  {
   "cell_type": "markdown",
   "metadata": {},
   "source": [
    "## Preprocessing data"
   ]
  },
  {
   "cell_type": "code",
   "execution_count": 6,
   "metadata": {},
   "outputs": [],
   "source": [
    "start = time.time()"
   ]
  },
  {
   "cell_type": "code",
   "execution_count": 7,
   "metadata": {},
   "outputs": [],
   "source": [
    "# one_drive_path = \"C:/Users/cfowle/The Estée Lauder Companies Inc/TeamAnis - General/\"\n",
    "one_drive_path = \"C:/Users/asaid/The Estée Lauder Companies Inc/TeamAnis - General/\""
   ]
  },
  {
   "cell_type": "code",
   "execution_count": 8,
   "metadata": {},
   "outputs": [],
   "source": [
    "# reviews = pd.read_pickle('reviews.pickle')\n",
    "\n",
    "# cols = ['type', 'onlinepost_id', 'source_product_identifier', 'onlinestatement_id',\n",
    "#        'date', 'title', 'description', 'geography', 'channel', 'product_id',\n",
    "#        'rating', 'sentiment']\n",
    "# reviews = reviews[cols]\n",
    "\n",
    "# reviews.loc[reviews['type']=='Cosmetics','type']='temps'\n",
    "# reviews.loc[reviews['type']=='Skincare','type']='Cosmetics'\n",
    "# reviews.loc[reviews['type']=='temps','type']='Skincare'\n",
    "\n",
    "# reviews = reviews[reviews['geography']=='USA']\n",
    "# reviews.drop(columns=['geography'], inplace=True)\n",
    "\n",
    "# reviews.to_pickle('reviews_filtered.pickle')"
   ]
  },
  {
   "cell_type": "code",
   "execution_count": 9,
   "metadata": {},
   "outputs": [],
   "source": [
    "# reviews = pd.read_pickle('reviews_filtered.pickle')"
   ]
  },
  {
   "cell_type": "code",
   "execution_count": 10,
   "metadata": {},
   "outputs": [],
   "source": [
    "# # Creating date columns in the right dtype and dropping the day of the month: 2019-02-24 => 2019-02-01\n",
    "# reviews.loc[:,'clean_date'] = pd.to_datetime(reviews['date'], errors='coerce')\n",
    "# if reviews['clean_date'].isna().sum() > 0:\n",
    "#     print('{} rows have been dropped because the date format is wrong.'.format(reviews['clean_date'].isna().sum()))\n",
    "#     display(reviews.loc[reviews['clean_date'].isna(), 'date'])\n",
    "#     reviews = reviews.dropna(subset='date')\n",
    "# reviews['date'] = reviews['clean_date']  \n",
    "# reviews = reviews.drop('clean_date', axis=1)\n",
    "# reviews['date'] = reviews['date'].dt.to_period('m')\n",
    "\n",
    "# # Checking for missing data (NA => -1)\n",
    "# if reviews['rating'].isna().sum()>0:\n",
    "#     print('{} rows are missing ratings'.format(reviews['rating'].isna().sum()))\n",
    "#     reviews.loc[:,'rating'] = reviews['rating'].fillna(-1).astype(int)\n",
    "\n",
    "# if reviews['sentiment'].isna().sum()>0:\n",
    "#     print('{} rows are missing sentiments'.format(reviews['sentiment'].isna().sum()))\n",
    "#     reviews.loc[:,'sentiment'] = reviews['sentiment'].fillna(-1).astype(int)\n",
    "    \n",
    "# # Transforming rating and sentiment to dummy variables (one-hot encoding)\n",
    "# reviews.loc[:,'sentiment'] = reviews['sentiment'].str.lower()\n",
    "# reviews.loc[:,'rating'] = reviews['rating'].astype(int)\n",
    "# reviews = pd.concat([reviews, pd.get_dummies(data=reviews[['rating','sentiment']], columns=['rating','sentiment'], dtype=int)], axis=1)\n",
    "\n",
    "# # Readding NAs data to ratings\n",
    "# reviews.loc[reviews['rating']==-1,'rating'] = np.nan\n",
    "# reviews.loc[reviews['sentiment']==-1,'sentiment'] = np.nan\n",
    "\n",
    "# # Transforming sentiment to integer data (positive:1; netural:0, negative:-1)\n",
    "# reviews.loc[:,'sentiment'] = reviews['sentiment_positive'] - reviews['sentiment_negative']\n",
    "\n",
    "# # Aggregating RR data by OnlinePost_ID\n",
    "\n",
    "# # Creating a column to count the number of statements by review once aggreagtion happens\n",
    "# reviews['nb_statements'] = reviews['sentiment']\n",
    "\n",
    "# reviews = reviews.groupby(['type',\n",
    "#                            'channel',\n",
    "#                            'source_product_identifier',  \n",
    "#                            'date',\n",
    "#                            'onlinepost_id']).agg({\n",
    "#     'description': lambda x:'. '.join(list(x)),\n",
    "#     'nb_statements':'count',\n",
    "#     'rating':'first',\n",
    "#     'rating_1':'first',\n",
    "#     'rating_2':'first',\n",
    "#     'rating_3':'first',\n",
    "#     'rating_4':'first',\n",
    "#     'rating_5':'first',\n",
    "#     'sentiment_negative':'sum',\n",
    "#     'sentiment_neutral':'sum',\n",
    "#     'sentiment_positive':'sum',\n",
    "#     'sentiment':'mean'\n",
    "# }).reset_index()\n",
    "\n",
    "# # Normalize the one hot sentiment encoding counts (sentiment_negative, sentiment_neutral, sentiment_positive) by the nb_statement.\n",
    "# reviews[['sentiment_negative', 'sentiment_neutral', 'sentiment_positive']] = reviews[['sentiment_negative', 'sentiment_neutral', 'sentiment_positive']].div(reviews['nb_statements'], axis=0)\n",
    "\n",
    "# reviews.to_pickle('reviews_wrangled.pickle')"
   ]
  },
  {
   "cell_type": "code",
   "execution_count": 11,
   "metadata": {},
   "outputs": [],
   "source": [
    "reviews = pd.read_pickle('reviews_wrangled.pickle')"
   ]
  },
  {
   "cell_type": "code",
   "execution_count": 12,
   "metadata": {},
   "outputs": [],
   "source": [
    "# Adding product related words to the stop words\n",
    "stop_words = stopwords.words('english')\n",
    "stop_words.extend(['from'])\n",
    "\n",
    "brands = pd.read_csv('elc_brands.csv', encoding='ISO-8859-1')\n",
    "catalogue = pd.read_csv('elc_catalogue.csv', encoding='ISO-8859-1')\n",
    "\n",
    "stop_words.extend(list(set(str(w).lower() for w in ' '.join(brands['ELC_Brand'].unique().tolist() +\n",
    "                                          catalogue['Major_Category'].unique().tolist() +\n",
    "                                          catalogue['Application'].unique().tolist() +\n",
    "                                          catalogue['Category'].unique().tolist() +\n",
    "                                          catalogue['SubCategory'].unique().tolist() \n",
    "                                         ).replace('/', ' ').split())))\n",
    "\n",
    "# Initialize spacy 'en' model, keeping only tagger component (for efficiency)\n",
    "nlp = spacy.load(\"en_core_web_sm\", disable=['parser', 'ner'])\n",
    "stop_words_nlp = nlp(' '.join([' '.join(gensim.utils.simple_preprocess(str(word), deacc=True)) for word in stop_words]))\n",
    "stop_words = [token.lemma_ for token in stop_words_nlp]\n",
    "\n",
    "\n",
    "# Cache stop_words into hash\n",
    "stop_words = Counter(stop_words)\n",
    "\n",
    "\n",
    "def preprocess(sentences, stop_words, allowed_postags=['NOUN', 'ADJ', 'VERB', 'ADV']):\n",
    "    for sentence in sentences:\n",
    "        doc = nlp(' '.join([token for token in gensim.utils.simple_preprocess(str(sentence), deacc=True)]) )\n",
    "        yield([token.lemma_ for token in doc if (token.pos_ in allowed_postags) and (not (token.lemma_ in stop_words))])"
   ]
  },
  {
   "cell_type": "code",
   "execution_count": 13,
   "metadata": {},
   "outputs": [
    {
     "data": {
      "text/plain": [
       "True"
      ]
     },
     "execution_count": 13,
     "metadata": {},
     "output_type": "execute_result"
    }
   ],
   "source": [
    "'lipstick' in stop_words"
   ]
  },
  {
   "cell_type": "code",
   "execution_count": 14,
   "metadata": {},
   "outputs": [
    {
     "name": "stderr",
     "output_type": "stream",
     "text": [
      "100%|█████████████████████████████████████████████████████████████████████| 4636608/4636608 [4:21:43<00:00, 295.26it/s]\n"
     ]
    }
   ],
   "source": [
    "reviews['tokens'] = list(tqdm.tqdm(preprocess(reviews['description'].values.tolist(), stop_words), position=0, leave=True, total=len(reviews)))"
   ]
  },
  {
   "cell_type": "code",
   "execution_count": 15,
   "metadata": {},
   "outputs": [],
   "source": [
    "reviews.to_pickle('reviews_wrangled_w_tokens.pickle')"
   ]
  },
  {
   "cell_type": "code",
   "execution_count": 16,
   "metadata": {},
   "outputs": [],
   "source": [
    "reviews = pd.read_pickle('reviews_wrangled_w_tokens.pickle')"
   ]
  },
  {
   "cell_type": "code",
   "execution_count": 17,
   "metadata": {},
   "outputs": [],
   "source": [
    "rp = pd.read_csv('reviews_products.csv', low_memory=False)\n",
    "products = rp[['type', 'channel', 'source_product_identifier', 'product', 'brand_abbrev', 'elc_brand',\n",
    "       'brand_score', 'item_description', 'product_score', 'itemid_4',\n",
    "       'major_category_id', 'major_category', 'application_id', 'application',\n",
    "       'category_id', 'category', 'sub_category_id', 'sub_category']].drop_duplicates()\n",
    "products = products.dropna(subset=['elc_brand'], axis=0)"
   ]
  },
  {
   "cell_type": "code",
   "execution_count": 18,
   "metadata": {},
   "outputs": [],
   "source": [
    "reviews  = reviews.merge(products, left_on=['type', 'channel', 'source_product_identifier'], right_on=['type', 'channel', 'source_product_identifier'], how='inner')"
   ]
  },
  {
   "cell_type": "code",
   "execution_count": 19,
   "metadata": {},
   "outputs": [],
   "source": [
    "reviews.to_pickle('reviews_products.pickle')"
   ]
  },
  {
   "cell_type": "code",
   "execution_count": 20,
   "metadata": {},
   "outputs": [],
   "source": [
    "# reviews = pd.read_pickle('reviews_products.pickle')"
   ]
  },
  {
   "cell_type": "code",
   "execution_count": 21,
   "metadata": {},
   "outputs": [
    {
     "data": {
      "text/html": [
       "<div>\n",
       "<style scoped>\n",
       "    .dataframe tbody tr th:only-of-type {\n",
       "        vertical-align: middle;\n",
       "    }\n",
       "\n",
       "    .dataframe tbody tr th {\n",
       "        vertical-align: top;\n",
       "    }\n",
       "\n",
       "    .dataframe thead th {\n",
       "        text-align: right;\n",
       "    }\n",
       "</style>\n",
       "<table border=\"1\" class=\"dataframe\">\n",
       "  <thead>\n",
       "    <tr style=\"text-align: right;\">\n",
       "      <th></th>\n",
       "      <th>type</th>\n",
       "      <th>channel</th>\n",
       "      <th>source_product_identifier</th>\n",
       "      <th>date</th>\n",
       "      <th>onlinepost_id</th>\n",
       "      <th>description</th>\n",
       "      <th>nb_statements</th>\n",
       "      <th>rating</th>\n",
       "      <th>rating_1</th>\n",
       "      <th>rating_2</th>\n",
       "      <th>rating_3</th>\n",
       "      <th>rating_4</th>\n",
       "      <th>rating_5</th>\n",
       "      <th>sentiment_negative</th>\n",
       "      <th>sentiment_neutral</th>\n",
       "      <th>sentiment_positive</th>\n",
       "      <th>sentiment</th>\n",
       "      <th>tokens</th>\n",
       "      <th>product</th>\n",
       "      <th>brand_abbrev</th>\n",
       "      <th>elc_brand</th>\n",
       "      <th>brand_score</th>\n",
       "      <th>item_description</th>\n",
       "      <th>product_score</th>\n",
       "      <th>itemid_4</th>\n",
       "      <th>major_category_id</th>\n",
       "      <th>major_category</th>\n",
       "      <th>application_id</th>\n",
       "      <th>application</th>\n",
       "      <th>category_id</th>\n",
       "      <th>category</th>\n",
       "      <th>sub_category_id</th>\n",
       "      <th>sub_category</th>\n",
       "    </tr>\n",
       "  </thead>\n",
       "  <tbody>\n",
       "    <tr>\n",
       "      <th>0</th>\n",
       "      <td>Skincare</td>\n",
       "      <td>Amazon USA</td>\n",
       "      <td>B00015GYC2</td>\n",
       "      <td>2015-03</td>\n",
       "      <td>OnlinePost_20200301_24654a95-b252-4dee-8dfa-77...</td>\n",
       "      <td>This was very disappointing.. When I received ...</td>\n",
       "      <td>4</td>\n",
       "      <td>1.0</td>\n",
       "      <td>1</td>\n",
       "      <td>0</td>\n",
       "      <td>0</td>\n",
       "      <td>0</td>\n",
       "      <td>0</td>\n",
       "      <td>0.5</td>\n",
       "      <td>0.500000</td>\n",
       "      <td>0.000000</td>\n",
       "      <td>-0.500000</td>\n",
       "      <td>[disappointing, receive, cleansing, use, night...</td>\n",
       "      <td>La Mer Cleansing Gel 6.7 oz / 200 ml</td>\n",
       "      <td>CM</td>\n",
       "      <td>La Mer</td>\n",
       "      <td>1.0</td>\n",
       "      <td>THE CLEANSING GEL</td>\n",
       "      <td>0.731931</td>\n",
       "      <td>51T0</td>\n",
       "      <td>520.0</td>\n",
       "      <td>Skincare</td>\n",
       "      <td>25</td>\n",
       "      <td>Face</td>\n",
       "      <td>34</td>\n",
       "      <td>Cleansers (Incl Soap</td>\n",
       "      <td>Z5</td>\n",
       "      <td>All Cleansers (Incl</td>\n",
       "    </tr>\n",
       "    <tr>\n",
       "      <th>1</th>\n",
       "      <td>Skincare</td>\n",
       "      <td>Amazon USA</td>\n",
       "      <td>B00015GYC2</td>\n",
       "      <td>2017-01</td>\n",
       "      <td>OnlinePost_20200301_84729e90-665d-4108-8ca5-0b...</td>\n",
       "      <td>I have tried many face washes- this is the bes...</td>\n",
       "      <td>2</td>\n",
       "      <td>5.0</td>\n",
       "      <td>0</td>\n",
       "      <td>0</td>\n",
       "      <td>0</td>\n",
       "      <td>0</td>\n",
       "      <td>1</td>\n",
       "      <td>0.0</td>\n",
       "      <td>0.000000</td>\n",
       "      <td>1.000000</td>\n",
       "      <td>1.000000</td>\n",
       "      <td>[try, many, good, get, dirt, soft]</td>\n",
       "      <td>La Mer Cleansing Gel 6.7 oz / 200 ml</td>\n",
       "      <td>CM</td>\n",
       "      <td>La Mer</td>\n",
       "      <td>1.0</td>\n",
       "      <td>THE CLEANSING GEL</td>\n",
       "      <td>0.731931</td>\n",
       "      <td>51T0</td>\n",
       "      <td>520.0</td>\n",
       "      <td>Skincare</td>\n",
       "      <td>25</td>\n",
       "      <td>Face</td>\n",
       "      <td>34</td>\n",
       "      <td>Cleansers (Incl Soap</td>\n",
       "      <td>Z5</td>\n",
       "      <td>All Cleansers (Incl</td>\n",
       "    </tr>\n",
       "    <tr>\n",
       "      <th>2</th>\n",
       "      <td>Skincare</td>\n",
       "      <td>Amazon USA</td>\n",
       "      <td>B00015GYC2</td>\n",
       "      <td>2017-12</td>\n",
       "      <td>OnlinePost_20200301_9c216502-fba9-48a8-95cb-3b...</td>\n",
       "      <td>Fast service.. could find it from my usual ven...</td>\n",
       "      <td>3</td>\n",
       "      <td>5.0</td>\n",
       "      <td>0</td>\n",
       "      <td>0</td>\n",
       "      <td>0</td>\n",
       "      <td>0</td>\n",
       "      <td>1</td>\n",
       "      <td>0.0</td>\n",
       "      <td>0.000000</td>\n",
       "      <td>1.000000</td>\n",
       "      <td>1.000000</td>\n",
       "      <td>[fast, could, find, usual, vendor, one, fast, ...</td>\n",
       "      <td>La Mer Cleansing Gel 6.7 oz / 200 ml</td>\n",
       "      <td>CM</td>\n",
       "      <td>La Mer</td>\n",
       "      <td>1.0</td>\n",
       "      <td>THE CLEANSING GEL</td>\n",
       "      <td>0.731931</td>\n",
       "      <td>51T0</td>\n",
       "      <td>520.0</td>\n",
       "      <td>Skincare</td>\n",
       "      <td>25</td>\n",
       "      <td>Face</td>\n",
       "      <td>34</td>\n",
       "      <td>Cleansers (Incl Soap</td>\n",
       "      <td>Z5</td>\n",
       "      <td>All Cleansers (Incl</td>\n",
       "    </tr>\n",
       "    <tr>\n",
       "      <th>3</th>\n",
       "      <td>Skincare</td>\n",
       "      <td>Amazon USA</td>\n",
       "      <td>B00015GYC2</td>\n",
       "      <td>2018-01</td>\n",
       "      <td>OnlinePost_20200301_01d7a936-32dd-454d-b4ef-ab...</td>\n",
       "      <td>Five Stars.. great great product.</td>\n",
       "      <td>2</td>\n",
       "      <td>5.0</td>\n",
       "      <td>0</td>\n",
       "      <td>0</td>\n",
       "      <td>0</td>\n",
       "      <td>0</td>\n",
       "      <td>1</td>\n",
       "      <td>0.0</td>\n",
       "      <td>0.000000</td>\n",
       "      <td>1.000000</td>\n",
       "      <td>1.000000</td>\n",
       "      <td>[star, great, great]</td>\n",
       "      <td>La Mer Cleansing Gel 6.7 oz / 200 ml</td>\n",
       "      <td>CM</td>\n",
       "      <td>La Mer</td>\n",
       "      <td>1.0</td>\n",
       "      <td>THE CLEANSING GEL</td>\n",
       "      <td>0.731931</td>\n",
       "      <td>51T0</td>\n",
       "      <td>520.0</td>\n",
       "      <td>Skincare</td>\n",
       "      <td>25</td>\n",
       "      <td>Face</td>\n",
       "      <td>34</td>\n",
       "      <td>Cleansers (Incl Soap</td>\n",
       "      <td>Z5</td>\n",
       "      <td>All Cleansers (Incl</td>\n",
       "    </tr>\n",
       "    <tr>\n",
       "      <th>4</th>\n",
       "      <td>Skincare</td>\n",
       "      <td>Amazon USA</td>\n",
       "      <td>B00015GYC2</td>\n",
       "      <td>2018-07</td>\n",
       "      <td>OnlinePost_20200301_53a09274-200c-47dc-9cca-52...</td>\n",
       "      <td>Order from La Mer only.. Can't go wrong with L...</td>\n",
       "      <td>3</td>\n",
       "      <td>4.0</td>\n",
       "      <td>0</td>\n",
       "      <td>0</td>\n",
       "      <td>0</td>\n",
       "      <td>1</td>\n",
       "      <td>0</td>\n",
       "      <td>0.0</td>\n",
       "      <td>0.666667</td>\n",
       "      <td>0.333333</td>\n",
       "      <td>0.333333</td>\n",
       "      <td>[order, go, wrong, order, site]</td>\n",
       "      <td>La Mer Cleansing Gel 6.7 oz / 200 ml</td>\n",
       "      <td>CM</td>\n",
       "      <td>La Mer</td>\n",
       "      <td>1.0</td>\n",
       "      <td>THE CLEANSING GEL</td>\n",
       "      <td>0.731931</td>\n",
       "      <td>51T0</td>\n",
       "      <td>520.0</td>\n",
       "      <td>Skincare</td>\n",
       "      <td>25</td>\n",
       "      <td>Face</td>\n",
       "      <td>34</td>\n",
       "      <td>Cleansers (Incl Soap</td>\n",
       "      <td>Z5</td>\n",
       "      <td>All Cleansers (Incl</td>\n",
       "    </tr>\n",
       "    <tr>\n",
       "      <th>...</th>\n",
       "      <td>...</td>\n",
       "      <td>...</td>\n",
       "      <td>...</td>\n",
       "      <td>...</td>\n",
       "      <td>...</td>\n",
       "      <td>...</td>\n",
       "      <td>...</td>\n",
       "      <td>...</td>\n",
       "      <td>...</td>\n",
       "      <td>...</td>\n",
       "      <td>...</td>\n",
       "      <td>...</td>\n",
       "      <td>...</td>\n",
       "      <td>...</td>\n",
       "      <td>...</td>\n",
       "      <td>...</td>\n",
       "      <td>...</td>\n",
       "      <td>...</td>\n",
       "      <td>...</td>\n",
       "      <td>...</td>\n",
       "      <td>...</td>\n",
       "      <td>...</td>\n",
       "      <td>...</td>\n",
       "      <td>...</td>\n",
       "      <td>...</td>\n",
       "      <td>...</td>\n",
       "      <td>...</td>\n",
       "      <td>...</td>\n",
       "      <td>...</td>\n",
       "      <td>...</td>\n",
       "      <td>...</td>\n",
       "      <td>...</td>\n",
       "      <td>...</td>\n",
       "    </tr>\n",
       "    <tr>\n",
       "      <th>388052</th>\n",
       "      <td>Cosmetics</td>\n",
       "      <td>Ulta</td>\n",
       "      <td>xlsImpprod6490080</td>\n",
       "      <td>2019-06</td>\n",
       "      <td>OnlinePost_20191027_184332048</td>\n",
       "      <td>Maybe I got an old one but this thing was awfu...</td>\n",
       "      <td>6</td>\n",
       "      <td>1.0</td>\n",
       "      <td>1</td>\n",
       "      <td>0</td>\n",
       "      <td>0</td>\n",
       "      <td>0</td>\n",
       "      <td>0</td>\n",
       "      <td>0.5</td>\n",
       "      <td>0.166667</td>\n",
       "      <td>0.333333</td>\n",
       "      <td>-0.166667</td>\n",
       "      <td>[maybe, get, old, thing, awful, bad, batch, pa...</td>\n",
       "      <td>Photo Finish 24-Hour Shadow Primer</td>\n",
       "      <td>SX</td>\n",
       "      <td>Smashbox</td>\n",
       "      <td>1.0</td>\n",
       "      <td>PHOTO FNSH 24 HR SHADOW PRIMER</td>\n",
       "      <td>0.896071</td>\n",
       "      <td>C1JJ</td>\n",
       "      <td>510.0</td>\n",
       "      <td>Makeup</td>\n",
       "      <td>15</td>\n",
       "      <td>Eyes</td>\n",
       "      <td>2A</td>\n",
       "      <td>Eye Makeup Primer</td>\n",
       "      <td>MB</td>\n",
       "      <td>All Eye Makeup Prime</td>\n",
       "    </tr>\n",
       "    <tr>\n",
       "      <th>388053</th>\n",
       "      <td>Cosmetics</td>\n",
       "      <td>Ulta</td>\n",
       "      <td>xlsImpprod6490080</td>\n",
       "      <td>2019-06</td>\n",
       "      <td>OnlinePost_20191027_185330102</td>\n",
       "      <td>Love most Smashbox products and used the origi...</td>\n",
       "      <td>5</td>\n",
       "      <td>1.0</td>\n",
       "      <td>1</td>\n",
       "      <td>0</td>\n",
       "      <td>0</td>\n",
       "      <td>0</td>\n",
       "      <td>0</td>\n",
       "      <td>0.2</td>\n",
       "      <td>0.400000</td>\n",
       "      <td>0.400000</td>\n",
       "      <td>0.200000</td>\n",
       "      <td>[love, use, original, year, disappoint, disapp...</td>\n",
       "      <td>Photo Finish 24-Hour Shadow Primer</td>\n",
       "      <td>SX</td>\n",
       "      <td>Smashbox</td>\n",
       "      <td>1.0</td>\n",
       "      <td>PHOTO FNSH 24 HR SHADOW PRIMER</td>\n",
       "      <td>0.896071</td>\n",
       "      <td>C1JJ</td>\n",
       "      <td>510.0</td>\n",
       "      <td>Makeup</td>\n",
       "      <td>15</td>\n",
       "      <td>Eyes</td>\n",
       "      <td>2A</td>\n",
       "      <td>Eye Makeup Primer</td>\n",
       "      <td>MB</td>\n",
       "      <td>All Eye Makeup Prime</td>\n",
       "    </tr>\n",
       "    <tr>\n",
       "      <th>388054</th>\n",
       "      <td>Cosmetics</td>\n",
       "      <td>Ulta</td>\n",
       "      <td>xlsImpprod6490080</td>\n",
       "      <td>2019-07</td>\n",
       "      <td>OnlinePost_20191027_184010998</td>\n",
       "      <td>The Best Primer.. this is literally the best p...</td>\n",
       "      <td>3</td>\n",
       "      <td>5.0</td>\n",
       "      <td>0</td>\n",
       "      <td>0</td>\n",
       "      <td>0</td>\n",
       "      <td>0</td>\n",
       "      <td>1</td>\n",
       "      <td>0.0</td>\n",
       "      <td>0.000000</td>\n",
       "      <td>1.000000</td>\n",
       "      <td>1.000000</td>\n",
       "      <td>[good, literally, good, ever, use, use, else, ...</td>\n",
       "      <td>Photo Finish 24-Hour Shadow Primer</td>\n",
       "      <td>SX</td>\n",
       "      <td>Smashbox</td>\n",
       "      <td>1.0</td>\n",
       "      <td>PHOTO FNSH 24 HR SHADOW PRIMER</td>\n",
       "      <td>0.896071</td>\n",
       "      <td>C1JJ</td>\n",
       "      <td>510.0</td>\n",
       "      <td>Makeup</td>\n",
       "      <td>15</td>\n",
       "      <td>Eyes</td>\n",
       "      <td>2A</td>\n",
       "      <td>Eye Makeup Primer</td>\n",
       "      <td>MB</td>\n",
       "      <td>All Eye Makeup Prime</td>\n",
       "    </tr>\n",
       "    <tr>\n",
       "      <th>388055</th>\n",
       "      <td>Cosmetics</td>\n",
       "      <td>Ulta</td>\n",
       "      <td>xlsImpprod6490080</td>\n",
       "      <td>2019-07</td>\n",
       "      <td>OnlinePost_20191027_184176048</td>\n",
       "      <td>I didn't wear it for 24 hours but my eyeshadow...</td>\n",
       "      <td>2</td>\n",
       "      <td>5.0</td>\n",
       "      <td>0</td>\n",
       "      <td>0</td>\n",
       "      <td>0</td>\n",
       "      <td>0</td>\n",
       "      <td>1</td>\n",
       "      <td>0.0</td>\n",
       "      <td>0.000000</td>\n",
       "      <td>1.000000</td>\n",
       "      <td>1.000000</td>\n",
       "      <td>[wear, hour, crease, stay, entire, time, exact...</td>\n",
       "      <td>Photo Finish 24-Hour Shadow Primer</td>\n",
       "      <td>SX</td>\n",
       "      <td>Smashbox</td>\n",
       "      <td>1.0</td>\n",
       "      <td>PHOTO FNSH 24 HR SHADOW PRIMER</td>\n",
       "      <td>0.896071</td>\n",
       "      <td>C1JJ</td>\n",
       "      <td>510.0</td>\n",
       "      <td>Makeup</td>\n",
       "      <td>15</td>\n",
       "      <td>Eyes</td>\n",
       "      <td>2A</td>\n",
       "      <td>Eye Makeup Primer</td>\n",
       "      <td>MB</td>\n",
       "      <td>All Eye Makeup Prime</td>\n",
       "    </tr>\n",
       "    <tr>\n",
       "      <th>388056</th>\n",
       "      <td>Cosmetics</td>\n",
       "      <td>Ulta</td>\n",
       "      <td>xlsImpprod6490080</td>\n",
       "      <td>2019-07</td>\n",
       "      <td>OnlinePost_20191027_185269828</td>\n",
       "      <td>Really helps shadows last!. The best!. Great p...</td>\n",
       "      <td>3</td>\n",
       "      <td>5.0</td>\n",
       "      <td>0</td>\n",
       "      <td>0</td>\n",
       "      <td>0</td>\n",
       "      <td>0</td>\n",
       "      <td>1</td>\n",
       "      <td>0.0</td>\n",
       "      <td>0.000000</td>\n",
       "      <td>1.000000</td>\n",
       "      <td>1.000000</td>\n",
       "      <td>[really, help, shadow, last, good, great]</td>\n",
       "      <td>Photo Finish 24-Hour Shadow Primer</td>\n",
       "      <td>SX</td>\n",
       "      <td>Smashbox</td>\n",
       "      <td>1.0</td>\n",
       "      <td>PHOTO FNSH 24 HR SHADOW PRIMER</td>\n",
       "      <td>0.896071</td>\n",
       "      <td>C1JJ</td>\n",
       "      <td>510.0</td>\n",
       "      <td>Makeup</td>\n",
       "      <td>15</td>\n",
       "      <td>Eyes</td>\n",
       "      <td>2A</td>\n",
       "      <td>Eye Makeup Primer</td>\n",
       "      <td>MB</td>\n",
       "      <td>All Eye Makeup Prime</td>\n",
       "    </tr>\n",
       "  </tbody>\n",
       "</table>\n",
       "<p>388057 rows × 33 columns</p>\n",
       "</div>"
      ],
      "text/plain": [
       "             type     channel source_product_identifier     date  \\\n",
       "0        Skincare  Amazon USA                B00015GYC2  2015-03   \n",
       "1        Skincare  Amazon USA                B00015GYC2  2017-01   \n",
       "2        Skincare  Amazon USA                B00015GYC2  2017-12   \n",
       "3        Skincare  Amazon USA                B00015GYC2  2018-01   \n",
       "4        Skincare  Amazon USA                B00015GYC2  2018-07   \n",
       "...           ...         ...                       ...      ...   \n",
       "388052  Cosmetics        Ulta         xlsImpprod6490080  2019-06   \n",
       "388053  Cosmetics        Ulta         xlsImpprod6490080  2019-06   \n",
       "388054  Cosmetics        Ulta         xlsImpprod6490080  2019-07   \n",
       "388055  Cosmetics        Ulta         xlsImpprod6490080  2019-07   \n",
       "388056  Cosmetics        Ulta         xlsImpprod6490080  2019-07   \n",
       "\n",
       "                                            onlinepost_id  \\\n",
       "0       OnlinePost_20200301_24654a95-b252-4dee-8dfa-77...   \n",
       "1       OnlinePost_20200301_84729e90-665d-4108-8ca5-0b...   \n",
       "2       OnlinePost_20200301_9c216502-fba9-48a8-95cb-3b...   \n",
       "3       OnlinePost_20200301_01d7a936-32dd-454d-b4ef-ab...   \n",
       "4       OnlinePost_20200301_53a09274-200c-47dc-9cca-52...   \n",
       "...                                                   ...   \n",
       "388052                      OnlinePost_20191027_184332048   \n",
       "388053                      OnlinePost_20191027_185330102   \n",
       "388054                      OnlinePost_20191027_184010998   \n",
       "388055                      OnlinePost_20191027_184176048   \n",
       "388056                      OnlinePost_20191027_185269828   \n",
       "\n",
       "                                              description  nb_statements  \\\n",
       "0       This was very disappointing.. When I received ...              4   \n",
       "1       I have tried many face washes- this is the bes...              2   \n",
       "2       Fast service.. could find it from my usual ven...              3   \n",
       "3                       Five Stars.. great great product.              2   \n",
       "4       Order from La Mer only.. Can't go wrong with L...              3   \n",
       "...                                                   ...            ...   \n",
       "388052  Maybe I got an old one but this thing was awfu...              6   \n",
       "388053  Love most Smashbox products and used the origi...              5   \n",
       "388054  The Best Primer.. this is literally the best p...              3   \n",
       "388055  I didn't wear it for 24 hours but my eyeshadow...              2   \n",
       "388056  Really helps shadows last!. The best!. Great p...              3   \n",
       "\n",
       "        rating  rating_1  rating_2  rating_3  rating_4  rating_5  \\\n",
       "0          1.0         1         0         0         0         0   \n",
       "1          5.0         0         0         0         0         1   \n",
       "2          5.0         0         0         0         0         1   \n",
       "3          5.0         0         0         0         0         1   \n",
       "4          4.0         0         0         0         1         0   \n",
       "...        ...       ...       ...       ...       ...       ...   \n",
       "388052     1.0         1         0         0         0         0   \n",
       "388053     1.0         1         0         0         0         0   \n",
       "388054     5.0         0         0         0         0         1   \n",
       "388055     5.0         0         0         0         0         1   \n",
       "388056     5.0         0         0         0         0         1   \n",
       "\n",
       "        sentiment_negative  sentiment_neutral  sentiment_positive  sentiment  \\\n",
       "0                      0.5           0.500000            0.000000  -0.500000   \n",
       "1                      0.0           0.000000            1.000000   1.000000   \n",
       "2                      0.0           0.000000            1.000000   1.000000   \n",
       "3                      0.0           0.000000            1.000000   1.000000   \n",
       "4                      0.0           0.666667            0.333333   0.333333   \n",
       "...                    ...                ...                 ...        ...   \n",
       "388052                 0.5           0.166667            0.333333  -0.166667   \n",
       "388053                 0.2           0.400000            0.400000   0.200000   \n",
       "388054                 0.0           0.000000            1.000000   1.000000   \n",
       "388055                 0.0           0.000000            1.000000   1.000000   \n",
       "388056                 0.0           0.000000            1.000000   1.000000   \n",
       "\n",
       "                                                   tokens  \\\n",
       "0       [disappointing, receive, cleansing, use, night...   \n",
       "1                      [try, many, good, get, dirt, soft]   \n",
       "2       [fast, could, find, usual, vendor, one, fast, ...   \n",
       "3                                    [star, great, great]   \n",
       "4                         [order, go, wrong, order, site]   \n",
       "...                                                   ...   \n",
       "388052  [maybe, get, old, thing, awful, bad, batch, pa...   \n",
       "388053  [love, use, original, year, disappoint, disapp...   \n",
       "388054  [good, literally, good, ever, use, use, else, ...   \n",
       "388055  [wear, hour, crease, stay, entire, time, exact...   \n",
       "388056          [really, help, shadow, last, good, great]   \n",
       "\n",
       "                                     product brand_abbrev elc_brand  \\\n",
       "0       La Mer Cleansing Gel 6.7 oz / 200 ml           CM    La Mer   \n",
       "1       La Mer Cleansing Gel 6.7 oz / 200 ml           CM    La Mer   \n",
       "2       La Mer Cleansing Gel 6.7 oz / 200 ml           CM    La Mer   \n",
       "3       La Mer Cleansing Gel 6.7 oz / 200 ml           CM    La Mer   \n",
       "4       La Mer Cleansing Gel 6.7 oz / 200 ml           CM    La Mer   \n",
       "...                                      ...          ...       ...   \n",
       "388052    Photo Finish 24-Hour Shadow Primer           SX  Smashbox   \n",
       "388053    Photo Finish 24-Hour Shadow Primer           SX  Smashbox   \n",
       "388054    Photo Finish 24-Hour Shadow Primer           SX  Smashbox   \n",
       "388055    Photo Finish 24-Hour Shadow Primer           SX  Smashbox   \n",
       "388056    Photo Finish 24-Hour Shadow Primer           SX  Smashbox   \n",
       "\n",
       "        brand_score                item_description  product_score itemid_4  \\\n",
       "0               1.0               THE CLEANSING GEL       0.731931     51T0   \n",
       "1               1.0               THE CLEANSING GEL       0.731931     51T0   \n",
       "2               1.0               THE CLEANSING GEL       0.731931     51T0   \n",
       "3               1.0               THE CLEANSING GEL       0.731931     51T0   \n",
       "4               1.0               THE CLEANSING GEL       0.731931     51T0   \n",
       "...             ...                             ...            ...      ...   \n",
       "388052          1.0  PHOTO FNSH 24 HR SHADOW PRIMER       0.896071     C1JJ   \n",
       "388053          1.0  PHOTO FNSH 24 HR SHADOW PRIMER       0.896071     C1JJ   \n",
       "388054          1.0  PHOTO FNSH 24 HR SHADOW PRIMER       0.896071     C1JJ   \n",
       "388055          1.0  PHOTO FNSH 24 HR SHADOW PRIMER       0.896071     C1JJ   \n",
       "388056          1.0  PHOTO FNSH 24 HR SHADOW PRIMER       0.896071     C1JJ   \n",
       "\n",
       "        major_category_id major_category application_id application  \\\n",
       "0                   520.0       Skincare             25        Face   \n",
       "1                   520.0       Skincare             25        Face   \n",
       "2                   520.0       Skincare             25        Face   \n",
       "3                   520.0       Skincare             25        Face   \n",
       "4                   520.0       Skincare             25        Face   \n",
       "...                   ...            ...            ...         ...   \n",
       "388052              510.0         Makeup             15        Eyes   \n",
       "388053              510.0         Makeup             15        Eyes   \n",
       "388054              510.0         Makeup             15        Eyes   \n",
       "388055              510.0         Makeup             15        Eyes   \n",
       "388056              510.0         Makeup             15        Eyes   \n",
       "\n",
       "       category_id              category sub_category_id          sub_category  \n",
       "0               34  Cleansers (Incl Soap              Z5   All Cleansers (Incl  \n",
       "1               34  Cleansers (Incl Soap              Z5   All Cleansers (Incl  \n",
       "2               34  Cleansers (Incl Soap              Z5   All Cleansers (Incl  \n",
       "3               34  Cleansers (Incl Soap              Z5   All Cleansers (Incl  \n",
       "4               34  Cleansers (Incl Soap              Z5   All Cleansers (Incl  \n",
       "...            ...                   ...             ...                   ...  \n",
       "388052          2A     Eye Makeup Primer              MB  All Eye Makeup Prime  \n",
       "388053          2A     Eye Makeup Primer              MB  All Eye Makeup Prime  \n",
       "388054          2A     Eye Makeup Primer              MB  All Eye Makeup Prime  \n",
       "388055          2A     Eye Makeup Primer              MB  All Eye Makeup Prime  \n",
       "388056          2A     Eye Makeup Primer              MB  All Eye Makeup Prime  \n",
       "\n",
       "[388057 rows x 33 columns]"
      ]
     },
     "execution_count": 21,
     "metadata": {},
     "output_type": "execute_result"
    }
   ],
   "source": [
    "reviews"
   ]
  },
  {
   "cell_type": "markdown",
   "metadata": {},
   "source": [
    "## Using class"
   ]
  },
  {
   "cell_type": "code",
   "execution_count": 22,
   "metadata": {},
   "outputs": [],
   "source": [
    "class TopicModeller():\n",
    "    def __init__(self, df, column):\n",
    "        self.df = df.reset_index(drop=True)\n",
    "        self.column = column\n",
    "        self.docs = df[column].values.tolist()\n",
    "    \n",
    "    def compute_coherence_values(self, corpus, id2word, text, k, a, b):\n",
    "\n",
    "        lda_model = gensim.models.LdaMulticore(corpus=corpus,\n",
    "                                               id2word=id2word,\n",
    "                                               num_topics=k, \n",
    "                                               random_state=3,\n",
    "                                               chunksize=100,\n",
    "                                               passes=10,\n",
    "                                               alpha=a,\n",
    "                                               eta=b)\n",
    "\n",
    "        coherence_model_lda = CoherenceModel(model=lda_model, texts=text, dictionary=id2word, coherence='c_v')\n",
    "\n",
    "        return coherence_model_lda.get_coherence()\n",
    "    \n",
    "    def train_valid_lda(self,\n",
    "                        nb_samples: int = 100000,\n",
    "                        topics_range: list = [3,5,7,9],\n",
    "                        alpha: list = [0.1, 0.01, 'symmetric','asymmetric'],\n",
    "                        beta: list = [0.1, 'symmetric']                        \n",
    "                        ):\n",
    "        \n",
    "        nb_samples = min(nb_samples, len(self.docs))\n",
    "        \n",
    "        # Training set\n",
    "        train = random.sample(self.docs, nb_samples)\n",
    "        \n",
    "        # Create Dictionary\n",
    "        self.id2word = corpora.Dictionary(train)\n",
    "        \n",
    "        # Term Document Frequency\n",
    "        self.corpus = [self.id2word.doc2bow(text) for text in train]\n",
    "        \n",
    "        # Result dictionary\n",
    "        self.model_results = {'Topics': [],\n",
    "                         'Alpha': [],\n",
    "                         'Beta': [],\n",
    "                         'Coherence': []\n",
    "                        }\n",
    "\n",
    "        # Can take a long time to run\n",
    "        print('Validating hyperparameters...')\n",
    "        if 1 == 1:\n",
    "            pbar = tqdm.tqdm(total=(len(beta)*(len(alpha))*len(topics_range)), position=0, leave=True)\n",
    "            # iterate through number of topics\n",
    "            for k in topics_range:\n",
    "                # iterate through alpha values\n",
    "                for a in alpha:\n",
    "                    # iterare through beta values\n",
    "                    for b in beta:\n",
    "                        # get the coherence score for the given parameters\n",
    "                        cv = self.compute_coherence_values(corpus=self.corpus, id2word=self.id2word, text=train,\n",
    "                                                      k=k, a=a, b=b)\n",
    "                        # Save the model results\n",
    "                        self.model_results['Topics'].append(k)\n",
    "                        self.model_results['Alpha'].append(a)\n",
    "                        self.model_results['Beta'].append(b)\n",
    "                        self.model_results['Coherence'].append(cv)\n",
    "                        print('nb topics: {}, alpha: {}, beta: {}, coherence: {}'.format(k,a,b,cv))\n",
    "                        pbar.update(1)\n",
    "        self.cv_results = pd.DataFrame(self.model_results).sort_values(\"Coherence\", ascending=False)\n",
    "        self.cv_results.to_csv('lda_tuning_results.csv', index=False)\n",
    "        pbar.close()\n",
    "        \n",
    "        self.best_param = self.cv_results.iloc[0]\n",
    "        self.best_num_topics = int(self.best_param['Topics'])\n",
    "        self.best_alpha = self.best_param['Alpha']\n",
    "        self.best_beta = self.best_param['Beta']\n",
    "        name = 'cv_best'\n",
    "        \n",
    "        # Build LDA model\n",
    "        print('Training best model...')\n",
    "        self.lda_model = gensim.models.LdaMulticore(corpus=self.corpus,\n",
    "                                                   id2word=self.id2word,\n",
    "                                                   num_topics=self.best_num_topics,\n",
    "                                                   alpha = self.best_alpha,\n",
    "                                                   eta = self.best_beta,\n",
    "                                                   random_state=3,\n",
    "                                                   chunksize=100,\n",
    "                                                   passes=10,\n",
    "                                                   per_word_topics=True)\n",
    "        print('Done.')\n",
    "        pyLDAvis.enable_notebook()\n",
    "        LDAvis_prepared = pyLDAvis.gensim.prepare(self.lda_model, self.corpus, self.id2word)\n",
    "        display(LDAvis_prepared)\n",
    "        pyLDAvis.save_html(LDAvis_prepared, name+'_'+str(self.best_alpha)+'_'+str(self.best_beta)+'_'+str(self.best_num_topics)+'.html')\n",
    "        self.lda_model.save(name+'_'+str(self.best_alpha)+'_'+str(self.best_beta)+'_'+str(self.best_num_topics))\n",
    "        pickle.dump(self.id2word, open( \"id2word_\"+name+'_'+str(self.best_alpha)+'_'+str(self.best_beta)+'_'+str(self.best_num_topics)+\".pickle\", \"wb\" ))\n",
    "        return self.lda_model, self.id2word\n",
    "        \n",
    "    def get_docs_topics(self):\n",
    "        # Term Document Frequency\n",
    "        corpus = [self.id2word.doc2bow(text) for text in self.docs]\n",
    "        self.output = pd.concat([self.df, pd.DataFrame(gensim.matutils.corpus2csc(self.lda_model.get_document_topics(corpus)).T.toarray(), columns=['topic_'+str(i) for i in range(1,self.best_num_topics+1)])], axis=1)\n",
    "        return self.output\n",
    "\n",
    "    def view(self):\n",
    "        pyLDAvis.enable_notebook()\n",
    "        self.LDAvis_prepared = pyLDAvis.gensim.prepare(self.lda_model, self.corpus, self.id2word)\n",
    "        display(LDAvis_prepared)"
   ]
  },
  {
   "cell_type": "code",
   "execution_count": 23,
   "metadata": {
    "scrolled": false
   },
   "outputs": [
    {
     "name": "stderr",
     "output_type": "stream",
     "text": [
      "\r",
      "  0%|                                                                                           | 0/32 [00:00<?, ?it/s]"
     ]
    },
    {
     "name": "stdout",
     "output_type": "stream",
     "text": [
      "Validating hyperparameters...\n"
     ]
    },
    {
     "name": "stderr",
     "output_type": "stream",
     "text": [
      "\r",
      "  3%|██▌                                                                             | 1/32 [03:21<1:44:19, 201.92s/it]"
     ]
    },
    {
     "name": "stdout",
     "output_type": "stream",
     "text": [
      "nb topics: 3, alpha: 0.1, beta: 0.1, coherence: 0.43450483502760867\n"
     ]
    },
    {
     "name": "stderr",
     "output_type": "stream",
     "text": [
      "\r",
      "  6%|█████                                                                           | 2/32 [06:59<1:43:18, 206.61s/it]"
     ]
    },
    {
     "name": "stdout",
     "output_type": "stream",
     "text": [
      "nb topics: 3, alpha: 0.1, beta: symmetric, coherence: 0.4173797801446084\n"
     ]
    },
    {
     "name": "stderr",
     "output_type": "stream",
     "text": [
      "\r",
      "  9%|███████▌                                                                        | 3/32 [10:31<1:40:40, 208.29s/it]"
     ]
    },
    {
     "name": "stdout",
     "output_type": "stream",
     "text": [
      "nb topics: 3, alpha: 0.01, beta: 0.1, coherence: 0.4321078880093703\n"
     ]
    },
    {
     "name": "stderr",
     "output_type": "stream",
     "text": [
      "\r",
      " 12%|██████████                                                                      | 4/32 [14:03<1:37:40, 209.29s/it]"
     ]
    },
    {
     "name": "stdout",
     "output_type": "stream",
     "text": [
      "nb topics: 3, alpha: 0.01, beta: symmetric, coherence: 0.4187972426794901\n"
     ]
    },
    {
     "name": "stderr",
     "output_type": "stream",
     "text": [
      "\r",
      " 16%|████████████▌                                                                   | 5/32 [17:57<1:37:29, 216.66s/it]"
     ]
    },
    {
     "name": "stdout",
     "output_type": "stream",
     "text": [
      "nb topics: 3, alpha: symmetric, beta: 0.1, coherence: 0.44785537056494834\n"
     ]
    },
    {
     "name": "stderr",
     "output_type": "stream",
     "text": [
      "\r",
      " 19%|███████████████                                                                 | 6/32 [21:43<1:35:07, 219.53s/it]"
     ]
    },
    {
     "name": "stdout",
     "output_type": "stream",
     "text": [
      "nb topics: 3, alpha: symmetric, beta: symmetric, coherence: 0.4529891896705008\n"
     ]
    },
    {
     "name": "stderr",
     "output_type": "stream",
     "text": [
      "\r",
      " 22%|█████████████████▌                                                              | 7/32 [25:00<1:28:39, 212.78s/it]"
     ]
    },
    {
     "name": "stdout",
     "output_type": "stream",
     "text": [
      "nb topics: 3, alpha: asymmetric, beta: 0.1, coherence: 0.4898328844678008\n"
     ]
    },
    {
     "name": "stderr",
     "output_type": "stream",
     "text": [
      "\r",
      " 25%|████████████████████                                                            | 8/32 [28:35<1:25:25, 213.54s/it]"
     ]
    },
    {
     "name": "stdout",
     "output_type": "stream",
     "text": [
      "nb topics: 3, alpha: asymmetric, beta: symmetric, coherence: 0.46715282540513114\n"
     ]
    },
    {
     "name": "stderr",
     "output_type": "stream",
     "text": [
      "\r",
      " 28%|██████████████████████▌                                                         | 9/32 [32:20<1:23:08, 216.90s/it]"
     ]
    },
    {
     "name": "stdout",
     "output_type": "stream",
     "text": [
      "nb topics: 5, alpha: 0.1, beta: 0.1, coherence: 0.4867383389264779\n"
     ]
    },
    {
     "name": "stderr",
     "output_type": "stream",
     "text": [
      "\r",
      " 31%|████████████████████████▋                                                      | 10/32 [36:12<1:21:09, 221.34s/it]"
     ]
    },
    {
     "name": "stdout",
     "output_type": "stream",
     "text": [
      "nb topics: 5, alpha: 0.1, beta: symmetric, coherence: 0.48143841730331083\n"
     ]
    },
    {
     "name": "stderr",
     "output_type": "stream",
     "text": [
      "\r",
      " 34%|███████████████████████████▏                                                   | 11/32 [40:05<1:18:42, 224.89s/it]"
     ]
    },
    {
     "name": "stdout",
     "output_type": "stream",
     "text": [
      "nb topics: 5, alpha: 0.01, beta: 0.1, coherence: 0.4760170134367533\n"
     ]
    },
    {
     "name": "stderr",
     "output_type": "stream",
     "text": [
      "\r",
      " 38%|█████████████████████████████▋                                                 | 12/32 [43:32<1:13:09, 219.50s/it]"
     ]
    },
    {
     "name": "stdout",
     "output_type": "stream",
     "text": [
      "nb topics: 5, alpha: 0.01, beta: symmetric, coherence: 0.4785393959773647\n"
     ]
    },
    {
     "name": "stderr",
     "output_type": "stream",
     "text": [
      "\r",
      " 41%|████████████████████████████████                                               | 13/32 [46:57<1:08:07, 215.12s/it]"
     ]
    },
    {
     "name": "stdout",
     "output_type": "stream",
     "text": [
      "nb topics: 5, alpha: symmetric, beta: 0.1, coherence: 0.47545130821491705\n"
     ]
    },
    {
     "name": "stderr",
     "output_type": "stream",
     "text": [
      "\r",
      " 44%|██████████████████████████████████▌                                            | 14/32 [50:20<1:03:26, 211.48s/it]"
     ]
    },
    {
     "name": "stdout",
     "output_type": "stream",
     "text": [
      "nb topics: 5, alpha: symmetric, beta: symmetric, coherence: 0.484344326903534\n"
     ]
    },
    {
     "name": "stderr",
     "output_type": "stream",
     "text": [
      "\r",
      " 47%|█████████████████████████████████████▉                                           | 15/32 [53:41<59:02, 208.40s/it]"
     ]
    },
    {
     "name": "stdout",
     "output_type": "stream",
     "text": [
      "nb topics: 5, alpha: asymmetric, beta: 0.1, coherence: 0.49257048636004086\n"
     ]
    },
    {
     "name": "stderr",
     "output_type": "stream",
     "text": [
      "\r",
      " 50%|████████████████████████████████████████▌                                        | 16/32 [57:03<55:05, 206.61s/it]"
     ]
    },
    {
     "name": "stdout",
     "output_type": "stream",
     "text": [
      "nb topics: 5, alpha: asymmetric, beta: symmetric, coherence: 0.48905763402879343\n"
     ]
    },
    {
     "name": "stderr",
     "output_type": "stream",
     "text": [
      "\r",
      " 53%|█████████████████████████████████████████▉                                     | 17/32 [1:00:34<51:59, 207.96s/it]"
     ]
    },
    {
     "name": "stdout",
     "output_type": "stream",
     "text": [
      "nb topics: 7, alpha: 0.1, beta: 0.1, coherence: 0.4990065665293537\n"
     ]
    },
    {
     "name": "stderr",
     "output_type": "stream",
     "text": [
      "\r",
      " 56%|████████████████████████████████████████████▍                                  | 18/32 [1:04:08<48:52, 209.50s/it]"
     ]
    },
    {
     "name": "stdout",
     "output_type": "stream",
     "text": [
      "nb topics: 7, alpha: 0.1, beta: symmetric, coherence: 0.49978804339008953\n"
     ]
    },
    {
     "name": "stderr",
     "output_type": "stream",
     "text": [
      "\r",
      " 59%|██████████████████████████████████████████████▉                                | 19/32 [1:07:41<45:38, 210.62s/it]"
     ]
    },
    {
     "name": "stdout",
     "output_type": "stream",
     "text": [
      "nb topics: 7, alpha: 0.01, beta: 0.1, coherence: 0.497264938262603\n"
     ]
    },
    {
     "name": "stderr",
     "output_type": "stream",
     "text": [
      "\r",
      " 62%|█████████████████████████████████████████████████▍                             | 20/32 [1:11:16<42:23, 211.99s/it]"
     ]
    },
    {
     "name": "stdout",
     "output_type": "stream",
     "text": [
      "nb topics: 7, alpha: 0.01, beta: symmetric, coherence: 0.4955786319671159\n"
     ]
    },
    {
     "name": "stderr",
     "output_type": "stream",
     "text": [
      "\r",
      " 66%|███████████████████████████████████████████████████▊                           | 21/32 [1:14:49<38:54, 212.25s/it]"
     ]
    },
    {
     "name": "stdout",
     "output_type": "stream",
     "text": [
      "nb topics: 7, alpha: symmetric, beta: 0.1, coherence: 0.5036494254020598\n"
     ]
    },
    {
     "name": "stderr",
     "output_type": "stream",
     "text": [
      "\r",
      " 69%|██████████████████████████████████████████████████████▎                        | 22/32 [1:18:22<35:26, 212.60s/it]"
     ]
    },
    {
     "name": "stdout",
     "output_type": "stream",
     "text": [
      "nb topics: 7, alpha: symmetric, beta: symmetric, coherence: 0.5129538818615804\n"
     ]
    },
    {
     "name": "stderr",
     "output_type": "stream",
     "text": [
      "\r",
      " 72%|████████████████████████████████████████████████████████▊                      | 23/32 [1:21:57<31:59, 213.26s/it]"
     ]
    },
    {
     "name": "stdout",
     "output_type": "stream",
     "text": [
      "nb topics: 7, alpha: asymmetric, beta: 0.1, coherence: 0.4812388037440901\n"
     ]
    },
    {
     "name": "stderr",
     "output_type": "stream",
     "text": [
      "\r",
      " 75%|███████████████████████████████████████████████████████████▎                   | 24/32 [1:25:33<28:32, 214.03s/it]"
     ]
    },
    {
     "name": "stdout",
     "output_type": "stream",
     "text": [
      "nb topics: 7, alpha: asymmetric, beta: symmetric, coherence: 0.47292250364850386\n"
     ]
    },
    {
     "name": "stderr",
     "output_type": "stream",
     "text": [
      "\r",
      " 78%|█████████████████████████████████████████████████████████████▋                 | 25/32 [1:29:23<25:32, 218.93s/it]"
     ]
    },
    {
     "name": "stdout",
     "output_type": "stream",
     "text": [
      "nb topics: 9, alpha: 0.1, beta: 0.1, coherence: 0.5095316372908516\n"
     ]
    },
    {
     "name": "stderr",
     "output_type": "stream",
     "text": [
      "\r",
      " 81%|████████████████████████████████████████████████████████████████▏              | 26/32 [1:33:09<22:06, 221.14s/it]"
     ]
    },
    {
     "name": "stdout",
     "output_type": "stream",
     "text": [
      "nb topics: 9, alpha: 0.1, beta: symmetric, coherence: 0.5159173007799454\n"
     ]
    },
    {
     "name": "stderr",
     "output_type": "stream",
     "text": [
      "\r",
      " 84%|██████████████████████████████████████████████████████████████████▋            | 27/32 [1:36:55<18:32, 222.44s/it]"
     ]
    },
    {
     "name": "stdout",
     "output_type": "stream",
     "text": [
      "nb topics: 9, alpha: 0.01, beta: 0.1, coherence: 0.5033550531214757\n"
     ]
    },
    {
     "name": "stderr",
     "output_type": "stream",
     "text": [
      "\r",
      " 88%|█████████████████████████████████████████████████████████████████████▏         | 28/32 [1:40:38<14:50, 222.68s/it]"
     ]
    },
    {
     "name": "stdout",
     "output_type": "stream",
     "text": [
      "nb topics: 9, alpha: 0.01, beta: symmetric, coherence: 0.513511852668258\n"
     ]
    },
    {
     "name": "stderr",
     "output_type": "stream",
     "text": [
      "\r",
      " 91%|███████████████████████████████████████████████████████████████████████▌       | 29/32 [1:44:20<11:07, 222.50s/it]"
     ]
    },
    {
     "name": "stdout",
     "output_type": "stream",
     "text": [
      "nb topics: 9, alpha: symmetric, beta: 0.1, coherence: 0.5102478899331442\n"
     ]
    },
    {
     "name": "stderr",
     "output_type": "stream",
     "text": [
      "\r",
      " 94%|██████████████████████████████████████████████████████████████████████████     | 30/32 [1:48:02<07:24, 222.23s/it]"
     ]
    },
    {
     "name": "stdout",
     "output_type": "stream",
     "text": [
      "nb topics: 9, alpha: symmetric, beta: symmetric, coherence: 0.5112260315712213\n"
     ]
    },
    {
     "name": "stderr",
     "output_type": "stream",
     "text": [
      "\r",
      " 97%|████████████████████████████████████████████████████████████████████████████▌  | 31/32 [1:51:44<03:42, 222.08s/it]"
     ]
    },
    {
     "name": "stdout",
     "output_type": "stream",
     "text": [
      "nb topics: 9, alpha: asymmetric, beta: 0.1, coherence: 0.5376250455256808\n"
     ]
    },
    {
     "name": "stderr",
     "output_type": "stream",
     "text": [
      "100%|███████████████████████████████████████████████████████████████████████████████| 32/32 [1:55:26<00:00, 216.45s/it]"
     ]
    },
    {
     "name": "stdout",
     "output_type": "stream",
     "text": [
      "nb topics: 9, alpha: asymmetric, beta: symmetric, coherence: 0.5188056235047867\n",
      "Training best model...\n"
     ]
    },
    {
     "name": "stderr",
     "output_type": "stream",
     "text": [
      "\n"
     ]
    },
    {
     "name": "stdout",
     "output_type": "stream",
     "text": [
      "Done.\n"
     ]
    },
    {
     "data": {
      "text/html": [
       "\n",
       "<link rel=\"stylesheet\" type=\"text/css\" href=\"https://cdn.rawgit.com/bmabey/pyLDAvis/files/ldavis.v1.0.0.css\">\n",
       "\n",
       "\n",
       "<div id=\"ldavis_el370416408929371605471472507\"></div>\n",
       "<script type=\"text/javascript\">\n",
       "\n",
       "var ldavis_el370416408929371605471472507_data = {\"mdsDat\": {\"x\": [-0.06620055799689183, 0.13635984857880729, 0.024136863033992817, 0.14047008930605562, -0.0883958129247087, 0.17929282049971737, -0.007943577477343576, 0.0664947468365778, -0.38421441985620675], \"y\": [0.11893111455765026, 0.05105539700153462, 0.13729085619914516, 0.13132762342199922, 0.03479966757574713, -0.15780960624192564, -0.35375889102425323, 0.04964018537255073, -0.011476346862446096], \"topics\": [1, 2, 3, 4, 5, 6, 7, 8, 9], \"cluster\": [1, 1, 1, 1, 1, 1, 1, 1, 1], \"Freq\": [20.2155818939209, 18.42512321472168, 15.321938514709473, 12.971735000610352, 8.255013465881348, 6.515979766845703, 6.341193675994873, 6.1293864250183105, 5.824047565460205]}, \"tinfo\": {\"Term\": [\"love\", \"coverage\", \"shade\", \"long\", \"oily\", \"look\", \"last\", \"work\", \"day\", \"great\", \"year\", \"perfect\", \"sample\", \"stay\", \"full\", \"good\", \"use\", \"go\", \"easy\", \"try\", \"cover\", \"tone\", \"receive\", \"feel\", \"ever\", \"make\", \"dark\", \"size\", \"apply\", \"purchase\", \"star\", \"price\", \"worth\", \"bottle\", \"money\", \"difference\", \"expensive\", \"waste\", \"scent\", \"pump\", \"cheap\", \"pay\", \"spend\", \"special\", \"pricey\", \"gentle\", \"ok\", \"sell\", \"consider\", \"effective\", \"refresh\", \"customer\", \"cost\", \"miss\", \"penny\", \"mine\", \"design\", \"clog\", \"company\", \"ingredient\", \"original\", \"absorb\", \"notice\", \"think\", \"smell\", \"break\", \"see\", \"like\", \"sure\", \"would\", \"much\", \"big\", \"week\", \"reason\", \"really\", \"use\", \"say\", \"buy\", \"however\", \"feel\", \"little\", \"well\", \"seem\", \"work\", \"good\", \"try\", \"thing\", \"help\", \"make\", \"nice\", \"get\", \"great\", \"time\", \"go\", \"give\", \"soft\", \"fresh\", \"bold\", \"complimentary\", \"healthy\", \"rise\", \"birchbox\", \"moist\", \"clumping\", \"glossy\", \"lipgloss\", \"fav\", \"impress\", \"vibrant\", \"silk\", \"overly\", \"satin\", \"moisturized\", \"spring\", \"round\", \"family\", \"testing\", \"recommendation\", \"glowing\", \"glam\", \"sexy\", \"swatche\", \"consultant\", \"flaking\", \"porcelain\", \"classic\", \"glow\", \"love\", \"natural\", \"absolutely\", \"weight\", \"awesome\", \"look\", \"amazing\", \"highly\", \"make\", \"recommend\", \"silky\", \"feel\", \"give\", \"definitely\", \"great\", \"beautiful\", \"must\", \"favorite\", \"wonderful\", \"everyday\", \"nice\", \"flawless\", \"gift\", \"finish\", \"go\", \"buy\", \"really\", \"perfect\", \"would\", \"wear\", \"super\", \"use\", \"good\", \"help\", \"get\", \"purchase\", \"always\", \"double\", \"brow\", \"waterproof\", \"life\", \"sweat\", \"sharpen\", \"absolute\", \"proof\", \"raccoon\", \"year\", \"contact\", \"heat\", \"worry\", \"sharpener\", \"grail\", \"allergy\", \"discover\", \"reach\", \"humidity\", \"complete\", \"certainly\", \"fail\", \"number\", \"reaction\", \"trust\", \"department\", \"lancome\", \"allergic\", \"school\", \"adore\", \"ever\", \"market\", \"discontinue\", \"bring\", \"ago\", \"holy\", \"back\", \"many\", \"finally\", \"anymore\", \"never\", \"always\", \"use\", \"try\", \"old\", \"good\", \"search\", \"change\", \"one\", \"place\", \"several\", \"find\", \"wear\", \"favorite\", \"come\", \"day\", \"stay\", \"time\", \"new\", \"love\", \"go\", \"even\", \"long\", \"make\", \"buy\", \"amazing\", \"well\", \"last\", \"perfect\", \"shadow\", \"power\", \"shimmer\", \"reapply\", \"bronze\", \"eat\", \"lasting\", \"staying\", \"replace\", \"value\", \"metallic\", \"drink\", \"course\", \"selection\", \"decay\", \"bonus\", \"mature\", \"constantly\", \"miracle\", \"pack\", \"payoff\", \"delivery\", \"combine\", \"creasing\", \"collect\", \"fallout\", \"event\", \"daytime\", \"smokey\", \"mauve\", \"easy\", \"last\", \"long\", \"quick\", \"smoothly\", \"stay\", \"day\", \"evenly\", \"glide\", \"fade\", \"go\", \"apply\", \"night\", \"touch\", \"little\", \"easily\", \"great\", \"way\", \"time\", \"put\", \"wear\", \"blend\", \"hour\", \"love\", \"need\", \"use\", \"well\", \"nice\", \"bit\", \"good\", \"really\", \"work\", \"fine\", \"thin\", \"coat\", \"separate\", \"nose\", \"length\", \"settle\", \"wand\", \"terrible\", \"flake\", \"bottom\", \"clumpy\", \"weird\", \"sunscreen\", \"awful\", \"flaky\", \"forehead\", \"paint\", \"write\", \"accentuate\", \"upper\", \"freckle\", \"false\", \"dryness\", \"volumize\", \"pat\", \"tear\", \"whenever\", \"produce\", \"excess\", \"line\", \"mess\", \"clump\", \"tip\", \"normally\", \"smudge\", \"thick\", \"black\", \"short\", \"lid\", \"bad\", \"apply\", \"hard\", \"formula\", \"look\", \"smear\", \"remove\", \"layer\", \"take\", \"easily\", \"make\", \"even\", \"also\", \"want\", \"put\", \"get\", \"give\", \"really\", \"first\", \"coverage\", \"excellent\", \"provide\", \"spf\", \"winter\", \"blemish\", \"hot\", \"scar\", \"wet\", \"suppose\", \"weather\", \"hype\", \"humid\", \"season\", \"versatile\", \"nc\", \"sparkly\", \"associate\", \"dot\", \"complement\", \"duo\", \"wing\", \"degree\", \"properly\", \"climate\", \"satisfy\", \"select\", \"drawback\", \"seamlessly\", \"painterly\", \"cover\", \"cakey\", \"hide\", \"summer\", \"heavy\", \"full\", \"ivory\", \"lightweight\", \"redness\", \"spot\", \"sheer\", \"blend\", \"match\", \"great\", \"blender\", \"good\", \"look\", \"need\", \"natural\", \"feel\", \"give\", \"even\", \"well\", \"perfect\", \"wear\", \"use\", \"finish\", \"flawless\", \"shade\", \"tone\", \"pink\", \"red\", \"fair\", \"nude\", \"neutral\", \"subtle\", \"highlight\", \"orange\", \"picture\", \"undertone\", \"yellow\", \"green\", \"blue\", \"sparkle\", \"darker\", \"glitter\", \"flattering\", \"hint\", \"coral\", \"stunning\", \"local\", \"silver\", \"bone\", \"workout\", \"lately\", \"obvious\", \"beige\", \"asian\", \"colour\", \"warm\", \"match\", \"dark\", \"complexion\", \"bright\", \"perfect\", \"cheek\", \"show\", \"gorgeous\", \"beautiful\", \"pigment\", \"formula\", \"pop\", \"pretty\", \"find\", \"blend\", \"right\", \"look\", \"oily\", \"circle\", \"photo\", \"zone\", \"blot\", \"okay\", \"oxidize\", \"blur\", \"smash\", \"urban\", \"pen\", \"peach\", \"slide\", \"incredibly\", \"uneven\", \"undereye\", \"sink\", \"shipping\", \"damp\", \"website\", \"shift\", \"badly\", \"exfoliate\", \"lunch\", \"pm\", \"mother\", \"beach\", \"alright\", \"mattifying\", \"brightening\", \"combination\", \"normal\", \"pore\", \"area\", \"work\", \"type\", \"dark\", \"finish\", \"shiny\", \"hour\", \"prone\", \"matte\", \"keep\", \"well\", \"place\", \"day\", \"really\", \"tend\", \"spot\", \"make\", \"cover\", \"crease\", \"use\", \"great\", \"even\", \"try\", \"apply\", \"good\", \"would\", \"look\", \"sample\", \"receive\", \"size\", \"order\", \"free\", \"item\", \"influenster\", \"open\", \"surprised\", \"send\", \"fit\", \"arrive\", \"pleasantly\", \"shimmery\", \"describe\", \"deliver\", \"mini\", \"understand\", \"twist\", \"promise\", \"exchange\", \"pallet\", \"addition\", \"trial\", \"condition\", \"advertise\", \"flat\", \"list\", \"cap\", \"seller\", \"travel\", \"excited\", \"box\", \"online\", \"small\", \"disappoint\", \"disappointed\", \"purchase\", \"pleased\", \"review\", \"full\", \"expect\", \"happy\", \"return\", \"get\", \"try\", \"buy\", \"first\", \"time\", \"see\", \"new\", \"come\", \"would\"], \"Freq\": [47765.0, 14228.0, 9271.0, 15115.0, 9010.0, 31727.0, 14576.0, 12610.0, 19072.0, 28955.0, 8830.0, 12211.0, 5229.0, 10598.0, 6873.0, 28135.0, 41365.0, 20701.0, 7179.0, 16624.0, 5578.0, 4458.0, 4296.0, 14827.0, 6997.0, 20491.0, 5503.0, 4011.0, 10963.0, 7829.0, 4673.697265625, 3803.481689453125, 3427.2041015625, 1892.752685546875, 1817.760009765625, 1681.4403076171875, 1371.8773193359375, 918.4744873046875, 890.0831298828125, 854.7783203125, 812.7117919921875, 738.0925903320312, 697.1257934570312, 658.6964721679688, 652.1544189453125, 607.802490234375, 732.71484375, 562.15869140625, 549.3681640625, 532.084716796875, 522.3722534179688, 461.78656005859375, 407.87677001953125, 381.8537902832031, 373.8060607910156, 339.33404541015625, 319.9526672363281, 321.7671203613281, 303.55059814453125, 295.23193359375, 633.55224609375, 529.3294677734375, 1581.510009765625, 4045.11767578125, 1981.3582763671875, 2313.149658203125, 2593.39892578125, 3099.5439453125, 1939.30419921875, 6300.68994140625, 4473.2275390625, 1345.3399658203125, 1125.5198974609375, 867.5554809570312, 6255.02294921875, 11983.5419921875, 2490.34423828125, 5170.18896484375, 1932.2093505859375, 5262.88525390625, 3581.935791015625, 5337.251953125, 1783.451416015625, 4014.2861328125, 6260.3212890625, 4164.05810546875, 1574.8994140625, 2119.932373046875, 4228.91162109375, 2750.455810546875, 2817.195068359375, 3807.468994140625, 2680.712158203125, 2400.5673828125, 1946.16845703125, 3211.06591796875, 1336.1177978515625, 795.583740234375, 765.2069091796875, 590.791259765625, 414.1561279296875, 394.7640380859375, 351.2812805175781, 334.1917419433594, 333.7279968261719, 326.4384765625, 296.11993408203125, 283.23150634765625, 253.6839599609375, 226.88427734375, 225.64552307128906, 207.83804321289062, 203.5328826904297, 199.42486572265625, 183.34202575683594, 178.96400451660156, 178.12362670898438, 174.01895141601562, 169.3118133544922, 167.85519409179688, 165.6045379638672, 164.61204528808594, 199.7084197998047, 159.69094848632812, 158.6400146484375, 330.03668212890625, 2600.063720703125, 35156.1171875, 5727.34228515625, 3011.38232421875, 734.9705200195312, 2187.385009765625, 21127.533203125, 5583.51123046875, 1946.15478515625, 10719.068359375, 4498.60400390625, 621.65234375, 7509.00927734375, 4976.00244140625, 3495.935546875, 11995.8291015625, 2888.109130859375, 1386.6109619140625, 3084.751953125, 1219.1309814453125, 1402.1165771484375, 3406.08984375, 1416.125244140625, 749.9317626953125, 2138.607177734375, 5080.61572265625, 3632.34765625, 4030.88525390625, 3379.14404296875, 3255.94873046875, 3384.212890625, 1721.8441162109375, 4102.1552734375, 3505.779541015625, 1775.090087890625, 2016.874267578125, 1870.2314453125, 1800.9530029296875, 2167.091064453125, 1880.8028564453125, 1450.74853515625, 970.1991577148438, 649.324462890625, 617.818603515625, 549.2577514648438, 444.877197265625, 404.9672546386719, 8812.6357421875, 364.05975341796875, 315.21826171875, 295.9560852050781, 273.1274719238281, 270.51763916015625, 260.559814453125, 270.69635009765625, 253.31700134277344, 244.79507446289062, 244.4186553955078, 236.12083435058594, 233.49049377441406, 229.28512573242188, 227.99118041992188, 212.53530883789062, 209.1694793701172, 208.4346923828125, 204.2821807861328, 192.9040069580078, 187.4689483642578, 6825.6337890625, 600.739990234375, 1080.187255859375, 1038.3916015625, 1067.3369140625, 276.9086608886719, 3013.65771484375, 3811.332763671875, 1230.0704345703125, 383.7148132324219, 3915.497802734375, 3892.933837890625, 17036.9375, 7967.111328125, 1380.105712890625, 11645.740234375, 607.1629028320312, 1204.18798828125, 2910.912109375, 1244.1173095703125, 1031.623291015625, 3484.22265625, 5231.03662109375, 2816.526123046875, 2355.220703125, 4779.13037109375, 3250.290771484375, 3101.931884765625, 1816.9913330078125, 6624.787109375, 3771.56591796875, 1973.4666748046875, 1887.459716796875, 1982.1143798828125, 1794.114501953125, 1558.6668701171875, 1769.0242919921875, 1713.443603515625, 1550.07861328125, 3380.2734375, 1284.917724609375, 618.3297729492188, 592.1436157226562, 560.1959838867188, 489.15557861328125, 457.0517272949219, 455.5723876953125, 425.0965881347656, 384.4103088378906, 375.41326904296875, 357.75921630859375, 342.4725036621094, 338.1881103515625, 326.068603515625, 314.58685302734375, 272.8746032714844, 272.6883239746094, 269.6858215332031, 227.70065307617188, 214.95111083984375, 204.42628479003906, 196.0520477294922, 195.9785614013672, 195.9032745361328, 184.75857543945312, 184.49838256835938, 177.6963653564453, 177.55674743652344, 171.306640625, 6555.705078125, 12861.8720703125, 13203.615234375, 764.4810180664062, 1857.9217529296875, 7323.583984375, 10632.6689453125, 517.1317749023438, 946.421142578125, 552.6907958984375, 9132.16796875, 5381.47900390625, 1460.8988037109375, 1195.8060302734375, 3969.262451171875, 1835.37451171875, 7697.748046875, 2323.219482421875, 3263.919677734375, 2203.47802734375, 3963.9892578125, 1855.31982421875, 1634.0272216796875, 5982.70166015625, 1943.9815673828125, 4200.4912109375, 2376.341552734375, 1710.7574462890625, 1228.4267578125, 2488.426513671875, 1788.8206787109375, 1625.8297119140625, 2119.637939453125, 1210.98388671875, 1104.7254638671875, 1093.6658935546875, 998.6535034179688, 981.6030883789062, 849.9032592773438, 837.7894287109375, 628.919921875, 1171.765869140625, 580.3370971679688, 486.05517578125, 442.5711669921875, 419.7161865234375, 407.71136474609375, 341.0601501464844, 327.8796691894531, 308.9927978515625, 289.6556396484375, 269.23565673828125, 249.10177612304688, 230.5086669921875, 221.13751220703125, 202.1474151611328, 201.33193969726562, 187.86111450195312, 177.7837371826172, 174.66021728515625, 166.1024932861328, 165.38037109375, 3980.993896484375, 485.7568054199219, 1784.35888671875, 842.5684814453125, 663.9318237304688, 1411.16015625, 1691.721435546875, 1397.7664794921875, 427.068115234375, 728.180419921875, 1290.3853759765625, 3283.96044921875, 1150.9644775390625, 1522.0687255859375, 4473.16357421875, 531.5579223632812, 847.4176025390625, 708.3964233398438, 1075.1175537109375, 916.7192993164062, 1764.211181640625, 1305.2244873046875, 1210.1903076171875, 1098.2821044921875, 1081.01904296875, 1218.45556640625, 1142.7957763671875, 1002.7730102539062, 907.0198974609375, 14227.8720703125, 1852.9329833984375, 1585.2635498046875, 1307.9442138671875, 1070.1708984375, 767.6236572265625, 676.8939208984375, 615.3074340820312, 604.846923828125, 449.8667907714844, 385.45965576171875, 325.70220947265625, 318.23974609375, 254.49972534179688, 232.48394775390625, 220.04815673828125, 197.6558380126953, 168.6385498046875, 165.2222900390625, 161.6049346923828, 155.86245727539062, 149.20065307617188, 141.9398956298828, 132.0055694580078, 124.60640716552734, 119.29115295410156, 117.59050750732422, 114.50501251220703, 114.19805145263672, 112.38280487060547, 4534.99658203125, 1487.734619140625, 620.7935791015625, 1423.2728271484375, 2482.263671875, 4624.08544921875, 220.53436279296875, 1003.8507080078125, 1058.48388671875, 1084.780517578125, 740.9058837890625, 1649.9434814453125, 1157.293701171875, 4071.788818359375, 416.2508544921875, 3361.96337890625, 3473.59033203125, 1458.031494140625, 1330.26953125, 1880.41015625, 1485.4775390625, 1422.45654296875, 1781.491943359375, 1507.5556640625, 1564.7203369140625, 1830.46240234375, 855.4169311523438, 767.0556640625, 9270.3134765625, 4457.333984375, 2626.928466796875, 2408.84521484375, 2028.0162353515625, 1304.4156494140625, 1259.3736572265625, 1075.379638671875, 991.105224609375, 988.9989624023438, 697.7977905273438, 692.9220581054688, 668.9300537109375, 580.92529296875, 568.1534423828125, 521.8536987304688, 409.3838806152344, 381.8176574707031, 380.33978271484375, 322.6697998046875, 234.64453125, 220.01451110839844, 196.5980987548828, 184.6073455810547, 158.76438903808594, 145.93641662597656, 145.73312377929688, 143.67074584960938, 142.6326446533203, 141.16876220703125, 1283.3963623046875, 922.4830322265625, 2338.7763671875, 3195.6826171875, 819.3894653320312, 732.5194091796875, 4906.16162109375, 767.2434692382812, 739.5242309570312, 722.5321044921875, 1626.00439453125, 847.4799194335938, 1226.9215087890625, 736.6484375, 1095.94580078125, 1350.0806884765625, 1031.8372802734375, 868.4873657226562, 1301.9051513671875, 9009.6005859375, 1457.4354248046875, 959.2531127929688, 826.385009765625, 422.64910888671875, 412.19195556640625, 410.71484375, 362.47869873046875, 340.37115478515625, 320.4129638671875, 317.7862243652344, 285.8824157714844, 285.830078125, 281.2655334472656, 277.3656005859375, 270.1083984375, 243.5120849609375, 240.6112823486328, 214.10296630859375, 214.0003662109375, 254.76138305664062, 160.52415466308594, 160.1059112548828, 149.9234161376953, 136.7030029296875, 136.466796875, 125.40816497802734, 120.93150329589844, 110.09260559082031, 109.37892150878906, 1461.8057861328125, 818.9728393554688, 2564.994873046875, 1105.5706787109375, 5900.06494140625, 883.938720703125, 2306.984619140625, 2091.0146484375, 658.4357299804688, 1600.664794921875, 572.062255859375, 1205.9791259765625, 1607.4102783203125, 3386.13427734375, 786.683349609375, 2470.969482421875, 2009.8900146484375, 508.1976013183594, 637.972900390625, 1796.5401611328125, 1042.72900390625, 570.5155639648438, 1568.9276123046875, 1347.8419189453125, 953.9716796875, 1072.097412109375, 771.1829833984375, 872.376220703125, 744.2379150390625, 700.804443359375, 5229.0830078125, 4295.5732421875, 4010.95166015625, 2670.02197265625, 2098.990966796875, 1068.2652587890625, 758.5130615234375, 595.5520629882812, 664.1318359375, 568.8358764648438, 487.1388244628906, 440.0401611328125, 373.7437438964844, 366.2188720703125, 364.1728820800781, 354.2605285644531, 306.8774719238281, 289.83538818359375, 285.4812316894531, 284.43438720703125, 279.3175048828125, 255.5602569580078, 242.8217010498047, 236.05911254882812, 235.82891845703125, 233.3169708251953, 213.82333374023438, 208.70956420898438, 202.69027709960938, 194.60430908203125, 1137.9698486328125, 982.5901489257812, 1140.2095947265625, 742.0940551757812, 1450.0130615234375, 979.1809692382812, 911.8297729492188, 3158.906494140625, 539.4239501953125, 1258.98193359375, 2248.223876953125, 953.2642822265625, 1087.4815673828125, 820.2376708984375, 1983.8497314453125, 2410.289794921875, 1787.3306884765625, 1100.33935546875, 1088.5885009765625, 738.1703491210938, 733.587158203125, 700.762451171875, 653.378662109375], \"Total\": [47765.0, 14228.0, 9271.0, 15115.0, 9010.0, 31727.0, 14576.0, 12610.0, 19072.0, 28955.0, 8830.0, 12211.0, 5229.0, 10598.0, 6873.0, 28135.0, 41365.0, 20701.0, 7179.0, 16624.0, 5578.0, 4458.0, 4296.0, 14827.0, 6997.0, 20491.0, 5503.0, 4011.0, 10963.0, 7829.0, 4674.509765625, 3804.295654296875, 3428.017822265625, 1893.5662841796875, 1818.5736083984375, 1682.25390625, 1372.69091796875, 919.2880249023438, 890.8966674804688, 855.5918579101562, 813.5253295898438, 738.9061279296875, 697.9393310546875, 659.5158081054688, 652.968017578125, 608.6160278320312, 733.7344360351562, 562.9722900390625, 550.1817016601562, 532.8982543945312, 523.185791015625, 462.6002197265625, 408.6903076171875, 382.6674499511719, 374.61962890625, 340.147705078125, 320.7662658691406, 322.6261901855469, 304.3642578125, 296.0455017089844, 637.3367309570312, 535.5634765625, 1791.12158203125, 5709.59619140625, 2549.880859375, 3057.850830078125, 3622.90625, 4632.16845703125, 2713.462646484375, 11844.0458984375, 8129.3916015625, 1792.949951171875, 1425.2974853515625, 1014.624267578125, 15205.7412109375, 41365.56640625, 4465.6611328125, 12771.6337890625, 3190.437255859375, 14827.251953125, 8800.9169921875, 16605.6171875, 3013.91259765625, 12610.5576171875, 28135.197265625, 16624.453125, 2634.96533203125, 4778.92431640625, 20491.259765625, 8290.0927734375, 10087.431640625, 28955.103515625, 10269.8349609375, 20701.892578125, 9735.138671875, 3211.887451171875, 1336.9515380859375, 796.3974609375, 766.020751953125, 591.6051025390625, 414.9698791503906, 395.57781982421875, 352.0950012207031, 335.0054931640625, 334.54168701171875, 327.252197265625, 296.93365478515625, 284.0453186035156, 254.4976806640625, 227.69798278808594, 226.4593048095703, 208.65185546875, 204.3466339111328, 200.2386932373047, 184.15585327148438, 179.7777557373047, 178.93740844726562, 174.83282470703125, 170.12547302246094, 168.66888427734375, 166.41819763183594, 165.4259490966797, 200.6963348388672, 160.50474548339844, 159.45387268066406, 331.8376159667969, 2768.94384765625, 47765.3671875, 7162.10595703125, 3626.628173828125, 820.0167236328125, 2674.518798828125, 31727.5703125, 7581.16357421875, 2795.703369140625, 20491.259765625, 7806.3203125, 762.9213256835938, 14827.251953125, 9735.138671875, 6349.25, 28955.103515625, 5220.41552734375, 2208.990966796875, 6550.92041015625, 1896.4559326171875, 2360.772705078125, 8290.0927734375, 2521.856201171875, 1038.98583984375, 5089.833984375, 20701.892578125, 12771.6337890625, 15205.7412109375, 12211.828125, 11844.0458984375, 14962.8447265625, 4008.24267578125, 41365.56640625, 28135.197265625, 4778.92431640625, 10087.431640625, 7829.9140625, 5759.568359375, 2167.90673828125, 1881.6185302734375, 1451.564208984375, 971.0147705078125, 650.14013671875, 618.63427734375, 550.0734252929688, 445.69281005859375, 405.7829284667969, 8830.4599609375, 364.8753662109375, 316.0339660644531, 296.7718200683594, 273.9430847167969, 271.33331298828125, 261.37548828125, 271.5476989746094, 254.13278198242188, 245.61070251464844, 245.23439025878906, 236.93675231933594, 234.30616760253906, 230.10079956054688, 228.8068389892578, 213.35104370117188, 209.98513793945312, 209.2504119873047, 205.09776306152344, 193.71969604492188, 188.2847137451172, 6997.40234375, 606.7855834960938, 1101.7822265625, 1071.870849609375, 1106.763427734375, 279.3758850097656, 3436.47802734375, 4460.5615234375, 1507.796875, 409.2929382324219, 5750.58251953125, 5759.568359375, 41365.56640625, 16624.453125, 2006.3310546875, 28135.197265625, 733.7615966796875, 1869.8077392578125, 5893.96337890625, 2032.9407958984375, 1575.5244140625, 8351.873046875, 14962.8447265625, 6550.92041015625, 5340.24609375, 19072.4375, 10598.6513671875, 10269.8349609375, 4315.5908203125, 47765.3671875, 20701.892578125, 9039.66015625, 15115.9384765625, 20491.259765625, 12771.6337890625, 7581.16357421875, 16605.6171875, 14576.03125, 12211.828125, 3381.08837890625, 1285.732421875, 619.1444702148438, 592.958251953125, 561.0106811523438, 489.9701843261719, 457.8663330078125, 456.386962890625, 425.9113464355469, 385.2249755859375, 376.22796630859375, 358.5738220214844, 343.28729248046875, 339.0028991699219, 326.88336181640625, 315.4016418457031, 273.6893615722656, 273.5030822753906, 270.5006103515625, 228.5154571533203, 215.76576232910156, 205.24095153808594, 196.8668212890625, 196.79342651367188, 196.71792602539062, 185.5732421875, 185.31309509277344, 178.51097106933594, 178.37139892578125, 172.12135314941406, 7179.85009765625, 14576.03125, 15115.9384765625, 819.6249389648438, 2258.28076171875, 10598.6513671875, 19072.4375, 612.3126220703125, 1284.296875, 672.088623046875, 20701.892578125, 10963.6357421875, 2220.14892578125, 1837.9910888671875, 8800.9169921875, 3250.916748046875, 28955.103515625, 5651.830078125, 10269.8349609375, 5895.9677734375, 14962.8447265625, 5006.70068359375, 4234.33203125, 47765.3671875, 7040.70654296875, 41365.56640625, 16605.6171875, 8290.0927734375, 3890.68115234375, 28135.197265625, 15205.7412109375, 12610.5576171875, 2120.453125, 1211.7989501953125, 1105.54052734375, 1094.48095703125, 999.4685668945312, 982.4180908203125, 850.7183227539062, 838.6044921875, 629.7349853515625, 1173.318115234375, 581.1521606445312, 486.8702087402344, 443.38623046875, 420.5312805175781, 408.5263977050781, 341.8752136230469, 328.69476318359375, 309.8078308105469, 290.47076416015625, 270.0507507324219, 249.9168701171875, 231.32388305664062, 221.95254516601562, 202.9625244140625, 202.14694213867188, 188.67617797851562, 178.59881591796875, 175.47532653808594, 166.9176025390625, 166.19544982910156, 4227.529296875, 501.8550109863281, 2082.1923828125, 958.221923828125, 770.4675903320312, 2008.47216796875, 2577.31103515625, 2140.86279296875, 495.51397705078125, 1085.7864990234375, 2702.44482421875, 10963.6357421875, 2360.50146484375, 3859.003173828125, 31727.5703125, 747.0445556640625, 1845.01904296875, 1436.1561279296875, 3884.3759765625, 3250.916748046875, 20491.259765625, 9039.66015625, 7840.43408203125, 6096.93994140625, 5895.9677734375, 10087.431640625, 9735.138671875, 15205.7412109375, 5785.29248046875, 14228.6875, 1853.74755859375, 1586.078125, 1308.7587890625, 1070.9854736328125, 768.4381713867188, 677.70849609375, 616.1219482421875, 605.6615600585938, 450.6814270019531, 386.274169921875, 326.5168151855469, 319.05426025390625, 255.31430053710938, 233.29852294921875, 220.86276245117188, 198.47048950195312, 169.45315551757812, 166.0369110107422, 162.41952514648438, 156.67706298828125, 150.0153045654297, 142.75445556640625, 132.82017517089844, 125.42092895507812, 120.10586547851562, 118.40513610839844, 115.31968688964844, 115.01258850097656, 113.19739532470703, 5578.44189453125, 1755.946533203125, 697.9319458007812, 1772.417236328125, 3362.015625, 6873.01953125, 240.97915649414062, 1510.393798828125, 1670.3402099609375, 1723.4942626953125, 1346.1981201171875, 5006.70068359375, 3496.78125, 28955.103515625, 702.0015869140625, 28135.197265625, 31727.5703125, 7040.70654296875, 7162.10595703125, 14827.251953125, 9735.138671875, 9039.66015625, 16605.6171875, 12211.828125, 14962.8447265625, 41365.56640625, 5089.833984375, 2521.856201171875, 9271.126953125, 4458.146484375, 2627.740966796875, 2409.65771484375, 2028.8289794921875, 1305.228271484375, 1260.1864013671875, 1076.1923828125, 991.9179077148438, 989.8116455078125, 698.6105346679688, 693.7347412109375, 669.7427368164062, 581.7379760742188, 568.9661254882812, 522.6663818359375, 410.19659423828125, 382.6303405761719, 381.1524658203125, 323.4824523925781, 235.4571533203125, 220.8271942138672, 197.410888671875, 185.4200897216797, 159.57704162597656, 146.74923706054688, 146.5460205078125, 144.48355102539062, 143.44532775878906, 141.9814910888672, 1438.2840576171875, 1082.3748779296875, 3496.78125, 5503.3798828125, 1162.7357177734375, 1026.8792724609375, 12211.828125, 1244.6300048828125, 1232.372314453125, 1254.7296142578125, 5220.41552734375, 1724.5220947265625, 3859.003173828125, 1569.8519287109375, 4491.9658203125, 8351.873046875, 5006.70068359375, 3035.743896484375, 31727.5703125, 9010.416015625, 1458.2509765625, 960.068603515625, 827.2005004882812, 423.4646301269531, 413.0074768066406, 411.53668212890625, 363.2944641113281, 341.1866455078125, 321.228515625, 318.601806640625, 286.6980285644531, 286.64556884765625, 282.08111572265625, 278.1812438964844, 270.9239196777344, 244.32760620117188, 241.4268798828125, 214.9187774658203, 214.81600952148438, 255.73825073242188, 161.33973693847656, 160.92147827148438, 150.73898315429688, 137.51856994628906, 137.2823944091797, 126.22380065917969, 121.74702453613281, 110.90807342529297, 110.19453430175781, 1591.929443359375, 979.8782348632812, 3448.03857421875, 1668.6722412109375, 12610.5576171875, 1323.3636474609375, 5503.3798828125, 5089.833984375, 1106.4779052734375, 4234.33203125, 937.943359375, 2957.51416015625, 4893.26513671875, 16605.6171875, 2032.9407958984375, 19072.4375, 15205.7412109375, 1005.501220703125, 1723.4942626953125, 20491.259765625, 5578.44189453125, 1522.8592529296875, 41365.56640625, 28955.103515625, 9039.66015625, 16624.453125, 10963.6357421875, 28135.197265625, 11844.0458984375, 31727.5703125, 5229.89453125, 4296.39599609375, 4011.76318359375, 2670.83349609375, 2100.201904296875, 1069.07666015625, 759.3245239257812, 596.363525390625, 665.0595092773438, 569.6473388671875, 487.9503479003906, 440.8515625, 374.55523681640625, 367.0303955078125, 364.9843444824219, 355.072021484375, 307.68890380859375, 290.64691162109375, 286.292724609375, 285.24591064453125, 280.1290283203125, 256.3717041015625, 243.63323974609375, 236.8705596923828, 236.64051818847656, 234.12847900390625, 214.6349334716797, 209.52105712890625, 203.5017547607422, 195.41571044921875, 1267.4742431640625, 1132.625244140625, 1422.990234375, 1039.531005859375, 2642.36376953125, 1566.3450927734375, 1429.8134765625, 7829.9140625, 741.5368041992188, 2769.595703125, 6873.01953125, 1994.8182373046875, 2652.353515625, 1861.786865234375, 10087.431640625, 16624.453125, 12771.6337890625, 5785.29248046875, 10269.8349609375, 3622.90625, 4315.5908203125, 5340.24609375, 11844.0458984375], \"Category\": [\"Default\", \"Default\", \"Default\", \"Default\", \"Default\", \"Default\", \"Default\", \"Default\", \"Default\", \"Default\", \"Default\", \"Default\", \"Default\", \"Default\", \"Default\", \"Default\", \"Default\", \"Default\", \"Default\", \"Default\", \"Default\", \"Default\", \"Default\", \"Default\", \"Default\", \"Default\", \"Default\", \"Default\", \"Default\", \"Default\", \"Topic1\", \"Topic1\", \"Topic1\", \"Topic1\", \"Topic1\", \"Topic1\", \"Topic1\", \"Topic1\", \"Topic1\", \"Topic1\", \"Topic1\", \"Topic1\", \"Topic1\", \"Topic1\", \"Topic1\", \"Topic1\", \"Topic1\", \"Topic1\", \"Topic1\", \"Topic1\", \"Topic1\", \"Topic1\", \"Topic1\", \"Topic1\", \"Topic1\", \"Topic1\", \"Topic1\", \"Topic1\", \"Topic1\", \"Topic1\", \"Topic1\", \"Topic1\", \"Topic1\", \"Topic1\", \"Topic1\", \"Topic1\", \"Topic1\", \"Topic1\", \"Topic1\", \"Topic1\", \"Topic1\", \"Topic1\", \"Topic1\", \"Topic1\", \"Topic1\", \"Topic1\", \"Topic1\", \"Topic1\", \"Topic1\", \"Topic1\", \"Topic1\", \"Topic1\", \"Topic1\", \"Topic1\", \"Topic1\", \"Topic1\", \"Topic1\", \"Topic1\", \"Topic1\", \"Topic1\", \"Topic1\", \"Topic1\", \"Topic1\", \"Topic1\", \"Topic1\", \"Topic2\", \"Topic2\", \"Topic2\", \"Topic2\", \"Topic2\", \"Topic2\", \"Topic2\", \"Topic2\", \"Topic2\", \"Topic2\", \"Topic2\", \"Topic2\", \"Topic2\", \"Topic2\", \"Topic2\", \"Topic2\", \"Topic2\", \"Topic2\", \"Topic2\", \"Topic2\", \"Topic2\", \"Topic2\", \"Topic2\", \"Topic2\", \"Topic2\", \"Topic2\", \"Topic2\", \"Topic2\", \"Topic2\", \"Topic2\", \"Topic2\", \"Topic2\", \"Topic2\", \"Topic2\", \"Topic2\", \"Topic2\", \"Topic2\", \"Topic2\", \"Topic2\", \"Topic2\", \"Topic2\", \"Topic2\", \"Topic2\", \"Topic2\", \"Topic2\", \"Topic2\", \"Topic2\", \"Topic2\", \"Topic2\", \"Topic2\", \"Topic2\", \"Topic2\", \"Topic2\", \"Topic2\", \"Topic2\", \"Topic2\", \"Topic2\", \"Topic2\", \"Topic2\", \"Topic2\", \"Topic2\", \"Topic2\", \"Topic2\", \"Topic2\", \"Topic2\", \"Topic2\", \"Topic2\", \"Topic2\", \"Topic2\", \"Topic3\", \"Topic3\", \"Topic3\", \"Topic3\", \"Topic3\", \"Topic3\", \"Topic3\", \"Topic3\", \"Topic3\", \"Topic3\", \"Topic3\", \"Topic3\", \"Topic3\", \"Topic3\", \"Topic3\", \"Topic3\", \"Topic3\", \"Topic3\", \"Topic3\", \"Topic3\", \"Topic3\", \"Topic3\", \"Topic3\", \"Topic3\", \"Topic3\", \"Topic3\", \"Topic3\", \"Topic3\", \"Topic3\", \"Topic3\", \"Topic3\", \"Topic3\", \"Topic3\", \"Topic3\", \"Topic3\", \"Topic3\", \"Topic3\", \"Topic3\", \"Topic3\", \"Topic3\", \"Topic3\", \"Topic3\", \"Topic3\", \"Topic3\", \"Topic3\", \"Topic3\", \"Topic3\", \"Topic3\", \"Topic3\", \"Topic3\", \"Topic3\", \"Topic3\", \"Topic3\", \"Topic3\", \"Topic3\", \"Topic3\", \"Topic3\", \"Topic3\", \"Topic3\", \"Topic3\", \"Topic3\", \"Topic3\", \"Topic3\", \"Topic3\", \"Topic3\", \"Topic3\", \"Topic3\", \"Topic3\", \"Topic3\", \"Topic4\", \"Topic4\", \"Topic4\", \"Topic4\", \"Topic4\", \"Topic4\", \"Topic4\", \"Topic4\", \"Topic4\", \"Topic4\", \"Topic4\", \"Topic4\", \"Topic4\", \"Topic4\", \"Topic4\", \"Topic4\", \"Topic4\", \"Topic4\", \"Topic4\", \"Topic4\", \"Topic4\", \"Topic4\", \"Topic4\", \"Topic4\", \"Topic4\", \"Topic4\", \"Topic4\", \"Topic4\", \"Topic4\", \"Topic4\", \"Topic4\", \"Topic4\", \"Topic4\", \"Topic4\", \"Topic4\", \"Topic4\", \"Topic4\", \"Topic4\", \"Topic4\", \"Topic4\", \"Topic4\", \"Topic4\", \"Topic4\", \"Topic4\", \"Topic4\", \"Topic4\", \"Topic4\", \"Topic4\", \"Topic4\", \"Topic4\", \"Topic4\", \"Topic4\", \"Topic4\", \"Topic4\", \"Topic4\", \"Topic4\", \"Topic4\", \"Topic4\", \"Topic4\", \"Topic4\", \"Topic4\", \"Topic4\", \"Topic5\", \"Topic5\", \"Topic5\", \"Topic5\", \"Topic5\", \"Topic5\", \"Topic5\", \"Topic5\", \"Topic5\", \"Topic5\", \"Topic5\", \"Topic5\", \"Topic5\", \"Topic5\", \"Topic5\", \"Topic5\", \"Topic5\", \"Topic5\", \"Topic5\", \"Topic5\", \"Topic5\", \"Topic5\", \"Topic5\", \"Topic5\", \"Topic5\", \"Topic5\", \"Topic5\", \"Topic5\", \"Topic5\", \"Topic5\", \"Topic5\", \"Topic5\", \"Topic5\", \"Topic5\", \"Topic5\", \"Topic5\", \"Topic5\", \"Topic5\", \"Topic5\", \"Topic5\", \"Topic5\", \"Topic5\", \"Topic5\", \"Topic5\", \"Topic5\", \"Topic5\", \"Topic5\", \"Topic5\", \"Topic5\", \"Topic5\", \"Topic5\", \"Topic5\", \"Topic5\", \"Topic5\", \"Topic5\", \"Topic5\", \"Topic5\", \"Topic5\", \"Topic5\", \"Topic6\", \"Topic6\", \"Topic6\", \"Topic6\", \"Topic6\", \"Topic6\", \"Topic6\", \"Topic6\", \"Topic6\", \"Topic6\", \"Topic6\", \"Topic6\", \"Topic6\", \"Topic6\", \"Topic6\", \"Topic6\", \"Topic6\", \"Topic6\", \"Topic6\", \"Topic6\", \"Topic6\", \"Topic6\", \"Topic6\", \"Topic6\", \"Topic6\", \"Topic6\", \"Topic6\", \"Topic6\", \"Topic6\", \"Topic6\", \"Topic6\", \"Topic6\", \"Topic6\", \"Topic6\", \"Topic6\", \"Topic6\", \"Topic6\", \"Topic6\", \"Topic6\", \"Topic6\", \"Topic6\", \"Topic6\", \"Topic6\", \"Topic6\", \"Topic6\", \"Topic6\", \"Topic6\", \"Topic6\", \"Topic6\", \"Topic6\", \"Topic6\", \"Topic6\", \"Topic6\", \"Topic6\", \"Topic6\", \"Topic6\", \"Topic6\", \"Topic6\", \"Topic7\", \"Topic7\", \"Topic7\", \"Topic7\", \"Topic7\", \"Topic7\", \"Topic7\", \"Topic7\", \"Topic7\", \"Topic7\", \"Topic7\", \"Topic7\", \"Topic7\", \"Topic7\", \"Topic7\", \"Topic7\", \"Topic7\", \"Topic7\", \"Topic7\", \"Topic7\", \"Topic7\", \"Topic7\", \"Topic7\", \"Topic7\", \"Topic7\", \"Topic7\", \"Topic7\", \"Topic7\", \"Topic7\", \"Topic7\", \"Topic7\", \"Topic7\", \"Topic7\", \"Topic7\", \"Topic7\", \"Topic7\", \"Topic7\", \"Topic7\", \"Topic7\", \"Topic7\", \"Topic7\", \"Topic7\", \"Topic7\", \"Topic7\", \"Topic7\", \"Topic7\", \"Topic7\", \"Topic7\", \"Topic7\", \"Topic8\", \"Topic8\", \"Topic8\", \"Topic8\", \"Topic8\", \"Topic8\", \"Topic8\", \"Topic8\", \"Topic8\", \"Topic8\", \"Topic8\", \"Topic8\", \"Topic8\", \"Topic8\", \"Topic8\", \"Topic8\", \"Topic8\", \"Topic8\", \"Topic8\", \"Topic8\", \"Topic8\", \"Topic8\", \"Topic8\", \"Topic8\", \"Topic8\", \"Topic8\", \"Topic8\", \"Topic8\", \"Topic8\", \"Topic8\", \"Topic8\", \"Topic8\", \"Topic8\", \"Topic8\", \"Topic8\", \"Topic8\", \"Topic8\", \"Topic8\", \"Topic8\", \"Topic8\", \"Topic8\", \"Topic8\", \"Topic8\", \"Topic8\", \"Topic8\", \"Topic8\", \"Topic8\", \"Topic8\", \"Topic8\", \"Topic8\", \"Topic8\", \"Topic8\", \"Topic8\", \"Topic8\", \"Topic8\", \"Topic8\", \"Topic8\", \"Topic8\", \"Topic8\", \"Topic8\", \"Topic9\", \"Topic9\", \"Topic9\", \"Topic9\", \"Topic9\", \"Topic9\", \"Topic9\", \"Topic9\", \"Topic9\", \"Topic9\", \"Topic9\", \"Topic9\", \"Topic9\", \"Topic9\", \"Topic9\", \"Topic9\", \"Topic9\", \"Topic9\", \"Topic9\", \"Topic9\", \"Topic9\", \"Topic9\", \"Topic9\", \"Topic9\", \"Topic9\", \"Topic9\", \"Topic9\", \"Topic9\", \"Topic9\", \"Topic9\", \"Topic9\", \"Topic9\", \"Topic9\", \"Topic9\", \"Topic9\", \"Topic9\", \"Topic9\", \"Topic9\", \"Topic9\", \"Topic9\", \"Topic9\", \"Topic9\", \"Topic9\", \"Topic9\", \"Topic9\", \"Topic9\", \"Topic9\", \"Topic9\", \"Topic9\", \"Topic9\", \"Topic9\", \"Topic9\", \"Topic9\"], \"logprob\": [30.0, 29.0, 28.0, 27.0, 26.0, 25.0, 24.0, 23.0, 22.0, 21.0, 20.0, 19.0, 18.0, 17.0, 16.0, 15.0, 14.0, 13.0, 12.0, 11.0, 10.0, 9.0, 8.0, 7.0, 6.0, 5.0, 4.0, 3.0, 2.0, 1.0, -4.184000015258789, -4.390100002288818, -4.494200229644775, -5.0879998207092285, -5.128399848937988, -5.206299781799316, -5.409800052642822, -5.810999870300293, -5.842400074005127, -5.882900238037109, -5.9334001541137695, -6.029699802398682, -6.0868000984191895, -6.143499851226807, -6.153500080108643, -6.223899841308594, -6.0370001792907715, -6.302000045776367, -6.324999809265137, -6.356900215148926, -6.375400066375732, -6.498600006103516, -6.622799873352051, -6.688700199127197, -6.710000038146973, -6.80679988861084, -6.865600109100342, -6.859899997711182, -6.9182000160217285, -6.946000099182129, -6.182400226593018, -6.362100124359131, -5.267600059509277, -4.328499794006348, -5.042200088500977, -4.887400150299072, -4.7729997634887695, -4.594699859619141, -5.063700199127197, -3.8852999210357666, -4.22790002822876, -5.429299831390381, -5.607699871063232, -5.868100166320801, -3.8926000595092773, -3.242500066757202, -4.813600063323975, -4.083099842071533, -5.067299842834473, -4.065299987792969, -4.450099945068359, -4.051300048828125, -5.14739990234375, -4.336100101470947, -3.8917999267578125, -4.299499988555908, -5.2718000411987305, -4.974599838256836, -4.283999919891357, -4.714200019836426, -4.690299987792969, -4.388999938964844, -4.7399001121521, -4.850299835205078, -5.060100078582764, -4.466700077056885, -5.343500137329102, -5.8618998527526855, -5.900899887084961, -6.1595001220703125, -6.514800071716309, -6.562699794769287, -6.6793999671936035, -6.729300022125244, -6.7307000160217285, -6.752799987792969, -6.850200176239014, -6.894700050354004, -7.004899978637695, -7.116600036621094, -7.122000217437744, -7.2042999267578125, -7.225200176239014, -7.24560022354126, -7.329699993133545, -7.353799819946289, -7.358500003814697, -7.381800174713135, -7.409299850463867, -7.417900085449219, -7.431399822235107, -7.437399864196777, -7.244200229644775, -7.467800140380859, -7.474400043487549, -6.741799831390381, -4.677700042724609, -2.073499917984009, -3.888000011444092, -4.530900001525879, -5.941199779510498, -4.850500106811523, -2.58270001411438, -3.9133999347686768, -4.967400074005127, -3.261199951171875, -4.129499912261963, -6.10860013961792, -3.6171998977661133, -4.028600215911865, -4.381700038909912, -3.148699998855591, -4.572700023651123, -5.306399822235107, -4.506800174713135, -5.435100078582764, -5.295300006866455, -4.407700061798096, -5.285299777984619, -5.921000003814697, -4.8730998039245605, -4.007800102233887, -4.343400001525879, -4.239299774169922, -4.415599822998047, -4.4527997970581055, -4.414100170135498, -5.089900016784668, -4.221700191497803, -4.378799915313721, -5.0594000816345215, -4.931700229644775, -5.007199764251709, -5.044899940490723, -4.6753997802734375, -4.8171000480651855, -5.076700210571289, -5.479100227355957, -5.8805999755859375, -5.9303998947143555, -6.047999858856201, -6.258800029754639, -6.352799892425537, -3.272599935531616, -6.4593000411987305, -6.603300094604492, -6.666399955749512, -6.746600151062012, -6.756199836730957, -6.793700218200684, -6.7555999755859375, -6.821899890899658, -6.856200218200684, -6.857699871063232, -6.892199993133545, -6.90339994430542, -6.921599864959717, -6.927299976348877, -6.997499942779541, -7.013400077819824, -7.017000198364258, -7.037099838256836, -7.094399929046631, -7.123000144958496, -3.52810001373291, -5.958399772644043, -5.371699810028076, -5.411200046539307, -5.383699893951416, -6.732900142669678, -4.345699787139893, -4.110799789428711, -5.241799831390381, -6.406700134277344, -4.083899974822998, -4.089700222015381, -2.6133999824523926, -3.373500108718872, -5.126699924468994, -2.9939000606536865, -5.947800159454346, -5.263000011444092, -4.38040018081665, -5.230400085449219, -5.417699813842773, -4.2006001472473145, -3.7941999435424805, -4.413300037384033, -4.592199802398682, -3.8845999240875244, -4.270100116729736, -4.316800117492676, -4.851600170135498, -3.558000087738037, -4.121300220489502, -4.769000053405762, -4.813600063323975, -4.764699935913086, -4.864299774169922, -5.005000114440918, -4.878399848937988, -4.910299777984619, -5.010499954223633, -4.0644001960754395, -5.031599998474121, -5.763000011444092, -5.806300163269043, -5.861800193786621, -5.997399806976318, -6.065299987792969, -6.06850004196167, -6.137800216674805, -6.238399982452393, -6.26200008392334, -6.310200214385986, -6.353899955749512, -6.366499900817871, -6.4029998779296875, -6.438799858093262, -6.581099987030029, -6.581699848175049, -6.592800140380859, -6.76200008392334, -6.819699764251709, -6.869900226593018, -6.9116997718811035, -6.912099838256836, -6.912399768829346, -6.9710001945495605, -6.972400188446045, -7.010000228881836, -7.010799884796143, -7.046599864959717, -3.4019999504089355, -2.7279999256134033, -2.7018001079559326, -5.550899982452393, -4.662899971008301, -3.2911999225616455, -2.9184000492095947, -5.941800117492676, -5.337399959564209, -5.87529993057251, -3.070499897003174, -3.599400043487549, -4.903299808502197, -5.103499889373779, -3.903700113296509, -4.675099849700928, -3.2414000034332275, -4.4394001960754395, -4.099400043487549, -4.492300033569336, -3.905100107192993, -4.664299964904785, -4.791299819946289, -3.4934000968933105, -4.617599964141846, -3.847100019454956, -4.416800022125244, -4.7453999519348145, -5.076600074768066, -4.370699882507324, -4.700799942016602, -4.796299934387207, -4.079100131988525, -4.638899803161621, -4.730800151824951, -4.740799903869629, -4.831699848175049, -4.848899841308594, -4.993000030517578, -5.007400035858154, -5.294099807739258, -4.671800136566162, -5.374499797821045, -5.551799774169922, -5.645500183105469, -5.698500156402588, -5.72760009765625, -5.906099796295166, -5.945499897003174, -6.004799842834473, -6.069399833679199, -6.142499923706055, -6.220300197601318, -6.297800064086914, -6.339300155639648, -6.429100036621094, -6.433199882507324, -6.502399921417236, -6.557499885559082, -6.575300216674805, -6.625500202178955, -6.629899978637695, -3.4488000869750977, -5.5524001121521, -4.251299858093262, -5.001699924468994, -5.2399001121521, -4.485899925231934, -4.304599761962891, -4.495500087738037, -5.68120002746582, -5.147600173950195, -4.575399875640869, -3.6412999629974365, -4.689799785614014, -4.410299777984619, -3.3322999477386475, -5.462299823760986, -4.9959001541137695, -5.175099849700928, -4.757900238037109, -4.917300224304199, -4.262700080871582, -4.564000129699707, -4.639599800109863, -4.736599922180176, -4.752500057220459, -4.632800102233887, -4.696899890899658, -4.827600002288818, -4.927999973297119, -1.938599944114685, -3.9769999980926514, -4.132999897003174, -4.325300216674805, -4.526000022888184, -4.85830020904541, -4.984000205993652, -5.079400062561035, -5.09660005569458, -5.392600059509277, -5.547100067138672, -5.71560001373291, -5.738699913024902, -5.962299823760986, -6.052700042724609, -6.107699871063232, -6.215000152587891, -6.373799800872803, -6.3942999839782715, -6.416399955749512, -6.452600002288818, -6.496300220489502, -6.546199798583984, -6.61870002746582, -6.676400184631348, -6.71999979019165, -6.734300136566162, -6.760900020599365, -6.763599872589111, -6.779600143432617, -3.0820000171661377, -4.196499824523926, -5.0706000328063965, -4.240799903869629, -3.6846001148223877, -3.0625, -6.105500221252441, -4.590000152587891, -4.5370001792907715, -4.512400150299072, -4.893700122833252, -4.093100070953369, -4.447700023651123, -3.18969988822937, -5.470300197601318, -3.3812999725341797, -3.348599910736084, -4.216700077056885, -4.3084001541137695, -3.9623000621795654, -4.1981000900268555, -4.241399765014648, -4.016300201416016, -4.183300018310547, -4.146100044250488, -3.9892001152038574, -4.75, -4.859000205993652, -2.3397998809814453, -3.0720999240875244, -3.600800037384033, -3.6875, -3.859600067138672, -4.300899982452393, -4.335999965667725, -4.493899822235107, -4.575500011444092, -4.577700138092041, -4.926400184631348, -4.9334001541137695, -4.968699932098389, -5.1097002029418945, -5.131999969482422, -5.2170000076293945, -5.459700107574463, -5.529399871826172, -5.533299922943115, -5.697700023651123, -6.016300201416016, -6.080699920654297, -6.19320011138916, -6.256100177764893, -6.406899929046631, -6.491199970245361, -6.492599964141846, -6.506800174713135, -6.514100074768066, -6.524400234222412, -4.3171000480651855, -4.647299766540527, -3.7170000076293945, -3.4047999382019043, -4.7657999992370605, -4.877900123596191, -2.976099967956543, -4.831600189208984, -4.8684000968933105, -4.891600131988525, -4.08050012588501, -4.732100009918213, -4.362100124359131, -4.872300148010254, -4.474999904632568, -4.26639986038208, -4.535299777984619, -4.707600116729736, -4.302800178527832, -2.3343000411987305, -4.156000137329102, -4.57420015335083, -4.723299980163574, -5.393799781799316, -5.418900012969971, -5.422500133514404, -5.547399997711182, -5.610400199890137, -5.67080020904541, -5.678999900817871, -5.784800052642822, -5.784999847412109, -5.80109977722168, -5.815100193023682, -5.841599941253662, -5.945199966430664, -5.957200050354004, -6.07390022277832, -6.074399948120117, -5.900100231170654, -6.3618998527526855, -6.36460018157959, -6.430300235748291, -6.522600173950195, -6.5243000984191895, -6.608799934387207, -6.645199775695801, -6.739099979400635, -6.74560022354126, -4.1529998779296875, -4.7322998046875, -3.5906999111175537, -4.432300090789795, -2.757699966430664, -4.656000137329102, -3.696700096130371, -3.7950000762939453, -4.950500011444092, -4.06220006942749, -5.091100215911865, -4.345300197601318, -4.058000087738037, -3.3129000663757324, -4.772600173950195, -3.628000020980835, -3.8345999717712402, -5.209499835968018, -4.982100009918213, -3.9467999935150146, -4.490799903869629, -5.093900203704834, -4.082200050354004, -4.234099864959717, -4.579800128936768, -4.4629998207092285, -4.792500019073486, -4.6691999435424805, -4.828000068664551, -4.888199806213379, -2.8273000717163086, -3.0239999294281006, -3.0924999713897705, -3.4993999004364014, -3.7400999069213867, -4.415500164031982, -4.757900238037109, -4.999800205230713, -4.8907999992370605, -5.0457000732421875, -5.200699806213379, -5.3024001121521, -5.465700149536133, -5.486100196838379, -5.491700172424316, -5.5192999839782715, -5.662799835205078, -5.71999979019165, -5.735099792480469, -5.738800048828125, -5.756899833679199, -5.845799922943115, -5.896999835968018, -5.92519998550415, -5.926199913024902, -5.9369001388549805, -6.024099826812744, -6.048299789428711, -6.077600002288818, -6.118299961090088, -4.35230016708374, -4.499100208282471, -4.350299835205078, -4.779799938201904, -4.110000133514404, -4.502600193023682, -4.573800086975098, -3.3313000202178955, -5.098800182342529, -4.251200199127197, -3.6714000701904297, -4.529399871826172, -4.39769983291626, -4.679699897766113, -3.7964999675750732, -3.601799964904785, -3.9007999897003174, -4.385900020599365, -4.396699905395508, -4.785099983215332, -4.791299819946289, -4.837100028991699, -4.907100200653076], \"loglift\": [30.0, 29.0, 28.0, 27.0, 26.0, 25.0, 24.0, 23.0, 22.0, 21.0, 20.0, 19.0, 18.0, 17.0, 16.0, 15.0, 14.0, 13.0, 12.0, 11.0, 10.0, 9.0, 8.0, 7.0, 6.0, 5.0, 4.0, 3.0, 2.0, 1.0, 1.5985000133514404, 1.5985000133514404, 1.5985000133514404, 1.5982999801635742, 1.5982999801635742, 1.5981999635696411, 1.598099946975708, 1.5978000164031982, 1.5978000164031982, 1.5978000164031982, 1.5976999998092651, 1.597599983215332, 1.597599983215332, 1.597499966621399, 1.597499966621399, 1.5973999500274658, 1.5973000526428223, 1.5973000526428223, 1.5972000360488892, 1.5972000360488892, 1.5972000360488892, 1.597000002861023, 1.5966999530792236, 1.59660005569458, 1.596500039100647, 1.5963000059127808, 1.5961999893188477, 1.5960999727249146, 1.5959999561309814, 1.5959999561309814, 1.5928000211715698, 1.5870000123977661, 1.4743000268936157, 1.25409996509552, 1.346500039100647, 1.319599986076355, 1.2644000053405762, 1.1969000101089478, 1.2627999782562256, 0.9675999879837036, 1.0012999773025513, 1.3114999532699585, 1.3625999689102173, 1.4421000480651855, 0.7103999853134155, 0.3598000109195709, 1.0147000551223755, 0.6944000124931335, 1.0972000360488892, 0.5629000067710876, 0.6998000144958496, 0.46369999647140503, 1.0740000009536743, 0.45399999618530273, 0.09589999914169312, 0.2143000066280365, 1.0839999914169312, 0.7858999967575073, 0.02070000022649765, 0.49540001153945923, 0.323199987411499, -0.4300999939441681, 0.2556000053882599, -0.5558000206947327, -0.01119999960064888, 1.6912000179290771, 1.6907999515533447, 1.6904000043869019, 1.6904000043869019, 1.6900999546051025, 1.6894999742507935, 1.6893999576568604, 1.6891000270843506, 1.6890000104904175, 1.6890000104904175, 1.6890000104904175, 1.6886999607086182, 1.688599944114685, 1.6883000135421753, 1.6878999471664429, 1.6878999471664429, 1.6875, 1.6875, 1.687399983406067, 1.687000036239624, 1.686900019645691, 1.686900019645691, 1.6868000030517578, 1.6866999864578247, 1.6865999698638916, 1.6865999698638916, 1.6864999532699585, 1.6864999532699585, 1.686400055885315, 1.6863000392913818, 1.6859999895095825, 1.628499984741211, 1.3849999904632568, 1.467900037765503, 1.5055999755859375, 1.5820000171661377, 1.490399956703186, 1.2848000526428223, 1.385599970817566, 1.329200029373169, 1.0434999465942383, 1.1403000354766846, 1.4867000579833984, 1.0111000537872314, 1.020300030708313, 1.0946999788284302, 0.8102999925613403, 1.0994999408721924, 1.2258000373840332, 0.9383000135421753, 1.2496000528335571, 1.1704000234603882, 0.8019999861717224, 1.114400029182434, 1.365399956703186, 0.824400007724762, 0.2867000102996826, 0.4341000020503998, 0.3637999892234802, 0.4066999852657318, 0.4000999927520752, 0.20499999821186066, 0.8464999794960022, -0.6194999814033508, -0.3912000060081482, 0.7010999917984009, 0.08169999718666077, 0.2596000134944916, 0.5289000272750854, 1.875499963760376, 1.875499963760376, 1.8753000497817993, 1.875, 1.8746000528335571, 1.8746000528335571, 1.874400019645691, 1.8740999698638916, 1.873900055885315, 1.873900055885315, 1.8736000061035156, 1.8732999563217163, 1.8731000423431396, 1.8729000091552734, 1.8729000091552734, 1.8727999925613403, 1.8726999759674072, 1.8726999759674072, 1.8725999593734741, 1.8725999593734741, 1.8724000453948975, 1.8724000453948975, 1.8723000288009644, 1.8723000288009644, 1.8720999956130981, 1.871999979019165, 1.871999979019165, 1.871899962425232, 1.8717000484466553, 1.871500015258789, 1.8509999513626099, 1.8659000396728516, 1.8560999631881714, 1.8442000150680542, 1.8395999670028687, 1.8669999837875366, 1.7446000576019287, 1.7186000347137451, 1.6722999811172485, 1.811400055885315, 1.4915000200271606, 1.4842000007629395, 0.9887999892234802, 1.1403000354766846, 1.5017000436782837, 0.9937999844551086, 1.6864999532699585, 1.4358999729156494, 1.1704000234603882, 1.3847999572753906, 1.4523999691009521, 1.0016000270843506, 0.8248999714851379, 1.0318000316619873, 1.0571999549865723, 0.4918999969959259, 0.6938999891281128, 0.6786999702453613, 1.0108000040054321, -0.09960000216960907, 0.17309999465942383, 0.35409998893737793, -0.2046000063419342, -0.45989999175071716, -0.0868000015616417, 0.2939999997615814, -0.36340001225471497, -0.26499998569488525, -0.1881999969482422, 2.0422000885009766, 2.041800022125244, 2.041100025177002, 2.0409998893737793, 2.0408999919891357, 2.0406999588012695, 2.040600061416626, 2.040600061416626, 2.0404999256134033, 2.040299892425537, 2.0401999950408936, 2.04010009765625, 2.0399999618530273, 2.0399999618530273, 2.039900064468384, 2.039799928665161, 2.039400100708008, 2.039400100708008, 2.039400100708008, 2.038800001144409, 2.038599967956543, 2.0383999347686768, 2.038300037384033, 2.0381999015808105, 2.0381999015808105, 2.0380001068115234, 2.0380001068115234, 2.0378000736236572, 2.0378000736236572, 2.0376999378204346, 1.9515000581741333, 1.9172999858856201, 1.907099962234497, 1.9726999998092651, 1.8473000526428223, 1.6727999448776245, 1.4580999612808228, 1.8734999895095825, 1.7371000051498413, 1.8467999696731567, 1.2239999771118164, 1.3308000564575195, 1.623900055885315, 1.6124999523162842, 1.2460999488830566, 1.4707000255584717, 0.7175999879837036, 1.15339994430542, 0.8960999846458435, 1.0582000017166138, 0.7141000032424927, 1.0497000217437744, 1.0901999473571777, -0.03500000014901161, 0.7554000020027161, -0.24480000138282776, 0.0982000008225441, 0.4643000066280365, 0.8895000219345093, -0.382999986410141, -0.09769999980926514, -0.006099999882280827, 2.49399995803833, 2.4937000274658203, 2.4935998916625977, 2.4935998916625977, 2.493499994277954, 2.493499994277954, 2.4934000968933105, 2.4934000968933105, 2.4930999279022217, 2.493000030517578, 2.4928998947143555, 2.4927000999450684, 2.492500066757202, 2.4923999309539795, 2.4923999309539795, 2.492000102996826, 2.4918999671936035, 2.4916999340057373, 2.491499900817871, 2.491300106048584, 2.4911000728607178, 2.490799903869629, 2.4907000064849854, 2.490299940109253, 2.490299940109253, 2.490000009536743, 2.489799976348877, 2.4897000789642334, 2.489500045776367, 2.4893999099731445, 2.434299945831299, 2.461699962615967, 2.3399999141693115, 2.3657000064849854, 2.3454999923706055, 2.141400098800659, 2.0732998847961426, 2.068000078201294, 2.3457000255584717, 2.0947999954223633, 1.7551000118255615, 1.2888000011444092, 1.7761000394821167, 1.5640000104904175, 0.5353000164031982, 2.1540000438690186, 1.7163000106811523, 1.787600040435791, 1.2098000049591064, 1.2285000085830688, 0.042100001126527786, 0.5590999722480774, 0.6258000135421753, 0.7803000211715698, 0.7979999780654907, 0.3806000053882599, 0.3521000146865845, -0.22460000216960907, 0.6413999795913696, 2.7309000492095947, 2.7304999828338623, 2.7304000854492188, 2.730299949645996, 2.7302000522613525, 2.7298998832702637, 2.7297000885009766, 2.729599952697754, 2.729599952697754, 2.729099988937378, 2.728800058364868, 2.7283999919891357, 2.7283999919891357, 2.7276999950408936, 2.727400064468384, 2.7272000312805176, 2.726799964904785, 2.726099967956543, 2.7260000705718994, 2.7258999347686768, 2.7256999015808105, 2.7255001068115234, 2.7251999378204346, 2.7248001098632812, 2.724400043487549, 2.724100112915039, 2.7239999771118164, 2.72379994392395, 2.72379994392395, 2.7237000465393066, 2.5237998962402344, 2.565200090408325, 2.613800048828125, 2.5114998817443848, 2.427500009536743, 2.3345999717712402, 2.6422998905181885, 2.3224000930786133, 2.2746999263763428, 2.267899990081787, 2.133699893951416, 1.62090003490448, 1.6252000331878662, 0.7692000269889832, 2.2083001136779785, 0.6064000129699707, 0.5188999772071838, 1.1562999486923218, 1.0475000143051147, 0.6658999919891357, 0.8508999943733215, 0.8816999793052673, 0.4986000061035156, 0.6389999985694885, 0.4729999899864197, -0.3869999945163727, 0.9474999904632568, 1.5406999588012695, 2.757999897003174, 2.7578999996185303, 2.7578001022338867, 2.7578001022338867, 2.757699966430664, 2.757499933242798, 2.757499933242798, 2.7572999000549316, 2.7572999000549316, 2.7572999000549316, 2.7569000720977783, 2.7569000720977783, 2.7569000720977783, 2.756700038909912, 2.756700038909912, 2.756500005722046, 2.7560999393463135, 2.75600004196167, 2.75600004196167, 2.7555999755859375, 2.7546000480651855, 2.7544000148773193, 2.753999948501587, 2.753700017929077, 2.753000020980835, 2.752500057220459, 2.752500057220459, 2.752500057220459, 2.7523999214172363, 2.7523999214172363, 2.644200086593628, 2.598299980163574, 2.3559000492095947, 2.2144999504089355, 2.408099889755249, 2.420300006866455, 1.8461999893188477, 2.2743000984191895, 2.2474000453948975, 2.206199884414673, 1.5916999578475952, 2.0476999282836914, 1.6122000217437744, 2.001499891281128, 1.3473999500274658, 0.9358000159263611, 1.1786999702453613, 1.506600022315979, -0.43529999256134033, 2.7920000553131104, 2.7915000915527344, 2.7911999225616455, 2.791100025177002, 2.79010009765625, 2.79010009765625, 2.79010009765625, 2.789799928665161, 2.7897000312805176, 2.7894999980926514, 2.7894999980926514, 2.7892000675201416, 2.7892000675201416, 2.7892000675201416, 2.789099931716919, 2.789099931716919, 2.7887001037597656, 2.7887001037597656, 2.788300037384033, 2.788300037384033, 2.7881999015808105, 2.7869999408721924, 2.7869999408721924, 2.7867000102996826, 2.786099910736084, 2.786099910736084, 2.785599946975708, 2.785399913787842, 2.7846999168395996, 2.784600019454956, 2.7067999839782715, 2.6126999855041504, 2.4962000846862793, 2.3803999423980713, 2.0325000286102295, 2.3884999752044678, 1.922700047492981, 1.902500033378601, 2.2730000019073486, 1.8193000555038452, 2.297600030899048, 1.8949999809265137, 1.6787999868392944, 1.2020000219345093, 1.8427000045776367, 0.7483999729156494, 0.7684999704360962, 2.1096999645233154, 1.79830002784729, 0.3578999936580658, 1.1150000095367432, 1.8102999925613403, -0.47999998927116394, -0.2752000093460083, 0.5432999730110168, 0.05079999938607216, 0.13770000636577606, -0.6815000176429749, 0.024900000542402267, -1.0205999612808228, 2.8429999351501465, 2.8429999351501465, 2.8429999351501465, 2.842900037765503, 2.842600107192993, 2.842400074005127, 2.842099905014038, 2.8417999744415283, 2.8417999744415283, 2.8417000770568848, 2.8415000438690186, 2.8413000106811523, 2.8410000801086426, 2.8410000801086426, 2.84089994430542, 2.84089994430542, 2.8405001163482666, 2.840399980545044, 2.8403000831604004, 2.8403000831604004, 2.8403000831604004, 2.8399999141693115, 2.8397998809814453, 2.8396999835968018, 2.8396999835968018, 2.8396999835968018, 2.839400053024292, 2.8392999172210693, 2.839200019836426, 2.8389999866485596, 2.7353999614715576, 2.7011001110076904, 2.6215999126434326, 2.5060999393463135, 2.2430999279022217, 2.3733999729156494, 2.3933000564575195, 1.9354000091552734, 2.5250000953674316, 2.054800033569336, 1.7257000207901, 2.10479998588562, 1.9515999555587769, 2.0234999656677246, 1.2168999910354614, 0.9120000004768372, 0.8766999840736389, 1.183500051498413, 0.598800003528595, 1.2523000240325928, 1.0710999965667725, 0.8123000264167786, -0.05420000106096268]}, \"token.table\": {\"Topic\": [3, 2, 3, 1, 5, 5, 9, 3, 9, 1, 3, 3, 3, 8, 1, 2, 3, 4, 5, 6, 7, 8, 1, 2, 3, 9, 1, 2, 3, 6, 8, 3, 6, 1, 2, 3, 4, 5, 6, 8, 5, 8, 9, 7, 6, 2, 3, 4, 5, 3, 5, 9, 1, 5, 8, 8, 2, 4, 7, 7, 1, 2, 5, 2, 1, 4, 5, 6, 7, 8, 2, 3, 5, 6, 4, 5, 6, 7, 8, 4, 5, 6, 8, 8, 7, 8, 2, 7, 4, 1, 5, 8, 9, 1, 3, 5, 2, 7, 8, 3, 9, 4, 3, 1, 2, 3, 4, 5, 7, 9, 5, 6, 9, 3, 1, 3, 1, 5, 7, 8, 2, 6, 6, 1, 2, 3, 5, 2, 5, 5, 4, 4, 7, 6, 8, 4, 1, 2, 3, 4, 5, 7, 9, 1, 6, 3, 6, 7, 2, 9, 1, 4, 2, 3, 7, 1, 4, 6, 8, 6, 3, 4, 5, 8, 4, 1, 8, 7, 8, 7, 2, 3, 4, 5, 6, 8, 4, 4, 1, 2, 3, 4, 6, 8, 9, 6, 9, 4, 3, 9, 1, 1, 1, 3, 5, 9, 1, 5, 9, 3, 9, 3, 6, 3, 6, 4, 5, 6, 2, 3, 4, 5, 3, 4, 5, 4, 1, 1, 2, 3, 4, 5, 6, 7, 8, 9, 2, 4, 4, 3, 6, 2, 3, 4, 6, 7, 6, 5, 9, 5, 9, 8, 1, 7, 9, 1, 3, 4, 5, 3, 7, 4, 5, 2, 2, 2, 3, 4, 6, 1, 2, 4, 6, 8, 3, 7, 1, 3, 4, 5, 6, 7, 8, 5, 2, 4, 6, 8, 1, 2, 3, 4, 5, 7, 8, 9, 9, 3, 5, 2, 5, 9, 7, 2, 3, 6, 8, 5, 1, 2, 4, 5, 7, 5, 2, 9, 2, 6, 9, 1, 1, 2, 3, 4, 5, 7, 8, 9, 1, 2, 1, 2, 3, 5, 6, 7, 9, 2, 2, 3, 4, 7, 2, 2, 7, 2, 1, 2, 3, 4, 5, 7, 8, 9, 1, 2, 3, 4, 6, 8, 2, 4, 7, 3, 1, 2, 3, 4, 6, 8, 9, 7, 1, 2, 3, 6, 7, 9, 1, 3, 5, 7, 8, 2, 3, 1, 2, 6, 1, 2, 3, 4, 5, 2, 3, 6, 7, 2, 3, 4, 6, 7, 3, 6, 6, 3, 4, 5, 8, 1, 4, 5, 7, 8, 9, 6, 3, 6, 2, 8, 9, 1, 9, 4, 6, 1, 2, 3, 4, 8, 3, 3, 4, 4, 7, 2, 4, 5, 6, 7, 5, 3, 5, 7, 3, 2, 6, 1, 2, 4, 5, 8, 9, 3, 5, 2, 9, 1, 2, 4, 5, 6, 7, 8, 7, 2, 3, 4, 1, 2, 3, 4, 5, 6, 7, 8, 1, 2, 3, 4, 8, 1, 2, 3, 5, 8, 1, 3, 6, 7, 9, 3, 8, 6, 7, 2, 4, 7, 8, 8, 4, 4, 3, 5, 4, 1, 9, 4, 1, 2, 2, 1, 8, 1, 2, 3, 4, 5, 7, 8, 9, 1, 2, 3, 4, 6, 2, 6, 7, 6, 1, 2, 3, 4, 5, 6, 7, 8, 9, 7, 1, 2, 3, 5, 9, 1, 2, 3, 4, 9, 1, 2, 4, 7, 1, 2, 3, 4, 5, 8, 5, 7, 5, 1, 5, 7, 3, 7, 8, 1, 8, 1, 3, 9, 1, 2, 3, 5, 7, 8, 9, 7, 9, 9, 7, 9, 1, 5, 2, 8, 4, 5, 6, 9, 5, 1, 4, 8, 8, 1, 2, 3, 4, 6, 7, 8, 7, 2, 4, 7, 7, 2, 3, 8, 9, 3, 9, 8, 2, 7, 2, 1, 5, 8, 4, 1, 2, 4, 5, 7, 8, 1, 1, 5, 9, 1, 3, 8, 3, 6, 6, 1, 1, 2, 3, 4, 7, 9, 1, 2, 3, 4, 5, 8, 4, 5, 3, 3, 3, 1, 2, 4, 5, 8, 9, 4, 1, 3, 5, 9, 1, 2, 3, 4, 6, 8, 2, 7, 1, 5, 6, 1, 1, 3, 5, 4, 1, 5, 9, 1, 4, 5, 9, 1, 2, 3, 4, 5, 6, 7, 8, 9, 2, 2, 9, 2, 6, 1, 2, 3, 5, 6, 7, 8, 9, 6, 1, 3, 6, 3, 7, 6, 1, 5, 7, 8, 9, 1, 4, 5, 8, 9, 6, 4, 1, 9, 9, 5, 5, 1, 3, 4, 5, 9, 2, 7, 4, 3, 3, 4, 6, 7, 8, 4, 9, 2, 8, 8, 5, 9, 1, 2, 3, 7, 8, 9, 2, 1, 2, 4, 7, 8, 9, 8, 1, 4, 5, 9, 8, 3, 5, 1, 2, 4, 2, 4, 3, 5, 2, 7, 6, 1, 1, 6, 6, 8, 2, 1, 2, 3, 4, 4, 7, 7, 6, 7, 5, 1, 2, 3, 4, 5, 8, 9, 6, 1, 3, 5, 8, 9, 9, 2, 3, 1, 3, 4, 5, 5, 1, 2, 4, 5, 8, 5, 2, 2, 5, 6, 5, 1, 2, 3, 5, 6, 8, 9, 1, 2, 4, 5, 7, 8, 9, 1, 2, 3, 4, 5, 9, 3, 5, 7, 3, 4, 5, 8, 4, 9, 9, 3, 1, 2, 3, 5, 6, 7, 8, 9, 9, 3, 5, 7, 8, 8, 9, 7, 8, 5, 8, 1, 2, 3, 4, 5, 6, 8, 9, 4, 6, 2, 5, 5, 1, 2, 3, 4, 5, 6, 7, 8, 9, 3, 7, 1, 3, 1, 2, 4, 5, 7, 8, 9, 2, 3, 4, 5, 6, 7, 6, 8, 1, 3, 5, 9, 2, 4, 5, 1, 2, 3, 4, 5, 6, 7, 8, 6, 5, 6, 6, 1, 2, 3, 4, 1, 3, 4, 5, 8, 7, 3, 1, 1, 2, 3, 4, 5, 6, 7, 8, 9, 5, 3, 6, 7, 8], \"Freq\": [0.9980486035346985, 0.8302477598190308, 0.16957899928092957, 0.9877447485923767, 0.011203153990209103, 0.9961090683937073, 0.9974008202552795, 0.9931767582893372, 0.995180070400238, 0.035237882286310196, 0.9640723466873169, 0.9946476221084595, 0.9985634088516235, 0.993864119052887, 0.23136474192142487, 0.22779351472854614, 0.05662951618432999, 0.13481396436691284, 0.15432819724082947, 0.0891532301902771, 0.031375814229249954, 0.07435812801122665, 0.0031252342741936445, 0.31269705295562744, 0.675918698310852, 0.008160334080457687, 0.0022423998452723026, 0.7365623712539673, 0.2056412547826767, 0.05328997224569321, 0.0022423998452723026, 0.9382033348083496, 0.061080947518348694, 0.02690713293850422, 0.11045605689287186, 0.0006384743028320372, 0.4908043444156647, 0.2995356619358063, 0.0012769486056640744, 0.0703233852982521, 0.33679473400115967, 0.6628023982048035, 0.9980683922767639, 0.9930871725082397, 0.9973257780075073, 0.8177171945571899, 0.008225779049098492, 0.17348915338516235, 0.9987114667892456, 0.8770607709884644, 0.037829428911209106, 0.08497072011232376, 0.5221198201179504, 0.4773455560207367, 0.997894287109375, 0.9903045296669006, 0.5532126426696777, 0.13523827493190765, 0.3114694654941559, 0.9968954920768738, 0.7501603960990906, 0.11545219272375107, 0.1338576078414917, 0.9985393285751343, 0.42306217551231384, 0.31562596559524536, 0.14778903126716614, 0.009252878837287426, 0.0819907858967781, 0.02210409939289093, 0.20459040999412537, 0.14246591925621033, 0.6530077457427979, 0.9994297623634338, 0.3705034852027893, 0.04973335191607475, 0.3295583426952362, 0.20612376928329468, 0.04394111409783363, 0.007122491020709276, 0.02564096823334694, 0.5925912261009216, 0.3732185363769531, 0.9989027976989746, 0.9983019828796387, 0.9964368939399719, 0.9995009303092957, 0.9963839054107666, 0.9987265467643738, 0.9997009634971619, 0.998017430305481, 0.19817423820495605, 0.8011298775672913, 0.7564136385917664, 0.16514867544174194, 0.07815946638584137, 0.2863043546676636, 0.7138132452964783, 0.9891597628593445, 0.968400239944458, 0.030787291005253792, 0.9981984496116638, 0.9996712803840637, 0.4048033356666565, 0.2843802273273468, 0.1404675394296646, 0.0229414664208889, 0.00015659703058190644, 0.007203463464975357, 0.1399194449186325, 0.15205474197864532, 0.8474062085151672, 0.9975343942642212, 0.9960464239120483, 0.35565152764320374, 0.6439164876937866, 0.9993542432785034, 0.38324642181396484, 0.6162474155426025, 0.9991421103477478, 0.9944623112678528, 0.003013522131368518, 0.9966438412666321, 0.998059093952179, 0.14263811707496643, 0.00048026302829384804, 0.856789231300354, 0.9969985485076904, 0.9982126355171204, 0.9995110630989075, 0.9963504672050476, 0.10707203298807144, 0.892035186290741, 0.08103374391794205, 0.9183824062347412, 0.9955968856811523, 0.20130158960819244, 0.0005617718561552465, 0.4409909248352051, 0.0659145638346672, 0.12602415680885315, 0.03389357030391693, 0.13126735389232635, 0.9988031983375549, 0.9974170327186584, 0.9949665069580078, 0.29499393701553345, 0.704373300075531, 0.9986674785614014, 0.9972932934761047, 0.9978521466255188, 0.9981606006622314, 0.9965304136276245, 0.9976009130477905, 0.9980584383010864, 0.998310923576355, 0.9962500929832458, 0.8129510283470154, 0.18696977198123932, 0.9999516606330872, 0.0006566594820469618, 0.4550650417804718, 0.1687614917755127, 0.3749525845050812, 0.995968222618103, 0.9987025260925293, 0.9957249760627747, 0.5807340145111084, 0.4191969335079193, 0.9970828890800476, 0.05468624457716942, 0.25057101249694824, 0.5575060844421387, 0.00010486336395842955, 0.00760259386152029, 0.12955868244171143, 0.9971376061439514, 0.9972976446151733, 0.30208292603492737, 0.5506162047386169, 0.00015749891463201493, 0.03149978443980217, 0.004567468538880348, 0.07197700440883636, 0.03905973210930824, 0.9947150349617004, 0.9969808459281921, 0.9939537048339844, 0.995308518409729, 0.9973030686378479, 0.9976111650466919, 0.9992546439170837, 0.0006384289008565247, 0.25856369733810425, 0.11555563658475876, 0.6250219345092773, 0.0013987838756293058, 0.3601868450641632, 0.6378454566001892, 0.9802300333976746, 0.019060028716921806, 0.9979830384254456, 0.9937549233436584, 0.9995817542076111, 0.9972278475761414, 0.9983997344970703, 0.9952576160430908, 0.9956786036491394, 0.0006152110872790217, 0.15257234871387482, 0.5644561648368835, 0.2820742726325989, 0.08677061647176743, 0.9131109714508057, 0.00013927867985330522, 0.9980199337005615, 0.998314380645752, 0.14701880514621735, 0.10077812522649765, 0.21826042234897614, 0.0767727941274643, 0.14436383545398712, 0.15730680525302887, 0.04004575312137604, 0.10553494095802307, 0.00973487924784422, 0.15351635217666626, 0.844339907169342, 0.9929141998291016, 0.9755048751831055, 0.024437639862298965, 0.5938733816146851, 0.05549030750989914, 0.22111403942108154, 0.058879025280475616, 0.07031595706939697, 0.9995967149734497, 0.9928069710731506, 0.9959695935249329, 0.1315527856349945, 0.8678951859474182, 0.9942737221717834, 0.4847559332847595, 0.037096112966537476, 0.47773775458335876, 0.9994966983795166, 0.16218098998069763, 0.8228081464767456, 0.01487899012863636, 0.994425356388092, 0.9995914101600647, 0.9969109892845154, 0.9957083463668823, 0.9956737756729126, 0.9968556761741638, 0.4709261953830719, 0.4300159215927124, 0.0989173948764801, 0.00015265030378941447, 0.3549545109272003, 0.5064323544502258, 0.00013488676631823182, 0.12679356336593628, 0.011600261554121971, 0.8157597780227661, 0.18371175229549408, 0.18870018422603607, 0.41715192794799805, 0.0013170698657631874, 0.07387564331293106, 0.09075808525085449, 0.16164039075374603, 0.06657189130783081, 0.9997863173484802, 0.42024946212768555, 0.0007858802564442158, 0.16798190772533417, 0.4108189046382904, 0.30836814641952515, 0.07812914997339249, 0.19100157916545868, 0.052547041326761246, 0.15677686035633087, 0.0017285210778936744, 0.02108795754611492, 0.19013731181621552, 0.9980523586273193, 0.000852283788844943, 0.9988765716552734, 0.9968552589416504, 0.997439980506897, 0.9970418214797974, 0.996976375579834, 0.5614911913871765, 0.11539119482040405, 0.3041410446166992, 0.01903359964489937, 0.9978863000869751, 0.09069699794054031, 0.12930800020694733, 0.06737491488456726, 0.3944023847579956, 0.3179577589035034, 0.9985998868942261, 0.00047614469076506793, 0.9994277358055115, 0.9992882609367371, 0.6727756261825562, 0.3270760476589203, 0.9989877939224243, 0.2792584002017975, 0.19995178282260895, 0.12480877339839935, 0.003370530903339386, 0.12074431031942368, 0.025774648413062096, 0.04936836287379265, 0.19668039679527283, 0.2771933972835541, 0.7218577861785889, 0.19989442825317383, 0.5111380815505981, 0.013045525178313255, 0.11740972846746445, 0.1525402069091797, 0.005238754209131002, 0.0006163240177556872, 0.9960343241691589, 0.2398199439048767, 0.022580448538064957, 0.736589789390564, 0.998352587223053, 0.9983807802200317, 0.9389861822128296, 0.060672953724861145, 0.9933844804763794, 0.11597973108291626, 0.24543650448322296, 0.18220555782318115, 0.44111907482147217, 0.01313889492303133, 0.0014974476071074605, 0.00019321904983371496, 0.0004830476245842874, 0.2224971055984497, 0.12461259961128235, 0.41392990946769714, 0.08843015879392624, 0.11949445307254791, 0.030993206426501274, 0.42080777883529663, 0.002390953479334712, 0.5762197375297546, 0.9987715482711792, 0.131479412317276, 0.41429656744003296, 0.0009670143481343985, 0.2658598721027374, 0.1406315118074417, 0.04655483365058899, 0.00020721735199913383, 0.9987314343452454, 0.015080945566296577, 0.1372366100549698, 0.31971606612205505, 0.0738966315984726, 0.044111765921115875, 0.4098246991634369, 0.21309031546115875, 0.13429349660873413, 0.48760825395584106, 0.14234264194965363, 0.022452855482697487, 0.9989771842956543, 0.9967283010482788, 0.09934516251087189, 0.16210514307022095, 0.7382476329803467, 0.44361448287963867, 0.37142249941825867, 0.0004185042344033718, 0.1481504887342453, 0.036200616508722305, 0.0028656090144068003, 0.10746033489704132, 0.889771580696106, 0.9990746378898621, 0.6960681080818176, 0.25181499123573303, 0.006796143017709255, 0.04542684927582741, 0.9985085725784302, 0.9914957284927368, 0.007158813998103142, 0.9989545941352844, 0.09068726748228073, 0.38589322566986084, 0.14524132013320923, 0.3780997693538666, 0.6055596470832825, 0.011910593137145042, 0.20686820149421692, 0.0670754462480545, 0.0849413350224495, 0.023194313049316406, 0.9966956973075867, 0.9975135326385498, 0.9984171986579895, 0.9963198900222778, 0.9961673617362976, 0.9995726346969604, 0.9964684247970581, 0.998992919921875, 0.0829947292804718, 0.9170917868614197, 0.1401926875114441, 0.3094048500061035, 0.22173333168029785, 0.00020436252816580236, 0.3284105658531189, 0.9940243363380432, 0.11752170324325562, 0.882407546043396, 0.99810791015625, 0.9962740540504456, 0.07589703798294067, 0.1664164513349533, 0.4929826259613037, 0.20332051813602448, 0.060578372329473495, 0.9995744228363037, 0.16393646597862244, 0.6704817414283752, 0.16485746204853058, 0.9989549517631531, 0.33501195907592773, 0.6647273302078247, 0.6692330241203308, 0.09520379453897476, 0.02590579353272915, 0.13600541651248932, 0.015975238755345345, 0.05785627290606499, 0.05819001793861389, 0.9416847825050354, 0.996173620223999, 0.9975131154060364, 0.4070030450820923, 0.010339831933379173, 0.4509757459163666, 0.0659022256731987, 0.001363494317047298, 0.06124361976981163, 0.0031814866233617067, 0.9979186058044434, 0.001587728038430214, 0.12483511865139008, 0.8735150694847107, 6.303665577434003e-05, 0.6659192442893982, 0.020045656710863113, 0.00040973827708512545, 0.14098148047924042, 0.10949467867612839, 0.04103686287999153, 0.022094348445534706, 2.093567127303686e-05, 0.7360144257545471, 0.13869881629943848, 0.12525811791419983, 0.9950975775718689, 0.2063806802034378, 0.5231010913848877, 0.09672416746616364, 0.0860854834318161, 0.08769592642784119, 0.061427243053913116, 0.8543767333030701, 0.00022418702428694814, 0.07375752925872803, 0.010088415816426277, 0.9904651641845703, 0.008240142837166786, 0.3308757245540619, 0.6689008474349976, 0.3604378402233124, 0.1396442949771881, 0.09196912497282028, 0.4077748954296112, 0.9918123483657837, 0.9974812269210815, 0.9934850931167603, 0.02988911047577858, 0.9684072136878967, 0.9967361092567444, 0.9966258406639099, 0.9977610111236572, 0.9981493353843689, 0.9982557892799377, 0.9968900680541992, 0.9983037114143372, 0.9996845722198486, 0.990658700466156, 0.5502256751060486, 0.18980510532855988, 0.003198271384462714, 0.07233013957738876, 0.09754727780818939, 0.03136765956878662, 0.02337198331952095, 0.032228734344244, 0.02082398720085621, 0.6278885006904602, 0.33952152729034424, 0.004074258264154196, 0.007243126165121794, 0.7996251583099365, 0.18569956719875336, 0.01452086865901947, 0.9960936903953552, 0.24614006280899048, 0.0015623432118445635, 0.13947464525699615, 0.27610865235328674, 0.04218326508998871, 0.20708149671554565, 0.03067873977124691, 0.05567622929811478, 0.0011362496297806501, 0.9990585446357727, 0.1406814008951187, 0.09494690597057343, 0.6808006167411804, 0.05442927032709122, 0.02921443246304989, 0.04055064544081688, 0.36704128980636597, 0.42103156447410583, 0.0013903079088777304, 0.1700810045003891, 0.3317212462425232, 0.4108518660068512, 0.20639093220233917, 0.05090413615107536, 0.12431598454713821, 0.05990589037537575, 0.15719665586948395, 0.6580639481544495, 0.16328559815883636, 0.8358181118965149, 0.8618143200874329, 0.1375787854194641, 0.9995312094688416, 0.8832454681396484, 0.11668666452169418, 0.9990589618682861, 0.9952160120010376, 0.9966532588005066, 0.9999538064002991, 0.9989990592002869, 0.9975606203079224, 0.2108326107263565, 0.687822699546814, 0.10117971152067184, 0.309299498796463, 0.12063190340995789, 0.49389517307281494, 0.010349572636187077, 0.007804595399647951, 0.0018663163064047694, 0.05581982433795929, 0.2857057750225067, 0.7137834429740906, 0.9993904232978821, 0.999180018901825, 0.999687910079956, 0.9947645664215088, 0.004707087762653828, 0.997971773147583, 0.9986959099769592, 0.9977443218231201, 0.997392475605011, 0.989422082901001, 0.9985501170158386, 0.9964162111282349, 0.9987736940383911, 0.9964509606361389, 0.9975652694702148, 0.9981111288070679, 0.9983459711074829, 0.2766989469528198, 0.12692612409591675, 0.07107862830162048, 0.12348683178424835, 0.4017416536808014, 0.9988869428634644, 0.9991260766983032, 0.009277932345867157, 0.4992687702178955, 0.49115055799484253, 0.9997180104255676, 0.000983796431683004, 0.6119214296340942, 0.3871239125728607, 0.998517632484436, 0.27105870842933655, 0.7268688678741455, 0.9962291121482849, 0.5299862623214722, 0.4694710373878479, 0.9971535801887512, 0.25347745418548584, 0.0026101795956492424, 0.7439011931419373, 0.9994303584098816, 0.29719728231430054, 0.17097191512584686, 0.21616370975971222, 0.023375065997242928, 0.2439911663532257, 0.048308469355106354, 0.9996594190597534, 0.9985175132751465, 0.9945026636123657, 0.9956321716308594, 0.32944419980049133, 0.05970509722828865, 0.6098449230194092, 0.9984455704689026, 0.9938248991966248, 0.9993202686309814, 0.9993082284927368, 0.19067898392677307, 0.238827645778656, 0.043295495212078094, 0.06794454902410507, 0.05568388104438782, 0.40345269441604614, 0.1791054606437683, 0.12720558047294617, 0.11448502540588379, 0.37364518642425537, 0.18334564566612244, 0.022048966959118843, 0.932133674621582, 0.06588379293680191, 0.9980705976486206, 0.995542585849762, 0.9964737296104431, 0.4113577902317047, 0.2650972306728363, 0.11765293031930923, 0.06596192717552185, 0.1321869194507599, 0.007760226726531982, 0.9983839392662048, 0.8554890751838684, 0.05026491358876228, 0.09363071620464325, 0.9999078512191772, 0.10862992703914642, 0.5763278603553772, 0.17383350431919098, 0.0008967092726379633, 0.06494737416505814, 0.07545167952775955, 0.9952364563941956, 0.9997270703315735, 0.36519506573677063, 0.001197360921651125, 0.6334038972854614, 0.9977335333824158, 0.13712595403194427, 0.4032478630542755, 0.45907384157180786, 0.9978602528572083, 0.2089390605688095, 0.35020118951797485, 0.44043710827827454, 0.3791167140007019, 0.01660892181098461, 0.14984136819839478, 0.4545789957046509, 0.2121390998363495, 0.09124616533517838, 0.11759885400533676, 0.012517524883151054, 0.09421084821224213, 0.14493976533412933, 0.28592661023139954, 0.03129381313920021, 0.01021166518330574, 0.9976627826690674, 0.9937235116958618, 0.9998289346694946, 0.9968758821487427, 0.9907925724983215, 0.5575882196426392, 0.05822206288576126, 0.18227984011173248, 0.021721307188272476, 0.015451239421963692, 0.009629033505916595, 0.04657765105366707, 0.10815867781639099, 0.998179018497467, 0.9989935159683228, 0.9962848424911499, 0.9911958575248718, 0.8272441625595093, 0.17171789705753326, 0.9948522448539734, 0.7157237529754639, 0.051339998841285706, 0.023737847805023193, 0.005244408268481493, 0.2037038654088974, 0.5915898084640503, 0.049105603247880936, 0.1400173306465149, 0.18248704075813293, 0.036497410386800766, 0.9965783953666687, 0.997041642665863, 0.9982729554176331, 0.9978727102279663, 0.9988636374473572, 0.999560534954071, 0.9991556406021118, 0.006981802172958851, 0.655019998550415, 0.15931203961372375, 0.05077674239873886, 0.1275765746831894, 0.9974870681762695, 0.999878466129303, 0.9996780753135681, 0.9989747405052185, 0.996557354927063, 0.001485665445216, 0.5504390597343445, 0.44792813062667847, 0.9971132278442383, 0.9981515407562256, 0.9971926212310791, 0.40398457646369934, 0.5946797728538513, 0.998231828212738, 0.8617314696311951, 0.13723124563694, 0.012983089312911034, 0.0008114430820569396, 0.0008114430820569396, 0.6004678606987, 0.17040304839611053, 0.21422097086906433, 0.9969345927238464, 0.06422680616378784, 0.8152872323989868, 0.11927835643291473, 0.9977343678474426, 0.9986591339111328, 0.999809741973877, 0.9977478384971619, 0.2406935840845108, 0.10823642462491989, 0.10218124091625214, 0.5487511157989502, 0.9965220093727112, 0.28780075907707214, 0.7121396064758301, 0.7768990397453308, 0.22275550663471222, 0.9979178309440613, 0.17712590098381042, 0.8227497935295105, 0.29724085330963135, 0.7025240659713745, 0.9997236728668213, 0.9987250566482544, 0.9976294040679932, 0.9992179274559021, 0.9986541271209717, 0.9994202256202698, 0.6295350193977356, 0.3701781928539276, 0.9938139319419861, 0.999890923500061, 0.0022644391283392906, 0.3066428005695343, 0.6910313367843628, 0.9991521239280701, 0.9962540864944458, 0.9988920092582703, 0.8028583526611328, 0.19634203612804413, 0.9987366199493408, 0.09181080758571625, 0.42961469292640686, 0.0007484576781280339, 0.19559693336486816, 0.14295542240142822, 0.12773677706718445, 0.011725837364792824, 0.9984880089759827, 0.7145851254463196, 0.00036853281199000776, 0.07702335715293884, 0.11424516886472702, 0.09323880076408386, 0.9984068870544434, 0.9974251389503479, 0.9982463121414185, 0.271343469619751, 0.2849878668785095, 0.1665647178888321, 0.27674973011016846, 0.9966471195220947, 0.009945289231836796, 0.009945289231836796, 0.18597689270973206, 0.2894079089164734, 0.5052206516265869, 0.9988328814506531, 0.9947612285614014, 0.1195043995976448, 0.6564981937408447, 0.2238767445087433, 0.9993407130241394, 0.597730815410614, 0.00037951162084937096, 0.1924123913049698, 0.11878713965415955, 0.00037951162084937096, 0.04819797724485397, 0.04212579131126404, 0.7084563970565796, 0.0015762936091050506, 0.0005254311836324632, 0.07758867740631104, 0.06778062880039215, 0.07793895900249481, 0.06602919101715088, 0.2610557973384857, 0.0006816078093834221, 0.3020496368408203, 0.31782400608062744, 0.012463686056435108, 0.10603870451450348, 0.12001395225524902, 0.8797544240951538, 0.9997428059577942, 0.16376575827598572, 0.6507104635238647, 0.000544072303455323, 0.18498457968235016, 0.10177721828222275, 0.8978486061096191, 0.9963247179985046, 0.9983546137809753, 0.25047439336776733, 0.002767008263617754, 0.4792338013648987, 0.05082874000072479, 0.003428684314712882, 0.0037895983550697565, 0.06448332220315933, 0.14496716856956482, 0.9954845905303955, 0.28714707493782043, 0.043072059750556946, 0.002266950672492385, 0.6679947972297668, 0.996589720249176, 0.9977742433547974, 0.9989408850669861, 0.9957537055015564, 0.9963312745094299, 0.9961755871772766, 0.28970956802368164, 0.09916460514068604, 0.411864310503006, 0.10153372585773468, 0.0153751065954566, 0.04423969238996506, 0.03793009743094444, 0.00016922286886256188, 0.9968200922012329, 0.9944340586662292, 0.9980444312095642, 0.9943261742591858, 0.9992791414260864, 0.2581622898578644, 0.2420886605978012, 0.05642174556851387, 0.04674476012587547, 0.18009033799171448, 0.08971713483333588, 0.09266943484544754, 0.0013121336232870817, 0.03280334174633026, 0.14689919352531433, 0.8518305420875549, 0.9985988736152649, 0.9996113181114197, 0.29247164726257324, 0.2070125937461853, 0.4110172986984253, 0.07148127257823944, 0.0031848091166466475, 0.012031501159071922, 0.0028309414628893137, 0.2261601984500885, 0.34959930181503296, 0.2649228870868683, 0.008354026824235916, 0.10459241271018982, 0.04638155549764633, 0.9967013597488403, 0.9962013363838196, 0.7900105118751526, 0.13330550491809845, 0.02104823663830757, 0.05542702600359917, 0.8963232040405273, 0.10243693739175797, 0.9991288781166077, 0.3213972747325897, 0.07557683438062668, 0.10653021931648254, 0.1430841088294983, 0.016078896820545197, 0.10725286602973938, 0.02613573521375656, 0.20390690863132477, 0.9989076852798462, 0.9972912073135376, 0.993232011795044, 0.9990798234939575, 0.022146573290228844, 0.6427779197692871, 0.19246426224708557, 0.1423708200454712, 0.31830471754074097, 0.08469094336032867, 0.12893958389759064, 0.0001585972640896216, 0.46786195039749146, 0.9948944449424744, 0.9973992705345154, 0.9997031092643738, 0.5319972634315491, 0.27490606904029846, 0.027693239971995354, 0.002955071395263076, 0.038247063755989075, 0.0005065836594440043, 0.005741281434893608, 0.06281637400388718, 0.055133186280727386, 0.9983792901039124, 0.998022735118866, 0.0019251544727012515, 0.9988909959793091, 0.9985487461090088], \"Term\": [\"absolute\", \"absolutely\", \"absolutely\", \"absorb\", \"absorb\", \"accentuate\", \"addition\", \"adore\", \"advertise\", \"ago\", \"ago\", \"allergic\", \"allergy\", \"alright\", \"also\", \"also\", \"also\", \"also\", \"also\", \"also\", \"also\", \"also\", \"always\", \"always\", \"always\", \"always\", \"amazing\", \"amazing\", \"amazing\", \"amazing\", \"amazing\", \"anymore\", \"anymore\", \"apply\", \"apply\", \"apply\", \"apply\", \"apply\", \"apply\", \"apply\", \"area\", \"area\", \"arrive\", \"asian\", \"associate\", \"awesome\", \"awesome\", \"awesome\", \"awful\", \"back\", \"back\", \"back\", \"bad\", \"bad\", \"badly\", \"beach\", \"beautiful\", \"beautiful\", \"beautiful\", \"beige\", \"big\", \"big\", \"big\", \"birchbox\", \"bit\", \"bit\", \"bit\", \"bit\", \"bit\", \"bit\", \"black\", \"black\", \"black\", \"blemish\", \"blend\", \"blend\", \"blend\", \"blend\", \"blend\", \"blender\", \"blender\", \"blender\", \"blender\", \"blot\", \"blue\", \"blur\", \"bold\", \"bone\", \"bonus\", \"bottle\", \"bottom\", \"box\", \"box\", \"break\", \"break\", \"break\", \"bright\", \"bright\", \"brightening\", \"bring\", \"bring\", \"bronze\", \"brow\", \"buy\", \"buy\", \"buy\", \"buy\", \"buy\", \"buy\", \"buy\", \"cakey\", \"cakey\", \"cap\", \"certainly\", \"change\", \"change\", \"cheap\", \"cheek\", \"cheek\", \"circle\", \"classic\", \"classic\", \"climate\", \"clog\", \"clump\", \"clump\", \"clump\", \"clumping\", \"clumpy\", \"coat\", \"collect\", \"colour\", \"colour\", \"combination\", \"combination\", \"combine\", \"come\", \"come\", \"come\", \"come\", \"come\", \"come\", \"come\", \"company\", \"complement\", \"complete\", \"complexion\", \"complexion\", \"complimentary\", \"condition\", \"consider\", \"constantly\", \"consultant\", \"contact\", \"coral\", \"cost\", \"course\", \"cover\", \"cover\", \"coverage\", \"crease\", \"crease\", \"crease\", \"crease\", \"creasing\", \"customer\", \"damp\", \"dark\", \"dark\", \"darker\", \"day\", \"day\", \"day\", \"day\", \"day\", \"day\", \"daytime\", \"decay\", \"definitely\", \"definitely\", \"definitely\", \"definitely\", \"definitely\", \"definitely\", \"definitely\", \"degree\", \"deliver\", \"delivery\", \"department\", \"describe\", \"design\", \"difference\", \"disappoint\", \"disappoint\", \"disappoint\", \"disappoint\", \"disappointed\", \"disappointed\", \"disappointed\", \"discontinue\", \"discontinue\", \"discover\", \"dot\", \"double\", \"drawback\", \"drink\", \"dryness\", \"duo\", \"easily\", \"easily\", \"easily\", \"easily\", \"easy\", \"easy\", \"easy\", \"eat\", \"effective\", \"even\", \"even\", \"even\", \"even\", \"even\", \"even\", \"even\", \"even\", \"even\", \"evenly\", \"evenly\", \"event\", \"ever\", \"ever\", \"everyday\", \"everyday\", \"everyday\", \"everyday\", \"everyday\", \"excellent\", \"excess\", \"exchange\", \"excited\", \"excited\", \"exfoliate\", \"expect\", \"expect\", \"expect\", \"expensive\", \"fade\", \"fade\", \"fade\", \"fail\", \"fair\", \"fallout\", \"false\", \"family\", \"fav\", \"favorite\", \"favorite\", \"favorite\", \"favorite\", \"feel\", \"feel\", \"feel\", \"feel\", \"feel\", \"finally\", \"finally\", \"find\", \"find\", \"find\", \"find\", \"find\", \"find\", \"find\", \"fine\", \"finish\", \"finish\", \"finish\", \"finish\", \"first\", \"first\", \"first\", \"first\", \"first\", \"first\", \"first\", \"first\", \"fit\", \"flake\", \"flake\", \"flaking\", \"flaky\", \"flat\", \"flattering\", \"flawless\", \"flawless\", \"flawless\", \"flawless\", \"forehead\", \"formula\", \"formula\", \"formula\", \"formula\", \"formula\", \"freckle\", \"free\", \"free\", \"fresh\", \"full\", \"full\", \"gentle\", \"get\", \"get\", \"get\", \"get\", \"get\", \"get\", \"get\", \"get\", \"gift\", \"gift\", \"give\", \"give\", \"give\", \"give\", \"give\", \"give\", \"give\", \"glam\", \"glide\", \"glide\", \"glide\", \"glitter\", \"glossy\", \"glow\", \"glow\", \"glowing\", \"go\", \"go\", \"go\", \"go\", \"go\", \"go\", \"go\", \"go\", \"good\", \"good\", \"good\", \"good\", \"good\", \"good\", \"gorgeous\", \"gorgeous\", \"gorgeous\", \"grail\", \"great\", \"great\", \"great\", \"great\", \"great\", \"great\", \"great\", \"green\", \"happy\", \"happy\", \"happy\", \"happy\", \"happy\", \"happy\", \"hard\", \"hard\", \"hard\", \"hard\", \"hard\", \"healthy\", \"heat\", \"heavy\", \"heavy\", \"heavy\", \"help\", \"help\", \"help\", \"help\", \"help\", \"hide\", \"hide\", \"hide\", \"highlight\", \"highly\", \"highly\", \"highly\", \"highly\", \"hint\", \"holy\", \"holy\", \"hot\", \"hour\", \"hour\", \"hour\", \"hour\", \"however\", \"however\", \"however\", \"however\", \"however\", \"however\", \"humid\", \"humidity\", \"hype\", \"impress\", \"incredibly\", \"influenster\", \"ingredient\", \"item\", \"ivory\", \"ivory\", \"keep\", \"keep\", \"keep\", \"keep\", \"keep\", \"lancome\", \"last\", \"last\", \"lasting\", \"lately\", \"layer\", \"layer\", \"layer\", \"layer\", \"layer\", \"length\", \"lid\", \"lid\", \"lid\", \"life\", \"lightweight\", \"lightweight\", \"like\", \"like\", \"like\", \"like\", \"like\", \"like\", \"line\", \"line\", \"lipgloss\", \"list\", \"little\", \"little\", \"little\", \"little\", \"little\", \"little\", \"little\", \"local\", \"long\", \"long\", \"long\", \"look\", \"look\", \"look\", \"look\", \"look\", \"look\", \"look\", \"look\", \"love\", \"love\", \"love\", \"love\", \"lunch\", \"make\", \"make\", \"make\", \"make\", \"make\", \"many\", \"many\", \"many\", \"many\", \"many\", \"market\", \"market\", \"match\", \"match\", \"matte\", \"matte\", \"matte\", \"matte\", \"mattifying\", \"mature\", \"mauve\", \"mess\", \"mess\", \"metallic\", \"mine\", \"mini\", \"miracle\", \"miss\", \"moist\", \"moisturized\", \"money\", \"mother\", \"much\", \"much\", \"much\", \"much\", \"much\", \"much\", \"much\", \"much\", \"must\", \"must\", \"must\", \"must\", \"must\", \"natural\", \"natural\", \"natural\", \"nc\", \"need\", \"need\", \"need\", \"need\", \"need\", \"need\", \"need\", \"need\", \"need\", \"neutral\", \"never\", \"never\", \"never\", \"never\", \"never\", \"new\", \"new\", \"new\", \"new\", \"new\", \"nice\", \"nice\", \"nice\", \"nice\", \"night\", \"night\", \"night\", \"night\", \"normal\", \"normal\", \"normally\", \"normally\", \"nose\", \"notice\", \"notice\", \"nude\", \"number\", \"obvious\", \"oily\", \"ok\", \"okay\", \"old\", \"old\", \"old\", \"one\", \"one\", \"one\", \"one\", \"one\", \"one\", \"one\", \"online\", \"online\", \"open\", \"orange\", \"order\", \"original\", \"original\", \"overly\", \"oxidize\", \"pack\", \"paint\", \"painterly\", \"pallet\", \"pat\", \"pay\", \"payoff\", \"peach\", \"pen\", \"penny\", \"perfect\", \"perfect\", \"perfect\", \"perfect\", \"perfect\", \"photo\", \"picture\", \"pigment\", \"pigment\", \"pigment\", \"pink\", \"place\", \"place\", \"place\", \"pleasantly\", \"pleased\", \"pleased\", \"pm\", \"pop\", \"pop\", \"porcelain\", \"pore\", \"pore\", \"pore\", \"power\", \"pretty\", \"pretty\", \"pretty\", \"pretty\", \"pretty\", \"pretty\", \"price\", \"pricey\", \"produce\", \"promise\", \"prone\", \"prone\", \"prone\", \"proof\", \"properly\", \"provide\", \"pump\", \"purchase\", \"purchase\", \"purchase\", \"purchase\", \"purchase\", \"purchase\", \"put\", \"put\", \"put\", \"put\", \"put\", \"put\", \"quick\", \"quick\", \"raccoon\", \"reach\", \"reaction\", \"really\", \"really\", \"really\", \"really\", \"really\", \"really\", \"reapply\", \"reason\", \"reason\", \"reason\", \"receive\", \"recommend\", \"recommend\", \"recommend\", \"recommend\", \"recommend\", \"recommend\", \"recommendation\", \"red\", \"redness\", \"redness\", \"redness\", \"refresh\", \"remove\", \"remove\", \"remove\", \"replace\", \"return\", \"return\", \"return\", \"review\", \"review\", \"review\", \"review\", \"right\", \"right\", \"right\", \"right\", \"right\", \"right\", \"right\", \"right\", \"right\", \"rise\", \"round\", \"sample\", \"satin\", \"satisfy\", \"say\", \"say\", \"say\", \"say\", \"say\", \"say\", \"say\", \"say\", \"scar\", \"scent\", \"school\", \"seamlessly\", \"search\", \"search\", \"season\", \"see\", \"see\", \"see\", \"see\", \"see\", \"seem\", \"seem\", \"seem\", \"seem\", \"seem\", \"select\", \"selection\", \"sell\", \"seller\", \"send\", \"separate\", \"settle\", \"several\", \"several\", \"several\", \"several\", \"several\", \"sexy\", \"shade\", \"shadow\", \"sharpen\", \"sharpener\", \"sheer\", \"sheer\", \"sheer\", \"shift\", \"shimmer\", \"shimmery\", \"shiny\", \"shiny\", \"shipping\", \"short\", \"short\", \"show\", \"show\", \"show\", \"show\", \"show\", \"show\", \"silk\", \"silky\", \"silky\", \"silky\", \"silver\", \"sink\", \"size\", \"slide\", \"small\", \"small\", \"small\", \"small\", \"smash\", \"smear\", \"smear\", \"smell\", \"smell\", \"smokey\", \"smoothly\", \"smoothly\", \"smudge\", \"smudge\", \"soft\", \"sparkle\", \"sparkly\", \"special\", \"spend\", \"spf\", \"spot\", \"spot\", \"spring\", \"star\", \"stay\", \"stay\", \"stay\", \"staying\", \"stunning\", \"subtle\", \"summer\", \"summer\", \"sunscreen\", \"super\", \"super\", \"super\", \"super\", \"super\", \"super\", \"super\", \"suppose\", \"sure\", \"sure\", \"sure\", \"sure\", \"sure\", \"surprised\", \"swatche\", \"sweat\", \"take\", \"take\", \"take\", \"take\", \"tear\", \"tend\", \"tend\", \"tend\", \"tend\", \"tend\", \"terrible\", \"testing\", \"thick\", \"thick\", \"thick\", \"thin\", \"thing\", \"thing\", \"thing\", \"thing\", \"thing\", \"thing\", \"thing\", \"think\", \"think\", \"think\", \"think\", \"think\", \"think\", \"think\", \"time\", \"time\", \"time\", \"time\", \"time\", \"time\", \"tip\", \"tip\", \"tone\", \"touch\", \"touch\", \"touch\", \"touch\", \"travel\", \"travel\", \"trial\", \"trust\", \"try\", \"try\", \"try\", \"try\", \"try\", \"try\", \"try\", \"try\", \"twist\", \"type\", \"type\", \"type\", \"type\", \"undereye\", \"understand\", \"undertone\", \"uneven\", \"upper\", \"urban\", \"use\", \"use\", \"use\", \"use\", \"use\", \"use\", \"use\", \"use\", \"value\", \"versatile\", \"vibrant\", \"volumize\", \"wand\", \"want\", \"want\", \"want\", \"want\", \"want\", \"want\", \"want\", \"want\", \"want\", \"warm\", \"warm\", \"waste\", \"waterproof\", \"way\", \"way\", \"way\", \"way\", \"way\", \"way\", \"way\", \"wear\", \"wear\", \"wear\", \"wear\", \"wear\", \"wear\", \"weather\", \"website\", \"week\", \"week\", \"week\", \"week\", \"weight\", \"weight\", \"weird\", \"well\", \"well\", \"well\", \"well\", \"well\", \"well\", \"well\", \"well\", \"wet\", \"whenever\", \"wing\", \"winter\", \"wonderful\", \"wonderful\", \"wonderful\", \"wonderful\", \"work\", \"work\", \"work\", \"work\", \"work\", \"workout\", \"worry\", \"worth\", \"would\", \"would\", \"would\", \"would\", \"would\", \"would\", \"would\", \"would\", \"would\", \"write\", \"year\", \"year\", \"yellow\", \"zone\"]}, \"R\": 30, \"lambda.step\": 0.01, \"plot.opts\": {\"xlab\": \"PC1\", \"ylab\": \"PC2\"}, \"topic.order\": [2, 1, 4, 3, 8, 7, 6, 9, 5]};\n",
       "\n",
       "function LDAvis_load_lib(url, callback){\n",
       "  var s = document.createElement('script');\n",
       "  s.src = url;\n",
       "  s.async = true;\n",
       "  s.onreadystatechange = s.onload = callback;\n",
       "  s.onerror = function(){console.warn(\"failed to load library \" + url);};\n",
       "  document.getElementsByTagName(\"head\")[0].appendChild(s);\n",
       "}\n",
       "\n",
       "if(typeof(LDAvis) !== \"undefined\"){\n",
       "   // already loaded: just create the visualization\n",
       "   !function(LDAvis){\n",
       "       new LDAvis(\"#\" + \"ldavis_el370416408929371605471472507\", ldavis_el370416408929371605471472507_data);\n",
       "   }(LDAvis);\n",
       "}else if(typeof define === \"function\" && define.amd){\n",
       "   // require.js is available: use it to load d3/LDAvis\n",
       "   require.config({paths: {d3: \"https://cdnjs.cloudflare.com/ajax/libs/d3/3.5.5/d3.min\"}});\n",
       "   require([\"d3\"], function(d3){\n",
       "      window.d3 = d3;\n",
       "      LDAvis_load_lib(\"https://cdn.rawgit.com/bmabey/pyLDAvis/files/ldavis.v1.0.0.js\", function(){\n",
       "        new LDAvis(\"#\" + \"ldavis_el370416408929371605471472507\", ldavis_el370416408929371605471472507_data);\n",
       "      });\n",
       "    });\n",
       "}else{\n",
       "    // require.js not available: dynamically load d3 & LDAvis\n",
       "    LDAvis_load_lib(\"https://cdnjs.cloudflare.com/ajax/libs/d3/3.5.5/d3.min.js\", function(){\n",
       "         LDAvis_load_lib(\"https://cdn.rawgit.com/bmabey/pyLDAvis/files/ldavis.v1.0.0.js\", function(){\n",
       "                 new LDAvis(\"#\" + \"ldavis_el370416408929371605471472507\", ldavis_el370416408929371605471472507_data);\n",
       "            })\n",
       "         });\n",
       "}\n",
       "</script>"
      ],
      "text/plain": [
       "PreparedData(topic_coordinates=              x         y  topics  cluster       Freq\n",
       "topic                                                \n",
       "1     -0.066201  0.118931       1        1  20.215582\n",
       "0      0.136360  0.051055       2        1  18.425123\n",
       "3      0.024137  0.137291       3        1  15.321939\n",
       "2      0.140470  0.131328       4        1  12.971735\n",
       "7     -0.088396  0.034800       5        1   8.255013\n",
       "6      0.179293 -0.157810       6        1   6.515980\n",
       "5     -0.007944 -0.353759       7        1   6.341194\n",
       "8      0.066495  0.049640       8        1   6.129386\n",
       "4     -0.384214 -0.011476       9        1   5.824048, topic_info=         Term          Freq         Total Category  logprob  loglift\n",
       "6        love  47765.000000  47765.000000  Default  30.0000  30.0000\n",
       "124  coverage  14228.000000  14228.000000  Default  29.0000  29.0000\n",
       "25      shade   9271.000000   9271.000000  Default  28.0000  28.0000\n",
       "43       long  15115.000000  15115.000000  Default  27.0000  27.0000\n",
       "90       oily   9010.000000   9010.000000  Default  26.0000  26.0000\n",
       "..        ...           ...           ...      ...      ...      ...\n",
       "46       time   1088.588501  10269.834961   Topic9  -4.3967   0.5988\n",
       "293       see    738.170349   3622.906250   Topic9  -4.7851   1.2523\n",
       "80        new    733.587158   4315.590820   Topic9  -4.7913   1.0711\n",
       "102      come    700.762451   5340.246094   Topic9  -4.8371   0.8123\n",
       "88      would    653.378662  11844.045898   Topic9  -4.9071  -0.0542\n",
       "\n",
       "[574 rows x 6 columns], token_table=      Topic      Freq        Term\n",
       "term                             \n",
       "583       3  0.998049    absolute\n",
       "438       2  0.830248  absolutely\n",
       "438       3  0.169579  absolutely\n",
       "167       1  0.987745      absorb\n",
       "167       5  0.011203      absorb\n",
       "...     ...       ...         ...\n",
       "1651      5  0.998379       write\n",
       "48        3  0.998023        year\n",
       "48        6  0.001925        year\n",
       "314       7  0.998891      yellow\n",
       "437       8  0.998549        zone\n",
       "\n",
       "[965 rows x 3 columns], R=30, lambda_step=0.01, plot_opts={'xlab': 'PC1', 'ylab': 'PC2'}, topic_order=[2, 1, 4, 3, 8, 7, 6, 9, 5])"
      ]
     },
     "metadata": {},
     "output_type": "display_data"
    }
   ],
   "source": [
    "all_lda = TopicModeller(reviews, 'tokens')\n",
    "lda, id2word = all_lda.train_valid_lda()"
   ]
  },
  {
   "cell_type": "code",
   "execution_count": 24,
   "metadata": {},
   "outputs": [],
   "source": [
    "def train_display_save(tokens, nb_samples, num_topics, alpha, eta, name):\n",
    "    nb_samples = min(nb_samples, len(tokens))\n",
    "        \n",
    "    # Training set\n",
    "    train = tokens.sample(nb_samples, random_state=3).values.tolist()\n",
    "\n",
    "    # Create Dictionary\n",
    "    id2word = corpora.Dictionary(train)\n",
    "\n",
    "    # Term Document Frequency\n",
    "    corpus = [id2word.doc2bow(text) for text in train]\n",
    "    start=time.time()\n",
    "    lda_model = gensim.models.LdaMulticore(corpus=corpus,\n",
    "                                                   id2word=id2word,\n",
    "                                                   num_topics=num_topics,\n",
    "                                                   alpha =alpha ,\n",
    "                                                   eta =eta ,\n",
    "                                                   random_state=3,\n",
    "                                                   chunksize=100,\n",
    "                                                   passes=10,\n",
    "                                                   per_word_topics=True)\n",
    "    pyLDAvis.enable_notebook()\n",
    "    LDAvis_prepared = pyLDAvis.gensim.prepare(lda_model, corpus, id2word)\n",
    "    display(LDAvis_prepared)\n",
    "    pyLDAvis.save_html(LDAvis_prepared, name+'_'+str(alpha)+'_'+str(eta)+'_'+str(num_topics)+'.html')\n",
    "    lda_model.save(name+'_'+str(alpha)+'_'+str(eta)+'_'+str(num_topics))\n",
    "    pickle.dump(id2word, open( \"id2word_\"+ name+'_'+str(alpha)+'_'+str(eta)+'_'+str(num_topics)+\".p\", \"wb\" ))\n",
    "    print(time.time()-start)\n",
    "    return lda_model, id2word"
   ]
  },
  {
   "cell_type": "code",
   "execution_count": 25,
   "metadata": {},
   "outputs": [],
   "source": [
    "# lda, id2word = train_display_save(reviews['tokens'], 500000, 8, alpha='asymmetric', eta='symmetric', name='full')"
   ]
  },
  {
   "cell_type": "code",
   "execution_count": 26,
   "metadata": {},
   "outputs": [],
   "source": [
    "docs = reviews['tokens'].values.tolist()\n",
    "\n",
    "# Term Document Frequency\n",
    "corpus = [id2word.doc2bow(text) for text in docs]\n",
    "\n",
    "topics = gensim.matutils.corpus2csc(lda.get_document_topics(corpus)).T.toarray()\n",
    "\n",
    "topics = pd.DataFrame(topics, columns=['topic_'+str(i) for i in range(1,topics.shape[1]+1)])\n",
    "\n",
    "output = pd.concat([reviews, topics], axis=1)\n",
    "\n",
    "output.to_pickle('reviews_w_topics.pkl')"
   ]
  },
  {
   "cell_type": "code",
   "execution_count": 80,
   "metadata": {},
   "outputs": [
    {
     "name": "stdout",
     "output_type": "stream",
     "text": [
      "Topic #1\n",
      "Terms:  0.033*\"buy\" + 0.031*\"product\" + 0.022*\"so\" + 0.022*\"will\" + 0.021*\"use\" + 0.020*\"try\"\n",
      "Topic #2\n",
      "Terms:  0.041*\"love\" + 0.041*\"sample\" + 0.034*\"receive\" + 0.033*\"size\" + 0.029*\"all\" + 0.027*\"shadow\"\n",
      "Topic #3\n",
      "Terms:  0.056*\"skin\" + 0.036*\"primer\" + 0.028*\"product\" + 0.027*\"make\" + 0.026*\"feel\" + 0.026*\"use\"\n",
      "Topic #4\n",
      "Terms:  0.038*\"shade\" + 0.034*\"color\" + 0.029*\"too\" + 0.025*\"skin\" + 0.025*\"light\" + 0.017*\"more\"\n",
      "Topic #5\n",
      "Terms:  0.069*\"use\" + 0.049*\"good\" + 0.048*\"love\" + 0.047*\"year\" + 0.044*\"product\" + 0.034*\"ever\"\n",
      "Topic #6\n",
      "Terms:  0.071*\"product\" + 0.054*\"great\" + 0.045*\"eye\" + 0.035*\"star\" + 0.034*\"use\" + 0.031*\"concealer\"\n",
      "Topic #7\n",
      "Terms:  0.064*\"foundation\" + 0.037*\"coverage\" + 0.029*\"skin\" + 0.028*\"look\" + 0.025*\"day\" + 0.020*\"powder\"\n",
      "Topic #8\n",
      "Terms:  0.066*\"mascara\" + 0.038*\"lash\" + 0.035*\"eye\" + 0.021*\"eyeliner\" + 0.021*\"look\" + 0.019*\"love\"\n",
      "Topic #9\n",
      "Terms:  0.097*\"color\" + 0.051*\"lip\" + 0.048*\"love\" + 0.036*\"lipstick\" + 0.022*\"great\" + 0.020*\"look\"\n"
     ]
    }
   ],
   "source": [
    "topics = lda.print_topics(num_words=6)\n",
    "for topic in topics:\n",
    "    print('Topic #{}'.format(topic[0]+1))\n",
    "    print('Terms: ', topic[1])"
   ]
  },
  {
   "cell_type": "code",
   "execution_count": null,
   "metadata": {},
   "outputs": [],
   "source": []
  },
  {
   "cell_type": "code",
   "execution_count": null,
   "metadata": {},
   "outputs": [],
   "source": [
    "train_display_save(reviews['tokens'], 100000, 10, alpha='asymmetric', eta='symmetric', name='full')"
   ]
  },
  {
   "cell_type": "code",
   "execution_count": null,
   "metadata": {},
   "outputs": [],
   "source": [
    "train_display_save(reviews['tokens'], 100000, 9, alpha='asymmetric', eta='symmetric', name='full')"
   ]
  },
  {
   "cell_type": "code",
   "execution_count": null,
   "metadata": {},
   "outputs": [],
   "source": [
    "train_display_save(reviews['tokens'], 100000, 8, alpha='asymmetric', eta='symmetric', name='full')"
   ]
  },
  {
   "cell_type": "code",
   "execution_count": 31,
   "metadata": {},
   "outputs": [
    {
     "data": {
      "text/html": [
       "\n",
       "<link rel=\"stylesheet\" type=\"text/css\" href=\"https://cdn.rawgit.com/bmabey/pyLDAvis/files/ldavis.v1.0.0.css\">\n",
       "\n",
       "\n",
       "<div id=\"ldavis_el370416337441456082807486474\"></div>\n",
       "<script type=\"text/javascript\">\n",
       "\n",
       "var ldavis_el370416337441456082807486474_data = {\"mdsDat\": {\"x\": [0.11810434912694193, 0.014560325631781407, -0.06597041598273488, -0.06563981462558849, 0.22317257184470632, 0.12481058203839451, -0.3490375980335008], \"y\": [-0.010692586796240784, -0.14586976092260182, -0.097884097978557, -0.20170928241392333, 0.04088699232059946, 0.25220880764964276, 0.16305992814108144], \"topics\": [1, 2, 3, 4, 5, 6, 7], \"cluster\": [1, 1, 1, 1, 1, 1, 1], \"Freq\": [20.290109634399414, 19.437847137451172, 19.360294342041016, 13.120198249816895, 10.240200996398926, 9.819156646728516, 7.7321953773498535]}, \"tinfo\": {\"Term\": [\"love\", \"good\", \"shade\", \"recommend\", \"coverage\", \"oily\", \"year\", \"try\", \"nice\", \"great\", \"feel\", \"day\", \"look\", \"perfect\", \"last\", \"really\", \"ever\", \"star\", \"would\", \"long\", \"make\", \"find\", \"beautiful\", \"use\", \"buy\", \"dark\", \"shadow\", \"back\", \"favorite\", \"sample\", \"sample\", \"size\", \"tube\", \"wand\", \"eyelid\", \"read\", \"soon\", \"sharpen\", \"fade\", \"daughter\", \"open\", \"pigmented\", \"eat\", \"plan\", \"container\", \"birchbox\", \"throw\", \"pot\", \"straight\", \"sharp\", \"drink\", \"glitter\", \"lose\", \"mini\", \"write\", \"honest\", \"pallet\", \"sparkly\", \"remember\", \"twist\", \"gift\", \"excited\", \"version\", \"glass\", \"next\", \"spend\", \"box\", \"small\", \"review\", \"travel\", \"receive\", \"tip\", \"first\", \"purchase\", \"week\", \"get\", \"see\", \"buy\", \"bottle\", \"time\", \"lid\", \"run\", \"try\", \"order\", \"much\", \"month\", \"use\", \"would\", \"think\", \"come\", \"go\", \"want\", \"love\", \"full\", \"take\", \"say\", \"know\", \"little\", \"last\", \"really\", \"even\", \"long\", \"apply\", \"day\", \"oily\", \"pore\", \"redness\", \"cakey\", \"combination\", \"area\", \"spf\", \"breakout\", \"prone\", \"nose\", \"settle\", \"combo\", \"hide\", \"wrinkle\", \"imperfection\", \"scar\", \"blender\", \"patch\", \"sit\", \"prime\", \"setting\", \"minimize\", \"blot\", \"package\", \"absorb\", \"sunscreen\", \"humid\", \"oxidize\", \"forehead\", \"cute\", \"cover\", \"coverage\", \"heavy\", \"help\", \"winter\", \"spot\", \"photo\", \"finish\", \"full\", \"work\", \"shiny\", \"well\", \"even\", \"feel\", \"blend\", \"also\", \"make\", \"look\", \"hour\", \"use\", \"great\", \"need\", \"day\", \"really\", \"little\", \"apply\", \"break\", \"good\", \"keep\", \"find\", \"go\", \"give\", \"wear\", \"compliment\", \"double\", \"healthy\", \"studio\", \"absolute\", \"perfection\", \"kit\", \"purple\", \"step\", \"smash\", \"user\", \"fabulous\", \"classic\", \"nordstrom\", \"particular\", \"baby\", \"kiss\", \"fail\", \"currently\", \"impress\", \"gray\", \"longwear\", \"game\", \"complement\", \"pat\", \"rosacea\", \"shop\", \"perform\", \"head\", \"improvement\", \"last\", \"long\", \"absolutely\", \"natural\", \"everyday\", \"smoothly\", \"love\", \"favorite\", \"stay\", \"day\", \"lasting\", \"wear\", \"night\", \"look\", \"flawless\", \"go\", \"easy\", \"amazing\", \"perfect\", \"great\", \"always\", \"use\", \"awesome\", \"glow\", \"time\", \"make\", \"year\", \"good\", \"beautiful\", \"apply\", \"give\", \"coverage\", \"ever\", \"feel\", \"clean\", \"length\", \"coat\", \"scent\", \"enjoy\", \"gentle\", \"dramatic\", \"clump\", \"clumpy\", \"fun\", \"value\", \"clumping\", \"lift\", \"ingredient\", \"pen\", \"residue\", \"holy\", \"false\", \"sheen\", \"wife\", \"impact\", \"volumize\", \"harsh\", \"refreshing\", \"daytime\", \"chalky\", \"concern\", \"third\", \"soak\", \"negative\", \"smell\", \"nice\", \"sticky\", \"thick\", \"remove\", \"separate\", \"soft\", \"fan\", \"thin\", \"really\", \"feel\", \"add\", \"like\", \"make\", \"easy\", \"great\", \"look\", \"black\", \"quick\", \"apply\", \"little\", \"give\", \"super\", \"love\", \"much\", \"pretty\", \"well\", \"go\", \"good\", \"use\", \"work\", \"also\", \"natural\", \"long\", \"recommend\", \"highly\", \"honestly\", \"complimentary\", \"ok\", \"barely\", \"reduce\", \"proof\", \"patchy\", \"contact\", \"claim\", \"none\", \"artist\", \"shift\", \"humidity\", \"allergy\", \"ease\", \"perfectionist\", \"creasing\", \"winner\", \"expectation\", \"department\", \"contain\", \"testing\", \"reference\", \"brightener\", \"watch\", \"mattifying\", \"cleanse\", \"affordable\", \"favourite\", \"market\", \"drugstore\", \"worth\", \"ever\", \"friend\", \"best\", \"messy\", \"price\", \"good\", \"would\", \"definitely\", \"buy\", \"try\", \"high\", \"say\", \"expensive\", \"money\", \"amazing\", \"bad\", \"work\", \"well\", \"use\", \"one\", \"many\", \"never\", \"think\", \"different\", \"hour\", \"thing\", \"find\", \"really\", \"lot\", \"get\", \"back\", \"old\", \"brow\", \"neutral\", \"circle\", \"bring\", \"discontinue\", \"difficult\", \"carry\", \"available\", \"blonde\", \"bare\", \"mineral\", \"replacement\", \"variety\", \"versatile\", \"stock\", \"sharpener\", \"radiant\", \"company\", \"learn\", \"glowy\", \"pure\", \"number\", \"season\", \"overly\", \"lucidity\", \"beige\", \"basic\", \"spring\", \"sad\", \"fit\", \"year\", \"dark\", \"finally\", \"blue\", \"find\", \"close\", \"many\", \"switch\", \"different\", \"new\", \"come\", \"try\", \"one\", \"change\", \"always\", \"use\", \"line\", \"happy\", \"return\", \"favorite\", \"never\", \"ago\", \"go\", \"shade\", \"perfect\", \"well\", \"work\", \"good\", \"star\", \"pink\", \"red\", \"pigment\", \"pop\", \"colour\", \"gorgeous\", \"nude\", \"bright\", \"orange\", \"undertone\", \"deep\", \"yellow\", \"shimmer\", \"taste\", \"green\", \"olive\", \"staying\", \"hint\", \"rise\", \"metallic\", \"gold\", \"shimmery\", \"glossy\", \"plum\", \"lipgloss\", \"describe\", \"pale\", \"vibrant\", \"coral\", \"shadow\", \"shade\", \"power\", \"fair\", \"warm\", \"creamy\", \"tone\", \"beautiful\", \"quality\", \"perfect\", \"sheer\", \"pretty\", \"dark\", \"formula\", \"love\", \"great\", \"look\", \"blend\", \"nice\", \"matte\", \"purchase\"], \"Freq\": [45834.0, 27886.0, 9027.0, 7596.0, 14184.0, 8826.0, 8810.0, 16336.0, 8656.0, 28327.0, 14396.0, 18647.0, 30175.0, 11762.0, 14185.0, 14740.0, 7288.0, 4745.0, 11571.0, 14391.0, 20871.0, 8557.0, 5164.0, 41193.0, 12636.0, 5068.0, 3571.0, 3729.0, 6480.0, 4782.0, 4782.0859375, 3723.38037109375, 1669.966064453125, 817.7696533203125, 798.6019897460938, 761.5476684570312, 675.9662475585938, 645.7310180664062, 614.7989501953125, 588.7517700195312, 553.4573974609375, 534.3397216796875, 479.2522277832031, 472.10205078125, 445.9372253417969, 421.9501647949219, 397.0318603515625, 364.9797668457031, 364.17596435546875, 353.4532775878906, 342.2216796875, 337.8653259277344, 328.1102600097656, 321.1449279785156, 312.66558837890625, 311.88446044921875, 287.25018310546875, 281.6493835449219, 278.6224365234375, 274.7546691894531, 1040.0682373046875, 1074.0030517578125, 608.6280517578125, 358.3907775878906, 744.6703491210938, 622.3401489257812, 1341.0294189453125, 2214.83984375, 2293.66162109375, 1021.3960571289062, 3222.42822265625, 923.2431640625, 3648.02490234375, 4571.3857421875, 1150.1524658203125, 5129.26123046875, 2298.76220703125, 6027.25146484375, 1353.380126953125, 5058.5107421875, 942.375244140625, 1300.369384765625, 4915.8408203125, 1546.724853515625, 2967.493896484375, 1207.6456298828125, 6873.38330078125, 3330.897705078125, 2171.81591796875, 2056.45361328125, 3759.41552734375, 2069.039306640625, 5309.27587890625, 2092.81298828125, 1660.1239013671875, 1705.7264404296875, 1425.9569091796875, 1990.6710205078125, 2156.644287109375, 2097.99267578125, 1840.8780517578125, 1910.7457275390625, 1782.5084228515625, 1842.5570068359375, 8825.95703125, 3223.293212890625, 1711.51611328125, 1709.3343505859375, 1692.22998046875, 1583.513671875, 1184.9996337890625, 1072.3134765625, 908.3927001953125, 866.8853149414062, 846.075439453125, 804.7657470703125, 719.2064208984375, 662.3567504882812, 633.4842529296875, 613.48681640625, 596.58349609375, 588.2594604492188, 577.6276245117188, 568.1030883789062, 532.2349853515625, 487.871337890625, 465.67510986328125, 438.9245300292969, 433.8108215332031, 400.3545227050781, 397.0194396972656, 395.5227966308594, 343.4849548339844, 338.402099609375, 4689.1904296875, 11515.29296875, 2746.35498046875, 3724.060546875, 1001.0309448242188, 1484.736083984375, 810.3038940429688, 3559.7490234375, 3609.024658203125, 6017.36669921875, 940.3698120117188, 6246.07470703125, 4110.02294921875, 5285.3203125, 2482.6728515625, 3283.88623046875, 6105.06591796875, 7580.41845703125, 2087.548828125, 8759.26171875, 6901.5537109375, 2835.88232421875, 4482.26806640625, 3949.16552734375, 2799.810302734375, 2942.393310546875, 1717.3255615234375, 3787.698974609375, 1999.4677734375, 2244.029052734375, 2500.995361328125, 2194.464111328125, 2318.095458984375, 1459.90966796875, 2112.2744140625, 562.982177734375, 545.3164672851562, 496.5369873046875, 479.83526611328125, 480.2079162597656, 470.1780700683594, 459.697509765625, 364.8592834472656, 341.2563171386719, 601.131591796875, 285.9265441894531, 278.0813293457031, 273.09979248046875, 242.72096252441406, 239.2089385986328, 236.68812561035156, 233.96282958984375, 227.64620971679688, 219.59803771972656, 212.22874450683594, 194.50848388671875, 192.3831329345703, 191.43472290039062, 187.7998046875, 186.67286682128906, 184.46820068359375, 184.00051879882812, 176.97491455078125, 10822.658203125, 10386.1083984375, 2802.5947265625, 5074.8330078125, 1898.2301025390625, 2007.6026611328125, 29718.32421875, 4901.46044921875, 7125.43798828125, 12045.62109375, 373.7630310058594, 9074.4921875, 1555.6259765625, 13013.712890625, 1654.11083984375, 9197.34375, 3724.39990234375, 3814.048583984375, 5402.29541015625, 9757.0556640625, 2750.175537109375, 10965.34375, 1452.9962158203125, 1534.3394775390625, 3705.5458984375, 5763.86279296875, 3283.26025390625, 6517.26953125, 2111.480712890625, 2741.838623046875, 2548.828125, 2667.98779296875, 2168.022705078125, 2208.033203125, 1219.851806640625, 999.0364990234375, 958.3163452148438, 887.733642578125, 847.9468994140625, 600.1886596679688, 515.669189453125, 2116.8212890625, 475.48602294921875, 452.2892761230469, 367.106689453125, 354.4900207519531, 343.26617431640625, 340.4196472167969, 321.47601318359375, 320.9447937011719, 319.57879638671875, 264.4479064941406, 262.39849853515625, 261.7175598144531, 246.188232421875, 242.31588745117188, 289.0322265625, 219.50807189941406, 219.7947998046875, 215.14251708984375, 212.00790405273438, 211.06324768066406, 202.93336486816406, 202.31344604492188, 2749.8974609375, 7352.8076171875, 1342.720703125, 2187.58935546875, 1352.86669921875, 836.5596313476562, 2230.285888671875, 1359.06298828125, 971.782470703125, 7741.828125, 6890.50927734375, 1650.1796875, 2412.185546875, 6909.66064453125, 3000.124267578125, 7321.978515625, 6655.57958984375, 1211.434814453125, 618.0934448242188, 3047.408447265625, 2534.101318359375, 2693.281982421875, 1497.9671630859375, 5883.08056640625, 2231.710693359375, 1627.6060791015625, 2894.908935546875, 2777.694091796875, 3011.996337890625, 3088.940673828125, 2023.473388671875, 1606.6298828125, 1495.610595703125, 1483.018310546875, 7595.2890625, 2523.3515625, 827.1322021484375, 772.7357788085938, 704.36376953125, 575.5007934570312, 485.4790954589844, 466.14263916015625, 432.3440856933594, 426.4388732910156, 409.7059631347656, 382.3079833984375, 350.2951354980469, 310.3519592285156, 285.354248046875, 285.1462097167969, 273.3266296386719, 240.21005249023438, 236.20724487304688, 218.8258514404297, 215.31985473632812, 200.8103790283203, 182.19627380371094, 175.4517364501953, 175.1281280517578, 169.54330444335938, 168.4894561767578, 163.59024047851562, 163.02236938476562, 157.78494262695312, 352.1031188964844, 584.6629638671875, 477.8065185546875, 2496.919189453125, 5120.0537109375, 937.0054321289062, 388.3099670410156, 361.3896179199219, 2478.78173828125, 13455.4248046875, 5966.8505859375, 2932.065673828125, 4121.71826171875, 4696.435546875, 1117.1966552734375, 1870.3797607421875, 830.1488647460938, 975.83837890625, 2202.36962890625, 1162.7691650390625, 2451.35302734375, 2761.41845703125, 3954.510498046875, 1480.6134033203125, 1166.961669921875, 1182.3043212890625, 1124.684326171875, 874.2759399414062, 898.1580810546875, 782.8732299804688, 905.931884765625, 950.1430053710938, 809.8600463867188, 815.8980712890625, 3728.515625, 1828.9559326171875, 1699.03662109375, 1415.0687255859375, 1348.2183837890625, 1205.6025390625, 1131.6888427734375, 692.3235473632812, 491.7411804199219, 470.8714294433594, 458.0698547363281, 401.974365234375, 363.84710693359375, 349.9291076660156, 341.88787841796875, 339.6279296875, 303.8599548339844, 292.8612060546875, 281.34429931640625, 274.08819580078125, 264.1807556152344, 258.01861572265625, 246.63270568847656, 243.15208435058594, 232.8868408203125, 230.19427490234375, 215.49427795410156, 209.43655395507812, 209.0985565185547, 199.4580078125, 305.4790954589844, 532.467041015625, 5526.51123046875, 3372.306396484375, 1075.65185546875, 562.5742797851562, 4586.57421875, 647.8840942382812, 2323.35107421875, 540.6423950195312, 1755.6387939453125, 1942.4713134765625, 2380.49853515625, 5010.3212890625, 2475.40625, 1117.264404296875, 2320.055908203125, 7551.79052734375, 1530.6463623046875, 1093.178466796875, 929.41162109375, 1556.4248046875, 1502.140625, 648.3866577148438, 1982.9215087890625, 1416.5787353515625, 1469.980712890625, 1488.2996826171875, 1193.8900146484375, 1101.6322021484375, 4744.435546875, 2771.6025390625, 2337.434326171875, 1718.1898193359375, 1629.6275634765625, 1490.91943359375, 1318.94140625, 1239.6800537109375, 1028.8636474609375, 944.0783081054688, 807.2962036132812, 755.5654296875, 658.7755126953125, 613.5603637695312, 569.3311157226562, 551.2825927734375, 505.7308349609375, 504.7381286621094, 385.3546142578125, 372.0765380859375, 369.6282653808594, 366.43505859375, 361.8875732421875, 348.7508544921875, 340.59429931640625, 333.1154479980469, 332.5402526855469, 971.23193359375, 302.4259338378906, 264.7911682128906, 3414.484130859375, 7610.68310546875, 1157.798583984375, 1659.418701171875, 813.2937622070312, 1391.146728515625, 2782.3125, 3052.582763671875, 1283.59228515625, 3929.633056640625, 874.785888671875, 1744.646240234375, 1695.411376953125, 1347.4593505859375, 4371.38232421875, 3162.25927734375, 2018.4696044921875, 1153.1796875, 1302.5361328125, 917.4404907226562, 916.2428588867188], \"Total\": [45834.0, 27886.0, 9027.0, 7596.0, 14184.0, 8826.0, 8810.0, 16336.0, 8656.0, 28327.0, 14396.0, 18647.0, 30175.0, 11762.0, 14185.0, 14740.0, 7288.0, 4745.0, 11571.0, 14391.0, 20871.0, 8557.0, 5164.0, 41193.0, 12636.0, 5068.0, 3571.0, 3729.0, 6480.0, 4782.0, 4782.9521484375, 3724.2451171875, 1670.83154296875, 818.6356201171875, 799.468505859375, 762.4132690429688, 676.832275390625, 646.5958251953125, 615.6659545898438, 589.6179809570312, 554.3223876953125, 535.2070922851562, 480.1179504394531, 472.9684753417969, 446.80267333984375, 422.8152160644531, 397.8980407714844, 365.8453369140625, 365.041748046875, 354.3184814453125, 343.0872497558594, 338.731201171875, 328.97735595703125, 322.0123291015625, 313.53179931640625, 312.75030517578125, 288.1163635253906, 282.51708984375, 279.49139404296875, 275.6193542480469, 1044.8653564453125, 1096.4095458984375, 617.60986328125, 361.75335693359375, 775.4231567382812, 644.5435791015625, 1479.2501220703125, 2537.40966796875, 2783.176025390625, 1164.073974609375, 4298.0849609375, 1057.5064697265625, 5577.880859375, 7559.95849609375, 1443.0926513671875, 9515.5478515625, 3539.470947265625, 12636.6572265625, 1828.9879150390625, 10208.6806640625, 1205.7530517578125, 2012.346923828125, 16336.1396484375, 2680.340087890625, 7826.46240234375, 1832.7384033203125, 41193.37890625, 11571.5732421875, 5645.89501953125, 5549.55810546875, 20226.94140625, 5828.677734375, 45834.74609375, 6383.01220703125, 3870.632080078125, 4512.11279296875, 2686.223876953125, 8121.29345703125, 14185.94140625, 14740.041015625, 9091.5419921875, 14391.71484375, 10514.9443359375, 18647.7890625, 8826.8203125, 3224.15673828125, 1712.3797607421875, 1710.198486328125, 1693.09423828125, 1584.3780517578125, 1185.8641357421875, 1073.17724609375, 909.2565307617188, 867.7489624023438, 846.9395751953125, 805.6302490234375, 720.0703735351562, 663.2210693359375, 634.3477783203125, 614.3502807617188, 597.4472045898438, 589.123291015625, 578.4923706054688, 568.9677734375, 533.0995483398438, 488.7347106933594, 466.5396728515625, 439.7931823730469, 434.6747741699219, 401.2181701660156, 397.88348388671875, 396.3868103027344, 344.3486633300781, 339.27117919921875, 5342.44384765625, 14184.0048828125, 3252.881103515625, 4543.9873046875, 1091.1351318359375, 1766.304443359375, 887.3873291015625, 5085.6259765625, 6383.01220703125, 12600.759765625, 1135.9490966796875, 16195.087890625, 9091.5419921875, 14396.4658203125, 4936.7080078125, 7700.736328125, 20871.890625, 30175.013671875, 4073.308837890625, 41193.37890625, 28327.58203125, 6790.0087890625, 18647.7890625, 14740.041015625, 8121.29345703125, 10514.9443359375, 3142.382080078125, 27886.423828125, 4948.705078125, 8557.4052734375, 20226.94140625, 9218.9794921875, 14555.150390625, 1460.77783203125, 2113.853271484375, 563.8502197265625, 546.1847534179688, 497.4053039550781, 480.7036437988281, 481.0773010253906, 471.04876708984375, 460.567138671875, 365.7288513183594, 342.1257629394531, 602.79150390625, 286.79534912109375, 278.9504089355469, 273.970703125, 243.59036254882812, 240.07801818847656, 237.55918884277344, 234.83349609375, 228.51742553710938, 220.4698028564453, 213.0970001220703, 195.3771209716797, 193.2516632080078, 192.30679321289062, 188.6697235107422, 187.54295349121094, 185.3412322998047, 184.87156677246094, 177.84564208984375, 14185.94140625, 14391.71484375, 3465.86181640625, 6679.78125, 2294.2138671875, 2448.323974609375, 45834.74609375, 6480.8583984375, 10030.34375, 18647.7890625, 398.74896240234375, 14555.150390625, 2248.935791015625, 30175.013671875, 2489.898193359375, 20226.94140625, 6934.43359375, 7217.33251953125, 11762.212890625, 28327.58203125, 5893.54931640625, 41193.37890625, 2454.947265625, 2710.744873046875, 10208.6806640625, 20871.890625, 8810.490234375, 27886.423828125, 5164.7841796875, 10514.9443359375, 9218.9794921875, 14184.0048828125, 7288.79931640625, 14396.4658203125, 1220.7159423828125, 999.900146484375, 959.1803588867188, 888.5980224609375, 848.8832397460938, 601.0530395507812, 516.5335083007812, 2120.462158203125, 476.3500061035156, 453.1548767089844, 367.9721374511719, 355.35400390625, 344.1311950683594, 341.28546142578125, 322.3408508300781, 321.80865478515625, 320.4454040527344, 265.31219482421875, 263.26397705078125, 262.5816650390625, 247.05299377441406, 243.17974853515625, 290.1208190917969, 220.3716583251953, 220.65957641601562, 216.00869750976562, 212.87496948242188, 211.9300079345703, 203.7990264892578, 203.17996215820312, 2773.198486328125, 8656.076171875, 1531.2548828125, 2731.291748046875, 1661.6368408203125, 997.7559814453125, 3134.134033203125, 1810.64501953125, 1245.608154296875, 14740.041015625, 14396.4658203125, 2584.371826171875, 4326.5751953125, 20871.890625, 6934.43359375, 28327.58203125, 30175.013671875, 2286.047119140625, 833.0978393554688, 10514.9443359375, 8121.29345703125, 9218.9794921875, 3711.862548828125, 45834.74609375, 7826.46240234375, 4435.31787109375, 16195.087890625, 20226.94140625, 27886.423828125, 41193.37890625, 12600.759765625, 7700.736328125, 6679.78125, 14391.71484375, 7596.92041015625, 2524.2138671875, 827.9951782226562, 773.5989990234375, 705.2266235351562, 576.3656005859375, 486.3432312011719, 467.00543212890625, 433.2078552246094, 427.3019714355469, 410.5686950683594, 383.1714782714844, 351.1587829589844, 311.214599609375, 286.21722412109375, 286.0091552734375, 274.1904602050781, 241.07345581054688, 237.07058715820312, 219.68980407714844, 216.18218994140625, 201.67469787597656, 183.06069946289062, 176.31466674804688, 175.99659729003906, 170.4100341796875, 169.37289428710938, 164.45327758789062, 163.88539123535156, 158.6473846435547, 354.73828125, 606.0330810546875, 493.5202941894531, 3247.138427734375, 7288.79931640625, 1136.9842529296875, 426.5067443847656, 396.0082702636719, 3793.474853515625, 27886.423828125, 11571.5732421875, 6343.9091796875, 12636.6572265625, 16336.1396484375, 2098.07080078125, 4512.11279296875, 1398.1737060546875, 1879.396484375, 7217.33251953125, 2637.8916015625, 12600.759765625, 16195.087890625, 41193.37890625, 6193.22265625, 4431.60400390625, 6031.73388671875, 5645.89501953125, 3361.41650390625, 4073.308837890625, 2441.20166015625, 8557.4052734375, 14740.041015625, 3875.494873046875, 9515.5478515625, 3729.374755859375, 1829.81494140625, 1699.895263671875, 1415.92919921875, 1349.0772705078125, 1206.4615478515625, 1132.5474853515625, 693.183349609375, 492.60076904296875, 471.7308654785156, 458.9291076660156, 402.8348083496094, 364.70709228515625, 350.78802490234375, 342.74810791015625, 340.4893493652344, 304.7189025878906, 293.7208557128906, 282.2053527832031, 274.9473876953125, 265.0411682128906, 258.8796081542969, 247.4918670654297, 244.01138305664062, 233.7477264404297, 231.05587768554688, 216.35227966308594, 210.29701232910156, 209.9583740234375, 200.31871032714844, 308.00677490234375, 581.4295654296875, 8810.490234375, 5068.4306640625, 1378.8046875, 654.5421142578125, 8557.4052734375, 819.2283935546875, 4431.60400390625, 680.4329223632812, 3361.41650390625, 4001.926513671875, 5549.55810546875, 16336.1396484375, 6193.22265625, 1966.414794921875, 5893.54931640625, 41193.37890625, 4404.69921875, 2618.397705078125, 1969.118408203125, 6480.8583984375, 6031.73388671875, 1016.2473754882812, 20226.94140625, 9027.974609375, 11762.212890625, 16195.087890625, 12600.759765625, 27886.423828125, 4745.29541015625, 2772.4619140625, 2338.294677734375, 1719.0499267578125, 1630.4874267578125, 1491.7794189453125, 1319.8017578125, 1240.53955078125, 1029.7237548828125, 944.9384155273438, 808.1558837890625, 756.4259643554688, 659.6355590820312, 614.4199829101562, 570.1935424804688, 552.1429443359375, 506.5911560058594, 505.5979309082031, 386.2148742675781, 372.9360046386719, 370.4880065917969, 367.294677734375, 362.7471618652344, 349.61114501953125, 341.4539794921875, 333.9750671386719, 333.4005432128906, 973.8805541992188, 303.28570556640625, 265.6502685546875, 3571.657958984375, 9027.974609375, 1369.5526123046875, 2131.40380859375, 952.781005859375, 1927.392333984375, 4586.20556640625, 5164.7841796875, 1937.0389404296875, 11762.212890625, 1322.40234375, 4435.31787109375, 5068.4306640625, 3604.935546875, 45834.74609375, 28327.58203125, 30175.013671875, 4936.7080078125, 8656.076171875, 2909.15380859375, 7559.95849609375], \"Category\": [\"Default\", \"Default\", \"Default\", \"Default\", \"Default\", \"Default\", \"Default\", \"Default\", \"Default\", \"Default\", \"Default\", \"Default\", \"Default\", \"Default\", \"Default\", \"Default\", \"Default\", \"Default\", \"Default\", \"Default\", \"Default\", \"Default\", \"Default\", \"Default\", \"Default\", \"Default\", \"Default\", \"Default\", \"Default\", \"Default\", \"Topic1\", \"Topic1\", \"Topic1\", \"Topic1\", \"Topic1\", \"Topic1\", \"Topic1\", \"Topic1\", \"Topic1\", \"Topic1\", \"Topic1\", \"Topic1\", \"Topic1\", \"Topic1\", \"Topic1\", \"Topic1\", \"Topic1\", \"Topic1\", \"Topic1\", \"Topic1\", \"Topic1\", \"Topic1\", \"Topic1\", \"Topic1\", \"Topic1\", \"Topic1\", \"Topic1\", \"Topic1\", \"Topic1\", \"Topic1\", \"Topic1\", \"Topic1\", \"Topic1\", \"Topic1\", \"Topic1\", \"Topic1\", \"Topic1\", \"Topic1\", \"Topic1\", \"Topic1\", \"Topic1\", \"Topic1\", \"Topic1\", \"Topic1\", \"Topic1\", \"Topic1\", \"Topic1\", \"Topic1\", \"Topic1\", \"Topic1\", \"Topic1\", \"Topic1\", \"Topic1\", \"Topic1\", \"Topic1\", \"Topic1\", \"Topic1\", \"Topic1\", \"Topic1\", \"Topic1\", \"Topic1\", \"Topic1\", \"Topic1\", \"Topic1\", \"Topic1\", \"Topic1\", \"Topic1\", \"Topic1\", \"Topic1\", \"Topic1\", \"Topic1\", \"Topic1\", \"Topic1\", \"Topic1\", \"Topic2\", \"Topic2\", \"Topic2\", \"Topic2\", \"Topic2\", \"Topic2\", \"Topic2\", \"Topic2\", \"Topic2\", \"Topic2\", \"Topic2\", \"Topic2\", \"Topic2\", \"Topic2\", \"Topic2\", \"Topic2\", \"Topic2\", \"Topic2\", \"Topic2\", \"Topic2\", \"Topic2\", \"Topic2\", \"Topic2\", \"Topic2\", \"Topic2\", \"Topic2\", \"Topic2\", \"Topic2\", \"Topic2\", \"Topic2\", \"Topic2\", \"Topic2\", \"Topic2\", \"Topic2\", \"Topic2\", \"Topic2\", \"Topic2\", \"Topic2\", \"Topic2\", \"Topic2\", \"Topic2\", \"Topic2\", \"Topic2\", \"Topic2\", \"Topic2\", \"Topic2\", \"Topic2\", \"Topic2\", \"Topic2\", \"Topic2\", \"Topic2\", \"Topic2\", \"Topic2\", \"Topic2\", \"Topic2\", \"Topic2\", \"Topic2\", \"Topic2\", \"Topic2\", \"Topic2\", \"Topic2\", \"Topic2\", \"Topic2\", \"Topic3\", \"Topic3\", \"Topic3\", \"Topic3\", \"Topic3\", \"Topic3\", \"Topic3\", \"Topic3\", \"Topic3\", \"Topic3\", \"Topic3\", \"Topic3\", \"Topic3\", \"Topic3\", \"Topic3\", \"Topic3\", \"Topic3\", \"Topic3\", \"Topic3\", \"Topic3\", \"Topic3\", \"Topic3\", \"Topic3\", \"Topic3\", \"Topic3\", \"Topic3\", \"Topic3\", \"Topic3\", \"Topic3\", \"Topic3\", \"Topic3\", \"Topic3\", \"Topic3\", \"Topic3\", \"Topic3\", \"Topic3\", \"Topic3\", \"Topic3\", \"Topic3\", \"Topic3\", \"Topic3\", \"Topic3\", \"Topic3\", \"Topic3\", \"Topic3\", \"Topic3\", \"Topic3\", \"Topic3\", \"Topic3\", \"Topic3\", \"Topic3\", \"Topic3\", \"Topic3\", \"Topic3\", \"Topic3\", \"Topic3\", \"Topic3\", \"Topic3\", \"Topic3\", \"Topic3\", \"Topic3\", \"Topic3\", \"Topic3\", \"Topic3\", \"Topic4\", \"Topic4\", \"Topic4\", \"Topic4\", \"Topic4\", \"Topic4\", \"Topic4\", \"Topic4\", \"Topic4\", \"Topic4\", \"Topic4\", \"Topic4\", \"Topic4\", \"Topic4\", \"Topic4\", \"Topic4\", \"Topic4\", \"Topic4\", \"Topic4\", \"Topic4\", \"Topic4\", \"Topic4\", \"Topic4\", \"Topic4\", \"Topic4\", \"Topic4\", \"Topic4\", \"Topic4\", \"Topic4\", \"Topic4\", \"Topic4\", \"Topic4\", \"Topic4\", \"Topic4\", \"Topic4\", \"Topic4\", \"Topic4\", \"Topic4\", \"Topic4\", \"Topic4\", \"Topic4\", \"Topic4\", \"Topic4\", \"Topic4\", \"Topic4\", \"Topic4\", \"Topic4\", \"Topic4\", \"Topic4\", \"Topic4\", \"Topic4\", \"Topic4\", \"Topic4\", \"Topic4\", \"Topic4\", \"Topic4\", \"Topic4\", \"Topic4\", \"Topic4\", \"Topic4\", \"Topic4\", \"Topic4\", \"Topic4\", \"Topic4\", \"Topic5\", \"Topic5\", \"Topic5\", \"Topic5\", \"Topic5\", \"Topic5\", \"Topic5\", \"Topic5\", \"Topic5\", \"Topic5\", \"Topic5\", \"Topic5\", \"Topic5\", \"Topic5\", \"Topic5\", \"Topic5\", \"Topic5\", \"Topic5\", \"Topic5\", \"Topic5\", \"Topic5\", \"Topic5\", \"Topic5\", \"Topic5\", \"Topic5\", \"Topic5\", \"Topic5\", \"Topic5\", \"Topic5\", \"Topic5\", \"Topic5\", \"Topic5\", \"Topic5\", \"Topic5\", \"Topic5\", \"Topic5\", \"Topic5\", \"Topic5\", \"Topic5\", \"Topic5\", \"Topic5\", \"Topic5\", \"Topic5\", \"Topic5\", \"Topic5\", \"Topic5\", \"Topic5\", \"Topic5\", \"Topic5\", \"Topic5\", \"Topic5\", \"Topic5\", \"Topic5\", \"Topic5\", \"Topic5\", \"Topic5\", \"Topic5\", \"Topic5\", \"Topic5\", \"Topic5\", \"Topic5\", \"Topic5\", \"Topic5\", \"Topic5\", \"Topic6\", \"Topic6\", \"Topic6\", \"Topic6\", \"Topic6\", \"Topic6\", \"Topic6\", \"Topic6\", \"Topic6\", \"Topic6\", \"Topic6\", \"Topic6\", \"Topic6\", \"Topic6\", \"Topic6\", \"Topic6\", \"Topic6\", \"Topic6\", \"Topic6\", \"Topic6\", \"Topic6\", \"Topic6\", \"Topic6\", \"Topic6\", \"Topic6\", \"Topic6\", \"Topic6\", \"Topic6\", \"Topic6\", \"Topic6\", \"Topic6\", \"Topic6\", \"Topic6\", \"Topic6\", \"Topic6\", \"Topic6\", \"Topic6\", \"Topic6\", \"Topic6\", \"Topic6\", \"Topic6\", \"Topic6\", \"Topic6\", \"Topic6\", \"Topic6\", \"Topic6\", \"Topic6\", \"Topic6\", \"Topic6\", \"Topic6\", \"Topic6\", \"Topic6\", \"Topic6\", \"Topic6\", \"Topic6\", \"Topic6\", \"Topic6\", \"Topic6\", \"Topic6\", \"Topic6\", \"Topic7\", \"Topic7\", \"Topic7\", \"Topic7\", \"Topic7\", \"Topic7\", \"Topic7\", \"Topic7\", \"Topic7\", \"Topic7\", \"Topic7\", \"Topic7\", \"Topic7\", \"Topic7\", \"Topic7\", \"Topic7\", \"Topic7\", \"Topic7\", \"Topic7\", \"Topic7\", \"Topic7\", \"Topic7\", \"Topic7\", \"Topic7\", \"Topic7\", \"Topic7\", \"Topic7\", \"Topic7\", \"Topic7\", \"Topic7\", \"Topic7\", \"Topic7\", \"Topic7\", \"Topic7\", \"Topic7\", \"Topic7\", \"Topic7\", \"Topic7\", \"Topic7\", \"Topic7\", \"Topic7\", \"Topic7\", \"Topic7\", \"Topic7\", \"Topic7\", \"Topic7\", \"Topic7\", \"Topic7\", \"Topic7\", \"Topic7\", \"Topic7\"], \"logprob\": [30.0, 29.0, 28.0, 27.0, 26.0, 25.0, 24.0, 23.0, 22.0, 21.0, 20.0, 19.0, 18.0, 17.0, 16.0, 15.0, 14.0, 13.0, 12.0, 11.0, 10.0, 9.0, 8.0, 7.0, 6.0, 5.0, 4.0, 3.0, 2.0, 1.0, -4.164599895477295, -4.414899826049805, -5.216700077056885, -5.930699825286865, -5.954400062561035, -6.0019001960754395, -6.121099948883057, -6.166900157928467, -6.216000080108643, -6.259300231933594, -6.321100234985352, -6.356200218200684, -6.465099811553955, -6.480100154876709, -6.537099838256836, -6.592400074005127, -6.653299808502197, -6.737400054931641, -6.73960018157959, -6.769499778747559, -6.801799774169922, -6.814599990844727, -6.843900203704834, -6.8653998374938965, -6.892099857330322, -6.894599914550781, -6.976900100708008, -6.996600151062012, -7.007400035858154, -7.021399974822998, -5.690199851989746, -5.658100128173828, -6.226099967956543, -6.75570011138916, -6.0243000984191895, -6.203800201416016, -5.436100006103516, -4.934299945831299, -4.899400234222412, -5.708399772644043, -4.5594000816345215, -5.8094000816345215, -4.435299873352051, -4.209700107574463, -5.589600086212158, -4.094600200653076, -4.897200107574463, -3.933199882507324, -5.4268999099731445, -4.108500003814697, -5.788899898529053, -5.466899871826172, -4.1371002197265625, -5.293399810791016, -4.6417999267578125, -5.540900230407715, -3.8018999099731445, -4.526299953460693, -4.953999996185303, -5.008500099182129, -4.405300140380859, -5.002399921417236, -4.060100078582764, -4.991000175476074, -5.222599983215332, -5.195499897003174, -5.37470006942749, -5.041100025177002, -4.960999965667725, -4.988500118255615, -5.11929988861084, -5.081999778747559, -5.151500225067139, -5.1184000968933105, -3.5088999271392822, -4.516200065612793, -5.149199962615967, -5.1504998207092285, -5.160600185394287, -5.2270002365112305, -5.516900062561035, -5.616799831390381, -5.782700061798096, -5.829500198364258, -5.853799819946289, -5.903800010681152, -6.016200065612793, -6.098599910736084, -6.143099784851074, -6.17519998550415, -6.203100204467773, -6.217199802398682, -6.235400199890137, -6.252099990844727, -6.317299842834473, -6.404300212860107, -6.450900077819824, -6.510000228881836, -6.5218000411987305, -6.6020002365112305, -6.610400199890137, -6.614200115203857, -6.755199909210205, -6.770100116729736, -4.14139986038208, -3.2428998947143555, -4.676300048828125, -4.371799945831299, -5.6855998039245605, -5.291399955749512, -5.896999835968018, -4.416900157928467, -4.403200149536133, -3.8919999599456787, -5.7480998039245605, -3.8547000885009766, -4.273200035095215, -4.021699905395508, -4.777299880981445, -4.497600078582764, -3.877500057220459, -3.6610000133514404, -4.9506001472473145, -3.5164999961853027, -3.7548999786376953, -4.6442999839782715, -4.186500072479248, -4.3130998611450195, -4.657100200653076, -4.607399940490723, -5.1458001136779785, -4.354899883270264, -4.99370002746582, -4.878300189971924, -4.769899845123291, -4.900700092315674, -4.845900058746338, -5.304200172424316, -4.934899806976318, -6.2571001052856445, -6.289000034332275, -6.382699966430664, -6.416900157928467, -6.416200160980225, -6.437300205230713, -6.459799766540527, -6.690899848937988, -6.757699966430664, -6.1915998458862305, -6.934599876403809, -6.962500095367432, -6.980500221252441, -7.098499774932861, -7.11299991607666, -7.123600006103516, -7.135200023651123, -7.162600040435791, -7.198599815368652, -7.232699871063232, -7.319900035858154, -7.330900192260742, -7.3358001708984375, -7.355000019073486, -7.361000061035156, -7.372900009155273, -7.375400066375732, -7.414400100708008, -3.3010001182556152, -3.342099905014038, -4.652100086212158, -4.058300018310547, -5.0416998863220215, -4.9857001304626465, -2.2908999919891357, -4.093100070953369, -3.718899965286255, -3.1939001083374023, -6.6666998863220215, -3.477099895477295, -5.240699768066406, -3.1166000366210938, -5.1793999671936035, -3.46370005607605, -4.367700099945068, -4.343900203704834, -3.995800018310547, -3.404599905014038, -4.671000003814697, -3.287899971008301, -5.309000015258789, -5.254499912261963, -4.372799873352051, -3.930999994277954, -4.493800163269043, -3.808199882507324, -4.935200214385986, -4.673999786376953, -4.747000217437744, -4.701300144195557, -4.90880012512207, -4.890500068664551, -5.094799995422363, -5.29449987411499, -5.336100101470947, -5.412600040435791, -5.458499908447266, -5.804100036621094, -5.9558000564575195, -4.543600082397461, -6.0370001792907715, -6.086999893188477, -6.295599937438965, -6.330599784851074, -6.362800121307373, -6.371099948883057, -6.428400039672852, -6.429999828338623, -6.434299945831299, -6.623700141906738, -6.631400108337402, -6.633999824523926, -6.695199966430664, -6.711100101470947, -6.534800052642822, -6.809899806976318, -6.808599948883057, -6.829999923706055, -6.844699859619141, -6.849100112915039, -6.888400077819824, -6.891499996185303, -4.2820000648498535, -3.2985000610351562, -4.998799800872803, -4.510700225830078, -4.991300106048584, -5.4720001220703125, -4.491399765014648, -4.986700057983398, -5.322199821472168, -3.2469000816345215, -3.3633999824523926, -4.792699813842773, -4.413000106811523, -3.360599994659424, -4.194900035858154, -3.3027000427246094, -3.398099899291992, -5.1016998291015625, -5.774700164794922, -4.179299831390381, -4.363699913024902, -4.302800178527832, -4.889400005340576, -3.5215001106262207, -4.490799903869629, -4.806399822235107, -4.230599880218506, -4.271900177001953, -4.190899848937988, -4.1656999588012695, -4.588699817657471, -4.819399833679199, -4.890999794006348, -4.899499893188477, -3.018199920654297, -4.120100021362305, -5.235499858856201, -5.303500175476074, -5.396200180053711, -5.598199844360352, -5.7683000564575195, -5.809000015258789, -5.884200096130371, -5.8979997634887695, -5.938000202178955, -6.007199764251709, -6.094699859619141, -6.215799808502197, -6.299699783325195, -6.30049991607666, -6.342800140380859, -6.4720001220703125, -6.488800048828125, -6.565199851989746, -6.581299781799316, -6.651100158691406, -6.7484002113342285, -6.786099910736084, -6.788000106811523, -6.820400238037109, -6.826600074768066, -6.856100082397461, -6.859600067138672, -6.892199993133545, -6.0894999504089355, -5.582399845123291, -5.784299850463867, -4.13070011138916, -3.4124999046325684, -5.110799789428711, -5.991700172424316, -6.063499927520752, -4.137899875640869, -2.4463000297546387, -3.259500026702881, -3.9700000286102295, -3.6294000148773193, -3.4988999366760254, -4.934899806976318, -4.419600009918213, -5.231900215148926, -5.070199966430664, -4.256199836730957, -4.894899845123291, -4.149099826812744, -4.03000020980835, -3.6709001064300537, -4.653299808502197, -4.891300201416016, -4.878200054168701, -4.928199768066406, -5.180099964141846, -5.15310001373291, -5.290500164031982, -5.144499778747559, -5.09689998626709, -5.2565999031066895, -5.249199867248535, -3.687700033187866, -4.400000095367432, -4.473700046539307, -4.656499862670898, -4.704899787902832, -4.816699981689453, -4.880000114440918, -5.371399879455566, -5.713500022888184, -5.756899833679199, -5.7845001220703125, -5.91510009765625, -6.014699935913086, -6.053800106048584, -6.077000141143799, -6.083600044250488, -6.194900035858154, -6.231800079345703, -6.271900177001953, -6.297999858856201, -6.334799766540527, -6.358399868011475, -6.403600215911865, -6.417799949645996, -6.460899829864502, -6.472599983215332, -6.53849983215332, -6.5671000480651855, -6.568699836730957, -6.615900039672852, -6.189599990844727, -5.633999824523926, -3.2941999435424805, -3.788100004196167, -4.930799961090088, -5.578999996185303, -3.480600118637085, -5.43779993057251, -4.160699844360352, -5.61870002746582, -4.440899848937988, -4.339799880981445, -4.13640022277832, -3.392199993133545, -4.097300052642822, -4.8927998542785645, -4.162099838256836, -2.9818999767303467, -4.578000068664551, -4.914599895477295, -5.076900005340576, -4.561299800872803, -4.596799850463867, -5.436999797821045, -4.319200038909912, -4.6554999351501465, -4.618500232696533, -4.606100082397461, -4.826499938964844, -4.906899929046631, -3.2077999114990234, -3.7453999519348145, -3.9156999588012695, -4.223499774932861, -4.276400089263916, -4.3653998374938965, -4.48799991607666, -4.549900054931641, -4.736299991607666, -4.822299957275391, -4.978799819946289, -5.045100212097168, -5.182199954986572, -5.253300189971924, -5.328100204467773, -5.360300064086914, -5.446499824523926, -5.448500156402588, -5.718400001525879, -5.753399848937988, -5.760000228881836, -5.768700122833252, -5.781199932098389, -5.81820011138916, -5.841800212860107, -5.864099979400635, -5.865799903869629, -4.794000148773193, -5.960700035095215, -6.093599796295166, -3.536799907684326, -2.7351999282836914, -4.618299961090088, -4.258299827575684, -4.971399784088135, -4.434700012207031, -3.741499900817871, -3.6487998962402344, -4.515100002288818, -3.396199941635132, -4.898600101470947, -4.208199977874756, -4.2368998527526855, -4.466599941253662, -3.2897000312805176, -3.6135001182556152, -4.062399864196777, -4.622300148010254, -4.500500202178955, -4.85099983215332, -4.85230016708374], \"loglift\": [30.0, 29.0, 28.0, 27.0, 26.0, 25.0, 24.0, 23.0, 22.0, 21.0, 20.0, 19.0, 18.0, 17.0, 16.0, 15.0, 14.0, 13.0, 12.0, 11.0, 10.0, 9.0, 8.0, 7.0, 6.0, 5.0, 4.0, 3.0, 2.0, 1.0, 1.5949000120162964, 1.5947999954223633, 1.594499945640564, 1.593999981880188, 1.593999981880188, 1.5938999652862549, 1.5937999486923218, 1.5937000513076782, 1.5936000347137451, 1.5936000347137451, 1.593500018119812, 1.593400001525879, 1.5931999683380127, 1.5931999683380127, 1.5930999517440796, 1.593000054359436, 1.592900037765503, 1.5927000045776367, 1.5927000045776367, 1.5925999879837036, 1.5924999713897705, 1.5924999713897705, 1.5923999547958374, 1.5923000574111938, 1.5923000574111938, 1.5923000574111938, 1.5920000076293945, 1.5920000076293945, 1.5918999910354614, 1.5918999910354614, 1.590399980545044, 1.5743999481201172, 1.580399990081787, 1.5857000350952148, 1.5546000003814697, 1.559999942779541, 1.496899962425232, 1.4591000080108643, 1.4016000032424927, 1.4643000364303589, 1.3070000410079956, 1.4593000411987305, 1.1704000234603882, 1.0920000076293945, 1.3681000471115112, 0.9771000146865845, 1.1634000539779663, 0.8547000288963318, 1.2939000129699707, 0.8928999900817871, 1.3486000299453735, 1.158400058746338, 0.39410001039505005, 1.045199990272522, 0.6251999735832214, 1.177899956703186, -0.1956000030040741, 0.349700003862381, 0.6396999955177307, 0.6022999882698059, -0.0877000018954277, 0.5593000054359436, -0.5605999827384949, 0.4799000024795532, 0.7484999895095825, 0.6223000288009644, 0.9617000222206116, 0.1889999955892563, -0.28870001435279846, -0.3544999957084656, -0.002099999925121665, -0.42410001158714294, -0.17970000207424164, -0.7195000052452087, 1.6378999948501587, 1.6376999616622925, 1.6374000310897827, 1.6374000310897827, 1.6374000310897827, 1.6374000310897827, 1.6371999979019165, 1.6370999813079834, 1.6369999647140503, 1.6369999647140503, 1.6368999481201172, 1.6368999481201172, 1.6367000341415405, 1.6366000175476074, 1.6366000175476074, 1.6365000009536743, 1.6365000009536743, 1.6365000009536743, 1.6365000009536743, 1.6363999843597412, 1.636299967765808, 1.636199951171875, 1.6361000537872314, 1.6360000371932983, 1.6360000371932983, 1.6358000040054321, 1.6358000040054321, 1.6358000040054321, 1.6354000568389893, 1.6354000568389893, 1.5075000524520874, 1.4294999837875366, 1.4687000513076782, 1.4390000104904175, 1.551800012588501, 1.4643000364303589, 1.5470999479293823, 1.2812000513076782, 1.0677000284194946, 0.8988000154495239, 1.4490000009536743, 0.6851999759674072, 0.843999981880188, 0.6359000205993652, 0.9506000280380249, 0.7857000231742859, 0.40869998931884766, 0.2565000057220459, 0.9695000052452087, 0.08980000019073486, 0.22589999437332153, 0.7648000121116638, 0.21230000257492065, 0.32089999318122864, 0.5730000138282776, 0.3643999993801117, 1.0336999893188477, -0.35839998722076416, 0.7317000031471252, 0.2994000017642975, -0.45239999890327454, 0.20260000228881836, -0.19930000603199005, 1.6413999795913696, 1.6411999464035034, 1.6404000520706177, 1.6404000520706177, 1.6402000188827515, 1.6401000022888184, 1.6401000022888184, 1.6401000022888184, 1.6401000022888184, 1.6396000385284424, 1.6394000053405762, 1.63919997215271, 1.6389000415802002, 1.638800024986267, 1.638800024986267, 1.6383999586105347, 1.6382999420166016, 1.6382999420166016, 1.638200044631958, 1.638100028038025, 1.6380000114440918, 1.6378999948501587, 1.6375000476837158, 1.6374000310897827, 1.6374000310897827, 1.6373000144958496, 1.6373000144958496, 1.6371999979019165, 1.6371999979019165, 1.6369999647140503, 1.3712999820709229, 1.3157999515533447, 1.4294999837875366, 1.3672000169754028, 1.4524999856948853, 1.44350004196167, 1.2086999416351318, 1.3625999689102173, 1.2999999523162842, 1.2049000263214111, 1.5772000551223755, 1.1694999933242798, 1.2733999490737915, 0.8008999824523926, 1.2330000400543213, 0.8537999987602234, 1.020400047302246, 1.0041999816894531, 0.8639000058174133, 0.5760999917984009, 0.879800021648407, 0.31839999556541443, 1.1174999475479126, 1.0728000402450562, 0.6284999847412109, 0.35519999265670776, 0.6547999978065491, 0.1882999986410141, 0.7475000023841858, 0.2978000044822693, 0.3562999963760376, -0.02879999950528145, 0.4293999969959259, -0.2328999936580658, 2.0302999019622803, 2.0302000045776367, 2.030100107192993, 2.0299999713897705, 2.029900074005127, 2.029599905014038, 2.0292999744415283, 2.0292999744415283, 2.0292000770568848, 2.029099941253662, 2.028700113296509, 2.028599977493286, 2.0285000801086426, 2.0285000801086426, 2.0283000469207764, 2.0283000469207764, 2.0283000469207764, 2.0278000831604004, 2.0276999473571777, 2.0276999473571777, 2.0274999141693115, 2.0274999141693115, 2.0272998809814453, 2.027100086212158, 2.027100086212158, 2.0269999504089355, 2.026900053024292, 2.026900053024292, 2.0267999172210693, 2.026700019836426, 2.022599935531616, 1.867799997329712, 1.8996000289916992, 1.809000015258789, 1.8253999948501587, 1.8547999858856201, 1.6907999515533447, 1.7440999746322632, 1.7827999591827393, 1.3870999813079834, 1.2941999435424805, 1.5823999643325806, 1.4467999935150146, 0.9254999756813049, 1.1931999921798706, 0.6780999898910522, 0.5195000171661377, 1.3960000276565552, 1.7324999570846558, 0.7925000190734863, 0.8664000034332275, 0.8004999756813049, 1.1236000061035156, -0.021900000050663948, 0.7763000130653381, 1.028499960899353, 0.3093000054359436, 0.04560000076889992, -0.19449999928474426, -0.5594000220298767, 0.2020999938249588, 0.46380001306533813, 0.534500002861023, -0.24160000681877136, 2.278599977493286, 2.2785000801086426, 2.2778000831604004, 2.2776999473571777, 2.277600049972534, 2.2772998809814453, 2.277100086212158, 2.2769999504089355, 2.276900053024292, 2.2767999172210693, 2.276700019836426, 2.276599884033203, 2.276400089263916, 2.276099920272827, 2.2757999897003174, 2.2757999897003174, 2.275700092315674, 2.2753000259399414, 2.2751998901367188, 2.274899959564209, 2.274899959564209, 2.274600028991699, 2.2741000652313232, 2.273900032043457, 2.273900032043457, 2.273699998855591, 2.2736001014709473, 2.2736001014709473, 2.2736001014709473, 2.273400068283081, 2.271399974822998, 2.243000030517578, 2.246500015258789, 2.0160999298095703, 1.9256999492645264, 2.085400104522705, 2.184999942779541, 2.1874001026153564, 1.8532999753952026, 1.5500999689102173, 1.6165000200271606, 1.507099986076355, 1.1584999561309814, 1.0322999954223633, 1.6486999988555908, 1.3982000350952148, 1.7575000524520874, 1.6233999729156494, 1.0918999910354614, 1.4596999883651733, 0.641700029373169, 0.5098999738693237, -0.06459999829530716, 0.8478000164031982, 0.9445000290870667, 0.6492999792098999, 0.6654000282287598, 0.9320999979972839, 0.7670000195503235, 1.1416000127792358, 0.0333000011742115, -0.4629000127315521, 0.7132999897003174, -0.17749999463558197, 2.3206000328063965, 2.3203999996185303, 2.3203001022338867, 2.320199966430664, 2.320199966430664, 2.3201000690460205, 2.3201000690460205, 2.3196001052856445, 2.3190999031066895, 2.319000005722046, 2.319000005722046, 2.318700075149536, 2.31850004196167, 2.3183999061584473, 2.3183000087738037, 2.3183000087738037, 2.318000078201294, 2.3178999423980713, 2.3178000450134277, 2.317699909210205, 2.3176000118255615, 2.317500114440918, 2.3173999786376953, 2.3173000812530518, 2.3171000480651855, 2.3171000480651855, 2.3169000148773193, 2.316699981689453, 2.316699981689453, 2.316499948501587, 2.3125998973846436, 2.2328999042510986, 1.8544000387191772, 1.9134000539779663, 2.072499990463257, 2.1693999767303467, 1.6971999406814575, 2.086199998855591, 1.6750999689102173, 2.09089994430542, 1.6713000535964966, 1.5980000495910645, 1.4744000434875488, 1.1390000581741333, 1.4038000106811523, 1.7554999589920044, 1.3885999917984009, 0.6243000030517578, 1.2639000415802002, 1.4473999738693237, 1.5700000524520874, 0.8944000005722046, 0.9307000041007996, 1.871500015258789, -0.0015999999595806003, 0.46880000829696655, 0.24120000004768372, -0.06620000302791595, -0.0357000008225441, -0.9104999899864197, 2.5596001148223877, 2.559499979019165, 2.5594000816345215, 2.559299945831299, 2.559299945831299, 2.5592000484466553, 2.5590999126434326, 2.5590999126434326, 2.5589001178741455, 2.5589001178741455, 2.5587000846862793, 2.5585999488830566, 2.558500051498413, 2.5583999156951904, 2.558300018310547, 2.558199882507324, 2.5580999851226807, 2.5580999851226807, 2.557499885559082, 2.557499885559082, 2.557499885559082, 2.5573999881744385, 2.5573999881744385, 2.557300090789795, 2.557300090789795, 2.5571999549865723, 2.5571999549865723, 2.5571000576019287, 2.5569000244140625, 2.55649995803833, 2.5148000717163086, 2.3889999389648438, 2.3917999267578125, 2.309499979019165, 2.4014999866485596, 2.2337000370025635, 2.059999942779541, 2.033900022506714, 2.1482999324798584, 1.4634000062942505, 2.1466000080108643, 1.6267000436782837, 1.4646999835968018, 1.575700044631958, 0.20980000495910645, 0.36719998717308044, -0.14489999413490295, 1.1055999994277954, 0.6657999753952026, 1.4056999683380127, 0.44940000772476196]}, \"token.table\": {\"Topic\": [3, 1, 3, 5, 7, 2, 2, 3, 4, 7, 5, 1, 6, 5, 1, 2, 3, 4, 5, 6, 7, 1, 3, 5, 6, 1, 2, 3, 4, 5, 1, 2, 3, 4, 2, 5, 6, 1, 2, 3, 4, 5, 7, 3, 6, 1, 2, 5, 6, 6, 5, 6, 3, 7, 6, 5, 6, 1, 1, 4, 6, 7, 2, 3, 6, 7, 2, 6, 2, 3, 6, 1, 2, 1, 3, 1, 2, 2, 7, 5, 6, 6, 1, 2, 3, 4, 5, 6, 7, 2, 6, 4, 1, 2, 3, 5, 6, 6, 5, 3, 4, 5, 1, 6, 1, 4, 4, 4, 4, 7, 2, 2, 1, 2, 3, 4, 5, 6, 6, 3, 3, 5, 4, 5, 5, 1, 7, 2, 6, 2, 3, 1, 3, 7, 5, 3, 2, 6, 7, 1, 1, 2, 3, 5, 4, 7, 1, 2, 3, 4, 5, 7, 5, 7, 1, 5, 6, 7, 6, 6, 3, 5, 4, 1, 1, 5, 5, 1, 3, 4, 1, 4, 1, 2, 3, 4, 5, 6, 3, 5, 2, 3, 4, 7, 1, 5, 6, 5, 1, 5, 6, 1, 1, 3, 1, 3, 6, 7, 4, 1, 4, 1, 3, 6, 1, 5, 2, 3, 4, 5, 1, 3, 6, 1, 2, 3, 4, 5, 6, 2, 3, 7, 1, 2, 3, 5, 6, 2, 6, 2, 3, 2, 1, 4, 5, 6, 7, 1, 3, 5, 1, 2, 4, 5, 4, 3, 4, 1, 2, 3, 4, 5, 6, 7, 1, 4, 1, 2, 3, 4, 5, 6, 7, 1, 5, 1, 7, 3, 4, 6, 1, 2, 3, 4, 6, 7, 7, 1, 2, 3, 4, 5, 6, 7, 3, 1, 2, 3, 4, 5, 6, 7, 7, 1, 2, 3, 4, 6, 7, 4, 3, 3, 2, 3, 4, 2, 4, 2, 1, 2, 4, 5, 6, 7, 5, 7, 4, 1, 5, 1, 2, 5, 2, 5, 4, 2, 3, 3, 4, 1, 2, 3, 4, 5, 6, 3, 3, 1, 2, 5, 6, 1, 2, 3, 5, 3, 5, 6, 4, 1, 6, 4, 1, 2, 4, 5, 6, 1, 2, 3, 4, 5, 6, 7, 1, 2, 4, 7, 1, 2, 3, 4, 5, 3, 1, 2, 3, 4, 5, 6, 7, 1, 1, 2, 3, 4, 5, 6, 7, 1, 2, 3, 4, 5, 7, 6, 1, 2, 3, 4, 5, 6, 1, 3, 5, 6, 5, 6, 2, 3, 7, 5, 5, 7, 7, 6, 1, 2, 1, 5, 1, 2, 6, 1, 2, 3, 4, 5, 6, 7, 2, 3, 4, 1, 2, 3, 4, 5, 6, 7, 4, 6, 1, 2, 3, 5, 6, 1, 3, 6, 1, 5, 4, 7, 1, 2, 3, 4, 5, 5, 3, 2, 7, 6, 2, 5, 6, 7, 1, 2, 3, 4, 5, 6, 1, 7, 1, 6, 7, 6, 2, 2, 6, 7, 1, 3, 3, 2, 5, 4, 2, 3, 6, 7, 3, 5, 3, 2, 7, 7, 1, 7, 1, 7, 7, 2, 1, 1, 2, 5, 7, 1, 2, 4, 5, 7, 1, 4, 5, 7, 2, 2, 5, 1, 3, 4, 5, 6, 7, 6, 3, 1, 6, 7, 1, 4, 6, 6, 1, 1, 2, 4, 5, 6, 1, 4, 5, 2, 5, 7, 2, 5, 5, 4, 1, 1, 4, 5, 6, 4, 1, 5, 6, 7, 1, 5, 7, 3, 1, 4, 5, 6, 5, 6, 1, 1, 2, 3, 4, 5, 6, 2, 4, 6, 1, 2, 4, 5, 6, 2, 4, 5, 2, 2, 6, 7, 1, 7, 1, 1, 6, 4, 2, 7, 5, 7, 7, 2, 3, 3, 2, 1, 1, 2, 3, 4, 5, 1, 2, 3, 4, 3, 4, 1, 1, 1, 2, 2, 2, 6, 6, 7, 1, 2, 3, 5, 7, 3, 4, 7, 6, 1, 3, 2, 1, 2, 3, 4, 5, 7, 2, 6, 1, 2, 3, 4, 5, 6, 7, 5, 2, 4, 4, 6, 1, 2, 4, 5, 6, 1, 2, 4, 5, 6, 7, 4, 1, 1, 2, 3, 5, 6, 1, 4, 2, 3, 6, 7, 1, 7, 1, 2, 3, 5, 6, 1, 1, 7, 1, 2, 3, 4, 5, 6, 3, 4, 6, 6, 1, 5, 7, 4, 1, 1, 2, 3, 4, 5, 6, 6, 7, 5, 1, 2, 3, 4, 5, 6, 7, 1, 2, 5, 6, 1, 2, 3, 4, 5, 6, 7, 4, 5, 2, 6, 1, 2, 4, 5, 6, 7, 1, 5, 1, 2, 4, 5, 6, 7, 2, 1, 3, 6, 7], \"Freq\": [0.9991851449012756, 0.06405333429574966, 0.8087454438209534, 0.12579843401908875, 0.0014426426496356726, 0.9984476566314697, 0.009673530235886574, 0.18070155382156372, 0.6384530067443848, 0.1710280179977417, 0.9959193468093872, 0.36113253235816956, 0.6376399993896484, 0.9964715838432312, 0.16206242144107819, 0.42645272612571716, 0.09570513665676117, 0.20868134498596191, 0.03077627718448639, 0.01064833253622055, 0.06570800393819809, 0.13845646381378174, 0.4666118621826172, 0.0011877393117174506, 0.39365074038505554, 0.006512101273983717, 0.12650102376937866, 0.528450071811676, 0.03325328230857849, 0.30509886145591736, 0.16956818103790283, 0.27979224920272827, 0.2607717216014862, 0.28977805376052856, 0.9997614026069641, 0.9967001080513, 0.9984506964683533, 0.048880886286497116, 0.04236343502998352, 0.5918660759925842, 0.12709030508995056, 0.11120402067899704, 0.07820942252874374, 0.9975764155387878, 0.9998995065689087, 0.35634520649909973, 0.20129713416099548, 0.4408824145793915, 0.0011372718727216125, 0.9979276657104492, 0.9993656873703003, 0.9954354166984558, 0.40872955322265625, 0.591118574142456, 0.9938324689865112, 0.9097159504890442, 0.08675126731395721, 0.9980719089508057, 0.40419113636016846, 0.5297353863716125, 0.06255339086055756, 0.0030620540492236614, 0.5029667615890503, 0.2528000473976135, 0.010533335618674755, 0.23355644941329956, 0.9992514848709106, 0.9979754686355591, 0.998843252658844, 0.13902848958969116, 0.8601433038711548, 0.7397533655166626, 0.2597064673900604, 0.9065403938293457, 0.09261449426412582, 0.4531594216823578, 0.546400785446167, 0.9989030361175537, 0.9992971420288086, 0.9975938200950623, 0.9996174573898315, 0.9994733333587646, 0.47694575786590576, 0.0004748091159854084, 0.09519922733306885, 0.0015035622054710984, 0.3261938691139221, 0.04597735032439232, 0.05373256281018257, 0.9992992281913757, 0.9987804293632507, 0.995330274105072, 0.2883419990539551, 0.0005085397278890014, 0.006102476269006729, 0.13679717481136322, 0.568038821220398, 0.9992014765739441, 0.9986148476600647, 0.9972267746925354, 0.9994134902954102, 0.9945974946022034, 0.2087329924106598, 0.7909882068634033, 0.001414785860106349, 0.9983672499656677, 0.9961897134780884, 0.9971659183502197, 0.9987694025039673, 0.9994775056838989, 0.9993537068367004, 0.999217689037323, 0.370479941368103, 0.00018019453273154795, 0.0007207781309261918, 0.09856640547513962, 0.10108912736177444, 0.428862988948822, 0.9965543150901794, 0.993523120880127, 0.9994675517082214, 0.9992256760597229, 0.9958897233009338, 0.9969530701637268, 0.9942057728767395, 0.9982035160064697, 0.9975521564483643, 0.8776882290840149, 0.12222870439291, 0.8118299245834351, 0.188099205493927, 0.0015565071953460574, 0.2765394449234009, 0.7217004895210266, 0.9954841136932373, 0.9964507222175598, 0.9962531924247742, 0.6652947068214417, 0.3344230353832245, 0.9989519119262695, 0.09883209317922592, 0.24035020172595978, 0.6459746956825256, 0.0148543082177639, 0.9970108866691589, 0.9994368553161621, 0.21374833583831787, 0.15731625258922577, 0.07219523191452026, 0.09189917147159576, 0.4621756076812744, 0.002522104186937213, 0.9966545104980469, 0.9987986087799072, 0.19961822032928467, 0.26000943779945374, 0.522398829460144, 0.017849618569016457, 0.998292863368988, 0.9995166063308716, 0.9991232752799988, 0.00047306972555816174, 0.9989671111106873, 0.9968309998512268, 0.03039388731122017, 0.9685518741607666, 0.995658278465271, 0.03013944812119007, 0.5370301604270935, 0.43262365460395813, 0.9976714849472046, 0.9989595413208008, 0.20249590277671814, 0.4520685374736786, 0.1316608339548111, 0.0422370582818985, 0.07083506882190704, 0.10075298696756363, 0.2974426746368408, 0.7024476528167725, 0.0008717583259567618, 0.827298641204834, 0.04969022423028946, 0.12161028385162354, 0.9795609712600708, 0.00820861104875803, 0.011856882832944393, 0.994531512260437, 0.3561789095401764, 0.5936315059661865, 0.050065308809280396, 0.9994139671325684, 0.0016589483711868525, 0.9970279932022095, 0.9989182949066162, 0.9976460933685303, 0.22098112106323242, 0.7783602476119995, 0.9950541257858276, 0.2490825057029724, 0.7505612373352051, 0.0033946121111512184, 0.7562269568443298, 0.24009165167808533, 0.005637959111481905, 0.9922808408737183, 0.3671039938926697, 0.15337097644805908, 0.47865915298461914, 0.000833537895232439, 0.11604253947734833, 0.1037130206823349, 0.7803860902786255, 0.07654189318418503, 0.2622290253639221, 0.019164687022566795, 0.00023371570568997413, 0.1058732122182846, 0.5360269546508789, 0.7000121474266052, 0.2986849546432495, 0.0011797957122325897, 0.6540118455886841, 0.19380119442939758, 0.10165150463581085, 0.03908294439315796, 0.011294611729681492, 0.0825551450252533, 0.9149861335754395, 0.33535507321357727, 0.6642841696739197, 0.9960834383964539, 0.13842134177684784, 0.2463289499282837, 0.005270551890134811, 0.23606525361537933, 0.37365439534187317, 0.0008795196772553027, 0.1741448938846588, 0.8241099119186401, 0.32790160179138184, 0.5654070377349854, 0.10653277486562729, 0.00015666584658902138, 0.9974514842033386, 0.9980697631835938, 0.9982479810714722, 0.5390125513076782, 0.12064465880393982, 0.10372497886419296, 0.09426677227020264, 0.0857543870806694, 0.04350774362683296, 0.013241486623883247, 0.9953435659408569, 0.0038282445166260004, 0.13233569264411926, 0.23798729479312897, 0.2764948010444641, 0.2921147644519806, 0.018982578068971634, 0.01442675944417715, 0.027551855891942978, 0.989624559879303, 0.008292943239212036, 0.9978413581848145, 0.9982519149780273, 0.5658960938453674, 0.43382909893989563, 0.9966022372245789, 0.18584124743938446, 0.12364696711301804, 0.4546906054019928, 0.13734157383441925, 0.09803756326436996, 0.00039551209192723036, 0.996475100517273, 0.00043031692621298134, 0.13583670556545258, 0.23369795083999634, 0.10800954699516296, 0.4824928343296051, 0.03951743617653847, 0.9993925094604492, 0.997869074344635, 0.04049057140946388, 0.2436494529247284, 0.34443461894989014, 0.25847598910331726, 0.0005648205406032503, 0.0007413269486278296, 0.11162266135215759, 0.9979299902915955, 0.29369106888771057, 0.011457388289272785, 0.15773004293441772, 0.0695081576704979, 0.4174308478832245, 0.050412509590387344, 0.9961367249488831, 0.9952855706214905, 0.9984921216964722, 0.8441747426986694, 0.0024593581911176443, 0.1530950516462326, 0.8195445537567139, 0.18023817241191864, 0.9985135197639465, 0.15538084506988525, 0.0038130267057567835, 0.06529808044433594, 0.5323938727378845, 0.16253025829792023, 0.08007355779409409, 0.9995191097259521, 0.9968544244766235, 0.9986100196838379, 0.9976009726524353, 0.9987980723381042, 0.2668592035770416, 0.5126053690910339, 0.22045959532260895, 0.9977795481681824, 0.9957472085952759, 0.9957377910614014, 0.9978753328323364, 0.9977357387542725, 0.995245099067688, 0.9962334632873535, 0.1867155134677887, 0.4039440453052521, 0.22915086150169373, 0.04890168085694313, 0.02525913342833519, 0.10588628798723221, 0.9955097436904907, 0.9977606534957886, 0.530856728553772, 0.012657172977924347, 0.25388801097869873, 0.20251476764678955, 0.15205194056034088, 0.07056281715631485, 0.7629384398460388, 0.014450926333665848, 0.9379335045814514, 0.06018824502825737, 0.9960716962814331, 0.9990997910499573, 0.7812545299530029, 0.21812094748020172, 0.9967129230499268, 0.22165337204933167, 0.1391400694847107, 0.5574848055839539, 0.07234359532594681, 0.00901405792683363, 0.17458626627922058, 0.32170188426971436, 0.045406050980091095, 0.11079076677560806, 0.00022703026479575783, 0.3475833237171173, 0.9970804452896118, 0.24515798687934875, 0.34477266669273376, 0.3120192587375641, 0.09801394492387772, 0.13278473913669586, 0.02647356502711773, 0.7216652035713196, 0.10304539650678635, 0.015981417149305344, 0.9948521256446838, 0.025020701810717583, 0.25120121240615845, 0.43128398060798645, 0.2205798476934433, 0.0025849200319498777, 0.00245236000046134, 0.06687652319669724, 0.9970291256904602, 0.19016925990581512, 0.2275838404893875, 0.08540844917297363, 0.20848950743675232, 0.20900556445121765, 0.03328607231378555, 0.04618765041232109, 0.11582915484905243, 0.010494221933186054, 0.6483727693557739, 0.12835240364074707, 0.0015708606224507093, 0.09536433219909668, 0.9937496185302734, 0.06602180749177933, 0.2924986481666565, 0.2761608958244324, 0.3310672640800476, 0.034208688884973526, 4.7911329602357e-05, 0.0006769557949155569, 0.21166151762008667, 0.26333579421043396, 0.5241894125938416, 0.965293824672699, 0.03465157374739647, 0.43689680099487305, 0.2474946528673172, 0.3152119219303131, 0.9972437024116516, 0.9115971326828003, 0.08585679531097412, 0.9986827969551086, 0.9980611801147461, 0.9968562126159668, 0.9984967112541199, 0.4804733991622925, 0.5193156599998474, 0.6591230034828186, 0.23680411279201508, 0.10367000848054886, 0.37909847497940063, 0.19127415120601654, 0.022104494273662567, 0.2851863205432892, 0.06605794280767441, 0.05596398189663887, 0.00025554330204613507, 0.016317900270223618, 0.7597554326057434, 0.22395943105220795, 0.2058907449245453, 0.4176725149154663, 0.12945491075515747, 0.10810000449419022, 0.02709863893687725, 0.08291594684123993, 0.02871866710484028, 0.9941925406455994, 0.999343752861023, 0.2485189288854599, 0.05686590448021889, 0.2495136559009552, 0.1959635466337204, 0.24901628494262695, 0.15992297232151031, 0.35457921028137207, 0.4852662682533264, 0.9607657194137573, 0.038688551634550095, 0.8494610786437988, 0.15053009986877441, 0.24367080628871918, 0.032459795475006104, 0.6918827891349792, 0.01689688116312027, 0.01511826179921627, 0.9969426989555359, 0.9965929388999939, 0.9991368651390076, 0.999565064907074, 0.9958551526069641, 0.9999070763587952, 0.9982606768608093, 0.9995546340942383, 0.9988330602645874, 0.186655655503273, 0.00242200237698853, 0.05166938528418541, 0.12061572074890137, 0.2391323745250702, 0.3996303975582123, 0.9976143836975098, 0.9990069270133972, 0.5771655440330505, 0.18505114316940308, 0.23765641450881958, 0.9954302310943604, 0.9990241527557373, 0.9981964826583862, 0.0020536398515105247, 0.997042179107666, 0.9961252808570862, 0.9964569211006165, 0.993204653263092, 0.99809330701828, 0.9972118139266968, 0.9958402514457703, 0.08161729574203491, 0.4592673182487488, 0.12497648596763611, 0.33412081003189087, 0.998536229133606, 0.9955471754074097, 0.9927634596824646, 0.9127919673919678, 0.0856446772813797, 0.9993892312049866, 0.997744619846344, 0.9998334050178528, 0.9979523420333862, 0.9986704587936401, 0.9997010827064514, 0.9996412396430969, 0.9976893663406372, 0.14676325023174286, 0.0058413236401975155, 0.0014603309100493789, 0.8455315828323364, 0.043739818036556244, 0.14655093848705292, 0.367053747177124, 0.04937639459967613, 0.3934329152107239, 0.33689427375793457, 0.0002636105637066066, 0.6534905433654785, 0.009226369671523571, 0.9982990622520447, 0.9986180663108826, 0.9978470802307129, 0.6046329736709595, 0.14127062261104584, 0.005158758256584406, 0.09867779165506363, 0.02910068817436695, 0.12116468697786331, 0.9980126023292542, 0.9977735280990601, 0.2570934295654297, 0.0800190418958664, 0.6628674268722534, 0.21246004104614258, 0.741809606552124, 0.045612890273332596, 0.9957287907600403, 0.9994579553604126, 0.14233338832855225, 0.2679097056388855, 0.5252360105514526, 0.06445029377937317, 6.784241850255057e-05, 0.749636173248291, 0.09888124465942383, 0.15123014152050018, 0.0001316322886850685, 0.9997472167015076, 0.9994463324546814, 0.9997782111167908, 0.9972380995750427, 0.9943373799324036, 0.9983134865760803, 0.9982418417930603, 0.15887948870658875, 0.8142573237419128, 0.02647991292178631, 0.9977535605430603, 0.9974871277809143, 0.5235845446586609, 0.0010156829375773668, 0.4717847406864166, 0.0035548903979361057, 0.8242381811141968, 0.17569854855537415, 0.9974901676177979, 0.9964503049850464, 0.6460118889808655, 0.12622077763080597, 0.22461335361003876, 0.002981593133881688, 0.006493363529443741, 0.9902379512786865, 0.9998009204864502, 0.3780933916568756, 0.17973841726779938, 0.00310275936499238, 0.012632663361728191, 0.41444000601768494, 0.011967785656452179, 0.9978020787239075, 0.9993270039558411, 0.9968011379241943, 0.6495320796966553, 0.07373983412981033, 0.07402236014604568, 0.12939786911010742, 0.07317477464675903, 0.12728562951087952, 0.8388824462890625, 0.03307421877980232, 0.9979374408721924, 0.9988906383514404, 0.15695658326148987, 0.843046247959137, 0.0436771959066391, 0.955858588218689, 0.9962788224220276, 0.9990785121917725, 0.9975457787513733, 0.9951988458633423, 0.3380211889743805, 0.6616745591163635, 0.996097207069397, 0.9993164539337158, 0.9979402422904968, 0.8275018930435181, 0.17166262865066528, 0.9971048831939697, 0.9991488456726074, 0.9996656775474548, 0.8729375004768372, 0.126506969332695, 0.9980071187019348, 0.991634726524353, 0.00829367246478796, 0.10987108200788498, 0.06984369456768036, 0.8201528787612915, 0.9960793256759644, 0.2881178557872772, 0.7115203142166138, 0.9987703561782837, 0.9981697201728821, 0.965023934841156, 0.03258119523525238, 0.9992712736129761, 0.8407384157180786, 0.15908922255039215, 0.993416965007782, 0.9997270107269287, 0.1229269951581955, 0.1025887057185173, 0.7103445529937744, 0.06410548090934753, 0.9988173842430115, 0.9987686276435852, 0.8770584464073181, 0.1227751150727272, 0.9976407885551453, 0.9971462488174438, 0.997830867767334, 0.9969637989997864, 0.09321466088294983, 0.23142020404338837, 0.15275350213050842, 0.4035709798336029, 0.0441826693713665, 0.07462561130523682, 0.20428170263767242, 0.7950820326805115, 0.4288705289363861, 0.12013541907072067, 0.08215712755918503, 0.2247694879770279, 0.07208125293254852, 0.07156454026699066, 0.9979068040847778, 0.992543637752533, 0.198807030916214, 0.8010861277580261, 0.7803416848182678, 0.21917004883289337, 0.370309442281723, 0.19007033109664917, 0.07783052325248718, 0.3207436800003052, 0.04096343368291855, 0.3847042918205261, 0.16029344499111176, 0.1673782467842102, 0.19925981760025024, 0.0469367578625679, 0.04126892238855362, 0.9956117272377014, 0.9977430105209351, 0.49555864930152893, 0.0668058916926384, 0.36302438378334045, 0.011069010943174362, 0.06357334554195404, 0.8728079199790955, 0.12671317160129547, 0.26666924357414246, 0.07260904461145401, 0.0540752038359642, 0.6066016554832458, 0.8770920038223267, 0.12198537588119507, 0.30092787742614746, 0.08355706930160522, 0.021302461624145508, 0.2874608039855957, 0.3066819906234741, 0.9995023012161255, 0.997752845287323, 0.9985697269439697, 0.16684719920158386, 0.2126312553882599, 0.2661835551261902, 0.07498777657747269, 0.09601057320833206, 0.18333043158054352, 0.9967095255851746, 0.9973581433296204, 0.99781733751297, 0.9985628128051758, 0.9860593676567078, 0.012953161261975765, 0.9957607388496399, 0.9951486587524414, 0.9992235898971558, 0.3549690246582031, 0.2345300316810608, 0.11443419009447098, 0.1962709277868271, 0.024533865973353386, 0.07497411966323853, 0.14588871598243713, 0.8532915711402893, 0.9918942451477051, 0.08649858832359314, 0.15925633907318115, 0.6234219074249268, 0.03174133971333504, 0.0547572486102581, 0.005221519619226456, 0.0390239879488945, 0.7968996167182922, 0.19818547368049622, 0.004157737363129854, 0.0006929562077857554, 0.0642787516117096, 0.38567250967025757, 0.0837908387184143, 0.178757905960083, 0.17048379778862, 0.0918797105550766, 0.02513107657432556, 0.9977847933769226, 0.9968600869178772, 0.9173932671546936, 0.08156643062829971, 0.07197978347539902, 0.47751089930534363, 0.16054587066173553, 0.19451208412647247, 0.09475619345903397, 0.000634882366284728, 0.23066464066505432, 0.7689847946166992, 0.28786060214042664, 0.10231970995664597, 0.050554923713207245, 0.5156602263450623, 0.0020740481559187174, 0.04156738147139549, 0.998158872127533, 0.9983038306236267, 0.3726239800453186, 0.6273203492164612, 0.9990364909172058], \"Term\": [\"absolute\", \"absolutely\", \"absolutely\", \"absolutely\", \"absolutely\", \"absorb\", \"add\", \"add\", \"add\", \"add\", \"affordable\", \"ago\", \"ago\", \"allergy\", \"also\", \"also\", \"also\", \"also\", \"also\", \"also\", \"also\", \"always\", \"always\", \"always\", \"always\", \"amazing\", \"amazing\", \"amazing\", \"amazing\", \"amazing\", \"apply\", \"apply\", \"apply\", \"apply\", \"area\", \"artist\", \"available\", \"awesome\", \"awesome\", \"awesome\", \"awesome\", \"awesome\", \"awesome\", \"baby\", \"back\", \"bad\", \"bad\", \"bad\", \"bad\", \"bare\", \"barely\", \"basic\", \"beautiful\", \"beautiful\", \"beige\", \"best\", \"best\", \"birchbox\", \"black\", \"black\", \"black\", \"black\", \"blend\", \"blend\", \"blend\", \"blend\", \"blender\", \"blonde\", \"blot\", \"blue\", \"blue\", \"bottle\", \"bottle\", \"box\", \"box\", \"break\", \"break\", \"breakout\", \"bright\", \"brightener\", \"bring\", \"brow\", \"buy\", \"buy\", \"buy\", \"buy\", \"buy\", \"buy\", \"buy\", \"cakey\", \"carry\", \"chalky\", \"change\", \"change\", \"change\", \"change\", \"change\", \"circle\", \"claim\", \"classic\", \"clean\", \"cleanse\", \"close\", \"close\", \"clump\", \"clump\", \"clumping\", \"clumpy\", \"coat\", \"colour\", \"combination\", \"combo\", \"come\", \"come\", \"come\", \"come\", \"come\", \"come\", \"company\", \"complement\", \"compliment\", \"complimentary\", \"concern\", \"contact\", \"contain\", \"container\", \"coral\", \"cover\", \"cover\", \"coverage\", \"coverage\", \"creamy\", \"creamy\", \"creamy\", \"creasing\", \"currently\", \"cute\", \"dark\", \"dark\", \"daughter\", \"day\", \"day\", \"day\", \"day\", \"daytime\", \"deep\", \"definitely\", \"definitely\", \"definitely\", \"definitely\", \"definitely\", \"definitely\", \"department\", \"describe\", \"different\", \"different\", \"different\", \"different\", \"difficult\", \"discontinue\", \"double\", \"double\", \"dramatic\", \"drink\", \"drugstore\", \"drugstore\", \"ease\", \"easy\", \"easy\", \"easy\", \"eat\", \"enjoy\", \"even\", \"even\", \"even\", \"even\", \"even\", \"even\", \"ever\", \"ever\", \"everyday\", \"everyday\", \"everyday\", \"everyday\", \"excited\", \"excited\", \"excited\", \"expectation\", \"expensive\", \"expensive\", \"expensive\", \"eyelid\", \"fabulous\", \"fabulous\", \"fade\", \"fail\", \"fair\", \"fair\", \"false\", \"fan\", \"fan\", \"favorite\", \"favorite\", \"favorite\", \"favourite\", \"favourite\", \"feel\", \"feel\", \"feel\", \"feel\", \"finally\", \"finally\", \"finally\", \"find\", \"find\", \"find\", \"find\", \"find\", \"find\", \"finish\", \"finish\", \"finish\", \"first\", \"first\", \"first\", \"first\", \"first\", \"fit\", \"fit\", \"flawless\", \"flawless\", \"forehead\", \"formula\", \"formula\", \"formula\", \"formula\", \"formula\", \"friend\", \"friend\", \"friend\", \"full\", \"full\", \"full\", \"full\", \"fun\", \"game\", \"gentle\", \"get\", \"get\", \"get\", \"get\", \"get\", \"get\", \"get\", \"gift\", \"gift\", \"give\", \"give\", \"give\", \"give\", \"give\", \"give\", \"give\", \"glass\", \"glass\", \"glitter\", \"glossy\", \"glow\", \"glow\", \"glowy\", \"go\", \"go\", \"go\", \"go\", \"go\", \"go\", \"gold\", \"good\", \"good\", \"good\", \"good\", \"good\", \"good\", \"gorgeous\", \"gray\", \"great\", \"great\", \"great\", \"great\", \"great\", \"great\", \"great\", \"green\", \"happy\", \"happy\", \"happy\", \"happy\", \"happy\", \"happy\", \"harsh\", \"head\", \"healthy\", \"heavy\", \"heavy\", \"heavy\", \"help\", \"help\", \"hide\", \"high\", \"high\", \"high\", \"high\", \"high\", \"high\", \"highly\", \"hint\", \"holy\", \"honest\", \"honestly\", \"hour\", \"hour\", \"hour\", \"humid\", \"humidity\", \"impact\", \"imperfection\", \"impress\", \"improvement\", \"ingredient\", \"keep\", \"keep\", \"keep\", \"keep\", \"keep\", \"keep\", \"kiss\", \"kit\", \"know\", \"know\", \"know\", \"know\", \"last\", \"last\", \"last\", \"last\", \"lasting\", \"lasting\", \"learn\", \"length\", \"lid\", \"lid\", \"lift\", \"like\", \"like\", \"like\", \"like\", \"like\", \"line\", \"line\", \"line\", \"line\", \"line\", \"line\", \"lipgloss\", \"little\", \"little\", \"little\", \"little\", \"long\", \"long\", \"long\", \"long\", \"long\", \"longwear\", \"look\", \"look\", \"look\", \"look\", \"look\", \"look\", \"look\", \"lose\", \"lot\", \"lot\", \"lot\", \"lot\", \"lot\", \"lot\", \"lot\", \"love\", \"love\", \"love\", \"love\", \"love\", \"love\", \"lucidity\", \"make\", \"make\", \"make\", \"make\", \"make\", \"make\", \"many\", \"many\", \"many\", \"many\", \"market\", \"market\", \"matte\", \"matte\", \"matte\", \"mattifying\", \"messy\", \"messy\", \"metallic\", \"mineral\", \"mini\", \"minimize\", \"money\", \"money\", \"month\", \"month\", \"month\", \"much\", \"much\", \"much\", \"much\", \"much\", \"much\", \"much\", \"natural\", \"natural\", \"natural\", \"need\", \"need\", \"need\", \"need\", \"need\", \"need\", \"need\", \"negative\", \"neutral\", \"never\", \"never\", \"never\", \"never\", \"never\", \"new\", \"new\", \"new\", \"next\", \"next\", \"nice\", \"nice\", \"night\", \"night\", \"night\", \"night\", \"night\", \"none\", \"nordstrom\", \"nose\", \"nude\", \"number\", \"oily\", \"ok\", \"old\", \"olive\", \"one\", \"one\", \"one\", \"one\", \"one\", \"one\", \"open\", \"orange\", \"order\", \"order\", \"order\", \"overly\", \"oxidize\", \"package\", \"pale\", \"pale\", \"pallet\", \"particular\", \"pat\", \"patch\", \"patchy\", \"pen\", \"perfect\", \"perfect\", \"perfect\", \"perfect\", \"perfection\", \"perfectionist\", \"perform\", \"photo\", \"photo\", \"pigment\", \"pigmented\", \"pink\", \"plan\", \"plum\", \"pop\", \"pore\", \"pot\", \"power\", \"power\", \"power\", \"power\", \"pretty\", \"pretty\", \"pretty\", \"pretty\", \"pretty\", \"price\", \"price\", \"price\", \"price\", \"prime\", \"prone\", \"proof\", \"purchase\", \"purchase\", \"purchase\", \"purchase\", \"purchase\", \"purchase\", \"pure\", \"purple\", \"quality\", \"quality\", \"quality\", \"quick\", \"quick\", \"quick\", \"radiant\", \"read\", \"really\", \"really\", \"really\", \"really\", \"really\", \"receive\", \"receive\", \"receive\", \"recommend\", \"recommend\", \"red\", \"redness\", \"reduce\", \"reference\", \"refreshing\", \"remember\", \"remove\", \"remove\", \"remove\", \"replacement\", \"residue\", \"return\", \"return\", \"return\", \"return\", \"review\", \"review\", \"rise\", \"rosacea\", \"run\", \"run\", \"run\", \"run\", \"sad\", \"sad\", \"sample\", \"say\", \"say\", \"say\", \"say\", \"say\", \"say\", \"scar\", \"scent\", \"season\", \"see\", \"see\", \"see\", \"see\", \"see\", \"separate\", \"separate\", \"separate\", \"setting\", \"settle\", \"shade\", \"shade\", \"shadow\", \"shadow\", \"sharp\", \"sharpen\", \"sharpener\", \"sheen\", \"sheer\", \"sheer\", \"shift\", \"shimmer\", \"shimmery\", \"shiny\", \"shiny\", \"shop\", \"sit\", \"size\", \"small\", \"small\", \"smash\", \"smell\", \"smell\", \"smoothly\", \"smoothly\", \"smoothly\", \"soak\", \"soft\", \"soft\", \"soon\", \"sparkly\", \"spend\", \"spend\", \"spf\", \"spot\", \"spot\", \"spring\", \"star\", \"stay\", \"stay\", \"stay\", \"stay\", \"staying\", \"step\", \"sticky\", \"sticky\", \"stock\", \"straight\", \"studio\", \"sunscreen\", \"super\", \"super\", \"super\", \"super\", \"super\", \"super\", \"switch\", \"switch\", \"take\", \"take\", \"take\", \"take\", \"take\", \"take\", \"taste\", \"testing\", \"thick\", \"thick\", \"thin\", \"thin\", \"thing\", \"thing\", \"thing\", \"thing\", \"thing\", \"think\", \"think\", \"think\", \"think\", \"think\", \"think\", \"third\", \"throw\", \"time\", \"time\", \"time\", \"time\", \"time\", \"tip\", \"tip\", \"tone\", \"tone\", \"tone\", \"tone\", \"travel\", \"travel\", \"try\", \"try\", \"try\", \"try\", \"try\", \"tube\", \"twist\", \"undertone\", \"use\", \"use\", \"use\", \"use\", \"use\", \"use\", \"user\", \"value\", \"variety\", \"versatile\", \"version\", \"version\", \"vibrant\", \"volumize\", \"wand\", \"want\", \"want\", \"want\", \"want\", \"want\", \"want\", \"warm\", \"warm\", \"watch\", \"wear\", \"wear\", \"wear\", \"wear\", \"wear\", \"wear\", \"wear\", \"week\", \"week\", \"week\", \"week\", \"well\", \"well\", \"well\", \"well\", \"well\", \"well\", \"well\", \"wife\", \"winner\", \"winter\", \"winter\", \"work\", \"work\", \"work\", \"work\", \"work\", \"work\", \"worth\", \"worth\", \"would\", \"would\", \"would\", \"would\", \"would\", \"would\", \"wrinkle\", \"write\", \"year\", \"year\", \"yellow\"]}, \"R\": 30, \"lambda.step\": 0.01, \"plot.opts\": {\"xlab\": \"PC1\", \"ylab\": \"PC2\"}, \"topic.order\": [6, 3, 2, 4, 1, 5, 7]};\n",
       "\n",
       "function LDAvis_load_lib(url, callback){\n",
       "  var s = document.createElement('script');\n",
       "  s.src = url;\n",
       "  s.async = true;\n",
       "  s.onreadystatechange = s.onload = callback;\n",
       "  s.onerror = function(){console.warn(\"failed to load library \" + url);};\n",
       "  document.getElementsByTagName(\"head\")[0].appendChild(s);\n",
       "}\n",
       "\n",
       "if(typeof(LDAvis) !== \"undefined\"){\n",
       "   // already loaded: just create the visualization\n",
       "   !function(LDAvis){\n",
       "       new LDAvis(\"#\" + \"ldavis_el370416337441456082807486474\", ldavis_el370416337441456082807486474_data);\n",
       "   }(LDAvis);\n",
       "}else if(typeof define === \"function\" && define.amd){\n",
       "   // require.js is available: use it to load d3/LDAvis\n",
       "   require.config({paths: {d3: \"https://cdnjs.cloudflare.com/ajax/libs/d3/3.5.5/d3.min\"}});\n",
       "   require([\"d3\"], function(d3){\n",
       "      window.d3 = d3;\n",
       "      LDAvis_load_lib(\"https://cdn.rawgit.com/bmabey/pyLDAvis/files/ldavis.v1.0.0.js\", function(){\n",
       "        new LDAvis(\"#\" + \"ldavis_el370416337441456082807486474\", ldavis_el370416337441456082807486474_data);\n",
       "      });\n",
       "    });\n",
       "}else{\n",
       "    // require.js not available: dynamically load d3 & LDAvis\n",
       "    LDAvis_load_lib(\"https://cdnjs.cloudflare.com/ajax/libs/d3/3.5.5/d3.min.js\", function(){\n",
       "         LDAvis_load_lib(\"https://cdn.rawgit.com/bmabey/pyLDAvis/files/ldavis.v1.0.0.js\", function(){\n",
       "                 new LDAvis(\"#\" + \"ldavis_el370416337441456082807486474\", ldavis_el370416337441456082807486474_data);\n",
       "            })\n",
       "         });\n",
       "}\n",
       "</script>"
      ],
      "text/plain": [
       "PreparedData(topic_coordinates=              x         y  topics  cluster       Freq\n",
       "topic                                                \n",
       "5      0.118104 -0.010693       1        1  20.290110\n",
       "2      0.014560 -0.145870       2        1  19.437847\n",
       "1     -0.065970 -0.097884       3        1  19.360294\n",
       "3     -0.065640 -0.201709       4        1  13.120198\n",
       "0      0.223173  0.040887       5        1  10.240201\n",
       "4      0.124811  0.252209       6        1   9.819157\n",
       "6     -0.349038  0.163060       7        1   7.732195, topic_info=          Term          Freq         Total Category  logprob  loglift\n",
       "26        love  45834.000000  45834.000000  Default  30.0000  30.0000\n",
       "37        good  27886.000000  27886.000000  Default  29.0000  29.0000\n",
       "218      shade   9027.000000   9027.000000  Default  28.0000  28.0000\n",
       "100  recommend   7596.000000   7596.000000  Default  27.0000  27.0000\n",
       "28    coverage  14184.000000  14184.000000  Default  26.0000  26.0000\n",
       "..         ...           ...           ...      ...      ...      ...\n",
       "15        look   2018.469604  30175.013672   Topic7  -4.0624  -0.1449\n",
       "159      blend   1153.179688   4936.708008   Topic7  -4.6223   1.1056\n",
       "18        nice   1302.536133   8656.076172   Topic7  -4.5005   0.6658\n",
       "529      matte    917.440491   2909.153809   Topic7  -4.8510   1.4057\n",
       "19    purchase    916.242859   7559.958496   Topic7  -4.8523   0.4494\n",
       "\n",
       "[470 rows x 6 columns], token_table=      Topic      Freq        Term\n",
       "term                             \n",
       "157       3  0.999185    absolute\n",
       "334       1  0.064053  absolutely\n",
       "334       3  0.808745  absolutely\n",
       "334       5  0.125798  absolutely\n",
       "334       7  0.001443  absolutely\n",
       "...     ...       ...         ...\n",
       "879       2  0.998159     wrinkle\n",
       "546       1  0.998304       write\n",
       "24        3  0.372624        year\n",
       "24        6  0.627320        year\n",
       "779       7  0.999036      yellow\n",
       "\n",
       "[763 rows x 3 columns], R=30, lambda_step=0.01, plot_opts={'xlab': 'PC1', 'ylab': 'PC2'}, topic_order=[6, 3, 2, 4, 1, 5, 7])"
      ]
     },
     "metadata": {},
     "output_type": "display_data"
    },
    {
     "name": "stdout",
     "output_type": "stream",
     "text": [
      "254.2011616230011\n"
     ]
    },
    {
     "data": {
      "text/plain": [
       "(<gensim.models.ldamulticore.LdaMulticore at 0x17c2abf5a08>,\n",
       " <gensim.corpora.dictionary.Dictionary at 0x17d460b8948>)"
      ]
     },
     "execution_count": 31,
     "metadata": {},
     "output_type": "execute_result"
    }
   ],
   "source": [
    "train_display_save(reviews['tokens'], 100000, 7, alpha='symmetric', eta='symmetric', name='full')"
   ]
  },
  {
   "cell_type": "code",
   "execution_count": null,
   "metadata": {},
   "outputs": [],
   "source": [
    "train_display_save(reviews['tokens'], 100000, 6, alpha=0.1, eta='symmetric', name='full')"
   ]
  },
  {
   "cell_type": "code",
   "execution_count": null,
   "metadata": {},
   "outputs": [],
   "source": [
    "train_display_save(reviews['tokens'], 100000, 5, alpha='asymmetric', eta=0.1, name='full')"
   ]
  },
  {
   "cell_type": "code",
   "execution_count": null,
   "metadata": {},
   "outputs": [],
   "source": [
    "train_display_save(reviews['tokens'], 100000, 4, alpha='asymmetric', eta=0.1, name='full')"
   ]
  },
  {
   "cell_type": "code",
   "execution_count": null,
   "metadata": {},
   "outputs": [],
   "source": [
    "train_display_save(reviews['tokens'], 100000, 3, alpha='asymmetric', eta=0.1, name='full')"
   ]
  },
  {
   "cell_type": "code",
   "execution_count": null,
   "metadata": {},
   "outputs": [],
   "source": [
    "topics = ldamodel.print_topics(num_words=4)\n",
    "for topic in topics:\n",
    "    print(topic)"
   ]
  },
  {
   "cell_type": "markdown",
   "metadata": {},
   "source": [
    "## Splitting by review"
   ]
  },
  {
   "cell_type": "code",
   "execution_count": null,
   "metadata": {},
   "outputs": [],
   "source": [
    "bad_reviews['tokens'].sample(100000)"
   ]
  },
  {
   "cell_type": "code",
   "execution_count": null,
   "metadata": {},
   "outputs": [],
   "source": [
    "good_reviews_6 = train_display_save(tokens=good_reviews['tokens'], nb_samples=100000, num_topics=6, alpha='asymmetric', eta=0.1, name='good_reviews')"
   ]
  },
  {
   "cell_type": "code",
   "execution_count": null,
   "metadata": {},
   "outputs": [],
   "source": [
    "bad_reviews_6 = train_display_save(tokens=bad_reviews['tokens'], nb_samples=100000, num_topics=6, alpha='asymmetric', eta=0.1, name='bad_reviews')"
   ]
  },
  {
   "cell_type": "code",
   "execution_count": null,
   "metadata": {},
   "outputs": [],
   "source": [
    "neutral_reviews_6 = train_display_save(tokens=neutral_reviews['tokens'], nb_samples=100000, num_topics=6, alpha='asymmetric', eta=0.1, name='neutral_reviews')"
   ]
  },
  {
   "cell_type": "code",
   "execution_count": null,
   "metadata": {},
   "outputs": [],
   "source": [
    "def save_display(self, title):\n",
    "    p = pyLDAvis.gensim.prepare(self.lda_model, self.corpus, self.id2word)\n",
    "    pyLDAvis.save_html(p, title+'.html')"
   ]
  },
  {
   "cell_type": "code",
   "execution_count": null,
   "metadata": {},
   "outputs": [],
   "source": [
    "save_display(good_lda, 'good_reviews_8_topics')"
   ]
  },
  {
   "cell_type": "code",
   "execution_count": null,
   "metadata": {},
   "outputs": [],
   "source": [
    "save_display(bad_lda, 'bad_reviews_8_topics')"
   ]
  },
  {
   "cell_type": "code",
   "execution_count": null,
   "metadata": {},
   "outputs": [],
   "source": [
    "save_display(neutral_lda, 'neutral_reviews_8_topics')"
   ]
  },
  {
   "cell_type": "code",
   "execution_count": null,
   "metadata": {},
   "outputs": [],
   "source": [
    "good_reviews = reviews[reviews['rating']>=4]\n",
    "neutral_reviews = reviews[(reviews['rating']>2) & (reviews['rating']<4)]\n",
    "bad_reviews = reviews[reviews['rating']<=2]"
   ]
  },
  {
   "cell_type": "code",
   "execution_count": null,
   "metadata": {},
   "outputs": [],
   "source": [
    "print(len(good_reviews))\n",
    "good_lda = TopicModeller(good_reviews, 'tokens')\n",
    "good_lda.train_valid_lda()"
   ]
  },
  {
   "cell_type": "code",
   "execution_count": null,
   "metadata": {},
   "outputs": [],
   "source": [
    "display(good_lda.cv_results)"
   ]
  },
  {
   "cell_type": "code",
   "execution_count": null,
   "metadata": {},
   "outputs": [],
   "source": [
    "good_lda.view()"
   ]
  },
  {
   "cell_type": "code",
   "execution_count": null,
   "metadata": {},
   "outputs": [],
   "source": [
    "print(len(bad_reviews))\n",
    "bad_lda = TopicModeller(bad_reviews, 'tokens')\n",
    "bad_lda.train_valid_lda()\n",
    "bad_lda.view()"
   ]
  },
  {
   "cell_type": "code",
   "execution_count": null,
   "metadata": {},
   "outputs": [],
   "source": [
    "display(bad_lda.cv_results)"
   ]
  },
  {
   "cell_type": "code",
   "execution_count": null,
   "metadata": {},
   "outputs": [],
   "source": [
    "bad_lda.view()"
   ]
  },
  {
   "cell_type": "code",
   "execution_count": null,
   "metadata": {},
   "outputs": [],
   "source": [
    "print(len(neutral_reviews))\n",
    "neutral_lda = TopicModeller(neutral_reviews, 'tokens')\n",
    "neutral_lda.train_valid_lda()\n",
    "neutral_lda.view()"
   ]
  },
  {
   "cell_type": "code",
   "execution_count": null,
   "metadata": {},
   "outputs": [],
   "source": [
    "display(neutral_lda.cv_results)"
   ]
  },
  {
   "cell_type": "code",
   "execution_count": null,
   "metadata": {
    "scrolled": false
   },
   "outputs": [],
   "source": [
    "neutral_lda.view()"
   ]
  },
  {
   "cell_type": "code",
   "execution_count": null,
   "metadata": {},
   "outputs": [],
   "source": [
    "good_reviews = good_lda.get_docs_topics()"
   ]
  },
  {
   "cell_type": "code",
   "execution_count": null,
   "metadata": {},
   "outputs": [],
   "source": [
    "neutral_reviews = neutral_lda.get_docs_topics()"
   ]
  },
  {
   "cell_type": "code",
   "execution_count": null,
   "metadata": {},
   "outputs": [],
   "source": [
    "bad_reviews = bad_lda.get_docs_topics()"
   ]
  },
  {
   "cell_type": "code",
   "execution_count": null,
   "metadata": {},
   "outputs": [],
   "source": [
    "good_reviews.to_pickle('good_reviews.pickle')\n",
    "bad_reviews.to_pickle('bad_reviews.pickle')\n",
    "neutral_reviews.to_pickle('neutral_reviews.pickle')"
   ]
  },
  {
   "cell_type": "code",
   "execution_count": null,
   "metadata": {
    "scrolled": true
   },
   "outputs": [],
   "source": [
    "good_lda.cv_results"
   ]
  },
  {
   "cell_type": "code",
   "execution_count": null,
   "metadata": {
    "scrolled": true
   },
   "outputs": [],
   "source": [
    "good_reviews_3 = train_display_save(tokens=good_reviews['tokens'], nb_samples=100000, num_topics=3, alpha='asymmetric', eta=0.1, name='good_reviews')\n",
    "bad_reviews_3 = train_display_save(tokens=bad_reviews['tokens'], nb_samples=100000, num_topics=3, alpha='asymmetric', eta=0.1, name='bad_reviews')\n",
    "neutral_reviews_3 = train_display_save(tokens=neutral_reviews['tokens'], nb_samples=100000, num_topics=3, alpha='asymmetric', eta='symmetric', name='neutral_reviews')"
   ]
  },
  {
   "cell_type": "code",
   "execution_count": null,
   "metadata": {},
   "outputs": [],
   "source": [
    "int_start=time.time()\n",
    "# Inputs\n",
    "tokens_good = random.sample(good_reviews['tokens'].values.tolist(),100000)\n",
    "# Create Dictionary\n",
    "id2word_good = corpora.Dictionary(tokens_good)\n",
    "# Term Document Frequency\n",
    "corpus_good = [id2word_good.doc2bow(text) for text in tokens_good]\n",
    "print(time.time()-int_start)\n",
    "\n",
    "# Build LDA model\n",
    "int_start=time.time()\n",
    "lda_model_good = gensim.models.LdaMulticore(corpus=corpus_good,\n",
    "                                       id2word=id2word_good,\n",
    "                                       num_topics=3,\n",
    "                                       alpha = 'asymmetric',\n",
    "                                       eta = 0.1,\n",
    "                                       random_state=3,\n",
    "                                       chunksize=100,\n",
    "                                       passes=10,\n",
    "                                       per_word_topics=True)\n",
    "print(time.time()-int_start)\n",
    "\n",
    "pyLDAvis.enable_notebook()\n",
    "LDAvis_prepared = pyLDAvis.gensim.prepare(lda_model_good, corpus_good, id2word_good)\n",
    "LDAvis_prepared"
   ]
  },
  {
   "cell_type": "code",
   "execution_count": null,
   "metadata": {},
   "outputs": [],
   "source": [
    "pyLDAvis.gensim.prepare(lda_model_good, corpus_good, id2word_good)"
   ]
  },
  {
   "cell_type": "code",
   "execution_count": null,
   "metadata": {},
   "outputs": [],
   "source": [
    "bad_lda.cv_results"
   ]
  },
  {
   "cell_type": "code",
   "execution_count": null,
   "metadata": {},
   "outputs": [],
   "source": [
    "int_start=time.time()\n",
    "# Inputs\n",
    "tokens_bad = random.sample(bad_reviews['tokens'].values.tolist(),100000)\n",
    "# Create Dictionary\n",
    "id2word_bad = corpora.Dictionary(tokens_bad)\n",
    "# Term Document Frequency\n",
    "corpus_bad = [id2word_bad.doc2bow(text) for text in tokens_bad]\n",
    "print(time.time()-int_start)\n",
    "\n",
    "# Build LDA model\n",
    "int_start=time.time()\n",
    "lda_model_bad = gensim.models.LdaMulticore(corpus=corpus_bad,\n",
    "                                       id2word=id2word_bad,\n",
    "                                       num_topics=3,\n",
    "                                       alpha = 'asymmetric',\n",
    "                                       eta = 0.1,\n",
    "                                       random_state=3,\n",
    "                                       chunksize=100,\n",
    "                                       passes=10,\n",
    "                                       per_word_topics=True)\n",
    "print(time.time()-int_start)\n",
    "\n",
    "pyLDAvis.enable_notebook()\n",
    "LDAvis_prepared = pyLDAvis.gensim.prepare(lda_model_bad, corpus_bad, id2word_bad)\n",
    "LDAvis_prepared"
   ]
  },
  {
   "cell_type": "code",
   "execution_count": null,
   "metadata": {},
   "outputs": [],
   "source": [
    "int_start=time.time()\n",
    "# Inputs\n",
    "tokens_neutral = random.sample(neutral_reviews['tokens'].values.tolist(),100000)\n",
    "# Create Dictionary\n",
    "id2word_neutral = corpora.Dictionary(tokens_neutral)\n",
    "# Term Document Frequency\n",
    "corpus_neutral = [id2word_neutral.doc2bow(text) for text in tokens_neutral]\n",
    "print(time.time()-int_start)\n",
    "\n",
    "# Build LDA model\n",
    "int_start=time.time()\n",
    "lda_model_neutral = gensim.models.LdaMulticore(corpus=corpus_neutral,\n",
    "                                       id2word=id2word_neutral,\n",
    "                                       num_topics=3,\n",
    "                                       alpha = 'asymmetric',\n",
    "                                       eta = 'symmetric',\n",
    "                                       random_state=3,\n",
    "                                       chunksize=100,\n",
    "                                       passes=10,\n",
    "                                       per_word_topics=True)\n",
    "print(time.time()-int_start)\n",
    "\n",
    "pyLDAvis.enable_notebook()\n",
    "LDAvis_prepared = pyLDAvis.gensim.prepare(lda_model_neutral, corpus_neutral, id2word_neutral)\n",
    "LDAvis_prepared"
   ]
  },
  {
   "cell_type": "markdown",
   "metadata": {},
   "source": [
    "## NLP Preprocessing"
   ]
  },
  {
   "cell_type": "code",
   "execution_count": null,
   "metadata": {},
   "outputs": [],
   "source": [
    "docs = pickle.load(open(\"docs.pickle\", \"rb\"))\n",
    "\n",
    "d = corpora.Dictionary(docs)\n",
    "\n",
    "freq = pd.DataFrame(d.dfs.values(), index=d.dfs.keys(), columns=['freq'])\n",
    "freq.index.name = 'idx'\n",
    "freq = freq.reset_index()\n",
    "freq['token'] = freq['idx'].apply(lambda x:d[x])\n",
    "freq = freq.sort_values(by='freq', ascending=False)"
   ]
  },
  {
   "cell_type": "code",
   "execution_count": null,
   "metadata": {},
   "outputs": [],
   "source": [
    "freq[freq['freq']>500]"
   ]
  },
  {
   "cell_type": "markdown",
   "metadata": {},
   "source": [
    "## Validating Model"
   ]
  },
  {
   "cell_type": "code",
   "execution_count": null,
   "metadata": {},
   "outputs": [],
   "source": [
    "# Inputs\n",
    "docs = random.sample(docs, 100000)\n",
    "\n",
    "# Create Dictionary\n",
    "id2word = corpora.Dictionary(docs)\n",
    "pickle.dump(id2word, open( \"id2word.p\", \"wb\" ) )\n",
    "\n",
    "# Term Document Frequency\n",
    "corpus = [id2word.doc2bow(text) for text in docs]"
   ]
  },
  {
   "cell_type": "code",
   "execution_count": null,
   "metadata": {},
   "outputs": [],
   "source": [
    "# supporting function\n",
    "def compute_coherence_values(corpus, dictionary, text, k, a, b):\n",
    "    \n",
    "    lda_model = gensim.models.LdaMulticore(corpus=corpus,\n",
    "                                           id2word=dictionary,\n",
    "                                           num_topics=k, \n",
    "                                           random_state=100,\n",
    "                                           chunksize=100,\n",
    "                                           passes=10,\n",
    "                                           alpha=a,\n",
    "                                           eta=b)\n",
    "    \n",
    "    coherence_model_lda = CoherenceModel(model=lda_model, texts=text, dictionary=id2word, coherence='c_v')\n",
    "    \n",
    "    return coherence_model_lda.get_coherence()"
   ]
  },
  {
   "cell_type": "code",
   "execution_count": null,
   "metadata": {},
   "outputs": [],
   "source": [
    "grid = {}\n",
    "grid['Validation_Set'] = {}\n",
    "\n",
    "nb_words = len(id2word)\n",
    "\n",
    "# Topics range\n",
    "min_topics = 6\n",
    "max_topics = 10\n",
    "step_size = 1\n",
    "# topics_range = range(min_topics, max_topics, step_size)\n",
    "topics_range = [8]\n",
    "# Alpha parameter\n",
    "# Added in the loop\n",
    "\n",
    "# Alpha\n",
    "alpha = [\n",
    "#     0.1, \n",
    "#     'symmetric',\n",
    "#     'asymmetric'\n",
    "]\n",
    "\n",
    "# Beta parameter\n",
    "beta = [\n",
    "    0.1, \n",
    "#     200/nb_words\n",
    "]\n",
    "beta.append('symmetric')\n",
    "\n",
    "# Validation sets\n",
    "num_of_docs = len(corpus)\n",
    "corpus_sets = [\n",
    "#     gensim.utils.ClippedCorpus(corpus, num_of_docs*0.05), \n",
    "#     gensim.utils.ClippedCorpus(corpus, num_of_docs*0.5), \n",
    "#     gensim.utils.ClippedCorpus(corpus, num_of_docs*0.75), \n",
    "    self.corpus\n",
    "]\n",
    "\n",
    "corpus_title = [\n",
    "#     '25% Corpus',\n",
    "#     '50% Corpus',\n",
    "#     '75% Corpus',\n",
    "    '100% Corpus'\n",
    "]\n",
    "\n",
    "model_results = {'Validation_Set': [],\n",
    "                 'Topics': [],\n",
    "                 'Alpha': [],\n",
    "                 'Beta': [],\n",
    "                 'Coherence': []\n",
    "                }\n",
    "\n",
    "# Can take a long time to run\n",
    "if 1 == 1:\n",
    "    pbar = tqdm.tqdm(total=(len(beta)*(len(alpha)+1)*len(topics_range)))\n",
    "    # iterate through validation corpuses\n",
    "    for i in range(len(corpus_sets)):\n",
    "        # iterate through number of topics\n",
    "        for k in topics_range:\n",
    "            alpha.append(50/k)\n",
    "            # iterate through alpha values\n",
    "            for a in alpha:\n",
    "                # iterare through beta values\n",
    "                for b in beta:\n",
    "                    # get the coherence score for the given parameters\n",
    "                    cv = compute_coherence_values(corpus=corpus_sets[i], dictionary=id2word, text=docs,\n",
    "                                                  k=k, a=a, b=b)\n",
    "                    # Save the model results\n",
    "                    model_results['Validation_Set'].append(corpus_title[i])\n",
    "                    model_results['Topics'].append(k)\n",
    "                    model_results['Alpha'].append(a)\n",
    "                    model_results['Beta'].append(b)\n",
    "                    model_results['Coherence'].append(cv)\n",
    "                    pbar.update(1)\n",
    "    res = pd.DataFrame(model_results)\n",
    "    res = pd.DataFrame(model_results).sort_values(\"Coherence\", ascending=False)\n",
    "    res.to_csv('lda_tuning_results.csv', index=False)\n",
    "    pbar.close()"
   ]
  },
  {
   "cell_type": "code",
   "execution_count": null,
   "metadata": {},
   "outputs": [],
   "source": [
    "res"
   ]
  },
  {
   "cell_type": "markdown",
   "metadata": {},
   "source": [
    "## Training Best Model"
   ]
  },
  {
   "cell_type": "code",
   "execution_count": null,
   "metadata": {},
   "outputs": [],
   "source": [
    "best_param = res.iloc[0]\n",
    "num_topics = best_param['Topics']\n",
    "alpha = best_param['Alpha']\n",
    "eta = best_param['Beta']"
   ]
  },
  {
   "cell_type": "code",
   "execution_count": null,
   "metadata": {},
   "outputs": [],
   "source": [
    "# Build LDA model\n",
    "int_start=time.time()\n",
    "lda_model = gensim.models.LdaMulticore(corpus=corpus,\n",
    "                                       id2word=id2word,\n",
    "                                       num_topics=num_topics,\n",
    "                                       alpha = alpha,\n",
    "                                       eta = eta,\n",
    "                                       random_state=100,\n",
    "                                       chunksize=100,\n",
    "                                       passes=10,\n",
    "                                       per_word_topics=True)\n",
    "print(time.time()-int_start)"
   ]
  },
  {
   "cell_type": "code",
   "execution_count": null,
   "metadata": {},
   "outputs": [],
   "source": [
    "coherence_model_lda = CoherenceModel(model=lda_model, texts=docs, dictionary=id2word, coherence='c_v')\n",
    "coherence_lda = coherence_model_lda.get_coherence()\n",
    "print('Coherence Score: ', coherence_lda)"
   ]
  },
  {
   "cell_type": "code",
   "execution_count": null,
   "metadata": {},
   "outputs": [],
   "source": [
    "pyLDAvis.enable_notebook()\n",
    "LDAvis_prepared = pyLDAvis.gensim.prepare(lda_model, corpus, id2word)\n",
    "LDAvis_prepared"
   ]
  },
  {
   "cell_type": "code",
   "execution_count": null,
   "metadata": {},
   "outputs": [],
   "source": [
    "lda_model.save('lda_test.model')"
   ]
  },
  {
   "cell_type": "code",
   "execution_count": null,
   "metadata": {},
   "outputs": [],
   "source": [
    "print(time.time()-start)"
   ]
  },
  {
   "cell_type": "markdown",
   "metadata": {},
   "source": [
    "## Predictions"
   ]
  },
  {
   "cell_type": "code",
   "execution_count": null,
   "metadata": {},
   "outputs": [],
   "source": [
    "# df = pd.read_pickle('reviews_concat.pkl')"
   ]
  },
  {
   "cell_type": "code",
   "execution_count": null,
   "metadata": {},
   "outputs": [],
   "source": [
    "# df = df.loc['2019']"
   ]
  },
  {
   "cell_type": "code",
   "execution_count": null,
   "metadata": {},
   "outputs": [],
   "source": [
    "# print(len(df))"
   ]
  },
  {
   "cell_type": "code",
   "execution_count": null,
   "metadata": {},
   "outputs": [],
   "source": [
    "# docs = list(tqdm.tqdm(preprocess(df.values.tolist(), stop_words), position=0, leave=True))"
   ]
  },
  {
   "cell_type": "code",
   "execution_count": null,
   "metadata": {},
   "outputs": [],
   "source": [
    "# pickle.dump(docs, open( \"docs.p\", \"wb\" ) )"
   ]
  },
  {
   "cell_type": "code",
   "execution_count": null,
   "metadata": {},
   "outputs": [],
   "source": [
    "# docs = pickle.load(open(\"docs.p\", \"rb\"))\n",
    "# id2word = pickle.load(open(\"id2word.p\", \"rb\"))\n",
    "\n",
    "# # Term Document Frequency\n",
    "# corpus = [id2word.doc2bow(text) for text in docs]\n",
    "\n",
    "# output = pd.concat([df.to_frame('description').reset_index(), pd.DataFrame(gensim.matutils.corpus2csc(lda_model.get_document_topics(corpus)).T.toarray(), columns=['topic_'+str(i) for i in range(1,num_topics+1)])], axis=1, ignore_index=True)\n",
    "\n",
    "# output.to_pickle('reviews_w_topics_test.pkl')"
   ]
  },
  {
   "cell_type": "markdown",
   "metadata": {},
   "source": [
    "## Appendix"
   ]
  },
  {
   "cell_type": "code",
   "execution_count": null,
   "metadata": {},
   "outputs": [],
   "source": [
    "# # Build the bigram and trigram models\n",
    "# bigram = gensim.models.Phrases(data_words, min_count=5, threshold=150) # higher threshold fewer phrases.\n",
    "# # trigram = gensim.models.Phrases(bigram[data_words], threshold=150)\n",
    "\n",
    "# # Faster way to get a sentence clubbed as a trigram/bigram\n",
    "# bigram_mod = gensim.models.phrases.Phraser(bigram)\n",
    "# # trigram_mod = gensim.models.phrases.Phraser(trigram)\n",
    "\n",
    "# def remove_stopwords(texts):\n",
    "#     return [[word for word in simple_preprocess(str(doc)) if word not in stop_words] for doc in texts]\n",
    "\n",
    "# def make_bigrams(texts):\n",
    "#     return [bigram_mod[doc] for doc in texts]\n",
    "\n",
    "# def make_trigrams(texts):\n",
    "#     return [trigram_mod[bigram_mod[doc]] for doc in texts]\n",
    "\n",
    "# def lemmatization(texts, allowed_postags=['NOUN', 'ADJ', 'VERB', 'ADV']):\n",
    "#     \"\"\"https://spacy.io/api/annotation\"\"\"\n",
    "#     texts_out = []\n",
    "#     for sent in texts:\n",
    "#         doc = nlp(\" \".join(sent)) \n",
    "#         texts_out.append([token.lemma_ for token in doc if token.pos_ in allowed_postags])\n",
    "#     return texts_out\n",
    "\n",
    "# # Remove Stop Words\n",
    "# data_words = remove_stopwords(data_words)\n",
    "\n",
    "# # Do lemmatization keeping only noun, adj, vb, adv\n",
    "# data_words = lemmatization(data_words, allowed_postags=['NOUN', 'ADJ', 'VERB', 'ADV'])\n",
    "\n",
    "# # Form Bigrams\n",
    "# data_words = make_bigrams(data_words)"
   ]
  },
  {
   "cell_type": "code",
   "execution_count": null,
   "metadata": {},
   "outputs": [],
   "source": [
    "# # Build LDA model\n",
    "# lda_model = gensim.models.LdaMulticore(corpus=corpus,\n",
    "#                                        id2word=id2word,\n",
    "#                                        num_topics=8, \n",
    "#                                        random_state=100,\n",
    "#                                        chunksize=100,\n",
    "#                                        passes=10,\n",
    "#                                        per_word_topics=True)"
   ]
  },
  {
   "cell_type": "code",
   "execution_count": null,
   "metadata": {},
   "outputs": [],
   "source": [
    "# pprint(lda_model.print_topics())\n",
    "# doc_lda = lda_model[corpus]"
   ]
  },
  {
   "cell_type": "code",
   "execution_count": null,
   "metadata": {},
   "outputs": [],
   "source": [
    "# coherence_model_lda = CoherenceModel(model=lda_model, texts=data_lemmatized, dictionary=id2word, coherence='c_v')\n",
    "# coherence_lda = coherence_model_lda.get_coherence()\n",
    "# print('Coherence Score: ', coherence_lda)"
   ]
  },
  {
   "cell_type": "code",
   "execution_count": null,
   "metadata": {},
   "outputs": [],
   "source": []
  },
  {
   "cell_type": "code",
   "execution_count": null,
   "metadata": {},
   "outputs": [],
   "source": []
  }
 ],
 "metadata": {
  "kernelspec": {
   "display_name": "Python 3",
   "language": "python",
   "name": "python3"
  },
  "language_info": {
   "codemirror_mode": {
    "name": "ipython",
    "version": 3
   },
   "file_extension": ".py",
   "mimetype": "text/x-python",
   "name": "python",
   "nbconvert_exporter": "python",
   "pygments_lexer": "ipython3",
   "version": "3.7.6"
  },
  "toc": {
   "base_numbering": 1,
   "nav_menu": {},
   "number_sections": true,
   "sideBar": true,
   "skip_h1_title": false,
   "title_cell": "Table of Contents",
   "title_sidebar": "Contents",
   "toc_cell": false,
   "toc_position": {
    "height": "calc(100% - 180px)",
    "left": "10px",
    "top": "150px",
    "width": "164.988px"
   },
   "toc_section_display": true,
   "toc_window_display": true
  }
 },
 "nbformat": 4,
 "nbformat_minor": 4
}
