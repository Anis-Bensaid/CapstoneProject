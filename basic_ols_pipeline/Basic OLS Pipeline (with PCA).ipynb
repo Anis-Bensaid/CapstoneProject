{
 "cells": [
  {
   "cell_type": "markdown",
   "metadata": {},
   "source": [
    "# Basic OLS Model Using PCA"
   ]
  },
  {
   "cell_type": "code",
   "execution_count": 1,
   "metadata": {},
   "outputs": [],
   "source": [
    "import pandas as pd\n",
    "import numpy as np\n",
    "import sklearn.metrics as metrics\n",
    "import statsmodels.api as sm\n",
    "import matplotlib.pyplot as plt"
   ]
  },
  {
   "cell_type": "code",
   "execution_count": 2,
   "metadata": {},
   "outputs": [],
   "source": [
    "from sklearn.model_selection import train_test_split, RandomizedSearchCV\n",
    "from sklearn.preprocessing import StandardScaler\n",
    "from sklearn.linear_model import LinearRegression\n",
    "from sklearn.decomposition import PCA"
   ]
  },
  {
   "cell_type": "markdown",
   "metadata": {},
   "source": [
    "## Pull in Data"
   ]
  },
  {
   "cell_type": "code",
   "execution_count": 3,
   "metadata": {},
   "outputs": [],
   "source": [
    "onedrive_path = \"C:/Users/cfowle/The Estée Lauder Companies Inc/TeamAnis - General/\""
   ]
  },
  {
   "cell_type": "code",
   "execution_count": 4,
   "metadata": {},
   "outputs": [],
   "source": [
    "reviews = pd.read_csv(onedrive_path + \"Data/Ratings and Reviews/reviews_demand_itemid4.csv\")\n",
    "cc      = pd.read_csv(onedrive_path + \"Data/Consumer Care/cc_product_month.csv\")"
   ]
  },
  {
   "cell_type": "markdown",
   "metadata": {},
   "source": [
    "## Take a Gander at it"
   ]
  },
  {
   "cell_type": "code",
   "execution_count": 5,
   "metadata": {
    "scrolled": true
   },
   "outputs": [
    {
     "data": {
      "text/html": [
       "<div>\n",
       "<style scoped>\n",
       "    .dataframe tbody tr th:only-of-type {\n",
       "        vertical-align: middle;\n",
       "    }\n",
       "\n",
       "    .dataframe tbody tr th {\n",
       "        vertical-align: top;\n",
       "    }\n",
       "\n",
       "    .dataframe thead th {\n",
       "        text-align: right;\n",
       "    }\n",
       "</style>\n",
       "<table border=\"1\" class=\"dataframe\">\n",
       "  <thead>\n",
       "    <tr style=\"text-align: right;\">\n",
       "      <th></th>\n",
       "      <th>avg_nb_statements</th>\n",
       "      <th>nb_reviews</th>\n",
       "      <th>rating</th>\n",
       "      <th>rating_1</th>\n",
       "      <th>rating_2</th>\n",
       "      <th>rating_3</th>\n",
       "      <th>rating_4</th>\n",
       "      <th>rating_5</th>\n",
       "      <th>sentiment_negative</th>\n",
       "      <th>sentiment_neutral</th>\n",
       "      <th>sentiment_positive</th>\n",
       "      <th>sentiment</th>\n",
       "      <th>demand</th>\n",
       "      <th>demand_1</th>\n",
       "      <th>demand_2</th>\n",
       "      <th>demand_3</th>\n",
       "    </tr>\n",
       "  </thead>\n",
       "  <tbody>\n",
       "    <tr>\n",
       "      <th>count</th>\n",
       "      <td>64331.000000</td>\n",
       "      <td>64331.000000</td>\n",
       "      <td>64331.000000</td>\n",
       "      <td>64331.000000</td>\n",
       "      <td>64331.000000</td>\n",
       "      <td>64331.000000</td>\n",
       "      <td>64331.000000</td>\n",
       "      <td>64331.000000</td>\n",
       "      <td>64331.000000</td>\n",
       "      <td>64331.000000</td>\n",
       "      <td>64331.000000</td>\n",
       "      <td>64331.000000</td>\n",
       "      <td>6.433100e+04</td>\n",
       "      <td>6.433100e+04</td>\n",
       "      <td>6.433100e+04</td>\n",
       "      <td>6.433100e+04</td>\n",
       "    </tr>\n",
       "    <tr>\n",
       "      <th>mean</th>\n",
       "      <td>3.738738</td>\n",
       "      <td>15.181390</td>\n",
       "      <td>4.307262</td>\n",
       "      <td>0.833595</td>\n",
       "      <td>0.634375</td>\n",
       "      <td>1.028198</td>\n",
       "      <td>2.149337</td>\n",
       "      <td>10.535885</td>\n",
       "      <td>0.849569</td>\n",
       "      <td>2.140724</td>\n",
       "      <td>12.191096</td>\n",
       "      <td>0.731698</td>\n",
       "      <td>2.394056e+04</td>\n",
       "      <td>2.446187e+04</td>\n",
       "      <td>2.458022e+04</td>\n",
       "      <td>2.489434e+04</td>\n",
       "    </tr>\n",
       "    <tr>\n",
       "      <th>std</th>\n",
       "      <td>1.559079</td>\n",
       "      <td>46.230161</td>\n",
       "      <td>0.872739</td>\n",
       "      <td>2.261402</td>\n",
       "      <td>2.518982</td>\n",
       "      <td>5.960960</td>\n",
       "      <td>11.491830</td>\n",
       "      <td>27.686277</td>\n",
       "      <td>3.188785</td>\n",
       "      <td>6.250438</td>\n",
       "      <td>37.341742</td>\n",
       "      <td>0.261796</td>\n",
       "      <td>1.432225e+05</td>\n",
       "      <td>1.452580e+05</td>\n",
       "      <td>1.469601e+05</td>\n",
       "      <td>1.516130e+05</td>\n",
       "    </tr>\n",
       "    <tr>\n",
       "      <th>min</th>\n",
       "      <td>1.000000</td>\n",
       "      <td>1.000000</td>\n",
       "      <td>1.000000</td>\n",
       "      <td>0.000000</td>\n",
       "      <td>0.000000</td>\n",
       "      <td>0.000000</td>\n",
       "      <td>0.000000</td>\n",
       "      <td>0.000000</td>\n",
       "      <td>0.000000</td>\n",
       "      <td>0.000000</td>\n",
       "      <td>0.000000</td>\n",
       "      <td>-1.000000</td>\n",
       "      <td>0.000000e+00</td>\n",
       "      <td>0.000000e+00</td>\n",
       "      <td>0.000000e+00</td>\n",
       "      <td>0.000000e+00</td>\n",
       "    </tr>\n",
       "    <tr>\n",
       "      <th>25%</th>\n",
       "      <td>2.750000</td>\n",
       "      <td>2.000000</td>\n",
       "      <td>4.000000</td>\n",
       "      <td>0.000000</td>\n",
       "      <td>0.000000</td>\n",
       "      <td>0.000000</td>\n",
       "      <td>0.000000</td>\n",
       "      <td>1.000000</td>\n",
       "      <td>0.000000</td>\n",
       "      <td>0.166667</td>\n",
       "      <td>1.600000</td>\n",
       "      <td>0.638889</td>\n",
       "      <td>0.000000e+00</td>\n",
       "      <td>0.000000e+00</td>\n",
       "      <td>0.000000e+00</td>\n",
       "      <td>0.000000e+00</td>\n",
       "    </tr>\n",
       "    <tr>\n",
       "      <th>50%</th>\n",
       "      <td>3.500000</td>\n",
       "      <td>5.000000</td>\n",
       "      <td>4.566667</td>\n",
       "      <td>0.000000</td>\n",
       "      <td>0.000000</td>\n",
       "      <td>0.000000</td>\n",
       "      <td>0.000000</td>\n",
       "      <td>4.000000</td>\n",
       "      <td>0.250000</td>\n",
       "      <td>0.750000</td>\n",
       "      <td>4.166667</td>\n",
       "      <td>0.777083</td>\n",
       "      <td>0.000000e+00</td>\n",
       "      <td>0.000000e+00</td>\n",
       "      <td>0.000000e+00</td>\n",
       "      <td>0.000000e+00</td>\n",
       "    </tr>\n",
       "    <tr>\n",
       "      <th>75%</th>\n",
       "      <td>4.500000</td>\n",
       "      <td>15.000000</td>\n",
       "      <td>5.000000</td>\n",
       "      <td>1.000000</td>\n",
       "      <td>1.000000</td>\n",
       "      <td>1.000000</td>\n",
       "      <td>2.000000</td>\n",
       "      <td>11.000000</td>\n",
       "      <td>0.900000</td>\n",
       "      <td>2.272222</td>\n",
       "      <td>12.269625</td>\n",
       "      <td>0.906250</td>\n",
       "      <td>5.934000e+03</td>\n",
       "      <td>6.156000e+03</td>\n",
       "      <td>6.090000e+03</td>\n",
       "      <td>6.063500e+03</td>\n",
       "    </tr>\n",
       "    <tr>\n",
       "      <th>max</th>\n",
       "      <td>22.000000</td>\n",
       "      <td>6201.000000</td>\n",
       "      <td>5.000000</td>\n",
       "      <td>143.000000</td>\n",
       "      <td>264.000000</td>\n",
       "      <td>677.000000</td>\n",
       "      <td>1744.000000</td>\n",
       "      <td>3738.000000</td>\n",
       "      <td>301.061277</td>\n",
       "      <td>706.178695</td>\n",
       "      <td>5208.966002</td>\n",
       "      <td>1.000000</td>\n",
       "      <td>7.026132e+06</td>\n",
       "      <td>8.540640e+06</td>\n",
       "      <td>7.117200e+06</td>\n",
       "      <td>8.540640e+06</td>\n",
       "    </tr>\n",
       "  </tbody>\n",
       "</table>\n",
       "</div>"
      ],
      "text/plain": [
       "       avg_nb_statements    nb_reviews        rating      rating_1  \\\n",
       "count       64331.000000  64331.000000  64331.000000  64331.000000   \n",
       "mean            3.738738     15.181390      4.307262      0.833595   \n",
       "std             1.559079     46.230161      0.872739      2.261402   \n",
       "min             1.000000      1.000000      1.000000      0.000000   \n",
       "25%             2.750000      2.000000      4.000000      0.000000   \n",
       "50%             3.500000      5.000000      4.566667      0.000000   \n",
       "75%             4.500000     15.000000      5.000000      1.000000   \n",
       "max            22.000000   6201.000000      5.000000    143.000000   \n",
       "\n",
       "           rating_2      rating_3      rating_4      rating_5  \\\n",
       "count  64331.000000  64331.000000  64331.000000  64331.000000   \n",
       "mean       0.634375      1.028198      2.149337     10.535885   \n",
       "std        2.518982      5.960960     11.491830     27.686277   \n",
       "min        0.000000      0.000000      0.000000      0.000000   \n",
       "25%        0.000000      0.000000      0.000000      1.000000   \n",
       "50%        0.000000      0.000000      0.000000      4.000000   \n",
       "75%        1.000000      1.000000      2.000000     11.000000   \n",
       "max      264.000000    677.000000   1744.000000   3738.000000   \n",
       "\n",
       "       sentiment_negative  sentiment_neutral  sentiment_positive  \\\n",
       "count        64331.000000       64331.000000        64331.000000   \n",
       "mean             0.849569           2.140724           12.191096   \n",
       "std              3.188785           6.250438           37.341742   \n",
       "min              0.000000           0.000000            0.000000   \n",
       "25%              0.000000           0.166667            1.600000   \n",
       "50%              0.250000           0.750000            4.166667   \n",
       "75%              0.900000           2.272222           12.269625   \n",
       "max            301.061277         706.178695         5208.966002   \n",
       "\n",
       "          sentiment        demand      demand_1      demand_2      demand_3  \n",
       "count  64331.000000  6.433100e+04  6.433100e+04  6.433100e+04  6.433100e+04  \n",
       "mean       0.731698  2.394056e+04  2.446187e+04  2.458022e+04  2.489434e+04  \n",
       "std        0.261796  1.432225e+05  1.452580e+05  1.469601e+05  1.516130e+05  \n",
       "min       -1.000000  0.000000e+00  0.000000e+00  0.000000e+00  0.000000e+00  \n",
       "25%        0.638889  0.000000e+00  0.000000e+00  0.000000e+00  0.000000e+00  \n",
       "50%        0.777083  0.000000e+00  0.000000e+00  0.000000e+00  0.000000e+00  \n",
       "75%        0.906250  5.934000e+03  6.156000e+03  6.090000e+03  6.063500e+03  \n",
       "max        1.000000  7.026132e+06  8.540640e+06  7.117200e+06  8.540640e+06  "
      ]
     },
     "execution_count": 5,
     "metadata": {},
     "output_type": "execute_result"
    }
   ],
   "source": [
    "reviews.describe()"
   ]
  },
  {
   "cell_type": "code",
   "execution_count": 6,
   "metadata": {},
   "outputs": [
    {
     "data": {
      "text/html": [
       "<div>\n",
       "<style scoped>\n",
       "    .dataframe tbody tr th:only-of-type {\n",
       "        vertical-align: middle;\n",
       "    }\n",
       "\n",
       "    .dataframe tbody tr th {\n",
       "        vertical-align: top;\n",
       "    }\n",
       "\n",
       "    .dataframe thead th {\n",
       "        text-align: right;\n",
       "    }\n",
       "</style>\n",
       "<table border=\"1\" class=\"dataframe\">\n",
       "  <thead>\n",
       "    <tr style=\"text-align: right;\">\n",
       "      <th></th>\n",
       "      <th>brand</th>\n",
       "      <th>elc_brand</th>\n",
       "      <th>itemid_4</th>\n",
       "      <th>date</th>\n",
       "      <th>avg_nb_statements</th>\n",
       "      <th>nb_reviews</th>\n",
       "      <th>rating</th>\n",
       "      <th>rating_1</th>\n",
       "      <th>rating_2</th>\n",
       "      <th>rating_3</th>\n",
       "      <th>rating_4</th>\n",
       "      <th>rating_5</th>\n",
       "      <th>sentiment_negative</th>\n",
       "      <th>sentiment_neutral</th>\n",
       "      <th>sentiment_positive</th>\n",
       "      <th>sentiment</th>\n",
       "      <th>demand</th>\n",
       "      <th>demand_1</th>\n",
       "      <th>demand_2</th>\n",
       "      <th>demand_3</th>\n",
       "    </tr>\n",
       "  </thead>\n",
       "  <tbody>\n",
       "    <tr>\n",
       "      <th>0</th>\n",
       "      <td>AR</td>\n",
       "      <td>Aramis</td>\n",
       "      <td>2044</td>\n",
       "      <td>2020-01</td>\n",
       "      <td>3.000000</td>\n",
       "      <td>1</td>\n",
       "      <td>5.000000</td>\n",
       "      <td>0</td>\n",
       "      <td>0</td>\n",
       "      <td>0</td>\n",
       "      <td>0</td>\n",
       "      <td>1</td>\n",
       "      <td>0.000000</td>\n",
       "      <td>0.333333</td>\n",
       "      <td>0.666667</td>\n",
       "      <td>0.666667</td>\n",
       "      <td>522</td>\n",
       "      <td>1605.0</td>\n",
       "      <td>1152.0</td>\n",
       "      <td>237.0</td>\n",
       "    </tr>\n",
       "    <tr>\n",
       "      <th>1</th>\n",
       "      <td>AR</td>\n",
       "      <td>Aramis</td>\n",
       "      <td>2EC6</td>\n",
       "      <td>2015-05</td>\n",
       "      <td>2.000000</td>\n",
       "      <td>1</td>\n",
       "      <td>5.000000</td>\n",
       "      <td>0</td>\n",
       "      <td>0</td>\n",
       "      <td>0</td>\n",
       "      <td>0</td>\n",
       "      <td>1</td>\n",
       "      <td>0.000000</td>\n",
       "      <td>0.000000</td>\n",
       "      <td>1.000000</td>\n",
       "      <td>1.000000</td>\n",
       "      <td>3787</td>\n",
       "      <td>3696.0</td>\n",
       "      <td>4538.0</td>\n",
       "      <td>1868.0</td>\n",
       "    </tr>\n",
       "    <tr>\n",
       "      <th>2</th>\n",
       "      <td>AR</td>\n",
       "      <td>Aramis</td>\n",
       "      <td>2EC6</td>\n",
       "      <td>2016-02</td>\n",
       "      <td>1.500000</td>\n",
       "      <td>2</td>\n",
       "      <td>5.000000</td>\n",
       "      <td>0</td>\n",
       "      <td>0</td>\n",
       "      <td>0</td>\n",
       "      <td>0</td>\n",
       "      <td>2</td>\n",
       "      <td>0.000000</td>\n",
       "      <td>0.000000</td>\n",
       "      <td>2.000000</td>\n",
       "      <td>1.000000</td>\n",
       "      <td>2649</td>\n",
       "      <td>2646.0</td>\n",
       "      <td>4223.0</td>\n",
       "      <td>5674.0</td>\n",
       "    </tr>\n",
       "    <tr>\n",
       "      <th>3</th>\n",
       "      <td>AR</td>\n",
       "      <td>Aramis</td>\n",
       "      <td>2EC6</td>\n",
       "      <td>2018-04</td>\n",
       "      <td>2.000000</td>\n",
       "      <td>2</td>\n",
       "      <td>1.000000</td>\n",
       "      <td>2</td>\n",
       "      <td>0</td>\n",
       "      <td>0</td>\n",
       "      <td>0</td>\n",
       "      <td>0</td>\n",
       "      <td>0.000000</td>\n",
       "      <td>1.000000</td>\n",
       "      <td>1.000000</td>\n",
       "      <td>0.500000</td>\n",
       "      <td>2444</td>\n",
       "      <td>1759.0</td>\n",
       "      <td>5221.0</td>\n",
       "      <td>16808.0</td>\n",
       "    </tr>\n",
       "    <tr>\n",
       "      <th>4</th>\n",
       "      <td>AR</td>\n",
       "      <td>Aramis</td>\n",
       "      <td>2EC8</td>\n",
       "      <td>2019-06</td>\n",
       "      <td>2.000000</td>\n",
       "      <td>1</td>\n",
       "      <td>1.000000</td>\n",
       "      <td>1</td>\n",
       "      <td>0</td>\n",
       "      <td>0</td>\n",
       "      <td>0</td>\n",
       "      <td>0</td>\n",
       "      <td>0.000000</td>\n",
       "      <td>1.000000</td>\n",
       "      <td>0.000000</td>\n",
       "      <td>0.000000</td>\n",
       "      <td>0</td>\n",
       "      <td>0.0</td>\n",
       "      <td>0.0</td>\n",
       "      <td>0.0</td>\n",
       "    </tr>\n",
       "    <tr>\n",
       "      <th>...</th>\n",
       "      <td>...</td>\n",
       "      <td>...</td>\n",
       "      <td>...</td>\n",
       "      <td>...</td>\n",
       "      <td>...</td>\n",
       "      <td>...</td>\n",
       "      <td>...</td>\n",
       "      <td>...</td>\n",
       "      <td>...</td>\n",
       "      <td>...</td>\n",
       "      <td>...</td>\n",
       "      <td>...</td>\n",
       "      <td>...</td>\n",
       "      <td>...</td>\n",
       "      <td>...</td>\n",
       "      <td>...</td>\n",
       "      <td>...</td>\n",
       "      <td>...</td>\n",
       "      <td>...</td>\n",
       "      <td>...</td>\n",
       "    </tr>\n",
       "    <tr>\n",
       "      <th>64326</th>\n",
       "      <td>TF</td>\n",
       "      <td>Tom Ford Beauty</td>\n",
       "      <td>T8FG</td>\n",
       "      <td>2019-11</td>\n",
       "      <td>1.500000</td>\n",
       "      <td>2</td>\n",
       "      <td>5.000000</td>\n",
       "      <td>0</td>\n",
       "      <td>0</td>\n",
       "      <td>0</td>\n",
       "      <td>0</td>\n",
       "      <td>2</td>\n",
       "      <td>0.000000</td>\n",
       "      <td>0.000000</td>\n",
       "      <td>2.000000</td>\n",
       "      <td>1.000000</td>\n",
       "      <td>0</td>\n",
       "      <td>0.0</td>\n",
       "      <td>0.0</td>\n",
       "      <td>0.0</td>\n",
       "    </tr>\n",
       "    <tr>\n",
       "      <th>64327</th>\n",
       "      <td>TF</td>\n",
       "      <td>Tom Ford Beauty</td>\n",
       "      <td>T8N5</td>\n",
       "      <td>2019-09</td>\n",
       "      <td>4.000000</td>\n",
       "      <td>1</td>\n",
       "      <td>5.000000</td>\n",
       "      <td>0</td>\n",
       "      <td>0</td>\n",
       "      <td>0</td>\n",
       "      <td>0</td>\n",
       "      <td>1</td>\n",
       "      <td>0.000000</td>\n",
       "      <td>0.000000</td>\n",
       "      <td>1.000000</td>\n",
       "      <td>1.000000</td>\n",
       "      <td>0</td>\n",
       "      <td>0.0</td>\n",
       "      <td>0.0</td>\n",
       "      <td>0.0</td>\n",
       "    </tr>\n",
       "    <tr>\n",
       "      <th>64328</th>\n",
       "      <td>TF</td>\n",
       "      <td>Tom Ford Beauty</td>\n",
       "      <td>T8N5</td>\n",
       "      <td>2020-01</td>\n",
       "      <td>8.000000</td>\n",
       "      <td>3</td>\n",
       "      <td>4.250000</td>\n",
       "      <td>0</td>\n",
       "      <td>0</td>\n",
       "      <td>0</td>\n",
       "      <td>2</td>\n",
       "      <td>1</td>\n",
       "      <td>0.111111</td>\n",
       "      <td>0.507937</td>\n",
       "      <td>2.380952</td>\n",
       "      <td>0.706349</td>\n",
       "      <td>0</td>\n",
       "      <td>0.0</td>\n",
       "      <td>0.0</td>\n",
       "      <td>0.0</td>\n",
       "    </tr>\n",
       "    <tr>\n",
       "      <th>64329</th>\n",
       "      <td>TF</td>\n",
       "      <td>Tom Ford Beauty</td>\n",
       "      <td>T8N5</td>\n",
       "      <td>2020-02</td>\n",
       "      <td>4.333333</td>\n",
       "      <td>7</td>\n",
       "      <td>2.333333</td>\n",
       "      <td>6</td>\n",
       "      <td>0</td>\n",
       "      <td>0</td>\n",
       "      <td>0</td>\n",
       "      <td>1</td>\n",
       "      <td>1.633333</td>\n",
       "      <td>0.333333</td>\n",
       "      <td>5.033333</td>\n",
       "      <td>0.600000</td>\n",
       "      <td>0</td>\n",
       "      <td>0.0</td>\n",
       "      <td>0.0</td>\n",
       "      <td>0.0</td>\n",
       "    </tr>\n",
       "    <tr>\n",
       "      <th>64330</th>\n",
       "      <td>TF</td>\n",
       "      <td>Tom Ford Beauty</td>\n",
       "      <td>T8N5</td>\n",
       "      <td>2020-03</td>\n",
       "      <td>4.458333</td>\n",
       "      <td>7</td>\n",
       "      <td>4.166667</td>\n",
       "      <td>1</td>\n",
       "      <td>0</td>\n",
       "      <td>0</td>\n",
       "      <td>1</td>\n",
       "      <td>5</td>\n",
       "      <td>0.000000</td>\n",
       "      <td>2.094444</td>\n",
       "      <td>4.905556</td>\n",
       "      <td>0.696528</td>\n",
       "      <td>0</td>\n",
       "      <td>0.0</td>\n",
       "      <td>0.0</td>\n",
       "      <td>0.0</td>\n",
       "    </tr>\n",
       "  </tbody>\n",
       "</table>\n",
       "<p>64331 rows × 20 columns</p>\n",
       "</div>"
      ],
      "text/plain": [
       "      brand        elc_brand itemid_4     date  avg_nb_statements  nb_reviews  \\\n",
       "0        AR           Aramis     2044  2020-01           3.000000           1   \n",
       "1        AR           Aramis     2EC6  2015-05           2.000000           1   \n",
       "2        AR           Aramis     2EC6  2016-02           1.500000           2   \n",
       "3        AR           Aramis     2EC6  2018-04           2.000000           2   \n",
       "4        AR           Aramis     2EC8  2019-06           2.000000           1   \n",
       "...     ...              ...      ...      ...                ...         ...   \n",
       "64326    TF  Tom Ford Beauty     T8FG  2019-11           1.500000           2   \n",
       "64327    TF  Tom Ford Beauty     T8N5  2019-09           4.000000           1   \n",
       "64328    TF  Tom Ford Beauty     T8N5  2020-01           8.000000           3   \n",
       "64329    TF  Tom Ford Beauty     T8N5  2020-02           4.333333           7   \n",
       "64330    TF  Tom Ford Beauty     T8N5  2020-03           4.458333           7   \n",
       "\n",
       "         rating  rating_1  rating_2  rating_3  rating_4  rating_5  \\\n",
       "0      5.000000         0         0         0         0         1   \n",
       "1      5.000000         0         0         0         0         1   \n",
       "2      5.000000         0         0         0         0         2   \n",
       "3      1.000000         2         0         0         0         0   \n",
       "4      1.000000         1         0         0         0         0   \n",
       "...         ...       ...       ...       ...       ...       ...   \n",
       "64326  5.000000         0         0         0         0         2   \n",
       "64327  5.000000         0         0         0         0         1   \n",
       "64328  4.250000         0         0         0         2         1   \n",
       "64329  2.333333         6         0         0         0         1   \n",
       "64330  4.166667         1         0         0         1         5   \n",
       "\n",
       "       sentiment_negative  sentiment_neutral  sentiment_positive  sentiment  \\\n",
       "0                0.000000           0.333333            0.666667   0.666667   \n",
       "1                0.000000           0.000000            1.000000   1.000000   \n",
       "2                0.000000           0.000000            2.000000   1.000000   \n",
       "3                0.000000           1.000000            1.000000   0.500000   \n",
       "4                0.000000           1.000000            0.000000   0.000000   \n",
       "...                   ...                ...                 ...        ...   \n",
       "64326            0.000000           0.000000            2.000000   1.000000   \n",
       "64327            0.000000           0.000000            1.000000   1.000000   \n",
       "64328            0.111111           0.507937            2.380952   0.706349   \n",
       "64329            1.633333           0.333333            5.033333   0.600000   \n",
       "64330            0.000000           2.094444            4.905556   0.696528   \n",
       "\n",
       "       demand  demand_1  demand_2  demand_3  \n",
       "0         522    1605.0    1152.0     237.0  \n",
       "1        3787    3696.0    4538.0    1868.0  \n",
       "2        2649    2646.0    4223.0    5674.0  \n",
       "3        2444    1759.0    5221.0   16808.0  \n",
       "4           0       0.0       0.0       0.0  \n",
       "...       ...       ...       ...       ...  \n",
       "64326       0       0.0       0.0       0.0  \n",
       "64327       0       0.0       0.0       0.0  \n",
       "64328       0       0.0       0.0       0.0  \n",
       "64329       0       0.0       0.0       0.0  \n",
       "64330       0       0.0       0.0       0.0  \n",
       "\n",
       "[64331 rows x 20 columns]"
      ]
     },
     "execution_count": 6,
     "metadata": {},
     "output_type": "execute_result"
    }
   ],
   "source": [
    "reviews"
   ]
  },
  {
   "cell_type": "code",
   "execution_count": 7,
   "metadata": {},
   "outputs": [
    {
     "data": {
      "text/html": [
       "<div>\n",
       "<style scoped>\n",
       "    .dataframe tbody tr th:only-of-type {\n",
       "        vertical-align: middle;\n",
       "    }\n",
       "\n",
       "    .dataframe tbody tr th {\n",
       "        vertical-align: top;\n",
       "    }\n",
       "\n",
       "    .dataframe thead th {\n",
       "        text-align: right;\n",
       "    }\n",
       "</style>\n",
       "<table border=\"1\" class=\"dataframe\">\n",
       "  <thead>\n",
       "    <tr style=\"text-align: right;\">\n",
       "      <th></th>\n",
       "      <th>Complaints</th>\n",
       "      <th>Compliments</th>\n",
       "      <th>Questions</th>\n",
       "      <th>Suggestions</th>\n",
       "      <th>Complaints_Availability_GBNF</th>\n",
       "      <th>Complaints_Availability_Location</th>\n",
       "      <th>Complaints_Availability_Product Availability</th>\n",
       "      <th>Complaints_Corporate_ELC</th>\n",
       "      <th>Complaints_Corporate_Environmental</th>\n",
       "      <th>Complaints_Corporate_Pricing</th>\n",
       "      <th>...</th>\n",
       "      <th>Questions_Order_Returns</th>\n",
       "      <th>Questions_Product_General</th>\n",
       "      <th>Questions_Product_Packaging</th>\n",
       "      <th>Questions_Product_Performance</th>\n",
       "      <th>Questions_Product_Usage Related</th>\n",
       "      <th>Questions_Service_Location</th>\n",
       "      <th>Questions_Service_Miscellaneous</th>\n",
       "      <th>Questions_Website_Offer Codes</th>\n",
       "      <th>Questions_Website_Website functionality</th>\n",
       "      <th>Suggestions_Suggestion_Miscellaneous</th>\n",
       "    </tr>\n",
       "  </thead>\n",
       "  <tbody>\n",
       "    <tr>\n",
       "      <th>count</th>\n",
       "      <td>112553.000000</td>\n",
       "      <td>112553.000000</td>\n",
       "      <td>112553.000000</td>\n",
       "      <td>112553.000000</td>\n",
       "      <td>112553.000000</td>\n",
       "      <td>112553.000000</td>\n",
       "      <td>112553.000000</td>\n",
       "      <td>112553.0</td>\n",
       "      <td>112553.000000</td>\n",
       "      <td>112553.000000</td>\n",
       "      <td>...</td>\n",
       "      <td>112553.000000</td>\n",
       "      <td>112553.000000</td>\n",
       "      <td>112553.000000</td>\n",
       "      <td>112553.000000</td>\n",
       "      <td>112553.000000</td>\n",
       "      <td>112553.000000</td>\n",
       "      <td>112553.000000</td>\n",
       "      <td>112553.000000</td>\n",
       "      <td>112553.000000</td>\n",
       "      <td>112553.000000</td>\n",
       "    </tr>\n",
       "    <tr>\n",
       "      <th>mean</th>\n",
       "      <td>1.401917</td>\n",
       "      <td>0.028227</td>\n",
       "      <td>0.618597</td>\n",
       "      <td>0.003190</td>\n",
       "      <td>0.171244</td>\n",
       "      <td>0.001475</td>\n",
       "      <td>0.320738</td>\n",
       "      <td>0.0</td>\n",
       "      <td>0.000080</td>\n",
       "      <td>0.003092</td>\n",
       "      <td>...</td>\n",
       "      <td>0.002879</td>\n",
       "      <td>0.006441</td>\n",
       "      <td>0.042496</td>\n",
       "      <td>0.000347</td>\n",
       "      <td>0.012039</td>\n",
       "      <td>0.002674</td>\n",
       "      <td>0.032785</td>\n",
       "      <td>0.000107</td>\n",
       "      <td>0.001599</td>\n",
       "      <td>0.003190</td>\n",
       "    </tr>\n",
       "    <tr>\n",
       "      <th>std</th>\n",
       "      <td>2.009311</td>\n",
       "      <td>0.282452</td>\n",
       "      <td>1.260957</td>\n",
       "      <td>0.056857</td>\n",
       "      <td>0.545869</td>\n",
       "      <td>0.039516</td>\n",
       "      <td>1.069271</td>\n",
       "      <td>0.0</td>\n",
       "      <td>0.008942</td>\n",
       "      <td>0.058480</td>\n",
       "      <td>...</td>\n",
       "      <td>0.058187</td>\n",
       "      <td>0.084955</td>\n",
       "      <td>0.247019</td>\n",
       "      <td>0.019543</td>\n",
       "      <td>0.113686</td>\n",
       "      <td>0.052328</td>\n",
       "      <td>0.214178</td>\n",
       "      <td>0.010325</td>\n",
       "      <td>0.041271</td>\n",
       "      <td>0.056857</td>\n",
       "    </tr>\n",
       "    <tr>\n",
       "      <th>min</th>\n",
       "      <td>0.000000</td>\n",
       "      <td>0.000000</td>\n",
       "      <td>0.000000</td>\n",
       "      <td>0.000000</td>\n",
       "      <td>0.000000</td>\n",
       "      <td>0.000000</td>\n",
       "      <td>0.000000</td>\n",
       "      <td>0.0</td>\n",
       "      <td>0.000000</td>\n",
       "      <td>0.000000</td>\n",
       "      <td>...</td>\n",
       "      <td>0.000000</td>\n",
       "      <td>0.000000</td>\n",
       "      <td>0.000000</td>\n",
       "      <td>0.000000</td>\n",
       "      <td>0.000000</td>\n",
       "      <td>0.000000</td>\n",
       "      <td>0.000000</td>\n",
       "      <td>0.000000</td>\n",
       "      <td>0.000000</td>\n",
       "      <td>0.000000</td>\n",
       "    </tr>\n",
       "    <tr>\n",
       "      <th>25%</th>\n",
       "      <td>1.000000</td>\n",
       "      <td>0.000000</td>\n",
       "      <td>0.000000</td>\n",
       "      <td>0.000000</td>\n",
       "      <td>0.000000</td>\n",
       "      <td>0.000000</td>\n",
       "      <td>0.000000</td>\n",
       "      <td>0.0</td>\n",
       "      <td>0.000000</td>\n",
       "      <td>0.000000</td>\n",
       "      <td>...</td>\n",
       "      <td>0.000000</td>\n",
       "      <td>0.000000</td>\n",
       "      <td>0.000000</td>\n",
       "      <td>0.000000</td>\n",
       "      <td>0.000000</td>\n",
       "      <td>0.000000</td>\n",
       "      <td>0.000000</td>\n",
       "      <td>0.000000</td>\n",
       "      <td>0.000000</td>\n",
       "      <td>0.000000</td>\n",
       "    </tr>\n",
       "    <tr>\n",
       "      <th>50%</th>\n",
       "      <td>1.000000</td>\n",
       "      <td>0.000000</td>\n",
       "      <td>0.000000</td>\n",
       "      <td>0.000000</td>\n",
       "      <td>0.000000</td>\n",
       "      <td>0.000000</td>\n",
       "      <td>0.000000</td>\n",
       "      <td>0.0</td>\n",
       "      <td>0.000000</td>\n",
       "      <td>0.000000</td>\n",
       "      <td>...</td>\n",
       "      <td>0.000000</td>\n",
       "      <td>0.000000</td>\n",
       "      <td>0.000000</td>\n",
       "      <td>0.000000</td>\n",
       "      <td>0.000000</td>\n",
       "      <td>0.000000</td>\n",
       "      <td>0.000000</td>\n",
       "      <td>0.000000</td>\n",
       "      <td>0.000000</td>\n",
       "      <td>0.000000</td>\n",
       "    </tr>\n",
       "    <tr>\n",
       "      <th>75%</th>\n",
       "      <td>2.000000</td>\n",
       "      <td>0.000000</td>\n",
       "      <td>1.000000</td>\n",
       "      <td>0.000000</td>\n",
       "      <td>0.000000</td>\n",
       "      <td>0.000000</td>\n",
       "      <td>0.000000</td>\n",
       "      <td>0.0</td>\n",
       "      <td>0.000000</td>\n",
       "      <td>0.000000</td>\n",
       "      <td>...</td>\n",
       "      <td>0.000000</td>\n",
       "      <td>0.000000</td>\n",
       "      <td>0.000000</td>\n",
       "      <td>0.000000</td>\n",
       "      <td>0.000000</td>\n",
       "      <td>0.000000</td>\n",
       "      <td>0.000000</td>\n",
       "      <td>0.000000</td>\n",
       "      <td>0.000000</td>\n",
       "      <td>0.000000</td>\n",
       "    </tr>\n",
       "    <tr>\n",
       "      <th>max</th>\n",
       "      <td>95.000000</td>\n",
       "      <td>18.000000</td>\n",
       "      <td>44.000000</td>\n",
       "      <td>2.000000</td>\n",
       "      <td>17.000000</td>\n",
       "      <td>2.000000</td>\n",
       "      <td>66.000000</td>\n",
       "      <td>0.0</td>\n",
       "      <td>1.000000</td>\n",
       "      <td>2.000000</td>\n",
       "      <td>...</td>\n",
       "      <td>4.000000</td>\n",
       "      <td>4.000000</td>\n",
       "      <td>13.000000</td>\n",
       "      <td>2.000000</td>\n",
       "      <td>4.000000</td>\n",
       "      <td>2.000000</td>\n",
       "      <td>16.000000</td>\n",
       "      <td>1.000000</td>\n",
       "      <td>2.000000</td>\n",
       "      <td>2.000000</td>\n",
       "    </tr>\n",
       "  </tbody>\n",
       "</table>\n",
       "<p>8 rows × 88 columns</p>\n",
       "</div>"
      ],
      "text/plain": [
       "          Complaints    Compliments      Questions    Suggestions  \\\n",
       "count  112553.000000  112553.000000  112553.000000  112553.000000   \n",
       "mean        1.401917       0.028227       0.618597       0.003190   \n",
       "std         2.009311       0.282452       1.260957       0.056857   \n",
       "min         0.000000       0.000000       0.000000       0.000000   \n",
       "25%         1.000000       0.000000       0.000000       0.000000   \n",
       "50%         1.000000       0.000000       0.000000       0.000000   \n",
       "75%         2.000000       0.000000       1.000000       0.000000   \n",
       "max        95.000000      18.000000      44.000000       2.000000   \n",
       "\n",
       "       Complaints_Availability_GBNF  Complaints_Availability_Location  \\\n",
       "count                 112553.000000                     112553.000000   \n",
       "mean                       0.171244                          0.001475   \n",
       "std                        0.545869                          0.039516   \n",
       "min                        0.000000                          0.000000   \n",
       "25%                        0.000000                          0.000000   \n",
       "50%                        0.000000                          0.000000   \n",
       "75%                        0.000000                          0.000000   \n",
       "max                       17.000000                          2.000000   \n",
       "\n",
       "       Complaints_Availability_Product Availability  Complaints_Corporate_ELC  \\\n",
       "count                                 112553.000000                  112553.0   \n",
       "mean                                       0.320738                       0.0   \n",
       "std                                        1.069271                       0.0   \n",
       "min                                        0.000000                       0.0   \n",
       "25%                                        0.000000                       0.0   \n",
       "50%                                        0.000000                       0.0   \n",
       "75%                                        0.000000                       0.0   \n",
       "max                                       66.000000                       0.0   \n",
       "\n",
       "       Complaints_Corporate_Environmental  Complaints_Corporate_Pricing  ...  \\\n",
       "count                       112553.000000                 112553.000000  ...   \n",
       "mean                             0.000080                      0.003092  ...   \n",
       "std                              0.008942                      0.058480  ...   \n",
       "min                              0.000000                      0.000000  ...   \n",
       "25%                              0.000000                      0.000000  ...   \n",
       "50%                              0.000000                      0.000000  ...   \n",
       "75%                              0.000000                      0.000000  ...   \n",
       "max                              1.000000                      2.000000  ...   \n",
       "\n",
       "       Questions_Order_Returns  Questions_Product_General  \\\n",
       "count            112553.000000              112553.000000   \n",
       "mean                  0.002879                   0.006441   \n",
       "std                   0.058187                   0.084955   \n",
       "min                   0.000000                   0.000000   \n",
       "25%                   0.000000                   0.000000   \n",
       "50%                   0.000000                   0.000000   \n",
       "75%                   0.000000                   0.000000   \n",
       "max                   4.000000                   4.000000   \n",
       "\n",
       "       Questions_Product_Packaging  Questions_Product_Performance  \\\n",
       "count                112553.000000                  112553.000000   \n",
       "mean                      0.042496                       0.000347   \n",
       "std                       0.247019                       0.019543   \n",
       "min                       0.000000                       0.000000   \n",
       "25%                       0.000000                       0.000000   \n",
       "50%                       0.000000                       0.000000   \n",
       "75%                       0.000000                       0.000000   \n",
       "max                      13.000000                       2.000000   \n",
       "\n",
       "       Questions_Product_Usage Related  Questions_Service_Location  \\\n",
       "count                    112553.000000               112553.000000   \n",
       "mean                          0.012039                    0.002674   \n",
       "std                           0.113686                    0.052328   \n",
       "min                           0.000000                    0.000000   \n",
       "25%                           0.000000                    0.000000   \n",
       "50%                           0.000000                    0.000000   \n",
       "75%                           0.000000                    0.000000   \n",
       "max                           4.000000                    2.000000   \n",
       "\n",
       "       Questions_Service_Miscellaneous  Questions_Website_Offer Codes  \\\n",
       "count                    112553.000000                  112553.000000   \n",
       "mean                          0.032785                       0.000107   \n",
       "std                           0.214178                       0.010325   \n",
       "min                           0.000000                       0.000000   \n",
       "25%                           0.000000                       0.000000   \n",
       "50%                           0.000000                       0.000000   \n",
       "75%                           0.000000                       0.000000   \n",
       "max                          16.000000                       1.000000   \n",
       "\n",
       "       Questions_Website_Website functionality  \\\n",
       "count                            112553.000000   \n",
       "mean                                  0.001599   \n",
       "std                                   0.041271   \n",
       "min                                   0.000000   \n",
       "25%                                   0.000000   \n",
       "50%                                   0.000000   \n",
       "75%                                   0.000000   \n",
       "max                                   2.000000   \n",
       "\n",
       "       Suggestions_Suggestion_Miscellaneous  \n",
       "count                         112553.000000  \n",
       "mean                               0.003190  \n",
       "std                                0.056857  \n",
       "min                                0.000000  \n",
       "25%                                0.000000  \n",
       "50%                                0.000000  \n",
       "75%                                0.000000  \n",
       "max                                2.000000  \n",
       "\n",
       "[8 rows x 88 columns]"
      ]
     },
     "execution_count": 7,
     "metadata": {},
     "output_type": "execute_result"
    }
   ],
   "source": [
    "cc.describe()"
   ]
  },
  {
   "cell_type": "code",
   "execution_count": 8,
   "metadata": {
    "scrolled": true
   },
   "outputs": [
    {
     "data": {
      "text/html": [
       "<div>\n",
       "<style scoped>\n",
       "    .dataframe tbody tr th:only-of-type {\n",
       "        vertical-align: middle;\n",
       "    }\n",
       "\n",
       "    .dataframe tbody tr th {\n",
       "        vertical-align: top;\n",
       "    }\n",
       "\n",
       "    .dataframe thead th {\n",
       "        text-align: right;\n",
       "    }\n",
       "</style>\n",
       "<table border=\"1\" class=\"dataframe\">\n",
       "  <thead>\n",
       "    <tr style=\"text-align: right;\">\n",
       "      <th></th>\n",
       "      <th>Product Code</th>\n",
       "      <th>P4</th>\n",
       "      <th>Brand Clean</th>\n",
       "      <th>Date Month</th>\n",
       "      <th>Complaints</th>\n",
       "      <th>Compliments</th>\n",
       "      <th>Questions</th>\n",
       "      <th>Suggestions</th>\n",
       "      <th>Complaints_Availability_GBNF</th>\n",
       "      <th>Complaints_Availability_Location</th>\n",
       "      <th>...</th>\n",
       "      <th>Questions_Order_Returns</th>\n",
       "      <th>Questions_Product_General</th>\n",
       "      <th>Questions_Product_Packaging</th>\n",
       "      <th>Questions_Product_Performance</th>\n",
       "      <th>Questions_Product_Usage Related</th>\n",
       "      <th>Questions_Service_Location</th>\n",
       "      <th>Questions_Service_Miscellaneous</th>\n",
       "      <th>Questions_Website_Offer Codes</th>\n",
       "      <th>Questions_Website_Website functionality</th>\n",
       "      <th>Suggestions_Suggestion_Miscellaneous</th>\n",
       "    </tr>\n",
       "  </thead>\n",
       "  <tbody>\n",
       "    <tr>\n",
       "      <th>0</th>\n",
       "      <td>000P010000</td>\n",
       "      <td>000P</td>\n",
       "      <td>Origins</td>\n",
       "      <td>2019-03</td>\n",
       "      <td>0.0</td>\n",
       "      <td>0.0</td>\n",
       "      <td>1.0</td>\n",
       "      <td>0.0</td>\n",
       "      <td>0.0</td>\n",
       "      <td>0.0</td>\n",
       "      <td>...</td>\n",
       "      <td>0.0</td>\n",
       "      <td>0.0</td>\n",
       "      <td>0.0</td>\n",
       "      <td>0.0</td>\n",
       "      <td>0.0</td>\n",
       "      <td>0.0</td>\n",
       "      <td>0.0</td>\n",
       "      <td>0.0</td>\n",
       "      <td>0.0</td>\n",
       "      <td>0.0</td>\n",
       "    </tr>\n",
       "    <tr>\n",
       "      <th>1</th>\n",
       "      <td>000P010000</td>\n",
       "      <td>000P</td>\n",
       "      <td>Origins</td>\n",
       "      <td>2019-06</td>\n",
       "      <td>1.0</td>\n",
       "      <td>0.0</td>\n",
       "      <td>0.0</td>\n",
       "      <td>0.0</td>\n",
       "      <td>0.0</td>\n",
       "      <td>0.0</td>\n",
       "      <td>...</td>\n",
       "      <td>0.0</td>\n",
       "      <td>0.0</td>\n",
       "      <td>0.0</td>\n",
       "      <td>0.0</td>\n",
       "      <td>0.0</td>\n",
       "      <td>0.0</td>\n",
       "      <td>0.0</td>\n",
       "      <td>0.0</td>\n",
       "      <td>0.0</td>\n",
       "      <td>0.0</td>\n",
       "    </tr>\n",
       "    <tr>\n",
       "      <th>2</th>\n",
       "      <td>000P010000 1860</td>\n",
       "      <td>000P</td>\n",
       "      <td>Origins</td>\n",
       "      <td>2017-10</td>\n",
       "      <td>1.0</td>\n",
       "      <td>0.0</td>\n",
       "      <td>0.0</td>\n",
       "      <td>0.0</td>\n",
       "      <td>0.0</td>\n",
       "      <td>0.0</td>\n",
       "      <td>...</td>\n",
       "      <td>0.0</td>\n",
       "      <td>0.0</td>\n",
       "      <td>0.0</td>\n",
       "      <td>0.0</td>\n",
       "      <td>0.0</td>\n",
       "      <td>0.0</td>\n",
       "      <td>0.0</td>\n",
       "      <td>0.0</td>\n",
       "      <td>0.0</td>\n",
       "      <td>0.0</td>\n",
       "    </tr>\n",
       "    <tr>\n",
       "      <th>3</th>\n",
       "      <td>000P010000 1860</td>\n",
       "      <td>000P</td>\n",
       "      <td>Origins</td>\n",
       "      <td>2018-06</td>\n",
       "      <td>0.0</td>\n",
       "      <td>0.0</td>\n",
       "      <td>1.0</td>\n",
       "      <td>0.0</td>\n",
       "      <td>0.0</td>\n",
       "      <td>0.0</td>\n",
       "      <td>...</td>\n",
       "      <td>0.0</td>\n",
       "      <td>0.0</td>\n",
       "      <td>0.0</td>\n",
       "      <td>0.0</td>\n",
       "      <td>0.0</td>\n",
       "      <td>1.0</td>\n",
       "      <td>0.0</td>\n",
       "      <td>0.0</td>\n",
       "      <td>0.0</td>\n",
       "      <td>0.0</td>\n",
       "    </tr>\n",
       "    <tr>\n",
       "      <th>4</th>\n",
       "      <td>000P010000 1860</td>\n",
       "      <td>000P</td>\n",
       "      <td>Origins</td>\n",
       "      <td>2018-10</td>\n",
       "      <td>1.0</td>\n",
       "      <td>0.0</td>\n",
       "      <td>0.0</td>\n",
       "      <td>0.0</td>\n",
       "      <td>0.0</td>\n",
       "      <td>0.0</td>\n",
       "      <td>...</td>\n",
       "      <td>0.0</td>\n",
       "      <td>0.0</td>\n",
       "      <td>0.0</td>\n",
       "      <td>0.0</td>\n",
       "      <td>0.0</td>\n",
       "      <td>0.0</td>\n",
       "      <td>0.0</td>\n",
       "      <td>0.0</td>\n",
       "      <td>0.0</td>\n",
       "      <td>0.0</td>\n",
       "    </tr>\n",
       "    <tr>\n",
       "      <th>...</th>\n",
       "      <td>...</td>\n",
       "      <td>...</td>\n",
       "      <td>...</td>\n",
       "      <td>...</td>\n",
       "      <td>...</td>\n",
       "      <td>...</td>\n",
       "      <td>...</td>\n",
       "      <td>...</td>\n",
       "      <td>...</td>\n",
       "      <td>...</td>\n",
       "      <td>...</td>\n",
       "      <td>...</td>\n",
       "      <td>...</td>\n",
       "      <td>...</td>\n",
       "      <td>...</td>\n",
       "      <td>...</td>\n",
       "      <td>...</td>\n",
       "      <td>...</td>\n",
       "      <td>...</td>\n",
       "      <td>...</td>\n",
       "      <td>...</td>\n",
       "    </tr>\n",
       "    <tr>\n",
       "      <th>112548</th>\n",
       "      <td>ZYAC010000 1530</td>\n",
       "      <td>ZYAC</td>\n",
       "      <td>Clinique</td>\n",
       "      <td>2018-03</td>\n",
       "      <td>0.0</td>\n",
       "      <td>0.0</td>\n",
       "      <td>1.0</td>\n",
       "      <td>0.0</td>\n",
       "      <td>0.0</td>\n",
       "      <td>0.0</td>\n",
       "      <td>...</td>\n",
       "      <td>0.0</td>\n",
       "      <td>0.0</td>\n",
       "      <td>0.0</td>\n",
       "      <td>0.0</td>\n",
       "      <td>0.0</td>\n",
       "      <td>0.0</td>\n",
       "      <td>0.0</td>\n",
       "      <td>0.0</td>\n",
       "      <td>0.0</td>\n",
       "      <td>0.0</td>\n",
       "    </tr>\n",
       "    <tr>\n",
       "      <th>112549</th>\n",
       "      <td>ZYAC010000 1530</td>\n",
       "      <td>ZYAC</td>\n",
       "      <td>Clinique</td>\n",
       "      <td>2018-05</td>\n",
       "      <td>0.0</td>\n",
       "      <td>0.0</td>\n",
       "      <td>1.0</td>\n",
       "      <td>0.0</td>\n",
       "      <td>0.0</td>\n",
       "      <td>0.0</td>\n",
       "      <td>...</td>\n",
       "      <td>0.0</td>\n",
       "      <td>0.0</td>\n",
       "      <td>0.0</td>\n",
       "      <td>0.0</td>\n",
       "      <td>0.0</td>\n",
       "      <td>0.0</td>\n",
       "      <td>0.0</td>\n",
       "      <td>0.0</td>\n",
       "      <td>0.0</td>\n",
       "      <td>0.0</td>\n",
       "    </tr>\n",
       "    <tr>\n",
       "      <th>112550</th>\n",
       "      <td>ZYAC010000 1530</td>\n",
       "      <td>ZYAC</td>\n",
       "      <td>Clinique</td>\n",
       "      <td>2018-08</td>\n",
       "      <td>1.0</td>\n",
       "      <td>0.0</td>\n",
       "      <td>0.0</td>\n",
       "      <td>0.0</td>\n",
       "      <td>0.0</td>\n",
       "      <td>0.0</td>\n",
       "      <td>...</td>\n",
       "      <td>0.0</td>\n",
       "      <td>0.0</td>\n",
       "      <td>0.0</td>\n",
       "      <td>0.0</td>\n",
       "      <td>0.0</td>\n",
       "      <td>0.0</td>\n",
       "      <td>0.0</td>\n",
       "      <td>0.0</td>\n",
       "      <td>0.0</td>\n",
       "      <td>0.0</td>\n",
       "    </tr>\n",
       "    <tr>\n",
       "      <th>112551</th>\n",
       "      <td>ZYAE010000 1530</td>\n",
       "      <td>ZYAE</td>\n",
       "      <td>Clinique</td>\n",
       "      <td>2018-02</td>\n",
       "      <td>2.0</td>\n",
       "      <td>0.0</td>\n",
       "      <td>0.0</td>\n",
       "      <td>0.0</td>\n",
       "      <td>0.0</td>\n",
       "      <td>0.0</td>\n",
       "      <td>...</td>\n",
       "      <td>0.0</td>\n",
       "      <td>0.0</td>\n",
       "      <td>0.0</td>\n",
       "      <td>0.0</td>\n",
       "      <td>0.0</td>\n",
       "      <td>0.0</td>\n",
       "      <td>0.0</td>\n",
       "      <td>0.0</td>\n",
       "      <td>0.0</td>\n",
       "      <td>0.0</td>\n",
       "    </tr>\n",
       "    <tr>\n",
       "      <th>112552</th>\n",
       "      <td>ZYRLY61000 1530</td>\n",
       "      <td>ZYRL</td>\n",
       "      <td>Clinique</td>\n",
       "      <td>2017-11</td>\n",
       "      <td>0.0</td>\n",
       "      <td>0.0</td>\n",
       "      <td>1.0</td>\n",
       "      <td>0.0</td>\n",
       "      <td>0.0</td>\n",
       "      <td>0.0</td>\n",
       "      <td>...</td>\n",
       "      <td>0.0</td>\n",
       "      <td>0.0</td>\n",
       "      <td>0.0</td>\n",
       "      <td>0.0</td>\n",
       "      <td>0.0</td>\n",
       "      <td>0.0</td>\n",
       "      <td>0.0</td>\n",
       "      <td>0.0</td>\n",
       "      <td>0.0</td>\n",
       "      <td>0.0</td>\n",
       "    </tr>\n",
       "  </tbody>\n",
       "</table>\n",
       "<p>112553 rows × 92 columns</p>\n",
       "</div>"
      ],
      "text/plain": [
       "           Product Code    P4 Brand Clean Date Month  Complaints  Compliments  \\\n",
       "0            000P010000  000P     Origins    2019-03         0.0          0.0   \n",
       "1            000P010000  000P     Origins    2019-06         1.0          0.0   \n",
       "2       000P010000 1860  000P     Origins    2017-10         1.0          0.0   \n",
       "3       000P010000 1860  000P     Origins    2018-06         0.0          0.0   \n",
       "4       000P010000 1860  000P     Origins    2018-10         1.0          0.0   \n",
       "...                 ...   ...         ...        ...         ...          ...   \n",
       "112548  ZYAC010000 1530  ZYAC    Clinique    2018-03         0.0          0.0   \n",
       "112549  ZYAC010000 1530  ZYAC    Clinique    2018-05         0.0          0.0   \n",
       "112550  ZYAC010000 1530  ZYAC    Clinique    2018-08         1.0          0.0   \n",
       "112551  ZYAE010000 1530  ZYAE    Clinique    2018-02         2.0          0.0   \n",
       "112552  ZYRLY61000 1530  ZYRL    Clinique    2017-11         0.0          0.0   \n",
       "\n",
       "        Questions  Suggestions  Complaints_Availability_GBNF  \\\n",
       "0             1.0          0.0                           0.0   \n",
       "1             0.0          0.0                           0.0   \n",
       "2             0.0          0.0                           0.0   \n",
       "3             1.0          0.0                           0.0   \n",
       "4             0.0          0.0                           0.0   \n",
       "...           ...          ...                           ...   \n",
       "112548        1.0          0.0                           0.0   \n",
       "112549        1.0          0.0                           0.0   \n",
       "112550        0.0          0.0                           0.0   \n",
       "112551        0.0          0.0                           0.0   \n",
       "112552        1.0          0.0                           0.0   \n",
       "\n",
       "        Complaints_Availability_Location  ...  Questions_Order_Returns  \\\n",
       "0                                    0.0  ...                      0.0   \n",
       "1                                    0.0  ...                      0.0   \n",
       "2                                    0.0  ...                      0.0   \n",
       "3                                    0.0  ...                      0.0   \n",
       "4                                    0.0  ...                      0.0   \n",
       "...                                  ...  ...                      ...   \n",
       "112548                               0.0  ...                      0.0   \n",
       "112549                               0.0  ...                      0.0   \n",
       "112550                               0.0  ...                      0.0   \n",
       "112551                               0.0  ...                      0.0   \n",
       "112552                               0.0  ...                      0.0   \n",
       "\n",
       "        Questions_Product_General  Questions_Product_Packaging  \\\n",
       "0                             0.0                          0.0   \n",
       "1                             0.0                          0.0   \n",
       "2                             0.0                          0.0   \n",
       "3                             0.0                          0.0   \n",
       "4                             0.0                          0.0   \n",
       "...                           ...                          ...   \n",
       "112548                        0.0                          0.0   \n",
       "112549                        0.0                          0.0   \n",
       "112550                        0.0                          0.0   \n",
       "112551                        0.0                          0.0   \n",
       "112552                        0.0                          0.0   \n",
       "\n",
       "        Questions_Product_Performance  Questions_Product_Usage Related  \\\n",
       "0                                 0.0                              0.0   \n",
       "1                                 0.0                              0.0   \n",
       "2                                 0.0                              0.0   \n",
       "3                                 0.0                              0.0   \n",
       "4                                 0.0                              0.0   \n",
       "...                               ...                              ...   \n",
       "112548                            0.0                              0.0   \n",
       "112549                            0.0                              0.0   \n",
       "112550                            0.0                              0.0   \n",
       "112551                            0.0                              0.0   \n",
       "112552                            0.0                              0.0   \n",
       "\n",
       "        Questions_Service_Location  Questions_Service_Miscellaneous  \\\n",
       "0                              0.0                              0.0   \n",
       "1                              0.0                              0.0   \n",
       "2                              0.0                              0.0   \n",
       "3                              1.0                              0.0   \n",
       "4                              0.0                              0.0   \n",
       "...                            ...                              ...   \n",
       "112548                         0.0                              0.0   \n",
       "112549                         0.0                              0.0   \n",
       "112550                         0.0                              0.0   \n",
       "112551                         0.0                              0.0   \n",
       "112552                         0.0                              0.0   \n",
       "\n",
       "        Questions_Website_Offer Codes  \\\n",
       "0                                 0.0   \n",
       "1                                 0.0   \n",
       "2                                 0.0   \n",
       "3                                 0.0   \n",
       "4                                 0.0   \n",
       "...                               ...   \n",
       "112548                            0.0   \n",
       "112549                            0.0   \n",
       "112550                            0.0   \n",
       "112551                            0.0   \n",
       "112552                            0.0   \n",
       "\n",
       "        Questions_Website_Website functionality  \\\n",
       "0                                           0.0   \n",
       "1                                           0.0   \n",
       "2                                           0.0   \n",
       "3                                           0.0   \n",
       "4                                           0.0   \n",
       "...                                         ...   \n",
       "112548                                      0.0   \n",
       "112549                                      0.0   \n",
       "112550                                      0.0   \n",
       "112551                                      0.0   \n",
       "112552                                      0.0   \n",
       "\n",
       "        Suggestions_Suggestion_Miscellaneous  \n",
       "0                                        0.0  \n",
       "1                                        0.0  \n",
       "2                                        0.0  \n",
       "3                                        0.0  \n",
       "4                                        0.0  \n",
       "...                                      ...  \n",
       "112548                                   0.0  \n",
       "112549                                   0.0  \n",
       "112550                                   0.0  \n",
       "112551                                   0.0  \n",
       "112552                                   0.0  \n",
       "\n",
       "[112553 rows x 92 columns]"
      ]
     },
     "execution_count": 8,
     "metadata": {},
     "output_type": "execute_result"
    }
   ],
   "source": [
    "cc"
   ]
  },
  {
   "cell_type": "markdown",
   "metadata": {},
   "source": [
    "## Merge Data"
   ]
  },
  {
   "cell_type": "code",
   "execution_count": 9,
   "metadata": {},
   "outputs": [],
   "source": [
    "cc = cc.rename(columns = {\"Date Month\": \"date\", \"P4\": \"itemid_4\", \"Brand Clean\": \"elc_brand\"})"
   ]
  },
  {
   "cell_type": "code",
   "execution_count": 10,
   "metadata": {},
   "outputs": [],
   "source": [
    "cc = cc.groupby([\"date\", \"itemid_4\", \"elc_brand\"]).sum().reset_index()"
   ]
  },
  {
   "cell_type": "code",
   "execution_count": 11,
   "metadata": {},
   "outputs": [],
   "source": [
    "cc_reviews = reviews.merge(cc, how = \"left\")"
   ]
  },
  {
   "cell_type": "code",
   "execution_count": 12,
   "metadata": {},
   "outputs": [
    {
     "name": "stdout",
     "output_type": "stream",
     "text": [
      "64331\n",
      "64331\n"
     ]
    }
   ],
   "source": [
    "print(len(reviews))\n",
    "print(len(cc_reviews))"
   ]
  },
  {
   "cell_type": "markdown",
   "metadata": {},
   "source": [
    "## Create Target Encoding"
   ]
  },
  {
   "cell_type": "code",
   "execution_count": 13,
   "metadata": {},
   "outputs": [],
   "source": [
    "brand_encodings = cc_reviews.groupby(\"elc_brand\")[\"demand\"].mean().reset_index()\n",
    "brand_encodings = brand_encodings.rename(columns = {\"demand\": \"avg_brand_demand\"})"
   ]
  },
  {
   "cell_type": "code",
   "execution_count": 14,
   "metadata": {},
   "outputs": [],
   "source": [
    "product_encodings = cc_reviews.groupby(\"itemid_4\")[\"demand\"].mean().reset_index()\n",
    "product_encodings = product_encodings.rename(columns = {\"demand\": \"avg_product_demand\"})"
   ]
  },
  {
   "cell_type": "code",
   "execution_count": 15,
   "metadata": {},
   "outputs": [],
   "source": [
    "cc_reviews = cc_reviews.merge(brand_encodings, how = \"left\")\n",
    "cc_reviews = cc_reviews.merge(product_encodings, how = \"left\")"
   ]
  },
  {
   "cell_type": "markdown",
   "metadata": {},
   "source": [
    "## Basic Feature Engineering"
   ]
  },
  {
   "cell_type": "code",
   "execution_count": 16,
   "metadata": {},
   "outputs": [],
   "source": [
    "cc_reviews[\"month\"] = [x[-2:] for x in cc_reviews[\"date\"].values]\n",
    "cc_reviews[\"year\"] = [x[:4] for x in cc_reviews[\"date\"].values]"
   ]
  },
  {
   "cell_type": "code",
   "execution_count": 17,
   "metadata": {},
   "outputs": [
    {
     "data": {
      "text/html": [
       "<div>\n",
       "<style scoped>\n",
       "    .dataframe tbody tr th:only-of-type {\n",
       "        vertical-align: middle;\n",
       "    }\n",
       "\n",
       "    .dataframe tbody tr th {\n",
       "        vertical-align: top;\n",
       "    }\n",
       "\n",
       "    .dataframe thead th {\n",
       "        text-align: right;\n",
       "    }\n",
       "</style>\n",
       "<table border=\"1\" class=\"dataframe\">\n",
       "  <thead>\n",
       "    <tr style=\"text-align: right;\">\n",
       "      <th></th>\n",
       "      <th>brand</th>\n",
       "      <th>elc_brand</th>\n",
       "      <th>itemid_4</th>\n",
       "      <th>date</th>\n",
       "      <th>avg_nb_statements</th>\n",
       "      <th>nb_reviews</th>\n",
       "      <th>rating</th>\n",
       "      <th>rating_1</th>\n",
       "      <th>rating_2</th>\n",
       "      <th>rating_3</th>\n",
       "      <th>...</th>\n",
       "      <th>Questions_Product_Usage Related</th>\n",
       "      <th>Questions_Service_Location</th>\n",
       "      <th>Questions_Service_Miscellaneous</th>\n",
       "      <th>Questions_Website_Offer Codes</th>\n",
       "      <th>Questions_Website_Website functionality</th>\n",
       "      <th>Suggestions_Suggestion_Miscellaneous</th>\n",
       "      <th>avg_brand_demand</th>\n",
       "      <th>avg_product_demand</th>\n",
       "      <th>month</th>\n",
       "      <th>year</th>\n",
       "    </tr>\n",
       "  </thead>\n",
       "  <tbody>\n",
       "    <tr>\n",
       "      <th>0</th>\n",
       "      <td>AR</td>\n",
       "      <td>Aramis</td>\n",
       "      <td>2044</td>\n",
       "      <td>2020-01</td>\n",
       "      <td>3.000000</td>\n",
       "      <td>1</td>\n",
       "      <td>5.000000</td>\n",
       "      <td>0</td>\n",
       "      <td>0</td>\n",
       "      <td>0</td>\n",
       "      <td>...</td>\n",
       "      <td>NaN</td>\n",
       "      <td>NaN</td>\n",
       "      <td>NaN</td>\n",
       "      <td>NaN</td>\n",
       "      <td>NaN</td>\n",
       "      <td>NaN</td>\n",
       "      <td>657.937500</td>\n",
       "      <td>522.0</td>\n",
       "      <td>01</td>\n",
       "      <td>2020</td>\n",
       "    </tr>\n",
       "    <tr>\n",
       "      <th>1</th>\n",
       "      <td>AR</td>\n",
       "      <td>Aramis</td>\n",
       "      <td>2EC6</td>\n",
       "      <td>2015-05</td>\n",
       "      <td>2.000000</td>\n",
       "      <td>1</td>\n",
       "      <td>5.000000</td>\n",
       "      <td>0</td>\n",
       "      <td>0</td>\n",
       "      <td>0</td>\n",
       "      <td>...</td>\n",
       "      <td>NaN</td>\n",
       "      <td>NaN</td>\n",
       "      <td>NaN</td>\n",
       "      <td>NaN</td>\n",
       "      <td>NaN</td>\n",
       "      <td>NaN</td>\n",
       "      <td>657.937500</td>\n",
       "      <td>2960.0</td>\n",
       "      <td>05</td>\n",
       "      <td>2015</td>\n",
       "    </tr>\n",
       "    <tr>\n",
       "      <th>2</th>\n",
       "      <td>AR</td>\n",
       "      <td>Aramis</td>\n",
       "      <td>2EC6</td>\n",
       "      <td>2016-02</td>\n",
       "      <td>1.500000</td>\n",
       "      <td>2</td>\n",
       "      <td>5.000000</td>\n",
       "      <td>0</td>\n",
       "      <td>0</td>\n",
       "      <td>0</td>\n",
       "      <td>...</td>\n",
       "      <td>NaN</td>\n",
       "      <td>NaN</td>\n",
       "      <td>NaN</td>\n",
       "      <td>NaN</td>\n",
       "      <td>NaN</td>\n",
       "      <td>NaN</td>\n",
       "      <td>657.937500</td>\n",
       "      <td>2960.0</td>\n",
       "      <td>02</td>\n",
       "      <td>2016</td>\n",
       "    </tr>\n",
       "    <tr>\n",
       "      <th>3</th>\n",
       "      <td>AR</td>\n",
       "      <td>Aramis</td>\n",
       "      <td>2EC6</td>\n",
       "      <td>2018-04</td>\n",
       "      <td>2.000000</td>\n",
       "      <td>2</td>\n",
       "      <td>1.000000</td>\n",
       "      <td>2</td>\n",
       "      <td>0</td>\n",
       "      <td>0</td>\n",
       "      <td>...</td>\n",
       "      <td>NaN</td>\n",
       "      <td>NaN</td>\n",
       "      <td>NaN</td>\n",
       "      <td>NaN</td>\n",
       "      <td>NaN</td>\n",
       "      <td>NaN</td>\n",
       "      <td>657.937500</td>\n",
       "      <td>2960.0</td>\n",
       "      <td>04</td>\n",
       "      <td>2018</td>\n",
       "    </tr>\n",
       "    <tr>\n",
       "      <th>4</th>\n",
       "      <td>AR</td>\n",
       "      <td>Aramis</td>\n",
       "      <td>2EC8</td>\n",
       "      <td>2019-06</td>\n",
       "      <td>2.000000</td>\n",
       "      <td>1</td>\n",
       "      <td>1.000000</td>\n",
       "      <td>1</td>\n",
       "      <td>0</td>\n",
       "      <td>0</td>\n",
       "      <td>...</td>\n",
       "      <td>NaN</td>\n",
       "      <td>NaN</td>\n",
       "      <td>NaN</td>\n",
       "      <td>NaN</td>\n",
       "      <td>NaN</td>\n",
       "      <td>NaN</td>\n",
       "      <td>657.937500</td>\n",
       "      <td>0.0</td>\n",
       "      <td>06</td>\n",
       "      <td>2019</td>\n",
       "    </tr>\n",
       "    <tr>\n",
       "      <th>...</th>\n",
       "      <td>...</td>\n",
       "      <td>...</td>\n",
       "      <td>...</td>\n",
       "      <td>...</td>\n",
       "      <td>...</td>\n",
       "      <td>...</td>\n",
       "      <td>...</td>\n",
       "      <td>...</td>\n",
       "      <td>...</td>\n",
       "      <td>...</td>\n",
       "      <td>...</td>\n",
       "      <td>...</td>\n",
       "      <td>...</td>\n",
       "      <td>...</td>\n",
       "      <td>...</td>\n",
       "      <td>...</td>\n",
       "      <td>...</td>\n",
       "      <td>...</td>\n",
       "      <td>...</td>\n",
       "      <td>...</td>\n",
       "      <td>...</td>\n",
       "    </tr>\n",
       "    <tr>\n",
       "      <th>64326</th>\n",
       "      <td>TF</td>\n",
       "      <td>Tom Ford Beauty</td>\n",
       "      <td>T8FG</td>\n",
       "      <td>2019-11</td>\n",
       "      <td>1.500000</td>\n",
       "      <td>2</td>\n",
       "      <td>5.000000</td>\n",
       "      <td>0</td>\n",
       "      <td>0</td>\n",
       "      <td>0</td>\n",
       "      <td>...</td>\n",
       "      <td>NaN</td>\n",
       "      <td>NaN</td>\n",
       "      <td>NaN</td>\n",
       "      <td>NaN</td>\n",
       "      <td>NaN</td>\n",
       "      <td>NaN</td>\n",
       "      <td>2164.957391</td>\n",
       "      <td>0.0</td>\n",
       "      <td>11</td>\n",
       "      <td>2019</td>\n",
       "    </tr>\n",
       "    <tr>\n",
       "      <th>64327</th>\n",
       "      <td>TF</td>\n",
       "      <td>Tom Ford Beauty</td>\n",
       "      <td>T8N5</td>\n",
       "      <td>2019-09</td>\n",
       "      <td>4.000000</td>\n",
       "      <td>1</td>\n",
       "      <td>5.000000</td>\n",
       "      <td>0</td>\n",
       "      <td>0</td>\n",
       "      <td>0</td>\n",
       "      <td>...</td>\n",
       "      <td>NaN</td>\n",
       "      <td>NaN</td>\n",
       "      <td>NaN</td>\n",
       "      <td>NaN</td>\n",
       "      <td>NaN</td>\n",
       "      <td>NaN</td>\n",
       "      <td>2164.957391</td>\n",
       "      <td>0.0</td>\n",
       "      <td>09</td>\n",
       "      <td>2019</td>\n",
       "    </tr>\n",
       "    <tr>\n",
       "      <th>64328</th>\n",
       "      <td>TF</td>\n",
       "      <td>Tom Ford Beauty</td>\n",
       "      <td>T8N5</td>\n",
       "      <td>2020-01</td>\n",
       "      <td>8.000000</td>\n",
       "      <td>3</td>\n",
       "      <td>4.250000</td>\n",
       "      <td>0</td>\n",
       "      <td>0</td>\n",
       "      <td>0</td>\n",
       "      <td>...</td>\n",
       "      <td>NaN</td>\n",
       "      <td>NaN</td>\n",
       "      <td>NaN</td>\n",
       "      <td>NaN</td>\n",
       "      <td>NaN</td>\n",
       "      <td>NaN</td>\n",
       "      <td>2164.957391</td>\n",
       "      <td>0.0</td>\n",
       "      <td>01</td>\n",
       "      <td>2020</td>\n",
       "    </tr>\n",
       "    <tr>\n",
       "      <th>64329</th>\n",
       "      <td>TF</td>\n",
       "      <td>Tom Ford Beauty</td>\n",
       "      <td>T8N5</td>\n",
       "      <td>2020-02</td>\n",
       "      <td>4.333333</td>\n",
       "      <td>7</td>\n",
       "      <td>2.333333</td>\n",
       "      <td>6</td>\n",
       "      <td>0</td>\n",
       "      <td>0</td>\n",
       "      <td>...</td>\n",
       "      <td>NaN</td>\n",
       "      <td>NaN</td>\n",
       "      <td>NaN</td>\n",
       "      <td>NaN</td>\n",
       "      <td>NaN</td>\n",
       "      <td>NaN</td>\n",
       "      <td>2164.957391</td>\n",
       "      <td>0.0</td>\n",
       "      <td>02</td>\n",
       "      <td>2020</td>\n",
       "    </tr>\n",
       "    <tr>\n",
       "      <th>64330</th>\n",
       "      <td>TF</td>\n",
       "      <td>Tom Ford Beauty</td>\n",
       "      <td>T8N5</td>\n",
       "      <td>2020-03</td>\n",
       "      <td>4.458333</td>\n",
       "      <td>7</td>\n",
       "      <td>4.166667</td>\n",
       "      <td>1</td>\n",
       "      <td>0</td>\n",
       "      <td>0</td>\n",
       "      <td>...</td>\n",
       "      <td>NaN</td>\n",
       "      <td>NaN</td>\n",
       "      <td>NaN</td>\n",
       "      <td>NaN</td>\n",
       "      <td>NaN</td>\n",
       "      <td>NaN</td>\n",
       "      <td>2164.957391</td>\n",
       "      <td>0.0</td>\n",
       "      <td>03</td>\n",
       "      <td>2020</td>\n",
       "    </tr>\n",
       "  </tbody>\n",
       "</table>\n",
       "<p>64331 rows × 112 columns</p>\n",
       "</div>"
      ],
      "text/plain": [
       "      brand        elc_brand itemid_4     date  avg_nb_statements  nb_reviews  \\\n",
       "0        AR           Aramis     2044  2020-01           3.000000           1   \n",
       "1        AR           Aramis     2EC6  2015-05           2.000000           1   \n",
       "2        AR           Aramis     2EC6  2016-02           1.500000           2   \n",
       "3        AR           Aramis     2EC6  2018-04           2.000000           2   \n",
       "4        AR           Aramis     2EC8  2019-06           2.000000           1   \n",
       "...     ...              ...      ...      ...                ...         ...   \n",
       "64326    TF  Tom Ford Beauty     T8FG  2019-11           1.500000           2   \n",
       "64327    TF  Tom Ford Beauty     T8N5  2019-09           4.000000           1   \n",
       "64328    TF  Tom Ford Beauty     T8N5  2020-01           8.000000           3   \n",
       "64329    TF  Tom Ford Beauty     T8N5  2020-02           4.333333           7   \n",
       "64330    TF  Tom Ford Beauty     T8N5  2020-03           4.458333           7   \n",
       "\n",
       "         rating  rating_1  rating_2  rating_3  ...  \\\n",
       "0      5.000000         0         0         0  ...   \n",
       "1      5.000000         0         0         0  ...   \n",
       "2      5.000000         0         0         0  ...   \n",
       "3      1.000000         2         0         0  ...   \n",
       "4      1.000000         1         0         0  ...   \n",
       "...         ...       ...       ...       ...  ...   \n",
       "64326  5.000000         0         0         0  ...   \n",
       "64327  5.000000         0         0         0  ...   \n",
       "64328  4.250000         0         0         0  ...   \n",
       "64329  2.333333         6         0         0  ...   \n",
       "64330  4.166667         1         0         0  ...   \n",
       "\n",
       "       Questions_Product_Usage Related  Questions_Service_Location  \\\n",
       "0                                  NaN                         NaN   \n",
       "1                                  NaN                         NaN   \n",
       "2                                  NaN                         NaN   \n",
       "3                                  NaN                         NaN   \n",
       "4                                  NaN                         NaN   \n",
       "...                                ...                         ...   \n",
       "64326                              NaN                         NaN   \n",
       "64327                              NaN                         NaN   \n",
       "64328                              NaN                         NaN   \n",
       "64329                              NaN                         NaN   \n",
       "64330                              NaN                         NaN   \n",
       "\n",
       "       Questions_Service_Miscellaneous  Questions_Website_Offer Codes  \\\n",
       "0                                  NaN                            NaN   \n",
       "1                                  NaN                            NaN   \n",
       "2                                  NaN                            NaN   \n",
       "3                                  NaN                            NaN   \n",
       "4                                  NaN                            NaN   \n",
       "...                                ...                            ...   \n",
       "64326                              NaN                            NaN   \n",
       "64327                              NaN                            NaN   \n",
       "64328                              NaN                            NaN   \n",
       "64329                              NaN                            NaN   \n",
       "64330                              NaN                            NaN   \n",
       "\n",
       "       Questions_Website_Website functionality  \\\n",
       "0                                          NaN   \n",
       "1                                          NaN   \n",
       "2                                          NaN   \n",
       "3                                          NaN   \n",
       "4                                          NaN   \n",
       "...                                        ...   \n",
       "64326                                      NaN   \n",
       "64327                                      NaN   \n",
       "64328                                      NaN   \n",
       "64329                                      NaN   \n",
       "64330                                      NaN   \n",
       "\n",
       "       Suggestions_Suggestion_Miscellaneous  avg_brand_demand  \\\n",
       "0                                       NaN        657.937500   \n",
       "1                                       NaN        657.937500   \n",
       "2                                       NaN        657.937500   \n",
       "3                                       NaN        657.937500   \n",
       "4                                       NaN        657.937500   \n",
       "...                                     ...               ...   \n",
       "64326                                   NaN       2164.957391   \n",
       "64327                                   NaN       2164.957391   \n",
       "64328                                   NaN       2164.957391   \n",
       "64329                                   NaN       2164.957391   \n",
       "64330                                   NaN       2164.957391   \n",
       "\n",
       "       avg_product_demand  month  year  \n",
       "0                   522.0     01  2020  \n",
       "1                  2960.0     05  2015  \n",
       "2                  2960.0     02  2016  \n",
       "3                  2960.0     04  2018  \n",
       "4                     0.0     06  2019  \n",
       "...                   ...    ...   ...  \n",
       "64326                 0.0     11  2019  \n",
       "64327                 0.0     09  2019  \n",
       "64328                 0.0     01  2020  \n",
       "64329                 0.0     02  2020  \n",
       "64330                 0.0     03  2020  \n",
       "\n",
       "[64331 rows x 112 columns]"
      ]
     },
     "execution_count": 17,
     "metadata": {},
     "output_type": "execute_result"
    }
   ],
   "source": [
    "cc_reviews"
   ]
  },
  {
   "cell_type": "markdown",
   "metadata": {},
   "source": [
    "## PCA\n",
    "### Scale Features"
   ]
  },
  {
   "cell_type": "code",
   "execution_count": 18,
   "metadata": {},
   "outputs": [],
   "source": [
    "# Separating out the features\n",
    "x = cc_reviews.drop(['brand', 'elc_brand', 'itemid_4', 'date', 'demand'], axis = 1).fillna(0).values\n",
    "# Separating out the target\n",
    "y = cc_reviews.loc[:,['demand']]\n",
    "# Standardizing the features\n",
    "x = StandardScaler().fit_transform(x)"
   ]
  },
  {
   "cell_type": "markdown",
   "metadata": {},
   "source": [
    "### Fit Components"
   ]
  },
  {
   "cell_type": "code",
   "execution_count": 19,
   "metadata": {},
   "outputs": [
    {
     "data": {
      "text/plain": [
       "Text(0, 0.5, 'cumulative explained variance')"
      ]
     },
     "execution_count": 19,
     "metadata": {},
     "output_type": "execute_result"
    },
    {
     "data": {
      "image/png": "[encoded data removed]",
      "text/plain": [
       "<Figure size 432x288 with 1 Axes>"
      ]
     },
     "metadata": {
      "needs_background": "light"
     },
     "output_type": "display_data"
    }
   ],
   "source": [
    "pca = PCA().fit(x)\n",
    "plt.plot(np.cumsum(pca.explained_variance_ratio_))\n",
    "plt.xlabel('number of components')\n",
    "plt.ylabel('cumulative explained variance')"
   ]
  },
  {
   "cell_type": "code",
   "execution_count": 20,
   "metadata": {},
   "outputs": [],
   "source": [
    "pca = PCA(n_components=14)\n",
    "principalComponents = pca.fit_transform(x)\n",
    "principalDf = pd.DataFrame(data = principalComponents)"
   ]
  },
  {
   "cell_type": "code",
   "execution_count": 21,
   "metadata": {},
   "outputs": [
    {
     "data": {
      "text/plain": [
       "array([0.08259012, 0.07507556, 0.02935109, 0.02418104, 0.02069764,\n",
       "       0.02002706, 0.01744042, 0.01696465, 0.01540117, 0.01447569,\n",
       "       0.01273924, 0.01230276, 0.011973  , 0.0117163 ])"
      ]
     },
     "execution_count": 21,
     "metadata": {},
     "output_type": "execute_result"
    }
   ],
   "source": [
    "pca.explained_variance_ratio_"
   ]
  },
  {
   "cell_type": "markdown",
   "metadata": {},
   "source": [
    "## Run OLS"
   ]
  },
  {
   "cell_type": "code",
   "execution_count": 22,
   "metadata": {},
   "outputs": [],
   "source": [
    "X_train, X_test, y_train, y_test =train_test_split(principalDf, y)"
   ]
  },
  {
   "cell_type": "code",
   "execution_count": 23,
   "metadata": {},
   "outputs": [
    {
     "data": {
      "text/plain": [
       "LinearRegression(copy_X=True, fit_intercept=True, n_jobs=None, normalize=False)"
      ]
     },
     "execution_count": 23,
     "metadata": {},
     "output_type": "execute_result"
    }
   ],
   "source": [
    "lm = LinearRegression()\n",
    "lm.fit(X_train, y_train)"
   ]
  },
  {
   "cell_type": "code",
   "execution_count": 24,
   "metadata": {},
   "outputs": [
    {
     "data": {
      "text/plain": [
       "0.766071336449906"
      ]
     },
     "execution_count": 24,
     "metadata": {},
     "output_type": "execute_result"
    }
   ],
   "source": [
    "pred = lm.predict(X_test)\n",
    "metrics.r2_score(pred, y_test)"
   ]
  },
  {
   "cell_type": "code",
   "execution_count": 25,
   "metadata": {
    "scrolled": true
   },
   "outputs": [
    {
     "name": "stdout",
     "output_type": "stream",
     "text": [
      "                            OLS Regression Results                            \n",
      "==============================================================================\n",
      "Dep. Variable:                 demand   R-squared:                       0.700\n",
      "Model:                            OLS   Adj. R-squared:                  0.700\n",
      "Method:                 Least Squares   F-statistic:                     8031.\n",
      "Date:                Wed, 17 Jun 2020   Prob (F-statistic):               0.00\n",
      "Time:                        18:05:07   Log-Likelihood:            -6.1184e+05\n",
      "No. Observations:               48248   AIC:                         1.224e+06\n",
      "Df Residuals:                   48233   BIC:                         1.224e+06\n",
      "Df Model:                          14                                         \n",
      "Covariance Type:            nonrobust                                         \n",
      "==============================================================================\n",
      "                 coef    std err          t      P>|t|      [0.025      0.975]\n",
      "------------------------------------------------------------------------------\n",
      "const       2.397e+04    354.374     67.652      0.000    2.33e+04    2.47e+04\n",
      "0           2.324e+04    121.339    191.569      0.000     2.3e+04    2.35e+04\n",
      "1          -9634.9011    123.796    -77.829      0.000   -9877.544   -9392.259\n",
      "2          -4.102e+04    208.934   -196.332      0.000   -4.14e+04   -4.06e+04\n",
      "3           4.008e+04    230.793    173.683      0.000    3.96e+04    4.05e+04\n",
      "4           1.057e+04    242.979     43.507      0.000    1.01e+04     1.1e+04\n",
      "5           6049.5606    242.782     24.918      0.000    5573.704    6525.417\n",
      "6           3594.0881    269.136     13.354      0.000    3066.578    4121.598\n",
      "7           7943.7272    273.057     29.092      0.000    7408.531    8478.923\n",
      "8          -2558.6725    279.794     -9.145      0.000   -3107.072   -2010.273\n",
      "9          -1095.4684    276.147     -3.967      0.000   -1636.721    -554.216\n",
      "10         -5154.4645    329.166    -15.659      0.000   -5799.634   -4509.295\n",
      "11         -2134.0249    322.899     -6.609      0.000   -2766.912   -1501.138\n",
      "12          1198.0055    326.840      3.665      0.000     557.395    1838.615\n",
      "13          -410.1633    332.520     -1.234      0.217   -1061.906     241.580\n",
      "==============================================================================\n",
      "Omnibus:                   114072.108   Durbin-Watson:                   2.000\n",
      "Prob(Omnibus):                  0.000   Jarque-Bera (JB):       3086970172.183\n",
      "Skew:                          23.494   Prob(JB):                         0.00\n",
      "Kurtosis:                    1241.282   Cond. No.                         2.97\n",
      "==============================================================================\n",
      "\n",
      "Warnings:\n",
      "[1] Standard Errors assume that the covariance matrix of the errors is correctly specified.\n"
     ]
    }
   ],
   "source": [
    "X2 = sm.add_constant(X_train)\n",
    "est = sm.OLS(y_train, X2)\n",
    "est2 = est.fit()\n",
    "\n",
    "print(est2.summary())"
   ]
  },
  {
   "cell_type": "code",
   "execution_count": 26,
   "metadata": {},
   "outputs": [],
   "source": [
    "def myplot(score,coeff,labels=None):\n",
    "    xs = score[:,0]\n",
    "    ys = score[:,1]\n",
    "    n = coeff.shape[0]\n",
    "    scalex = 1.0/(xs.max() - xs.min())\n",
    "    scaley = 1.0/(ys.max() - ys.min())\n",
    "    plt.scatter(xs * scalex,ys * scaley)\n",
    "    for i in range(n):\n",
    "        plt.arrow(0, 0, coeff[i,0], coeff[i,1],color = 'r',alpha = 0.5)\n",
    "        if labels is None:\n",
    "            plt.text(coeff[i,0]* 1.15, coeff[i,1] * 1.15, \"Var\"+str(i+1), color = 'g', ha = 'center', va = 'center')\n",
    "        else:\n",
    "            plt.text(coeff[i,0]* 1.15, coeff[i,1] * 1.15, labels[i], color = 'g', ha = 'center', va = 'center')\n",
    "    plt.xlim(-1, 1)\n",
    "    plt.ylim(-1, 1)\n",
    "    plt.xlabel(\"PC{}\".format(1))\n",
    "    plt.ylabel(\"PC{}\".format(2))\n",
    "    plt.grid()"
   ]
  },
  {
   "cell_type": "code",
   "execution_count": 27,
   "metadata": {},
   "outputs": [
    {
     "data": {
      "image/png": "[encoded data removed]",
      "text/plain": [
       "<Figure size 432x288 with 1 Axes>"
      ]
     },
     "metadata": {
      "needs_background": "light"
     },
     "output_type": "display_data"
    }
   ],
   "source": [
    "#Call the function. Use only the 2 PCs.\n",
    "myplot(principalDf.values[:,0:2],np.transpose(pca.components_[0:2, :]), labels = cc_reviews.drop(['brand', 'elc_brand', 'itemid_4', 'date', 'demand'], axis = 1).columns)\n",
    "plt.show()"
   ]
  },
  {
   "cell_type": "code",
   "execution_count": 28,
   "metadata": {},
   "outputs": [
    {
     "data": {
      "image/png": "[encoded data removed]",
      "text/plain": [
       "<Figure size 432x288 with 1 Axes>"
      ]
     },
     "metadata": {
      "needs_background": "light"
     },
     "output_type": "display_data"
    }
   ],
   "source": [
    "myplot(principalDf.values[:,1:3],np.transpose(pca.components_[1:3, :]), labels = cc_reviews.drop(['brand', 'elc_brand', 'itemid_4', 'date', 'demand'], axis = 1).columns)\n",
    "plt.show()"
   ]
  },
  {
   "cell_type": "code",
   "execution_count": 29,
   "metadata": {},
   "outputs": [
    {
     "data": {
      "image/png": "[encoded data removed]",
      "text/plain": [
       "<Figure size 432x288 with 1 Axes>"
      ]
     },
     "metadata": {
      "needs_background": "light"
     },
     "output_type": "display_data"
    }
   ],
   "source": [
    "myplot(principalDf.values[:,2:4],np.transpose(pca.components_[2:4, :]), labels = cc_reviews.drop(['brand', 'elc_brand', 'itemid_4', 'date', 'demand'], axis = 1).columns)\n",
    "plt.show()"
   ]
  },
  {
   "cell_type": "code",
   "execution_count": 30,
   "metadata": {},
   "outputs": [
    {
     "data": {
      "image/png": "[encoded data removed]",
      "text/plain": [
       "<Figure size 432x288 with 1 Axes>"
      ]
     },
     "metadata": {
      "needs_background": "light"
     },
     "output_type": "display_data"
    }
   ],
   "source": [
    "myplot(principalDf.values[:,3:5],np.transpose(pca.components_[3:5, :]), labels = cc_reviews.drop(['brand', 'elc_brand', 'itemid_4', 'date', 'demand'], axis = 1).columns)\n",
    "plt.show()"
   ]
  },
  {
   "cell_type": "code",
   "execution_count": 31,
   "metadata": {},
   "outputs": [
    {
     "name": "stdout",
     "output_type": "stream",
     "text": [
      "Feature 0 , Explains 8.176548595055927%\n",
      "                                  0                    1\n",
      "0                        Complaints  0.27098967183245776\n",
      "1                         Questions  0.22132762298267933\n",
      "2       Complaints_Service_Location  0.21427527622927853\n",
      "3                avg_product_demand    0.208798641577559\n",
      "4  Complaints_Service_Miscellaneous  0.18704312434990406\n",
      "Feature 1 , Explains 7.432596224765874%\n",
      "                    0                    1\n",
      "0          nb_reviews  0.30183282553315066\n",
      "1   sentiment_neutral   0.3014955260463793\n",
      "2  sentiment_positive   0.2978112677736067\n",
      "3  sentiment_negative  0.29745173157170185\n",
      "4            rating_4   0.2943851840878465\n",
      "Feature 2 , Explains 2.9058033457180112%\n",
      "                                              0                    1\n",
      "0  Complaints_Availability_Product Availability   0.3872039832076046\n",
      "1                   Questions_Availability_GBNF    0.385250858050052\n",
      "2                  Complaints_Availability_GBNF   0.3341684582887549\n",
      "3                                     Questions  0.30123602190941695\n",
      "4                                    Complaints  0.12683372329648138\n",
      "Feature 3 , Explains 2.393960415235223%\n",
      "                             0                    1\n",
      "0                     demand_3  0.31607309475486983\n",
      "1                     demand_2  0.31481005760412023\n",
      "2                     demand_1   0.3088933489852421\n",
      "3           avg_product_demand   0.2790756412093756\n",
      "4  Questions_Availability_GBNF  0.24676763998080298\n",
      "Feature 4 , Explains 2.0490980745379535%\n",
      "                                         0                    1\n",
      "0     Suggestions_Suggestion_Miscellaneous   0.5963456886113992\n",
      "1                              Suggestions   0.5963456886113992\n",
      "2                              Compliments  0.21536488130750703\n",
      "3          Compliments_Product_Performance  0.20723747398867234\n",
      "4  Complaints_Marketing & PR_Brand Program  0.11993244648072428\n",
      "Feature 5 , Explains 1.9827102072015674%\n",
      "                                   0                    1\n",
      "0                        Compliments   0.6010807360097133\n",
      "1    Compliments_Product_Performance   0.5785714954234914\n",
      "2       Compliments_Service_Location  0.15379383416722467\n",
      "3          Compliments_Product_Scent  0.11047478994571366\n",
      "4  Compliments_Service_Ask an Artist  0.08975804795138811\n",
      "Feature 6 , Explains 1.726628561004123%\n",
      "                                           0                    1\n",
      "0                                     rating  0.39520465143822336\n",
      "1                                  sentiment  0.39247040906123415\n",
      "2  Questions_Formula / Ingredients_Chemicals   0.2768528984857862\n",
      "3  Questions_Formula / Ingredients_Fragrance  0.26018449439463726\n",
      "4      Questions_Formula / Ingredients_Other   0.2182356325392794\n",
      "Feature 7 , Explains 1.6795266218241447%\n",
      "                                                   0                    1\n",
      "0          Questions_Formula / Ingredients_Fragrance  0.29467633352438766\n",
      "1          Questions_Formula / Ingredients_Chemicals  0.28797832956949354\n",
      "2  Questions_Formula / Ingredients_Oils and Naturals  0.19589948663682533\n",
      "3                         Questions_Corporate_Safety  0.19559859938995788\n",
      "4              Questions_Formula / Ingredients_Other  0.17089263941592617\n",
      "Feature 8 , Explains 1.5247397699450613%\n",
      "                                           0                    1\n",
      "0               Compliments_Service_Location   0.2883138950903271\n",
      "1    Complaints_Marketing & PR_Back To M.A.C  0.24965918459787576\n",
      "2            Questions_Service_Miscellaneous  0.24861613568839058\n",
      "3  Questions_Formula / Ingredients_Colorants  0.23747591965046894\n",
      "4           Complaints_Service_Miscellaneous     0.22530400762149\n",
      "Feature 9 , Explains 1.4331159018850177%\n",
      "                                         0                    1\n",
      "0  Complaints_Marketing & PR_Brand Program   0.5429224547079183\n",
      "1            Questions_Website_Offer Codes   0.4410708756306441\n",
      "2   Questions_Marketing & PR_Back To M.A.C   0.2930678946400159\n",
      "3                Complaints_Order_Delivery  0.28576668666986565\n",
      "4  Questions_Website_Website functionality  0.28568175146463787\n",
      "Feature 10 , Explains 1.2612047996775122%\n",
      "                                          0                    1\n",
      "0                   Questions_Order_Returns  0.34865767912253637\n",
      "1  Complaints_Website_Website functionality   0.2800344301220512\n",
      "2          Complaints_Service_Ask an Artist  0.25054008832075986\n",
      "3                  Complaints_Order_Returns   0.2102880969002864\n",
      "4            Questions_Order_Options/Status   0.1482303377553985\n",
      "Feature 11 , Explains 1.2179921132731277%\n",
      "                                            0                    1\n",
      "0         Complaints_Product_Foreign Material  0.33534025773480713\n",
      "1      Questions_Marketing & PR_Brand Program   0.3301349061721281\n",
      "2  Questions_Marketing & PR_Marketing General  0.31029203864127625\n",
      "3                 Questions_Product_Packaging  0.23597252257475598\n",
      "4                    Complaints_Product_Scent  0.19653496481756041\n",
      "Feature 12 , Explains 1.1853450013187041%\n",
      "                                         0                    1\n",
      "0                                     year  0.41831540673807927\n",
      "1             Complaints_Corporate_Testing   0.2678264451307663\n",
      "2  Complaints_Marketing & PR_Back To M.A.C  0.25186220931299186\n",
      "3         Complaints_Service_Ask an Artist   0.1340039216554247\n",
      "4                 Complaints_Product_Scent  0.10278031743936598\n",
      "Feature 13 , Explains 1.1599313412644447%\n",
      "                                  0                    1\n",
      "0     Complaints_Order_Availability  0.27154843728263306\n",
      "1  Complaints_Service_Ask an Artist  0.24822736917855587\n",
      "2      Complaints_Corporate_Testing   0.2438373419610284\n",
      "3    Complaints_Website_Offer Codes    0.238940398301851\n",
      "4           Questions_Order_Returns  0.21108337217941595\n"
     ]
    }
   ],
   "source": [
    "for i,x in enumerate(pca.components_):\n",
    "    print(\"Feature \" + str(i), \", Explains \" + str(pca.explained_variance_[i]) + \"%\")\n",
    "    top = x.argsort()[-5:][::-1]\n",
    "    table = [list(cc_reviews.drop(['brand', 'elc_brand', 'itemid_4', 'date', 'demand'], axis = 1).columns[top]), x[top]]\n",
    "    df = pd.DataFrame(np.transpose(table))\n",
    "    print(df)"
   ]
  },
  {
   "cell_type": "markdown",
   "metadata": {},
   "source": [
    "## Let's try taking out the extra CC data"
   ]
  },
  {
   "cell_type": "code",
   "execution_count": 32,
   "metadata": {},
   "outputs": [],
   "source": [
    "slimmer = cc_reviews[[ 'avg_brand_demand',\n",
    "       'avg_product_demand', 'month', 'year','avg_nb_statements',\n",
    "       'nb_reviews', 'rating', 'rating_1', 'rating_2', 'rating_3',\n",
    "       'rating_4', 'rating_5', 'sentiment_negative', 'sentiment_neutral',\n",
    "       'sentiment_positive', 'sentiment', 'demand_1', 'demand_2',\n",
    "       'demand_3', 'Complaints', 'Compliments', 'Questions', 'Suggestions']]"
   ]
  },
  {
   "cell_type": "code",
   "execution_count": 33,
   "metadata": {},
   "outputs": [],
   "source": [
    "# Separating out the features\n",
    "slimmer_x = slimmer.fillna(0).values\n",
    "# Separating out the target\n",
    "y = cc_reviews.loc[:,['demand']]\n",
    "# Standardizing the features\n",
    "slimmer_x = StandardScaler().fit_transform(slimmer_x)"
   ]
  },
  {
   "cell_type": "code",
   "execution_count": 34,
   "metadata": {},
   "outputs": [
    {
     "data": {
      "text/plain": [
       "Text(0, 0.5, 'cumulative explained variance')"
      ]
     },
     "execution_count": 34,
     "metadata": {},
     "output_type": "execute_result"
    },
    {
     "data": {
      "image/png": "[encoded data removed]",
      "text/plain": [
       "<Figure size 432x288 with 1 Axes>"
      ]
     },
     "metadata": {
      "needs_background": "light"
     },
     "output_type": "display_data"
    }
   ],
   "source": [
    "pca = PCA().fit(slimmer_x)\n",
    "plt.plot(np.cumsum(pca.explained_variance_ratio_))\n",
    "plt.xlabel('number of components')\n",
    "plt.ylabel('cumulative explained variance')"
   ]
  },
  {
   "cell_type": "code",
   "execution_count": 35,
   "metadata": {},
   "outputs": [],
   "source": [
    "pca = PCA(n_components=14)\n",
    "principalComponents = pca.fit_transform(slimmer_x)\n",
    "principalDf = pd.DataFrame(data = principalComponents)"
   ]
  },
  {
   "cell_type": "code",
   "execution_count": 36,
   "metadata": {},
   "outputs": [],
   "source": [
    "X_train, X_test, y_train, y_test =train_test_split(principalDf, y)"
   ]
  },
  {
   "cell_type": "code",
   "execution_count": 37,
   "metadata": {},
   "outputs": [
    {
     "data": {
      "text/plain": [
       "0.7536168678235199"
      ]
     },
     "execution_count": 37,
     "metadata": {},
     "output_type": "execute_result"
    }
   ],
   "source": [
    "lm = LinearRegression()\n",
    "lm.fit(X_train, y_train)\n",
    "\n",
    "pred = lm.predict(X_test)\n",
    "metrics.r2_score(pred, y_test)"
   ]
  },
  {
   "cell_type": "code",
   "execution_count": 38,
   "metadata": {},
   "outputs": [
    {
     "name": "stdout",
     "output_type": "stream",
     "text": [
      "                            OLS Regression Results                            \n",
      "==============================================================================\n",
      "Dep. Variable:                 demand   R-squared:                       0.736\n",
      "Model:                            OLS   Adj. R-squared:                  0.736\n",
      "Method:                 Least Squares   F-statistic:                     9612.\n",
      "Date:                Wed, 17 Jun 2020   Prob (F-statistic):               0.00\n",
      "Time:                        18:05:15   Log-Likelihood:            -6.0976e+05\n",
      "No. Observations:               48248   AIC:                         1.220e+06\n",
      "Df Residuals:                   48233   BIC:                         1.220e+06\n",
      "Df Model:                          14                                         \n",
      "Covariance Type:            nonrobust                                         \n",
      "==============================================================================\n",
      "                 coef    std err          t      P>|t|      [0.025      0.975]\n",
      "------------------------------------------------------------------------------\n",
      "const       2.389e+04    339.445     70.370      0.000    2.32e+04    2.46e+04\n",
      "0           6834.4232    135.948     50.272      0.000    6567.964    7100.883\n",
      "1           6.102e+04    176.198    346.323      0.000    6.07e+04    6.14e+04\n",
      "2           4350.0788    261.903     16.610      0.000    3836.746    4863.411\n",
      "3            2.79e+04    275.241    101.364      0.000    2.74e+04    2.84e+04\n",
      "4           8275.8235    309.500     26.739      0.000    7669.200    8882.447\n",
      "5           1666.0766    331.002      5.033      0.000    1017.309    2314.845\n",
      "6             20.9387    339.944      0.062      0.951    -645.356     687.234\n",
      "7           6006.8636    333.434     18.015      0.000    5353.328    6660.399\n",
      "8          -3366.8538    352.791     -9.543      0.000   -4058.330   -2675.378\n",
      "9            398.2097    454.170      0.877      0.381    -491.969    1288.388\n",
      "10         -4082.4685    396.152    -10.305      0.000   -4858.931   -3306.006\n",
      "11            49.8772    531.504      0.094      0.925    -991.878    1091.633\n",
      "12          3250.9013    606.818      5.357      0.000    2061.530    4440.272\n",
      "13         -2784.0597    623.473     -4.465      0.000   -4006.075   -1562.045\n",
      "==============================================================================\n",
      "Omnibus:                   116915.927   Durbin-Watson:                   2.001\n",
      "Prob(Omnibus):                  0.000   Jarque-Bera (JB):       3864381938.593\n",
      "Skew:                          24.946   Prob(JB):                         0.00\n",
      "Kurtosis:                    1388.558   Cond. No.                         4.78\n",
      "==============================================================================\n",
      "\n",
      "Warnings:\n",
      "[1] Standard Errors assume that the covariance matrix of the errors is correctly specified.\n"
     ]
    }
   ],
   "source": [
    "X2 = sm.add_constant(X_train)\n",
    "est = sm.OLS(y_train, X2)\n",
    "est2 = est.fit()\n",
    "\n",
    "print(est2.summary())"
   ]
  },
  {
   "cell_type": "code",
   "execution_count": 39,
   "metadata": {},
   "outputs": [
    {
     "data": {
      "image/png": "[encoded data removed]",
      "text/plain": [
       "<Figure size 432x288 with 1 Axes>"
      ]
     },
     "metadata": {
      "needs_background": "light"
     },
     "output_type": "display_data"
    }
   ],
   "source": [
    "#Call the function. Use only the 2 PCs.\n",
    "myplot(principalDf.values[:,0:2],np.transpose(pca.components_[0:2, :]), labels = slimmer.columns)\n",
    "plt.show()"
   ]
  },
  {
   "cell_type": "code",
   "execution_count": 40,
   "metadata": {},
   "outputs": [
    {
     "name": "stdout",
     "output_type": "stream",
     "text": [
      "Feature 0 , Explains 7.655551761631162%\n",
      "                    0                    1\n",
      "0   sentiment_neutral   0.3524687209231502\n",
      "1          nb_reviews   0.3523814716680687\n",
      "2  sentiment_positive   0.3476993036223159\n",
      "3  sentiment_negative  0.34617283104779695\n",
      "4            rating_4   0.3386077093110344\n",
      "Feature 1 , Explains 3.7135784311939233%\n",
      "                    0                    1\n",
      "0  avg_product_demand  0.46919220115532834\n",
      "1            demand_2   0.4528159632151622\n",
      "2            demand_1   0.4509817196413351\n",
      "3            demand_3    0.445453448121726\n",
      "4          Complaints  0.29620839187979653\n",
      "Feature 2 , Explains 1.6966688417448685%\n",
      "                    0                    1\n",
      "0              rating   0.6616645948118653\n",
      "1           sentiment    0.652404623274334\n",
      "2            rating_5  0.10750107660293683\n",
      "3  sentiment_positive  0.07914035600562033\n",
      "4          nb_reviews  0.06390223592601059\n",
      "Feature 3 , Explains 1.483386704705437%\n",
      "                    0                    1\n",
      "0            demand_3  0.21668568154596085\n",
      "1            demand_2  0.21178536403320958\n",
      "2            demand_1  0.21123266977080601\n",
      "3  avg_product_demand  0.09327653020061413\n",
      "4               month  0.08789719373506151\n",
      "Feature 4 , Explains 1.20210471922499%\n",
      "           0                    1\n",
      "0       year    0.602720275744421\n",
      "1   demand_3  0.07541536617583332\n",
      "2   demand_2  0.07417245067084852\n",
      "3  sentiment  0.07049265127523989\n",
      "4   demand_1  0.06980824125753647\n",
      "Feature 5 , Explains 1.054315494886937%\n",
      "                   0                    1\n",
      "0  avg_nb_statements   0.7579163320761532\n",
      "1        Suggestions  0.10524392633153085\n",
      "2             rating   0.1049770693995454\n",
      "3          Questions  0.06696335172837575\n",
      "4         Complaints  0.06257069340591183\n",
      "Feature 6 , Explains 0.9767325184783697%\n",
      "             0                     1\n",
      "0  Compliments    0.8893736262340226\n",
      "1        month   0.16320660064603698\n",
      "2     demand_1  0.011855802508282831\n",
      "3     rating_4   0.01184758636429194\n",
      "4     demand_2  0.011013096943226781\n",
      "Feature 7 , Explains 0.9647430228619617%\n",
      "             0                     1\n",
      "0  Suggestions    0.9028978191262281\n",
      "1  Compliments   0.27065119212085403\n",
      "2     demand_1  0.043947020205087804\n",
      "3     demand_3   0.03185716556119522\n",
      "4     demand_2  0.031554300781031164\n",
      "Feature 8 , Explains 0.9222647816229067%\n",
      "                   0                    1\n",
      "0   avg_brand_demand   0.6530152472452716\n",
      "1  avg_nb_statements   0.5242443642507177\n",
      "2        Compliments    0.302187440621399\n",
      "3             rating  0.04537878427240224\n",
      "4           rating_5   0.0378493645845206\n",
      "Feature 9 , Explains 0.7360670266830028%\n",
      "                    0                    1\n",
      "0            rating_5   0.3857020656954122\n",
      "1  sentiment_positive   0.2589619994906764\n",
      "2            rating_4  0.21550439571223967\n",
      "3          nb_reviews  0.21171261117262946\n",
      "4   sentiment_neutral  0.12330529956724227\n",
      "Feature 10 , Explains 0.7328977479899347%\n",
      "            0                     1\n",
      "0   Questions   0.17239161943326634\n",
      "1  Complaints   0.08969637377009941\n",
      "2    rating_1   0.07268676471967009\n",
      "3   sentiment  0.055541726257880314\n",
      "4    rating_2  0.053569593528349856\n",
      "Feature 11 , Explains 0.40507023163390166%\n",
      "                    0                    1\n",
      "0              rating   0.6516700748490621\n",
      "1            rating_2   0.1660354879082256\n",
      "2  sentiment_negative  0.15016093840547864\n",
      "3            rating_3   0.1400842769439479\n",
      "4           Questions  0.02647588463420355\n",
      "Feature 12 , Explains 0.3069609782572328%\n",
      "                    0                    1\n",
      "0            rating_3   0.4313509953587567\n",
      "1            rating_2  0.28534568343966393\n",
      "2            rating_4   0.2600653357235263\n",
      "3           sentiment  0.14072084235916524\n",
      "4  sentiment_negative   0.1028880498446509\n",
      "Feature 13 , Explains 0.2886569208355244%\n",
      "                    0                     1\n",
      "0          Complaints    0.7206102197780244\n",
      "1  avg_product_demand   0.05257015075287987\n",
      "2            rating_3   0.03637338222643356\n",
      "3            rating_4   0.02744602885685442\n",
      "4            rating_2  0.022275313926070687\n"
     ]
    }
   ],
   "source": [
    "for i,x in enumerate(pca.components_):\n",
    "    print(\"Feature \" + str(i), \", Explains \" + str(pca.explained_variance_[i]) + \"%\")\n",
    "    top = x.argsort()[-5:][::-1]\n",
    "    table = [list(slimmer.columns[top]), x[top]]\n",
    "    df = pd.DataFrame(np.transpose(table))\n",
    "    print(df)"
   ]
  },
  {
   "cell_type": "markdown",
   "metadata": {},
   "source": [
    "Okay, I think there are a lot of issues with this approach. First, I think we should be predicting the next month's demand and we should also be working with fractions and not counts\n",
    "\n",
    "Working with the lagged features makes more sense because then when you control with the previous month's demand, you are able to actually use the count values (because we're already controling for the voluming at the time the reviews were produced).\n",
    "\n",
    "Other thought, Anis mentioned that there was a bit weird variability on the product level, so what if we summarize on the category and product level? Are our results better there?"
   ]
  },
  {
   "cell_type": "markdown",
   "metadata": {},
   "source": [
    "## For Tomorrow\n",
    "1. Shift around data so we are predicting this month's demand with last months (or earlier) data\n",
    "2. Try summarizing on category and a brand level\n",
    "3. Move features to relative (percentages...maybe normalized?) measures instead of direct measures"
   ]
  },
  {
   "cell_type": "markdown",
   "metadata": {},
   "source": [
    "## Join with Product Catalog"
   ]
  },
  {
   "cell_type": "code",
   "execution_count": 41,
   "metadata": {},
   "outputs": [
    {
     "name": "stderr",
     "output_type": "stream",
     "text": [
      "C:\\Users\\cfowle\\Anaconda3\\lib\\site-packages\\IPython\\core\\interactiveshell.py:3063: DtypeWarning: Columns (9,12,23,26,28) have mixed types.Specify dtype option on import or set low_memory=False.\n",
      "  interactivity=interactivity, compiler=compiler, result=result)\n"
     ]
    }
   ],
   "source": [
    "products = pd.read_csv(onedrive_path + \"Data/Product/product_codes.csv\")"
   ]
  },
  {
   "cell_type": "code",
   "execution_count": 42,
   "metadata": {},
   "outputs": [],
   "source": [
    "products = products.rename(columns = {\"P4\": \"itemid_4\", \"brand\": \"elc_brand\"})\n",
    "products = products[[\"elc_brand\", \"itemid_4\", 'Major Category', 'Application', 'Category',\n",
    "       'SubCategory']].drop_duplicates([\"elc_brand\", \"itemid_4\"])"
   ]
  },
  {
   "cell_type": "code",
   "execution_count": 43,
   "metadata": {
    "scrolled": true
   },
   "outputs": [],
   "source": [
    "cc_product = cc.merge(products, how = \"left\", on = [\"itemid_4\", \"elc_brand\"])"
   ]
  },
  {
   "cell_type": "code",
   "execution_count": 45,
   "metadata": {},
   "outputs": [
    {
     "data": {
      "text/plain": [
       "Index(['date', 'itemid_4', 'elc_brand', 'Complaints', 'Compliments',\n",
       "       'Questions', 'Suggestions', 'Complaints_Availability_GBNF',\n",
       "       'Complaints_Availability_Location',\n",
       "       'Complaints_Availability_Product Availability',\n",
       "       'Complaints_Corporate_ELC', 'Complaints_Corporate_Environmental',\n",
       "       'Complaints_Corporate_Pricing', 'Complaints_Corporate_Privacy',\n",
       "       'Complaints_Corporate_Testing',\n",
       "       'Complaints_Corporate_Unauthorized Account',\n",
       "       'Complaints_Formula / Ingredients_Formula',\n",
       "       'Complaints_Marketing & PR_Advertising',\n",
       "       'Complaints_Marketing & PR_Back To M.A.C',\n",
       "       'Complaints_Marketing & PR_Brand Program',\n",
       "       'Complaints_Marketing & PR_Loyalty',\n",
       "       'Complaints_Marketing & PR_Marketing General',\n",
       "       'Complaints_Marketing & PR_Promotions/GWP/PWP',\n",
       "       'Complaints_Order_Availability', 'Complaints_Order_Delivery',\n",
       "       'Complaints_Order_Options/Status', 'Complaints_Order_Returns',\n",
       "       'Complaints_Product_Accidental Damage',\n",
       "       'Complaints_Product_Alleged Adverse Event', 'Complaints_Product_Color',\n",
       "       'Complaints_Product_Consistency', 'Complaints_Product_Foreign Material',\n",
       "       'Complaints_Product_Packaging', 'Complaints_Product_Performance',\n",
       "       'Complaints_Product_Scent', 'Complaints_Product_Usage Related',\n",
       "       'Complaints_Service_Ask an Artist',\n",
       "       'Complaints_Service_Consumer Services Advisor',\n",
       "       'Complaints_Service_Location', 'Complaints_Service_Miscellaneous',\n",
       "       'Complaints_Website_Offer Codes',\n",
       "       'Complaints_Website_Website functionality', 'Compliments_Corporate_nan',\n",
       "       'Compliments_Product_Performance', 'Compliments_Product_Scent',\n",
       "       'Compliments_Service_Ask an Artist',\n",
       "       'Compliments_Service_Consumer Services Advisor',\n",
       "       'Compliments_Service_Location', 'Questions_Availability_GBNF',\n",
       "       'Questions_Availability_Where To Buy', 'Questions_Corporate_BCRF',\n",
       "       'Questions_Corporate_Charitable Contribution',\n",
       "       'Questions_Corporate_Distribution', 'Questions_Corporate_ELC',\n",
       "       'Questions_Corporate_Environmental',\n",
       "       'Questions_Corporate_Manufacturing', 'Questions_Corporate_Privacy',\n",
       "       'Questions_Corporate_Safety', 'Questions_Corporate_Testing',\n",
       "       'Questions_Formula / Ingredients_Allergens',\n",
       "       'Questions_Formula / Ingredients_Animal',\n",
       "       'Questions_Formula / Ingredients_Chemicals',\n",
       "       'Questions_Formula / Ingredients_Colorants',\n",
       "       'Questions_Formula / Ingredients_Formula',\n",
       "       'Questions_Formula / Ingredients_Fragrance',\n",
       "       'Questions_Formula / Ingredients_Oils and Naturals',\n",
       "       'Questions_Formula / Ingredients_Other',\n",
       "       'Questions_Formula / Ingredients_Plastics',\n",
       "       'Questions_Formula / Ingredients_Sunscreen',\n",
       "       'Questions_Formula / Ingredients_Vitamins',\n",
       "       'Questions_Marketing & PR_Advertising',\n",
       "       'Questions_Marketing & PR_Back To M.A.C',\n",
       "       'Questions_Marketing & PR_Brand Program',\n",
       "       'Questions_Marketing & PR_Loyalty',\n",
       "       'Questions_Marketing & PR_Marketing General',\n",
       "       'Questions_Marketing & PR_Promotions/GWP/PWP',\n",
       "       'Questions_Order_Corporate Related Enquiry',\n",
       "       'Questions_Order_Corporate Related Orders', 'Questions_Order_Delivery',\n",
       "       'Questions_Order_MAIL ORDER', 'Questions_Order_Options/Status',\n",
       "       'Questions_Order_Returns', 'Questions_Product_General',\n",
       "       'Questions_Product_Packaging', 'Questions_Product_Performance',\n",
       "       'Questions_Product_Usage Related', 'Questions_Service_Location',\n",
       "       'Questions_Service_Miscellaneous', 'Questions_Website_Offer Codes',\n",
       "       'Questions_Website_Website functionality',\n",
       "       'Suggestions_Suggestion_Miscellaneous', 'Major Category', 'Application',\n",
       "       'Category', 'SubCategory'],\n",
       "      dtype='object')"
      ]
     },
     "execution_count": 45,
     "metadata": {},
     "output_type": "execute_result"
    }
   ],
   "source": [
    "cc_product.columns"
   ]
  },
  {
   "cell_type": "markdown",
   "metadata": {},
   "source": [
    "## Group By Subcategory"
   ]
  },
  {
   "cell_type": "code",
   "execution_count": 113,
   "metadata": {},
   "outputs": [],
   "source": [
    "subcat = cc_product.groupby([\"elc_brand\", \"date\", \"SubCategory\"]).sum().reset_index()"
   ]
  },
  {
   "cell_type": "markdown",
   "metadata": {},
   "source": [
    "## Join with R&R"
   ]
  },
  {
   "cell_type": "code",
   "execution_count": 94,
   "metadata": {},
   "outputs": [
    {
     "name": "stderr",
     "output_type": "stream",
     "text": [
      "C:\\Users\\cfowle\\Anaconda3\\lib\\site-packages\\IPython\\core\\interactiveshell.py:3063: DtypeWarning: Columns (5) have mixed types.Specify dtype option on import or set low_memory=False.\n",
      "  interactivity=interactivity, compiler=compiler, result=result)\n"
     ]
    }
   ],
   "source": [
    "rr_forward = pd.read_csv(onedrive_path + \"Data/Ratings and Reviews/reviews_demand_subcat.csv\")"
   ]
  },
  {
   "cell_type": "code",
   "execution_count": 95,
   "metadata": {},
   "outputs": [],
   "source": [
    "rr_forward = rr_forward.drop([\"avg_nb_statements\", \"rating\", \"sentiment\"], axis = 1)"
   ]
  },
  {
   "cell_type": "code",
   "execution_count": 96,
   "metadata": {},
   "outputs": [],
   "source": [
    "rr_forward = rr_forward.groupby([\"elc_brand\", \"sub_category\", \"date\"]).sum().reset_index()"
   ]
  },
  {
   "cell_type": "code",
   "execution_count": 114,
   "metadata": {},
   "outputs": [],
   "source": [
    "subcat = subcat.rename(columns = {\"SubCategory\": \"sub_category\"})\n",
    "subcat = rr_forward.merge(subcat, how = \"left\", on = [\"elc_brand\", \"sub_category\", \"date\"])"
   ]
  },
  {
   "cell_type": "markdown",
   "metadata": {},
   "source": [
    "## Create Relative Measures"
   ]
  },
  {
   "cell_type": "code",
   "execution_count": 115,
   "metadata": {},
   "outputs": [],
   "source": [
    "subcat[\"percent_1\"] = subcat[\"rating_1\"]/subcat[\"nb_reviews\"]\n",
    "subcat[\"percent_2\"] = subcat[\"rating_2\"]/subcat[\"nb_reviews\"]\n",
    "subcat[\"percent_3\"] = subcat[\"rating_3\"]/subcat[\"nb_reviews\"]\n",
    "subcat[\"percent_4\"] = subcat[\"rating_4\"]/subcat[\"nb_reviews\"]\n",
    "subcat[\"percent_5\"] = subcat[\"rating_5\"]/subcat[\"nb_reviews\"]"
   ]
  },
  {
   "cell_type": "code",
   "execution_count": 116,
   "metadata": {},
   "outputs": [],
   "source": [
    "subcat[\"percent_negative\"] = subcat['sentiment_negative']/subcat[\"nb_reviews\"]\n",
    "subcat[\"percent_neutral\"] = subcat['sentiment_neutral']/subcat[\"nb_reviews\"]\n",
    "subcat[\"percent_positive\"] = subcat['sentiment_positive']/subcat[\"nb_reviews\"]"
   ]
  },
  {
   "cell_type": "code",
   "execution_count": 117,
   "metadata": {},
   "outputs": [],
   "source": [
    "subcat[\"cc_tot\"] = subcat['Complaints'] + subcat['Compliments'] + subcat['Questions'] + subcat['Suggestions']"
   ]
  },
  {
   "cell_type": "code",
   "execution_count": 101,
   "metadata": {},
   "outputs": [
    {
     "data": {
      "text/plain": [
       "Index(['elc_brand', 'sub_category', 'date', 'major_category_id', 'nb_reviews',\n",
       "       'rating_1', 'rating_2', 'rating_3', 'rating_4', 'rating_5',\n",
       "       'sentiment_negative', 'sentiment_neutral', 'sentiment_positive',\n",
       "       'demand_P1', 'demand_P2', 'demand', 'demand_F1', 'demand_F2'],\n",
       "      dtype='object')"
      ]
     },
     "execution_count": 101,
     "metadata": {},
     "output_type": "execute_result"
    }
   ],
   "source": [
    "rr_forward.columns"
   ]
  },
  {
   "cell_type": "code",
   "execution_count": 118,
   "metadata": {},
   "outputs": [],
   "source": [
    "non_cc_cols = ['elc_brand', \"sub_category\", \"date\", \"major_category_id\",'nb_reviews', 'rating_1', 'rating_2',\n",
    "       'rating_3', 'rating_4', 'rating_5', 'sentiment_negative',\n",
    "       'sentiment_neutral','percent_1', 'percent_2',\n",
    "       'percent_3', 'percent_4', 'percent_5', 'sentiment_positive', 'demand_P1', 'demand_P2', 'demand',\n",
    "       'demand_F1', 'demand_F2', 'percent_negative',\n",
    "       'percent_neutral', 'percent_positive']\n",
    "cc_summary = ['Complaints', 'Compliments', 'Questions', 'Suggestions', \"cc_tot\"]\n",
    "cc_cats = subcat.drop(non_cc_cols + cc_summary, axis = 1).columns"
   ]
  },
  {
   "cell_type": "code",
   "execution_count": 55,
   "metadata": {},
   "outputs": [],
   "source": [
    "for col in cc_cats:\n",
    "    subcat[col + \"_percent\"] = subcat[col]/subcat[\"cc_tot\"]"
   ]
  },
  {
   "cell_type": "code",
   "execution_count": 119,
   "metadata": {},
   "outputs": [],
   "source": [
    "percent_cols = []\n",
    "for col in subcat.columns:\n",
    "    if(col[-8:] == \"_percent\" or col[:8] == \"percent_\"):\n",
    "        percent_cols.append(col)"
   ]
  },
  {
   "cell_type": "code",
   "execution_count": 120,
   "metadata": {},
   "outputs": [],
   "source": [
    "subcat_percent = subcat[percent_cols]"
   ]
  },
  {
   "cell_type": "code",
   "execution_count": 121,
   "metadata": {},
   "outputs": [],
   "source": [
    "all_data = pd.concat([subcat_percent, subcat[['demand_F1','demand_P1', 'demand_P2', 'demand']]], axis = 1).dropna()\n",
    "y = all_data[\"demand_F1\"]\n",
    "X = all_data.drop(\"demand_F1\", axis = 1)"
   ]
  },
  {
   "cell_type": "markdown",
   "metadata": {},
   "source": [
    "## Try Plain Ol'OLS on this"
   ]
  },
  {
   "cell_type": "code",
   "execution_count": 122,
   "metadata": {},
   "outputs": [],
   "source": [
    "X_train, X_test, y_train, y_test = train_test_split(X, y)"
   ]
  },
  {
   "cell_type": "code",
   "execution_count": 123,
   "metadata": {},
   "outputs": [
    {
     "data": {
      "text/plain": [
       "0.7950654003255578"
      ]
     },
     "execution_count": 123,
     "metadata": {},
     "output_type": "execute_result"
    }
   ],
   "source": [
    "lm = LinearRegression()\n",
    "lm.fit(X_train, y_train)\n",
    "\n",
    "pred = lm.predict(X_test)\n",
    "metrics.r2_score(pred, y_test)"
   ]
  },
  {
   "cell_type": "markdown",
   "metadata": {},
   "source": [
    "## Let's apply PCA and see what happens"
   ]
  },
  {
   "cell_type": "code",
   "execution_count": 124,
   "metadata": {},
   "outputs": [
    {
     "data": {
      "text/plain": [
       "Text(0, 0.5, 'cumulative explained variance')"
      ]
     },
     "execution_count": 124,
     "metadata": {},
     "output_type": "execute_result"
    },
    {
     "data": {
      "image/png": "[encoded data removed]",
      "text/plain": [
       "<Figure size 432x288 with 1 Axes>"
      ]
     },
     "metadata": {
      "needs_background": "light"
     },
     "output_type": "display_data"
    }
   ],
   "source": [
    "X = StandardScaler().fit_transform(X)\n",
    "pca = PCA().fit(X)\n",
    "plt.plot(np.cumsum(pca.explained_variance_ratio_))\n",
    "plt.xlabel('number of components')\n",
    "plt.ylabel('cumulative explained variance')"
   ]
  },
  {
   "cell_type": "code",
   "execution_count": 135,
   "metadata": {},
   "outputs": [],
   "source": [
    "pca = PCA(n_components=4)\n",
    "principalComponents = pca.fit_transform(X)\n",
    "principalDf = pd.DataFrame(data = principalComponents)"
   ]
  },
  {
   "cell_type": "code",
   "execution_count": 136,
   "metadata": {},
   "outputs": [],
   "source": [
    "X_train, X_test, y_train, y_test = train_test_split(principalDf, y)"
   ]
  },
  {
   "cell_type": "code",
   "execution_count": 137,
   "metadata": {},
   "outputs": [
    {
     "data": {
      "text/plain": [
       "0.731485782721939"
      ]
     },
     "execution_count": 137,
     "metadata": {},
     "output_type": "execute_result"
    }
   ],
   "source": [
    "lm = LinearRegression()\n",
    "lm.fit(X_train, y_train)\n",
    "\n",
    "pred = lm.predict(X_test)\n",
    "metrics.r2_score(pred, y_test)"
   ]
  },
  {
   "cell_type": "code",
   "execution_count": 138,
   "metadata": {
    "scrolled": true
   },
   "outputs": [
    {
     "name": "stdout",
     "output_type": "stream",
     "text": [
      "                            OLS Regression Results                            \n",
      "==============================================================================\n",
      "Dep. Variable:                      y   R-squared:                       0.780\n",
      "Model:                            OLS   Adj. R-squared:                  0.780\n",
      "Method:                 Least Squares   F-statistic:                     9500.\n",
      "Date:                Wed, 17 Jun 2020   Prob (F-statistic):               0.00\n",
      "Time:                        18:15:06   Log-Likelihood:            -1.2957e+05\n",
      "No. Observations:               10722   AIC:                         2.592e+05\n",
      "Df Residuals:                   10717   BIC:                         2.592e+05\n",
      "Df Model:                           4                                         \n",
      "Covariance Type:            nonrobust                                         \n",
      "==============================================================================\n",
      "                 coef    std err          t      P>|t|      [0.025      0.975]\n",
      "------------------------------------------------------------------------------\n",
      "const       3.169e+04    413.997     76.557      0.000    3.09e+04    3.25e+04\n",
      "0           2.066e+04    244.077     84.666      0.000    2.02e+04    2.11e+04\n",
      "1           4.251e+04    246.347    172.569      0.000     4.2e+04     4.3e+04\n",
      "2            366.7726    351.294      1.044      0.296    -321.829    1055.375\n",
      "3          -1158.1758    389.909     -2.970      0.003   -1922.470    -393.881\n",
      "==============================================================================\n",
      "Omnibus:                    16051.360   Durbin-Watson:                   2.053\n",
      "Prob(Omnibus):                  0.000   Jarque-Bera (JB):         29460820.505\n",
      "Skew:                           8.617   Prob(JB):                         0.00\n",
      "Kurtosis:                     259.218   Cond. No.                         1.72\n",
      "==============================================================================\n",
      "\n",
      "Warnings:\n",
      "[1] Standard Errors assume that the covariance matrix of the errors is correctly specified.\n"
     ]
    }
   ],
   "source": [
    "X2 = sm.add_constant(X_train)\n",
    "est = sm.OLS(y_train.values.reshape(-1,1), X2)\n",
    "est2 = est.fit()\n",
    "\n",
    "print(est2.summary())"
   ]
  },
  {
   "cell_type": "code",
   "execution_count": 139,
   "metadata": {},
   "outputs": [
    {
     "name": "stdout",
     "output_type": "stream",
     "text": [
      "Feature 0 , Explains 2.84755173824461%\n",
      "                  0                    1\n",
      "0  percent_positive   0.4703736153493772\n",
      "1         percent_5   0.4181693245366805\n",
      "2         demand_P1   0.2504346904675659\n",
      "3            demand  0.25010316730103715\n",
      "4         demand_P2  0.24693869424358209\n",
      "Feature 1 , Explains 2.63070168466023%\n",
      "                  0                    1\n",
      "0         demand_P1     0.52284300509075\n",
      "1         demand_P2   0.5201506671078984\n",
      "2            demand   0.5182673134973292\n",
      "3  percent_negative   0.1803426147019297\n",
      "4         percent_1  0.15289304206710988\n",
      "Feature 2 , Explains 1.3955632273683576%\n",
      "                 0                     1\n",
      "0        percent_5    0.4904156653491523\n",
      "1  percent_neutral   0.40361004095108566\n",
      "2        percent_1   0.14982747128448087\n",
      "3        demand_P1  0.006846814532566302\n",
      "4           demand  0.006597810920770223\n",
      "Feature 3 , Explains 1.1472951684919235%\n",
      "                 0                      1\n",
      "0  percent_neutral     0.6212081131393137\n",
      "1        percent_4     0.3177871138438845\n",
      "2        percent_3     0.2707641718713683\n",
      "3        demand_P1  -0.013872055541211629\n",
      "4           demand  -0.014525468113589854\n"
     ]
    }
   ],
   "source": [
    "for i,x in enumerate(pca.components_):\n",
    "    print(\"Feature \" + str(i), \", Explains \" + str(pca.explained_variance_[i]) + \"%\")\n",
    "    top = x.argsort()[-5:][::-1]\n",
    "    table = [list(all_data.drop(\"demand_F1\", axis = 1).columns[top]), x[top]]\n",
    "    df = pd.DataFrame(np.transpose(table))\n",
    "    print(df)"
   ]
  },
  {
   "cell_type": "markdown",
   "metadata": {},
   "source": [
    "Let's just try this with the basic R&R data set and see what happens."
   ]
  },
  {
   "cell_type": "code",
   "execution_count": 70,
   "metadata": {},
   "outputs": [],
   "source": [
    "X = rr_forward.drop([\"demand_F1\", \"demand_F2\", \"elc_brand\", \"sub_category\", \"major_category_id\", \"date\"], axis = 1)\n",
    "y = rr_forward[[\"demand_F1\"]]\n",
    "X = StandardScaler().fit_transform(X)"
   ]
  },
  {
   "cell_type": "code",
   "execution_count": 71,
   "metadata": {},
   "outputs": [
    {
     "data": {
      "text/plain": [
       "Text(0, 0.5, 'cumulative explained variance')"
      ]
     },
     "execution_count": 71,
     "metadata": {},
     "output_type": "execute_result"
    },
    {
     "data": {
      "image/png": "[encoded data removed]",
      "text/plain": [
       "<Figure size 432x288 with 1 Axes>"
      ]
     },
     "metadata": {
      "needs_background": "light"
     },
     "output_type": "display_data"
    }
   ],
   "source": [
    "pca = PCA().fit(X)\n",
    "plt.plot(np.cumsum(pca.explained_variance_ratio_))\n",
    "plt.xlabel('number of components')\n",
    "plt.ylabel('cumulative explained variance')"
   ]
  },
  {
   "cell_type": "code",
   "execution_count": 72,
   "metadata": {},
   "outputs": [],
   "source": [
    "pca = PCA(n_components=2)\n",
    "principalComponents = pca.fit_transform(X)\n",
    "principalDf = pd.DataFrame(data = principalComponents)"
   ]
  },
  {
   "cell_type": "code",
   "execution_count": 73,
   "metadata": {},
   "outputs": [],
   "source": [
    "X_train, X_test, y_train, y_test = train_test_split(principalDf, y)"
   ]
  },
  {
   "cell_type": "code",
   "execution_count": 74,
   "metadata": {},
   "outputs": [
    {
     "data": {
      "text/plain": [
       "0.8429573420555632"
      ]
     },
     "execution_count": 74,
     "metadata": {},
     "output_type": "execute_result"
    }
   ],
   "source": [
    "lm = LinearRegression()\n",
    "lm.fit(X_train, y_train)\n",
    "\n",
    "pred = lm.predict(X_test)\n",
    "metrics.r2_score(pred, y_test)"
   ]
  },
  {
   "cell_type": "code",
   "execution_count": 75,
   "metadata": {},
   "outputs": [
    {
     "name": "stdout",
     "output_type": "stream",
     "text": [
      "                            OLS Regression Results                            \n",
      "==============================================================================\n",
      "Dep. Variable:                      y   R-squared:                       0.759\n",
      "Model:                            OLS   Adj. R-squared:                  0.759\n",
      "Method:                 Least Squares   F-statistic:                 1.689e+04\n",
      "Date:                Wed, 17 Jun 2020   Prob (F-statistic):               0.00\n",
      "Time:                        18:09:18   Log-Likelihood:            -1.2966e+05\n",
      "No. Observations:               10722   AIC:                         2.593e+05\n",
      "Df Residuals:                   10719   BIC:                         2.594e+05\n",
      "Df Model:                           2                                         \n",
      "Covariance Type:            nonrobust                                         \n",
      "==============================================================================\n",
      "                 coef    std err          t      P>|t|      [0.025      0.975]\n",
      "------------------------------------------------------------------------------\n",
      "const       3.197e+04    417.465     76.589      0.000    3.12e+04    3.28e+04\n",
      "0           1.067e+04    135.035     79.043      0.000    1.04e+04    1.09e+04\n",
      "1          -4.614e+04    269.748   -171.065      0.000   -4.67e+04   -4.56e+04\n",
      "==============================================================================\n",
      "Omnibus:                    16847.341   Durbin-Watson:                   2.027\n",
      "Prob(Omnibus):                  0.000   Jarque-Bera (JB):         32705583.619\n",
      "Skew:                           9.551   Prob(JB):                         0.00\n",
      "Kurtosis:                     272.894   Cond. No.                         3.10\n",
      "==============================================================================\n",
      "\n",
      "Warnings:\n",
      "[1] Standard Errors assume that the covariance matrix of the errors is correctly specified.\n"
     ]
    }
   ],
   "source": [
    "X2 = sm.add_constant(X_train)\n",
    "est = sm.OLS(y_train.values.reshape(-1,1), X2)\n",
    "est2 = est.fit()\n",
    "\n",
    "print(est2.summary())"
   ]
  },
  {
   "cell_type": "code",
   "execution_count": 77,
   "metadata": {},
   "outputs": [
    {
     "data": {
      "image/png": "[encoded data removed]",
      "text/plain": [
       "<Figure size 432x288 with 1 Axes>"
      ]
     },
     "metadata": {
      "needs_background": "light"
     },
     "output_type": "display_data"
    }
   ],
   "source": [
    "myplot(principalDf.values[:,0:2],np.transpose(pca.components_[0:2, :]), labels = rr_forward.drop([\"demand_F1\", \"demand_F2\", \"elc_brand\", \"sub_category\", \"major_category_id\", \"date\"], axis = 1).columns)\n",
    "plt.show()"
   ]
  },
  {
   "cell_type": "code",
   "execution_count": 79,
   "metadata": {},
   "outputs": [
    {
     "name": "stdout",
     "output_type": "stream",
     "text": [
      "Feature 0\n",
      "                    0                    1\n",
      "0   sentiment_neutral    0.341381685389727\n",
      "1          nb_reviews  0.34040565322425015\n",
      "2  sentiment_positive   0.3374333999085601\n",
      "3  sentiment_negative   0.3365517013988688\n",
      "4            rating_4   0.3258233640164742\n",
      "Feature 1\n",
      "                    0                     1\n",
      "0            rating_3    0.1493886633068455\n",
      "1            rating_4   0.13183141585847838\n",
      "2  sentiment_negative   0.09566883629536738\n",
      "3            rating_2   0.08299955096955129\n",
      "4          nb_reviews  0.060866716232921274\n"
     ]
    }
   ],
   "source": [
    "for i,x in enumerate(pca.components_):\n",
    "    print(\"Feature \" + str(i))\n",
    "    top = x.argsort()[-5:][::-1]\n",
    "    table = [list(rr_forward.drop([\"demand_F1\", \"demand_F2\", \"elc_brand\", \"sub_category\", \"major_category_id\", \"date\"], axis = 1).columns[top]), x[top]]\n",
    "    df = pd.DataFrame(np.transpose(table))\n",
    "    print(df)"
   ]
  },
  {
   "cell_type": "markdown",
   "metadata": {},
   "source": [
    "Let's try adding in the targets"
   ]
  },
  {
   "cell_type": "code",
   "execution_count": 80,
   "metadata": {},
   "outputs": [
    {
     "name": "stderr",
     "output_type": "stream",
     "text": [
      "C:\\Users\\cfowle\\Anaconda3\\lib\\site-packages\\IPython\\core\\interactiveshell.py:3063: DtypeWarning: Columns (5) have mixed types.Specify dtype option on import or set low_memory=False.\n",
      "  interactivity=interactivity, compiler=compiler, result=result)\n"
     ]
    }
   ],
   "source": [
    "rr_forward = pd.read_csv(onedrive_path + \"Data/Ratings and Reviews/reviews_demand_subcat.csv\")\n",
    "rr_forward = rr_forward.groupby([\"elc_brand\", \"sub_category\", \"date\"]).sum().reset_index()"
   ]
  },
  {
   "cell_type": "code",
   "execution_count": 81,
   "metadata": {},
   "outputs": [],
   "source": [
    "rr_forward[\"year\"] = [int(x[:4]) for x in rr_forward[\"date\"].values]\n",
    "rr_forward[\"month\"] = [int(x[-2:]) for x in rr_forward[\"date\"].values]\n",
    "\n",
    "brand_map = rr_forward.groupby(\"elc_brand\")[\"demand_F1\"].mean().reset_index().rename(columns = {\"demand_F1\": \"avg_brand_demand\"})\n",
    "year_map  = rr_forward.groupby(\"year\")[\"demand_F1\"].mean().reset_index().rename(columns = {\"demand_F1\": \"avg_year_demand\"})\n",
    "month_map = rr_forward.groupby(\"month\")[\"demand_F1\"].mean().reset_index().rename(columns = {\"demand_F1\": \"avg_month_demand\"})\n",
    "sub_map   = rr_forward.groupby(\"sub_category\")[\"demand_F1\"].mean().reset_index().rename(columns = {\"demand_F1\": \"avg_sub_demand\"})"
   ]
  },
  {
   "cell_type": "code",
   "execution_count": 82,
   "metadata": {},
   "outputs": [],
   "source": [
    "rr_forward = rr_forward.merge(brand_map).merge(year_map).merge(month_map).merge(sub_map)"
   ]
  },
  {
   "cell_type": "code",
   "execution_count": 83,
   "metadata": {},
   "outputs": [
    {
     "data": {
      "text/plain": [
       "Index(['elc_brand', 'sub_category', 'date', 'major_category_id',\n",
       "       'avg_nb_statements', 'nb_reviews', 'rating', 'rating_1', 'rating_2',\n",
       "       'rating_3', 'rating_4', 'rating_5', 'sentiment_negative',\n",
       "       'sentiment_neutral', 'sentiment_positive', 'sentiment', 'demand_P1',\n",
       "       'demand_P2', 'demand', 'demand_F1', 'demand_F2', 'year', 'month',\n",
       "       'avg_brand_demand', 'avg_year_demand', 'avg_month_demand',\n",
       "       'avg_sub_demand'],\n",
       "      dtype='object')"
      ]
     },
     "execution_count": 83,
     "metadata": {},
     "output_type": "execute_result"
    }
   ],
   "source": [
    "rr_forward.columns"
   ]
  },
  {
   "cell_type": "code",
   "execution_count": 84,
   "metadata": {},
   "outputs": [],
   "source": [
    "modelling = rr_forward.drop([\"elc_brand\", 'sub_category', 'date', 'demand_F2', 'major_category_id'], axis = 1).dropna()"
   ]
  },
  {
   "cell_type": "code",
   "execution_count": 85,
   "metadata": {},
   "outputs": [],
   "source": [
    "X = modelling.drop([\"demand_F1\"], axis = 1)\n",
    "y = modelling[[\"demand_F1\"]]\n",
    "\n",
    "X = StandardScaler().fit_transform(X)"
   ]
  },
  {
   "cell_type": "code",
   "execution_count": 86,
   "metadata": {},
   "outputs": [
    {
     "data": {
      "text/plain": [
       "Text(0, 0.5, 'cumulative explained variance')"
      ]
     },
     "execution_count": 86,
     "metadata": {},
     "output_type": "execute_result"
    },
    {
     "data": {
      "image/png": "[encoded data removed]",
      "text/plain": [
       "<Figure size 432x288 with 1 Axes>"
      ]
     },
     "metadata": {
      "needs_background": "light"
     },
     "output_type": "display_data"
    }
   ],
   "source": [
    "pca = PCA().fit(X)\n",
    "plt.plot(np.cumsum(pca.explained_variance_ratio_))\n",
    "plt.xlabel('number of components')\n",
    "plt.ylabel('cumulative explained variance')"
   ]
  },
  {
   "cell_type": "code",
   "execution_count": 87,
   "metadata": {},
   "outputs": [],
   "source": [
    "pca = PCA(n_components=6)\n",
    "principalComponents = pca.fit_transform(X)\n",
    "principalDf = pd.DataFrame(data = principalComponents)"
   ]
  },
  {
   "cell_type": "code",
   "execution_count": 88,
   "metadata": {},
   "outputs": [],
   "source": [
    "X_train, X_test, y_train, y_test = train_test_split(principalDf, y)"
   ]
  },
  {
   "cell_type": "code",
   "execution_count": 89,
   "metadata": {},
   "outputs": [
    {
     "data": {
      "text/plain": [
       "0.7209139614131417"
      ]
     },
     "execution_count": 89,
     "metadata": {},
     "output_type": "execute_result"
    }
   ],
   "source": [
    "lm = LinearRegression()\n",
    "lm.fit(X_train, y_train)\n",
    "\n",
    "pred = lm.predict(X_test)\n",
    "metrics.r2_score(pred, y_test)"
   ]
  },
  {
   "cell_type": "code",
   "execution_count": 90,
   "metadata": {},
   "outputs": [
    {
     "name": "stdout",
     "output_type": "stream",
     "text": [
      "                            OLS Regression Results                            \n",
      "==============================================================================\n",
      "Dep. Variable:                      y   R-squared:                       0.776\n",
      "Model:                            OLS   Adj. R-squared:                  0.776\n",
      "Method:                 Least Squares   F-statistic:                     6176.\n",
      "Date:                Wed, 17 Jun 2020   Prob (F-statistic):               0.00\n",
      "Time:                        18:10:50   Log-Likelihood:            -1.2946e+05\n",
      "No. Observations:               10722   AIC:                         2.589e+05\n",
      "Df Residuals:                   10715   BIC:                         2.590e+05\n",
      "Df Model:                           6                                         \n",
      "Covariance Type:            nonrobust                                         \n",
      "==============================================================================\n",
      "                 coef    std err          t      P>|t|      [0.025      0.975]\n",
      "------------------------------------------------------------------------------\n",
      "const       3.198e+04    409.830     78.022      0.000    3.12e+04    3.28e+04\n",
      "0           1.418e+04    141.091    100.492      0.000    1.39e+04    1.45e+04\n",
      "1          -2.992e+04    216.249   -138.337      0.000   -3.03e+04   -2.95e+04\n",
      "2           3647.7754    283.502     12.867      0.000    3092.060    4203.491\n",
      "3           1.197e+04    392.931     30.466      0.000    1.12e+04    1.27e+04\n",
      "4           1.487e+04    406.374     36.587      0.000    1.41e+04    1.57e+04\n",
      "5           2.132e+04    419.460     50.838      0.000    2.05e+04    2.21e+04\n",
      "==============================================================================\n",
      "Omnibus:                    16633.451   Durbin-Watson:                   1.993\n",
      "Prob(Omnibus):                  0.000   Jarque-Bera (JB):         30482742.742\n",
      "Skew:                           9.312   Prob(JB):                         0.00\n",
      "Kurtosis:                     263.548   Cond. No.                         3.01\n",
      "==============================================================================\n",
      "\n",
      "Warnings:\n",
      "[1] Standard Errors assume that the covariance matrix of the errors is correctly specified.\n"
     ]
    }
   ],
   "source": [
    "X2 = sm.add_constant(X_train)\n",
    "est = sm.OLS(y_train.values.reshape(-1,1), X2)\n",
    "est2 = est.fit()\n",
    "\n",
    "print(est2.summary())"
   ]
  },
  {
   "cell_type": "code",
   "execution_count": 91,
   "metadata": {},
   "outputs": [
    {
     "name": "stdout",
     "output_type": "stream",
     "text": [
      "Feature 0\n",
      "                    0                    1\n",
      "0   sentiment_neutral  0.30884610830129955\n",
      "1          nb_reviews  0.30710470427318187\n",
      "2  sentiment_positive   0.3044803899986362\n",
      "3  sentiment_negative   0.3011745346855408\n",
      "4            rating_5  0.29857234018848017\n",
      "Feature 1\n",
      "                    0                    1\n",
      "0            rating_3  0.21762330130090707\n",
      "1            rating_4   0.2116702716548979\n",
      "2  sentiment_negative  0.17621825487141296\n",
      "3          nb_reviews   0.1556125499306655\n",
      "4  sentiment_positive  0.15337572516193698\n",
      "Feature 2\n",
      "                  0                     1\n",
      "0   avg_year_demand    0.6699277829767241\n",
      "1             month    0.2804914266782641\n",
      "2  avg_brand_demand   0.07620781595565053\n",
      "3            demand    0.0406712657184051\n",
      "4         demand_P1  0.033436205245700776\n",
      "Feature 3\n",
      "                  0                    1\n",
      "0  avg_month_demand   0.7575187109907038\n",
      "1  avg_brand_demand   0.2524914210791074\n",
      "2         demand_P2  0.12538779468939137\n",
      "3         demand_P1  0.09511541147058475\n",
      "4   avg_year_demand  0.09239968247859877\n",
      "Feature 4\n",
      "                  0                    1\n",
      "0  avg_brand_demand   0.6552706697456708\n",
      "1            demand   0.2182705588386169\n",
      "2         demand_P1  0.20871803593478577\n",
      "3         demand_P2   0.1911333848857243\n",
      "4              year  0.12344845420381942\n",
      "Feature 5\n",
      "                0                    1\n",
      "0  avg_sub_demand   0.4743912501223705\n",
      "1          demand   0.2752800290405318\n",
      "2       demand_P1   0.2674022206416564\n",
      "3       demand_P2  0.26392075392164177\n",
      "4        rating_5   0.0642044056521548\n"
     ]
    }
   ],
   "source": [
    "for i,x in enumerate(pca.components_):\n",
    "    print(\"Feature \" + str(i))\n",
    "    top = x.argsort()[-5:][::-1]\n",
    "    table = [list(modelling.drop([\"demand_F1\"], axis = 1).columns[top]), x[top]]\n",
    "    df = pd.DataFrame(np.transpose(table))\n",
    "    print(df)"
   ]
  }
 ],
 "metadata": {
  "kernelspec": {
   "display_name": "Python 3",
   "language": "python",
   "name": "python3"
  },
  "language_info": {
   "codemirror_mode": {
    "name": "ipython",
    "version": 3
   },
   "file_extension": ".py",
   "mimetype": "text/x-python",
   "name": "python",
   "nbconvert_exporter": "python",
   "pygments_lexer": "ipython3",
   "version": "3.7.6"
  }
 },
 "nbformat": 4,
 "nbformat_minor": 4
}
