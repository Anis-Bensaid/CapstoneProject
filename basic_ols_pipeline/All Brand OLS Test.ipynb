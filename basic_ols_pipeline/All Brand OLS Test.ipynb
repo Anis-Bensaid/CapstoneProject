{
 "cells": [
  {
   "cell_type": "code",
   "execution_count": 61,
   "metadata": {},
   "outputs": [],
   "source": [
    "import pandas as pd\n",
    "import numpy as np\n",
    "import copy as cp\n",
    "\n",
    "import statsmodels.api as sm\n",
    "import matplotlib.pyplot as plt\n",
    "\n",
    "import sklearn.metrics as metrics\n",
    "\n",
    "from sklearn.linear_model import LinearRegression\n",
    "from sklearn.model_selection import train_test_split\n",
    "from sklearn.preprocessing import StandardScaler\n",
    "from sklearn.decomposition import PCA\n",
    "\n",
    "from heatmap import heatmap, corrplot"
   ]
  },
  {
   "cell_type": "code",
   "execution_count": 2,
   "metadata": {},
   "outputs": [],
   "source": [
    "onedrive_path = \"C:/Users/cfowle/The Estée Lauder Companies Inc/TeamAnis - General/\""
   ]
  },
  {
   "cell_type": "code",
   "execution_count": 3,
   "metadata": {},
   "outputs": [],
   "source": [
    "just_rr = pd.read_csv(onedrive_path + \"Data/Combined/relative_rr_data_w_target_encodings.csv\")\n",
    "rr_cc   = pd.read_csv(onedrive_path + \"Data/Combined/relative_rr_cc_data_w_target_encodings.csv\")"
   ]
  },
  {
   "cell_type": "markdown",
   "metadata": {},
   "source": [
    "### Filter to 2017 + data"
   ]
  },
  {
   "cell_type": "code",
   "execution_count": 4,
   "metadata": {},
   "outputs": [],
   "source": [
    "just_rr = just_rr.loc[just_rr[\"year\"] >= 2017 ].drop(\"Unnamed: 0\", axis = 1).sort_values([\"month\", \"year\"])\n",
    "rr_cc = rr_cc.loc[rr_cc[\"year\"] >= 2017 ].drop(\"Unnamed: 0\", axis = 1).sort_values([\"month\", \"year\"])"
   ]
  },
  {
   "cell_type": "markdown",
   "metadata": {},
   "source": [
    "## Models"
   ]
  },
  {
   "cell_type": "markdown",
   "metadata": {},
   "source": [
    "### R&R Data + Demand Data"
   ]
  },
  {
   "cell_type": "code",
   "execution_count": 5,
   "metadata": {},
   "outputs": [],
   "source": [
    "X = cp.deepcopy(just_rr)\n",
    "y = X.pop(\"demand_F1\")"
   ]
  },
  {
   "cell_type": "code",
   "execution_count": 6,
   "metadata": {},
   "outputs": [],
   "source": [
    "X_train, X_test, y_train, y_test = train_test_split(X, y, shuffle = False)"
   ]
  },
  {
   "cell_type": "code",
   "execution_count": 8,
   "metadata": {},
   "outputs": [
    {
     "data": {
      "text/plain": [
       "0.8907438031571706"
      ]
     },
     "execution_count": 8,
     "metadata": {},
     "output_type": "execute_result"
    }
   ],
   "source": [
    "lm = LinearRegression()\n",
    "lm.fit(X_train, y_train)\n",
    "pred = lm.predict(X_test)\n",
    "metrics.r2_score(pred, y_test)"
   ]
  },
  {
   "cell_type": "code",
   "execution_count": 10,
   "metadata": {},
   "outputs": [
    {
     "name": "stdout",
     "output_type": "stream",
     "text": [
      "                            OLS Regression Results                            \n",
      "==============================================================================\n",
      "Dep. Variable:              demand_F1   R-squared:                       0.852\n",
      "Model:                            OLS   Adj. R-squared:                  0.852\n",
      "Method:                 Least Squares   F-statistic:                     4896.\n",
      "Date:                Tue, 30 Jun 2020   Prob (F-statistic):               0.00\n",
      "Time:                        16:33:26   Log-Likelihood:            -1.7134e+05\n",
      "No. Observations:               13650   AIC:                         3.427e+05\n",
      "Df Residuals:                   13633   BIC:                         3.428e+05\n",
      "Df Model:                          16                                         \n",
      "Covariance Type:            nonrobust                                         \n",
      "=======================================================================================\n",
      "                          coef    std err          t      P>|t|      [0.025      0.975]\n",
      "---------------------------------------------------------------------------------------\n",
      "const                7.394e+05   1.24e+06      0.594      0.552    -1.7e+06    3.18e+06\n",
      "demand                  0.2440      0.008     30.183      0.000       0.228       0.260\n",
      "demand_P2               0.6246      0.007     86.382      0.000       0.610       0.639\n",
      "demand_P1               0.1131      0.008     14.683      0.000       0.098       0.128\n",
      "avg_subcat_demand      -0.0032      0.008     -0.384      0.701      -0.019       0.013\n",
      "monthly_avg_demand     -0.1069      0.055     -1.937      0.053      -0.215       0.001\n",
      "avg_12_month_demand    -0.4679      0.064     -7.264      0.000      -0.594      -0.342\n",
      "avg_brand_demand        0.0100      0.008      1.207      0.227      -0.006       0.026\n",
      "month                1497.1342    361.548      4.141      0.000     788.450    2205.819\n",
      "year                 -362.4436    616.454     -0.588      0.557   -1570.778     845.890\n",
      "percent_1           -3519.8704   3888.726     -0.905      0.365   -1.11e+04    4102.569\n",
      "percent_2            7638.5263   5379.815      1.420      0.156   -2906.653    1.82e+04\n",
      "percent_3             211.6417   4769.906      0.044      0.965   -9138.032    9561.315\n",
      "percent_4            -982.8360   4297.266     -0.229      0.819   -9406.070    7440.398\n",
      "percent_5           -1711.2107   2887.969     -0.593      0.554   -7372.028    3949.607\n",
      "percent_negative     -375.2779   7512.542     -0.050      0.960   -1.51e+04    1.44e+04\n",
      "percent_neutral      -296.8429   5280.669     -0.056      0.955   -1.06e+04    1.01e+04\n",
      "percent_positive     2308.3716   3143.022      0.734      0.463   -3852.385    8469.128\n",
      "==============================================================================\n",
      "Omnibus:                    18457.497   Durbin-Watson:                   1.893\n",
      "Prob(Omnibus):                  0.000   Jarque-Bera (JB):         49496054.074\n",
      "Skew:                           6.818   Prob(JB):                         0.00\n",
      "Kurtosis:                     297.686   Cond. No.                     3.51e+21\n",
      "==============================================================================\n",
      "\n",
      "Warnings:\n",
      "[1] Standard Errors assume that the covariance matrix of the errors is correctly specified.\n",
      "[2] The smallest eigenvalue is  1e-28. This might indicate that there are\n",
      "strong multicollinearity problems or that the design matrix is singular.\n"
     ]
    }
   ],
   "source": [
    "X2 = sm.add_constant(X_train)\n",
    "est = sm.OLS(y_train, X2)\n",
    "est2 = est.fit()\n",
    "\n",
    "print(est2.summary())"
   ]
  },
  {
   "cell_type": "markdown",
   "metadata": {},
   "source": [
    "### Just R&R Data"
   ]
  },
  {
   "cell_type": "code",
   "execution_count": 13,
   "metadata": {},
   "outputs": [],
   "source": [
    "X= X[['month', 'year', 'percent_1', 'percent_2', 'percent_3', 'percent_4',\n",
    "       'percent_5', 'percent_negative', 'percent_neutral', 'percent_positive']]"
   ]
  },
  {
   "cell_type": "code",
   "execution_count": 14,
   "metadata": {},
   "outputs": [],
   "source": [
    "X_train, X_test, y_train, y_test = train_test_split(X, y, shuffle = False)"
   ]
  },
  {
   "cell_type": "code",
   "execution_count": 15,
   "metadata": {},
   "outputs": [
    {
     "data": {
      "text/plain": [
       "-37.44190250843596"
      ]
     },
     "execution_count": 15,
     "metadata": {},
     "output_type": "execute_result"
    }
   ],
   "source": [
    "lm = LinearRegression()\n",
    "lm.fit(X_train, y_train)\n",
    "pred = lm.predict(X_test)\n",
    "metrics.r2_score(pred, y_test)"
   ]
  },
  {
   "cell_type": "code",
   "execution_count": 16,
   "metadata": {},
   "outputs": [
    {
     "name": "stdout",
     "output_type": "stream",
     "text": [
      "                            OLS Regression Results                            \n",
      "==============================================================================\n",
      "Dep. Variable:              demand_F1   R-squared:                       0.028\n",
      "Model:                            OLS   Adj. R-squared:                  0.027\n",
      "Method:                 Least Squares   F-statistic:                     43.48\n",
      "Date:                Tue, 30 Jun 2020   Prob (F-statistic):           1.36e-77\n",
      "Time:                        16:35:27   Log-Likelihood:            -1.8417e+05\n",
      "No. Observations:               13650   AIC:                         3.684e+05\n",
      "Df Residuals:                   13640   BIC:                         3.684e+05\n",
      "Df Model:                           9                                         \n",
      "Covariance Type:            nonrobust                                         \n",
      "====================================================================================\n",
      "                       coef    std err          t      P>|t|      [0.025      0.975]\n",
      "------------------------------------------------------------------------------------\n",
      "const             6.185e+06   3.09e+06      2.000      0.045    1.24e+05    1.22e+07\n",
      "month              413.8899    623.597      0.664      0.507    -808.446    1636.225\n",
      "year             -3064.1819   1531.770     -2.000      0.045   -6066.663     -61.701\n",
      "percent_1         2511.4227   9954.066      0.252      0.801    -1.7e+04     2.2e+04\n",
      "percent_2         2.037e+04   1.38e+04      1.480      0.139   -6618.286    4.74e+04\n",
      "percent_3         1.536e+04   1.22e+04      1.258      0.208   -8566.830    3.93e+04\n",
      "percent_4          3.88e+04    1.1e+04      3.533      0.000    1.73e+04    6.03e+04\n",
      "percent_5         2.641e+04   7384.862      3.576      0.000    1.19e+04    4.09e+04\n",
      "percent_negative  2.876e+04   1.92e+04      1.496      0.135   -8913.945    6.64e+04\n",
      "percent_neutral   4.125e+04   1.35e+04      3.053      0.002    1.48e+04    6.77e+04\n",
      "percent_positive  3.345e+04   8038.162      4.162      0.000    1.77e+04    4.92e+04\n",
      "==============================================================================\n",
      "Omnibus:                    25937.785   Durbin-Watson:                   1.899\n",
      "Prob(Omnibus):                  0.000   Jarque-Bera (JB):         52267463.770\n",
      "Skew:                          14.710   Prob(JB):                         0.00\n",
      "Kurtosis:                     304.717   Cond. No.                     2.14e+19\n",
      "==============================================================================\n",
      "\n",
      "Warnings:\n",
      "[1] Standard Errors assume that the covariance matrix of the errors is correctly specified.\n",
      "[2] The smallest eigenvalue is 1.22e-28. This might indicate that there are\n",
      "strong multicollinearity problems or that the design matrix is singular.\n"
     ]
    }
   ],
   "source": [
    "X2 = sm.add_constant(X_train)\n",
    "est = sm.OLS(y_train, X2)\n",
    "est2 = est.fit()\n",
    "\n",
    "print(est2.summary())"
   ]
  },
  {
   "cell_type": "markdown",
   "metadata": {},
   "source": [
    "### R&R + Demand + PCA"
   ]
  },
  {
   "cell_type": "code",
   "execution_count": 66,
   "metadata": {},
   "outputs": [],
   "source": [
    "X = cp.deepcopy(just_rr)\n",
    "y = X.pop(\"demand_F1\")"
   ]
  },
  {
   "cell_type": "code",
   "execution_count": 67,
   "metadata": {},
   "outputs": [],
   "source": [
    "X = StandardScaler().fit_transform(X)"
   ]
  },
  {
   "cell_type": "code",
   "execution_count": 68,
   "metadata": {},
   "outputs": [
    {
     "data": {
      "text/plain": [
       "Text(0, 0.5, 'cumulative explained variance')"
      ]
     },
     "execution_count": 68,
     "metadata": {},
     "output_type": "execute_result"
    },
    {
     "data": {
      "image/png": "[encoded data removed]",
      "text/plain": [
       "<Figure size 432x288 with 1 Axes>"
      ]
     },
     "metadata": {
      "needs_background": "light"
     },
     "output_type": "display_data"
    }
   ],
   "source": [
    "pca = PCA().fit(X)\n",
    "plt.plot(np.cumsum(pca.explained_variance_ratio_))\n",
    "plt.xlabel('number of components')\n",
    "plt.ylabel('cumulative explained variance')"
   ]
  },
  {
   "cell_type": "code",
   "execution_count": 69,
   "metadata": {},
   "outputs": [],
   "source": [
    "pca = PCA(n_components=12)\n",
    "principalComponents = pca.fit_transform(X)\n",
    "principalDf = pd.DataFrame(data = principalComponents)"
   ]
  },
  {
   "cell_type": "code",
   "execution_count": 70,
   "metadata": {},
   "outputs": [],
   "source": [
    "X_train, X_test, y_train, y_test = train_test_split(principalDf, y, shuffle = False)"
   ]
  },
  {
   "cell_type": "code",
   "execution_count": 71,
   "metadata": {},
   "outputs": [
    {
     "data": {
      "text/plain": [
       "0.9074509422248513"
      ]
     },
     "execution_count": 71,
     "metadata": {},
     "output_type": "execute_result"
    }
   ],
   "source": [
    "lm = LinearRegression()\n",
    "lm.fit(X_train, y_train)\n",
    "pred = lm.predict(X_test)\n",
    "metrics.r2_score(pred, y_test)"
   ]
  },
  {
   "cell_type": "code",
   "execution_count": 72,
   "metadata": {},
   "outputs": [
    {
     "name": "stdout",
     "output_type": "stream",
     "text": [
      "                            OLS Regression Results                            \n",
      "==============================================================================\n",
      "Dep. Variable:                      y   R-squared:                       0.833\n",
      "Model:                            OLS   Adj. R-squared:                  0.832\n",
      "Method:                 Least Squares   F-statistic:                     5654.\n",
      "Date:                Wed, 01 Jul 2020   Prob (F-statistic):               0.00\n",
      "Time:                        10:22:36   Log-Likelihood:            -1.7217e+05\n",
      "No. Observations:               13650   AIC:                         3.444e+05\n",
      "Df Residuals:                   13637   BIC:                         3.445e+05\n",
      "Df Model:                          12                                         \n",
      "Covariance Type:            nonrobust                                         \n",
      "==============================================================================\n",
      "                 coef    std err          t      P>|t|      [0.025      0.975]\n",
      "------------------------------------------------------------------------------\n",
      "const       3.479e+04    674.824     51.561      0.000    3.35e+04    3.61e+04\n",
      "0           7.966e+04    345.569    230.508      0.000     7.9e+04    8.03e+04\n",
      "1           4.516e+04    415.299    108.751      0.000    4.44e+04     4.6e+04\n",
      "2           2.356e+04    495.951     47.508      0.000    2.26e+04    2.45e+04\n",
      "3           8953.8738    514.268     17.411      0.000    7945.838    9961.910\n",
      "4          -3489.2275    590.086     -5.913      0.000   -4645.877   -2332.578\n",
      "5            467.0654    614.742      0.760      0.447    -737.914    1672.045\n",
      "6           3365.7997    617.814      5.448      0.000    2154.798    4576.801\n",
      "7            589.2143    639.765      0.921      0.357    -664.813    1843.242\n",
      "8           4794.7131    734.724      6.526      0.000    3354.552    6234.874\n",
      "9          -2.053e+04    670.977    -30.594      0.000   -2.18e+04   -1.92e+04\n",
      "10          5742.2018    770.252      7.455      0.000    4232.401    7252.003\n",
      "11          4.631e+04    866.806     53.424      0.000    4.46e+04     4.8e+04\n",
      "==============================================================================\n",
      "Omnibus:                    18052.243   Durbin-Watson:                   1.875\n",
      "Prob(Omnibus):                  0.000   Jarque-Bera (JB):         51970512.032\n",
      "Skew:                           6.482   Prob(JB):                         0.00\n",
      "Kurtosis:                     305.008   Cond. No.                         2.56\n",
      "==============================================================================\n",
      "\n",
      "Warnings:\n",
      "[1] Standard Errors assume that the covariance matrix of the errors is correctly specified.\n"
     ]
    }
   ],
   "source": [
    "X2 = sm.add_constant(X_train)\n",
    "est = sm.OLS(y_train.values, X2)\n",
    "est2 = est.fit()\n",
    "\n",
    "print(est2.summary())"
   ]
  },
  {
   "cell_type": "code",
   "execution_count": 73,
   "metadata": {},
   "outputs": [
    {
     "name": "stdout",
     "output_type": "stream",
     "text": [
      "Feature 0 , Explains 3.6538292468871956%\n",
      "                   0                    1\n",
      "0             demand  0.44086427124861194\n",
      "1          demand_P1  0.43315414527186186\n",
      "2          demand_P2   0.4272359220325829\n",
      "3   avg_brand_demand  0.29611484497907636\n",
      "4  avg_subcat_demand  0.29594465477889853\n",
      "Feature 1 , Explains 2.414633118967149%\n",
      "                     0                    1\n",
      "0               demand   0.2574143238216109\n",
      "1            demand_P1  0.25370153856083427\n",
      "2            demand_P2  0.24492735310405425\n",
      "3                month   0.1898073922919812\n",
      "4  avg_12_month_demand  0.14818430611347191\n",
      "Feature 2 , Explains 1.932772671527949%\n",
      "                   0                     1\n",
      "0               year   0.23170134258976413\n",
      "1          demand_P2   0.12055497736504585\n",
      "2          demand_P1   0.11410152399436879\n",
      "3             demand   0.10881014418518033\n",
      "4  avg_subcat_demand  0.008759332696176477\n",
      "Feature 3 , Explains 1.4368425958718887%\n",
      "                  0                    1\n",
      "0         percent_1   0.5312425702984027\n",
      "1  percent_negative   0.5257674885241396\n",
      "2         percent_2  0.22100498042498043\n",
      "3              year  0.12679465359541292\n",
      "4         percent_3  0.09812508692073971\n",
      "Feature 4 , Explains 1.0486981844343874%\n",
      "                    0                    1\n",
      "0           percent_3   0.3250516482847586\n",
      "1  monthly_avg_demand   0.3072687032812679\n",
      "2           percent_4   0.2480332328962158\n",
      "3           percent_2  0.19682351763142045\n",
      "4    percent_negative  0.10091666577171549\n",
      "Feature 5 , Explains 0.968761073886862%\n",
      "                     0                    1\n",
      "0            percent_2    0.849516294803836\n",
      "1                 year  0.09466389829889323\n",
      "2  avg_12_month_demand  0.05740409533501574\n",
      "3    avg_subcat_demand  0.05653976799504768\n",
      "4            percent_4  0.04093204288113775\n",
      "Feature 6 , Explains 0.9594768530373113%\n",
      "                     0                    1\n",
      "0            percent_3   0.7492657412852811\n",
      "1                 year  0.32443341192938313\n",
      "2  avg_12_month_demand   0.2172375802065376\n",
      "3            percent_2  0.13063049591797402\n",
      "4                month  0.08151004676891029\n",
      "Feature 7 , Explains 0.9204479252151565%\n",
      "                     0                    1\n",
      "0            percent_4   0.8833839269339187\n",
      "1  avg_12_month_demand  0.10850156999245415\n",
      "2                 year  0.10275051247325842\n",
      "3            percent_1  0.06647179832169993\n",
      "4    avg_subcat_demand  0.05355146516514329\n",
      "Feature 8 , Explains 0.8033613692845158%\n",
      "                   0                     1\n",
      "0  avg_subcat_demand    0.5701801326458457\n",
      "1          percent_5   0.07602795035775149\n",
      "2          percent_1   0.04791519645978768\n",
      "3          demand_P1  0.042342927168780777\n",
      "4    percent_neutral    0.0414149125762949\n",
      "Feature 9 , Explains 0.7620970448494059%\n",
      "                    0                    1\n",
      "0  monthly_avg_demand   0.6783432636478985\n",
      "1                year   0.5003652021715075\n",
      "2   avg_subcat_demand  0.44408199010976473\n",
      "3           percent_4   0.0511353562542589\n",
      "4     percent_neutral  0.01517493928514161\n",
      "Feature 10 , Explains 0.6591753348344976%\n",
      "                    0                     1\n",
      "0     percent_neutral    0.7977367982410505\n",
      "1           percent_2    0.1301214778987941\n",
      "2           percent_1   0.08304558080493062\n",
      "3  monthly_avg_demand   0.03889114217313039\n",
      "4           demand_P2  0.033054512072412265\n",
      "Feature 11 , Explains 0.5809565039858676%\n",
      "                    0                    1\n",
      "0  monthly_avg_demand   0.3594778276141479\n",
      "1           demand_P2  0.29114512606821413\n",
      "2           demand_P1    0.239508947070337\n",
      "3              demand  0.15708461591043546\n",
      "4                year  0.11675899430423106\n"
     ]
    }
   ],
   "source": [
    "for i,x in enumerate(pca.components_):\n",
    "    print(\"Feature \" + str(i), \", Explains \" + str(pca.explained_variance_[i]) + \"%\")\n",
    "    top = x.argsort()[-5:][::-1]\n",
    "    table = [list(just_rr.drop([\"demand_F1\"], axis = 1).columns[top]), x[top]]\n",
    "    df = pd.DataFrame(np.transpose(table))\n",
    "    print(df)"
   ]
  },
  {
   "cell_type": "code",
   "execution_count": 76,
   "metadata": {},
   "outputs": [
    {
     "data": {
      "text/plain": [
       "0    -0.026697\n",
       "1     0.011737\n",
       "2    -0.024909\n",
       "3     0.011440\n",
       "4     0.008188\n",
       "5    -0.010337\n",
       "6    -0.018886\n",
       "7     0.009749\n",
       "8     0.006674\n",
       "9    -0.031069\n",
       "10   -0.004060\n",
       "11    0.003997\n",
       "y     1.000000\n",
       "Name: y, dtype: float64"
      ]
     },
     "execution_count": 76,
     "metadata": {},
     "output_type": "execute_result"
    }
   ],
   "source": [
    "principalDf[\"y\"] = y\n",
    "principalDf.corr()[\"y\"]"
   ]
  },
  {
   "cell_type": "markdown",
   "metadata": {},
   "source": [
    "### Demand + PCA"
   ]
  },
  {
   "cell_type": "code",
   "execution_count": 44,
   "metadata": {},
   "outputs": [],
   "source": [
    "X = cp.deepcopy(just_rr)\n",
    "y = X.pop(\"demand_F1\")"
   ]
  },
  {
   "cell_type": "code",
   "execution_count": 46,
   "metadata": {},
   "outputs": [],
   "source": [
    "X = X[['demand', 'demand_P2', 'demand_P1', 'avg_subcat_demand',\n",
    "       'monthly_avg_demand', 'avg_12_month_demand', 'avg_brand_demand',\n",
    "       'month', 'year']]"
   ]
  },
  {
   "cell_type": "code",
   "execution_count": 47,
   "metadata": {},
   "outputs": [],
   "source": [
    "X = StandardScaler().fit_transform(X)"
   ]
  },
  {
   "cell_type": "code",
   "execution_count": 48,
   "metadata": {},
   "outputs": [
    {
     "data": {
      "text/plain": [
       "Text(0, 0.5, 'cumulative explained variance')"
      ]
     },
     "execution_count": 48,
     "metadata": {},
     "output_type": "execute_result"
    },
    {
     "data": {
      "image/png": "[encoded data removed]",
      "text/plain": [
       "<Figure size 432x288 with 1 Axes>"
      ]
     },
     "metadata": {
      "needs_background": "light"
     },
     "output_type": "display_data"
    }
   ],
   "source": [
    "pca = PCA().fit(X)\n",
    "plt.plot(np.cumsum(pca.explained_variance_ratio_))\n",
    "plt.xlabel('number of components')\n",
    "plt.ylabel('cumulative explained variance')"
   ]
  },
  {
   "cell_type": "code",
   "execution_count": 49,
   "metadata": {},
   "outputs": [],
   "source": [
    "pca = PCA(n_components=6)\n",
    "principalComponents = pca.fit_transform(X)\n",
    "principalDf = pd.DataFrame(data = principalComponents)"
   ]
  },
  {
   "cell_type": "code",
   "execution_count": 50,
   "metadata": {},
   "outputs": [],
   "source": [
    "X_train, X_test, y_train, y_test = train_test_split(principalDf, y, shuffle = False)"
   ]
  },
  {
   "cell_type": "code",
   "execution_count": 51,
   "metadata": {},
   "outputs": [
    {
     "data": {
      "text/plain": [
       "0.9074163937712858"
      ]
     },
     "execution_count": 51,
     "metadata": {},
     "output_type": "execute_result"
    }
   ],
   "source": [
    "lm = LinearRegression()\n",
    "lm.fit(X_train, y_train)\n",
    "pred = lm.predict(X_test)\n",
    "metrics.r2_score(pred, y_test)"
   ]
  },
  {
   "cell_type": "code",
   "execution_count": 52,
   "metadata": {},
   "outputs": [
    {
     "name": "stdout",
     "output_type": "stream",
     "text": [
      "                            OLS Regression Results                            \n",
      "==============================================================================\n",
      "Dep. Variable:                      y   R-squared:                       0.833\n",
      "Model:                            OLS   Adj. R-squared:                  0.833\n",
      "Method:                 Least Squares   F-statistic:                 1.131e+04\n",
      "Date:                Tue, 30 Jun 2020   Prob (F-statistic):               0.00\n",
      "Time:                        16:53:22   Log-Likelihood:            -1.7217e+05\n",
      "No. Observations:               13650   AIC:                         3.443e+05\n",
      "Df Residuals:                   13643   BIC:                         3.444e+05\n",
      "Df Model:                           6                                         \n",
      "Covariance Type:            nonrobust                                         \n",
      "==============================================================================\n",
      "                 coef    std err          t      P>|t|      [0.025      0.975]\n",
      "------------------------------------------------------------------------------\n",
      "const       3.483e+04    674.614     51.635      0.000    3.35e+04    3.62e+04\n",
      "0           9.305e+04    370.068    251.428      0.000    9.23e+04    9.38e+04\n",
      "1            1.49e+04    496.724     30.001      0.000    1.39e+04    1.59e+04\n",
      "2           4579.3600    589.924      7.763      0.000    3423.027    5735.693\n",
      "3           8288.1458    727.801     11.388      0.000    6861.555    9714.737\n",
      "4          -2.143e+04    676.101    -31.691      0.000   -2.28e+04   -2.01e+04\n",
      "5           4.737e+04    858.853     55.159      0.000    4.57e+04    4.91e+04\n",
      "==============================================================================\n",
      "Omnibus:                    18008.635   Durbin-Watson:                   1.875\n",
      "Prob(Omnibus):                  0.000   Jarque-Bera (JB):         51922551.904\n",
      "Skew:                           6.449   Prob(JB):                         0.00\n",
      "Kurtosis:                     304.871   Cond. No.                         2.36\n",
      "==============================================================================\n",
      "\n",
      "Warnings:\n",
      "[1] Standard Errors assume that the covariance matrix of the errors is correctly specified.\n"
     ]
    }
   ],
   "source": [
    "X2 = sm.add_constant(X_train)\n",
    "est = sm.OLS(y_train.values, X2)\n",
    "est2 = est.fit()\n",
    "\n",
    "print(est2.summary()) "
   ]
  },
  {
   "cell_type": "code",
   "execution_count": 53,
   "metadata": {},
   "outputs": [
    {
     "name": "stdout",
     "output_type": "stream",
     "text": [
      "Feature 0 , Explains 3.3207425085215774%\n",
      "                   0                    1\n",
      "0             demand   0.5167644125187411\n",
      "1          demand_P1   0.5081503673165344\n",
      "2          demand_P2   0.4996164237303924\n",
      "3  avg_subcat_demand  0.33515523663854524\n",
      "4   avg_brand_demand  0.32124940999788953\n",
      "Feature 1 , Explains 1.9638610346328824%\n",
      "                   0                     1\n",
      "0               year   0.25774604799131345\n",
      "1          demand_P2   0.07367656985170036\n",
      "2          demand_P1    0.0654166327927874\n",
      "3             demand    0.0600264236933624\n",
      "4  avg_subcat_demand  -0.01251646904186815\n",
      "Feature 2 , Explains 1.0290722779295418%\n",
      "                     0                    1\n",
      "0                 year    0.782689291648718\n",
      "1  avg_12_month_demand   0.4398237390619517\n",
      "2                month  0.18683540003029522\n",
      "3            demand_P1  0.04582479156529957\n",
      "4            demand_P2  0.04133307091382982\n",
      "Feature 3 , Explains 0.810315293852019%\n",
      "                     0                     1\n",
      "0    avg_subcat_demand    0.5361867714577959\n",
      "1            demand_P1   0.06261147111330284\n",
      "2            demand_P2   0.05247179515230644\n",
      "3  avg_12_month_demand  0.050969625602226454\n",
      "4                month   0.04505793902631056\n",
      "Feature 4 , Explains 0.7651225045911141%\n",
      "                    0                      1\n",
      "0  monthly_avg_demand     0.6659164916578053\n",
      "1   avg_subcat_demand      0.491933750096424\n",
      "2                year     0.4717078889711319\n",
      "3              demand  -0.061403298573295705\n",
      "4    avg_brand_demand   -0.07900535251042609\n",
      "Feature 5 , Explains 0.5892570700937213%\n",
      "                    0                    1\n",
      "0  monthly_avg_demand   0.3753357242499072\n",
      "1           demand_P2  0.29593967649470265\n",
      "2           demand_P1  0.24591213219965052\n",
      "3              demand  0.16667049426077407\n",
      "4                year  0.12438351854633382\n"
     ]
    }
   ],
   "source": [
    "for i,x in enumerate(pca.components_):\n",
    "    print(\"Feature \" + str(i), \", Explains \" + str(pca.explained_variance_[i]) + \"%\")\n",
    "    top = x.argsort()[-5:][::-1]\n",
    "    table = [list(just_rr.drop([\"demand_F1\"], axis = 1).columns[top]), x[top]]\n",
    "    df = pd.DataFrame(np.transpose(table))\n",
    "    print(df)"
   ]
  },
  {
   "cell_type": "markdown",
   "metadata": {},
   "source": [
    "### R&R + CC + Demand + PCA "
   ]
  },
  {
   "cell_type": "code",
   "execution_count": 54,
   "metadata": {},
   "outputs": [],
   "source": [
    "X = cp.deepcopy(rr_cc)\n",
    "y = X.pop(\"demand_F1\")"
   ]
  },
  {
   "cell_type": "code",
   "execution_count": 55,
   "metadata": {},
   "outputs": [],
   "source": [
    "X = StandardScaler().fit_transform(X)"
   ]
  },
  {
   "cell_type": "code",
   "execution_count": 56,
   "metadata": {},
   "outputs": [
    {
     "data": {
      "text/plain": [
       "Text(0, 0.5, 'cumulative explained variance')"
      ]
     },
     "execution_count": 56,
     "metadata": {},
     "output_type": "execute_result"
    },
    {
     "data": {
      "image/png": "[encoded data removed]",
      "text/plain": [
       "<Figure size 432x288 with 1 Axes>"
      ]
     },
     "metadata": {
      "needs_background": "light"
     },
     "output_type": "display_data"
    }
   ],
   "source": [
    "pca = PCA().fit(X)\n",
    "plt.plot(np.cumsum(pca.explained_variance_ratio_))\n",
    "plt.xlabel('number of components')\n",
    "plt.ylabel('cumulative explained variance')"
   ]
  },
  {
   "cell_type": "code",
   "execution_count": 57,
   "metadata": {},
   "outputs": [],
   "source": [
    "pca = PCA(n_components=80)\n",
    "principalComponents = pca.fit_transform(X)\n",
    "principalDf = pd.DataFrame(data = principalComponents)"
   ]
  },
  {
   "cell_type": "code",
   "execution_count": 58,
   "metadata": {},
   "outputs": [],
   "source": [
    "X_train, X_test, y_train, y_test = train_test_split(principalDf, y, shuffle = False)"
   ]
  },
  {
   "cell_type": "code",
   "execution_count": 59,
   "metadata": {},
   "outputs": [
    {
     "data": {
      "text/plain": [
       "-0.00012502891316401588"
      ]
     },
     "execution_count": 59,
     "metadata": {},
     "output_type": "execute_result"
    }
   ],
   "source": [
    "lm = LinearRegression()\n",
    "lm.fit(X_train, y_train)\n",
    "pred = lm.predict(X_test)\n",
    "metrics.r2_score(pred, y_test)"
   ]
  },
  {
   "cell_type": "code",
   "execution_count": 60,
   "metadata": {},
   "outputs": [
    {
     "name": "stdout",
     "output_type": "stream",
     "text": [
      "                            OLS Regression Results                            \n",
      "==============================================================================\n",
      "Dep. Variable:                      y   R-squared:                       0.846\n",
      "Model:                            OLS   Adj. R-squared:                  0.845\n",
      "Method:                 Least Squares   F-statistic:                     931.7\n",
      "Date:                Wed, 01 Jul 2020   Prob (F-statistic):               0.00\n",
      "Time:                        10:18:20   Log-Likelihood:            -1.7160e+05\n",
      "No. Observations:               13650   AIC:                         3.434e+05\n",
      "Df Residuals:                   13569   BIC:                         3.440e+05\n",
      "Df Model:                          80                                         \n",
      "Covariance Type:            nonrobust                                         \n",
      "==============================================================================\n",
      "                 coef    std err          t      P>|t|      [0.025      0.975]\n",
      "------------------------------------------------------------------------------\n",
      "const       6.721e+04   2313.242     29.055      0.000    6.27e+04    7.17e+04\n",
      "0           5.266e+04   1036.658     50.796      0.000    5.06e+04    5.47e+04\n",
      "1           3.143e+04   2739.114     11.475      0.000    2.61e+04    3.68e+04\n",
      "2           2.309e+04   1689.359     13.667      0.000    1.98e+04    2.64e+04\n",
      "3          -1.422e+04   1139.648    -12.477      0.000   -1.65e+04    -1.2e+04\n",
      "4            447.8260    671.505      0.667      0.505    -868.418    1764.069\n",
      "5          -4736.6605   1439.632     -3.290      0.001   -7558.539   -1914.782\n",
      "6          -5.373e+04   5047.999    -10.644      0.000   -6.36e+04   -4.38e+04\n",
      "7           1.921e+04   1292.542     14.866      0.000    1.67e+04    2.17e+04\n",
      "8          -1071.5313    694.277     -1.543      0.123   -2432.411     289.349\n",
      "9           1.562e+05   5381.184     29.034      0.000    1.46e+05    1.67e+05\n",
      "10         -4.922e+04   2342.476    -21.011      0.000   -5.38e+04   -4.46e+04\n",
      "11         -1.062e+04   3177.356     -3.342      0.001   -1.68e+04   -4392.238\n",
      "12         -6751.8962   1362.357     -4.956      0.000   -9422.305   -4081.487\n",
      "13          -334.4423   1774.854     -0.188      0.851   -3813.402    3144.518\n",
      "14         -1.743e+05   1.92e+04     -9.091      0.000   -2.12e+05   -1.37e+05\n",
      "15          1.449e+05   1.11e+04     13.031      0.000    1.23e+05    1.67e+05\n",
      "16          2.851e+04   5583.878      5.105      0.000    1.76e+04    3.95e+04\n",
      "17          4.241e+04   5132.366      8.264      0.000    3.24e+04    5.25e+04\n",
      "18          8.796e+04   3746.441     23.477      0.000    8.06e+04    9.53e+04\n",
      "19          6.288e+04   6240.854     10.076      0.000    5.06e+04    7.51e+04\n",
      "20           5.23e+04   3230.940     16.187      0.000     4.6e+04    5.86e+04\n",
      "21          2.507e+05   9276.591     27.024      0.000    2.33e+05    2.69e+05\n",
      "22           2.97e+04   3785.099      7.847      0.000    2.23e+04    3.71e+04\n",
      "23         -5.456e+04   4865.281    -11.214      0.000   -6.41e+04    -4.5e+04\n",
      "24         -1.383e+05   6171.025    -22.417      0.000    -1.5e+05   -1.26e+05\n",
      "25          -6.69e+04   9453.401     -7.076      0.000   -8.54e+04   -4.84e+04\n",
      "26          1.345e+05   1.26e+04     10.692      0.000     1.1e+05    1.59e+05\n",
      "27         -1.762e+05   7307.682    -24.109      0.000   -1.91e+05   -1.62e+05\n",
      "28         -2.261e+05   1.31e+04    -17.284      0.000   -2.52e+05   -2.01e+05\n",
      "29          3.366e+04   6169.025      5.457      0.000    2.16e+04    4.58e+04\n",
      "30         -1.295e+04    1.7e+04     -0.761      0.446   -4.63e+04    2.04e+04\n",
      "31         -4.221e+05   1.41e+04    -29.898      0.000    -4.5e+05   -3.94e+05\n",
      "32         -2.466e+05   1.11e+04    -22.220      0.000   -2.68e+05   -2.25e+05\n",
      "33         -1.718e+05   8841.349    -19.433      0.000   -1.89e+05   -1.54e+05\n",
      "34         -2.597e+05   7373.451    -35.216      0.000   -2.74e+05   -2.45e+05\n",
      "35         -8.634e+04   6360.806    -13.573      0.000   -9.88e+04   -7.39e+04\n",
      "36          3.867e+05   1.53e+04     25.243      0.000    3.57e+05    4.17e+05\n",
      "37          8.506e+05      5e+04     16.999      0.000    7.53e+05    9.49e+05\n",
      "38         -1.828e+06   1.07e+05    -17.047      0.000   -2.04e+06   -1.62e+06\n",
      "39         -8.618e+05   5.34e+04    -16.135      0.000   -9.66e+05   -7.57e+05\n",
      "40          1.294e+06   8.01e+04     16.144      0.000    1.14e+06    1.45e+06\n",
      "41           3.23e+06   1.67e+05     19.392      0.000     2.9e+06    3.56e+06\n",
      "42           2.46e+05   2.61e+04      9.415      0.000    1.95e+05    2.97e+05\n",
      "43          2.449e+05   3.25e+04      7.531      0.000    1.81e+05    3.09e+05\n",
      "44         -9.362e+04   1.32e+04     -7.083      0.000    -1.2e+05   -6.77e+04\n",
      "45         -2.283e+05   2.07e+04    -11.010      0.000   -2.69e+05   -1.88e+05\n",
      "46         -1.076e+04      1e+04     -1.074      0.283   -3.04e+04    8870.203\n",
      "47         -1.757e+04   1.34e+04     -1.309      0.191   -4.39e+04    8737.275\n",
      "48         -4.825e+05   1.34e+04    -36.004      0.000   -5.09e+05   -4.56e+05\n",
      "49         -4.897e+05   1.45e+04    -33.749      0.000   -5.18e+05   -4.61e+05\n",
      "50         -2.735e+05   1.38e+04    -19.806      0.000   -3.01e+05   -2.46e+05\n",
      "51           1.45e+04   3991.075      3.633      0.000    6677.804    2.23e+04\n",
      "52         -1.969e+05   1.03e+04    -19.068      0.000   -2.17e+05   -1.77e+05\n",
      "53          1.453e+05   8280.615     17.542      0.000    1.29e+05    1.61e+05\n",
      "54          3.665e+04   8102.529      4.523      0.000    2.08e+04    5.25e+04\n",
      "55          9.024e+04   4650.892     19.403      0.000    8.11e+04    9.94e+04\n",
      "56          2.618e+04   6020.806      4.349      0.000    1.44e+04     3.8e+04\n",
      "57         -1.738e+05   5406.735    -32.141      0.000   -1.84e+05   -1.63e+05\n",
      "58         -9.875e+04   7985.682    -12.366      0.000   -1.14e+05   -8.31e+04\n",
      "59         -8497.3333   2003.940     -4.240      0.000   -1.24e+04   -4569.334\n",
      "60         -5.284e+04   1.32e+04     -3.997      0.000   -7.88e+04   -2.69e+04\n",
      "61          1.197e+05   4510.095     26.538      0.000    1.11e+05    1.29e+05\n",
      "62          5.358e+04   3474.018     15.422      0.000    4.68e+04    6.04e+04\n",
      "63          4.346e+04   5790.296      7.506      0.000    3.21e+04    5.48e+04\n",
      "64          5.824e+04   5906.513      9.861      0.000    4.67e+04    6.98e+04\n",
      "65         -8.873e+04   5958.230    -14.892      0.000      -1e+05   -7.71e+04\n",
      "66          -754.3051   6200.806     -0.122      0.903   -1.29e+04    1.14e+04\n",
      "67          1.892e+05   1.15e+04     16.450      0.000    1.67e+05    2.12e+05\n",
      "68          5052.3172   3006.111      1.681      0.093    -840.078    1.09e+04\n",
      "69         -1.854e+04   1757.239    -10.551      0.000    -2.2e+04   -1.51e+04\n",
      "70         -1.739e+04   3056.001     -5.689      0.000   -2.34e+04   -1.14e+04\n",
      "71          -2.02e+04   1498.155    -13.485      0.000   -2.31e+04   -1.73e+04\n",
      "72         -9.277e+04    1.2e+04     -7.740      0.000   -1.16e+05   -6.93e+04\n",
      "73          1.332e+05      1e+04     13.290      0.000    1.14e+05    1.53e+05\n",
      "74         -4662.0888   2243.039     -2.078      0.038   -9058.758    -265.420\n",
      "75           -4.1e+04   2086.518    -19.651      0.000   -4.51e+04   -3.69e+04\n",
      "76         -3.491e+04   3653.773     -9.553      0.000   -4.21e+04   -2.77e+04\n",
      "77          1.165e+04   1800.534      6.472      0.000    8123.620    1.52e+04\n",
      "78          2.342e+04   3072.352      7.624      0.000    1.74e+04    2.94e+04\n",
      "79         -1.397e+04   1024.276    -13.643      0.000    -1.6e+04    -1.2e+04\n",
      "==============================================================================\n",
      "Omnibus:                    17731.777   Durbin-Watson:                   1.908\n",
      "Prob(Omnibus):                  0.000   Jarque-Bera (JB):         39726892.736\n",
      "Skew:                           6.323   Prob(JB):                         0.00\n",
      "Kurtosis:                     266.988   Cond. No.                         783.\n",
      "==============================================================================\n",
      "\n",
      "Warnings:\n",
      "[1] Standard Errors assume that the covariance matrix of the errors is correctly specified.\n"
     ]
    }
   ],
   "source": [
    "X2 = sm.add_constant(X_train)\n",
    "est = sm.OLS(y_train.values, X2)\n",
    "est2 = est.fit()\n",
    "\n",
    "print(est2.summary()) "
   ]
  }
 ],
 "metadata": {
  "kernelspec": {
   "display_name": "Python 3",
   "language": "python",
   "name": "python3"
  },
  "language_info": {
   "codemirror_mode": {
    "name": "ipython",
    "version": 3
   },
   "file_extension": ".py",
   "mimetype": "text/x-python",
   "name": "python",
   "nbconvert_exporter": "python",
   "pygments_lexer": "ipython3",
   "version": "3.7.6"
  }
 },
 "nbformat": 4,
 "nbformat_minor": 4
}
