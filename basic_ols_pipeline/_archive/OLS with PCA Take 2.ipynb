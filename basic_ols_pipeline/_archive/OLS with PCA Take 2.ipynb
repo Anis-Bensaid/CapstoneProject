{
 "cells": [
  {
   "cell_type": "code",
   "execution_count": 59,
   "metadata": {},
   "outputs": [],
   "source": [
    "import pandas as pd\n",
    "import numpy as np\n",
    "import copy as cp\n",
    "import sklearn.metrics as metrics\n",
    "import statsmodels.api as sm\n",
    "import matplotlib.pyplot as plt"
   ]
  },
  {
   "cell_type": "code",
   "execution_count": 2,
   "metadata": {},
   "outputs": [],
   "source": [
    "from sklearn.model_selection import train_test_split, RandomizedSearchCV\n",
    "from sklearn.preprocessing import StandardScaler\n",
    "from sklearn.linear_model import LinearRegression\n",
    "from sklearn.decomposition import PCA"
   ]
  },
  {
   "cell_type": "code",
   "execution_count": 261,
   "metadata": {},
   "outputs": [],
   "source": [
    "from heatmap import heatmap, corrplot"
   ]
  },
  {
   "cell_type": "markdown",
   "metadata": {},
   "source": [
    "## Load and Merge Data"
   ]
  },
  {
   "cell_type": "code",
   "execution_count": 3,
   "metadata": {},
   "outputs": [],
   "source": [
    "onedrive_path = \"C:/Users/cfowle/The Estée Lauder Companies Inc/TeamAnis - General/\""
   ]
  },
  {
   "cell_type": "code",
   "execution_count": 11,
   "metadata": {},
   "outputs": [
    {
     "name": "stderr",
     "output_type": "stream",
     "text": [
      "C:\\Users\\cfowle\\Anaconda3\\lib\\site-packages\\IPython\\core\\interactiveshell.py:3063: DtypeWarning: Columns (5) have mixed types.Specify dtype option on import or set low_memory=False.\n",
      "  interactivity=interactivity, compiler=compiler, result=result)\n"
     ]
    }
   ],
   "source": [
    "reviews = pd.read_csv(onedrive_path + \"Data/Ratings and Reviews/reviews_demand_subcat.csv\")\n",
    "cc      = pd.read_csv(onedrive_path + \"Data/Consumer Care/cc_product_month.csv\")"
   ]
  },
  {
   "cell_type": "code",
   "execution_count": 12,
   "metadata": {},
   "outputs": [
    {
     "name": "stderr",
     "output_type": "stream",
     "text": [
      "C:\\Users\\cfowle\\Anaconda3\\lib\\site-packages\\IPython\\core\\interactiveshell.py:3063: DtypeWarning: Columns (9,12,23,26,28) have mixed types.Specify dtype option on import or set low_memory=False.\n",
      "  interactivity=interactivity, compiler=compiler, result=result)\n"
     ]
    }
   ],
   "source": [
    "products = pd.read_csv(onedrive_path + \"Data/Product/product_codes.csv\")"
   ]
  },
  {
   "cell_type": "code",
   "execution_count": 13,
   "metadata": {},
   "outputs": [
    {
     "name": "stdout",
     "output_type": "stream",
     "text": [
      "33702\n",
      "33667\n"
     ]
    }
   ],
   "source": [
    "print(len(reviews))\n",
    "reviews = reviews.drop(\"item_description\", axis = 1).drop_duplicates()\n",
    "print(len(reviews))"
   ]
  },
  {
   "cell_type": "code",
   "execution_count": 16,
   "metadata": {},
   "outputs": [],
   "source": [
    "cc = cc.rename(columns = {\"Date Month\": \"date\", \"P4\": \"itemid_4\", \"Brand Clean\": \"elc_brand\"})\n",
    "products = products.rename(columns = {\"P4\": \"itemid_4\", \"brand\": \"elc_brand\", \"SubCategory\":\"sub_category\"})\n",
    "products = products[[\"elc_brand\", \"itemid_4\", 'Major Category', 'Application', 'Category',\n",
    "       'sub_category']].drop_duplicates([\"elc_brand\", \"itemid_4\"])"
   ]
  },
  {
   "cell_type": "code",
   "execution_count": 17,
   "metadata": {},
   "outputs": [],
   "source": [
    "cc_product = cc.merge(products, how = \"left\", on = [\"itemid_4\", \"elc_brand\"])"
   ]
  },
  {
   "cell_type": "code",
   "execution_count": 26,
   "metadata": {},
   "outputs": [],
   "source": [
    "cc_product = cc_product.groupby([\"elc_brand\", \"date\", \"sub_category\"]).sum().reset_index()"
   ]
  },
  {
   "cell_type": "code",
   "execution_count": 27,
   "metadata": {},
   "outputs": [],
   "source": [
    "cc_reviews_product = reviews.merge(cc_product, how = \"left\").fillna(0)"
   ]
  },
  {
   "cell_type": "markdown",
   "metadata": {},
   "source": [
    "## Feature Engineering\n",
    "### Target Encoding"
   ]
  },
  {
   "cell_type": "code",
   "execution_count": 30,
   "metadata": {},
   "outputs": [],
   "source": [
    "subcat_map = cc_reviews_product.groupby(\"sub_category\")[\"demand_F1\"].mean().reset_index\n",
    "brand_map  = cc_reviews_product.groupby(\"elc_brand\")[\"demand_F1\"].mean().reset_index()\n",
    "\n",
    "cc_reviews_product[\"month\"] = [x[-2:] for x in cc_reviews_product[\"date\"].values]\n",
    "cc_reviews_product[\"year\"]  = [x[:4] for x in cc_reviews_product[\"date\"].values]\n",
    "\n",
    "month_map = cc_reviews_product.groupby(\"month\")[\"demand_F1\"].mean().reset_index()\n",
    "year_map  = cc_reviews_product.groupby(\"year\")[\"demand_F1\"].mean().reset_index()"
   ]
  },
  {
   "cell_type": "code",
   "execution_count": 32,
   "metadata": {},
   "outputs": [],
   "source": [
    "subcat_map = subcat_map.rename(columns = {\"demand_F1\":\"subcat_avg_demand\"})\n",
    "month_map  = month_map.rename(columns = {\"demand_F1\":\"month_avg_demand\"})\n",
    "year_map   = year_map.rename(columns = {\"demand_F1\":\"year_avg_demand\"})\n",
    "brand_map  = brand_map.rename(columns = {\"demand_F1\":\"brand_avg_demand\"})"
   ]
  },
  {
   "cell_type": "code",
   "execution_count": 173,
   "metadata": {},
   "outputs": [],
   "source": [
    "cc_reviews_product = cc_reviews_product.merge(subcat_map).merge(month_map).merge(year_map).merge(brand_map)\n",
    "cc_reviews_product = cc_reviews_product.sort_values(\"date\")"
   ]
  },
  {
   "cell_type": "markdown",
   "metadata": {},
   "source": [
    "### Create dataset without customer data"
   ]
  },
  {
   "cell_type": "code",
   "execution_count": 174,
   "metadata": {},
   "outputs": [],
   "source": [
    "non_customer_data = cc_reviews_product[[\"demand_F1\", \"demand\", \"demand_P2\", \"demand_P1\", \"month\", \"year\",\n",
    "                                   \"subcat_avg_demand\", \"month_avg_demand\", \"year_avg_demand\", \"brand_avg_demand\",\n",
    "                                   \"month\", \"year\"]]"
   ]
  },
  {
   "cell_type": "markdown",
   "metadata": {},
   "source": [
    "### Create Dataset with only Relative Measures"
   ]
  },
  {
   "cell_type": "code",
   "execution_count": 175,
   "metadata": {},
   "outputs": [],
   "source": [
    "relative_data = cp.deepcopy(non_customer_data)\n",
    "subcat = cc_reviews_product ##just here so I can copy some old code easily"
   ]
  },
  {
   "cell_type": "code",
   "execution_count": 176,
   "metadata": {},
   "outputs": [],
   "source": [
    "relative_data[\"percent_1\"] = subcat[\"rating_1\"]/subcat[\"nb_reviews\"]\n",
    "relative_data[\"percent_2\"] = subcat[\"rating_2\"]/subcat[\"nb_reviews\"]\n",
    "relative_data[\"percent_3\"] = subcat[\"rating_3\"]/subcat[\"nb_reviews\"]\n",
    "relative_data[\"percent_4\"] = subcat[\"rating_4\"]/subcat[\"nb_reviews\"]\n",
    "relative_data[\"percent_5\"] = subcat[\"rating_5\"]/subcat[\"nb_reviews\"]"
   ]
  },
  {
   "cell_type": "code",
   "execution_count": 177,
   "metadata": {},
   "outputs": [],
   "source": [
    "relative_data[\"percent_negative\"] = subcat['sentiment_negative']/subcat[\"nb_reviews\"]\n",
    "relative_data[\"percent_neutral\"] = subcat['sentiment_neutral']/subcat[\"nb_reviews\"]\n",
    "relative_data[\"percent_positive\"] = subcat['sentiment_positive']/subcat[\"nb_reviews\"]"
   ]
  },
  {
   "cell_type": "code",
   "execution_count": 178,
   "metadata": {},
   "outputs": [
    {
     "data": {
      "text/html": [
       "<div>\n",
       "<style scoped>\n",
       "    .dataframe tbody tr th:only-of-type {\n",
       "        vertical-align: middle;\n",
       "    }\n",
       "\n",
       "    .dataframe tbody tr th {\n",
       "        vertical-align: top;\n",
       "    }\n",
       "\n",
       "    .dataframe thead th {\n",
       "        text-align: right;\n",
       "    }\n",
       "</style>\n",
       "<table border=\"1\" class=\"dataframe\">\n",
       "  <thead>\n",
       "    <tr style=\"text-align: right;\">\n",
       "      <th></th>\n",
       "      <th>demand_F1</th>\n",
       "      <th>demand</th>\n",
       "      <th>demand_P2</th>\n",
       "      <th>demand_P1</th>\n",
       "      <th>month</th>\n",
       "      <th>year</th>\n",
       "      <th>subcat_avg_demand</th>\n",
       "      <th>month_avg_demand</th>\n",
       "      <th>year_avg_demand</th>\n",
       "      <th>brand_avg_demand</th>\n",
       "      <th>month</th>\n",
       "      <th>year</th>\n",
       "      <th>percent_1</th>\n",
       "      <th>percent_2</th>\n",
       "      <th>percent_3</th>\n",
       "      <th>percent_4</th>\n",
       "      <th>percent_5</th>\n",
       "      <th>percent_negative</th>\n",
       "      <th>percent_neutral</th>\n",
       "      <th>percent_positive</th>\n",
       "    </tr>\n",
       "  </thead>\n",
       "  <tbody>\n",
       "    <tr>\n",
       "      <th>12573</th>\n",
       "      <td>0.0</td>\n",
       "      <td>0</td>\n",
       "      <td>0.0</td>\n",
       "      <td>0.0</td>\n",
       "      <td>12</td>\n",
       "      <td>2014</td>\n",
       "      <td>7818.210660</td>\n",
       "      <td>11989.357495</td>\n",
       "      <td>18799.296530</td>\n",
       "      <td>17257.809373</td>\n",
       "      <td>12</td>\n",
       "      <td>2014</td>\n",
       "      <td>0.166667</td>\n",
       "      <td>0.0</td>\n",
       "      <td>0.0</td>\n",
       "      <td>0.250000</td>\n",
       "      <td>0.583333</td>\n",
       "      <td>0.141667</td>\n",
       "      <td>0.100000</td>\n",
       "      <td>0.758333</td>\n",
       "    </tr>\n",
       "    <tr>\n",
       "      <th>19237</th>\n",
       "      <td>13179.0</td>\n",
       "      <td>33883</td>\n",
       "      <td>34763.0</td>\n",
       "      <td>33478.0</td>\n",
       "      <td>12</td>\n",
       "      <td>2014</td>\n",
       "      <td>5933.089645</td>\n",
       "      <td>11989.357495</td>\n",
       "      <td>18799.296530</td>\n",
       "      <td>4359.405537</td>\n",
       "      <td>12</td>\n",
       "      <td>2014</td>\n",
       "      <td>0.000000</td>\n",
       "      <td>0.0</td>\n",
       "      <td>0.0</td>\n",
       "      <td>0.125000</td>\n",
       "      <td>0.875000</td>\n",
       "      <td>0.059524</td>\n",
       "      <td>0.133929</td>\n",
       "      <td>0.806548</td>\n",
       "    </tr>\n",
       "    <tr>\n",
       "      <th>32036</th>\n",
       "      <td>3460.0</td>\n",
       "      <td>2993</td>\n",
       "      <td>3390.0</td>\n",
       "      <td>2966.0</td>\n",
       "      <td>12</td>\n",
       "      <td>2014</td>\n",
       "      <td>9945.434319</td>\n",
       "      <td>11989.357495</td>\n",
       "      <td>18799.296530</td>\n",
       "      <td>9379.502545</td>\n",
       "      <td>12</td>\n",
       "      <td>2014</td>\n",
       "      <td>0.000000</td>\n",
       "      <td>0.0</td>\n",
       "      <td>0.0</td>\n",
       "      <td>0.000000</td>\n",
       "      <td>1.000000</td>\n",
       "      <td>0.111111</td>\n",
       "      <td>0.111111</td>\n",
       "      <td>0.777778</td>\n",
       "    </tr>\n",
       "    <tr>\n",
       "      <th>20598</th>\n",
       "      <td>13736.0</td>\n",
       "      <td>12688</td>\n",
       "      <td>15504.0</td>\n",
       "      <td>12518.0</td>\n",
       "      <td>12</td>\n",
       "      <td>2014</td>\n",
       "      <td>7818.210660</td>\n",
       "      <td>11989.357495</td>\n",
       "      <td>18799.296530</td>\n",
       "      <td>6302.522273</td>\n",
       "      <td>12</td>\n",
       "      <td>2014</td>\n",
       "      <td>0.000000</td>\n",
       "      <td>0.0</td>\n",
       "      <td>0.0</td>\n",
       "      <td>0.333333</td>\n",
       "      <td>0.666667</td>\n",
       "      <td>0.055556</td>\n",
       "      <td>0.227778</td>\n",
       "      <td>0.716667</td>\n",
       "    </tr>\n",
       "    <tr>\n",
       "      <th>20599</th>\n",
       "      <td>0.0</td>\n",
       "      <td>0</td>\n",
       "      <td>0.0</td>\n",
       "      <td>0.0</td>\n",
       "      <td>12</td>\n",
       "      <td>2014</td>\n",
       "      <td>5933.089645</td>\n",
       "      <td>11989.357495</td>\n",
       "      <td>18799.296530</td>\n",
       "      <td>6302.522273</td>\n",
       "      <td>12</td>\n",
       "      <td>2014</td>\n",
       "      <td>0.000000</td>\n",
       "      <td>0.0</td>\n",
       "      <td>0.0</td>\n",
       "      <td>0.000000</td>\n",
       "      <td>1.000000</td>\n",
       "      <td>0.000000</td>\n",
       "      <td>0.000000</td>\n",
       "      <td>1.000000</td>\n",
       "    </tr>\n",
       "    <tr>\n",
       "      <th>...</th>\n",
       "      <td>...</td>\n",
       "      <td>...</td>\n",
       "      <td>...</td>\n",
       "      <td>...</td>\n",
       "      <td>...</td>\n",
       "      <td>...</td>\n",
       "      <td>...</td>\n",
       "      <td>...</td>\n",
       "      <td>...</td>\n",
       "      <td>...</td>\n",
       "      <td>...</td>\n",
       "      <td>...</td>\n",
       "      <td>...</td>\n",
       "      <td>...</td>\n",
       "      <td>...</td>\n",
       "      <td>...</td>\n",
       "      <td>...</td>\n",
       "      <td>...</td>\n",
       "      <td>...</td>\n",
       "      <td>...</td>\n",
       "    </tr>\n",
       "    <tr>\n",
       "      <th>16976</th>\n",
       "      <td>0.0</td>\n",
       "      <td>0</td>\n",
       "      <td>0.0</td>\n",
       "      <td>0.0</td>\n",
       "      <td>03</td>\n",
       "      <td>2020</td>\n",
       "      <td>4703.272088</td>\n",
       "      <td>10461.578299</td>\n",
       "      <td>6630.341139</td>\n",
       "      <td>7933.452224</td>\n",
       "      <td>03</td>\n",
       "      <td>2020</td>\n",
       "      <td>0.000000</td>\n",
       "      <td>0.0</td>\n",
       "      <td>0.0</td>\n",
       "      <td>0.500000</td>\n",
       "      <td>0.500000</td>\n",
       "      <td>0.000000</td>\n",
       "      <td>0.225000</td>\n",
       "      <td>0.775000</td>\n",
       "    </tr>\n",
       "    <tr>\n",
       "      <th>16977</th>\n",
       "      <td>0.0</td>\n",
       "      <td>0</td>\n",
       "      <td>0.0</td>\n",
       "      <td>0.0</td>\n",
       "      <td>03</td>\n",
       "      <td>2020</td>\n",
       "      <td>4703.272088</td>\n",
       "      <td>10461.578299</td>\n",
       "      <td>6630.341139</td>\n",
       "      <td>7933.452224</td>\n",
       "      <td>03</td>\n",
       "      <td>2020</td>\n",
       "      <td>0.000000</td>\n",
       "      <td>0.0</td>\n",
       "      <td>0.0</td>\n",
       "      <td>0.000000</td>\n",
       "      <td>1.000000</td>\n",
       "      <td>0.000000</td>\n",
       "      <td>0.000000</td>\n",
       "      <td>1.000000</td>\n",
       "    </tr>\n",
       "    <tr>\n",
       "      <th>16978</th>\n",
       "      <td>0.0</td>\n",
       "      <td>0</td>\n",
       "      <td>414.0</td>\n",
       "      <td>0.0</td>\n",
       "      <td>03</td>\n",
       "      <td>2020</td>\n",
       "      <td>4703.272088</td>\n",
       "      <td>10461.578299</td>\n",
       "      <td>6630.341139</td>\n",
       "      <td>7933.452224</td>\n",
       "      <td>03</td>\n",
       "      <td>2020</td>\n",
       "      <td>0.100000</td>\n",
       "      <td>0.0</td>\n",
       "      <td>0.0</td>\n",
       "      <td>0.100000</td>\n",
       "      <td>0.800000</td>\n",
       "      <td>0.050000</td>\n",
       "      <td>0.076190</td>\n",
       "      <td>0.873810</td>\n",
       "    </tr>\n",
       "    <tr>\n",
       "      <th>16980</th>\n",
       "      <td>1623.0</td>\n",
       "      <td>21783</td>\n",
       "      <td>12270.0</td>\n",
       "      <td>14718.0</td>\n",
       "      <td>03</td>\n",
       "      <td>2020</td>\n",
       "      <td>4703.272088</td>\n",
       "      <td>10461.578299</td>\n",
       "      <td>6630.341139</td>\n",
       "      <td>7933.452224</td>\n",
       "      <td>03</td>\n",
       "      <td>2020</td>\n",
       "      <td>0.500000</td>\n",
       "      <td>0.0</td>\n",
       "      <td>0.0</td>\n",
       "      <td>0.000000</td>\n",
       "      <td>0.500000</td>\n",
       "      <td>0.062500</td>\n",
       "      <td>0.312500</td>\n",
       "      <td>0.625000</td>\n",
       "    </tr>\n",
       "    <tr>\n",
       "      <th>17046</th>\n",
       "      <td>858.0</td>\n",
       "      <td>8556</td>\n",
       "      <td>11727.0</td>\n",
       "      <td>10419.0</td>\n",
       "      <td>03</td>\n",
       "      <td>2020</td>\n",
       "      <td>15648.312500</td>\n",
       "      <td>10461.578299</td>\n",
       "      <td>6630.341139</td>\n",
       "      <td>7933.452224</td>\n",
       "      <td>03</td>\n",
       "      <td>2020</td>\n",
       "      <td>0.000000</td>\n",
       "      <td>0.2</td>\n",
       "      <td>0.0</td>\n",
       "      <td>0.000000</td>\n",
       "      <td>0.800000</td>\n",
       "      <td>0.066667</td>\n",
       "      <td>0.066667</td>\n",
       "      <td>0.866667</td>\n",
       "    </tr>\n",
       "  </tbody>\n",
       "</table>\n",
       "<p>33667 rows × 20 columns</p>\n",
       "</div>"
      ],
      "text/plain": [
       "       demand_F1  demand  demand_P2  demand_P1 month  year  subcat_avg_demand  \\\n",
       "12573        0.0       0        0.0        0.0    12  2014        7818.210660   \n",
       "19237    13179.0   33883    34763.0    33478.0    12  2014        5933.089645   \n",
       "32036     3460.0    2993     3390.0     2966.0    12  2014        9945.434319   \n",
       "20598    13736.0   12688    15504.0    12518.0    12  2014        7818.210660   \n",
       "20599        0.0       0        0.0        0.0    12  2014        5933.089645   \n",
       "...          ...     ...        ...        ...   ...   ...                ...   \n",
       "16976        0.0       0        0.0        0.0    03  2020        4703.272088   \n",
       "16977        0.0       0        0.0        0.0    03  2020        4703.272088   \n",
       "16978        0.0       0      414.0        0.0    03  2020        4703.272088   \n",
       "16980     1623.0   21783    12270.0    14718.0    03  2020        4703.272088   \n",
       "17046      858.0    8556    11727.0    10419.0    03  2020       15648.312500   \n",
       "\n",
       "       month_avg_demand  year_avg_demand  brand_avg_demand month  year  \\\n",
       "12573      11989.357495     18799.296530      17257.809373    12  2014   \n",
       "19237      11989.357495     18799.296530       4359.405537    12  2014   \n",
       "32036      11989.357495     18799.296530       9379.502545    12  2014   \n",
       "20598      11989.357495     18799.296530       6302.522273    12  2014   \n",
       "20599      11989.357495     18799.296530       6302.522273    12  2014   \n",
       "...                 ...              ...               ...   ...   ...   \n",
       "16976      10461.578299      6630.341139       7933.452224    03  2020   \n",
       "16977      10461.578299      6630.341139       7933.452224    03  2020   \n",
       "16978      10461.578299      6630.341139       7933.452224    03  2020   \n",
       "16980      10461.578299      6630.341139       7933.452224    03  2020   \n",
       "17046      10461.578299      6630.341139       7933.452224    03  2020   \n",
       "\n",
       "       percent_1  percent_2  percent_3  percent_4  percent_5  \\\n",
       "12573   0.166667        0.0        0.0   0.250000   0.583333   \n",
       "19237   0.000000        0.0        0.0   0.125000   0.875000   \n",
       "32036   0.000000        0.0        0.0   0.000000   1.000000   \n",
       "20598   0.000000        0.0        0.0   0.333333   0.666667   \n",
       "20599   0.000000        0.0        0.0   0.000000   1.000000   \n",
       "...          ...        ...        ...        ...        ...   \n",
       "16976   0.000000        0.0        0.0   0.500000   0.500000   \n",
       "16977   0.000000        0.0        0.0   0.000000   1.000000   \n",
       "16978   0.100000        0.0        0.0   0.100000   0.800000   \n",
       "16980   0.500000        0.0        0.0   0.000000   0.500000   \n",
       "17046   0.000000        0.2        0.0   0.000000   0.800000   \n",
       "\n",
       "       percent_negative  percent_neutral  percent_positive  \n",
       "12573          0.141667         0.100000          0.758333  \n",
       "19237          0.059524         0.133929          0.806548  \n",
       "32036          0.111111         0.111111          0.777778  \n",
       "20598          0.055556         0.227778          0.716667  \n",
       "20599          0.000000         0.000000          1.000000  \n",
       "...                 ...              ...               ...  \n",
       "16976          0.000000         0.225000          0.775000  \n",
       "16977          0.000000         0.000000          1.000000  \n",
       "16978          0.050000         0.076190          0.873810  \n",
       "16980          0.062500         0.312500          0.625000  \n",
       "17046          0.066667         0.066667          0.866667  \n",
       "\n",
       "[33667 rows x 20 columns]"
      ]
     },
     "execution_count": 178,
     "metadata": {},
     "output_type": "execute_result"
    }
   ],
   "source": [
    "relative_data = relative_data.fillna(0)\n",
    "relative_data"
   ]
  },
  {
   "cell_type": "code",
   "execution_count": 179,
   "metadata": {},
   "outputs": [],
   "source": [
    "full_relative_data = cp.deepcopy(relative_data)"
   ]
  },
  {
   "cell_type": "code",
   "execution_count": 180,
   "metadata": {},
   "outputs": [],
   "source": [
    "subcat[\"cc_tot\"] = subcat['Complaints'] + subcat['Compliments'] + subcat['Questions'] + subcat['Suggestions']"
   ]
  },
  {
   "cell_type": "code",
   "execution_count": 181,
   "metadata": {},
   "outputs": [],
   "source": [
    "cc_counts = cc.drop(['Product Code', 'itemid_4', 'elc_brand', \"date\"], axis = 1).columns"
   ]
  },
  {
   "cell_type": "code",
   "execution_count": 182,
   "metadata": {},
   "outputs": [],
   "source": [
    "for col in cc_counts:\n",
    "    full_relative_data[\"percent_\" + col] = subcat[col]/subcat[\"cc_tot\"]"
   ]
  },
  {
   "cell_type": "code",
   "execution_count": 183,
   "metadata": {},
   "outputs": [],
   "source": [
    "full_relative_data = full_relative_data.fillna(0)"
   ]
  },
  {
   "cell_type": "code",
   "execution_count": 184,
   "metadata": {
    "scrolled": true
   },
   "outputs": [
    {
     "data": {
      "text/html": [
       "<div>\n",
       "<style scoped>\n",
       "    .dataframe tbody tr th:only-of-type {\n",
       "        vertical-align: middle;\n",
       "    }\n",
       "\n",
       "    .dataframe tbody tr th {\n",
       "        vertical-align: top;\n",
       "    }\n",
       "\n",
       "    .dataframe thead th {\n",
       "        text-align: right;\n",
       "    }\n",
       "</style>\n",
       "<table border=\"1\" class=\"dataframe\">\n",
       "  <thead>\n",
       "    <tr style=\"text-align: right;\">\n",
       "      <th></th>\n",
       "      <th>demand_F1</th>\n",
       "      <th>demand</th>\n",
       "      <th>demand_P2</th>\n",
       "      <th>demand_P1</th>\n",
       "      <th>month</th>\n",
       "      <th>year</th>\n",
       "      <th>subcat_avg_demand</th>\n",
       "      <th>month_avg_demand</th>\n",
       "      <th>year_avg_demand</th>\n",
       "      <th>brand_avg_demand</th>\n",
       "      <th>...</th>\n",
       "      <th>percent_Questions_Order_Returns</th>\n",
       "      <th>percent_Questions_Product_General</th>\n",
       "      <th>percent_Questions_Product_Packaging</th>\n",
       "      <th>percent_Questions_Product_Performance</th>\n",
       "      <th>percent_Questions_Product_Usage Related</th>\n",
       "      <th>percent_Questions_Service_Location</th>\n",
       "      <th>percent_Questions_Service_Miscellaneous</th>\n",
       "      <th>percent_Questions_Website_Offer Codes</th>\n",
       "      <th>percent_Questions_Website_Website functionality</th>\n",
       "      <th>percent_Suggestions_Suggestion_Miscellaneous</th>\n",
       "    </tr>\n",
       "  </thead>\n",
       "  <tbody>\n",
       "    <tr>\n",
       "      <th>12573</th>\n",
       "      <td>0.0</td>\n",
       "      <td>0</td>\n",
       "      <td>0.0</td>\n",
       "      <td>0.0</td>\n",
       "      <td>12</td>\n",
       "      <td>2014</td>\n",
       "      <td>7818.210660</td>\n",
       "      <td>11989.357495</td>\n",
       "      <td>18799.296530</td>\n",
       "      <td>17257.809373</td>\n",
       "      <td>...</td>\n",
       "      <td>0.0</td>\n",
       "      <td>0.0</td>\n",
       "      <td>0.0</td>\n",
       "      <td>0.0</td>\n",
       "      <td>0.0</td>\n",
       "      <td>0.0</td>\n",
       "      <td>0.0</td>\n",
       "      <td>0.0</td>\n",
       "      <td>0.0</td>\n",
       "      <td>0.0</td>\n",
       "    </tr>\n",
       "    <tr>\n",
       "      <th>19237</th>\n",
       "      <td>13179.0</td>\n",
       "      <td>33883</td>\n",
       "      <td>34763.0</td>\n",
       "      <td>33478.0</td>\n",
       "      <td>12</td>\n",
       "      <td>2014</td>\n",
       "      <td>5933.089645</td>\n",
       "      <td>11989.357495</td>\n",
       "      <td>18799.296530</td>\n",
       "      <td>4359.405537</td>\n",
       "      <td>...</td>\n",
       "      <td>0.0</td>\n",
       "      <td>0.0</td>\n",
       "      <td>0.0</td>\n",
       "      <td>0.0</td>\n",
       "      <td>0.0</td>\n",
       "      <td>0.0</td>\n",
       "      <td>0.0</td>\n",
       "      <td>0.0</td>\n",
       "      <td>0.0</td>\n",
       "      <td>0.0</td>\n",
       "    </tr>\n",
       "    <tr>\n",
       "      <th>32036</th>\n",
       "      <td>3460.0</td>\n",
       "      <td>2993</td>\n",
       "      <td>3390.0</td>\n",
       "      <td>2966.0</td>\n",
       "      <td>12</td>\n",
       "      <td>2014</td>\n",
       "      <td>9945.434319</td>\n",
       "      <td>11989.357495</td>\n",
       "      <td>18799.296530</td>\n",
       "      <td>9379.502545</td>\n",
       "      <td>...</td>\n",
       "      <td>0.0</td>\n",
       "      <td>0.0</td>\n",
       "      <td>0.0</td>\n",
       "      <td>0.0</td>\n",
       "      <td>0.0</td>\n",
       "      <td>0.0</td>\n",
       "      <td>0.0</td>\n",
       "      <td>0.0</td>\n",
       "      <td>0.0</td>\n",
       "      <td>0.0</td>\n",
       "    </tr>\n",
       "    <tr>\n",
       "      <th>20598</th>\n",
       "      <td>13736.0</td>\n",
       "      <td>12688</td>\n",
       "      <td>15504.0</td>\n",
       "      <td>12518.0</td>\n",
       "      <td>12</td>\n",
       "      <td>2014</td>\n",
       "      <td>7818.210660</td>\n",
       "      <td>11989.357495</td>\n",
       "      <td>18799.296530</td>\n",
       "      <td>6302.522273</td>\n",
       "      <td>...</td>\n",
       "      <td>0.0</td>\n",
       "      <td>0.0</td>\n",
       "      <td>0.0</td>\n",
       "      <td>0.0</td>\n",
       "      <td>0.0</td>\n",
       "      <td>0.0</td>\n",
       "      <td>0.0</td>\n",
       "      <td>0.0</td>\n",
       "      <td>0.0</td>\n",
       "      <td>0.0</td>\n",
       "    </tr>\n",
       "    <tr>\n",
       "      <th>20599</th>\n",
       "      <td>0.0</td>\n",
       "      <td>0</td>\n",
       "      <td>0.0</td>\n",
       "      <td>0.0</td>\n",
       "      <td>12</td>\n",
       "      <td>2014</td>\n",
       "      <td>5933.089645</td>\n",
       "      <td>11989.357495</td>\n",
       "      <td>18799.296530</td>\n",
       "      <td>6302.522273</td>\n",
       "      <td>...</td>\n",
       "      <td>0.0</td>\n",
       "      <td>0.0</td>\n",
       "      <td>0.0</td>\n",
       "      <td>0.0</td>\n",
       "      <td>0.0</td>\n",
       "      <td>0.0</td>\n",
       "      <td>0.0</td>\n",
       "      <td>0.0</td>\n",
       "      <td>0.0</td>\n",
       "      <td>0.0</td>\n",
       "    </tr>\n",
       "    <tr>\n",
       "      <th>...</th>\n",
       "      <td>...</td>\n",
       "      <td>...</td>\n",
       "      <td>...</td>\n",
       "      <td>...</td>\n",
       "      <td>...</td>\n",
       "      <td>...</td>\n",
       "      <td>...</td>\n",
       "      <td>...</td>\n",
       "      <td>...</td>\n",
       "      <td>...</td>\n",
       "      <td>...</td>\n",
       "      <td>...</td>\n",
       "      <td>...</td>\n",
       "      <td>...</td>\n",
       "      <td>...</td>\n",
       "      <td>...</td>\n",
       "      <td>...</td>\n",
       "      <td>...</td>\n",
       "      <td>...</td>\n",
       "      <td>...</td>\n",
       "      <td>...</td>\n",
       "    </tr>\n",
       "    <tr>\n",
       "      <th>16976</th>\n",
       "      <td>0.0</td>\n",
       "      <td>0</td>\n",
       "      <td>0.0</td>\n",
       "      <td>0.0</td>\n",
       "      <td>03</td>\n",
       "      <td>2020</td>\n",
       "      <td>4703.272088</td>\n",
       "      <td>10461.578299</td>\n",
       "      <td>6630.341139</td>\n",
       "      <td>7933.452224</td>\n",
       "      <td>...</td>\n",
       "      <td>0.0</td>\n",
       "      <td>0.0</td>\n",
       "      <td>0.0</td>\n",
       "      <td>0.0</td>\n",
       "      <td>0.0</td>\n",
       "      <td>0.0</td>\n",
       "      <td>0.0</td>\n",
       "      <td>0.0</td>\n",
       "      <td>0.0</td>\n",
       "      <td>0.0</td>\n",
       "    </tr>\n",
       "    <tr>\n",
       "      <th>16977</th>\n",
       "      <td>0.0</td>\n",
       "      <td>0</td>\n",
       "      <td>0.0</td>\n",
       "      <td>0.0</td>\n",
       "      <td>03</td>\n",
       "      <td>2020</td>\n",
       "      <td>4703.272088</td>\n",
       "      <td>10461.578299</td>\n",
       "      <td>6630.341139</td>\n",
       "      <td>7933.452224</td>\n",
       "      <td>...</td>\n",
       "      <td>0.0</td>\n",
       "      <td>0.0</td>\n",
       "      <td>0.0</td>\n",
       "      <td>0.0</td>\n",
       "      <td>0.0</td>\n",
       "      <td>0.0</td>\n",
       "      <td>0.0</td>\n",
       "      <td>0.0</td>\n",
       "      <td>0.0</td>\n",
       "      <td>0.0</td>\n",
       "    </tr>\n",
       "    <tr>\n",
       "      <th>16978</th>\n",
       "      <td>0.0</td>\n",
       "      <td>0</td>\n",
       "      <td>414.0</td>\n",
       "      <td>0.0</td>\n",
       "      <td>03</td>\n",
       "      <td>2020</td>\n",
       "      <td>4703.272088</td>\n",
       "      <td>10461.578299</td>\n",
       "      <td>6630.341139</td>\n",
       "      <td>7933.452224</td>\n",
       "      <td>...</td>\n",
       "      <td>0.0</td>\n",
       "      <td>0.0</td>\n",
       "      <td>0.0</td>\n",
       "      <td>0.0</td>\n",
       "      <td>0.0</td>\n",
       "      <td>0.0</td>\n",
       "      <td>0.0</td>\n",
       "      <td>0.0</td>\n",
       "      <td>0.0</td>\n",
       "      <td>0.0</td>\n",
       "    </tr>\n",
       "    <tr>\n",
       "      <th>16980</th>\n",
       "      <td>1623.0</td>\n",
       "      <td>21783</td>\n",
       "      <td>12270.0</td>\n",
       "      <td>14718.0</td>\n",
       "      <td>03</td>\n",
       "      <td>2020</td>\n",
       "      <td>4703.272088</td>\n",
       "      <td>10461.578299</td>\n",
       "      <td>6630.341139</td>\n",
       "      <td>7933.452224</td>\n",
       "      <td>...</td>\n",
       "      <td>0.0</td>\n",
       "      <td>0.0</td>\n",
       "      <td>0.0</td>\n",
       "      <td>0.0</td>\n",
       "      <td>0.0</td>\n",
       "      <td>0.0</td>\n",
       "      <td>0.0</td>\n",
       "      <td>0.0</td>\n",
       "      <td>0.0</td>\n",
       "      <td>0.0</td>\n",
       "    </tr>\n",
       "    <tr>\n",
       "      <th>17046</th>\n",
       "      <td>858.0</td>\n",
       "      <td>8556</td>\n",
       "      <td>11727.0</td>\n",
       "      <td>10419.0</td>\n",
       "      <td>03</td>\n",
       "      <td>2020</td>\n",
       "      <td>15648.312500</td>\n",
       "      <td>10461.578299</td>\n",
       "      <td>6630.341139</td>\n",
       "      <td>7933.452224</td>\n",
       "      <td>...</td>\n",
       "      <td>0.0</td>\n",
       "      <td>0.0</td>\n",
       "      <td>0.0</td>\n",
       "      <td>0.0</td>\n",
       "      <td>0.0</td>\n",
       "      <td>0.0</td>\n",
       "      <td>0.0</td>\n",
       "      <td>0.0</td>\n",
       "      <td>0.0</td>\n",
       "      <td>0.0</td>\n",
       "    </tr>\n",
       "  </tbody>\n",
       "</table>\n",
       "<p>33667 rows × 108 columns</p>\n",
       "</div>"
      ],
      "text/plain": [
       "       demand_F1  demand  demand_P2  demand_P1 month  year  subcat_avg_demand  \\\n",
       "12573        0.0       0        0.0        0.0    12  2014        7818.210660   \n",
       "19237    13179.0   33883    34763.0    33478.0    12  2014        5933.089645   \n",
       "32036     3460.0    2993     3390.0     2966.0    12  2014        9945.434319   \n",
       "20598    13736.0   12688    15504.0    12518.0    12  2014        7818.210660   \n",
       "20599        0.0       0        0.0        0.0    12  2014        5933.089645   \n",
       "...          ...     ...        ...        ...   ...   ...                ...   \n",
       "16976        0.0       0        0.0        0.0    03  2020        4703.272088   \n",
       "16977        0.0       0        0.0        0.0    03  2020        4703.272088   \n",
       "16978        0.0       0      414.0        0.0    03  2020        4703.272088   \n",
       "16980     1623.0   21783    12270.0    14718.0    03  2020        4703.272088   \n",
       "17046      858.0    8556    11727.0    10419.0    03  2020       15648.312500   \n",
       "\n",
       "       month_avg_demand  year_avg_demand  brand_avg_demand  ...  \\\n",
       "12573      11989.357495     18799.296530      17257.809373  ...   \n",
       "19237      11989.357495     18799.296530       4359.405537  ...   \n",
       "32036      11989.357495     18799.296530       9379.502545  ...   \n",
       "20598      11989.357495     18799.296530       6302.522273  ...   \n",
       "20599      11989.357495     18799.296530       6302.522273  ...   \n",
       "...                 ...              ...               ...  ...   \n",
       "16976      10461.578299      6630.341139       7933.452224  ...   \n",
       "16977      10461.578299      6630.341139       7933.452224  ...   \n",
       "16978      10461.578299      6630.341139       7933.452224  ...   \n",
       "16980      10461.578299      6630.341139       7933.452224  ...   \n",
       "17046      10461.578299      6630.341139       7933.452224  ...   \n",
       "\n",
       "      percent_Questions_Order_Returns percent_Questions_Product_General  \\\n",
       "12573                             0.0                               0.0   \n",
       "19237                             0.0                               0.0   \n",
       "32036                             0.0                               0.0   \n",
       "20598                             0.0                               0.0   \n",
       "20599                             0.0                               0.0   \n",
       "...                               ...                               ...   \n",
       "16976                             0.0                               0.0   \n",
       "16977                             0.0                               0.0   \n",
       "16978                             0.0                               0.0   \n",
       "16980                             0.0                               0.0   \n",
       "17046                             0.0                               0.0   \n",
       "\n",
       "       percent_Questions_Product_Packaging  \\\n",
       "12573                                  0.0   \n",
       "19237                                  0.0   \n",
       "32036                                  0.0   \n",
       "20598                                  0.0   \n",
       "20599                                  0.0   \n",
       "...                                    ...   \n",
       "16976                                  0.0   \n",
       "16977                                  0.0   \n",
       "16978                                  0.0   \n",
       "16980                                  0.0   \n",
       "17046                                  0.0   \n",
       "\n",
       "       percent_Questions_Product_Performance  \\\n",
       "12573                                    0.0   \n",
       "19237                                    0.0   \n",
       "32036                                    0.0   \n",
       "20598                                    0.0   \n",
       "20599                                    0.0   \n",
       "...                                      ...   \n",
       "16976                                    0.0   \n",
       "16977                                    0.0   \n",
       "16978                                    0.0   \n",
       "16980                                    0.0   \n",
       "17046                                    0.0   \n",
       "\n",
       "       percent_Questions_Product_Usage Related  \\\n",
       "12573                                      0.0   \n",
       "19237                                      0.0   \n",
       "32036                                      0.0   \n",
       "20598                                      0.0   \n",
       "20599                                      0.0   \n",
       "...                                        ...   \n",
       "16976                                      0.0   \n",
       "16977                                      0.0   \n",
       "16978                                      0.0   \n",
       "16980                                      0.0   \n",
       "17046                                      0.0   \n",
       "\n",
       "       percent_Questions_Service_Location  \\\n",
       "12573                                 0.0   \n",
       "19237                                 0.0   \n",
       "32036                                 0.0   \n",
       "20598                                 0.0   \n",
       "20599                                 0.0   \n",
       "...                                   ...   \n",
       "16976                                 0.0   \n",
       "16977                                 0.0   \n",
       "16978                                 0.0   \n",
       "16980                                 0.0   \n",
       "17046                                 0.0   \n",
       "\n",
       "       percent_Questions_Service_Miscellaneous  \\\n",
       "12573                                      0.0   \n",
       "19237                                      0.0   \n",
       "32036                                      0.0   \n",
       "20598                                      0.0   \n",
       "20599                                      0.0   \n",
       "...                                        ...   \n",
       "16976                                      0.0   \n",
       "16977                                      0.0   \n",
       "16978                                      0.0   \n",
       "16980                                      0.0   \n",
       "17046                                      0.0   \n",
       "\n",
       "       percent_Questions_Website_Offer Codes  \\\n",
       "12573                                    0.0   \n",
       "19237                                    0.0   \n",
       "32036                                    0.0   \n",
       "20598                                    0.0   \n",
       "20599                                    0.0   \n",
       "...                                      ...   \n",
       "16976                                    0.0   \n",
       "16977                                    0.0   \n",
       "16978                                    0.0   \n",
       "16980                                    0.0   \n",
       "17046                                    0.0   \n",
       "\n",
       "       percent_Questions_Website_Website functionality  \\\n",
       "12573                                              0.0   \n",
       "19237                                              0.0   \n",
       "32036                                              0.0   \n",
       "20598                                              0.0   \n",
       "20599                                              0.0   \n",
       "...                                                ...   \n",
       "16976                                              0.0   \n",
       "16977                                              0.0   \n",
       "16978                                              0.0   \n",
       "16980                                              0.0   \n",
       "17046                                              0.0   \n",
       "\n",
       "       percent_Suggestions_Suggestion_Miscellaneous  \n",
       "12573                                           0.0  \n",
       "19237                                           0.0  \n",
       "32036                                           0.0  \n",
       "20598                                           0.0  \n",
       "20599                                           0.0  \n",
       "...                                             ...  \n",
       "16976                                           0.0  \n",
       "16977                                           0.0  \n",
       "16978                                           0.0  \n",
       "16980                                           0.0  \n",
       "17046                                           0.0  \n",
       "\n",
       "[33667 rows x 108 columns]"
      ]
     },
     "execution_count": 184,
     "metadata": {},
     "output_type": "execute_result"
    }
   ],
   "source": [
    "full_relative_data"
   ]
  },
  {
   "cell_type": "markdown",
   "metadata": {},
   "source": [
    "## Build Models\n",
    "### No Customer Data"
   ]
  },
  {
   "cell_type": "code",
   "execution_count": 185,
   "metadata": {},
   "outputs": [],
   "source": [
    "X = non_customer_data.drop([\"demand_F1\"], axis = 1)\n",
    "y = non_customer_data[[\"demand_F1\"]]"
   ]
  },
  {
   "cell_type": "code",
   "execution_count": 186,
   "metadata": {},
   "outputs": [
    {
     "data": {
      "text/plain": [
       "Text(0, 0.5, 'cumulative explained variance')"
      ]
     },
     "execution_count": 186,
     "metadata": {},
     "output_type": "execute_result"
    },
    {
     "data": {
      "image/png": "[encoded data removed]",
      "text/plain": [
       "<Figure size 432x288 with 1 Axes>"
      ]
     },
     "metadata": {
      "needs_background": "light"
     },
     "output_type": "display_data"
    }
   ],
   "source": [
    "X = StandardScaler().fit_transform(X)\n",
    "pca = PCA().fit(X)\n",
    "plt.plot(np.cumsum(pca.explained_variance_ratio_))\n",
    "plt.xlabel('number of components')\n",
    "plt.ylabel('cumulative explained variance')"
   ]
  },
  {
   "cell_type": "code",
   "execution_count": 187,
   "metadata": {},
   "outputs": [],
   "source": [
    "pca = PCA(n_components=6)\n",
    "principalComponents = pca.fit_transform(X)\n",
    "principalDf = pd.DataFrame(data = principalComponents)"
   ]
  },
  {
   "cell_type": "code",
   "execution_count": 188,
   "metadata": {},
   "outputs": [],
   "source": [
    "X_train, X_test, y_train, y_test = train_test_split(principalDf, y, shuffle = False)"
   ]
  },
  {
   "cell_type": "code",
   "execution_count": 189,
   "metadata": {},
   "outputs": [
    {
     "data": {
      "text/plain": [
       "0.32229288503358133"
      ]
     },
     "execution_count": 189,
     "metadata": {},
     "output_type": "execute_result"
    }
   ],
   "source": [
    "lm = LinearRegression()\n",
    "lm.fit(X_train, y_train)\n",
    "\n",
    "pred = lm.predict(X_test)\n",
    "metrics.r2_score(pred, y_test)"
   ]
  },
  {
   "cell_type": "code",
   "execution_count": 190,
   "metadata": {},
   "outputs": [
    {
     "name": "stdout",
     "output_type": "stream",
     "text": [
      "                            OLS Regression Results                            \n",
      "==============================================================================\n",
      "Dep. Variable:                      y   R-squared:                       0.571\n",
      "Model:                            OLS   Adj. R-squared:                  0.571\n",
      "Method:                 Least Squares   F-statistic:                     5605.\n",
      "Date:                Fri, 19 Jun 2020   Prob (F-statistic):               0.00\n",
      "Time:                        13:31:50   Log-Likelihood:            -2.9263e+05\n",
      "No. Observations:               25250   AIC:                         5.853e+05\n",
      "Df Residuals:                   25243   BIC:                         5.853e+05\n",
      "Df Model:                           6                                         \n",
      "Covariance Type:            nonrobust                                         \n",
      "==============================================================================\n",
      "                 coef    std err          t      P>|t|      [0.025      0.975]\n",
      "------------------------------------------------------------------------------\n",
      "const       1.356e+04    187.823     72.187      0.000    1.32e+04    1.39e+04\n",
      "0           5522.6460    115.940     47.634      0.000    5295.397    5749.895\n",
      "1           1.665e+04    102.019    163.190      0.000    1.64e+04    1.68e+04\n",
      "2            829.4386    123.903      6.694      0.000     586.582    1072.295\n",
      "3          -1286.9257    168.535     -7.636      0.000   -1617.264    -956.587\n",
      "4           5520.3035    168.093     32.841      0.000    5190.831    5849.776\n",
      "5           1980.3216    183.897     10.769      0.000    1619.874    2340.770\n",
      "==============================================================================\n",
      "Omnibus:                    52561.456   Durbin-Watson:                   1.960\n",
      "Prob(Omnibus):                  0.000   Jarque-Bera (JB):        629620547.089\n",
      "Skew:                          17.332   Prob(JB):                         0.00\n",
      "Kurtosis:                     775.819   Cond. No.                         2.11\n",
      "==============================================================================\n",
      "\n",
      "Warnings:\n",
      "[1] Standard Errors assume that the covariance matrix of the errors is correctly specified.\n"
     ]
    }
   ],
   "source": [
    "X2 = sm.add_constant(X_train)\n",
    "est = sm.OLS(y_train.values.reshape(-1,1), X2)\n",
    "est2 = est.fit()\n",
    "\n",
    "print(est2.summary())"
   ]
  },
  {
   "cell_type": "code",
   "execution_count": 191,
   "metadata": {},
   "outputs": [
    {
     "name": "stdout",
     "output_type": "stream",
     "text": [
      "Feature 0 , Explains 3.304832945778841%\n",
      "                 0                    1\n",
      "0  year_avg_demand   0.5050604624414725\n",
      "1            month  0.26656859905536595\n",
      "2            month  0.26656859905536584\n",
      "3           demand  0.16332509513150867\n",
      "4        demand_P1  0.15866347755712945\n",
      "Feature 1 , Explains 2.5124304139143736%\n",
      "                   0                   1\n",
      "0          demand_P1  0.5053789445315845\n",
      "1          demand_P2  0.5020396799231963\n",
      "2             demand  0.4989817574317242\n",
      "3  subcat_avg_demand  0.3025996943841499\n",
      "4   brand_avg_demand  0.2208522550409795\n",
      "Feature 2 , Explains 1.7527418140328614%\n",
      "        0                    1\n",
      "0   month   0.6364863278470057\n",
      "1   month   0.6364863278470055\n",
      "2    year  0.24973607356343488\n",
      "3    year   0.2497360735634348\n",
      "4  demand  0.05094061033073227\n",
      "Feature 3 , Explains 0.9983645251429656%\n",
      "                 0                      1\n",
      "0           demand    0.04730698766633648\n",
      "1        demand_P1   0.027551092885370276\n",
      "2  year_avg_demand  0.0002251334109621428\n",
      "3             year  -0.020496745884770188\n",
      "4             year  -0.020496745884770205\n",
      "Feature 4 , Explains 0.9380747679160516%\n",
      "                  0                     1\n",
      "0         demand_P1     0.218179466338116\n",
      "1         demand_P2   0.21518327269274498\n",
      "2            demand   0.20506237297579677\n",
      "3  month_avg_demand  0.059694245447583276\n",
      "4   year_avg_demand  0.019757712799715367\n",
      "Feature 5 , Explains 0.7855435334879823%\n",
      "                  0                    1\n",
      "0  brand_avg_demand   0.5221041833092105\n",
      "1         demand_P1  0.09497913354832664\n",
      "2         demand_P2  0.08892986761685191\n",
      "3            demand  0.08531433660466882\n",
      "4  month_avg_demand  0.03619930704554324\n"
     ]
    }
   ],
   "source": [
    "for i,x in enumerate(pca.components_):\n",
    "    print(\"Feature \" + str(i), \", Explains \" + str(pca.explained_variance_[i]) + \"%\")\n",
    "    top = x.argsort()[-5:][::-1]\n",
    "    table = [list(non_customer_data.drop(\"demand_F1\", axis = 1).columns[top]), x[top]]\n",
    "    df = pd.DataFrame(np.transpose(table))\n",
    "    print(df)"
   ]
  },
  {
   "cell_type": "markdown",
   "metadata": {},
   "source": [
    "### With Smaller Set of Customer Data"
   ]
  },
  {
   "cell_type": "code",
   "execution_count": 268,
   "metadata": {},
   "outputs": [
    {
     "data": {
      "text/plain": [
       "Index(['demand', 'demand_P2', 'demand_P1', 'month', 'year',\n",
       "       'subcat_avg_demand', 'month_avg_demand', 'year_avg_demand',\n",
       "       'brand_avg_demand', 'month', 'year', 'percent_1', 'percent_2',\n",
       "       'percent_3', 'percent_4', 'percent_5', 'percent_negative',\n",
       "       'percent_neutral', 'percent_positive'],\n",
       "      dtype='object')"
      ]
     },
     "execution_count": 268,
     "metadata": {},
     "output_type": "execute_result"
    }
   ],
   "source": [
    "X = relative_data.drop([\"demand_F1\"], axis = 1)\n",
    "y = relative_data[[\"demand_F1\"]]\n",
    "X.columns"
   ]
  },
  {
   "cell_type": "code",
   "execution_count": 269,
   "metadata": {
    "scrolled": true
   },
   "outputs": [
    {
     "data": {
      "text/plain": [
       "Text(0, 0.5, 'cumulative explained variance')"
      ]
     },
     "execution_count": 269,
     "metadata": {},
     "output_type": "execute_result"
    },
    {
     "data": {
      "image/png": "[encoded data removed]",
      "text/plain": [
       "<Figure size 432x288 with 1 Axes>"
      ]
     },
     "metadata": {
      "needs_background": "light"
     },
     "output_type": "display_data"
    }
   ],
   "source": [
    "X = StandardScaler().fit_transform(X)\n",
    "pca = PCA().fit(X)\n",
    "plt.plot(np.cumsum(pca.explained_variance_ratio_))\n",
    "plt.xlabel('number of components')\n",
    "plt.ylabel('cumulative explained variance')"
   ]
  },
  {
   "cell_type": "code",
   "execution_count": 270,
   "metadata": {},
   "outputs": [],
   "source": [
    "pca = PCA(n_components=10)\n",
    "principalComponents = pca.fit_transform(X)\n",
    "principalDf = pd.DataFrame(data = principalComponents)"
   ]
  },
  {
   "cell_type": "code",
   "execution_count": 271,
   "metadata": {},
   "outputs": [],
   "source": [
    "X_train, X_test, y_train, y_test = train_test_split(principalDf, y, shuffle = False)"
   ]
  },
  {
   "cell_type": "code",
   "execution_count": 257,
   "metadata": {},
   "outputs": [
    {
     "data": {
      "text/plain": [
       "0.32074178711251333"
      ]
     },
     "execution_count": 257,
     "metadata": {},
     "output_type": "execute_result"
    }
   ],
   "source": [
    "lm = LinearRegression()\n",
    "lm.fit(X_train, y_train)\n",
    "\n",
    "pred = lm.predict(X_test)\n",
    "metrics.r2_score(pred, y_test)"
   ]
  },
  {
   "cell_type": "code",
   "execution_count": 258,
   "metadata": {},
   "outputs": [
    {
     "name": "stdout",
     "output_type": "stream",
     "text": [
      "                            OLS Regression Results                            \n",
      "==============================================================================\n",
      "Dep. Variable:                      y   R-squared:                       0.569\n",
      "Model:                            OLS   Adj. R-squared:                  0.569\n",
      "Method:                 Least Squares   F-statistic:                     3335.\n",
      "Date:                Mon, 22 Jun 2020   Prob (F-statistic):               0.00\n",
      "Time:                        10:38:04   Log-Likelihood:            -2.9269e+05\n",
      "No. Observations:               25250   AIC:                         5.854e+05\n",
      "Df Residuals:                   25239   BIC:                         5.855e+05\n",
      "Df Model:                          10                                         \n",
      "Covariance Type:            nonrobust                                         \n",
      "==============================================================================\n",
      "                 coef    std err          t      P>|t|      [0.025      0.975]\n",
      "------------------------------------------------------------------------------\n",
      "const       1.354e+04    188.303     71.901      0.000    1.32e+04    1.39e+04\n",
      "0           5391.9171    114.009     47.294      0.000    5168.452    5615.382\n",
      "1           -231.1141    105.467     -2.191      0.028    -437.836     -24.392\n",
      "2            1.67e+04    102.032    163.658      0.000    1.65e+04    1.69e+04\n",
      "3           -599.6070    123.487     -4.856      0.000    -841.649    -357.565\n",
      "4            463.6844    143.269      3.236      0.001     182.870     744.499\n",
      "5          -1642.1032    158.626    -10.352      0.000   -1953.020   -1331.187\n",
      "6            214.4492    162.089      1.323      0.186    -103.255     532.153\n",
      "7            -62.1357    164.532     -0.378      0.706    -384.629     260.357\n",
      "8          -1251.6624    168.986     -7.407      0.000   -1582.885    -920.440\n",
      "9           5308.0737    170.009     31.222      0.000    4974.847    5641.301\n",
      "==============================================================================\n",
      "Omnibus:                    52505.616   Durbin-Watson:                   1.956\n",
      "Prob(Omnibus):                  0.000   Jarque-Bera (JB):        616716857.693\n",
      "Skew:                          17.296   Prob(JB):                         0.00\n",
      "Kurtosis:                     767.846   Cond. No.                         2.13\n",
      "==============================================================================\n",
      "\n",
      "Warnings:\n",
      "[1] Standard Errors assume that the covariance matrix of the errors is correctly specified.\n"
     ]
    }
   ],
   "source": [
    "X2 = sm.add_constant(X_train)\n",
    "est = sm.OLS(y_train.values.reshape(-1,1), X2)\n",
    "est2 = est.fit()\n",
    "\n",
    "print(est2.summary())"
   ]
  },
  {
   "cell_type": "code",
   "execution_count": 250,
   "metadata": {},
   "outputs": [],
   "source": [
    "X_train, X_test, y_train, y_test = train_test_split(principalDf.iloc[:,:6], y, shuffle = False)"
   ]
  },
  {
   "cell_type": "code",
   "execution_count": 251,
   "metadata": {},
   "outputs": [
    {
     "data": {
      "text/plain": [
       "0.2929213615439519"
      ]
     },
     "execution_count": 251,
     "metadata": {},
     "output_type": "execute_result"
    }
   ],
   "source": [
    "lm = LinearRegression()\n",
    "lm.fit(X_train, y_train)\n",
    "\n",
    "pred = lm.predict(X_test)\n",
    "metrics.r2_score(pred, y_test)"
   ]
  },
  {
   "cell_type": "code",
   "execution_count": 252,
   "metadata": {},
   "outputs": [
    {
     "name": "stdout",
     "output_type": "stream",
     "text": [
      "                            OLS Regression Results                            \n",
      "==============================================================================\n",
      "Dep. Variable:                      y   R-squared:                       0.552\n",
      "Model:                            OLS   Adj. R-squared:                  0.552\n",
      "Method:                 Least Squares   F-statistic:                     5176.\n",
      "Date:                Mon, 22 Jun 2020   Prob (F-statistic):               0.00\n",
      "Time:                        09:22:50   Log-Likelihood:            -2.9320e+05\n",
      "No. Observations:               25250   AIC:                         5.864e+05\n",
      "Df Residuals:                   25243   BIC:                         5.865e+05\n",
      "Df Model:                           6                                         \n",
      "Covariance Type:            nonrobust                                         \n",
      "==============================================================================\n",
      "                 coef    std err          t      P>|t|      [0.025      0.975]\n",
      "------------------------------------------------------------------------------\n",
      "const       1.362e+04    192.007     70.910      0.000    1.32e+04     1.4e+04\n",
      "0           5356.8312    116.114     46.134      0.000    5129.241    5584.421\n",
      "1           -266.0292    107.549     -2.474      0.013    -476.831     -55.227\n",
      "2           1.681e+04    104.026    161.579      0.000    1.66e+04     1.7e+04\n",
      "3           -573.6415    125.954     -4.554      0.000    -820.518    -326.765\n",
      "4            465.9246    146.136      3.188      0.001     179.489     752.360\n",
      "5          -1786.0073    161.755    -11.041      0.000   -2103.056   -1468.959\n",
      "==============================================================================\n",
      "Omnibus:                    51784.969   Durbin-Watson:                   1.929\n",
      "Prob(Omnibus):                  0.000   Jarque-Bera (JB):        526027284.264\n",
      "Skew:                          16.788   Prob(JB):                         0.00\n",
      "Kurtosis:                     709.300   Cond. No.                         2.12\n",
      "==============================================================================\n",
      "\n",
      "Warnings:\n",
      "[1] Standard Errors assume that the covariance matrix of the errors is correctly specified.\n"
     ]
    }
   ],
   "source": [
    "X2 = sm.add_constant(X_train)\n",
    "est = sm.OLS(y_train.values.reshape(-1,1), X2)\n",
    "est2 = est.fit()\n",
    "\n",
    "print(est2.summary())"
   ]
  },
  {
   "cell_type": "code",
   "execution_count": 197,
   "metadata": {},
   "outputs": [
    {
     "name": "stdout",
     "output_type": "stream",
     "text": [
      "Feature 0 , Explains 3.3716201121051492%\n",
      "                  0                    1\n",
      "0   year_avg_demand   0.4838836710092541\n",
      "1             month   0.2416443850238452\n",
      "2             month   0.2416443850238451\n",
      "3  percent_positive  0.16758496114619267\n",
      "4            demand  0.15838589022062094\n",
      "Feature 1 , Explains 2.7445529592635878%\n",
      "                  0                    1\n",
      "0  percent_negative   0.4069166491996544\n",
      "1         percent_1   0.3617825770789422\n",
      "2   percent_neutral   0.3001716560194428\n",
      "3         percent_2  0.17688657873102315\n",
      "4         percent_3   0.1607548631778265\n",
      "Feature 2 , Explains 2.5108971249049%\n",
      "                   0                    1\n",
      "0          demand_P1   0.5070901209689411\n",
      "1          demand_P2   0.5033932008696687\n",
      "2             demand   0.5004980206737645\n",
      "3  subcat_avg_demand  0.30155112668843337\n",
      "4   brand_avg_demand   0.2219689353200344\n",
      "Feature 3 , Explains 1.7749017976547288%\n",
      "                  0                    1\n",
      "0   year_avg_demand  0.20874224802470387\n",
      "1         percent_4  0.14773242942491485\n",
      "2         percent_3  0.08166816197237375\n",
      "3  month_avg_demand  0.07428407826743003\n",
      "4         percent_2  0.06187124548011525\n",
      "Feature 4 , Explains 1.3511042316908817%\n",
      "                  0                    1\n",
      "0         percent_4    0.653322982262361\n",
      "1  percent_positive  0.29824212507605974\n",
      "2         percent_3  0.19139797661968763\n",
      "3             month   0.1337909717683465\n",
      "4             month  0.13379097176834617\n",
      "Feature 5 , Explains 1.1781093890665528%\n",
      "                   0                    1\n",
      "0    percent_neutral   0.6404994360926046\n",
      "1          percent_4   0.3288081122366815\n",
      "2          percent_3  0.15712530207784867\n",
      "3   brand_avg_demand  0.12883432041572432\n",
      "4  subcat_avg_demand  0.09397641868160292\n",
      "Feature 6 , Explains 1.059196920122131%\n",
      "                  0                     1\n",
      "0         percent_3     0.740989513686729\n",
      "1         percent_2   0.35858971169711035\n",
      "2  percent_positive   0.03853756091498634\n",
      "3  percent_negative  0.023948768218919652\n",
      "4             month  0.022482248488576165\n",
      "Feature 7 , Explains 1.0422598488989963%\n",
      "                   0                     1\n",
      "0          percent_2    0.8265599945016918\n",
      "1    percent_neutral     0.063738951554716\n",
      "2          percent_4   0.04495456642078781\n",
      "3  subcat_avg_demand  0.029946181427659823\n",
      "4          percent_5  0.012486586178292432\n",
      "Feature 8 , Explains 0.9981019090815851%\n",
      "                  0                     1\n",
      "0            demand   0.04837470583689487\n",
      "1         demand_P1  0.028787022256010795\n",
      "2         percent_4  0.023428203306607664\n",
      "3         percent_1  0.015263375634374916\n",
      "4  percent_negative  0.008109641682554262\n",
      "Feature 9 , Explains 0.928227873375313%\n",
      "                  0                    1\n",
      "0         demand_P1  0.20997032455554043\n",
      "1         demand_P2   0.2060488322753088\n",
      "2            demand  0.19648527600181961\n",
      "3   percent_neutral  0.14323521743263984\n",
      "4  month_avg_demand  0.06333146519775754\n"
     ]
    }
   ],
   "source": [
    "for i,x in enumerate(pca.components_):\n",
    "    print(\"Feature \" + str(i), \", Explains \"\n",
    "    top = x.argsort()[-5:][::-1]\n",
    "    table = [list(relative_data.drop(\"demand_F1\", axis = 1).columns[top]), x[top]]\n",
    "    df = pd.DataFrame(np.transpose(table))\n",
    "    print(df)"
   ]
  },
  {
   "cell_type": "markdown",
   "metadata": {},
   "source": [
    "### With Full Customer Data"
   ]
  },
  {
   "cell_type": "code",
   "execution_count": 215,
   "metadata": {},
   "outputs": [],
   "source": [
    "X = full_relative_data.drop([\"demand_F1\"], axis = 1)\n",
    "y = full_relative_data[[\"demand_F1\"]]"
   ]
  },
  {
   "cell_type": "code",
   "execution_count": 216,
   "metadata": {},
   "outputs": [
    {
     "data": {
      "text/plain": [
       "Text(0, 0.5, 'cumulative explained variance')"
      ]
     },
     "execution_count": 216,
     "metadata": {},
     "output_type": "execute_result"
    },
    {
     "data": {
      "image/png": "[encoded data removed]",
      "text/plain": [
       "<Figure size 432x288 with 1 Axes>"
      ]
     },
     "metadata": {
      "needs_background": "light"
     },
     "output_type": "display_data"
    }
   ],
   "source": [
    "X = StandardScaler().fit_transform(X)\n",
    "pca = PCA().fit(X)\n",
    "plt.plot(np.cumsum(pca.explained_variance_ratio_))\n",
    "plt.xlabel('number of components')\n",
    "plt.ylabel('cumulative explained variance')"
   ]
  },
  {
   "cell_type": "code",
   "execution_count": 217,
   "metadata": {},
   "outputs": [],
   "source": [
    "pca = PCA(n_components=30)\n",
    "principalComponents = pca.fit_transform(X)\n",
    "principalDf = pd.DataFrame(data = principalComponents)"
   ]
  },
  {
   "cell_type": "code",
   "execution_count": 218,
   "metadata": {},
   "outputs": [],
   "source": [
    "X_train, X_test, y_train, y_test = train_test_split(principalDf, y)"
   ]
  },
  {
   "cell_type": "code",
   "execution_count": 219,
   "metadata": {},
   "outputs": [
    {
     "data": {
      "text/plain": [
       "0.3675573121093644"
      ]
     },
     "execution_count": 219,
     "metadata": {},
     "output_type": "execute_result"
    }
   ],
   "source": [
    "lm = LinearRegression()\n",
    "lm.fit(X_train, y_train)\n",
    "\n",
    "pred = lm.predict(X_test)\n",
    "metrics.r2_score(pred, y_test)"
   ]
  },
  {
   "cell_type": "code",
   "execution_count": 220,
   "metadata": {},
   "outputs": [
    {
     "name": "stdout",
     "output_type": "stream",
     "text": [
      "                            OLS Regression Results                            \n",
      "==============================================================================\n",
      "Dep. Variable:                      y   R-squared:                       0.531\n",
      "Model:                            OLS   Adj. R-squared:                  0.531\n",
      "Method:                 Least Squares   F-statistic:                     953.5\n",
      "Date:                Mon, 22 Jun 2020   Prob (F-statistic):               0.00\n",
      "Time:                        09:03:08   Log-Likelihood:            -2.9270e+05\n",
      "No. Observations:               25250   AIC:                         5.855e+05\n",
      "Df Residuals:                   25219   BIC:                         5.857e+05\n",
      "Df Model:                          30                                         \n",
      "Covariance Type:            nonrobust                                         \n",
      "==============================================================================\n",
      "                 coef    std err          t      P>|t|      [0.025      0.975]\n",
      "------------------------------------------------------------------------------\n",
      "const       1.361e+04    164.936     82.540      0.000    1.33e+04    1.39e+04\n",
      "0           -480.5199     72.032     -6.671      0.000    -621.706    -339.334\n",
      "1           7026.6644     93.110     75.466      0.000    6844.163    7209.166\n",
      "2           1947.8169     99.787     19.520      0.000    1752.229    2143.404\n",
      "3           1.535e+04    104.280    147.159      0.000    1.51e+04    1.56e+04\n",
      "4           1092.5632    102.964     10.611      0.000     890.748    1294.379\n",
      "5           -747.9393    106.122     -7.048      0.000    -955.945    -539.933\n",
      "6           -343.3447    125.173     -2.743      0.006    -588.691     -97.999\n",
      "7          -2188.0140    126.583    -17.285      0.000   -2436.125   -1939.903\n",
      "8          -1028.8472    133.738     -7.693      0.000   -1290.982    -766.712\n",
      "9            543.2776    137.654      3.947      0.000     273.469     813.087\n",
      "10          -151.3411    144.200     -1.050      0.294    -433.982     131.300\n",
      "11           413.9253    142.139      2.912      0.004     135.325     692.526\n",
      "12           113.9402    140.558      0.811      0.418    -161.562     389.443\n",
      "13           376.5760    146.155      2.577      0.010      90.104     663.048\n",
      "14           574.7412    144.544      3.976      0.000     291.427     858.055\n",
      "15           696.2361    147.208      4.730      0.000     407.699     984.773\n",
      "16          -840.6206    154.654     -5.435      0.000   -1143.752    -537.489\n",
      "17          -591.9978    149.973     -3.947      0.000    -885.953    -298.042\n",
      "18           414.9113    152.664      2.718      0.007     115.682     714.141\n",
      "19           -83.1872    171.019     -0.486      0.627    -418.394     252.020\n",
      "20          -912.7894    156.947     -5.816      0.000   -1220.414    -605.165\n",
      "21          -839.9763    169.751     -4.948      0.000   -1172.698    -507.255\n",
      "22            12.1280    153.066      0.079      0.937    -287.890     312.146\n",
      "23            92.8070    159.866      0.581      0.562    -220.539     406.153\n",
      "24          -137.3229    158.556     -0.866      0.386    -448.102     173.456\n",
      "25          -150.0138    153.749     -0.976      0.329    -451.370     151.342\n",
      "26          -138.5477    161.274     -0.859      0.390    -454.654     177.558\n",
      "27            70.0979    161.711      0.433      0.665    -246.865     387.060\n",
      "28          -858.6241    167.540     -5.125      0.000   -1187.012    -530.237\n",
      "29          1074.0105    167.548      6.410      0.000     745.607    1402.413\n",
      "==============================================================================\n",
      "Omnibus:                    52892.460   Durbin-Watson:                   1.995\n",
      "Prob(Omnibus):                  0.000   Jarque-Bera (JB):        614848274.601\n",
      "Skew:                          17.618   Prob(JB):                         0.00\n",
      "Kurtosis:                     766.655   Cond. No.                         2.56\n",
      "==============================================================================\n",
      "\n",
      "Warnings:\n",
      "[1] Standard Errors assume that the covariance matrix of the errors is correctly specified.\n"
     ]
    }
   ],
   "source": [
    "X2 = sm.add_constant(X_train)\n",
    "est = sm.OLS(y_train.values.reshape(-1,1), X2)\n",
    "est2 = est.fit()\n",
    "\n",
    "print(est2.summary())"
   ]
  },
  {
   "cell_type": "code",
   "execution_count": 221,
   "metadata": {},
   "outputs": [
    {
     "name": "stdout",
     "output_type": "stream",
     "text": [
      "Feature 0 , Explains 5.263594398637577%\n",
      "                                                   0                    1\n",
      "0                                 percent_Complaints   0.3822948781106511\n",
      "1                                  percent_Questions   0.3570115012521052\n",
      "2  percent_Complaints_Availability_Product Availa...  0.28023449309921006\n",
      "3                percent_Questions_Availability_GBNF  0.26505336293953313\n",
      "4               percent_Complaints_Availability_GBNF  0.23127540559605175\n",
      "Feature 1 , Explains 3.1410817397359145%\n",
      "                  0                    1\n",
      "0   year_avg_demand  0.38433652346080543\n",
      "1             month   0.2533424454537003\n",
      "2             month  0.25334244545370027\n",
      "3  percent_positive  0.21220069023870877\n",
      "4            demand   0.2098984557589623\n",
      "Feature 2 , Explains 2.7351678568685083%\n",
      "                  0                    1\n",
      "0  percent_negative  0.39219820189226695\n",
      "1         percent_1  0.34536634050336923\n",
      "2   percent_neutral  0.29013617910606226\n",
      "3             month   0.1721086873751864\n",
      "4             month   0.1721086873751864\n",
      "Feature 3 , Explains 2.495184690945104%\n",
      "                   0                    1\n",
      "0          demand_P1   0.4770134995440225\n",
      "1          demand_P2   0.4735131944799609\n",
      "2             demand  0.46999981597572815\n",
      "3  subcat_avg_demand   0.2760017570510846\n",
      "4   brand_avg_demand  0.21242487545282426\n",
      "Feature 4 , Explains 2.0864625392262055%\n",
      "                                              0                    1\n",
      "0                           percent_Compliments   0.5314188081922576\n",
      "1       percent_Compliments_Product_Performance   0.4290923399450402\n",
      "2                           percent_Suggestions  0.41262352768593513\n",
      "3  percent_Suggestions_Suggestion_Miscellaneous   0.4126235276859351\n",
      "4          percent_Compliments_Service_Location  0.25048232943895626\n",
      "Feature 5 , Explains 1.9946605748929047%\n",
      "                                                   0                    1\n",
      "0       percent_Suggestions_Suggestion_Miscellaneous   0.5524686663546498\n",
      "1                                percent_Suggestions   0.5524686663546498\n",
      "2                percent_Questions_Availability_GBNF  0.11389493357617639\n",
      "3  percent_Complaints_Availability_Product Availa...  0.09106931480561824\n",
      "4               percent_Complaints_Availability_GBNF  0.08616918481073783\n",
      "Feature 6 , Explains 1.7256125399174704%\n",
      "                     0                    1\n",
      "0                month    0.500778079494465\n",
      "1                month   0.5007780794944644\n",
      "2                 year  0.21340278476777017\n",
      "3                 year   0.2134027847677701\n",
      "4  percent_Compliments  0.16558219629276136\n",
      "Feature 7 , Explains 1.7043659562903946%\n",
      "                                                   0                    1\n",
      "0                percent_Questions_Availability_GBNF  0.33858437138560277\n",
      "1  percent_Complaints_Availability_Product Availa...   0.2813820016607981\n",
      "2               percent_Complaints_Availability_GBNF  0.21504064943438156\n",
      "3                                  percent_Questions  0.17973296861320018\n",
      "4                                percent_Compliments  0.16923168378926545\n",
      "Feature 8 , Explains 1.5244505880911063%\n",
      "                                                   0                    1\n",
      "0              percent_Questions_Product_Performance   0.4478035721103934\n",
      "1  percent_Complaints_Service_Consumer Services A...  0.43210654713980134\n",
      "2                  percent_Complaints_Order_Delivery   0.3797148501964769\n",
      "3      percent_Complaints_Marketing & PR_Advertising  0.21469050353053495\n",
      "4        percent_Complaints_Product_Foreign Material  0.15108891195552188\n",
      "Feature 9 , Explains 1.4149261194571785%\n",
      "                                                   0                    1\n",
      "0  percent_Questions_Formula / Ingredients_Chemicals  0.27765726544657093\n",
      "1                    percent_Questions_Corporate_ELC  0.23929220786236005\n",
      "2   percent_Questions_Formula / Ingredients_Vitamins  0.23215719951004715\n",
      "3                                  percent_Questions   0.2221714257175395\n",
      "4              percent_Questions_Product_Performance  0.21016668403896147\n",
      "Feature 10 , Explains 1.3484703821275976%\n",
      "                                                   0                    1\n",
      "0   percent_Questions_Formula / Ingredients_Vitamins  0.21807911732031324\n",
      "1                    percent_Questions_Corporate_ELC  0.20108720311410075\n",
      "2              percent_Questions_Product_Performance  0.17829577140377278\n",
      "3  percent_Complaints_Corporate_Unauthorized Account   0.1647152710876727\n",
      "4  percent_Questions_Formula / Ingredients_Chemicals  0.16424967491685072\n",
      "Feature 11 , Explains 1.332122799441137%\n",
      "                                                   0                    1\n",
      "0                                          percent_4   0.5882805316069499\n",
      "1                                   percent_positive   0.2376111139136617\n",
      "2                                          percent_3  0.16846696284143195\n",
      "3  percent_Questions_Marketing & PR_Marketing Gen...   0.1333943766525327\n",
      "4                                              month  0.12200944641419731\n",
      "Feature 12 , Explains 1.2742723290268618%\n",
      "                                                   0                    1\n",
      "0  percent_Questions_Marketing & PR_Marketing Gen...   0.4807134507160795\n",
      "1  percent_Complaints_Corporate_Unauthorized Account  0.42674007038768536\n",
      "2                  percent_Compliments_Corporate_nan   0.2500064270701349\n",
      "3  percent_Questions_Formula / Ingredients_Fragrance  0.24440168824939562\n",
      "4   percent_Complaints_Formula / Ingredients_Formula  0.19360549031095442\n",
      "Feature 13 , Explains 1.2652806921888315%\n",
      "                                                   0                    1\n",
      "0  percent_Questions_Corporate_Charitable Contrib...  0.38697253557141276\n",
      "1      percent_Complaints_Marketing & PR_Advertising  0.35256765041131854\n",
      "2                percent_Questions_Corporate_Testing  0.23351877271042767\n",
      "3      percent_Questions_Formula / Ingredients_Other   0.1630692116842866\n",
      "4  percent_Questions_Formula / Ingredients_Colorants  0.15889719737763325\n",
      "Feature 14 , Explains 1.2532019675901966%\n",
      "                                                   0                    1\n",
      "0  percent_Questions_Corporate_Charitable Contrib...   0.4378786314408712\n",
      "1                percent_Questions_Corporate_Testing   0.3215465480922388\n",
      "2                    percent_Questions_Corporate_ELC  0.31295671762772304\n",
      "3   percent_Questions_Formula / Ingredients_Vitamins   0.2845886147398394\n",
      "4      percent_Complaints_Marketing & PR_Advertising   0.2565749693783251\n",
      "Feature 15 , Explains 1.1886756393203504%\n",
      "                                                  0                    1\n",
      "0                  percent_Complaints_Product_Scent  0.48371957734614396\n",
      "1    percent_Questions_Marketing & PR_Brand Program  0.29775372481991685\n",
      "2                  percent_Complaints_Product_Color   0.2780624240201796\n",
      "3  percent_Complaints_Formula / Ingredients_Formula   0.2540006949618408\n",
      "4                                         percent_1  0.19539195620212577\n",
      "Feature 16 , Explains 1.1696845215402436%\n",
      "                                                   0                    1\n",
      "0     percent_Questions_Marketing & PR_Brand Program   0.2893816650193826\n",
      "1        percent_Questions_Availability_Where To Buy  0.26550905203808894\n",
      "2           percent_Complaints_Availability_Location  0.22517380741988977\n",
      "3  percent_Questions_Formula / Ingredients_Colorants  0.19746671654019055\n",
      "4       percent_Complaints_Product_Accidental Damage  0.18160568485271658\n",
      "Feature 17 , Explains 1.1525979624380636%\n",
      "                                      0                    1\n",
      "0    percent_Questions_Service_Location   0.3890445443455133\n",
      "1                       percent_neutral  0.35573867145699173\n",
      "2     percent_Questions_Product_General   0.3289105017575798\n",
      "3      percent_Complaints_Product_Scent  0.17931181757735995\n",
      "4  percent_Complaints_Corporate_Testing  0.17501856688368134\n",
      "Feature 18 , Explains 1.1447007509659246%\n",
      "                                                0                    1\n",
      "0               percent_Questions_Product_General   0.3738217836680959\n",
      "1              percent_Questions_Service_Location  0.35450825238926553\n",
      "2       percent_Questions_Corporate_Manufacturing  0.22345483174995182\n",
      "3  percent_Questions_Marketing & PR_Brand Program  0.21517910251307776\n",
      "4            percent_Complaints_Corporate_Testing  0.21421026259489903\n"
     ]
    },
    {
     "name": "stdout",
     "output_type": "stream",
     "text": [
      "Feature 19 , Explains 1.1210259003164451%\n",
      "                                                   0                    1\n",
      "0           percent_Questions_Corporate_Distribution   0.4113130366731603\n",
      "1  percent_Complaints_Marketing & PR_Marketing Ge...  0.34282223027083414\n",
      "2                                          percent_3  0.21125241350830531\n",
      "3                   percent_Questions_Order_Delivery   0.2059374718576703\n",
      "4  percent_Questions_Formula / Ingredients_Fragrance  0.18153704571087761\n",
      "Feature 20 , Explains 1.104492854280246%\n",
      "                                                0                    1\n",
      "0     percent_Questions_Availability_Where To Buy  0.30177731641079136\n",
      "1  percent_Questions_Marketing & PR_Brand Program  0.28589293129809146\n",
      "2                                 percent_neutral  0.25990152232384334\n",
      "3        percent_Complaints_Product_Usage Related  0.20940203832114393\n",
      "4               percent_Compliments_Corporate_nan   0.1940442183705148\n",
      "Feature 21 , Explains 1.0941553655103942%\n",
      "                                                 0                    1\n",
      "0  percent_Questions_Website_Website functionality  0.33871899018775925\n",
      "1           percent_Questions_Order_Options/Status  0.32250421203299595\n",
      "2   percent_Questions_Formula / Ingredients_Animal   0.1986045402026548\n",
      "3              percent_Questions_Corporate_Testing  0.17940483010142744\n",
      "4          percent_Questions_Product_Usage Related  0.16430608844548508\n",
      "Feature 22 , Explains 1.0882639776631955%\n",
      "                                                   0                    1\n",
      "0  percent_Complaints_Marketing & PR_Promotions/G...   0.2659926396348725\n",
      "1   percent_Complaints_Website_Website functionality  0.23037272599699343\n",
      "2               percent_Compliments_Service_Location   0.2221137684084693\n",
      "3             percent_Complaints_Website_Offer Codes  0.18491017839673068\n",
      "4                                          percent_4  0.16004732106902783\n",
      "Feature 23 , Explains 1.0796617911989563%\n",
      "                                                 0                    1\n",
      "0   percent_Questions_Formula / Ingredients_Animal  0.25180386373942865\n",
      "1   percent_Questions_Marketing & PR_Brand Program  0.21402810300178673\n",
      "2          percent_Questions_Service_Miscellaneous  0.21107348822886143\n",
      "3  percent_Questions_Website_Website functionality  0.19198392289982574\n",
      "4             percent_Complaints_Corporate_Testing  0.17602321779189906\n",
      "Feature 24 , Explains 1.0693603780439636%\n",
      "                                                   0                    1\n",
      "0                                          percent_2  0.33879735238657144\n",
      "1  percent_Complaints_Marketing & PR_Promotions/G...  0.26358232278211285\n",
      "2           percent_Complaints_Product_Usage Related   0.2627001700470657\n",
      "3    percent_Complaints_Marketing & PR_Brand Program  0.20821160237088848\n",
      "4          percent_Questions_Corporate_Environmental   0.1862783598903742\n",
      "Feature 25 , Explains 1.058084232977395%\n",
      "                                                  0                    1\n",
      "0             percent_Complaints_Order_Availability  0.33577540432155334\n",
      "1            percent_Complaints_Website_Offer Codes   0.3274007030898813\n",
      "2                                  month_avg_demand  0.23805220908498542\n",
      "3         percent_Questions_Corporate_Environmental  0.22277975337840542\n",
      "4  percent_Questions_Formula / Ingredients_Plastics  0.18984400195340298\n",
      "Feature 26 , Explains 1.0545698753640387%\n",
      "                                                   0                    1\n",
      "0                   percent_Complaints_Product_Color  0.27183384346129424\n",
      "1  percent_Complaints_Marketing & PR_Promotions/G...  0.24372498571014073\n",
      "2                                          percent_3   0.2375215980293124\n",
      "3           percent_Complaints_Service_Ask an Artist   0.2189820603552825\n",
      "4           percent_Complaints_Product_Usage Related  0.21430613315180336\n",
      "Feature 27 , Explains 1.038010053638261%\n",
      "                                                 0                    1\n",
      "0          percent_Questions_Service_Miscellaneous  0.27773013488192866\n",
      "1                 percent_Complaints_Order_Returns  0.24648676682047607\n",
      "2                                        percent_2  0.23670935580929087\n",
      "3  percent_Questions_Formula / Ingredients_Formula  0.22490854265307064\n",
      "4         percent_Questions_Marketing & PR_Loyalty  0.21992721023357384\n",
      "Feature 28 , Explains 1.0272706692256541%\n",
      "                                       0                    1\n",
      "0       percent_Questions_Order_Delivery   0.2753164157661857\n",
      "1      percent_Compliments_Product_Scent  0.22900783794110152\n",
      "2  percent_Complaints_Order_Availability  0.20467881594679704\n",
      "3       percent_Complaints_Order_Returns   0.1783813287642168\n",
      "4       percent_Questions_Corporate_BCRF  0.14112251299112208\n",
      "Feature 29 , Explains 1.0178162627187723%\n",
      "                                                   0                    1\n",
      "0              percent_Questions_Website_Offer Codes   0.3946749335876707\n",
      "1                                   month_avg_demand   0.2863274046663485\n",
      "2             percent_Complaints_Product_Performance  0.22322704961078452\n",
      "3    percent_Complaints_Marketing & PR_Brand Program  0.19381783700411265\n",
      "4  percent_Complaints_Marketing & PR_Marketing Ge...  0.14530559745342303\n"
     ]
    }
   ],
   "source": [
    "for i,x in enumerate(pca.components_):\n",
    "    print(\"Feature \" + str(i), \", Explains \" + str(pca.explained_variance_[i]) + \"%\")\n",
    "    top = x.argsort()[-5:][::-1]\n",
    "    table = [list(full_relative_data.drop(\"demand_F1\", axis = 1).columns[top]), x[top]]\n",
    "    df = pd.DataFrame(np.transpose(table))\n",
    "    print(df)"
   ]
  },
  {
   "cell_type": "markdown",
   "metadata": {},
   "source": [
    "## What if I did PCA on Demand and Customer Info Seperately?"
   ]
  },
  {
   "cell_type": "code",
   "execution_count": 125,
   "metadata": {},
   "outputs": [],
   "source": [
    "X = non_customer_data.drop([\"demand_F1\"], axis = 1)\n",
    "y = non_customer_data[[\"demand_F1\"]]"
   ]
  },
  {
   "cell_type": "code",
   "execution_count": 126,
   "metadata": {},
   "outputs": [
    {
     "data": {
      "text/plain": [
       "Text(0, 0.5, 'cumulative explained variance')"
      ]
     },
     "execution_count": 126,
     "metadata": {},
     "output_type": "execute_result"
    },
    {
     "data": {
      "image/png": "[encoded data removed]",
      "text/plain": [
       "<Figure size 432x288 with 1 Axes>"
      ]
     },
     "metadata": {
      "needs_background": "light"
     },
     "output_type": "display_data"
    }
   ],
   "source": [
    "X = StandardScaler().fit_transform(X)\n",
    "pca = PCA().fit(X)\n",
    "plt.plot(np.cumsum(pca.explained_variance_ratio_))\n",
    "plt.xlabel('number of components')\n",
    "plt.ylabel('cumulative explained variance')"
   ]
  },
  {
   "cell_type": "code",
   "execution_count": 127,
   "metadata": {},
   "outputs": [],
   "source": [
    "pca = PCA(n_components=6)\n",
    "principalComponents = pca.fit_transform(X)\n",
    "principalDf = pd.DataFrame(data = principalComponents)"
   ]
  },
  {
   "cell_type": "markdown",
   "metadata": {},
   "source": [
    "### Just R&R"
   ]
  },
  {
   "cell_type": "code",
   "execution_count": 167,
   "metadata": {},
   "outputs": [],
   "source": [
    "X = relative_data.drop(list(non_customer_data.columns), axis = 1)"
   ]
  },
  {
   "cell_type": "code",
   "execution_count": 168,
   "metadata": {},
   "outputs": [
    {
     "data": {
      "text/plain": [
       "Text(0, 0.5, 'cumulative explained variance')"
      ]
     },
     "execution_count": 168,
     "metadata": {},
     "output_type": "execute_result"
    },
    {
     "data": {
      "image/png": "[encoded data removed]",
      "text/plain": [
       "<Figure size 432x288 with 1 Axes>"
      ]
     },
     "metadata": {
      "needs_background": "light"
     },
     "output_type": "display_data"
    }
   ],
   "source": [
    "X = StandardScaler().fit_transform(X)\n",
    "pca = PCA().fit(X)\n",
    "plt.plot(np.cumsum(pca.explained_variance_ratio_))\n",
    "plt.xlabel('number of components')\n",
    "plt.ylabel('cumulative explained variance')"
   ]
  },
  {
   "cell_type": "code",
   "execution_count": 169,
   "metadata": {},
   "outputs": [],
   "source": [
    "pca = PCA(n_components=5)\n",
    "principalComponents = pca.fit_transform(X)\n",
    "principalDf_cust = pd.DataFrame(data = principalComponents)"
   ]
  },
  {
   "cell_type": "code",
   "execution_count": 170,
   "metadata": {},
   "outputs": [],
   "source": [
    "X = pd.concat([principalDf, principalDf_cust], axis = 1)\n",
    "X_train, X_test, y_train, y_test = train_test_split(X, y)"
   ]
  },
  {
   "cell_type": "code",
   "execution_count": 171,
   "metadata": {},
   "outputs": [
    {
     "data": {
      "text/plain": [
       "0.38987150940748505"
      ]
     },
     "execution_count": 171,
     "metadata": {},
     "output_type": "execute_result"
    }
   ],
   "source": [
    "lm = LinearRegression()\n",
    "lm.fit(X_train, y_train)\n",
    "\n",
    "pred = lm.predict(X_test)\n",
    "metrics.r2_score(pred, y_test)"
   ]
  },
  {
   "cell_type": "code",
   "execution_count": 172,
   "metadata": {},
   "outputs": [
    {
     "name": "stdout",
     "output_type": "stream",
     "text": [
      "                            OLS Regression Results                            \n",
      "==============================================================================\n",
      "Dep. Variable:                      y   R-squared:                       0.563\n",
      "Model:                            OLS   Adj. R-squared:                  0.563\n",
      "Method:                 Least Squares   F-statistic:                     2955.\n",
      "Date:                Fri, 19 Jun 2020   Prob (F-statistic):               0.00\n",
      "Time:                        13:14:34   Log-Likelihood:            -2.9165e+05\n",
      "No. Observations:               25250   AIC:                         5.833e+05\n",
      "Df Residuals:                   25238   BIC:                         5.834e+05\n",
      "Df Model:                          11                                         \n",
      "Covariance Type:            nonrobust                                         \n",
      "==============================================================================\n",
      "                 coef    std err          t      P>|t|      [0.025      0.975]\n",
      "------------------------------------------------------------------------------\n",
      "const       1.354e+04    158.156     85.595      0.000    1.32e+04    1.38e+04\n",
      "0           5649.3617     87.559     64.520      0.000    5477.741    5820.983\n",
      "1           1.658e+04    100.780    164.487      0.000    1.64e+04    1.68e+04\n",
      "2            909.5978    119.755      7.595      0.000     674.871    1144.325\n",
      "3          -1248.7559    158.333     -7.887      0.000   -1559.098    -938.414\n",
      "4           5748.8926    163.935     35.068      0.000    5427.571    6070.214\n",
      "5           2243.5235    178.614     12.561      0.000    1893.430    2593.617\n",
      "0             -8.4810     94.932     -0.089      0.929    -194.553     177.591\n",
      "1            106.1195    134.666      0.788      0.431    -157.833     370.072\n",
      "2             24.8552    145.186      0.171      0.864    -259.718     309.428\n",
      "3            -80.6593    152.949     -0.527      0.598    -380.448     219.129\n",
      "4            147.2738    154.553      0.953      0.341    -155.659     450.207\n",
      "==============================================================================\n",
      "Omnibus:                    54932.598   Durbin-Watson:                   2.007\n",
      "Prob(Omnibus):                  0.000   Jarque-Bera (JB):        835503793.491\n",
      "Skew:                          19.221   Prob(JB):                         0.00\n",
      "Kurtosis:                     893.317   Cond. No.                         2.07\n",
      "==============================================================================\n",
      "\n",
      "Warnings:\n",
      "[1] Standard Errors assume that the covariance matrix of the errors is correctly specified.\n"
     ]
    }
   ],
   "source": [
    "X2 = sm.add_constant(X_train)\n",
    "est = sm.OLS(y_train.values.reshape(-1,1), X2)\n",
    "est2 = est.fit()\n",
    "\n",
    "print(est2.summary())"
   ]
  },
  {
   "cell_type": "markdown",
   "metadata": {},
   "source": [
    "All of the customer features are completely not significant..."
   ]
  },
  {
   "cell_type": "markdown",
   "metadata": {},
   "source": [
    "### R&R + CC"
   ]
  },
  {
   "cell_type": "code",
   "execution_count": 138,
   "metadata": {},
   "outputs": [],
   "source": [
    "X = full_relative_data.drop(list(non_customer_data.columns), axis = 1)"
   ]
  },
  {
   "cell_type": "code",
   "execution_count": 139,
   "metadata": {},
   "outputs": [
    {
     "data": {
      "text/plain": [
       "Text(0, 0.5, 'cumulative explained variance')"
      ]
     },
     "execution_count": 139,
     "metadata": {},
     "output_type": "execute_result"
    },
    {
     "data": {
      "image/png": "[encoded data removed]",
      "text/plain": [
       "<Figure size 432x288 with 1 Axes>"
      ]
     },
     "metadata": {
      "needs_background": "light"
     },
     "output_type": "display_data"
    }
   ],
   "source": [
    "X = StandardScaler().fit_transform(X)\n",
    "pca = PCA().fit(X)\n",
    "plt.plot(np.cumsum(pca.explained_variance_ratio_))\n",
    "plt.xlabel('number of components')\n",
    "plt.ylabel('cumulative explained variance')"
   ]
  },
  {
   "cell_type": "code",
   "execution_count": 140,
   "metadata": {},
   "outputs": [],
   "source": [
    "pca = PCA(n_components=20)\n",
    "principalComponents = pca.fit_transform(X)\n",
    "principalDf_cust = pd.DataFrame(data = principalComponents)"
   ]
  },
  {
   "cell_type": "code",
   "execution_count": 141,
   "metadata": {},
   "outputs": [],
   "source": [
    "X = pd.concat([principalDf, principalDf_cust], axis = 1)\n",
    "X_train, X_test, y_train, y_test = train_test_split(X, y)"
   ]
  },
  {
   "cell_type": "code",
   "execution_count": 142,
   "metadata": {},
   "outputs": [
    {
     "data": {
      "text/plain": [
       "0.11021456716982747"
      ]
     },
     "execution_count": 142,
     "metadata": {},
     "output_type": "execute_result"
    }
   ],
   "source": [
    "lm = LinearRegression()\n",
    "lm.fit(X_train, y_train)\n",
    "\n",
    "pred = lm.predict(X_test)\n",
    "metrics.r2_score(pred, y_test)"
   ]
  },
  {
   "cell_type": "code",
   "execution_count": 143,
   "metadata": {
    "scrolled": true
   },
   "outputs": [
    {
     "name": "stdout",
     "output_type": "stream",
     "text": [
      "                            OLS Regression Results                            \n",
      "==============================================================================\n",
      "Dep. Variable:                      y   R-squared:                       0.578\n",
      "Model:                            OLS   Adj. R-squared:                  0.578\n",
      "Method:                 Least Squares   F-statistic:                     1331.\n",
      "Date:                Fri, 19 Jun 2020   Prob (F-statistic):               0.00\n",
      "Time:                        13:02:08   Log-Likelihood:            -2.8995e+05\n",
      "No. Observations:               25250   AIC:                         5.800e+05\n",
      "Df Residuals:                   25223   BIC:                         5.802e+05\n",
      "Df Model:                          26                                         \n",
      "Covariance Type:            nonrobust                                         \n",
      "==============================================================================\n",
      "                 coef    std err          t      P>|t|      [0.025      0.975]\n",
      "------------------------------------------------------------------------------\n",
      "const       1.349e+04    147.915     91.223      0.000    1.32e+04    1.38e+04\n",
      "0           5469.3399     83.708     65.338      0.000    5305.268    5633.412\n",
      "1           1.616e+04     95.237    169.650      0.000     1.6e+04    1.63e+04\n",
      "2            778.3169    113.333      6.868      0.000     556.178    1000.456\n",
      "3          -1155.7745    148.711     -7.772      0.000   -1447.257    -864.292\n",
      "4           5399.9439    154.132     35.035      0.000    5097.837    5702.051\n",
      "5           1905.5230    170.152     11.199      0.000    1572.016    2239.030\n",
      "0             33.2610     70.510      0.472      0.637    -104.943     171.465\n",
      "1            -66.3624     89.000     -0.746      0.456    -240.807     108.082\n",
      "2             54.5659    104.499      0.522      0.602    -150.258     259.390\n",
      "3            -30.0075    101.775     -0.295      0.768    -229.492     169.477\n",
      "4            -75.5103    117.105     -0.645      0.519    -305.042     154.022\n",
      "5           -140.0372    120.989     -1.157      0.247    -377.182      97.107\n",
      "6            -93.9909    125.378     -0.750      0.453    -339.739     151.757\n",
      "7            149.9195    129.588      1.157      0.247    -104.081     403.920\n",
      "8            -11.2744    132.777     -0.085      0.932    -271.525     248.976\n",
      "9           -211.4645    136.646     -1.548      0.122    -479.298      56.369\n",
      "10            -8.5405    149.053     -0.057      0.954    -300.693     283.612\n",
      "11           -13.5201    136.766     -0.099      0.921    -281.590     254.550\n",
      "12            -4.5364    136.571     -0.033      0.974    -272.224     263.151\n",
      "13           -35.2754    146.346     -0.241      0.810    -322.123     251.572\n",
      "14           -35.8019    143.768     -0.249      0.803    -317.595     245.992\n",
      "15            19.4205    151.531      0.128      0.898    -277.589     316.430\n",
      "16           -35.5526    141.870     -0.251      0.802    -313.625     242.520\n",
      "17            21.1035    143.886      0.147      0.883    -260.920     303.128\n",
      "18            86.9115    151.197      0.575      0.565    -209.444     383.267\n",
      "19            94.2185    147.032      0.641      0.522    -193.972     382.409\n",
      "==============================================================================\n",
      "Omnibus:                    48308.986   Durbin-Watson:                   2.012\n",
      "Prob(Omnibus):                  0.000   Jarque-Bera (JB):        348972318.866\n",
      "Skew:                          14.339   Prob(JB):                         0.00\n",
      "Kurtosis:                     578.217   Cond. No.                         2.67\n",
      "==============================================================================\n",
      "\n",
      "Warnings:\n",
      "[1] Standard Errors assume that the covariance matrix of the errors is correctly specified.\n"
     ]
    }
   ],
   "source": [
    "X2 = sm.add_constant(X_train)\n",
    "est = sm.OLS(y_train.values.reshape(-1,1), X2)\n",
    "est2 = est.fit()\n",
    "\n",
    "print(est2.summary())"
   ]
  },
  {
   "cell_type": "markdown",
   "metadata": {},
   "source": [
    "CC data doesn't help"
   ]
  },
  {
   "cell_type": "markdown",
   "metadata": {},
   "source": [
    "## What does just a normal regression looks like"
   ]
  },
  {
   "cell_type": "code",
   "execution_count": 210,
   "metadata": {},
   "outputs": [],
   "source": [
    "X = relative_data.drop([\"demand_F1\", \"percent_5\", \"percent_positive\"], axis = 1)\n",
    "y = relative_data[[\"demand_F1\"]].values\n",
    "\n",
    "X_train, X_test, y_train, y_test = train_test_split(X, y, shuffle = False)"
   ]
  },
  {
   "cell_type": "code",
   "execution_count": 211,
   "metadata": {},
   "outputs": [
    {
     "data": {
      "text/plain": [
       "0.3295171470105135"
      ]
     },
     "execution_count": 211,
     "metadata": {},
     "output_type": "execute_result"
    }
   ],
   "source": [
    "lm = LinearRegression()\n",
    "lm.fit(X_train, y_train)\n",
    "\n",
    "pred = lm.predict(X_test)\n",
    "metrics.r2_score(pred, y_test)"
   ]
  },
  {
   "cell_type": "code",
   "execution_count": 214,
   "metadata": {},
   "outputs": [
    {
     "name": "stdout",
     "output_type": "stream",
     "text": [
      "                            OLS Regression Results                            \n",
      "==============================================================================\n",
      "Dep. Variable:                      y   R-squared:                       0.572\n",
      "Model:                            OLS   Adj. R-squared:                  0.572\n",
      "Method:                 Least Squares   F-statistic:                     2247.\n",
      "Date:                Fri, 19 Jun 2020   Prob (F-statistic):               0.00\n",
      "Time:                        15:16:50   Log-Likelihood:            -2.9261e+05\n",
      "No. Observations:               25250   AIC:                         5.853e+05\n",
      "Df Residuals:                   25234   BIC:                         5.854e+05\n",
      "Df Model:                          15                                         \n",
      "Covariance Type:            nonrobust                                         \n",
      "=====================================================================================\n",
      "                        coef    std err          t      P>|t|      [0.025      0.975]\n",
      "-------------------------------------------------------------------------------------\n",
      "const              -1.23e+06   2.09e+06     -0.590      0.555   -5.32e+06    2.86e+06\n",
      "demand                0.2869      0.006     50.510      0.000       0.276       0.298\n",
      "demand_P2             0.2952      0.006     49.994      0.000       0.284       0.307\n",
      "demand_P1             0.2392      0.006     40.531      0.000       0.228       0.251\n",
      "month               -94.2866     23.667     -3.984      0.000    -140.675     -47.899\n",
      "year                299.4497    515.473      0.581      0.561    -710.908    1309.807\n",
      "subcat_avg_demand     0.1481      0.016      9.129      0.000       0.116       0.180\n",
      "month_avg_demand      1.0246      0.104      9.834      0.000       0.820       1.229\n",
      "year_avg_demand       0.5737      0.532      1.079      0.281      -0.469       1.616\n",
      "brand_avg_demand      0.1072      0.022      4.809      0.000       0.063       0.151\n",
      "month               -94.2891     23.666     -3.984      0.000    -140.676     -47.902\n",
      "year                299.4496    515.473      0.581      0.561    -710.908    1309.807\n",
      "percent_1            69.3482   1054.555      0.066      0.948   -1997.642    2136.338\n",
      "percent_2           988.5323   1205.074      0.820      0.412   -1373.482    3350.547\n",
      "percent_3          -454.1770   1022.666     -0.444      0.657   -2458.662    1550.308\n",
      "percent_4           586.3533    765.350      0.766      0.444    -913.776    2086.483\n",
      "percent_negative   -922.7907   1828.013     -0.505      0.614   -4505.803    2660.222\n",
      "percent_neutral    -112.6641   1233.996     -0.091      0.927   -2531.367    2306.039\n",
      "==============================================================================\n",
      "Omnibus:                    52517.777   Durbin-Watson:                   1.961\n",
      "Prob(Omnibus):                  0.000   Jarque-Bera (JB):        634839030.848\n",
      "Skew:                          17.292   Prob(JB):                         0.00\n",
      "Kurtosis:                     779.025   Cond. No.                     1.59e+21\n",
      "==============================================================================\n",
      "\n",
      "Warnings:\n",
      "[1] Standard Errors assume that the covariance matrix of the errors is correctly specified.\n",
      "[2] The smallest eigenvalue is 4.73e-29. This might indicate that there are\n",
      "strong multicollinearity problems or that the design matrix is singular.\n"
     ]
    }
   ],
   "source": [
    "X2 = sm.add_constant(X_train)\n",
    "est = sm.OLS(y_train, X2.astype(float))\n",
    "est2 = est.fit()\n",
    "\n",
    "print(est2.summary())"
   ]
  },
  {
   "cell_type": "code",
   "execution_count": null,
   "metadata": {},
   "outputs": [],
   "source": []
  }
 ],
 "metadata": {
  "kernelspec": {
   "display_name": "Python 3",
   "language": "python",
   "name": "python3"
  },
  "language_info": {
   "codemirror_mode": {
    "name": "ipython",
    "version": 3
   },
   "file_extension": ".py",
   "mimetype": "text/x-python",
   "name": "python",
   "nbconvert_exporter": "python",
   "pygments_lexer": "ipython3",
   "version": "3.7.6"
  }
 },
 "nbformat": 4,
 "nbformat_minor": 4
}
