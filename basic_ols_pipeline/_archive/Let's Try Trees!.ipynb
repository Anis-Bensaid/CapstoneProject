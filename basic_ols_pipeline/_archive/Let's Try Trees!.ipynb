{
 "cells": [
  {
   "cell_type": "code",
   "execution_count": 1,
   "metadata": {},
   "outputs": [],
   "source": [
    "import pandas as pd\n",
    "import numpy as np\n",
    "import copy as cp\n",
    "import sklearn.metrics as metrics\n",
    "import statsmodels.api as sm\n",
    "import matplotlib.pyplot as plt"
   ]
  },
  {
   "cell_type": "code",
   "execution_count": 2,
   "metadata": {},
   "outputs": [],
   "source": [
    "from sklearn.model_selection import train_test_split, GridSearchCV\n",
    "from sklearn.preprocessing import StandardScaler\n",
    "from sklearn.tree import DecisionTreeRegressor, plot_tree\n",
    "from sklearn.decomposition import PCA"
   ]
  },
  {
   "cell_type": "code",
   "execution_count": 3,
   "metadata": {},
   "outputs": [],
   "source": [
    "from heatmap import heatmap, corrplot"
   ]
  },
  {
   "cell_type": "markdown",
   "metadata": {},
   "source": [
    "## Load and Merge Data"
   ]
  },
  {
   "cell_type": "code",
   "execution_count": 4,
   "metadata": {},
   "outputs": [],
   "source": [
    "onedrive_path = \"C:/Users/cfowle/The Estée Lauder Companies Inc/TeamAnis - General/\""
   ]
  },
  {
   "cell_type": "code",
   "execution_count": 5,
   "metadata": {},
   "outputs": [
    {
     "name": "stderr",
     "output_type": "stream",
     "text": [
      "C:\\Users\\cfowle\\Anaconda3\\lib\\site-packages\\IPython\\core\\interactiveshell.py:3063: DtypeWarning: Columns (6) have mixed types.Specify dtype option on import or set low_memory=False.\n",
      "  interactivity=interactivity, compiler=compiler, result=result)\n"
     ]
    }
   ],
   "source": [
    "reviews = pd.read_csv(onedrive_path + \"Data/Ratings and Reviews/reviews_demand_subcat.csv\")\n",
    "cc      = pd.read_csv(onedrive_path + \"Data/Consumer Care/cc_product_month.csv\")"
   ]
  },
  {
   "cell_type": "code",
   "execution_count": 6,
   "metadata": {},
   "outputs": [
    {
     "name": "stderr",
     "output_type": "stream",
     "text": [
      "C:\\Users\\cfowle\\Anaconda3\\lib\\site-packages\\IPython\\core\\interactiveshell.py:3063: DtypeWarning: Columns (9,12,23,26,28) have mixed types.Specify dtype option on import or set low_memory=False.\n",
      "  interactivity=interactivity, compiler=compiler, result=result)\n"
     ]
    }
   ],
   "source": [
    "products = pd.read_csv(onedrive_path + \"Data/Product/product_codes.csv\")"
   ]
  },
  {
   "cell_type": "code",
   "execution_count": 7,
   "metadata": {},
   "outputs": [
    {
     "name": "stdout",
     "output_type": "stream",
     "text": [
      "136630\n",
      "122187\n"
     ]
    }
   ],
   "source": [
    "print(len(reviews))\n",
    "reviews = reviews.drop(\"item_description\", axis = 1).drop_duplicates()\n",
    "print(len(reviews))"
   ]
  },
  {
   "cell_type": "code",
   "execution_count": 8,
   "metadata": {},
   "outputs": [],
   "source": [
    "cc = cc.rename(columns = {\"Date Month\": \"date\", \"P4\": \"itemid_4\", \"Brand Clean\": \"elc_brand\"})\n",
    "products = products.rename(columns = {\"P4\": \"itemid_4\", \"brand\": \"elc_brand\", \"SubCategory\":\"sub_category\"})\n",
    "products = products[[\"elc_brand\", \"itemid_4\", 'Major Category', 'Application', 'Category',\n",
    "       'sub_category']].drop_duplicates([\"elc_brand\", \"itemid_4\"])"
   ]
  },
  {
   "cell_type": "code",
   "execution_count": 9,
   "metadata": {},
   "outputs": [],
   "source": [
    "cc_product = cc.merge(products, how = \"left\", on = [\"itemid_4\", \"elc_brand\"])"
   ]
  },
  {
   "cell_type": "code",
   "execution_count": 10,
   "metadata": {},
   "outputs": [],
   "source": [
    "cc_reviews_product = reviews.merge(cc_product, how = \"left\").fillna(0)\n",
    "cc_reviews_product = cc_reviews_product.groupby([\"elc_brand\", \"date\", \"sub_category\"]).sum().reset_index()"
   ]
  },
  {
   "cell_type": "markdown",
   "metadata": {},
   "source": [
    "\n",
    "## Feature Engineering\n",
    "### Target Encoding"
   ]
  },
  {
   "cell_type": "code",
   "execution_count": 11,
   "metadata": {},
   "outputs": [],
   "source": [
    "subcat_map = cc_reviews_product.groupby(\"sub_category\")[\"demand\"].mean().reset_index()\n",
    "brand_map  = cc_reviews_product.groupby(\"elc_brand\")[\"demand\"].mean().reset_index()\n",
    "\n",
    "cc_reviews_product[\"month\"] = [x[-2:] for x in cc_reviews_product[\"date\"].values]\n",
    "cc_reviews_product[\"year\"]  = [x[:4] for x in cc_reviews_product[\"date\"].values]\n",
    "\n",
    "month_map = cc_reviews_product.groupby(\"month\")[\"demand\"].mean().reset_index()\n",
    "year_map  = cc_reviews_product.groupby(\"year\")[\"demand\"].mean().reset_index()"
   ]
  },
  {
   "cell_type": "code",
   "execution_count": 12,
   "metadata": {},
   "outputs": [],
   "source": [
    "subcat_map = subcat_map.rename(columns = {\"demand\":\"subcat_avg_demand\"})\n",
    "month_map  = month_map.rename(columns = {\"demand\":\"month_avg_demand\"})\n",
    "year_map   = year_map.rename(columns = {\"demand\":\"year_avg_demand\"})\n",
    "brand_map  = brand_map.rename(columns = {\"demand\":\"brand_avg_demand\"})"
   ]
  },
  {
   "cell_type": "code",
   "execution_count": 13,
   "metadata": {},
   "outputs": [],
   "source": [
    "cc_reviews_product = cc_reviews_product.merge(subcat_map).merge(month_map).merge(year_map).merge(brand_map)\n",
    "cc_reviews_product = cc_reviews_product.sort_values(\"date\")"
   ]
  },
  {
   "cell_type": "markdown",
   "metadata": {},
   "source": [
    "### Create dataset without customer data"
   ]
  },
  {
   "cell_type": "code",
   "execution_count": 14,
   "metadata": {},
   "outputs": [],
   "source": [
    "non_customer_data = cc_reviews_product[[\"date\", \"demand_F1\", \"demand\", \"demand_P2\", \"demand_P1\",\n",
    "                                   \"subcat_avg_demand\", \"month_avg_demand\", \"year_avg_demand\", \"brand_avg_demand\",\n",
    "                                   \"month\", \"year\"]]"
   ]
  },
  {
   "cell_type": "markdown",
   "metadata": {},
   "source": [
    "### Create Dataset with only Relative Measures"
   ]
  },
  {
   "cell_type": "code",
   "execution_count": 15,
   "metadata": {},
   "outputs": [],
   "source": [
    "relative_data = cp.deepcopy(non_customer_data)\n",
    "subcat = cc_reviews_product ##just here so I can copy some old code easily"
   ]
  },
  {
   "cell_type": "code",
   "execution_count": 16,
   "metadata": {},
   "outputs": [],
   "source": [
    "relative_data[\"percent_1\"] = subcat[\"rating_1\"]/subcat[\"nb_reviews\"]\n",
    "relative_data[\"percent_2\"] = subcat[\"rating_2\"]/subcat[\"nb_reviews\"]\n",
    "relative_data[\"percent_3\"] = subcat[\"rating_3\"]/subcat[\"nb_reviews\"]\n",
    "relative_data[\"percent_4\"] = subcat[\"rating_4\"]/subcat[\"nb_reviews\"]\n",
    "relative_data[\"percent_5\"] = subcat[\"rating_5\"]/subcat[\"nb_reviews\"]"
   ]
  },
  {
   "cell_type": "code",
   "execution_count": 17,
   "metadata": {},
   "outputs": [],
   "source": [
    "relative_data[\"percent_negative\"] = subcat['sentiment_negative']/subcat[\"nb_reviews\"]\n",
    "relative_data[\"percent_neutral\"] = subcat['sentiment_neutral']/subcat[\"nb_reviews\"]\n",
    "relative_data[\"percent_positive\"] = subcat['sentiment_positive']/subcat[\"nb_reviews\"]"
   ]
  },
  {
   "cell_type": "code",
   "execution_count": 18,
   "metadata": {},
   "outputs": [],
   "source": [
    "relative_data = relative_data.merge(subcat_map).merge(month_map).merge(year_map).merge(brand_map)\n",
    "relative_data = relative_data.sort_values(\"date\").reset_index(drop=True)\n",
    "relative_data = relative_data.fillna(0)"
   ]
  },
  {
   "cell_type": "code",
   "execution_count": 19,
   "metadata": {},
   "outputs": [],
   "source": [
    "full_relative_data = cp.deepcopy(relative_data)"
   ]
  },
  {
   "cell_type": "code",
   "execution_count": 20,
   "metadata": {},
   "outputs": [],
   "source": [
    "subcat[\"cc_tot\"] = subcat['Complaints'] + subcat['Compliments'] + subcat['Questions'] + subcat['Suggestions']"
   ]
  },
  {
   "cell_type": "code",
   "execution_count": 21,
   "metadata": {},
   "outputs": [],
   "source": [
    "cc_counts = cc.drop(['Product Code', 'itemid_4', 'elc_brand', \"date\"], axis = 1).columns"
   ]
  },
  {
   "cell_type": "code",
   "execution_count": 22,
   "metadata": {},
   "outputs": [],
   "source": [
    "for col in cc_counts:\n",
    "    full_relative_data[\"percent_\" + col] = subcat[col]/subcat[\"cc_tot\"]"
   ]
  },
  {
   "cell_type": "code",
   "execution_count": 23,
   "metadata": {},
   "outputs": [],
   "source": [
    "full_relative_data = full_relative_data.fillna(0)"
   ]
  },
  {
   "cell_type": "code",
   "execution_count": 24,
   "metadata": {
    "scrolled": true
   },
   "outputs": [
    {
     "data": {
      "text/html": [
       "<div>\n",
       "<style scoped>\n",
       "    .dataframe tbody tr th:only-of-type {\n",
       "        vertical-align: middle;\n",
       "    }\n",
       "\n",
       "    .dataframe tbody tr th {\n",
       "        vertical-align: top;\n",
       "    }\n",
       "\n",
       "    .dataframe thead th {\n",
       "        text-align: right;\n",
       "    }\n",
       "</style>\n",
       "<table border=\"1\" class=\"dataframe\">\n",
       "  <thead>\n",
       "    <tr style=\"text-align: right;\">\n",
       "      <th></th>\n",
       "      <th>date</th>\n",
       "      <th>demand_F1</th>\n",
       "      <th>demand</th>\n",
       "      <th>demand_P2</th>\n",
       "      <th>demand_P1</th>\n",
       "      <th>subcat_avg_demand</th>\n",
       "      <th>month_avg_demand</th>\n",
       "      <th>year_avg_demand</th>\n",
       "      <th>brand_avg_demand</th>\n",
       "      <th>month</th>\n",
       "      <th>...</th>\n",
       "      <th>percent_Questions_Order_Returns</th>\n",
       "      <th>percent_Questions_Product_General</th>\n",
       "      <th>percent_Questions_Product_Packaging</th>\n",
       "      <th>percent_Questions_Product_Performance</th>\n",
       "      <th>percent_Questions_Product_Usage Related</th>\n",
       "      <th>percent_Questions_Service_Location</th>\n",
       "      <th>percent_Questions_Service_Miscellaneous</th>\n",
       "      <th>percent_Questions_Website_Offer Codes</th>\n",
       "      <th>percent_Questions_Website_Website functionality</th>\n",
       "      <th>percent_Suggestions_Suggestion_Miscellaneous</th>\n",
       "    </tr>\n",
       "  </thead>\n",
       "  <tbody>\n",
       "    <tr>\n",
       "      <th>0</th>\n",
       "      <td>2014-12</td>\n",
       "      <td>195.0</td>\n",
       "      <td>0</td>\n",
       "      <td>0.0</td>\n",
       "      <td>0.0</td>\n",
       "      <td>1906.184615</td>\n",
       "      <td>31816.180952</td>\n",
       "      <td>25517.980220</td>\n",
       "      <td>1659.630769</td>\n",
       "      <td>12</td>\n",
       "      <td>...</td>\n",
       "      <td>0.0</td>\n",
       "      <td>0.0</td>\n",
       "      <td>0.0</td>\n",
       "      <td>0.0</td>\n",
       "      <td>0.0</td>\n",
       "      <td>0.0</td>\n",
       "      <td>0.0</td>\n",
       "      <td>0.0</td>\n",
       "      <td>0.0</td>\n",
       "      <td>0.0</td>\n",
       "    </tr>\n",
       "    <tr>\n",
       "      <th>1</th>\n",
       "      <td>2014-12</td>\n",
       "      <td>0.0</td>\n",
       "      <td>0</td>\n",
       "      <td>0.0</td>\n",
       "      <td>0.0</td>\n",
       "      <td>3109.058974</td>\n",
       "      <td>31816.180952</td>\n",
       "      <td>25517.980220</td>\n",
       "      <td>7695.969900</td>\n",
       "      <td>12</td>\n",
       "      <td>...</td>\n",
       "      <td>0.0</td>\n",
       "      <td>0.0</td>\n",
       "      <td>0.0</td>\n",
       "      <td>0.0</td>\n",
       "      <td>0.0</td>\n",
       "      <td>0.0</td>\n",
       "      <td>0.0</td>\n",
       "      <td>0.0</td>\n",
       "      <td>0.0</td>\n",
       "      <td>0.0</td>\n",
       "    </tr>\n",
       "    <tr>\n",
       "      <th>2</th>\n",
       "      <td>2014-12</td>\n",
       "      <td>10.0</td>\n",
       "      <td>40</td>\n",
       "      <td>14.0</td>\n",
       "      <td>26.0</td>\n",
       "      <td>6363.111111</td>\n",
       "      <td>31816.180952</td>\n",
       "      <td>25517.980220</td>\n",
       "      <td>7695.969900</td>\n",
       "      <td>12</td>\n",
       "      <td>...</td>\n",
       "      <td>0.0</td>\n",
       "      <td>0.0</td>\n",
       "      <td>0.0</td>\n",
       "      <td>0.0</td>\n",
       "      <td>0.0</td>\n",
       "      <td>0.0</td>\n",
       "      <td>0.0</td>\n",
       "      <td>0.0</td>\n",
       "      <td>0.0</td>\n",
       "      <td>0.0</td>\n",
       "    </tr>\n",
       "    <tr>\n",
       "      <th>3</th>\n",
       "      <td>2014-12</td>\n",
       "      <td>63.0</td>\n",
       "      <td>3</td>\n",
       "      <td>480.0</td>\n",
       "      <td>626.0</td>\n",
       "      <td>2584.835897</td>\n",
       "      <td>31816.180952</td>\n",
       "      <td>25517.980220</td>\n",
       "      <td>7695.969900</td>\n",
       "      <td>12</td>\n",
       "      <td>...</td>\n",
       "      <td>0.0</td>\n",
       "      <td>0.0</td>\n",
       "      <td>0.0</td>\n",
       "      <td>0.0</td>\n",
       "      <td>0.0</td>\n",
       "      <td>0.0</td>\n",
       "      <td>0.0</td>\n",
       "      <td>0.0</td>\n",
       "      <td>0.0</td>\n",
       "      <td>0.0</td>\n",
       "    </tr>\n",
       "    <tr>\n",
       "      <th>4</th>\n",
       "      <td>2014-12</td>\n",
       "      <td>137240.0</td>\n",
       "      <td>23846</td>\n",
       "      <td>73311.0</td>\n",
       "      <td>31094.0</td>\n",
       "      <td>43097.447337</td>\n",
       "      <td>31816.180952</td>\n",
       "      <td>25517.980220</td>\n",
       "      <td>7695.969900</td>\n",
       "      <td>12</td>\n",
       "      <td>...</td>\n",
       "      <td>0.0</td>\n",
       "      <td>0.0</td>\n",
       "      <td>0.0</td>\n",
       "      <td>0.0</td>\n",
       "      <td>0.0</td>\n",
       "      <td>0.0</td>\n",
       "      <td>0.0</td>\n",
       "      <td>0.0</td>\n",
       "      <td>0.0</td>\n",
       "      <td>0.0</td>\n",
       "    </tr>\n",
       "    <tr>\n",
       "      <th>...</th>\n",
       "      <td>...</td>\n",
       "      <td>...</td>\n",
       "      <td>...</td>\n",
       "      <td>...</td>\n",
       "      <td>...</td>\n",
       "      <td>...</td>\n",
       "      <td>...</td>\n",
       "      <td>...</td>\n",
       "      <td>...</td>\n",
       "      <td>...</td>\n",
       "      <td>...</td>\n",
       "      <td>...</td>\n",
       "      <td>...</td>\n",
       "      <td>...</td>\n",
       "      <td>...</td>\n",
       "      <td>...</td>\n",
       "      <td>...</td>\n",
       "      <td>...</td>\n",
       "      <td>...</td>\n",
       "      <td>...</td>\n",
       "      <td>...</td>\n",
       "    </tr>\n",
       "    <tr>\n",
       "      <th>29700</th>\n",
       "      <td>2020-04</td>\n",
       "      <td>2833.0</td>\n",
       "      <td>552</td>\n",
       "      <td>3871.0</td>\n",
       "      <td>1872.0</td>\n",
       "      <td>5799.789744</td>\n",
       "      <td>21587.236264</td>\n",
       "      <td>19931.730769</td>\n",
       "      <td>66774.171748</td>\n",
       "      <td>04</td>\n",
       "      <td>...</td>\n",
       "      <td>0.0</td>\n",
       "      <td>0.0</td>\n",
       "      <td>0.0</td>\n",
       "      <td>0.0</td>\n",
       "      <td>0.0</td>\n",
       "      <td>0.0</td>\n",
       "      <td>0.0</td>\n",
       "      <td>0.0</td>\n",
       "      <td>0.0</td>\n",
       "      <td>0.0</td>\n",
       "    </tr>\n",
       "    <tr>\n",
       "      <th>29701</th>\n",
       "      <td>2020-04</td>\n",
       "      <td>11471.0</td>\n",
       "      <td>7036</td>\n",
       "      <td>35753.0</td>\n",
       "      <td>20538.0</td>\n",
       "      <td>32732.323077</td>\n",
       "      <td>21587.236264</td>\n",
       "      <td>19931.730769</td>\n",
       "      <td>66774.171748</td>\n",
       "      <td>04</td>\n",
       "      <td>...</td>\n",
       "      <td>0.0</td>\n",
       "      <td>0.0</td>\n",
       "      <td>0.0</td>\n",
       "      <td>0.0</td>\n",
       "      <td>0.0</td>\n",
       "      <td>0.0</td>\n",
       "      <td>0.0</td>\n",
       "      <td>0.0</td>\n",
       "      <td>0.0</td>\n",
       "      <td>0.0</td>\n",
       "    </tr>\n",
       "    <tr>\n",
       "      <th>29702</th>\n",
       "      <td>2020-04</td>\n",
       "      <td>21111.0</td>\n",
       "      <td>13666</td>\n",
       "      <td>212473.0</td>\n",
       "      <td>34592.0</td>\n",
       "      <td>10997.128205</td>\n",
       "      <td>21587.236264</td>\n",
       "      <td>19931.730769</td>\n",
       "      <td>66774.171748</td>\n",
       "      <td>04</td>\n",
       "      <td>...</td>\n",
       "      <td>0.0</td>\n",
       "      <td>0.0</td>\n",
       "      <td>0.0</td>\n",
       "      <td>0.0</td>\n",
       "      <td>0.0</td>\n",
       "      <td>0.0</td>\n",
       "      <td>0.0</td>\n",
       "      <td>0.0</td>\n",
       "      <td>0.0</td>\n",
       "      <td>0.0</td>\n",
       "    </tr>\n",
       "    <tr>\n",
       "      <th>29703</th>\n",
       "      <td>2020-04</td>\n",
       "      <td>0.0</td>\n",
       "      <td>0</td>\n",
       "      <td>0.0</td>\n",
       "      <td>0.0</td>\n",
       "      <td>2711.886154</td>\n",
       "      <td>21587.236264</td>\n",
       "      <td>19931.730769</td>\n",
       "      <td>13684.797041</td>\n",
       "      <td>04</td>\n",
       "      <td>...</td>\n",
       "      <td>0.0</td>\n",
       "      <td>0.0</td>\n",
       "      <td>0.0</td>\n",
       "      <td>0.0</td>\n",
       "      <td>0.0</td>\n",
       "      <td>0.0</td>\n",
       "      <td>0.0</td>\n",
       "      <td>0.0</td>\n",
       "      <td>0.0</td>\n",
       "      <td>0.0</td>\n",
       "    </tr>\n",
       "    <tr>\n",
       "      <th>29704</th>\n",
       "      <td>2020-04</td>\n",
       "      <td>0.0</td>\n",
       "      <td>0</td>\n",
       "      <td>0.0</td>\n",
       "      <td>0.0</td>\n",
       "      <td>0.000000</td>\n",
       "      <td>21587.236264</td>\n",
       "      <td>19931.730769</td>\n",
       "      <td>3236.084615</td>\n",
       "      <td>04</td>\n",
       "      <td>...</td>\n",
       "      <td>0.0</td>\n",
       "      <td>0.0</td>\n",
       "      <td>0.0</td>\n",
       "      <td>0.0</td>\n",
       "      <td>0.0</td>\n",
       "      <td>0.0</td>\n",
       "      <td>0.0</td>\n",
       "      <td>0.0</td>\n",
       "      <td>0.0</td>\n",
       "      <td>0.0</td>\n",
       "    </tr>\n",
       "  </tbody>\n",
       "</table>\n",
       "<p>29705 rows × 109 columns</p>\n",
       "</div>"
      ],
      "text/plain": [
       "          date  demand_F1  demand  demand_P2  demand_P1  subcat_avg_demand  \\\n",
       "0      2014-12      195.0       0        0.0        0.0        1906.184615   \n",
       "1      2014-12        0.0       0        0.0        0.0        3109.058974   \n",
       "2      2014-12       10.0      40       14.0       26.0        6363.111111   \n",
       "3      2014-12       63.0       3      480.0      626.0        2584.835897   \n",
       "4      2014-12   137240.0   23846    73311.0    31094.0       43097.447337   \n",
       "...        ...        ...     ...        ...        ...                ...   \n",
       "29700  2020-04     2833.0     552     3871.0     1872.0        5799.789744   \n",
       "29701  2020-04    11471.0    7036    35753.0    20538.0       32732.323077   \n",
       "29702  2020-04    21111.0   13666   212473.0    34592.0       10997.128205   \n",
       "29703  2020-04        0.0       0        0.0        0.0        2711.886154   \n",
       "29704  2020-04        0.0       0        0.0        0.0           0.000000   \n",
       "\n",
       "       month_avg_demand  year_avg_demand  brand_avg_demand month  ...  \\\n",
       "0          31816.180952     25517.980220       1659.630769    12  ...   \n",
       "1          31816.180952     25517.980220       7695.969900    12  ...   \n",
       "2          31816.180952     25517.980220       7695.969900    12  ...   \n",
       "3          31816.180952     25517.980220       7695.969900    12  ...   \n",
       "4          31816.180952     25517.980220       7695.969900    12  ...   \n",
       "...                 ...              ...               ...   ...  ...   \n",
       "29700      21587.236264     19931.730769      66774.171748    04  ...   \n",
       "29701      21587.236264     19931.730769      66774.171748    04  ...   \n",
       "29702      21587.236264     19931.730769      66774.171748    04  ...   \n",
       "29703      21587.236264     19931.730769      13684.797041    04  ...   \n",
       "29704      21587.236264     19931.730769       3236.084615    04  ...   \n",
       "\n",
       "      percent_Questions_Order_Returns  percent_Questions_Product_General  \\\n",
       "0                                 0.0                                0.0   \n",
       "1                                 0.0                                0.0   \n",
       "2                                 0.0                                0.0   \n",
       "3                                 0.0                                0.0   \n",
       "4                                 0.0                                0.0   \n",
       "...                               ...                                ...   \n",
       "29700                             0.0                                0.0   \n",
       "29701                             0.0                                0.0   \n",
       "29702                             0.0                                0.0   \n",
       "29703                             0.0                                0.0   \n",
       "29704                             0.0                                0.0   \n",
       "\n",
       "       percent_Questions_Product_Packaging  \\\n",
       "0                                      0.0   \n",
       "1                                      0.0   \n",
       "2                                      0.0   \n",
       "3                                      0.0   \n",
       "4                                      0.0   \n",
       "...                                    ...   \n",
       "29700                                  0.0   \n",
       "29701                                  0.0   \n",
       "29702                                  0.0   \n",
       "29703                                  0.0   \n",
       "29704                                  0.0   \n",
       "\n",
       "       percent_Questions_Product_Performance  \\\n",
       "0                                        0.0   \n",
       "1                                        0.0   \n",
       "2                                        0.0   \n",
       "3                                        0.0   \n",
       "4                                        0.0   \n",
       "...                                      ...   \n",
       "29700                                    0.0   \n",
       "29701                                    0.0   \n",
       "29702                                    0.0   \n",
       "29703                                    0.0   \n",
       "29704                                    0.0   \n",
       "\n",
       "       percent_Questions_Product_Usage Related  \\\n",
       "0                                          0.0   \n",
       "1                                          0.0   \n",
       "2                                          0.0   \n",
       "3                                          0.0   \n",
       "4                                          0.0   \n",
       "...                                        ...   \n",
       "29700                                      0.0   \n",
       "29701                                      0.0   \n",
       "29702                                      0.0   \n",
       "29703                                      0.0   \n",
       "29704                                      0.0   \n",
       "\n",
       "       percent_Questions_Service_Location  \\\n",
       "0                                     0.0   \n",
       "1                                     0.0   \n",
       "2                                     0.0   \n",
       "3                                     0.0   \n",
       "4                                     0.0   \n",
       "...                                   ...   \n",
       "29700                                 0.0   \n",
       "29701                                 0.0   \n",
       "29702                                 0.0   \n",
       "29703                                 0.0   \n",
       "29704                                 0.0   \n",
       "\n",
       "       percent_Questions_Service_Miscellaneous  \\\n",
       "0                                          0.0   \n",
       "1                                          0.0   \n",
       "2                                          0.0   \n",
       "3                                          0.0   \n",
       "4                                          0.0   \n",
       "...                                        ...   \n",
       "29700                                      0.0   \n",
       "29701                                      0.0   \n",
       "29702                                      0.0   \n",
       "29703                                      0.0   \n",
       "29704                                      0.0   \n",
       "\n",
       "       percent_Questions_Website_Offer Codes  \\\n",
       "0                                        0.0   \n",
       "1                                        0.0   \n",
       "2                                        0.0   \n",
       "3                                        0.0   \n",
       "4                                        0.0   \n",
       "...                                      ...   \n",
       "29700                                    0.0   \n",
       "29701                                    0.0   \n",
       "29702                                    0.0   \n",
       "29703                                    0.0   \n",
       "29704                                    0.0   \n",
       "\n",
       "       percent_Questions_Website_Website functionality  \\\n",
       "0                                                  0.0   \n",
       "1                                                  0.0   \n",
       "2                                                  0.0   \n",
       "3                                                  0.0   \n",
       "4                                                  0.0   \n",
       "...                                                ...   \n",
       "29700                                              0.0   \n",
       "29701                                              0.0   \n",
       "29702                                              0.0   \n",
       "29703                                              0.0   \n",
       "29704                                              0.0   \n",
       "\n",
       "      percent_Suggestions_Suggestion_Miscellaneous  \n",
       "0                                              0.0  \n",
       "1                                              0.0  \n",
       "2                                              0.0  \n",
       "3                                              0.0  \n",
       "4                                              0.0  \n",
       "...                                            ...  \n",
       "29700                                          0.0  \n",
       "29701                                          0.0  \n",
       "29702                                          0.0  \n",
       "29703                                          0.0  \n",
       "29704                                          0.0  \n",
       "\n",
       "[29705 rows x 109 columns]"
      ]
     },
     "execution_count": 24,
     "metadata": {},
     "output_type": "execute_result"
    }
   ],
   "source": [
    "full_relative_data"
   ]
  },
  {
   "cell_type": "markdown",
   "metadata": {},
   "source": [
    "## Build Model with Customer Data"
   ]
  },
  {
   "cell_type": "code",
   "execution_count": 25,
   "metadata": {},
   "outputs": [
    {
     "data": {
      "text/plain": [
       "Index(['demand', 'demand_P2', 'demand_P1', 'subcat_avg_demand',\n",
       "       'month_avg_demand', 'year_avg_demand', 'brand_avg_demand', 'month',\n",
       "       'year', 'percent_1', 'percent_2', 'percent_3', 'percent_4', 'percent_5',\n",
       "       'percent_negative', 'percent_neutral', 'percent_positive'],\n",
       "      dtype='object')"
      ]
     },
     "execution_count": 25,
     "metadata": {},
     "output_type": "execute_result"
    }
   ],
   "source": [
    "X = relative_data.drop([\"demand_F1\", \"date\", \"sub_category\", \"elc_brand\"], axis = 1)\n",
    "y = relative_data[[\"demand_F1\"]]\n",
    "X.columns"
   ]
  },
  {
   "cell_type": "code",
   "execution_count": 26,
   "metadata": {
    "scrolled": true
   },
   "outputs": [
    {
     "data": {
      "text/plain": [
       "Text(0, 0.5, 'cumulative explained variance')"
      ]
     },
     "execution_count": 26,
     "metadata": {},
     "output_type": "execute_result"
    },
    {
     "data": {
      "image/png": "[encoded data removed]",
      "text/plain": [
       "<Figure size 432x288 with 1 Axes>"
      ]
     },
     "metadata": {
      "needs_background": "light"
     },
     "output_type": "display_data"
    }
   ],
   "source": [
    "X = StandardScaler().fit_transform(X)\n",
    "pca = PCA().fit(X)\n",
    "plt.plot(np.cumsum(pca.explained_variance_ratio_))\n",
    "plt.xlabel('number of components')\n",
    "plt.ylabel('cumulative explained variance')"
   ]
  },
  {
   "cell_type": "code",
   "execution_count": 27,
   "metadata": {},
   "outputs": [],
   "source": [
    "pca = PCA(n_components=10)\n",
    "principalComponents = pca.fit_transform(X)\n",
    "principalDf = pd.DataFrame(data = principalComponents)"
   ]
  },
  {
   "cell_type": "code",
   "execution_count": 28,
   "metadata": {},
   "outputs": [],
   "source": [
    "#principalDf.to_csv(onedrive_path + \"Output/2020_06_22_to_rama/pca.csv\")"
   ]
  },
  {
   "cell_type": "code",
   "execution_count": 29,
   "metadata": {},
   "outputs": [],
   "source": [
    "X_train, X_test, y_train, y_test = train_test_split(principalDf, y, shuffle = False)"
   ]
  },
  {
   "cell_type": "code",
   "execution_count": 30,
   "metadata": {},
   "outputs": [
    {
     "data": {
      "text/plain": [
       "DecisionTreeRegressor(ccp_alpha=0.0, criterion='mse', max_depth=None,\n",
       "                      max_features=None, max_leaf_nodes=None,\n",
       "                      min_impurity_decrease=0.0, min_impurity_split=None,\n",
       "                      min_samples_leaf=1, min_samples_split=2,\n",
       "                      min_weight_fraction_leaf=0.0, presort='deprecated',\n",
       "                      random_state=None, splitter='best')"
      ]
     },
     "execution_count": 30,
     "metadata": {},
     "output_type": "execute_result"
    }
   ],
   "source": [
    "tree = DecisionTreeRegressor()\n",
    "tree.fit(X_train, y_train)"
   ]
  },
  {
   "cell_type": "code",
   "execution_count": 31,
   "metadata": {},
   "outputs": [
    {
     "data": {
      "text/plain": [
       "GridSearchCV(cv=5, error_score=nan,\n",
       "             estimator=DecisionTreeRegressor(ccp_alpha=0.0, criterion='mse',\n",
       "                                             max_depth=None, max_features=None,\n",
       "                                             max_leaf_nodes=None,\n",
       "                                             min_impurity_decrease=0.0,\n",
       "                                             min_impurity_split=None,\n",
       "                                             min_samples_leaf=1,\n",
       "                                             min_samples_split=2,\n",
       "                                             min_weight_fraction_leaf=0.0,\n",
       "                                             presort='deprecated',\n",
       "                                             random_state=None,\n",
       "                                             splitter='best'),\n",
       "             iid='deprecated', n_jobs=None,\n",
       "             param_grid={'max_depth': [2, 3, 5, 7],\n",
       "                         'min_samples_leaf': [2, 4, 18, 16, 32, 64],\n",
       "                         'min_samples_split': [2, 4, 18, 16, 32, 64]},\n",
       "             pre_dispatch='2*n_jobs', refit=True, return_train_score=False,\n",
       "             scoring=None, verbose=0)"
      ]
     },
     "execution_count": 31,
     "metadata": {},
     "output_type": "execute_result"
    }
   ],
   "source": [
    "tree_param = {'max_depth': [2, 3, 5, 7],\n",
    "             'min_samples_split':  [2, 4, 18, 16, 32, 64],\n",
    "             'min_samples_leaf': [2, 4, 18, 16, 32, 64]}\n",
    "clf = GridSearchCV(tree, tree_param, cv=5)\n",
    "clf.fit(X_train, y_train)"
   ]
  },
  {
   "cell_type": "code",
   "execution_count": 32,
   "metadata": {},
   "outputs": [
    {
     "data": {
      "text/plain": [
       "0.8092377082652373"
      ]
     },
     "execution_count": 32,
     "metadata": {},
     "output_type": "execute_result"
    }
   ],
   "source": [
    "clf.best_score_"
   ]
  },
  {
   "cell_type": "code",
   "execution_count": 33,
   "metadata": {},
   "outputs": [
    {
     "data": {
      "text/plain": [
       "0.8056516785106262"
      ]
     },
     "execution_count": 33,
     "metadata": {},
     "output_type": "execute_result"
    }
   ],
   "source": [
    "pred = clf.best_estimator_.predict(X_test)\n",
    "metrics.r2_score(pred, y_test)"
   ]
  },
  {
   "cell_type": "markdown",
   "metadata": {},
   "source": [
    "## What if we remove Demand Lags"
   ]
  },
  {
   "cell_type": "code",
   "execution_count": 34,
   "metadata": {},
   "outputs": [],
   "source": [
    "no_lags = relative_data[['subcat_avg_demand',\n",
    "       'month_avg_demand', 'year_avg_demand', 'brand_avg_demand', 'month',\n",
    "       'year', 'percent_1', 'percent_2', 'percent_3', 'percent_4', 'percent_5',\n",
    "       'percent_negative', 'percent_neutral', 'percent_positive']]"
   ]
  },
  {
   "cell_type": "code",
   "execution_count": 35,
   "metadata": {},
   "outputs": [
    {
     "data": {
      "text/plain": [
       "Text(0, 0.5, 'cumulative explained variance')"
      ]
     },
     "execution_count": 35,
     "metadata": {},
     "output_type": "execute_result"
    },
    {
     "data": {
      "image/png": "[encoded data removed]",
      "text/plain": [
       "<Figure size 432x288 with 1 Axes>"
      ]
     },
     "metadata": {
      "needs_background": "light"
     },
     "output_type": "display_data"
    }
   ],
   "source": [
    "X = StandardScaler().fit_transform(no_lags)\n",
    "pca = PCA().fit(X)\n",
    "plt.plot(np.cumsum(pca.explained_variance_ratio_))\n",
    "plt.xlabel('number of components')\n",
    "plt.ylabel('cumulative explained variance')"
   ]
  },
  {
   "cell_type": "code",
   "execution_count": 36,
   "metadata": {},
   "outputs": [],
   "source": [
    "pca = PCA(n_components=10)\n",
    "principalComponents = pca.fit_transform(X)\n",
    "principalDf = pd.DataFrame(data = principalComponents)"
   ]
  },
  {
   "cell_type": "code",
   "execution_count": 37,
   "metadata": {},
   "outputs": [
    {
     "data": {
      "text/plain": [
       "GridSearchCV(cv=5, error_score=nan,\n",
       "             estimator=DecisionTreeRegressor(ccp_alpha=0.0, criterion='mse',\n",
       "                                             max_depth=None, max_features=None,\n",
       "                                             max_leaf_nodes=None,\n",
       "                                             min_impurity_decrease=0.0,\n",
       "                                             min_impurity_split=None,\n",
       "                                             min_samples_leaf=1,\n",
       "                                             min_samples_split=2,\n",
       "                                             min_weight_fraction_leaf=0.0,\n",
       "                                             presort='deprecated',\n",
       "                                             random_state=None,\n",
       "                                             splitter='best'),\n",
       "             iid='deprecated', n_jobs=None,\n",
       "             param_grid={'max_depth': [2, 3, 5, 7],\n",
       "                         'min_samples_leaf': [2, 4, 18, 16, 32, 64],\n",
       "                         'min_samples_split': [2, 4, 18, 16, 32, 64]},\n",
       "             pre_dispatch='2*n_jobs', refit=True, return_train_score=False,\n",
       "             scoring=None, verbose=0)"
      ]
     },
     "execution_count": 37,
     "metadata": {},
     "output_type": "execute_result"
    }
   ],
   "source": [
    "X_train, X_test, y_train, y_test = train_test_split(principalDf, y, shuffle = False)\n",
    "tree = DecisionTreeRegressor()\n",
    "tree.fit(X_train, y_train)\n",
    "\n",
    "tree_param = {'max_depth': [2, 3, 5, 7],\n",
    "             'min_samples_split':  [2, 4, 18, 16, 32, 64],\n",
    "             'min_samples_leaf': [2, 4, 18, 16, 32, 64]}\n",
    "clf = GridSearchCV(tree, tree_param, cv=5)\n",
    "clf.fit(X_train, y_train)"
   ]
  },
  {
   "cell_type": "code",
   "execution_count": 38,
   "metadata": {},
   "outputs": [
    {
     "data": {
      "text/plain": [
       "0.6548935541914265"
      ]
     },
     "execution_count": 38,
     "metadata": {},
     "output_type": "execute_result"
    }
   ],
   "source": [
    "clf.best_score_"
   ]
  },
  {
   "cell_type": "code",
   "execution_count": 39,
   "metadata": {},
   "outputs": [
    {
     "data": {
      "text/plain": [
       "0.3108108560090186"
      ]
     },
     "execution_count": 39,
     "metadata": {},
     "output_type": "execute_result"
    }
   ],
   "source": [
    "pred = clf.best_estimator_.predict(X_test)\n",
    "metrics.r2_score(pred, y_test)"
   ]
  },
  {
   "cell_type": "markdown",
   "metadata": {},
   "source": [
    "## What if I didn't do PCA?"
   ]
  },
  {
   "cell_type": "code",
   "execution_count": 40,
   "metadata": {},
   "outputs": [
    {
     "data": {
      "text/plain": [
       "GridSearchCV(cv=5, error_score=nan,\n",
       "             estimator=DecisionTreeRegressor(ccp_alpha=0.0, criterion='mse',\n",
       "                                             max_depth=None, max_features=None,\n",
       "                                             max_leaf_nodes=None,\n",
       "                                             min_impurity_decrease=0.0,\n",
       "                                             min_impurity_split=None,\n",
       "                                             min_samples_leaf=1,\n",
       "                                             min_samples_split=2,\n",
       "                                             min_weight_fraction_leaf=0.0,\n",
       "                                             presort='deprecated',\n",
       "                                             random_state=None,\n",
       "                                             splitter='best'),\n",
       "             iid='deprecated', n_jobs=None,\n",
       "             param_grid={'max_depth': [2, 3, 4],\n",
       "                         'min_samples_leaf': [2, 4, 18, 16, 32, 64],\n",
       "                         'min_samples_split': [2, 4, 18, 16, 32, 64]},\n",
       "             pre_dispatch='2*n_jobs', refit=True, return_train_score=False,\n",
       "             scoring=None, verbose=0)"
      ]
     },
     "execution_count": 40,
     "metadata": {},
     "output_type": "execute_result"
    }
   ],
   "source": [
    "X_train, X_test, y_train, y_test = train_test_split(no_lags, y, shuffle = False)\n",
    "tree = DecisionTreeRegressor()\n",
    "tree.fit(X_train, y_train)\n",
    "\n",
    "tree_param = {'max_depth': [2, 3, 4],\n",
    "             'min_samples_split':  [2, 4, 18, 16, 32, 64],\n",
    "             'min_samples_leaf': [2, 4, 18, 16, 32, 64]}\n",
    "clf = GridSearchCV(tree, tree_param, cv=5)\n",
    "clf.fit(X_train, y_train)"
   ]
  },
  {
   "cell_type": "code",
   "execution_count": 41,
   "metadata": {},
   "outputs": [
    {
     "data": {
      "text/plain": [
       "0.40092876380641795"
      ]
     },
     "execution_count": 41,
     "metadata": {},
     "output_type": "execute_result"
    }
   ],
   "source": [
    "clf.best_score_"
   ]
  },
  {
   "cell_type": "code",
   "execution_count": 42,
   "metadata": {},
   "outputs": [
    {
     "data": {
      "text/plain": [
       "0.4033315334404677"
      ]
     },
     "execution_count": 42,
     "metadata": {},
     "output_type": "execute_result"
    }
   ],
   "source": [
    "pred = clf.best_estimator_.predict(X_test)\n",
    "metrics.r2_score(pred, y_test)"
   ]
  },
  {
   "cell_type": "code",
   "execution_count": 43,
   "metadata": {},
   "outputs": [
    {
     "data": {
      "image/png": "[encoded data removed]",
      "text/plain": [
       "<Figure size 1800x1440 with 1 Axes>"
      ]
     },
     "metadata": {
      "needs_background": "light"
     },
     "output_type": "display_data"
    }
   ],
   "source": [
    "fig = plt.figure(figsize=(25,20))\n",
    "_ = plot_tree(clf.best_estimator_,\n",
    "            feature_names=no_lags.columns,\n",
    "            filled=True)"
   ]
  },
  {
   "cell_type": "markdown",
   "metadata": {},
   "source": [
    "## What if we removed all demand data"
   ]
  },
  {
   "cell_type": "code",
   "execution_count": 44,
   "metadata": {},
   "outputs": [],
   "source": [
    "no_demand = relative_data[['month','year', 'percent_1', 'percent_2', 'percent_3', 'percent_4', 'percent_5',\n",
    "       'percent_negative', 'percent_neutral', 'percent_positive']] "
   ]
  },
  {
   "cell_type": "code",
   "execution_count": 45,
   "metadata": {},
   "outputs": [
    {
     "data": {
      "text/plain": [
       "Text(0, 0.5, 'cumulative explained variance')"
      ]
     },
     "execution_count": 45,
     "metadata": {},
     "output_type": "execute_result"
    },
    {
     "data": {
      "image/png": "[encoded data removed]",
      "text/plain": [
       "<Figure size 432x288 with 1 Axes>"
      ]
     },
     "metadata": {
      "needs_background": "light"
     },
     "output_type": "display_data"
    }
   ],
   "source": [
    "X = StandardScaler().fit_transform(no_demand)\n",
    "pca = PCA().fit(X)\n",
    "plt.plot(np.cumsum(pca.explained_variance_ratio_))\n",
    "plt.xlabel('number of components')\n",
    "plt.ylabel('cumulative explained variance')"
   ]
  },
  {
   "cell_type": "code",
   "execution_count": 46,
   "metadata": {},
   "outputs": [],
   "source": [
    "pca = PCA(n_components=7)\n",
    "principalComponents = pca.fit_transform(X)\n",
    "principalDf = pd.DataFrame(data = principalComponents)"
   ]
  },
  {
   "cell_type": "code",
   "execution_count": 47,
   "metadata": {},
   "outputs": [
    {
     "data": {
      "text/plain": [
       "GridSearchCV(cv=5, error_score=nan,\n",
       "             estimator=DecisionTreeRegressor(ccp_alpha=0.0, criterion='mse',\n",
       "                                             max_depth=None, max_features=None,\n",
       "                                             max_leaf_nodes=None,\n",
       "                                             min_impurity_decrease=0.0,\n",
       "                                             min_impurity_split=None,\n",
       "                                             min_samples_leaf=1,\n",
       "                                             min_samples_split=2,\n",
       "                                             min_weight_fraction_leaf=0.0,\n",
       "                                             presort='deprecated',\n",
       "                                             random_state=None,\n",
       "                                             splitter='best'),\n",
       "             iid='deprecated', n_jobs=None,\n",
       "             param_grid={'max_depth': [2, 3, 5, 7],\n",
       "                         'min_samples_leaf': [2, 4, 18, 16, 32, 64],\n",
       "                         'min_samples_split': [2, 4, 18, 16, 32, 64]},\n",
       "             pre_dispatch='2*n_jobs', refit=True, return_train_score=False,\n",
       "             scoring=None, verbose=0)"
      ]
     },
     "execution_count": 47,
     "metadata": {},
     "output_type": "execute_result"
    }
   ],
   "source": [
    "X_train, X_test, y_train, y_test = train_test_split(principalDf, y, shuffle = False)\n",
    "tree = DecisionTreeRegressor()\n",
    "tree.fit(X_train, y_train)\n",
    "\n",
    "tree_param = {'max_depth': [2, 3, 5, 7],\n",
    "             'min_samples_split':  [2, 4, 18, 16, 32, 64],\n",
    "             'min_samples_leaf': [2, 4, 18, 16, 32, 64]}\n",
    "clf = GridSearchCV(tree, tree_param, cv=5)\n",
    "clf.fit(X_train, y_train)"
   ]
  },
  {
   "cell_type": "code",
   "execution_count": 48,
   "metadata": {},
   "outputs": [
    {
     "data": {
      "text/plain": [
       "0.08591945868153014"
      ]
     },
     "execution_count": 48,
     "metadata": {},
     "output_type": "execute_result"
    }
   ],
   "source": [
    "clf.best_score_"
   ]
  },
  {
   "cell_type": "code",
   "execution_count": 49,
   "metadata": {},
   "outputs": [
    {
     "data": {
      "text/plain": [
       "-8.926605760624291"
      ]
     },
     "execution_count": 49,
     "metadata": {},
     "output_type": "execute_result"
    }
   ],
   "source": [
    "pred = clf.best_estimator_.predict(X_test)\n",
    "metrics.r2_score(pred, y_test)"
   ]
  },
  {
   "cell_type": "code",
   "execution_count": null,
   "metadata": {},
   "outputs": [],
   "source": []
  }
 ],
 "metadata": {
  "kernelspec": {
   "display_name": "Python 3",
   "language": "python",
   "name": "python3"
  },
  "language_info": {
   "codemirror_mode": {
    "name": "ipython",
    "version": 3
   },
   "file_extension": ".py",
   "mimetype": "text/x-python",
   "name": "python",
   "nbconvert_exporter": "python",
   "pygments_lexer": "ipython3",
   "version": "3.7.6"
  }
 },
 "nbformat": 4,
 "nbformat_minor": 4
}
