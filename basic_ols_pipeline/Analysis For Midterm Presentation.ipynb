{
 "cells": [
  {
   "cell_type": "code",
   "execution_count": 1,
   "metadata": {},
   "outputs": [],
   "source": [
    "import pandas as pd\n",
    "import numpy as np\n",
    "import copy as cp\n",
    "\n",
    "import statsmodels.api as sm\n",
    "import matplotlib.pyplot as plt\n",
    "\n",
    "import sklearn.metrics as metrics\n",
    "\n",
    "from sklearn.linear_model import LinearRegression\n",
    "from sklearn.model_selection import train_test_split\n",
    "from sklearn.preprocessing import StandardScaler\n",
    "from sklearn.decomposition import PCA\n",
    "\n",
    "from heatmap import heatmap, corrplot"
   ]
  },
  {
   "cell_type": "code",
   "execution_count": 2,
   "metadata": {},
   "outputs": [],
   "source": [
    "onedrive_path = \"C:/Users/cfowle/The Estée Lauder Companies Inc/TeamAnis - General/\""
   ]
  },
  {
   "cell_type": "code",
   "execution_count": 257,
   "metadata": {},
   "outputs": [],
   "source": [
    "rr_cc = pd.read_csv(onedrive_path + \"Output/2020_07_06_to_rama/counts.csv\")\n",
    "rr_cc = rr_cc.sort_values(\"date\")"
   ]
  },
  {
   "cell_type": "code",
   "execution_count": 258,
   "metadata": {},
   "outputs": [],
   "source": [
    "rr_cc = rr_cc.iloc[:, 5:24]\n",
    "rr_cc.columns\n",
    "percent_pos = rr_cc.sentiment_positive/rr_cc.nb_reviews"
   ]
  },
  {
   "cell_type": "code",
   "execution_count": 259,
   "metadata": {},
   "outputs": [],
   "source": [
    "rr_cc = rr_cc.loc[rr_cc[\"demand\"] > 0]\n",
    "rr_cc = rr_cc.loc[rr_cc.demand_F1  > 0]\n",
    "rr_cc = rr_cc.loc[rr_cc.demand_P1  > 0]\n",
    "rr_cc = rr_cc.loc[rr_cc.demand_P2  > 0]\n",
    "rr_cc = rr_cc.loc[rr_cc[\"nb_reviews\"] > 0]"
   ]
  },
  {
   "cell_type": "code",
   "execution_count": 260,
   "metadata": {},
   "outputs": [],
   "source": [
    "rr_cc = rr_cc + 1"
   ]
  },
  {
   "cell_type": "code",
   "execution_count": 261,
   "metadata": {},
   "outputs": [
    {
     "name": "stderr",
     "output_type": "stream",
     "text": [
      "C:\\Users\\cfowle\\Anaconda3\\lib\\site-packages\\ipykernel_launcher.py:1: RuntimeWarning: divide by zero encountered in log\n",
      "  \"\"\"Entry point for launching an IPython kernel.\n",
      "C:\\Users\\cfowle\\Anaconda3\\lib\\site-packages\\ipykernel_launcher.py:1: RuntimeWarning: invalid value encountered in log\n",
      "  \"\"\"Entry point for launching an IPython kernel.\n"
     ]
    }
   ],
   "source": [
    "rr_cc = np.log(rr_cc) \n",
    "rr_cc[\"intercept\"] = 1\n",
    "rr_cc[\"percent_pos\"] = percent_pos"
   ]
  },
  {
   "cell_type": "markdown",
   "metadata": {},
   "source": [
    "# Baseline"
   ]
  },
  {
   "cell_type": "code",
   "execution_count": 178,
   "metadata": {},
   "outputs": [
    {
     "data": {
      "text/plain": [
       "Index(['avg_nb_statements', 'nb_reviews', 'rating', 'rating_1', 'rating_2',\n",
       "       'rating_3', 'rating_4', 'rating_5', 'sentiment_negative',\n",
       "       'sentiment_neutral', 'sentiment_positive', 'sentiment', 'demand_P1',\n",
       "       'demand_P2', 'demand', 'demand_F1', 'demand_F2', 'Complaints',\n",
       "       'Compliments', 'intercept'],\n",
       "      dtype='object')"
      ]
     },
     "execution_count": 178,
     "metadata": {},
     "output_type": "execute_result"
    }
   ],
   "source": [
    "rr_cc.columns"
   ]
  },
  {
   "cell_type": "code",
   "execution_count": 179,
   "metadata": {},
   "outputs": [],
   "source": [
    "X = rr_cc[[\"intercept\", \"demand_F1\", \"demand\", \"demand_P1\", \"demand_P2\"]]\n",
    "y = X.pop(\"demand_F1\")"
   ]
  },
  {
   "cell_type": "code",
   "execution_count": 180,
   "metadata": {},
   "outputs": [],
   "source": [
    "X_train, X_test, y_train, y_test = train_test_split(X, y, shuffle = False)"
   ]
  },
  {
   "cell_type": "code",
   "execution_count": 181,
   "metadata": {},
   "outputs": [
    {
     "data": {
      "text/plain": [
       "0.7877768126936798"
      ]
     },
     "execution_count": 181,
     "metadata": {},
     "output_type": "execute_result"
    }
   ],
   "source": [
    "lm = LinearRegression()\n",
    "lm.fit(X_train, y_train)\n",
    "pred = lm.predict(X_test)\n",
    "metrics.r2_score(pred, y_test)"
   ]
  },
  {
   "cell_type": "code",
   "execution_count": 182,
   "metadata": {},
   "outputs": [
    {
     "name": "stdout",
     "output_type": "stream",
     "text": [
      "                            OLS Regression Results                            \n",
      "==============================================================================\n",
      "Dep. Variable:              demand_F1   R-squared:                       0.847\n",
      "Model:                            OLS   Adj. R-squared:                  0.846\n",
      "Method:                 Least Squares   F-statistic:                 1.649e+04\n",
      "Date:                Mon, 13 Jul 2020   Prob (F-statistic):               0.00\n",
      "Time:                        13:26:58   Log-Likelihood:                -10841.\n",
      "No. Observations:                8973   AIC:                         2.169e+04\n",
      "Df Residuals:                    8969   BIC:                         2.172e+04\n",
      "Df Model:                           3                                         \n",
      "Covariance Type:            nonrobust                                         \n",
      "==============================================================================\n",
      "                 coef    std err          t      P>|t|      [0.025      0.975]\n",
      "------------------------------------------------------------------------------\n",
      "intercept      0.1138      0.043      2.617      0.009       0.029       0.199\n",
      "demand         0.4301      0.010     43.323      0.000       0.411       0.450\n",
      "demand_P1      0.2254      0.011     21.150      0.000       0.205       0.246\n",
      "demand_P2      0.3280      0.010     33.901      0.000       0.309       0.347\n",
      "==============================================================================\n",
      "Omnibus:                     1811.102   Durbin-Watson:                   1.814\n",
      "Prob(Omnibus):                  0.000   Jarque-Bera (JB):            45171.052\n",
      "Skew:                          -0.335   Prob(JB):                         0.00\n",
      "Kurtosis:                      13.971   Cond. No.                         86.6\n",
      "==============================================================================\n",
      "\n",
      "Warnings:\n",
      "[1] Standard Errors assume that the covariance matrix of the errors is correctly specified.\n"
     ]
    }
   ],
   "source": [
    "est = sm.OLS(y_train, X_train)\n",
    "est2 = est.fit()\n",
    "\n",
    "print(est2.summary())"
   ]
  },
  {
   "cell_type": "markdown",
   "metadata": {},
   "source": [
    "# Consumer Care"
   ]
  },
  {
   "cell_type": "code",
   "execution_count": 208,
   "metadata": {},
   "outputs": [
    {
     "data": {
      "text/plain": [
       "0.9004730752964998"
      ]
     },
     "execution_count": 208,
     "metadata": {},
     "output_type": "execute_result"
    }
   ],
   "source": [
    "X = rr_cc[[\"intercept\", \"demand_F1\", \"demand\", \"demand_P1\", \"demand_P2\", \"Compliments\", \"Complaints\"]].loc[rr_cc.Complaints > 0]\n",
    "y = X.pop(\"demand_F1\")\n",
    "\n",
    "X_train, X_test, y_train, y_test = train_test_split(X, y, shuffle = False)\n",
    "\n",
    "lm = LinearRegression(fit_intercept = False)\n",
    "lm.fit(X_train, y_train)\n",
    "pred = lm.predict(X_test)\n",
    "metrics.r2_score(pred, y_test)"
   ]
  },
  {
   "cell_type": "code",
   "execution_count": 209,
   "metadata": {},
   "outputs": [
    {
     "name": "stdout",
     "output_type": "stream",
     "text": [
      "                            OLS Regression Results                            \n",
      "==============================================================================\n",
      "Dep. Variable:              demand_F1   R-squared:                       0.930\n",
      "Model:                            OLS   Adj. R-squared:                  0.929\n",
      "Method:                 Least Squares   F-statistic:                     2474.\n",
      "Date:                Mon, 13 Jul 2020   Prob (F-statistic):               0.00\n",
      "Time:                        13:36:47   Log-Likelihood:                -749.06\n",
      "No. Observations:                 944   AIC:                             1510.\n",
      "Df Residuals:                     938   BIC:                             1539.\n",
      "Df Model:                           5                                         \n",
      "Covariance Type:            nonrobust                                         \n",
      "===============================================================================\n",
      "                  coef    std err          t      P>|t|      [0.025      0.975]\n",
      "-------------------------------------------------------------------------------\n",
      "intercept       0.0435      0.116      0.376      0.707      -0.183       0.270\n",
      "demand          0.3641      0.032     11.435      0.000       0.302       0.427\n",
      "demand_P1       0.1823      0.032      5.722      0.000       0.120       0.245\n",
      "demand_P2       0.4363      0.031     14.269      0.000       0.376       0.496\n",
      "Compliments     0.0187      0.088      0.214      0.831      -0.153       0.191\n",
      "Complaints      0.0423      0.026      1.639      0.101      -0.008       0.093\n",
      "==============================================================================\n",
      "Omnibus:                      287.123   Durbin-Watson:                   1.578\n",
      "Prob(Omnibus):                  0.000   Jarque-Bera (JB):             3587.607\n",
      "Skew:                          -1.020   Prob(JB):                         0.00\n",
      "Kurtosis:                      12.330   Cond. No.                         128.\n",
      "==============================================================================\n",
      "\n",
      "Warnings:\n",
      "[1] Standard Errors assume that the covariance matrix of the errors is correctly specified.\n"
     ]
    }
   ],
   "source": [
    "est = sm.OLS(y_train, X_train)\n",
    "est2 = est.fit()\n",
    "\n",
    "print(est2.summary())"
   ]
  },
  {
   "cell_type": "code",
   "execution_count": 210,
   "metadata": {},
   "outputs": [
    {
     "data": {
      "text/plain": [
       "0.9004340130681967"
      ]
     },
     "execution_count": 210,
     "metadata": {},
     "output_type": "execute_result"
    }
   ],
   "source": [
    "X = X[[\"intercept\", \"demand\", \"demand_P1\", \"demand_P2\", \"Complaints\"]]\n",
    "\n",
    "X_train, X_test, y_train, y_test = train_test_split(X, y, shuffle = False)\n",
    "\n",
    "lm = LinearRegression(fit_intercept = False)\n",
    "lm.fit(X_train, y_train)\n",
    "pred = lm.predict(X_test)\n",
    "metrics.r2_score(pred, y_test)"
   ]
  },
  {
   "cell_type": "code",
   "execution_count": 191,
   "metadata": {},
   "outputs": [
    {
     "name": "stdout",
     "output_type": "stream",
     "text": [
      "                            OLS Regression Results                            \n",
      "==============================================================================\n",
      "Dep. Variable:              demand_F1   R-squared:                       0.930\n",
      "Model:                            OLS   Adj. R-squared:                  0.929\n",
      "Method:                 Least Squares   F-statistic:                     3096.\n",
      "Date:                Mon, 13 Jul 2020   Prob (F-statistic):               0.00\n",
      "Time:                        13:28:22   Log-Likelihood:                -749.08\n",
      "No. Observations:                 944   AIC:                             1508.\n",
      "Df Residuals:                     939   BIC:                             1532.\n",
      "Df Model:                           4                                         \n",
      "Covariance Type:            nonrobust                                         \n",
      "==============================================================================\n",
      "                 coef    std err          t      P>|t|      [0.025      0.975]\n",
      "------------------------------------------------------------------------------\n",
      "intercept      0.0416      0.115      0.361      0.718      -0.184       0.268\n",
      "demand         0.3644      0.032     11.462      0.000       0.302       0.427\n",
      "demand_P1      0.1820      0.032      5.721      0.000       0.120       0.244\n",
      "demand_P2      0.4365      0.031     14.287      0.000       0.377       0.496\n",
      "Complaints     0.0427      0.026      1.659      0.097      -0.008       0.093\n",
      "==============================================================================\n",
      "Omnibus:                      286.944   Durbin-Watson:                   1.578\n",
      "Prob(Omnibus):                  0.000   Jarque-Bera (JB):             3588.458\n",
      "Skew:                          -1.019   Prob(JB):                         0.00\n",
      "Kurtosis:                      12.332   Cond. No.                         127.\n",
      "==============================================================================\n",
      "\n",
      "Warnings:\n",
      "[1] Standard Errors assume that the covariance matrix of the errors is correctly specified.\n"
     ]
    }
   ],
   "source": [
    "est = sm.OLS(y_train, X_train)\n",
    "est2 = est.fit()\n",
    "\n",
    "print(est2.summary())"
   ]
  },
  {
   "cell_type": "markdown",
   "metadata": {},
   "source": [
    "# Stars"
   ]
  },
  {
   "cell_type": "code",
   "execution_count": 211,
   "metadata": {},
   "outputs": [
    {
     "data": {
      "text/plain": [
       "0.7885845388125918"
      ]
     },
     "execution_count": 211,
     "metadata": {},
     "output_type": "execute_result"
    }
   ],
   "source": [
    "X = rr_cc[[\"intercept\", \"demand_F1\", \"demand\", \"demand_P1\", \"demand_P2\", \n",
    "          \"rating_1\", \"rating_2\", \"rating_3\",\"rating_4\", \"rating_5\"]].replace(-1*np.inf,np.nan).dropna()\n",
    "y = X.pop(\"demand_F1\")\n",
    "\n",
    "X_train, X_test, y_train, y_test = train_test_split(X, y, shuffle = False)\n",
    "\n",
    "lm = LinearRegression(fit_intercept = False)\n",
    "lm.fit(X_train, y_train)\n",
    "pred = lm.predict(X_test)\n",
    "metrics.r2_score(pred, y_test)"
   ]
  },
  {
   "cell_type": "code",
   "execution_count": 212,
   "metadata": {},
   "outputs": [
    {
     "name": "stdout",
     "output_type": "stream",
     "text": [
      "                            OLS Regression Results                            \n",
      "==============================================================================\n",
      "Dep. Variable:              demand_F1   R-squared:                       0.847\n",
      "Model:                            OLS   Adj. R-squared:                  0.847\n",
      "Method:                 Least Squares   F-statistic:                     6194.\n",
      "Date:                Mon, 13 Jul 2020   Prob (F-statistic):               0.00\n",
      "Time:                        13:37:11   Log-Likelihood:                -10832.\n",
      "No. Observations:                8973   AIC:                         2.168e+04\n",
      "Df Residuals:                    8964   BIC:                         2.175e+04\n",
      "Df Model:                           8                                         \n",
      "Covariance Type:            nonrobust                                         \n",
      "==============================================================================\n",
      "                 coef    std err          t      P>|t|      [0.025      0.975]\n",
      "------------------------------------------------------------------------------\n",
      "intercept      0.1817      0.047      3.873      0.000       0.090       0.274\n",
      "demand         0.4269      0.010     42.851      0.000       0.407       0.446\n",
      "demand_P1      0.2209      0.011     20.588      0.000       0.200       0.242\n",
      "demand_P2      0.3231      0.010     33.123      0.000       0.304       0.342\n",
      "rating_1      -0.0114      0.014     -0.841      0.400      -0.038       0.015\n",
      "rating_2       0.0124      0.015      0.801      0.423      -0.018       0.043\n",
      "rating_3       0.0027      0.015      0.185      0.853      -0.026       0.031\n",
      "rating_4       0.0196      0.014      1.444      0.149      -0.007       0.046\n",
      "rating_5       0.0139      0.011      1.230      0.219      -0.008       0.036\n",
      "==============================================================================\n",
      "Omnibus:                     1852.519   Durbin-Watson:                   1.813\n",
      "Prob(Omnibus):                  0.000   Jarque-Bera (JB):            44555.559\n",
      "Skew:                          -0.385   Prob(JB):                         0.00\n",
      "Kurtosis:                      13.889   Cond. No.                         95.0\n",
      "==============================================================================\n",
      "\n",
      "Warnings:\n",
      "[1] Standard Errors assume that the covariance matrix of the errors is correctly specified.\n"
     ]
    }
   ],
   "source": [
    "est = sm.OLS(y_train, X_train)\n",
    "est2 = est.fit()\n",
    "\n",
    "print(est2.summary())"
   ]
  },
  {
   "cell_type": "markdown",
   "metadata": {},
   "source": [
    "# Sentiment"
   ]
  },
  {
   "cell_type": "code",
   "execution_count": 232,
   "metadata": {},
   "outputs": [
    {
     "data": {
      "text/plain": [
       "0.7891167391942577"
      ]
     },
     "execution_count": 232,
     "metadata": {},
     "output_type": "execute_result"
    }
   ],
   "source": [
    "X = rr_cc[[\"intercept\", \"demand_F1\", \"demand\", \"demand_P1\", \"demand_P2\", \n",
    "           \"sentiment_positive\", \"sentiment_neutral\", \"sentiment_negative\"]].replace(-1*np.inf,np.nan).dropna()\n",
    "y = X.pop(\"demand_F1\")\n",
    "\n",
    "X_train, X_test, y_train, y_test = train_test_split(X, y, shuffle = False)\n",
    "\n",
    "lm = LinearRegression(fit_intercept = False)\n",
    "lm.fit(X_train, y_train)\n",
    "pred = lm.predict(X_test)\n",
    "metrics.r2_score(pred, y_test)"
   ]
  },
  {
   "cell_type": "code",
   "execution_count": 233,
   "metadata": {},
   "outputs": [
    {
     "name": "stdout",
     "output_type": "stream",
     "text": [
      "                            OLS Regression Results                            \n",
      "==============================================================================\n",
      "Dep. Variable:              demand_F1   R-squared:                       0.847\n",
      "Model:                            OLS   Adj. R-squared:                  0.847\n",
      "Method:                 Least Squares   F-statistic:                     8265.\n",
      "Date:                Mon, 13 Jul 2020   Prob (F-statistic):               0.00\n",
      "Time:                        13:54:01   Log-Likelihood:                -10830.\n",
      "No. Observations:                8973   AIC:                         2.167e+04\n",
      "Df Residuals:                    8966   BIC:                         2.172e+04\n",
      "Df Model:                           6                                         \n",
      "Covariance Type:            nonrobust                                         \n",
      "======================================================================================\n",
      "                         coef    std err          t      P>|t|      [0.025      0.975]\n",
      "--------------------------------------------------------------------------------------\n",
      "intercept              0.1574      0.047      3.336      0.001       0.065       0.250\n",
      "demand                 0.4262      0.010     42.790      0.000       0.407       0.446\n",
      "demand_P1              0.2200      0.011     20.515      0.000       0.199       0.241\n",
      "demand_P2              0.3222      0.010     33.033      0.000       0.303       0.341\n",
      "sentiment_positive     0.0581      0.017      3.482      0.000       0.025       0.091\n",
      "sentiment_neutral     -0.0346      0.023     -1.529      0.126      -0.079       0.010\n",
      "sentiment_negative     0.0001      0.020      0.006      0.996      -0.040       0.040\n",
      "==============================================================================\n",
      "Omnibus:                     1864.806   Durbin-Watson:                   1.813\n",
      "Prob(Omnibus):                  0.000   Jarque-Bera (JB):            44664.115\n",
      "Skew:                          -0.397   Prob(JB):                         0.00\n",
      "Kurtosis:                      13.901   Cond. No.                         96.0\n",
      "==============================================================================\n",
      "\n",
      "Warnings:\n",
      "[1] Standard Errors assume that the covariance matrix of the errors is correctly specified.\n"
     ]
    }
   ],
   "source": [
    "est = sm.OLS(y_train, X_train)\n",
    "est2 = est.fit()\n",
    "\n",
    "print(est2.summary())"
   ]
  },
  {
   "cell_type": "code",
   "execution_count": 215,
   "metadata": {},
   "outputs": [
    {
     "data": {
      "text/plain": [
       "0.7891168079963005"
      ]
     },
     "execution_count": 215,
     "metadata": {},
     "output_type": "execute_result"
    }
   ],
   "source": [
    "X = rr_cc[[\"intercept\", \"demand_F1\", \"demand\", \"demand_P1\", \"demand_P2\", \"sentiment_positive\", \"sentiment_neutral\"]].replace(-1*np.inf,np.nan).dropna()\n",
    "y = X.pop(\"demand_F1\")\n",
    "\n",
    "X_train, X_test, y_train, y_test = train_test_split(X, y, shuffle = False)\n",
    "\n",
    "lm = LinearRegression(fit_intercept = False)\n",
    "lm.fit(X_train, y_train)\n",
    "pred = lm.predict(X_test)\n",
    "metrics.r2_score(pred, y_test)"
   ]
  },
  {
   "cell_type": "code",
   "execution_count": 216,
   "metadata": {
    "scrolled": true
   },
   "outputs": [
    {
     "name": "stdout",
     "output_type": "stream",
     "text": [
      "                            OLS Regression Results                            \n",
      "==============================================================================\n",
      "Dep. Variable:              demand_F1   R-squared:                       0.847\n",
      "Model:                            OLS   Adj. R-squared:                  0.847\n",
      "Method:                 Least Squares   F-statistic:                     9919.\n",
      "Date:                Mon, 13 Jul 2020   Prob (F-statistic):               0.00\n",
      "Time:                        13:37:21   Log-Likelihood:                -10830.\n",
      "No. Observations:                8973   AIC:                         2.167e+04\n",
      "Df Residuals:                    8967   BIC:                         2.171e+04\n",
      "Df Model:                           5                                         \n",
      "Covariance Type:            nonrobust                                         \n",
      "======================================================================================\n",
      "                         coef    std err          t      P>|t|      [0.025      0.975]\n",
      "--------------------------------------------------------------------------------------\n",
      "intercept              0.1574      0.047      3.348      0.001       0.065       0.249\n",
      "demand                 0.4262      0.010     42.795      0.000       0.407       0.446\n",
      "demand_P1              0.2200      0.011     20.517      0.000       0.199       0.241\n",
      "demand_P2              0.3222      0.010     33.037      0.000       0.303       0.341\n",
      "sentiment_positive     0.0581      0.016      3.555      0.000       0.026       0.090\n",
      "sentiment_neutral     -0.0346      0.020     -1.696      0.090      -0.075       0.005\n",
      "==============================================================================\n",
      "Omnibus:                     1864.795   Durbin-Watson:                   1.813\n",
      "Prob(Omnibus):                  0.000   Jarque-Bera (JB):            44663.661\n",
      "Skew:                          -0.397   Prob(JB):                         0.00\n",
      "Kurtosis:                      13.901   Cond. No.                         95.7\n",
      "==============================================================================\n",
      "\n",
      "Warnings:\n",
      "[1] Standard Errors assume that the covariance matrix of the errors is correctly specified.\n"
     ]
    }
   ],
   "source": [
    "est = sm.OLS(y_train, X_train)\n",
    "est2 = est.fit()\n",
    "\n",
    "print(est2.summary())"
   ]
  },
  {
   "cell_type": "markdown",
   "metadata": {},
   "source": [
    "# Rating Measures"
   ]
  },
  {
   "cell_type": "code",
   "execution_count": 217,
   "metadata": {},
   "outputs": [
    {
     "data": {
      "text/plain": [
       "Index(['avg_nb_statements', 'nb_reviews', 'rating', 'rating_1', 'rating_2',\n",
       "       'rating_3', 'rating_4', 'rating_5', 'sentiment_negative',\n",
       "       'sentiment_neutral', 'sentiment_positive', 'sentiment', 'demand_P1',\n",
       "       'demand_P2', 'demand', 'demand_F1', 'demand_F2', 'Complaints',\n",
       "       'Compliments', 'intercept'],\n",
       "      dtype='object')"
      ]
     },
     "execution_count": 217,
     "metadata": {},
     "output_type": "execute_result"
    }
   ],
   "source": [
    "rr_cc.columns"
   ]
  },
  {
   "cell_type": "code",
   "execution_count": 218,
   "metadata": {},
   "outputs": [
    {
     "data": {
      "text/plain": [
       "0.7891594343634334"
      ]
     },
     "execution_count": 218,
     "metadata": {},
     "output_type": "execute_result"
    }
   ],
   "source": [
    "X = rr_cc[[\"intercept\", \"demand_F1\", \"demand\", \"demand_P1\", \"demand_P2\", \"nb_reviews\", \"rating\", \"avg_nb_statements\"]].replace(-1*np.inf,np.nan).dropna()\n",
    "y = X.pop(\"demand_F1\")\n",
    "\n",
    "X_train, X_test, y_train, y_test = train_test_split(X, y, shuffle = False)\n",
    "\n",
    "lm = LinearRegression(fit_intercept = False)\n",
    "lm.fit(X_train, y_train)\n",
    "pred = lm.predict(X_test)\n",
    "metrics.r2_score(pred, y_test)"
   ]
  },
  {
   "cell_type": "code",
   "execution_count": 219,
   "metadata": {},
   "outputs": [
    {
     "name": "stdout",
     "output_type": "stream",
     "text": [
      "                            OLS Regression Results                            \n",
      "==============================================================================\n",
      "Dep. Variable:              demand_F1   R-squared:                       0.847\n",
      "Model:                            OLS   Adj. R-squared:                  0.847\n",
      "Method:                 Least Squares   F-statistic:                     8262.\n",
      "Date:                Mon, 13 Jul 2020   Prob (F-statistic):               0.00\n",
      "Time:                        13:37:50   Log-Likelihood:                -10832.\n",
      "No. Observations:                8973   AIC:                         2.168e+04\n",
      "Df Residuals:                    8966   BIC:                         2.173e+04\n",
      "Df Model:                           6                                         \n",
      "Covariance Type:            nonrobust                                         \n",
      "=====================================================================================\n",
      "                        coef    std err          t      P>|t|      [0.025      0.975]\n",
      "-------------------------------------------------------------------------------------\n",
      "intercept             0.1674      0.046      3.672      0.000       0.078       0.257\n",
      "demand                0.4259      0.010     42.742      0.000       0.406       0.445\n",
      "demand_P1             0.2197      0.011     20.479      0.000       0.199       0.241\n",
      "demand_P2             0.3223      0.010     33.031      0.000       0.303       0.341\n",
      "nb_reviews            0.0301      0.009      3.303      0.001       0.012       0.048\n",
      "rating                0.0203      0.027      0.743      0.457      -0.033       0.074\n",
      "avg_nb_statements    -0.0110      0.027     -0.400      0.689      -0.065       0.043\n",
      "==============================================================================\n",
      "Omnibus:                     1864.796   Durbin-Watson:                   1.813\n",
      "Prob(Omnibus):                  0.000   Jarque-Bera (JB):            44730.598\n",
      "Skew:                          -0.396   Prob(JB):                         0.00\n",
      "Kurtosis:                      13.909   Cond. No.                         93.2\n",
      "==============================================================================\n",
      "\n",
      "Warnings:\n",
      "[1] Standard Errors assume that the covariance matrix of the errors is correctly specified.\n"
     ]
    }
   ],
   "source": [
    "est = sm.OLS(y_train, X_train)\n",
    "est2 = est.fit()\n",
    "\n",
    "print(est2.summary())"
   ]
  },
  {
   "cell_type": "markdown",
   "metadata": {},
   "source": [
    "# Landing on Sentiment Positive"
   ]
  },
  {
   "cell_type": "code",
   "execution_count": 236,
   "metadata": {},
   "outputs": [
    {
     "data": {
      "text/plain": [
       "0.7893170191164469"
      ]
     },
     "execution_count": 236,
     "metadata": {},
     "output_type": "execute_result"
    }
   ],
   "source": [
    "X = rr_cc[[\"intercept\", \"demand_F1\",\"demand\", \"demand_P1\",\n",
    "           \"demand_P2\", \"sentiment_positive\", \"nb_reviews\"]].replace(-1*np.inf,np.nan).dropna()\n",
    "y = X.pop(\"demand_F1\")\n",
    "X_train, X_test, y_train, y_test = train_test_split(X, y, shuffle = False)\n",
    "\n",
    "lm = LinearRegression(fit_intercept = False)\n",
    "lm.fit(X_train, y_train)\n",
    "pred = lm.predict(X_test)\n",
    "metrics.r2_score(pred, y_test)"
   ]
  },
  {
   "cell_type": "code",
   "execution_count": 237,
   "metadata": {},
   "outputs": [
    {
     "name": "stdout",
     "output_type": "stream",
     "text": [
      "                            OLS Regression Results                            \n",
      "==============================================================================\n",
      "Dep. Variable:              demand_F1   R-squared:                       0.847\n",
      "Model:                            OLS   Adj. R-squared:                  0.847\n",
      "Method:                 Least Squares   F-statistic:                     9916.\n",
      "Date:                Mon, 13 Jul 2020   Prob (F-statistic):               0.00\n",
      "Time:                        13:54:38   Log-Likelihood:                -10831.\n",
      "No. Observations:                8973   AIC:                         2.167e+04\n",
      "Df Residuals:                    8967   BIC:                         2.172e+04\n",
      "Df Model:                           5                                         \n",
      "Covariance Type:            nonrobust                                         \n",
      "======================================================================================\n",
      "                         coef    std err          t      P>|t|      [0.025      0.975]\n",
      "--------------------------------------------------------------------------------------\n",
      "intercept              0.1798      0.046      3.876      0.000       0.089       0.271\n",
      "demand                 0.4262      0.010     42.789      0.000       0.407       0.446\n",
      "demand_P1              0.2200      0.011     20.513      0.000       0.199       0.241\n",
      "demand_P2              0.3224      0.010     33.053      0.000       0.303       0.341\n",
      "sentiment_positive     0.0661      0.061      1.080      0.280      -0.054       0.186\n",
      "nb_reviews            -0.0321      0.060     -0.532      0.595      -0.151       0.086\n",
      "==============================================================================\n",
      "Omnibus:                     1861.674   Durbin-Watson:                   1.813\n",
      "Prob(Omnibus):                  0.000   Jarque-Bera (JB):            44631.645\n",
      "Skew:                          -0.394   Prob(JB):                         0.00\n",
      "Kurtosis:                      13.898   Cond. No.                         176.\n",
      "==============================================================================\n",
      "\n",
      "Warnings:\n",
      "[1] Standard Errors assume that the covariance matrix of the errors is correctly specified.\n"
     ]
    }
   ],
   "source": [
    "est = sm.OLS(y_train, X_train)\n",
    "est2 = est.fit()\n",
    "\n",
    "print(est2.summary())"
   ]
  },
  {
   "cell_type": "code",
   "execution_count": 238,
   "metadata": {},
   "outputs": [
    {
     "name": "stdout",
     "output_type": "stream",
     "text": [
      "                            OLS Regression Results                            \n",
      "==============================================================================\n",
      "Dep. Variable:              demand_F1   R-squared:                       0.843\n",
      "Model:                            OLS   Adj. R-squared:                  0.843\n",
      "Method:                 Least Squares   F-statistic:                 1.280e+04\n",
      "Date:                Mon, 13 Jul 2020   Prob (F-statistic):               0.00\n",
      "Time:                        13:54:53   Log-Likelihood:                -14689.\n",
      "No. Observations:               11965   AIC:                         2.939e+04\n",
      "Df Residuals:                   11959   BIC:                         2.943e+04\n",
      "Df Model:                           5                                         \n",
      "Covariance Type:            nonrobust                                         \n",
      "======================================================================================\n",
      "                         coef    std err          t      P>|t|      [0.025      0.975]\n",
      "--------------------------------------------------------------------------------------\n",
      "intercept              0.1773      0.041      4.342      0.000       0.097       0.257\n",
      "demand                 0.4311      0.009     50.107      0.000       0.414       0.448\n",
      "demand_P1              0.2225      0.009     23.586      0.000       0.204       0.241\n",
      "demand_P2              0.3115      0.009     36.172      0.000       0.295       0.328\n",
      "sentiment_positive     0.1281      0.051      2.508      0.012       0.028       0.228\n",
      "nb_reviews            -0.0844      0.051     -1.668      0.095      -0.184       0.015\n",
      "==============================================================================\n",
      "Omnibus:                     2432.821   Durbin-Watson:                   1.782\n",
      "Prob(Omnibus):                  0.000   Jarque-Bera (JB):            47904.803\n",
      "Skew:                          -0.453   Prob(JB):                         0.00\n",
      "Kurtosis:                      12.761   Cond. No.                         165.\n",
      "==============================================================================\n",
      "\n",
      "Warnings:\n",
      "[1] Standard Errors assume that the covariance matrix of the errors is correctly specified.\n"
     ]
    }
   ],
   "source": [
    "est = sm.OLS(y, X)\n",
    "est2 = est.fit()\n",
    "\n",
    "print(est2.summary())"
   ]
  },
  {
   "cell_type": "code",
   "execution_count": 262,
   "metadata": {},
   "outputs": [
    {
     "data": {
      "text/plain": [
       "0.7879409257640534"
      ]
     },
     "execution_count": 262,
     "metadata": {},
     "output_type": "execute_result"
    }
   ],
   "source": [
    "X = rr_cc[[\"intercept\", \"demand_F1\",\"demand\", \"demand_P1\",\n",
    "           \"demand_P2\", \"percent_pos\"]].replace(-1*np.inf,np.nan).dropna()\n",
    "y = X.pop(\"demand_F1\")\n",
    "X_train, X_test, y_train, y_test = train_test_split(X, y, shuffle = False)\n",
    "\n",
    "lm = LinearRegression(fit_intercept = False)\n",
    "lm.fit(X_train, y_train)\n",
    "pred = lm.predict(X_test)\n",
    "metrics.r2_score(pred, y_test)"
   ]
  },
  {
   "cell_type": "code",
   "execution_count": 263,
   "metadata": {},
   "outputs": [
    {
     "name": "stdout",
     "output_type": "stream",
     "text": [
      "                            OLS Regression Results                            \n",
      "==============================================================================\n",
      "Dep. Variable:              demand_F1   R-squared:                       0.847\n",
      "Model:                            OLS   Adj. R-squared:                  0.846\n",
      "Method:                 Least Squares   F-statistic:                 1.237e+04\n",
      "Date:                Mon, 13 Jul 2020   Prob (F-statistic):               0.00\n",
      "Time:                        16:07:00   Log-Likelihood:                -10840.\n",
      "No. Observations:                8973   AIC:                         2.169e+04\n",
      "Df Residuals:                    8968   BIC:                         2.173e+04\n",
      "Df Model:                           4                                         \n",
      "Covariance Type:            nonrobust                                         \n",
      "===============================================================================\n",
      "                  coef    std err          t      P>|t|      [0.025      0.975]\n",
      "-------------------------------------------------------------------------------\n",
      "intercept       0.0765      0.064      1.202      0.230      -0.048       0.201\n",
      "demand          0.4301      0.010     43.326      0.000       0.411       0.450\n",
      "demand_P1       0.2254      0.011     21.151      0.000       0.205       0.246\n",
      "demand_P2       0.3279      0.010     33.881      0.000       0.309       0.347\n",
      "percent_pos     0.0473      0.059      0.801      0.423      -0.068       0.163\n",
      "==============================================================================\n",
      "Omnibus:                     1811.117   Durbin-Watson:                   1.814\n",
      "Prob(Omnibus):                  0.000   Jarque-Bera (JB):            45160.598\n",
      "Skew:                          -0.335   Prob(JB):                         0.00\n",
      "Kurtosis:                      13.970   Cond. No.                         161.\n",
      "==============================================================================\n",
      "\n",
      "Warnings:\n",
      "[1] Standard Errors assume that the covariance matrix of the errors is correctly specified.\n"
     ]
    }
   ],
   "source": [
    "est = sm.OLS(y_train, X_train)\n",
    "est2 = est.fit()\n",
    "\n",
    "print(est2.summary())"
   ]
  },
  {
   "cell_type": "markdown",
   "metadata": {},
   "source": [
    "# Heatmap"
   ]
  },
  {
   "cell_type": "code",
   "execution_count": 73,
   "metadata": {},
   "outputs": [
    {
     "data": {
      "text/plain": [
       "Index(['avg_nb_statements', 'nb_reviews', 'rating', 'rating_1', 'rating_2',\n",
       "       'rating_3', 'rating_4', 'rating_5', 'sentiment_negative',\n",
       "       'sentiment_neutral', 'sentiment_positive', 'sentiment', 'demand_P1',\n",
       "       'demand_P2', 'demand', 'demand_F1', 'demand_F2', 'Complaints',\n",
       "       'Compliments'],\n",
       "      dtype='object')"
      ]
     },
     "execution_count": 73,
     "metadata": {},
     "output_type": "execute_result"
    }
   ],
   "source": [
    "rr_cc.columns"
   ]
  },
  {
   "cell_type": "code",
   "execution_count": 77,
   "metadata": {},
   "outputs": [],
   "source": [
    "test = rr_cc[['demand_F1','rating_1', 'rating_2',\n",
    "       'rating_3', 'rating_4', 'rating_5', 'sentiment_negative',\n",
    "       'sentiment_neutral', 'sentiment_positive', 'demand_P1',\n",
    "       'demand_P2', 'demand', 'Complaints', \"nb_reviews\",\n",
    "       'Compliments']]"
   ]
  },
  {
   "cell_type": "code",
   "execution_count": 78,
   "metadata": {},
   "outputs": [
    {
     "data": {
      "image/png": "[encoded data removed]",
      "text/plain": [
       "<Figure size 432x288 with 2 Axes>"
      ]
     },
     "metadata": {
      "needs_background": "light"
     },
     "output_type": "display_data"
    }
   ],
   "source": [
    "corrplot(test.corr())"
   ]
  },
  {
   "cell_type": "markdown",
   "metadata": {},
   "source": [
    "# PCA On Ratings"
   ]
  },
  {
   "cell_type": "code",
   "execution_count": 73,
   "metadata": {},
   "outputs": [],
   "source": [
    "y = rr_cc[\"demand_F1\"]\n",
    "X = rr_cc[[\"demand\", \"demand_P1\", \"demand_P2\", \n",
    "          \"rating_1\", \"rating_2\", \"rating_3\",\"rating_4\", \"rating_5\"]]"
   ]
  },
  {
   "cell_type": "code",
   "execution_count": 74,
   "metadata": {},
   "outputs": [],
   "source": [
    "X = StandardScaler().fit_transform(X)"
   ]
  },
  {
   "cell_type": "code",
   "execution_count": 76,
   "metadata": {},
   "outputs": [
    {
     "data": {
      "text/plain": [
       "Text(0, 0.5, 'cumulative explained variance')"
      ]
     },
     "execution_count": 76,
     "metadata": {},
     "output_type": "execute_result"
    },
    {
     "data": {
      "image/png": "[encoded data removed]",
      "text/plain": [
       "<Figure size 432x288 with 1 Axes>"
      ]
     },
     "metadata": {
      "needs_background": "light"
     },
     "output_type": "display_data"
    }
   ],
   "source": [
    "pca = PCA().fit(X)\n",
    "plt.plot(pca.explained_variance_ratio_)\n",
    "plt.xlabel('number of components')\n",
    "plt.ylabel('cumulative explained variance')"
   ]
  },
  {
   "cell_type": "code",
   "execution_count": 81,
   "metadata": {},
   "outputs": [],
   "source": [
    "pca = PCA(n_components=3)\n",
    "principalComponents = pca.fit_transform(X)\n",
    "principalDf = pd.DataFrame(data = principalComponents)"
   ]
  },
  {
   "cell_type": "code",
   "execution_count": 82,
   "metadata": {},
   "outputs": [],
   "source": [
    "X_train, X_test, y_train, y_test = train_test_split(principalDf, y, shuffle = False)"
   ]
  },
  {
   "cell_type": "code",
   "execution_count": 83,
   "metadata": {},
   "outputs": [
    {
     "data": {
      "text/plain": [
       "0.8705259049056439"
      ]
     },
     "execution_count": 83,
     "metadata": {},
     "output_type": "execute_result"
    }
   ],
   "source": [
    "lm = LinearRegression()\n",
    "lm.fit(X_train, y_train)\n",
    "pred = lm.predict(X_test)\n",
    "metrics.r2_score(pred, y_test)"
   ]
  },
  {
   "cell_type": "code",
   "execution_count": 84,
   "metadata": {},
   "outputs": [
    {
     "name": "stdout",
     "output_type": "stream",
     "text": [
      "                            OLS Regression Results                            \n",
      "==============================================================================\n",
      "Dep. Variable:                      y   R-squared:                       0.826\n",
      "Model:                            OLS   Adj. R-squared:                  0.826\n",
      "Method:                 Least Squares   F-statistic:                 1.478e+04\n",
      "Date:                Fri, 10 Jul 2020   Prob (F-statistic):               0.00\n",
      "Time:                        14:31:19   Log-Likelihood:            -1.1967e+05\n",
      "No. Observations:                9317   AIC:                         2.393e+05\n",
      "Df Residuals:                    9313   BIC:                         2.394e+05\n",
      "Df Model:                           3                                         \n",
      "Covariance Type:            nonrobust                                         \n",
      "==============================================================================\n",
      "                 coef    std err          t      P>|t|      [0.025      0.975]\n",
      "------------------------------------------------------------------------------\n",
      "const       6.927e+04    949.919     72.925      0.000    6.74e+04    7.11e+04\n",
      "0           7.324e+04    417.471    175.439      0.000    7.24e+04    7.41e+04\n",
      "1          -9.534e+04    697.666   -136.659      0.000   -9.67e+04    -9.4e+04\n",
      "2            1.44e+04   1482.630      9.714      0.000    1.15e+04    1.73e+04\n",
      "==============================================================================\n",
      "Omnibus:                    12828.738   Durbin-Watson:                   1.846\n",
      "Prob(Omnibus):                  0.000   Jarque-Bera (JB):         19586754.031\n",
      "Skew:                           7.264   Prob(JB):                         0.00\n",
      "Kurtosis:                     227.150   Cond. No.                         3.67\n",
      "==============================================================================\n",
      "\n",
      "Warnings:\n",
      "[1] Standard Errors assume that the covariance matrix of the errors is correctly specified.\n"
     ]
    }
   ],
   "source": [
    "X2 = sm.add_constant(X_train)\n",
    "est = sm.OLS(y_train.values, X2)\n",
    "est2 = est.fit()\n",
    "\n",
    "print(est2.summary())"
   ]
  },
  {
   "cell_type": "code",
   "execution_count": 85,
   "metadata": {},
   "outputs": [
    {
     "name": "stdout",
     "output_type": "stream",
     "text": [
      "Feature 0 , Explains 5.051049594617699%\n",
      "          0                    1\n",
      "0  rating_5  0.40818498297953165\n",
      "1  rating_1   0.3648830202084203\n",
      "2  rating_3   0.3568849884242424\n",
      "3  rating_4  0.35552627437401446\n",
      "4  rating_2   0.3549150672946065\n",
      "Feature 1 , Explains 1.7974049808543018%\n",
      "          0                     1\n",
      "0  rating_3    0.3956073677975336\n",
      "1  rating_4   0.36972216067101377\n",
      "2  rating_2    0.2826077068027838\n",
      "3  rating_5   0.13940139731265558\n",
      "4  rating_1  0.030271797135727554\n",
      "Feature 2 , Explains 0.44365874937527067%\n",
      "           0                    1\n",
      "0   rating_4  0.41774140544011423\n",
      "1   rating_5    0.324442600300567\n",
      "2  demand_P1  0.11845240855464464\n",
      "3   rating_3  0.10290440964653991\n",
      "4     demand  0.09653811765731585\n"
     ]
    }
   ],
   "source": [
    "for i,x in enumerate(pca.components_):\n",
    "    print(\"Feature \" + str(i), \", Explains \" + str(pca.explained_variance_[i]) + \"%\")\n",
    "    top = x.argsort()[-5:][::-1]\n",
    "    table = [list(rr_cc[[\"demand\", \"demand_P1\", \"demand_P2\", \n",
    "          \"rating_1\", \"rating_2\", \"rating_3\",\"rating_4\", \"rating_5\"]].columns[top]), x[top]]\n",
    "    df = pd.DataFrame(np.transpose(table))\n",
    "    print(df)"
   ]
  },
  {
   "cell_type": "code",
   "execution_count": null,
   "metadata": {},
   "outputs": [],
   "source": []
  }
 ],
 "metadata": {
  "kernelspec": {
   "display_name": "Python 3",
   "language": "python",
   "name": "python3"
  },
  "language_info": {
   "codemirror_mode": {
    "name": "ipython",
    "version": 3
   },
   "file_extension": ".py",
   "mimetype": "text/x-python",
   "name": "python",
   "nbconvert_exporter": "python",
   "pygments_lexer": "ipython3",
   "version": "3.7.6"
  }
 },
 "nbformat": 4,
 "nbformat_minor": 4
}
