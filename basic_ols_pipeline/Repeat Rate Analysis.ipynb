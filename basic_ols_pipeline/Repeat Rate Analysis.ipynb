{
 "cells": [
  {
   "cell_type": "code",
   "execution_count": 17,
   "metadata": {},
   "outputs": [],
   "source": [
    "import pandas as pd\n",
    "import numpy as np\n",
    "import copy as cp\n",
    "\n",
    "import statsmodels.api as sm\n",
    "import sklearn.metrics as metrics\n",
    "\n",
    "from sklearn.linear_model import LinearRegression\n",
    "from sklearn.model_selection import train_test_split\n",
    "from sklearn.preprocessing import StandardScaler\n",
    "from sklearn.decomposition import PCA"
   ]
  },
  {
   "cell_type": "code",
   "execution_count": 2,
   "metadata": {},
   "outputs": [],
   "source": [
    "onedrive_path = \"C:/Users/cfowle/The Estée Lauder Companies Inc/TeamAnis - General/\""
   ]
  },
  {
   "cell_type": "code",
   "execution_count": 3,
   "metadata": {},
   "outputs": [],
   "source": [
    "repeat_rate = pd.read_csv(onedrive_path + \"Data/Repeat Rate/combined.csv\")\n",
    "ratings = pd.read_csv(onedrive_path + \"Data/Ratings and Reviews/reviews_demand_itemid4.csv\")\n",
    "cc = pd.read_csv(onedrive_path + \"Data/Consumer Care/cc_product_month.csv\")"
   ]
  },
  {
   "cell_type": "code",
   "execution_count": 4,
   "metadata": {
    "scrolled": true
   },
   "outputs": [],
   "source": [
    "cc = cc.rename(columns = {\"P4\": \"itemid_4\",\n",
    "                         \"Date Month\": \"date\"})"
   ]
  },
  {
   "cell_type": "markdown",
   "metadata": {},
   "source": [
    "## Summarize Ratings at FY Level"
   ]
  },
  {
   "cell_type": "code",
   "execution_count": 5,
   "metadata": {},
   "outputs": [],
   "source": [
    "#ratings = ratings.merge(cc, how = \"left\")"
   ]
  },
  {
   "cell_type": "code",
   "execution_count": 6,
   "metadata": {},
   "outputs": [],
   "source": [
    "ratings.date = pd.to_datetime(ratings.date)"
   ]
  },
  {
   "cell_type": "code",
   "execution_count": 7,
   "metadata": {},
   "outputs": [],
   "source": [
    "FY18_MIN = pd.to_datetime(\"7/1/2018\")\n",
    "FY19_MIN = pd.to_datetime(\"7/1/2019\")\n",
    "FY19_MAX = pd.to_datetime(\"7/1/2020\")\n",
    "\n",
    "ratings[\"fy\"] = [int(18) if x >= FY18_MIN and x < FY19_MIN else int(19) if x >= FY19_MIN and x < FY19_MAX else 0 for x in ratings.date]"
   ]
  },
  {
   "cell_type": "code",
   "execution_count": 8,
   "metadata": {
    "scrolled": true
   },
   "outputs": [],
   "source": [
    "ratings = ratings.groupby([\"itemid_4\", \"fy\"]).sum().reset_index()"
   ]
  },
  {
   "cell_type": "code",
   "execution_count": 9,
   "metadata": {},
   "outputs": [
    {
     "data": {
      "text/html": [
       "<div>\n",
       "<style scoped>\n",
       "    .dataframe tbody tr th:only-of-type {\n",
       "        vertical-align: middle;\n",
       "    }\n",
       "\n",
       "    .dataframe tbody tr th {\n",
       "        vertical-align: top;\n",
       "    }\n",
       "\n",
       "    .dataframe thead th {\n",
       "        text-align: right;\n",
       "    }\n",
       "</style>\n",
       "<table border=\"1\" class=\"dataframe\">\n",
       "  <thead>\n",
       "    <tr style=\"text-align: right;\">\n",
       "      <th></th>\n",
       "      <th>fy</th>\n",
       "      <th>brand</th>\n",
       "      <th>itemid_4</th>\n",
       "      <th>category</th>\n",
       "      <th>subcategory</th>\n",
       "      <th>description</th>\n",
       "      <th>transaction_count</th>\n",
       "      <th>percent_brand_mix</th>\n",
       "      <th>product_repeat</th>\n",
       "      <th>brand_repeat</th>\n",
       "      <th>purchase_cycle_days</th>\n",
       "      <th>retail_price</th>\n",
       "      <th>retail_transactions</th>\n",
       "      <th>online_transactions</th>\n",
       "      <th>percent_retail_transactions</th>\n",
       "      <th>percent_online_transactions</th>\n",
       "    </tr>\n",
       "  </thead>\n",
       "  <tbody>\n",
       "    <tr>\n",
       "      <th>321</th>\n",
       "      <td>18</td>\n",
       "      <td>Jo Malone London</td>\n",
       "      <td>6902</td>\n",
       "      <td>FRAGRANCE</td>\n",
       "      <td>WILD BLUEBELL</td>\n",
       "      <td>WILD BLUEBELL COLOGNE 30ML/SLI</td>\n",
       "      <td>8263</td>\n",
       "      <td>0.037636</td>\n",
       "      <td>0.197964</td>\n",
       "      <td>0.364065</td>\n",
       "      <td>82.753508</td>\n",
       "      <td>65.005836</td>\n",
       "      <td>624</td>\n",
       "      <td>7639</td>\n",
       "      <td>0.075517</td>\n",
       "      <td>0.924483</td>\n",
       "    </tr>\n",
       "    <tr>\n",
       "      <th>322</th>\n",
       "      <td>18</td>\n",
       "      <td>Jo Malone London</td>\n",
       "      <td>6902</td>\n",
       "      <td>FRAGRANCE</td>\n",
       "      <td>WOOD SAGE AND SEA SALT</td>\n",
       "      <td>WOOD SAGE AND SEA SALT 30ML</td>\n",
       "      <td>7443</td>\n",
       "      <td>0.033901</td>\n",
       "      <td>0.077228</td>\n",
       "      <td>0.268563</td>\n",
       "      <td>93.365063</td>\n",
       "      <td>65.022058</td>\n",
       "      <td>1386</td>\n",
       "      <td>6057</td>\n",
       "      <td>0.186215</td>\n",
       "      <td>0.813785</td>\n",
       "    </tr>\n",
       "    <tr>\n",
       "      <th>323</th>\n",
       "      <td>18</td>\n",
       "      <td>Jo Malone London</td>\n",
       "      <td>6902</td>\n",
       "      <td>FRAGRANCE</td>\n",
       "      <td>ENGLISH PEAR &amp; FREESIA</td>\n",
       "      <td>ENGLISH PEAR &amp; FREESIA CLGNE 3</td>\n",
       "      <td>6846</td>\n",
       "      <td>0.031182</td>\n",
       "      <td>0.088330</td>\n",
       "      <td>0.296050</td>\n",
       "      <td>86.046518</td>\n",
       "      <td>65.003569</td>\n",
       "      <td>1160</td>\n",
       "      <td>5686</td>\n",
       "      <td>0.169442</td>\n",
       "      <td>0.830558</td>\n",
       "    </tr>\n",
       "    <tr>\n",
       "      <th>324</th>\n",
       "      <td>18</td>\n",
       "      <td>Jo Malone London</td>\n",
       "      <td>6902</td>\n",
       "      <td>SKINCARE</td>\n",
       "      <td>VITAMIN E LIP CONDITIONER</td>\n",
       "      <td>VITAMIN E LIP CONDITIONER</td>\n",
       "      <td>5278</td>\n",
       "      <td>0.024040</td>\n",
       "      <td>0.193330</td>\n",
       "      <td>0.422838</td>\n",
       "      <td>55.167446</td>\n",
       "      <td>29.998124</td>\n",
       "      <td>342</td>\n",
       "      <td>4936</td>\n",
       "      <td>0.064797</td>\n",
       "      <td>0.935203</td>\n",
       "    </tr>\n",
       "    <tr>\n",
       "      <th>325</th>\n",
       "      <td>18</td>\n",
       "      <td>Jo Malone London</td>\n",
       "      <td>6902</td>\n",
       "      <td>FRAGRANCE</td>\n",
       "      <td>SOAP</td>\n",
       "      <td>EP&amp;F SOAP</td>\n",
       "      <td>5047</td>\n",
       "      <td>0.022988</td>\n",
       "      <td>0.208962</td>\n",
       "      <td>0.490683</td>\n",
       "      <td>74.028390</td>\n",
       "      <td>21.899528</td>\n",
       "      <td>341</td>\n",
       "      <td>4706</td>\n",
       "      <td>0.067565</td>\n",
       "      <td>0.932435</td>\n",
       "    </tr>\n",
       "    <tr>\n",
       "      <th>...</th>\n",
       "      <td>...</td>\n",
       "      <td>...</td>\n",
       "      <td>...</td>\n",
       "      <td>...</td>\n",
       "      <td>...</td>\n",
       "      <td>...</td>\n",
       "      <td>...</td>\n",
       "      <td>...</td>\n",
       "      <td>...</td>\n",
       "      <td>...</td>\n",
       "      <td>...</td>\n",
       "      <td>...</td>\n",
       "      <td>...</td>\n",
       "      <td>...</td>\n",
       "      <td>...</td>\n",
       "      <td>...</td>\n",
       "    </tr>\n",
       "    <tr>\n",
       "      <th>2622</th>\n",
       "      <td>19</td>\n",
       "      <td>Jo Malone London</td>\n",
       "      <td>6900</td>\n",
       "      <td>FRAGRANCE</td>\n",
       "      <td>ENGLISH PEAR &amp; FREESIA SET</td>\n",
       "      <td>ENGLISHPEAR&amp;FREESIASET</td>\n",
       "      <td>1</td>\n",
       "      <td>0.000004</td>\n",
       "      <td>0.000000</td>\n",
       "      <td>0.000000</td>\n",
       "      <td>0.000000</td>\n",
       "      <td>135.000000</td>\n",
       "      <td>1</td>\n",
       "      <td>0</td>\n",
       "      <td>1.000000</td>\n",
       "      <td>0.000000</td>\n",
       "    </tr>\n",
       "    <tr>\n",
       "      <th>2623</th>\n",
       "      <td>19</td>\n",
       "      <td>Jo Malone London</td>\n",
       "      <td>6900</td>\n",
       "      <td>FRAGRANCE</td>\n",
       "      <td>BODY &amp; HAND WASH</td>\n",
       "      <td>P&amp;BS BODY &amp; HAND WASH/NEW ILN</td>\n",
       "      <td>1</td>\n",
       "      <td>0.000004</td>\n",
       "      <td>0.000000</td>\n",
       "      <td>1.000000</td>\n",
       "      <td>0.000000</td>\n",
       "      <td>40.000000</td>\n",
       "      <td>0</td>\n",
       "      <td>1</td>\n",
       "      <td>0.000000</td>\n",
       "      <td>1.000000</td>\n",
       "    </tr>\n",
       "    <tr>\n",
       "      <th>2624</th>\n",
       "      <td>19</td>\n",
       "      <td>Jo Malone London</td>\n",
       "      <td>6900</td>\n",
       "      <td>FRAGRANCE</td>\n",
       "      <td>BODY &amp; HAND WASH</td>\n",
       "      <td>OB BODY &amp; HAND WASH 250ML</td>\n",
       "      <td>1</td>\n",
       "      <td>0.000004</td>\n",
       "      <td>0.000000</td>\n",
       "      <td>0.000000</td>\n",
       "      <td>0.000000</td>\n",
       "      <td>40.000000</td>\n",
       "      <td>1</td>\n",
       "      <td>0</td>\n",
       "      <td>1.000000</td>\n",
       "      <td>0.000000</td>\n",
       "    </tr>\n",
       "    <tr>\n",
       "      <th>2625</th>\n",
       "      <td>19</td>\n",
       "      <td>Jo Malone London</td>\n",
       "      <td>6900</td>\n",
       "      <td>FRAGRANCE</td>\n",
       "      <td>BATH OIL</td>\n",
       "      <td>POMEGRANATE NOIR BATH OIL</td>\n",
       "      <td>1</td>\n",
       "      <td>0.000004</td>\n",
       "      <td>0.000000</td>\n",
       "      <td>0.000000</td>\n",
       "      <td>0.000000</td>\n",
       "      <td>65.000000</td>\n",
       "      <td>1</td>\n",
       "      <td>0</td>\n",
       "      <td>1.000000</td>\n",
       "      <td>0.000000</td>\n",
       "    </tr>\n",
       "    <tr>\n",
       "      <th>2626</th>\n",
       "      <td>19</td>\n",
       "      <td>Jo Malone London</td>\n",
       "      <td>6900</td>\n",
       "      <td>FRAGRANCE</td>\n",
       "      <td>LIMITED LIFE</td>\n",
       "      <td>POPPY &amp; BARLEY COLOGNE</td>\n",
       "      <td>1</td>\n",
       "      <td>0.000004</td>\n",
       "      <td>0.000000</td>\n",
       "      <td>1.000000</td>\n",
       "      <td>0.000000</td>\n",
       "      <td>70.000000</td>\n",
       "      <td>0</td>\n",
       "      <td>1</td>\n",
       "      <td>0.000000</td>\n",
       "      <td>1.000000</td>\n",
       "    </tr>\n",
       "  </tbody>\n",
       "</table>\n",
       "<p>932 rows × 16 columns</p>\n",
       "</div>"
      ],
      "text/plain": [
       "      fy             brand itemid_4   category                 subcategory  \\\n",
       "321   18  Jo Malone London     6902  FRAGRANCE               WILD BLUEBELL   \n",
       "322   18  Jo Malone London     6902  FRAGRANCE      WOOD SAGE AND SEA SALT   \n",
       "323   18  Jo Malone London     6902  FRAGRANCE      ENGLISH PEAR & FREESIA   \n",
       "324   18  Jo Malone London     6902   SKINCARE   VITAMIN E LIP CONDITIONER   \n",
       "325   18  Jo Malone London     6902  FRAGRANCE                        SOAP   \n",
       "...   ..               ...      ...        ...                         ...   \n",
       "2622  19  Jo Malone London     6900  FRAGRANCE  ENGLISH PEAR & FREESIA SET   \n",
       "2623  19  Jo Malone London     6900  FRAGRANCE            BODY & HAND WASH   \n",
       "2624  19  Jo Malone London     6900  FRAGRANCE            BODY & HAND WASH   \n",
       "2625  19  Jo Malone London     6900  FRAGRANCE                    BATH OIL   \n",
       "2626  19  Jo Malone London     6900  FRAGRANCE                LIMITED LIFE   \n",
       "\n",
       "                         description  transaction_count  percent_brand_mix  \\\n",
       "321   WILD BLUEBELL COLOGNE 30ML/SLI               8263           0.037636   \n",
       "322      WOOD SAGE AND SEA SALT 30ML               7443           0.033901   \n",
       "323   ENGLISH PEAR & FREESIA CLGNE 3               6846           0.031182   \n",
       "324        VITAMIN E LIP CONDITIONER               5278           0.024040   \n",
       "325                        EP&F SOAP               5047           0.022988   \n",
       "...                              ...                ...                ...   \n",
       "2622          ENGLISHPEAR&FREESIASET                  1           0.000004   \n",
       "2623   P&BS BODY & HAND WASH/NEW ILN                  1           0.000004   \n",
       "2624       OB BODY & HAND WASH 250ML                  1           0.000004   \n",
       "2625       POMEGRANATE NOIR BATH OIL                  1           0.000004   \n",
       "2626          POPPY & BARLEY COLOGNE                  1           0.000004   \n",
       "\n",
       "      product_repeat  brand_repeat  purchase_cycle_days  retail_price  \\\n",
       "321         0.197964      0.364065            82.753508     65.005836   \n",
       "322         0.077228      0.268563            93.365063     65.022058   \n",
       "323         0.088330      0.296050            86.046518     65.003569   \n",
       "324         0.193330      0.422838            55.167446     29.998124   \n",
       "325         0.208962      0.490683            74.028390     21.899528   \n",
       "...              ...           ...                  ...           ...   \n",
       "2622        0.000000      0.000000             0.000000    135.000000   \n",
       "2623        0.000000      1.000000             0.000000     40.000000   \n",
       "2624        0.000000      0.000000             0.000000     40.000000   \n",
       "2625        0.000000      0.000000             0.000000     65.000000   \n",
       "2626        0.000000      1.000000             0.000000     70.000000   \n",
       "\n",
       "      retail_transactions  online_transactions  percent_retail_transactions  \\\n",
       "321                   624                 7639                     0.075517   \n",
       "322                  1386                 6057                     0.186215   \n",
       "323                  1160                 5686                     0.169442   \n",
       "324                   342                 4936                     0.064797   \n",
       "325                   341                 4706                     0.067565   \n",
       "...                   ...                  ...                          ...   \n",
       "2622                    1                    0                     1.000000   \n",
       "2623                    0                    1                     0.000000   \n",
       "2624                    1                    0                     1.000000   \n",
       "2625                    1                    0                     1.000000   \n",
       "2626                    0                    1                     0.000000   \n",
       "\n",
       "      percent_online_transactions  \n",
       "321                      0.924483  \n",
       "322                      0.813785  \n",
       "323                      0.830558  \n",
       "324                      0.935203  \n",
       "325                      0.932435  \n",
       "...                           ...  \n",
       "2622                     0.000000  \n",
       "2623                     1.000000  \n",
       "2624                     0.000000  \n",
       "2625                     0.000000  \n",
       "2626                     1.000000  \n",
       "\n",
       "[932 rows x 16 columns]"
      ]
     },
     "execution_count": 9,
     "metadata": {},
     "output_type": "execute_result"
    }
   ],
   "source": [
    "repeat_rate.loc[repeat_rate.brand == \"Jo Malone London\"]\n"
   ]
  },
  {
   "cell_type": "markdown",
   "metadata": {},
   "source": [
    "## Join with Repeat Rate"
   ]
  },
  {
   "cell_type": "code",
   "execution_count": 10,
   "metadata": {},
   "outputs": [],
   "source": [
    "merged = repeat_rate.merge(ratings, on =[\"itemid_4\", \"fy\"])"
   ]
  },
  {
   "cell_type": "code",
   "execution_count": 11,
   "metadata": {},
   "outputs": [],
   "source": [
    "merged = merged.loc[merged.demand > 0]\n",
    "merged = merged.loc[merged.nb_reviews > 10]"
   ]
  },
  {
   "cell_type": "code",
   "execution_count": 12,
   "metadata": {},
   "outputs": [
    {
     "data": {
      "text/plain": [
       "Index(['fy', 'brand', 'itemid_4', 'category', 'subcategory', 'description',\n",
       "       'transaction_count', 'percent_brand_mix', 'product_repeat',\n",
       "       'brand_repeat', 'purchase_cycle_days', 'retail_price',\n",
       "       'retail_transactions', 'online_transactions',\n",
       "       'percent_retail_transactions', 'percent_online_transactions',\n",
       "       'avg_nb_statements', 'nb_reviews', 'rating', 'rating_1', 'rating_2',\n",
       "       'rating_3', 'rating_4', 'rating_5', 'sentiment_negative',\n",
       "       'sentiment_neutral', 'sentiment_positive', 'sentiment', 'demand',\n",
       "       'demand_1', 'demand_2', 'demand_3'],\n",
       "      dtype='object')"
      ]
     },
     "execution_count": 12,
     "metadata": {},
     "output_type": "execute_result"
    }
   ],
   "source": [
    "merged.columns"
   ]
  },
  {
   "cell_type": "markdown",
   "metadata": {},
   "source": [
    "## Predict Repeat Rates"
   ]
  },
  {
   "cell_type": "markdown",
   "metadata": {},
   "source": [
    "### Brand Repeat Rate"
   ]
  },
  {
   "cell_type": "code",
   "execution_count": 25,
   "metadata": {},
   "outputs": [],
   "source": [
    "X = merged[['avg_nb_statements', 'nb_reviews', 'rating', 'rating_1', 'rating_2',\n",
    "       'rating_3', 'rating_4', 'rating_5', 'sentiment_negative',\n",
    "       'sentiment_neutral', 'sentiment_positive', 'sentiment', 'demand']]\n",
    "y = merged[\"brand_repeat\"]"
   ]
  },
  {
   "cell_type": "code",
   "execution_count": 26,
   "metadata": {},
   "outputs": [],
   "source": [
    "X_train, X_test, y_train, y_test = train_test_split(X, y, shuffle = True)"
   ]
  },
  {
   "cell_type": "code",
   "execution_count": 27,
   "metadata": {},
   "outputs": [
    {
     "data": {
      "text/plain": [
       "-9.902418370804611"
      ]
     },
     "execution_count": 27,
     "metadata": {},
     "output_type": "execute_result"
    }
   ],
   "source": [
    "lm = LinearRegression()\n",
    "lm.fit(X_train, y_train)\n",
    "pred = lm.predict(X_test)\n",
    "metrics.r2_score(pred, y_test)"
   ]
  },
  {
   "cell_type": "code",
   "execution_count": 28,
   "metadata": {},
   "outputs": [
    {
     "name": "stdout",
     "output_type": "stream",
     "text": [
      "                            OLS Regression Results                            \n",
      "==============================================================================\n",
      "Dep. Variable:           brand_repeat   R-squared:                       0.055\n",
      "Model:                            OLS   Adj. R-squared:                 -0.028\n",
      "Method:                 Least Squares   F-statistic:                    0.6612\n",
      "Date:                Wed, 22 Jul 2020   Prob (F-statistic):              0.773\n",
      "Time:                        11:59:31   Log-Likelihood:                 137.79\n",
      "No. Observations:                 136   AIC:                            -251.6\n",
      "Df Residuals:                     124   BIC:                            -216.6\n",
      "Df Model:                          11                                         \n",
      "Covariance Type:            nonrobust                                         \n",
      "======================================================================================\n",
      "                         coef    std err          t      P>|t|      [0.025      0.975]\n",
      "--------------------------------------------------------------------------------------\n",
      "const                  0.3735      0.031     12.072      0.000       0.312       0.435\n",
      "avg_nb_statements     -0.0010      0.001     -0.842      0.401      -0.003       0.001\n",
      "nb_reviews             0.0002      0.001      0.175      0.861      -0.002       0.002\n",
      "rating                 0.0001      0.003      0.039      0.969      -0.005       0.006\n",
      "rating_1              -0.0022      0.001     -1.651      0.101      -0.005       0.000\n",
      "rating_2               0.0030      0.003      0.980      0.329      -0.003       0.009\n",
      "rating_3              -0.0009      0.002     -0.414      0.679      -0.005       0.003\n",
      "rating_4            9.547e-05      0.002      0.049      0.961      -0.004       0.004\n",
      "rating_5            2.774e-05      0.001      0.026      0.980      -0.002       0.002\n",
      "sentiment_negative     0.0008      0.004      0.212      0.833      -0.007       0.008\n",
      "sentiment_neutral     -0.0004      0.002     -0.230      0.819      -0.004       0.003\n",
      "sentiment_positive    -0.0002      0.002     -0.104      0.918      -0.004       0.004\n",
      "sentiment              0.0073      0.016      0.457      0.648      -0.024       0.039\n",
      "demand             -3.282e-09   3.29e-09     -0.999      0.320   -9.78e-09    3.22e-09\n",
      "==============================================================================\n",
      "Omnibus:                      110.334   Durbin-Watson:                   2.084\n",
      "Prob(Omnibus):                  0.000   Jarque-Bera (JB):             2185.237\n",
      "Skew:                           2.492   Prob(JB):                         0.00\n",
      "Kurtosis:                      21.995   Cond. No.                     2.71e+20\n",
      "==============================================================================\n",
      "\n",
      "Warnings:\n",
      "[1] Standard Errors assume that the covariance matrix of the errors is correctly specified.\n",
      "[2] The smallest eigenvalue is 1.77e-26. This might indicate that there are\n",
      "strong multicollinearity problems or that the design matrix is singular.\n"
     ]
    }
   ],
   "source": [
    "X2 = sm.add_constant(X_train)\n",
    "est = sm.OLS(y_train, X2)\n",
    "est2 = est.fit()\n",
    "\n",
    "print(est2.summary())"
   ]
  },
  {
   "cell_type": "markdown",
   "metadata": {},
   "source": [
    "### Product Repeat Rate"
   ]
  },
  {
   "cell_type": "code",
   "execution_count": 29,
   "metadata": {},
   "outputs": [],
   "source": [
    "X = merged[['avg_nb_statements', 'nb_reviews', 'rating', 'rating_1', 'rating_2',\n",
    "       'rating_3', 'rating_4', 'rating_5', 'sentiment_negative',\n",
    "       'sentiment_neutral', 'sentiment_positive', 'sentiment', 'demand']]\n",
    "y = merged[\"product_repeat\"]"
   ]
  },
  {
   "cell_type": "code",
   "execution_count": 30,
   "metadata": {},
   "outputs": [],
   "source": [
    "X_train, X_test, y_train, y_test = train_test_split(X, y, shuffle = True)"
   ]
  },
  {
   "cell_type": "code",
   "execution_count": 31,
   "metadata": {},
   "outputs": [
    {
     "data": {
      "text/plain": [
       "-1.778936014552512"
      ]
     },
     "execution_count": 31,
     "metadata": {},
     "output_type": "execute_result"
    }
   ],
   "source": [
    "lm = LinearRegression()\n",
    "lm.fit(X_train, y_train)\n",
    "pred = lm.predict(X_test)\n",
    "metrics.r2_score(pred, y_test)"
   ]
  },
  {
   "cell_type": "code",
   "execution_count": 32,
   "metadata": {},
   "outputs": [
    {
     "name": "stdout",
     "output_type": "stream",
     "text": [
      "                            OLS Regression Results                            \n",
      "==============================================================================\n",
      "Dep. Variable:         product_repeat   R-squared:                       0.220\n",
      "Model:                            OLS   Adj. R-squared:                  0.151\n",
      "Method:                 Least Squares   F-statistic:                     3.178\n",
      "Date:                Wed, 22 Jul 2020   Prob (F-statistic):           0.000796\n",
      "Time:                        12:01:24   Log-Likelihood:                 225.24\n",
      "No. Observations:                 136   AIC:                            -426.5\n",
      "Df Residuals:                     124   BIC:                            -391.5\n",
      "Df Model:                          11                                         \n",
      "Covariance Type:            nonrobust                                         \n",
      "======================================================================================\n",
      "                         coef    std err          t      P>|t|      [0.025      0.975]\n",
      "--------------------------------------------------------------------------------------\n",
      "const                  0.0747      0.017      4.372      0.000       0.041       0.109\n",
      "avg_nb_statements     -0.0005      0.001     -0.781      0.436      -0.002       0.001\n",
      "nb_reviews             0.0004      0.001      0.649      0.517      -0.001       0.001\n",
      "rating                 0.0005      0.002      0.277      0.782      -0.003       0.004\n",
      "rating_1              -0.0001      0.001     -0.126      0.900      -0.002       0.002\n",
      "rating_2              -0.0010      0.002     -0.560      0.576      -0.005       0.003\n",
      "rating_3              -0.0005      0.001     -0.392      0.696      -0.003       0.002\n",
      "rating_4               0.0015      0.001      1.132      0.260      -0.001       0.004\n",
      "rating_5               0.0005      0.001      0.727      0.468      -0.001       0.002\n",
      "sentiment_negative     0.0032      0.002      1.382      0.170      -0.001       0.008\n",
      "sentiment_neutral     -0.0017      0.001     -1.155      0.250      -0.005       0.001\n",
      "sentiment_positive    -0.0012      0.001     -0.785      0.434      -0.004       0.002\n",
      "sentiment              0.0019      0.010      0.192      0.848      -0.017       0.021\n",
      "demand              8.048e-09   1.79e-09      4.496      0.000    4.51e-09    1.16e-08\n",
      "==============================================================================\n",
      "Omnibus:                       21.172   Durbin-Watson:                   2.153\n",
      "Prob(Omnibus):                  0.000   Jarque-Bera (JB):               26.930\n",
      "Skew:                           0.900   Prob(JB):                     1.42e-06\n",
      "Kurtosis:                       4.229   Cond. No.                     7.72e+20\n",
      "==============================================================================\n",
      "\n",
      "Warnings:\n",
      "[1] Standard Errors assume that the covariance matrix of the errors is correctly specified.\n",
      "[2] The smallest eigenvalue is 2.28e-27. This might indicate that there are\n",
      "strong multicollinearity problems or that the design matrix is singular.\n"
     ]
    }
   ],
   "source": [
    "X2 = sm.add_constant(X_train)\n",
    "est = sm.OLS(y_train, X2)\n",
    "est2 = est.fit()\n",
    "\n",
    "print(est2.summary())"
   ]
  },
  {
   "cell_type": "markdown",
   "metadata": {},
   "source": [
    "## Try removing the demand variable\n",
    "### Brand Repeat"
   ]
  },
  {
   "cell_type": "code",
   "execution_count": 33,
   "metadata": {},
   "outputs": [],
   "source": [
    "X = merged[['avg_nb_statements', 'nb_reviews', 'rating', 'rating_1', 'rating_2',\n",
    "       'rating_3', 'rating_4', 'rating_5', 'sentiment_negative',\n",
    "       'sentiment_neutral', 'sentiment_positive', 'sentiment']]\n",
    "y = merged[\"brand_repeat\"]"
   ]
  },
  {
   "cell_type": "code",
   "execution_count": 34,
   "metadata": {},
   "outputs": [],
   "source": [
    "X_train, X_test, y_train, y_test = train_test_split(X, y, shuffle = True)"
   ]
  },
  {
   "cell_type": "code",
   "execution_count": 35,
   "metadata": {},
   "outputs": [
    {
     "data": {
      "text/plain": [
       "-29.452237884403402"
      ]
     },
     "execution_count": 35,
     "metadata": {},
     "output_type": "execute_result"
    }
   ],
   "source": [
    "lm = LinearRegression()\n",
    "lm.fit(X_train, y_train)\n",
    "pred = lm.predict(X_test)\n",
    "metrics.r2_score(pred, y_test)"
   ]
  },
  {
   "cell_type": "code",
   "execution_count": 36,
   "metadata": {},
   "outputs": [
    {
     "name": "stdout",
     "output_type": "stream",
     "text": [
      "                            OLS Regression Results                            \n",
      "==============================================================================\n",
      "Dep. Variable:           brand_repeat   R-squared:                       0.085\n",
      "Model:                            OLS   Adj. R-squared:                  0.012\n",
      "Method:                 Least Squares   F-statistic:                     1.161\n",
      "Date:                Wed, 22 Jul 2020   Prob (F-statistic):              0.323\n",
      "Time:                        12:06:50   Log-Likelihood:                 171.79\n",
      "No. Observations:                 136   AIC:                            -321.6\n",
      "Df Residuals:                     125   BIC:                            -289.5\n",
      "Df Model:                          10                                         \n",
      "Covariance Type:            nonrobust                                         \n",
      "======================================================================================\n",
      "                         coef    std err          t      P>|t|      [0.025      0.975]\n",
      "--------------------------------------------------------------------------------------\n",
      "const                  0.3763      0.023     16.154      0.000       0.330       0.422\n",
      "avg_nb_statements     -0.0026      0.001     -2.596      0.011      -0.005      -0.001\n",
      "nb_reviews            -0.0004      0.001     -0.470      0.639      -0.002       0.001\n",
      "rating                 0.0033      0.002      1.461      0.147      -0.001       0.008\n",
      "rating_1               0.0016      0.001      1.951      0.053    -2.3e-05       0.003\n",
      "rating_2              -0.0003      0.002     -0.106      0.916      -0.005       0.005\n",
      "rating_3               0.0005      0.002      0.326      0.745      -0.003       0.003\n",
      "rating_4              -0.0013      0.002     -0.798      0.426      -0.004       0.002\n",
      "rating_5              -0.0009      0.001     -0.889      0.376      -0.003       0.001\n",
      "sentiment_negative    -0.0030      0.004     -0.829      0.409      -0.010       0.004\n",
      "sentiment_neutral      0.0012      0.002      0.818      0.415      -0.002       0.004\n",
      "sentiment_positive     0.0014      0.002      0.683      0.496      -0.003       0.005\n",
      "sentiment             -0.0066      0.014     -0.481      0.632      -0.034       0.021\n",
      "==============================================================================\n",
      "Omnibus:                       30.255   Durbin-Watson:                   1.852\n",
      "Prob(Omnibus):                  0.000   Jarque-Bera (JB):              210.045\n",
      "Skew:                           0.419   Prob(JB):                     2.45e-46\n",
      "Kurtosis:                       9.030   Cond. No.                     7.79e+16\n",
      "==============================================================================\n",
      "\n",
      "Warnings:\n",
      "[1] Standard Errors assume that the covariance matrix of the errors is correctly specified.\n",
      "[2] The smallest eigenvalue is 8.56e-27. This might indicate that there are\n",
      "strong multicollinearity problems or that the design matrix is singular.\n"
     ]
    }
   ],
   "source": [
    "X2 = sm.add_constant(X_train)\n",
    "est = sm.OLS(y_train, X2)\n",
    "est2 = est.fit()\n",
    "\n",
    "print(est2.summary())"
   ]
  },
  {
   "cell_type": "markdown",
   "metadata": {},
   "source": [
    "Average number of statements is showing significance which is interesting as we know that that is corellatied with negative reviews\n",
    "\n",
    "### Product Repeat"
   ]
  },
  {
   "cell_type": "code",
   "execution_count": 37,
   "metadata": {},
   "outputs": [],
   "source": [
    "X = merged[['avg_nb_statements', 'nb_reviews', 'rating', 'rating_1', 'rating_2',\n",
    "       'rating_3', 'rating_4', 'rating_5', 'sentiment_negative',\n",
    "       'sentiment_neutral', 'sentiment_positive', 'sentiment']]\n",
    "y = merged[\"product_repeat\"]"
   ]
  },
  {
   "cell_type": "code",
   "execution_count": 38,
   "metadata": {},
   "outputs": [],
   "source": [
    "X_train, X_test, y_train, y_test = train_test_split(X, y, shuffle = True)"
   ]
  },
  {
   "cell_type": "code",
   "execution_count": 39,
   "metadata": {},
   "outputs": [
    {
     "data": {
      "text/plain": [
       "-2.292887699010508"
      ]
     },
     "execution_count": 39,
     "metadata": {},
     "output_type": "execute_result"
    }
   ],
   "source": [
    "lm = LinearRegression()\n",
    "lm.fit(X_train, y_train)\n",
    "pred = lm.predict(X_test)\n",
    "metrics.r2_score(pred, y_test)"
   ]
  },
  {
   "cell_type": "code",
   "execution_count": 40,
   "metadata": {},
   "outputs": [
    {
     "name": "stdout",
     "output_type": "stream",
     "text": [
      "                            OLS Regression Results                            \n",
      "==============================================================================\n",
      "Dep. Variable:         product_repeat   R-squared:                       0.113\n",
      "Model:                            OLS   Adj. R-squared:                  0.042\n",
      "Method:                 Least Squares   F-statistic:                     1.585\n",
      "Date:                Wed, 22 Jul 2020   Prob (F-statistic):              0.119\n",
      "Time:                        12:08:34   Log-Likelihood:                 213.51\n",
      "No. Observations:                 136   AIC:                            -405.0\n",
      "Df Residuals:                     125   BIC:                            -373.0\n",
      "Df Model:                          10                                         \n",
      "Covariance Type:            nonrobust                                         \n",
      "======================================================================================\n",
      "                         coef    std err          t      P>|t|      [0.025      0.975]\n",
      "--------------------------------------------------------------------------------------\n",
      "const                  0.0815      0.017      4.797      0.000       0.048       0.115\n",
      "avg_nb_statements     -0.0012      0.001     -1.918      0.057      -0.003    3.99e-05\n",
      "nb_reviews             0.0007      0.000      1.378      0.171      -0.000       0.002\n",
      "rating                 0.0010      0.002      0.634      0.527      -0.002       0.004\n",
      "rating_1               0.0005      0.001      0.600      0.549      -0.001       0.002\n",
      "rating_2               0.0016      0.002      0.878      0.382      -0.002       0.005\n",
      "rating_3              -0.0029      0.001     -2.331      0.021      -0.005      -0.000\n",
      "rating_4               0.0014      0.001      1.258      0.211      -0.001       0.004\n",
      "rating_5            8.787e-05      0.001      0.145      0.885      -0.001       0.001\n",
      "sentiment_negative     0.0030      0.002      1.430      0.155      -0.001       0.007\n",
      "sentiment_neutral     -0.0012      0.001     -1.172      0.243      -0.003       0.001\n",
      "sentiment_positive    -0.0011      0.001     -0.957      0.340      -0.003       0.001\n",
      "sentiment              0.0018      0.009      0.200      0.842      -0.016       0.020\n",
      "==============================================================================\n",
      "Omnibus:                        7.799   Durbin-Watson:                   1.768\n",
      "Prob(Omnibus):                  0.020   Jarque-Bera (JB):                7.556\n",
      "Skew:                           0.560   Prob(JB):                       0.0229\n",
      "Kurtosis:                       3.283   Cond. No.                     7.85e+16\n",
      "==============================================================================\n",
      "\n",
      "Warnings:\n",
      "[1] Standard Errors assume that the covariance matrix of the errors is correctly specified.\n",
      "[2] The smallest eigenvalue is 9.08e-27. This might indicate that there are\n",
      "strong multicollinearity problems or that the design matrix is singular.\n"
     ]
    }
   ],
   "source": [
    "X2 = sm.add_constant(X_train)\n",
    "est = sm.OLS(y_train, X2)\n",
    "est2 = est.fit()\n",
    "\n",
    "print(est2.summary())"
   ]
  },
  {
   "cell_type": "markdown",
   "metadata": {},
   "source": [
    "For the product repeat rating three is starting to show something. Let's look at sentiment because there's a crazy amount of multicolinearity going on here\n",
    "\n",
    "## Sentiment\n",
    "### Brand Repeat Rate"
   ]
  },
  {
   "cell_type": "code",
   "execution_count": 41,
   "metadata": {},
   "outputs": [],
   "source": [
    "X = merged[['avg_nb_statements','sentiment_negative',\n",
    "       'sentiment_neutral', 'sentiment_positive']]\n",
    "y = merged[\"brand_repeat\"]"
   ]
  },
  {
   "cell_type": "code",
   "execution_count": 42,
   "metadata": {},
   "outputs": [],
   "source": [
    "X_train, X_test, y_train, y_test = train_test_split(X, y, shuffle = True)"
   ]
  },
  {
   "cell_type": "code",
   "execution_count": 43,
   "metadata": {},
   "outputs": [
    {
     "data": {
      "text/plain": [
       "-66.20959553670018"
      ]
     },
     "execution_count": 43,
     "metadata": {},
     "output_type": "execute_result"
    }
   ],
   "source": [
    "lm = LinearRegression()\n",
    "lm.fit(X_train, y_train)\n",
    "pred = lm.predict(X_test)\n",
    "metrics.r2_score(pred, y_test)"
   ]
  },
  {
   "cell_type": "code",
   "execution_count": 44,
   "metadata": {},
   "outputs": [
    {
     "name": "stdout",
     "output_type": "stream",
     "text": [
      "                            OLS Regression Results                            \n",
      "==============================================================================\n",
      "Dep. Variable:           brand_repeat   R-squared:                       0.023\n",
      "Model:                            OLS   Adj. R-squared:                 -0.007\n",
      "Method:                 Least Squares   F-statistic:                    0.7643\n",
      "Date:                Wed, 22 Jul 2020   Prob (F-statistic):              0.550\n",
      "Time:                        12:10:58   Log-Likelihood:                 131.48\n",
      "No. Observations:                 136   AIC:                            -253.0\n",
      "Df Residuals:                     131   BIC:                            -238.4\n",
      "Df Model:                           4                                         \n",
      "Covariance Type:            nonrobust                                         \n",
      "======================================================================================\n",
      "                         coef    std err          t      P>|t|      [0.025      0.975]\n",
      "--------------------------------------------------------------------------------------\n",
      "const                  0.4084      0.023     17.719      0.000       0.363       0.454\n",
      "avg_nb_statements     -0.0009      0.001     -1.339      0.183      -0.002       0.000\n",
      "sentiment_negative     0.0006      0.001      0.476      0.635      -0.002       0.003\n",
      "sentiment_neutral      0.0004      0.002      0.263      0.793      -0.003       0.004\n",
      "sentiment_positive    -0.0002      0.000     -0.525      0.600      -0.001       0.000\n",
      "==============================================================================\n",
      "Omnibus:                       99.677   Durbin-Watson:                   1.979\n",
      "Prob(Omnibus):                  0.000   Jarque-Bera (JB):             1973.376\n",
      "Skew:                           2.127   Prob(JB):                         0.00\n",
      "Kurtosis:                      21.170   Cond. No.                     1.03e+03\n",
      "==============================================================================\n",
      "\n",
      "Warnings:\n",
      "[1] Standard Errors assume that the covariance matrix of the errors is correctly specified.\n",
      "[2] The condition number is large, 1.03e+03. This might indicate that there are\n",
      "strong multicollinearity or other numerical problems.\n"
     ]
    }
   ],
   "source": [
    "X2 = sm.add_constant(X_train)\n",
    "est = sm.OLS(y_train, X2)\n",
    "est2 = est.fit()\n",
    "\n",
    "print(est2.summary())"
   ]
  },
  {
   "cell_type": "markdown",
   "metadata": {},
   "source": [
    "Nada\n",
    "\n",
    "### Product Repeat Rate"
   ]
  },
  {
   "cell_type": "code",
   "execution_count": 53,
   "metadata": {},
   "outputs": [],
   "source": [
    "X = merged[['avg_nb_statements','sentiment_negative',\n",
    "       'sentiment_neutral', 'sentiment_positive']]\n",
    "y = merged[\"product_repeat\"]"
   ]
  },
  {
   "cell_type": "code",
   "execution_count": 54,
   "metadata": {},
   "outputs": [],
   "source": [
    "X_train, X_test, y_train, y_test = train_test_split(X, y, shuffle = True)"
   ]
  },
  {
   "cell_type": "code",
   "execution_count": 55,
   "metadata": {},
   "outputs": [
    {
     "data": {
      "text/plain": [
       "-20.68099506199587"
      ]
     },
     "execution_count": 55,
     "metadata": {},
     "output_type": "execute_result"
    }
   ],
   "source": [
    "lm = LinearRegression()\n",
    "lm.fit(X_train, y_train)\n",
    "pred = lm.predict(X_test)\n",
    "metrics.r2_score(pred, y_test)"
   ]
  },
  {
   "cell_type": "code",
   "execution_count": 56,
   "metadata": {},
   "outputs": [
    {
     "name": "stdout",
     "output_type": "stream",
     "text": [
      "                            OLS Regression Results                            \n",
      "==============================================================================\n",
      "Dep. Variable:         product_repeat   R-squared:                       0.087\n",
      "Model:                            OLS   Adj. R-squared:                  0.059\n",
      "Method:                 Least Squares   F-statistic:                     3.123\n",
      "Date:                Wed, 22 Jul 2020   Prob (F-statistic):             0.0172\n",
      "Time:                        12:12:31   Log-Likelihood:                 211.02\n",
      "No. Observations:                 136   AIC:                            -412.0\n",
      "Df Residuals:                     131   BIC:                            -397.5\n",
      "Df Model:                           4                                         \n",
      "Covariance Type:            nonrobust                                         \n",
      "======================================================================================\n",
      "                         coef    std err          t      P>|t|      [0.025      0.975]\n",
      "--------------------------------------------------------------------------------------\n",
      "const                  0.1008      0.013      7.557      0.000       0.074       0.127\n",
      "avg_nb_statements     -0.0003      0.000     -0.789      0.432      -0.001       0.000\n",
      "sentiment_negative     0.0017      0.001      2.845      0.005       0.001       0.003\n",
      "sentiment_neutral      0.0003      0.001      0.350      0.727      -0.001       0.002\n",
      "sentiment_positive    -0.0003      0.000     -1.854      0.066      -0.001    1.93e-05\n",
      "==============================================================================\n",
      "Omnibus:                       12.185   Durbin-Watson:                   2.031\n",
      "Prob(Omnibus):                  0.002   Jarque-Bera (JB):               12.813\n",
      "Skew:                           0.731   Prob(JB):                      0.00165\n",
      "Kurtosis:                       3.351   Cond. No.                     1.08e+03\n",
      "==============================================================================\n",
      "\n",
      "Warnings:\n",
      "[1] Standard Errors assume that the covariance matrix of the errors is correctly specified.\n",
      "[2] The condition number is large, 1.08e+03. This might indicate that there are\n",
      "strong multicollinearity or other numerical problems.\n"
     ]
    }
   ],
   "source": [
    "X2 = sm.add_constant(X_train)\n",
    "est = sm.OLS(y_train, X2)\n",
    "est2 = est.fit()\n",
    "\n",
    "print(est2.summary())"
   ]
  },
  {
   "cell_type": "markdown",
   "metadata": {},
   "source": [
    "Some small effect from sentiment negative, but the sign is wrong. Let's try logging the right hand side of the regression\n",
    "\n",
    "## Logged Features\n",
    "### Brand Repeat"
   ]
  },
  {
   "cell_type": "code",
   "execution_count": 57,
   "metadata": {},
   "outputs": [],
   "source": [
    "X = np.log(merged[['avg_nb_statements','sentiment_negative',\n",
    "       'sentiment_neutral', 'sentiment_positive']] + 1)\n",
    "y = merged[\"brand_repeat\"]"
   ]
  },
  {
   "cell_type": "code",
   "execution_count": 58,
   "metadata": {},
   "outputs": [],
   "source": [
    "X_train, X_test, y_train, y_test = train_test_split(X, y, shuffle = True)"
   ]
  },
  {
   "cell_type": "code",
   "execution_count": 59,
   "metadata": {},
   "outputs": [
    {
     "data": {
      "text/plain": [
       "-218.6447877874172"
      ]
     },
     "execution_count": 59,
     "metadata": {},
     "output_type": "execute_result"
    }
   ],
   "source": [
    "lm = LinearRegression()\n",
    "lm.fit(X_train, y_train)\n",
    "pred = lm.predict(X_test)\n",
    "metrics.r2_score(pred, y_test)"
   ]
  },
  {
   "cell_type": "code",
   "execution_count": 60,
   "metadata": {},
   "outputs": [
    {
     "name": "stdout",
     "output_type": "stream",
     "text": [
      "                            OLS Regression Results                            \n",
      "==============================================================================\n",
      "Dep. Variable:           brand_repeat   R-squared:                       0.004\n",
      "Model:                            OLS   Adj. R-squared:                 -0.027\n",
      "Method:                 Least Squares   F-statistic:                    0.1263\n",
      "Date:                Wed, 22 Jul 2020   Prob (F-statistic):              0.973\n",
      "Time:                        12:14:08   Log-Likelihood:                 123.96\n",
      "No. Observations:                 136   AIC:                            -237.9\n",
      "Df Residuals:                     131   BIC:                            -223.3\n",
      "Df Model:                           4                                         \n",
      "Covariance Type:            nonrobust                                         \n",
      "======================================================================================\n",
      "                         coef    std err          t      P>|t|      [0.025      0.975]\n",
      "--------------------------------------------------------------------------------------\n",
      "const                  0.3967      0.085      4.690      0.000       0.229       0.564\n",
      "avg_nb_statements     -0.0062      0.025     -0.251      0.802      -0.055       0.043\n",
      "sentiment_negative    -0.0058      0.019     -0.300      0.765      -0.044       0.033\n",
      "sentiment_neutral      0.0032      0.032      0.100      0.920      -0.060       0.066\n",
      "sentiment_positive    -0.0015      0.027     -0.057      0.955      -0.055       0.051\n",
      "==============================================================================\n",
      "Omnibus:                       72.399   Durbin-Watson:                   2.082\n",
      "Prob(Omnibus):                  0.000   Jarque-Bera (JB):             1251.083\n",
      "Skew:                           1.333   Prob(JB):                    2.14e-272\n",
      "Kurtosis:                      17.617   Cond. No.                         64.0\n",
      "==============================================================================\n",
      "\n",
      "Warnings:\n",
      "[1] Standard Errors assume that the covariance matrix of the errors is correctly specified.\n"
     ]
    }
   ],
   "source": [
    "X2 = sm.add_constant(X_train)\n",
    "est = sm.OLS(y_train, X2)\n",
    "est2 = est.fit()\n",
    "\n",
    "print(est2.summary())"
   ]
  },
  {
   "cell_type": "markdown",
   "metadata": {},
   "source": [
    "Ummmm...nope\n",
    "\n",
    "### Product Repeat"
   ]
  },
  {
   "cell_type": "code",
   "execution_count": 61,
   "metadata": {},
   "outputs": [],
   "source": [
    "X = np.log(merged[['avg_nb_statements','sentiment_negative',\n",
    "       'sentiment_neutral', 'sentiment_positive']] + 1)\n",
    "y = merged[\"product_repeat\"]"
   ]
  },
  {
   "cell_type": "code",
   "execution_count": 62,
   "metadata": {},
   "outputs": [],
   "source": [
    "X_train, X_test, y_train, y_test = train_test_split(X, y, shuffle = True)"
   ]
  },
  {
   "cell_type": "code",
   "execution_count": 63,
   "metadata": {},
   "outputs": [
    {
     "data": {
      "text/plain": [
       "-23.606669195105127"
      ]
     },
     "execution_count": 63,
     "metadata": {},
     "output_type": "execute_result"
    }
   ],
   "source": [
    "lm = LinearRegression()\n",
    "lm.fit(X_train, y_train)\n",
    "pred = lm.predict(X_test)\n",
    "metrics.r2_score(pred, y_test)"
   ]
  },
  {
   "cell_type": "code",
   "execution_count": 64,
   "metadata": {},
   "outputs": [
    {
     "name": "stdout",
     "output_type": "stream",
     "text": [
      "                            OLS Regression Results                            \n",
      "==============================================================================\n",
      "Dep. Variable:         product_repeat   R-squared:                       0.082\n",
      "Model:                            OLS   Adj. R-squared:                  0.053\n",
      "Method:                 Least Squares   F-statistic:                     2.906\n",
      "Date:                Wed, 22 Jul 2020   Prob (F-statistic):             0.0242\n",
      "Time:                        12:14:55   Log-Likelihood:                 217.04\n",
      "No. Observations:                 136   AIC:                            -424.1\n",
      "Df Residuals:                     131   BIC:                            -409.5\n",
      "Df Model:                           4                                         \n",
      "Covariance Type:            nonrobust                                         \n",
      "======================================================================================\n",
      "                         coef    std err          t      P>|t|      [0.025      0.975]\n",
      "--------------------------------------------------------------------------------------\n",
      "const                  0.1032      0.046      2.245      0.026       0.012       0.194\n",
      "avg_nb_statements      0.0005      0.014      0.037      0.970      -0.027       0.028\n",
      "sentiment_negative     0.0322      0.010      3.368      0.001       0.013       0.051\n",
      "sentiment_neutral     -0.0248      0.016     -1.547      0.124      -0.057       0.007\n",
      "sentiment_positive    -0.0042      0.014     -0.307      0.759      -0.031       0.023\n",
      "==============================================================================\n",
      "Omnibus:                        8.270   Durbin-Watson:                   2.163\n",
      "Prob(Omnibus):                  0.016   Jarque-Bera (JB):                8.424\n",
      "Skew:                           0.609   Prob(JB):                       0.0148\n",
      "Kurtosis:                       3.070   Cond. No.                         69.9\n",
      "==============================================================================\n",
      "\n",
      "Warnings:\n",
      "[1] Standard Errors assume that the covariance matrix of the errors is correctly specified.\n"
     ]
    }
   ],
   "source": [
    "X2 = sm.add_constant(X_train)\n",
    "est = sm.OLS(y_train, X2)\n",
    "est2 = est.fit()\n",
    "\n",
    "print(est2.summary())"
   ]
  },
  {
   "cell_type": "markdown",
   "metadata": {},
   "source": [
    "Sentiemnt negative keeps on having a positive coefficent, but I'm not sure what to think of it...the R^2 is crazy low, so I don't want to put stock in that"
   ]
  },
  {
   "cell_type": "code",
   "execution_count": null,
   "metadata": {},
   "outputs": [],
   "source": []
  }
 ],
 "metadata": {
  "kernelspec": {
   "display_name": "Python 3",
   "language": "python",
   "name": "python3"
  },
  "language_info": {
   "codemirror_mode": {
    "name": "ipython",
    "version": 3
   },
   "file_extension": ".py",
   "mimetype": "text/x-python",
   "name": "python",
   "nbconvert_exporter": "python",
   "pygments_lexer": "ipython3",
   "version": "3.7.6"
  }
 },
 "nbformat": 4,
 "nbformat_minor": 4
}
