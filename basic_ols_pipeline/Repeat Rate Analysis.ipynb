{
 "cells": [
  {
   "cell_type": "code",
   "execution_count": 17,
   "metadata": {},
   "outputs": [],
   "source": [
    "import pandas as pd\n",
    "import numpy as np\n",
    "import copy as cp\n",
    "\n",
    "import statsmodels.api as sm\n",
    "import sklearn.metrics as metrics\n",
    "\n",
    "from sklearn.linear_model import LinearRegression\n",
    "from sklearn.model_selection import train_test_split\n",
    "from sklearn.preprocessing import StandardScaler\n",
    "from sklearn.decomposition import PCA"
   ]
  },
  {
   "cell_type": "code",
   "execution_count": 2,
   "metadata": {},
   "outputs": [],
   "source": [
    "onedrive_path = \"C:/Users/cfowle/The Estée Lauder Companies Inc/TeamAnis - General/\""
   ]
  },
  {
   "cell_type": "code",
   "execution_count": 3,
   "metadata": {},
   "outputs": [],
   "source": [
    "repeat_rate = pd.read_csv(onedrive_path + \"Data/Repeat Rate/combined.csv\")\n",
    "ratings = pd.read_csv(onedrive_path + \"Data/Ratings and Reviews/reviews_demand_itemid4.csv\")\n",
    "cc = pd.read_csv(onedrive_path + \"Data/Consumer Care/cc_product_month.csv\")"
   ]
  },
  {
   "cell_type": "code",
   "execution_count": 4,
   "metadata": {
    "scrolled": true
   },
   "outputs": [],
   "source": [
    "cc = cc.rename(columns = {\"P4\": \"itemid_4\",\n",
    "                         \"Date Month\": \"date\"})"
   ]
  },
  {
   "cell_type": "markdown",
   "metadata": {},
   "source": [
    "## Summarize Ratings at FY Level"
   ]
  },
  {
   "cell_type": "code",
   "execution_count": 5,
   "metadata": {},
   "outputs": [],
   "source": [
    "#ratings = ratings.merge(cc, how = \"left\")"
   ]
  },
  {
   "cell_type": "code",
   "execution_count": 6,
   "metadata": {},
   "outputs": [],
   "source": [
    "ratings.date = pd.to_datetime(ratings.date)"
   ]
  },
  {
   "cell_type": "code",
   "execution_count": 7,
   "metadata": {},
   "outputs": [],
   "source": [
    "FY18_MIN = pd.to_datetime(\"7/1/2018\")\n",
    "FY19_MIN = pd.to_datetime(\"7/1/2019\")\n",
    "FY19_MAX = pd.to_datetime(\"7/1/2020\")\n",
    "\n",
    "ratings[\"fy\"] = [int(18) if x >= FY18_MIN and x < FY19_MIN else int(19) if x >= FY19_MIN and x < FY19_MAX else 0 for x in ratings.date]"
   ]
  },
  {
   "cell_type": "code",
   "execution_count": 8,
   "metadata": {
    "scrolled": true
   },
   "outputs": [],
   "source": [
    "ratings = ratings.groupby([\"itemid_4\", \"fy\"]).sum().reset_index()"
   ]
  },
  {
   "cell_type": "code",
   "execution_count": 9,
   "metadata": {},
   "outputs": [
    {
     "data": {
      "text/html": [
       "<div>\n",
       "<style scoped>\n",
       "    .dataframe tbody tr th:only-of-type {\n",
       "        vertical-align: middle;\n",
       "    }\n",
       "\n",
       "    .dataframe tbody tr th {\n",
       "        vertical-align: top;\n",
       "    }\n",
       "\n",
       "    .dataframe thead th {\n",
       "        text-align: right;\n",
       "    }\n",
       "</style>\n",
       "<table border=\"1\" class=\"dataframe\">\n",
       "  <thead>\n",
       "    <tr style=\"text-align: right;\">\n",
       "      <th></th>\n",
       "      <th>fy</th>\n",
       "      <th>brand</th>\n",
       "      <th>itemid_4</th>\n",
       "      <th>category</th>\n",
       "      <th>subcategory</th>\n",
       "      <th>description</th>\n",
       "      <th>transaction_count</th>\n",
       "      <th>percent_brand_mix</th>\n",
       "      <th>product_repeat</th>\n",
       "      <th>brand_repeat</th>\n",
       "      <th>purchase_cycle_days</th>\n",
       "      <th>retail_price</th>\n",
       "      <th>retail_transactions</th>\n",
       "      <th>online_transactions</th>\n",
       "      <th>percent_retail_transactions</th>\n",
       "      <th>percent_online_transactions</th>\n",
       "    </tr>\n",
       "  </thead>\n",
       "  <tbody>\n",
       "    <tr>\n",
       "      <th>321</th>\n",
       "      <td>18</td>\n",
       "      <td>Jo Malone London</td>\n",
       "      <td>6902</td>\n",
       "      <td>FRAGRANCE</td>\n",
       "      <td>WILD BLUEBELL</td>\n",
       "      <td>WILD BLUEBELL COLOGNE 30ML/SLI</td>\n",
       "      <td>8263</td>\n",
       "      <td>0.037636</td>\n",
       "      <td>0.197964</td>\n",
       "      <td>0.364065</td>\n",
       "      <td>82.753508</td>\n",
       "      <td>65.005836</td>\n",
       "      <td>624</td>\n",
       "      <td>7639</td>\n",
       "      <td>0.075517</td>\n",
       "      <td>0.924483</td>\n",
       "    </tr>\n",
       "    <tr>\n",
       "      <th>322</th>\n",
       "      <td>18</td>\n",
       "      <td>Jo Malone London</td>\n",
       "      <td>6902</td>\n",
       "      <td>FRAGRANCE</td>\n",
       "      <td>WOOD SAGE AND SEA SALT</td>\n",
       "      <td>WOOD SAGE AND SEA SALT 30ML</td>\n",
       "      <td>7443</td>\n",
       "      <td>0.033901</td>\n",
       "      <td>0.077228</td>\n",
       "      <td>0.268563</td>\n",
       "      <td>93.365063</td>\n",
       "      <td>65.022058</td>\n",
       "      <td>1386</td>\n",
       "      <td>6057</td>\n",
       "      <td>0.186215</td>\n",
       "      <td>0.813785</td>\n",
       "    </tr>\n",
       "    <tr>\n",
       "      <th>323</th>\n",
       "      <td>18</td>\n",
       "      <td>Jo Malone London</td>\n",
       "      <td>6902</td>\n",
       "      <td>FRAGRANCE</td>\n",
       "      <td>ENGLISH PEAR &amp; FREESIA</td>\n",
       "      <td>ENGLISH PEAR &amp; FREESIA CLGNE 3</td>\n",
       "      <td>6846</td>\n",
       "      <td>0.031182</td>\n",
       "      <td>0.088330</td>\n",
       "      <td>0.296050</td>\n",
       "      <td>86.046518</td>\n",
       "      <td>65.003569</td>\n",
       "      <td>1160</td>\n",
       "      <td>5686</td>\n",
       "      <td>0.169442</td>\n",
       "      <td>0.830558</td>\n",
       "    </tr>\n",
       "    <tr>\n",
       "      <th>324</th>\n",
       "      <td>18</td>\n",
       "      <td>Jo Malone London</td>\n",
       "      <td>6902</td>\n",
       "      <td>SKINCARE</td>\n",
       "      <td>VITAMIN E LIP CONDITIONER</td>\n",
       "      <td>VITAMIN E LIP CONDITIONER</td>\n",
       "      <td>5278</td>\n",
       "      <td>0.024040</td>\n",
       "      <td>0.193330</td>\n",
       "      <td>0.422838</td>\n",
       "      <td>55.167446</td>\n",
       "      <td>29.998124</td>\n",
       "      <td>342</td>\n",
       "      <td>4936</td>\n",
       "      <td>0.064797</td>\n",
       "      <td>0.935203</td>\n",
       "    </tr>\n",
       "    <tr>\n",
       "      <th>325</th>\n",
       "      <td>18</td>\n",
       "      <td>Jo Malone London</td>\n",
       "      <td>6902</td>\n",
       "      <td>FRAGRANCE</td>\n",
       "      <td>SOAP</td>\n",
       "      <td>EP&amp;F SOAP</td>\n",
       "      <td>5047</td>\n",
       "      <td>0.022988</td>\n",
       "      <td>0.208962</td>\n",
       "      <td>0.490683</td>\n",
       "      <td>74.028390</td>\n",
       "      <td>21.899528</td>\n",
       "      <td>341</td>\n",
       "      <td>4706</td>\n",
       "      <td>0.067565</td>\n",
       "      <td>0.932435</td>\n",
       "    </tr>\n",
       "    <tr>\n",
       "      <th>...</th>\n",
       "      <td>...</td>\n",
       "      <td>...</td>\n",
       "      <td>...</td>\n",
       "      <td>...</td>\n",
       "      <td>...</td>\n",
       "      <td>...</td>\n",
       "      <td>...</td>\n",
       "      <td>...</td>\n",
       "      <td>...</td>\n",
       "      <td>...</td>\n",
       "      <td>...</td>\n",
       "      <td>...</td>\n",
       "      <td>...</td>\n",
       "      <td>...</td>\n",
       "      <td>...</td>\n",
       "      <td>...</td>\n",
       "    </tr>\n",
       "    <tr>\n",
       "      <th>2622</th>\n",
       "      <td>19</td>\n",
       "      <td>Jo Malone London</td>\n",
       "      <td>6900</td>\n",
       "      <td>FRAGRANCE</td>\n",
       "      <td>ENGLISH PEAR &amp; FREESIA SET</td>\n",
       "      <td>ENGLISHPEAR&amp;FREESIASET</td>\n",
       "      <td>1</td>\n",
       "      <td>0.000004</td>\n",
       "      <td>0.000000</td>\n",
       "      <td>0.000000</td>\n",
       "      <td>0.000000</td>\n",
       "      <td>135.000000</td>\n",
       "      <td>1</td>\n",
       "      <td>0</td>\n",
       "      <td>1.000000</td>\n",
       "      <td>0.000000</td>\n",
       "    </tr>\n",
       "    <tr>\n",
       "      <th>2623</th>\n",
       "      <td>19</td>\n",
       "      <td>Jo Malone London</td>\n",
       "      <td>6900</td>\n",
       "      <td>FRAGRANCE</td>\n",
       "      <td>BODY &amp; HAND WASH</td>\n",
       "      <td>P&amp;BS BODY &amp; HAND WASH/NEW ILN</td>\n",
       "      <td>1</td>\n",
       "      <td>0.000004</td>\n",
       "      <td>0.000000</td>\n",
       "      <td>1.000000</td>\n",
       "      <td>0.000000</td>\n",
       "      <td>40.000000</td>\n",
       "      <td>0</td>\n",
       "      <td>1</td>\n",
       "      <td>0.000000</td>\n",
       "      <td>1.000000</td>\n",
       "    </tr>\n",
       "    <tr>\n",
       "      <th>2624</th>\n",
       "      <td>19</td>\n",
       "      <td>Jo Malone London</td>\n",
       "      <td>6900</td>\n",
       "      <td>FRAGRANCE</td>\n",
       "      <td>BODY &amp; HAND WASH</td>\n",
       "      <td>OB BODY &amp; HAND WASH 250ML</td>\n",
       "      <td>1</td>\n",
       "      <td>0.000004</td>\n",
       "      <td>0.000000</td>\n",
       "      <td>0.000000</td>\n",
       "      <td>0.000000</td>\n",
       "      <td>40.000000</td>\n",
       "      <td>1</td>\n",
       "      <td>0</td>\n",
       "      <td>1.000000</td>\n",
       "      <td>0.000000</td>\n",
       "    </tr>\n",
       "    <tr>\n",
       "      <th>2625</th>\n",
       "      <td>19</td>\n",
       "      <td>Jo Malone London</td>\n",
       "      <td>6900</td>\n",
       "      <td>FRAGRANCE</td>\n",
       "      <td>BATH OIL</td>\n",
       "      <td>POMEGRANATE NOIR BATH OIL</td>\n",
       "      <td>1</td>\n",
       "      <td>0.000004</td>\n",
       "      <td>0.000000</td>\n",
       "      <td>0.000000</td>\n",
       "      <td>0.000000</td>\n",
       "      <td>65.000000</td>\n",
       "      <td>1</td>\n",
       "      <td>0</td>\n",
       "      <td>1.000000</td>\n",
       "      <td>0.000000</td>\n",
       "    </tr>\n",
       "    <tr>\n",
       "      <th>2626</th>\n",
       "      <td>19</td>\n",
       "      <td>Jo Malone London</td>\n",
       "      <td>6900</td>\n",
       "      <td>FRAGRANCE</td>\n",
       "      <td>LIMITED LIFE</td>\n",
       "      <td>POPPY &amp; BARLEY COLOGNE</td>\n",
       "      <td>1</td>\n",
       "      <td>0.000004</td>\n",
       "      <td>0.000000</td>\n",
       "      <td>1.000000</td>\n",
       "      <td>0.000000</td>\n",
       "      <td>70.000000</td>\n",
       "      <td>0</td>\n",
       "      <td>1</td>\n",
       "      <td>0.000000</td>\n",
       "      <td>1.000000</td>\n",
       "    </tr>\n",
       "  </tbody>\n",
       "</table>\n",
       "<p>932 rows × 16 columns</p>\n",
       "</div>"
      ],
      "text/plain": [
       "      fy             brand itemid_4   category                 subcategory  \\\n",
       "321   18  Jo Malone London     6902  FRAGRANCE               WILD BLUEBELL   \n",
       "322   18  Jo Malone London     6902  FRAGRANCE      WOOD SAGE AND SEA SALT   \n",
       "323   18  Jo Malone London     6902  FRAGRANCE      ENGLISH PEAR & FREESIA   \n",
       "324   18  Jo Malone London     6902   SKINCARE   VITAMIN E LIP CONDITIONER   \n",
       "325   18  Jo Malone London     6902  FRAGRANCE                        SOAP   \n",
       "...   ..               ...      ...        ...                         ...   \n",
       "2622  19  Jo Malone London     6900  FRAGRANCE  ENGLISH PEAR & FREESIA SET   \n",
       "2623  19  Jo Malone London     6900  FRAGRANCE            BODY & HAND WASH   \n",
       "2624  19  Jo Malone London     6900  FRAGRANCE            BODY & HAND WASH   \n",
       "2625  19  Jo Malone London     6900  FRAGRANCE                    BATH OIL   \n",
       "2626  19  Jo Malone London     6900  FRAGRANCE                LIMITED LIFE   \n",
       "\n",
       "                         description  transaction_count  percent_brand_mix  \\\n",
       "321   WILD BLUEBELL COLOGNE 30ML/SLI               8263           0.037636   \n",
       "322      WOOD SAGE AND SEA SALT 30ML               7443           0.033901   \n",
       "323   ENGLISH PEAR & FREESIA CLGNE 3               6846           0.031182   \n",
       "324        VITAMIN E LIP CONDITIONER               5278           0.024040   \n",
       "325                        EP&F SOAP               5047           0.022988   \n",
       "...                              ...                ...                ...   \n",
       "2622          ENGLISHPEAR&FREESIASET                  1           0.000004   \n",
       "2623   P&BS BODY & HAND WASH/NEW ILN                  1           0.000004   \n",
       "2624       OB BODY & HAND WASH 250ML                  1           0.000004   \n",
       "2625       POMEGRANATE NOIR BATH OIL                  1           0.000004   \n",
       "2626          POPPY & BARLEY COLOGNE                  1           0.000004   \n",
       "\n",
       "      product_repeat  brand_repeat  purchase_cycle_days  retail_price  \\\n",
       "321         0.197964      0.364065            82.753508     65.005836   \n",
       "322         0.077228      0.268563            93.365063     65.022058   \n",
       "323         0.088330      0.296050            86.046518     65.003569   \n",
       "324         0.193330      0.422838            55.167446     29.998124   \n",
       "325         0.208962      0.490683            74.028390     21.899528   \n",
       "...              ...           ...                  ...           ...   \n",
       "2622        0.000000      0.000000             0.000000    135.000000   \n",
       "2623        0.000000      1.000000             0.000000     40.000000   \n",
       "2624        0.000000      0.000000             0.000000     40.000000   \n",
       "2625        0.000000      0.000000             0.000000     65.000000   \n",
       "2626        0.000000      1.000000             0.000000     70.000000   \n",
       "\n",
       "      retail_transactions  online_transactions  percent_retail_transactions  \\\n",
       "321                   624                 7639                     0.075517   \n",
       "322                  1386                 6057                     0.186215   \n",
       "323                  1160                 5686                     0.169442   \n",
       "324                   342                 4936                     0.064797   \n",
       "325                   341                 4706                     0.067565   \n",
       "...                   ...                  ...                          ...   \n",
       "2622                    1                    0                     1.000000   \n",
       "2623                    0                    1                     0.000000   \n",
       "2624                    1                    0                     1.000000   \n",
       "2625                    1                    0                     1.000000   \n",
       "2626                    0                    1                     0.000000   \n",
       "\n",
       "      percent_online_transactions  \n",
       "321                      0.924483  \n",
       "322                      0.813785  \n",
       "323                      0.830558  \n",
       "324                      0.935203  \n",
       "325                      0.932435  \n",
       "...                           ...  \n",
       "2622                     0.000000  \n",
       "2623                     1.000000  \n",
       "2624                     0.000000  \n",
       "2625                     0.000000  \n",
       "2626                     1.000000  \n",
       "\n",
       "[932 rows x 16 columns]"
      ]
     },
     "execution_count": 9,
     "metadata": {},
     "output_type": "execute_result"
    }
   ],
   "source": [
    "repeat_rate.loc[repeat_rate.brand == \"Jo Malone London\"]\n"
   ]
  },
  {
   "cell_type": "markdown",
   "metadata": {},
   "source": [
    "## Join with Repeat Rate"
   ]
  },
  {
   "cell_type": "code",
   "execution_count": 10,
   "metadata": {},
   "outputs": [],
   "source": [
    "merged = repeat_rate.merge(ratings, on =[\"itemid_4\", \"fy\"])"
   ]
  },
  {
   "cell_type": "code",
   "execution_count": 11,
   "metadata": {},
   "outputs": [],
   "source": [
    "merged = merged.loc[merged.demand > 0]\n",
    "merged = merged.loc[merged.nb_reviews > 10]"
   ]
  },
  {
   "cell_type": "code",
   "execution_count": 12,
   "metadata": {},
   "outputs": [
    {
     "data": {
      "text/plain": [
       "Index(['fy', 'brand', 'itemid_4', 'category', 'subcategory', 'description',\n",
       "       'transaction_count', 'percent_brand_mix', 'product_repeat',\n",
       "       'brand_repeat', 'purchase_cycle_days', 'retail_price',\n",
       "       'retail_transactions', 'online_transactions',\n",
       "       'percent_retail_transactions', 'percent_online_transactions',\n",
       "       'avg_nb_statements', 'nb_reviews', 'rating', 'rating_1', 'rating_2',\n",
       "       'rating_3', 'rating_4', 'rating_5', 'sentiment_negative',\n",
       "       'sentiment_neutral', 'sentiment_positive', 'sentiment', 'demand',\n",
       "       'demand_1', 'demand_2', 'demand_3'],\n",
       "      dtype='object')"
      ]
     },
     "execution_count": 12,
     "metadata": {},
     "output_type": "execute_result"
    }
   ],
   "source": [
    "merged.columns"
   ]
  },
  {
   "cell_type": "markdown",
   "metadata": {},
   "source": [
    "## Predict Repeat Rates"
   ]
  },
  {
   "cell_type": "markdown",
   "metadata": {},
   "source": [
    "### Brand Repeat Rate"
   ]
  },
  {
   "cell_type": "code",
   "execution_count": 65,
   "metadata": {},
   "outputs": [],
   "source": [
    "X = merged[['avg_nb_statements', 'nb_reviews', 'rating', 'rating_1', 'rating_2',\n",
    "       'rating_3', 'rating_4', 'sentiment_negative',\n",
    "       'sentiment_neutral', 'sentiment_positive', 'sentiment', 'demand']]\n",
    "y = merged[\"brand_repeat\"]"
   ]
  },
  {
   "cell_type": "code",
   "execution_count": 66,
   "metadata": {},
   "outputs": [],
   "source": [
    "X_train, X_test, y_train, y_test = train_test_split(X, y, shuffle = True)"
   ]
  },
  {
   "cell_type": "code",
   "execution_count": 67,
   "metadata": {},
   "outputs": [
    {
     "data": {
      "text/plain": [
       "-4.718298631937919"
      ]
     },
     "execution_count": 67,
     "metadata": {},
     "output_type": "execute_result"
    }
   ],
   "source": [
    "lm = LinearRegression()\n",
    "lm.fit(X_train, y_train)\n",
    "pred = lm.predict(X_test)\n",
    "metrics.r2_score(pred, y_test)"
   ]
  },
  {
   "cell_type": "code",
   "execution_count": 68,
   "metadata": {},
   "outputs": [
    {
     "name": "stdout",
     "output_type": "stream",
     "text": [
      "                            OLS Regression Results                            \n",
      "==============================================================================\n",
      "Dep. Variable:           brand_repeat   R-squared:                       0.119\n",
      "Model:                            OLS   Adj. R-squared:                  0.041\n",
      "Method:                 Least Squares   F-statistic:                     1.523\n",
      "Date:                Thu, 23 Jul 2020   Prob (F-statistic):              0.131\n",
      "Time:                        10:32:54   Log-Likelihood:                 127.19\n",
      "No. Observations:                 136   AIC:                            -230.4\n",
      "Df Residuals:                     124   BIC:                            -195.4\n",
      "Df Model:                          11                                         \n",
      "Covariance Type:            nonrobust                                         \n",
      "======================================================================================\n",
      "                         coef    std err          t      P>|t|      [0.025      0.975]\n",
      "--------------------------------------------------------------------------------------\n",
      "const                  0.3590      0.032     11.358      0.000       0.296       0.422\n",
      "avg_nb_statements     -0.0034      0.001     -2.655      0.009      -0.006      -0.001\n",
      "nb_reviews             0.0037      0.002      2.284      0.024       0.000       0.007\n",
      "rating                -0.0034      0.003     -1.101      0.273      -0.009       0.003\n",
      "rating_1              -0.0026      0.002     -1.529      0.129      -0.006       0.001\n",
      "rating_2               0.0060      0.004      1.550      0.124      -0.002       0.014\n",
      "rating_3              -0.0069      0.003     -2.543      0.012      -0.012      -0.002\n",
      "rating_4            2.246e-05      0.002      0.013      0.990      -0.003       0.004\n",
      "sentiment_negative     0.0080      0.004      1.884      0.062      -0.000       0.016\n",
      "sentiment_neutral      0.0006      0.002      0.359      0.720      -0.003       0.004\n",
      "sentiment_positive    -0.0050      0.002     -2.634      0.010      -0.009      -0.001\n",
      "sentiment              0.0420      0.018      2.290      0.024       0.006       0.078\n",
      "demand             -5.424e-09   3.81e-09     -1.425      0.157    -1.3e-08    2.11e-09\n",
      "==============================================================================\n",
      "Omnibus:                       90.140   Durbin-Watson:                   2.091\n",
      "Prob(Omnibus):                  0.000   Jarque-Bera (JB):             1571.087\n",
      "Skew:                           1.871   Prob(JB):                         0.00\n",
      "Kurtosis:                      19.225   Cond. No.                     1.60e+20\n",
      "==============================================================================\n",
      "\n",
      "Warnings:\n",
      "[1] Standard Errors assume that the covariance matrix of the errors is correctly specified.\n",
      "[2] The smallest eigenvalue is 4.36e-26. This might indicate that there are\n",
      "strong multicollinearity problems or that the design matrix is singular.\n"
     ]
    }
   ],
   "source": [
    "X2 = sm.add_constant(X_train)\n",
    "est = sm.OLS(y_train, X2)\n",
    "est2 = est.fit()\n",
    "\n",
    "print(est2.summary())"
   ]
  },
  {
   "cell_type": "markdown",
   "metadata": {},
   "source": [
    "### Product Repeat Rate"
   ]
  },
  {
   "cell_type": "code",
   "execution_count": 69,
   "metadata": {},
   "outputs": [],
   "source": [
    "X = merged[['avg_nb_statements', 'nb_reviews', 'rating', 'rating_1', 'rating_2',\n",
    "       'rating_3', 'rating_4', 'sentiment_negative',\n",
    "       'sentiment_neutral', 'sentiment_positive', 'sentiment', 'demand']]\n",
    "y = merged[\"product_repeat\"]"
   ]
  },
  {
   "cell_type": "code",
   "execution_count": 70,
   "metadata": {},
   "outputs": [],
   "source": [
    "X_train, X_test, y_train, y_test = train_test_split(X, y, shuffle = True)"
   ]
  },
  {
   "cell_type": "code",
   "execution_count": 71,
   "metadata": {},
   "outputs": [
    {
     "data": {
      "text/plain": [
       "-3.2479018531629977"
      ]
     },
     "execution_count": 71,
     "metadata": {},
     "output_type": "execute_result"
    }
   ],
   "source": [
    "lm = LinearRegression()\n",
    "lm.fit(X_train, y_train)\n",
    "pred = lm.predict(X_test)\n",
    "metrics.r2_score(pred, y_test)"
   ]
  },
  {
   "cell_type": "code",
   "execution_count": 72,
   "metadata": {},
   "outputs": [
    {
     "name": "stdout",
     "output_type": "stream",
     "text": [
      "                            OLS Regression Results                            \n",
      "==============================================================================\n",
      "Dep. Variable:         product_repeat   R-squared:                       0.237\n",
      "Model:                            OLS   Adj. R-squared:                  0.169\n",
      "Method:                 Least Squares   F-statistic:                     3.494\n",
      "Date:                Thu, 23 Jul 2020   Prob (F-statistic):           0.000282\n",
      "Time:                        10:33:24   Log-Likelihood:                 225.22\n",
      "No. Observations:                 136   AIC:                            -426.4\n",
      "Df Residuals:                     124   BIC:                            -391.5\n",
      "Df Model:                          11                                         \n",
      "Covariance Type:            nonrobust                                         \n",
      "======================================================================================\n",
      "                         coef    std err          t      P>|t|      [0.025      0.975]\n",
      "--------------------------------------------------------------------------------------\n",
      "const                  0.0836      0.016      5.288      0.000       0.052       0.115\n",
      "avg_nb_statements     -0.0008      0.001     -1.191      0.236      -0.002       0.001\n",
      "nb_reviews          8.434e-05      0.001      0.106      0.915      -0.001       0.002\n",
      "rating                 0.0004      0.001      0.287      0.775      -0.003       0.003\n",
      "rating_1               0.0007      0.001      0.894      0.373      -0.001       0.002\n",
      "rating_2               0.0012      0.002      0.647      0.519      -0.003       0.005\n",
      "rating_3              -0.0007      0.001     -0.541      0.589      -0.003       0.002\n",
      "rating_4               0.0007      0.001      0.911      0.364      -0.001       0.002\n",
      "sentiment_negative     0.0008      0.002      0.370      0.712      -0.003       0.005\n",
      "sentiment_neutral     -0.0002      0.001     -0.272      0.786      -0.002       0.001\n",
      "sentiment_positive    -0.0005      0.001     -0.494      0.622      -0.002       0.001\n",
      "sentiment              0.0024      0.009      0.279      0.781      -0.015       0.019\n",
      "demand              8.077e-09   1.81e-09      4.463      0.000    4.49e-09    1.17e-08\n",
      "==============================================================================\n",
      "Omnibus:                       15.972   Durbin-Watson:                   2.025\n",
      "Prob(Omnibus):                  0.000   Jarque-Bera (JB):               18.220\n",
      "Skew:                           0.770   Prob(JB):                     0.000111\n",
      "Kurtosis:                       3.917   Cond. No.                     8.14e+19\n",
      "==============================================================================\n",
      "\n",
      "Warnings:\n",
      "[1] Standard Errors assume that the covariance matrix of the errors is correctly specified.\n",
      "[2] The smallest eigenvalue is 1.67e-25. This might indicate that there are\n",
      "strong multicollinearity problems or that the design matrix is singular.\n"
     ]
    }
   ],
   "source": [
    "X2 = sm.add_constant(X_train)\n",
    "est = sm.OLS(y_train, X2)\n",
    "est2 = est.fit()\n",
    "\n",
    "print(est2.summary())"
   ]
  },
  {
   "cell_type": "markdown",
   "metadata": {},
   "source": [
    "## Try removing the demand variable\n",
    "### Brand Repeat"
   ]
  },
  {
   "cell_type": "code",
   "execution_count": 74,
   "metadata": {},
   "outputs": [],
   "source": [
    "X = merged[['avg_nb_statements', 'nb_reviews', 'rating', 'rating_1', 'rating_2',\n",
    "       'rating_3', 'rating_4', 'sentiment_negative',\n",
    "       'sentiment_neutral', 'sentiment_positive', 'sentiment']]\n",
    "y = merged[\"brand_repeat\"]"
   ]
  },
  {
   "cell_type": "code",
   "execution_count": 75,
   "metadata": {},
   "outputs": [],
   "source": [
    "X_train, X_test, y_train, y_test = train_test_split(X, y, shuffle = True)"
   ]
  },
  {
   "cell_type": "code",
   "execution_count": 76,
   "metadata": {},
   "outputs": [
    {
     "data": {
      "text/plain": [
       "-7.428265447234196"
      ]
     },
     "execution_count": 76,
     "metadata": {},
     "output_type": "execute_result"
    }
   ],
   "source": [
    "lm = LinearRegression()\n",
    "lm.fit(X_train, y_train)\n",
    "pred = lm.predict(X_test)\n",
    "metrics.r2_score(pred, y_test)"
   ]
  },
  {
   "cell_type": "code",
   "execution_count": 77,
   "metadata": {},
   "outputs": [
    {
     "name": "stdout",
     "output_type": "stream",
     "text": [
      "                            OLS Regression Results                            \n",
      "==============================================================================\n",
      "Dep. Variable:           brand_repeat   R-squared:                       0.061\n",
      "Model:                            OLS   Adj. R-squared:                 -0.015\n",
      "Method:                 Least Squares   F-statistic:                    0.8052\n",
      "Date:                Thu, 23 Jul 2020   Prob (F-statistic):              0.624\n",
      "Time:                        10:33:36   Log-Likelihood:                 131.57\n",
      "No. Observations:                 136   AIC:                            -241.1\n",
      "Df Residuals:                     125   BIC:                            -209.1\n",
      "Df Model:                          10                                         \n",
      "Covariance Type:            nonrobust                                         \n",
      "======================================================================================\n",
      "                         coef    std err          t      P>|t|      [0.025      0.975]\n",
      "--------------------------------------------------------------------------------------\n",
      "const                  0.3864      0.031     12.316      0.000       0.324       0.449\n",
      "avg_nb_statements     -0.0018      0.001     -1.422      0.158      -0.004       0.001\n",
      "nb_reviews             0.0017      0.002      1.044      0.299      -0.001       0.005\n",
      "rating                -0.0023      0.003     -0.781      0.437      -0.008       0.003\n",
      "rating_1              -0.0011      0.002     -0.623      0.534      -0.004       0.002\n",
      "rating_2               0.0044      0.004      1.131      0.260      -0.003       0.012\n",
      "rating_3              -0.0035      0.002     -1.493      0.138      -0.008       0.001\n",
      "rating_4              -0.0002      0.002     -0.093      0.926      -0.003       0.003\n",
      "sentiment_negative     0.0025      0.004      0.571      0.569      -0.006       0.011\n",
      "sentiment_neutral      0.0017      0.002      0.711      0.478      -0.003       0.006\n",
      "sentiment_positive    -0.0025      0.002     -1.323      0.188      -0.006       0.001\n",
      "sentiment              0.0214      0.017      1.269      0.207      -0.012       0.055\n",
      "==============================================================================\n",
      "Omnibus:                       92.860   Durbin-Watson:                   1.987\n",
      "Prob(Omnibus):                  0.000   Jarque-Bera (JB):             1830.139\n",
      "Skew:                           1.907   Prob(JB):                         0.00\n",
      "Kurtosis:                      20.562   Cond. No.                     2.64e+16\n",
      "==============================================================================\n",
      "\n",
      "Warnings:\n",
      "[1] Standard Errors assume that the covariance matrix of the errors is correctly specified.\n",
      "[2] The smallest eigenvalue is 1.76e-26. This might indicate that there are\n",
      "strong multicollinearity problems or that the design matrix is singular.\n"
     ]
    }
   ],
   "source": [
    "X2 = sm.add_constant(X_train)\n",
    "est = sm.OLS(y_train, X2)\n",
    "est2 = est.fit()\n",
    "\n",
    "print(est2.summary())"
   ]
  },
  {
   "cell_type": "markdown",
   "metadata": {},
   "source": [
    "Average number of statements is showing significance which is interesting as we know that that is corellatied with negative reviews\n",
    "\n",
    "### Product Repeat"
   ]
  },
  {
   "cell_type": "code",
   "execution_count": 78,
   "metadata": {},
   "outputs": [],
   "source": [
    "X = merged[['avg_nb_statements', 'nb_reviews', 'rating', 'rating_1', 'rating_2',\n",
    "       'rating_3', 'rating_4', 'sentiment_negative',\n",
    "       'sentiment_neutral', 'sentiment_positive', 'sentiment']]\n",
    "y = merged[\"product_repeat\"]"
   ]
  },
  {
   "cell_type": "code",
   "execution_count": 79,
   "metadata": {},
   "outputs": [],
   "source": [
    "X_train, X_test, y_train, y_test = train_test_split(X, y, shuffle = True)"
   ]
  },
  {
   "cell_type": "code",
   "execution_count": 80,
   "metadata": {},
   "outputs": [
    {
     "data": {
      "text/plain": [
       "-56.12482884022123"
      ]
     },
     "execution_count": 80,
     "metadata": {},
     "output_type": "execute_result"
    }
   ],
   "source": [
    "lm = LinearRegression()\n",
    "lm.fit(X_train, y_train)\n",
    "pred = lm.predict(X_test)\n",
    "metrics.r2_score(pred, y_test)"
   ]
  },
  {
   "cell_type": "code",
   "execution_count": 81,
   "metadata": {},
   "outputs": [
    {
     "name": "stdout",
     "output_type": "stream",
     "text": [
      "                            OLS Regression Results                            \n",
      "==============================================================================\n",
      "Dep. Variable:         product_repeat   R-squared:                       0.161\n",
      "Model:                            OLS   Adj. R-squared:                  0.094\n",
      "Method:                 Least Squares   F-statistic:                     2.395\n",
      "Date:                Thu, 23 Jul 2020   Prob (F-statistic):             0.0123\n",
      "Time:                        10:33:46   Log-Likelihood:                 229.56\n",
      "No. Observations:                 136   AIC:                            -437.1\n",
      "Df Residuals:                     125   BIC:                            -405.1\n",
      "Df Model:                          10                                         \n",
      "Covariance Type:            nonrobust                                         \n",
      "======================================================================================\n",
      "                         coef    std err          t      P>|t|      [0.025      0.975]\n",
      "--------------------------------------------------------------------------------------\n",
      "const                  0.0773      0.015      5.105      0.000       0.047       0.107\n",
      "avg_nb_statements     -0.0004      0.001     -0.605      0.546      -0.002       0.001\n",
      "nb_reviews             0.0011      0.001      1.149      0.253      -0.001       0.003\n",
      "rating                 0.0001      0.001      0.080      0.937      -0.003       0.003\n",
      "rating_1               0.0002      0.001      0.175      0.861      -0.002       0.002\n",
      "rating_2              -0.0002      0.002     -0.096      0.924      -0.004       0.004\n",
      "rating_3              -0.0029      0.001     -2.528      0.013      -0.005      -0.001\n",
      "rating_4               0.0011      0.001      1.387      0.168      -0.000       0.003\n",
      "sentiment_negative     0.0039      0.002      1.615      0.109      -0.001       0.009\n",
      "sentiment_neutral     -0.0015      0.001     -1.801      0.074      -0.003       0.000\n",
      "sentiment_positive    -0.0013      0.001     -1.199      0.233      -0.004       0.001\n",
      "sentiment              0.0014      0.008      0.170      0.865      -0.015       0.018\n",
      "==============================================================================\n",
      "Omnibus:                        6.507   Durbin-Watson:                   1.904\n",
      "Prob(Omnibus):                  0.039   Jarque-Bera (JB):                5.202\n",
      "Skew:                           0.375   Prob(JB):                       0.0742\n",
      "Kurtosis:                       2.403   Cond. No.                     1.99e+16\n",
      "==============================================================================\n",
      "\n",
      "Warnings:\n",
      "[1] Standard Errors assume that the covariance matrix of the errors is correctly specified.\n",
      "[2] The smallest eigenvalue is 1.23e-25. This might indicate that there are\n",
      "strong multicollinearity problems or that the design matrix is singular.\n"
     ]
    }
   ],
   "source": [
    "X2 = sm.add_constant(X_train)\n",
    "est = sm.OLS(y_train, X2)\n",
    "est2 = est.fit()\n",
    "\n",
    "print(est2.summary())"
   ]
  },
  {
   "cell_type": "markdown",
   "metadata": {},
   "source": [
    "For the product repeat rating three is starting to show something. Let's look at sentiment because there's a crazy amount of multicolinearity going on here\n",
    "\n",
    "## Sentiment\n",
    "### Brand Repeat Rate"
   ]
  },
  {
   "cell_type": "code",
   "execution_count": 82,
   "metadata": {},
   "outputs": [],
   "source": [
    "X = merged[['avg_nb_statements','sentiment_negative',\n",
    "       'sentiment_neutral', 'sentiment_positive']]\n",
    "y = merged[\"brand_repeat\"]"
   ]
  },
  {
   "cell_type": "code",
   "execution_count": 83,
   "metadata": {},
   "outputs": [],
   "source": [
    "X_train, X_test, y_train, y_test = train_test_split(X, y, shuffle = True)"
   ]
  },
  {
   "cell_type": "code",
   "execution_count": 84,
   "metadata": {},
   "outputs": [
    {
     "data": {
      "text/plain": [
       "-20.960400566694513"
      ]
     },
     "execution_count": 84,
     "metadata": {},
     "output_type": "execute_result"
    }
   ],
   "source": [
    "lm = LinearRegression()\n",
    "lm.fit(X_train, y_train)\n",
    "pred = lm.predict(X_test)\n",
    "metrics.r2_score(pred, y_test)"
   ]
  },
  {
   "cell_type": "code",
   "execution_count": 85,
   "metadata": {},
   "outputs": [
    {
     "name": "stdout",
     "output_type": "stream",
     "text": [
      "                            OLS Regression Results                            \n",
      "==============================================================================\n",
      "Dep. Variable:           brand_repeat   R-squared:                       0.024\n",
      "Model:                            OLS   Adj. R-squared:                 -0.006\n",
      "Method:                 Least Squares   F-statistic:                    0.8013\n",
      "Date:                Thu, 23 Jul 2020   Prob (F-statistic):              0.526\n",
      "Time:                        10:33:55   Log-Likelihood:                 130.21\n",
      "No. Observations:                 136   AIC:                            -250.4\n",
      "Df Residuals:                     131   BIC:                            -235.9\n",
      "Df Model:                           4                                         \n",
      "Covariance Type:            nonrobust                                         \n",
      "======================================================================================\n",
      "                         coef    std err          t      P>|t|      [0.025      0.975]\n",
      "--------------------------------------------------------------------------------------\n",
      "const                  0.3826      0.024     16.249      0.000       0.336       0.429\n",
      "avg_nb_statements     -0.0003      0.001     -0.456      0.649      -0.002       0.001\n",
      "sentiment_negative     0.0018      0.001      1.322      0.188      -0.001       0.004\n",
      "sentiment_neutral      0.0008      0.002      0.552      0.582      -0.002       0.004\n",
      "sentiment_positive    -0.0004      0.000     -1.360      0.176      -0.001       0.000\n",
      "==============================================================================\n",
      "Omnibus:                       83.079   Durbin-Watson:                   1.916\n",
      "Prob(Omnibus):                  0.000   Jarque-Bera (JB):             1788.995\n",
      "Skew:                           1.567   Prob(JB):                         0.00\n",
      "Kurtosis:                      20.490   Cond. No.                     1.00e+03\n",
      "==============================================================================\n",
      "\n",
      "Warnings:\n",
      "[1] Standard Errors assume that the covariance matrix of the errors is correctly specified.\n",
      "[2] The condition number is large,  1e+03. This might indicate that there are\n",
      "strong multicollinearity or other numerical problems.\n"
     ]
    }
   ],
   "source": [
    "X2 = sm.add_constant(X_train)\n",
    "est = sm.OLS(y_train, X2)\n",
    "est2 = est.fit()\n",
    "\n",
    "print(est2.summary())"
   ]
  },
  {
   "cell_type": "markdown",
   "metadata": {},
   "source": [
    "Nada\n",
    "\n",
    "### Product Repeat Rate"
   ]
  },
  {
   "cell_type": "code",
   "execution_count": 86,
   "metadata": {},
   "outputs": [],
   "source": [
    "X = merged[['avg_nb_statements','sentiment_negative',\n",
    "       'sentiment_neutral', 'sentiment_positive']]\n",
    "y = merged[\"product_repeat\"]"
   ]
  },
  {
   "cell_type": "code",
   "execution_count": 87,
   "metadata": {},
   "outputs": [],
   "source": [
    "X_train, X_test, y_train, y_test = train_test_split(X, y, shuffle = True)"
   ]
  },
  {
   "cell_type": "code",
   "execution_count": 88,
   "metadata": {},
   "outputs": [
    {
     "data": {
      "text/plain": [
       "-18.36543439111686"
      ]
     },
     "execution_count": 88,
     "metadata": {},
     "output_type": "execute_result"
    }
   ],
   "source": [
    "lm = LinearRegression()\n",
    "lm.fit(X_train, y_train)\n",
    "pred = lm.predict(X_test)\n",
    "metrics.r2_score(pred, y_test)"
   ]
  },
  {
   "cell_type": "code",
   "execution_count": 89,
   "metadata": {},
   "outputs": [
    {
     "name": "stdout",
     "output_type": "stream",
     "text": [
      "                            OLS Regression Results                            \n",
      "==============================================================================\n",
      "Dep. Variable:         product_repeat   R-squared:                       0.043\n",
      "Model:                            OLS   Adj. R-squared:                  0.013\n",
      "Method:                 Least Squares   F-statistic:                     1.456\n",
      "Date:                Thu, 23 Jul 2020   Prob (F-statistic):              0.219\n",
      "Time:                        10:34:06   Log-Likelihood:                 217.87\n",
      "No. Observations:                 136   AIC:                            -425.7\n",
      "Df Residuals:                     131   BIC:                            -411.2\n",
      "Df Model:                           4                                         \n",
      "Covariance Type:            nonrobust                                         \n",
      "======================================================================================\n",
      "                         coef    std err          t      P>|t|      [0.025      0.975]\n",
      "--------------------------------------------------------------------------------------\n",
      "const                  0.0873      0.012      7.139      0.000       0.063       0.112\n",
      "avg_nb_statements     -0.0001      0.000     -0.323      0.747      -0.001       0.001\n",
      "sentiment_negative     0.0014      0.001      2.034      0.044    3.83e-05       0.003\n",
      "sentiment_neutral      0.0001      0.001      0.112      0.911      -0.002       0.002\n",
      "sentiment_positive    -0.0002      0.000     -1.048      0.297      -0.001       0.000\n",
      "==============================================================================\n",
      "Omnibus:                       13.512   Durbin-Watson:                   1.987\n",
      "Prob(Omnibus):                  0.001   Jarque-Bera (JB):               14.535\n",
      "Skew:                           0.779   Prob(JB):                     0.000698\n",
      "Kurtosis:                       3.372   Cond. No.                         573.\n",
      "==============================================================================\n",
      "\n",
      "Warnings:\n",
      "[1] Standard Errors assume that the covariance matrix of the errors is correctly specified.\n"
     ]
    }
   ],
   "source": [
    "X2 = sm.add_constant(X_train)\n",
    "est = sm.OLS(y_train, X2)\n",
    "est2 = est.fit()\n",
    "\n",
    "print(est2.summary())"
   ]
  },
  {
   "cell_type": "markdown",
   "metadata": {},
   "source": [
    "Some small effect from sentiment negative, but the sign is wrong. Let's try logging the right hand side of the regression\n",
    "\n",
    "## Logged Features\n",
    "### Brand Repeat"
   ]
  },
  {
   "cell_type": "code",
   "execution_count": 90,
   "metadata": {},
   "outputs": [],
   "source": [
    "X = np.log(merged[['avg_nb_statements','sentiment_negative',\n",
    "       'sentiment_neutral', 'sentiment_positive']] + 1)\n",
    "y = merged[\"brand_repeat\"]"
   ]
  },
  {
   "cell_type": "code",
   "execution_count": 91,
   "metadata": {},
   "outputs": [],
   "source": [
    "X_train, X_test, y_train, y_test = train_test_split(X, y, shuffle = True)"
   ]
  },
  {
   "cell_type": "code",
   "execution_count": 92,
   "metadata": {},
   "outputs": [
    {
     "data": {
      "text/plain": [
       "-112.38797019505233"
      ]
     },
     "execution_count": 92,
     "metadata": {},
     "output_type": "execute_result"
    }
   ],
   "source": [
    "lm = LinearRegression()\n",
    "lm.fit(X_train, y_train)\n",
    "pred = lm.predict(X_test)\n",
    "metrics.r2_score(pred, y_test)"
   ]
  },
  {
   "cell_type": "code",
   "execution_count": 93,
   "metadata": {},
   "outputs": [
    {
     "name": "stdout",
     "output_type": "stream",
     "text": [
      "                            OLS Regression Results                            \n",
      "==============================================================================\n",
      "Dep. Variable:           brand_repeat   R-squared:                       0.018\n",
      "Model:                            OLS   Adj. R-squared:                 -0.011\n",
      "Method:                 Least Squares   F-statistic:                    0.6168\n",
      "Date:                Thu, 23 Jul 2020   Prob (F-statistic):              0.651\n",
      "Time:                        10:34:37   Log-Likelihood:                 148.97\n",
      "No. Observations:                 136   AIC:                            -287.9\n",
      "Df Residuals:                     131   BIC:                            -273.4\n",
      "Df Model:                           4                                         \n",
      "Covariance Type:            nonrobust                                         \n",
      "======================================================================================\n",
      "                         coef    std err          t      P>|t|      [0.025      0.975]\n",
      "--------------------------------------------------------------------------------------\n",
      "const                  0.4382      0.072      6.122      0.000       0.297       0.580\n",
      "avg_nb_statements     -0.0102      0.021     -0.486      0.628      -0.052       0.031\n",
      "sentiment_negative     0.0181      0.017      1.074      0.285      -0.015       0.051\n",
      "sentiment_neutral     -0.0096      0.026     -0.365      0.716      -0.062       0.043\n",
      "sentiment_positive    -0.0113      0.023     -0.501      0.617      -0.056       0.033\n",
      "==============================================================================\n",
      "Omnibus:                       37.955   Durbin-Watson:                   2.134\n",
      "Prob(Omnibus):                  0.000   Jarque-Bera (JB):              217.407\n",
      "Skew:                          -0.762   Prob(JB):                     6.18e-48\n",
      "Kurtosis:                       9.004   Cond. No.                         64.5\n",
      "==============================================================================\n",
      "\n",
      "Warnings:\n",
      "[1] Standard Errors assume that the covariance matrix of the errors is correctly specified.\n"
     ]
    }
   ],
   "source": [
    "X2 = sm.add_constant(X_train)\n",
    "est = sm.OLS(y_train, X2)\n",
    "est2 = est.fit()\n",
    "\n",
    "print(est2.summary())"
   ]
  },
  {
   "cell_type": "markdown",
   "metadata": {},
   "source": [
    "Ummmm...nope\n",
    "\n",
    "### Product Repeat"
   ]
  },
  {
   "cell_type": "code",
   "execution_count": 94,
   "metadata": {},
   "outputs": [],
   "source": [
    "X = np.log(merged[['avg_nb_statements','sentiment_negative',\n",
    "       'sentiment_neutral', 'sentiment_positive']] + 1)\n",
    "y = merged[\"product_repeat\"]"
   ]
  },
  {
   "cell_type": "code",
   "execution_count": 95,
   "metadata": {},
   "outputs": [],
   "source": [
    "X_train, X_test, y_train, y_test = train_test_split(X, y, shuffle = True)"
   ]
  },
  {
   "cell_type": "code",
   "execution_count": 96,
   "metadata": {},
   "outputs": [
    {
     "data": {
      "text/plain": [
       "-26.781944514775276"
      ]
     },
     "execution_count": 96,
     "metadata": {},
     "output_type": "execute_result"
    }
   ],
   "source": [
    "lm = LinearRegression()\n",
    "lm.fit(X_train, y_train)\n",
    "pred = lm.predict(X_test)\n",
    "metrics.r2_score(pred, y_test)"
   ]
  },
  {
   "cell_type": "code",
   "execution_count": 97,
   "metadata": {},
   "outputs": [
    {
     "name": "stdout",
     "output_type": "stream",
     "text": [
      "                            OLS Regression Results                            \n",
      "==============================================================================\n",
      "Dep. Variable:         product_repeat   R-squared:                       0.035\n",
      "Model:                            OLS   Adj. R-squared:                  0.005\n",
      "Method:                 Least Squares   F-statistic:                     1.177\n",
      "Date:                Thu, 23 Jul 2020   Prob (F-statistic):              0.324\n",
      "Time:                        10:34:42   Log-Likelihood:                 215.37\n",
      "No. Observations:                 136   AIC:                            -420.7\n",
      "Df Residuals:                     131   BIC:                            -406.2\n",
      "Df Model:                           4                                         \n",
      "Covariance Type:            nonrobust                                         \n",
      "======================================================================================\n",
      "                         coef    std err          t      P>|t|      [0.025      0.975]\n",
      "--------------------------------------------------------------------------------------\n",
      "const                  0.0901      0.044      2.057      0.042       0.003       0.177\n",
      "avg_nb_statements      0.0078      0.012      0.632      0.528      -0.017       0.032\n",
      "sentiment_negative     0.0210      0.010      2.000      0.048       0.000       0.042\n",
      "sentiment_neutral     -0.0058      0.017     -0.347      0.729      -0.039       0.027\n",
      "sentiment_positive    -0.0153      0.015     -1.038      0.301      -0.045       0.014\n",
      "==============================================================================\n",
      "Omnibus:                       12.318   Durbin-Watson:                   1.966\n",
      "Prob(Omnibus):                  0.002   Jarque-Bera (JB):               13.035\n",
      "Skew:                           0.742   Prob(JB):                      0.00148\n",
      "Kurtosis:                       3.316   Cond. No.                         65.3\n",
      "==============================================================================\n",
      "\n",
      "Warnings:\n",
      "[1] Standard Errors assume that the covariance matrix of the errors is correctly specified.\n"
     ]
    }
   ],
   "source": [
    "X2 = sm.add_constant(X_train)\n",
    "est = sm.OLS(y_train, X2)\n",
    "est2 = est.fit()\n",
    "\n",
    "print(est2.summary())"
   ]
  },
  {
   "cell_type": "markdown",
   "metadata": {},
   "source": [
    "Sentiemnt negative keeps on having a positive coefficent, but I'm not sure what to think of it...the R^2 is crazy low, so I don't want to put stock in that"
   ]
  },
  {
   "cell_type": "code",
   "execution_count": null,
   "metadata": {},
   "outputs": [],
   "source": []
  }
 ],
 "metadata": {
  "kernelspec": {
   "display_name": "Python 3",
   "language": "python",
   "name": "python3"
  },
  "language_info": {
   "codemirror_mode": {
    "name": "ipython",
    "version": 3
   },
   "file_extension": ".py",
   "mimetype": "text/x-python",
   "name": "python",
   "nbconvert_exporter": "python",
   "pygments_lexer": "ipython3",
   "version": "3.7.6"
  }
 },
 "nbformat": 4,
 "nbformat_minor": 4
}
