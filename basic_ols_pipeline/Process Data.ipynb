{
 "cells": [
  {
   "cell_type": "code",
   "execution_count": 1,
   "metadata": {},
   "outputs": [],
   "source": [
    "import pandas as pd\n",
    "import numpy as np\n",
    "import copy as cp"
   ]
  },
  {
   "cell_type": "markdown",
   "metadata": {},
   "source": [
    "## Import and Merge Data"
   ]
  },
  {
   "cell_type": "code",
   "execution_count": 2,
   "metadata": {},
   "outputs": [],
   "source": [
    "onedrive_path = \"C:/Users/cfowle/The Estée Lauder Companies Inc/TeamAnis - General/\""
   ]
  },
  {
   "cell_type": "code",
   "execution_count": 3,
   "metadata": {},
   "outputs": [
    {
     "name": "stderr",
     "output_type": "stream",
     "text": [
      "C:\\Users\\cfowle\\Anaconda3\\lib\\site-packages\\IPython\\core\\interactiveshell.py:3063: DtypeWarning: Columns (6) have mixed types.Specify dtype option on import or set low_memory=False.\n",
      "  interactivity=interactivity, compiler=compiler, result=result)\n"
     ]
    }
   ],
   "source": [
    "reviews = pd.read_csv(onedrive_path + \"Data/Ratings and Reviews/reviews_demand_subcat.csv\")\n",
    "cc      = pd.read_csv(onedrive_path + \"Data/Consumer Care/cc_product_month.csv\")"
   ]
  },
  {
   "cell_type": "code",
   "execution_count": 4,
   "metadata": {},
   "outputs": [
    {
     "name": "stderr",
     "output_type": "stream",
     "text": [
      "C:\\Users\\cfowle\\Anaconda3\\lib\\site-packages\\IPython\\core\\interactiveshell.py:3063: DtypeWarning: Columns (9,12,23,26,28) have mixed types.Specify dtype option on import or set low_memory=False.\n",
      "  interactivity=interactivity, compiler=compiler, result=result)\n"
     ]
    }
   ],
   "source": [
    "products = pd.read_csv(onedrive_path + \"Data/Product/product_codes.csv\")"
   ]
  },
  {
   "cell_type": "code",
   "execution_count": 5,
   "metadata": {},
   "outputs": [
    {
     "name": "stdout",
     "output_type": "stream",
     "text": [
      "136630\n",
      "122187\n"
     ]
    }
   ],
   "source": [
    "print(len(reviews))\n",
    "reviews = reviews.drop([\"item_description\"], axis = 1).drop_duplicates()\n",
    "print(len(reviews))"
   ]
  },
  {
   "cell_type": "code",
   "execution_count": 6,
   "metadata": {},
   "outputs": [],
   "source": [
    "cc = cc.rename(columns = {\"Date Month\": \"date\", \"P4\": \"itemid_4\", \"Brand Clean\": \"elc_brand\"})\n",
    "products = products.rename(columns = {\"P4\": \"itemid_4\", \"brand\": \"elc_brand\", \"SubCategory\":\"sub_category\"})\n",
    "products = products[[\"elc_brand\", \"itemid_4\", 'Major Category', 'Application', 'Category',\n",
    "       'sub_category']].drop_duplicates([\"elc_brand\", \"itemid_4\"])"
   ]
  },
  {
   "cell_type": "code",
   "execution_count": 7,
   "metadata": {},
   "outputs": [],
   "source": [
    "cc_product = cc.merge(products, how = \"left\", on = [\"itemid_4\", \"elc_brand\"])"
   ]
  },
  {
   "cell_type": "code",
   "execution_count": 8,
   "metadata": {},
   "outputs": [],
   "source": [
    "cc_reviews_product = reviews.merge(cc_product, how = \"left\").fillna(0)\n",
    "cc_reviews_product = cc_reviews_product.groupby([\"elc_brand\", \"date\", \"sub_category\"]).sum().reset_index()"
   ]
  },
  {
   "cell_type": "code",
   "execution_count": 9,
   "metadata": {},
   "outputs": [],
   "source": [
    "cc_reviews_product = cc_reviews_product.sort_values(\"date\")"
   ]
  },
  {
   "cell_type": "markdown",
   "metadata": {},
   "source": [
    "## Feature Engineering"
   ]
  },
  {
   "cell_type": "markdown",
   "metadata": {},
   "source": [
    "### Target Encoding"
   ]
  },
  {
   "cell_type": "code",
   "execution_count": 10,
   "metadata": {},
   "outputs": [],
   "source": [
    "subcat_avg = cc_reviews_product.groupby(\"sub_category\")[\"demand\"].rolling(6).mean().reset_index()\n",
    "subcat_avg = subcat_avg.set_index('level_1')\n",
    "cc_reviews_product[\"avg_subcat_demand\"] = subcat_avg['demand']"
   ]
  },
  {
   "cell_type": "code",
   "execution_count": 11,
   "metadata": {},
   "outputs": [],
   "source": [
    "brand_avg = cc_reviews_product.groupby(\"elc_brand\")[\"demand\"].rolling(6).mean().reset_index()\n",
    "brand_avg = brand_avg.set_index('level_1')\n",
    "cc_reviews_product[\"avg_brand_demand\"] = brand_avg['demand']"
   ]
  },
  {
   "cell_type": "code",
   "execution_count": 12,
   "metadata": {},
   "outputs": [],
   "source": [
    "cc_reviews_product[\"month\"] = [x[-2:] for x in cc_reviews_product[\"date\"].values]\n",
    "cc_reviews_product[\"year\"]  = [x[:4] for x in cc_reviews_product[\"date\"].values]"
   ]
  },
  {
   "cell_type": "code",
   "execution_count": 13,
   "metadata": {},
   "outputs": [],
   "source": [
    "month_map = cc_reviews_product.groupby([\"month\", \"year\"])[\"demand\"].mean().reset_index()\n",
    "month_map = month_map.rename(columns = {\"demand\": \"monthly_avg_demand\"})\n",
    "month_map[\"avg_12_month_demand\"] = month_map.rolling(12).mean()[\"monthly_avg_demand\"]"
   ]
  },
  {
   "cell_type": "code",
   "execution_count": 14,
   "metadata": {},
   "outputs": [],
   "source": [
    "cc_reviews_product = cc_reviews_product.merge(month_map)"
   ]
  },
  {
   "cell_type": "markdown",
   "metadata": {},
   "source": [
    "### Relative R&R Data"
   ]
  },
  {
   "cell_type": "code",
   "execution_count": 15,
   "metadata": {},
   "outputs": [],
   "source": [
    "non_customer_data = cc_reviews_product[[\"demand_F1\", \"demand\", \"demand_P2\", \"demand_P1\",\n",
    "                                   \"avg_subcat_demand\", \"monthly_avg_demand\", \"avg_12_month_demand\", \"avg_brand_demand\",\n",
    "                                   \"month\", \"year\"]]"
   ]
  },
  {
   "cell_type": "code",
   "execution_count": 16,
   "metadata": {},
   "outputs": [],
   "source": [
    "relative_data = cp.deepcopy(non_customer_data)\n",
    "subcat = cc_reviews_product ##just here so I can copy some old code easily"
   ]
  },
  {
   "cell_type": "code",
   "execution_count": 17,
   "metadata": {},
   "outputs": [],
   "source": [
    "relative_data[\"percent_1\"] = subcat[\"rating_1\"]/subcat[\"nb_reviews\"]\n",
    "relative_data[\"percent_2\"] = subcat[\"rating_2\"]/subcat[\"nb_reviews\"]\n",
    "relative_data[\"percent_3\"] = subcat[\"rating_3\"]/subcat[\"nb_reviews\"]\n",
    "relative_data[\"percent_4\"] = subcat[\"rating_4\"]/subcat[\"nb_reviews\"]\n",
    "relative_data[\"percent_5\"] = subcat[\"rating_5\"]/subcat[\"nb_reviews\"]"
   ]
  },
  {
   "cell_type": "code",
   "execution_count": 18,
   "metadata": {},
   "outputs": [],
   "source": [
    "relative_data[\"percent_negative\"] = subcat['sentiment_negative']/subcat[\"nb_reviews\"]\n",
    "relative_data[\"percent_neutral\"] = subcat['sentiment_neutral']/subcat[\"nb_reviews\"]\n",
    "relative_data[\"percent_positive\"] = subcat['sentiment_positive']/subcat[\"nb_reviews\"]"
   ]
  },
  {
   "cell_type": "code",
   "execution_count": 19,
   "metadata": {},
   "outputs": [],
   "source": [
    "relative_data = relative_data.fillna(0)"
   ]
  },
  {
   "cell_type": "code",
   "execution_count": 20,
   "metadata": {},
   "outputs": [
    {
     "data": {
      "text/html": [
       "<div>\n",
       "<style scoped>\n",
       "    .dataframe tbody tr th:only-of-type {\n",
       "        vertical-align: middle;\n",
       "    }\n",
       "\n",
       "    .dataframe tbody tr th {\n",
       "        vertical-align: top;\n",
       "    }\n",
       "\n",
       "    .dataframe thead th {\n",
       "        text-align: right;\n",
       "    }\n",
       "</style>\n",
       "<table border=\"1\" class=\"dataframe\">\n",
       "  <thead>\n",
       "    <tr style=\"text-align: right;\">\n",
       "      <th></th>\n",
       "      <th>demand_F1</th>\n",
       "      <th>demand</th>\n",
       "      <th>demand_P2</th>\n",
       "      <th>demand_P1</th>\n",
       "      <th>avg_subcat_demand</th>\n",
       "      <th>monthly_avg_demand</th>\n",
       "      <th>avg_12_month_demand</th>\n",
       "      <th>avg_brand_demand</th>\n",
       "      <th>month</th>\n",
       "      <th>year</th>\n",
       "      <th>percent_1</th>\n",
       "      <th>percent_2</th>\n",
       "      <th>percent_3</th>\n",
       "      <th>percent_4</th>\n",
       "      <th>percent_5</th>\n",
       "      <th>percent_negative</th>\n",
       "      <th>percent_neutral</th>\n",
       "      <th>percent_positive</th>\n",
       "    </tr>\n",
       "  </thead>\n",
       "  <tbody>\n",
       "    <tr>\n",
       "      <th>0</th>\n",
       "      <td>195.0</td>\n",
       "      <td>0</td>\n",
       "      <td>0.0</td>\n",
       "      <td>0.0</td>\n",
       "      <td>0.000000</td>\n",
       "      <td>25517.980220</td>\n",
       "      <td>33970.711538</td>\n",
       "      <td>0.000000</td>\n",
       "      <td>12</td>\n",
       "      <td>2014</td>\n",
       "      <td>0.000000</td>\n",
       "      <td>0.000000</td>\n",
       "      <td>0.000000</td>\n",
       "      <td>0.000000</td>\n",
       "      <td>0.000000</td>\n",
       "      <td>0.000000</td>\n",
       "      <td>0.000000</td>\n",
       "      <td>0.000000</td>\n",
       "    </tr>\n",
       "    <tr>\n",
       "      <th>1</th>\n",
       "      <td>1349.0</td>\n",
       "      <td>2342</td>\n",
       "      <td>1889.0</td>\n",
       "      <td>954.0</td>\n",
       "      <td>0.000000</td>\n",
       "      <td>25517.980220</td>\n",
       "      <td>33970.711538</td>\n",
       "      <td>0.000000</td>\n",
       "      <td>12</td>\n",
       "      <td>2014</td>\n",
       "      <td>0.000000</td>\n",
       "      <td>0.000000</td>\n",
       "      <td>0.000000</td>\n",
       "      <td>0.000000</td>\n",
       "      <td>0.000000</td>\n",
       "      <td>0.000000</td>\n",
       "      <td>0.000000</td>\n",
       "      <td>0.000000</td>\n",
       "    </tr>\n",
       "    <tr>\n",
       "      <th>2</th>\n",
       "      <td>1601.0</td>\n",
       "      <td>1882</td>\n",
       "      <td>2091.0</td>\n",
       "      <td>1999.0</td>\n",
       "      <td>0.000000</td>\n",
       "      <td>25517.980220</td>\n",
       "      <td>33970.711538</td>\n",
       "      <td>0.000000</td>\n",
       "      <td>12</td>\n",
       "      <td>2014</td>\n",
       "      <td>0.000000</td>\n",
       "      <td>0.000000</td>\n",
       "      <td>1.000000</td>\n",
       "      <td>0.000000</td>\n",
       "      <td>0.000000</td>\n",
       "      <td>0.333333</td>\n",
       "      <td>0.000000</td>\n",
       "      <td>0.666667</td>\n",
       "    </tr>\n",
       "    <tr>\n",
       "      <th>3</th>\n",
       "      <td>10197.0</td>\n",
       "      <td>4214</td>\n",
       "      <td>5703.0</td>\n",
       "      <td>8153.0</td>\n",
       "      <td>0.000000</td>\n",
       "      <td>25517.980220</td>\n",
       "      <td>33970.711538</td>\n",
       "      <td>0.000000</td>\n",
       "      <td>12</td>\n",
       "      <td>2014</td>\n",
       "      <td>0.000000</td>\n",
       "      <td>0.000000</td>\n",
       "      <td>0.000000</td>\n",
       "      <td>0.000000</td>\n",
       "      <td>1.000000</td>\n",
       "      <td>0.222222</td>\n",
       "      <td>0.333333</td>\n",
       "      <td>0.444444</td>\n",
       "    </tr>\n",
       "    <tr>\n",
       "      <th>4</th>\n",
       "      <td>80873.0</td>\n",
       "      <td>112232</td>\n",
       "      <td>95013.0</td>\n",
       "      <td>91494.0</td>\n",
       "      <td>0.000000</td>\n",
       "      <td>25517.980220</td>\n",
       "      <td>33970.711538</td>\n",
       "      <td>0.000000</td>\n",
       "      <td>12</td>\n",
       "      <td>2014</td>\n",
       "      <td>0.090909</td>\n",
       "      <td>0.000000</td>\n",
       "      <td>0.000000</td>\n",
       "      <td>0.060606</td>\n",
       "      <td>0.848485</td>\n",
       "      <td>0.051178</td>\n",
       "      <td>0.115733</td>\n",
       "      <td>0.833088</td>\n",
       "    </tr>\n",
       "    <tr>\n",
       "      <th>...</th>\n",
       "      <td>...</td>\n",
       "      <td>...</td>\n",
       "      <td>...</td>\n",
       "      <td>...</td>\n",
       "      <td>...</td>\n",
       "      <td>...</td>\n",
       "      <td>...</td>\n",
       "      <td>...</td>\n",
       "      <td>...</td>\n",
       "      <td>...</td>\n",
       "      <td>...</td>\n",
       "      <td>...</td>\n",
       "      <td>...</td>\n",
       "      <td>...</td>\n",
       "      <td>...</td>\n",
       "      <td>...</td>\n",
       "      <td>...</td>\n",
       "      <td>...</td>\n",
       "    </tr>\n",
       "    <tr>\n",
       "      <th>29570</th>\n",
       "      <td>3372.0</td>\n",
       "      <td>3933</td>\n",
       "      <td>5084.0</td>\n",
       "      <td>9414.0</td>\n",
       "      <td>712.500000</td>\n",
       "      <td>6170.356044</td>\n",
       "      <td>27236.066300</td>\n",
       "      <td>3815.833333</td>\n",
       "      <td>04</td>\n",
       "      <td>2020</td>\n",
       "      <td>0.000000</td>\n",
       "      <td>0.000000</td>\n",
       "      <td>0.000000</td>\n",
       "      <td>0.000000</td>\n",
       "      <td>0.000000</td>\n",
       "      <td>0.000000</td>\n",
       "      <td>0.000000</td>\n",
       "      <td>0.000000</td>\n",
       "    </tr>\n",
       "    <tr>\n",
       "      <th>29571</th>\n",
       "      <td>1826.0</td>\n",
       "      <td>153</td>\n",
       "      <td>1086.0</td>\n",
       "      <td>3131.0</td>\n",
       "      <td>2240.500000</td>\n",
       "      <td>6170.356044</td>\n",
       "      <td>27236.066300</td>\n",
       "      <td>3841.333333</td>\n",
       "      <td>04</td>\n",
       "      <td>2020</td>\n",
       "      <td>0.000000</td>\n",
       "      <td>0.000000</td>\n",
       "      <td>0.000000</td>\n",
       "      <td>0.000000</td>\n",
       "      <td>0.000000</td>\n",
       "      <td>0.000000</td>\n",
       "      <td>0.000000</td>\n",
       "      <td>0.000000</td>\n",
       "    </tr>\n",
       "    <tr>\n",
       "      <th>29572</th>\n",
       "      <td>0.0</td>\n",
       "      <td>0</td>\n",
       "      <td>0.0</td>\n",
       "      <td>0.0</td>\n",
       "      <td>712.500000</td>\n",
       "      <td>6170.356044</td>\n",
       "      <td>27236.066300</td>\n",
       "      <td>3652.833333</td>\n",
       "      <td>04</td>\n",
       "      <td>2020</td>\n",
       "      <td>0.000000</td>\n",
       "      <td>0.000000</td>\n",
       "      <td>0.000000</td>\n",
       "      <td>0.000000</td>\n",
       "      <td>0.000000</td>\n",
       "      <td>0.000000</td>\n",
       "      <td>0.000000</td>\n",
       "      <td>0.000000</td>\n",
       "    </tr>\n",
       "    <tr>\n",
       "      <th>29573</th>\n",
       "      <td>4562.0</td>\n",
       "      <td>2493</td>\n",
       "      <td>23632.0</td>\n",
       "      <td>31641.0</td>\n",
       "      <td>14607.666667</td>\n",
       "      <td>6170.356044</td>\n",
       "      <td>27236.066300</td>\n",
       "      <td>680.333333</td>\n",
       "      <td>04</td>\n",
       "      <td>2020</td>\n",
       "      <td>0.022727</td>\n",
       "      <td>0.090909</td>\n",
       "      <td>0.022727</td>\n",
       "      <td>0.045455</td>\n",
       "      <td>0.818182</td>\n",
       "      <td>0.021970</td>\n",
       "      <td>0.098864</td>\n",
       "      <td>0.879167</td>\n",
       "    </tr>\n",
       "    <tr>\n",
       "      <th>29574</th>\n",
       "      <td>405.0</td>\n",
       "      <td>246</td>\n",
       "      <td>1215.0</td>\n",
       "      <td>837.0</td>\n",
       "      <td>24632.166667</td>\n",
       "      <td>6170.356044</td>\n",
       "      <td>27236.066300</td>\n",
       "      <td>896.833333</td>\n",
       "      <td>04</td>\n",
       "      <td>2020</td>\n",
       "      <td>0.000000</td>\n",
       "      <td>0.000000</td>\n",
       "      <td>0.000000</td>\n",
       "      <td>0.000000</td>\n",
       "      <td>1.000000</td>\n",
       "      <td>0.071429</td>\n",
       "      <td>0.100000</td>\n",
       "      <td>0.828571</td>\n",
       "    </tr>\n",
       "  </tbody>\n",
       "</table>\n",
       "<p>29575 rows × 18 columns</p>\n",
       "</div>"
      ],
      "text/plain": [
       "       demand_F1  demand  demand_P2  demand_P1  avg_subcat_demand  \\\n",
       "0          195.0       0        0.0        0.0           0.000000   \n",
       "1         1349.0    2342     1889.0      954.0           0.000000   \n",
       "2         1601.0    1882     2091.0     1999.0           0.000000   \n",
       "3        10197.0    4214     5703.0     8153.0           0.000000   \n",
       "4        80873.0  112232    95013.0    91494.0           0.000000   \n",
       "...          ...     ...        ...        ...                ...   \n",
       "29570     3372.0    3933     5084.0     9414.0         712.500000   \n",
       "29571     1826.0     153     1086.0     3131.0        2240.500000   \n",
       "29572        0.0       0        0.0        0.0         712.500000   \n",
       "29573     4562.0    2493    23632.0    31641.0       14607.666667   \n",
       "29574      405.0     246     1215.0      837.0       24632.166667   \n",
       "\n",
       "       monthly_avg_demand  avg_12_month_demand  avg_brand_demand month  year  \\\n",
       "0            25517.980220         33970.711538          0.000000    12  2014   \n",
       "1            25517.980220         33970.711538          0.000000    12  2014   \n",
       "2            25517.980220         33970.711538          0.000000    12  2014   \n",
       "3            25517.980220         33970.711538          0.000000    12  2014   \n",
       "4            25517.980220         33970.711538          0.000000    12  2014   \n",
       "...                   ...                  ...               ...   ...   ...   \n",
       "29570         6170.356044         27236.066300       3815.833333    04  2020   \n",
       "29571         6170.356044         27236.066300       3841.333333    04  2020   \n",
       "29572         6170.356044         27236.066300       3652.833333    04  2020   \n",
       "29573         6170.356044         27236.066300        680.333333    04  2020   \n",
       "29574         6170.356044         27236.066300        896.833333    04  2020   \n",
       "\n",
       "       percent_1  percent_2  percent_3  percent_4  percent_5  \\\n",
       "0       0.000000   0.000000   0.000000   0.000000   0.000000   \n",
       "1       0.000000   0.000000   0.000000   0.000000   0.000000   \n",
       "2       0.000000   0.000000   1.000000   0.000000   0.000000   \n",
       "3       0.000000   0.000000   0.000000   0.000000   1.000000   \n",
       "4       0.090909   0.000000   0.000000   0.060606   0.848485   \n",
       "...          ...        ...        ...        ...        ...   \n",
       "29570   0.000000   0.000000   0.000000   0.000000   0.000000   \n",
       "29571   0.000000   0.000000   0.000000   0.000000   0.000000   \n",
       "29572   0.000000   0.000000   0.000000   0.000000   0.000000   \n",
       "29573   0.022727   0.090909   0.022727   0.045455   0.818182   \n",
       "29574   0.000000   0.000000   0.000000   0.000000   1.000000   \n",
       "\n",
       "       percent_negative  percent_neutral  percent_positive  \n",
       "0              0.000000         0.000000          0.000000  \n",
       "1              0.000000         0.000000          0.000000  \n",
       "2              0.333333         0.000000          0.666667  \n",
       "3              0.222222         0.333333          0.444444  \n",
       "4              0.051178         0.115733          0.833088  \n",
       "...                 ...              ...               ...  \n",
       "29570          0.000000         0.000000          0.000000  \n",
       "29571          0.000000         0.000000          0.000000  \n",
       "29572          0.000000         0.000000          0.000000  \n",
       "29573          0.021970         0.098864          0.879167  \n",
       "29574          0.071429         0.100000          0.828571  \n",
       "\n",
       "[29575 rows x 18 columns]"
      ]
     },
     "execution_count": 20,
     "metadata": {},
     "output_type": "execute_result"
    }
   ],
   "source": [
    "relative_data"
   ]
  },
  {
   "cell_type": "code",
   "execution_count": 21,
   "metadata": {},
   "outputs": [],
   "source": [
    "relative_data.to_csv(onedrive_path + \"Data/Combined/relative_rr_data_w_target_encodings.csv\")"
   ]
  },
  {
   "cell_type": "markdown",
   "metadata": {},
   "source": [
    "### Relative CC Data"
   ]
  },
  {
   "cell_type": "code",
   "execution_count": 22,
   "metadata": {},
   "outputs": [],
   "source": [
    "full_relative_data = cp.deepcopy(relative_data)\n",
    "subcat[\"cc_tot\"] = subcat['Complaints'] + subcat['Compliments'] + subcat['Questions'] + subcat['Suggestions']\n",
    "cc_counts = cc.drop(['Product Code', 'itemid_4', 'elc_brand', \"date\"], axis = 1).columns"
   ]
  },
  {
   "cell_type": "code",
   "execution_count": 23,
   "metadata": {},
   "outputs": [],
   "source": [
    "for col in cc_counts:\n",
    "    full_relative_data[\"percent_\" + col] = subcat[col]/subcat[\"cc_tot\"]"
   ]
  },
  {
   "cell_type": "code",
   "execution_count": 24,
   "metadata": {},
   "outputs": [],
   "source": [
    "full_relative_data = full_relative_data.fillna(0)"
   ]
  },
  {
   "cell_type": "code",
   "execution_count": 25,
   "metadata": {},
   "outputs": [],
   "source": [
    "full_relative_data.to_csv(onedrive_path + \"Data/Combined/relative_rr_cc_data_w_target_encodings.csv\")"
   ]
  }
 ],
 "metadata": {
  "kernelspec": {
   "display_name": "Python 3",
   "language": "python",
   "name": "python3"
  },
  "language_info": {
   "codemirror_mode": {
    "name": "ipython",
    "version": 3
   },
   "file_extension": ".py",
   "mimetype": "text/x-python",
   "name": "python",
   "nbconvert_exporter": "python",
   "pygments_lexer": "ipython3",
   "version": "3.7.6"
  }
 },
 "nbformat": 4,
 "nbformat_minor": 4
}
