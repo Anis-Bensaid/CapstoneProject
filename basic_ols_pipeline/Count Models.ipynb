{
 "cells": [
  {
   "cell_type": "code",
   "execution_count": 1,
   "metadata": {},
   "outputs": [],
   "source": [
    "import pandas as pd\n",
    "import numpy as np\n",
    "import copy as cp\n",
    "\n",
    "import statsmodels.api as sm\n",
    "import matplotlib.pyplot as plt\n",
    "\n",
    "import sklearn.metrics as metrics\n",
    "\n",
    "from sklearn.linear_model import LinearRegression, ElasticNetCV\n",
    "from sklearn.model_selection import train_test_split, RandomizedSearchCV\n",
    "from sklearn.preprocessing import StandardScaler\n",
    "from sklearn.decomposition import PCA\n",
    "from sklearn.tree import DecisionTreeRegressor\n",
    "from sklearn.ensemble import RandomForestRegressor\n",
    "\n",
    "from xgboost.sklearn import XGBRegressor\n",
    "\n",
    "from heatmap import heatmap, corrplot"
   ]
  },
  {
   "cell_type": "code",
   "execution_count": 2,
   "metadata": {},
   "outputs": [],
   "source": [
    "onedrive_path = \"C:/Users/cfowle/The Estée Lauder Companies Inc/TeamAnis - General/\""
   ]
  },
  {
   "cell_type": "code",
   "execution_count": 4,
   "metadata": {},
   "outputs": [],
   "source": [
    "counts = pd.read_csv(onedrive_path + \"Output/2020_07_06_to_rama/counts.csv\")"
   ]
  },
  {
   "cell_type": "code",
   "execution_count": 30,
   "metadata": {},
   "outputs": [],
   "source": [
    "counts = counts.loc[counts[\"demand\"] > 0]\n",
    "counts = counts.loc[counts[\"nb_reviews\"] > 0]\n",
    "counts = counts.sort_values(\"month\")"
   ]
  },
  {
   "cell_type": "code",
   "execution_count": 13,
   "metadata": {},
   "outputs": [
    {
     "name": "stdout",
     "output_type": "stream",
     "text": [
      "Unnamed: 0\n",
      "elc_brand\n",
      "date\n",
      "sub_category\n",
      "major_category_id\n",
      "avg_nb_statements\n",
      "nb_reviews\n",
      "rating\n",
      "rating_1\n",
      "rating_2\n",
      "rating_3\n",
      "rating_4\n",
      "rating_5\n",
      "sentiment_negative\n",
      "sentiment_neutral\n",
      "sentiment_positive\n",
      "sentiment\n",
      "demand_P1\n",
      "demand_P2\n",
      "demand\n",
      "demand_F1\n",
      "demand_F2\n",
      "Complaints\n",
      "Compliments\n",
      "Questions\n",
      "Suggestions\n",
      "Complaints_Availability_GBNF\n",
      "Complaints_Availability_Location\n",
      "Complaints_Availability_Product Availability\n",
      "Complaints_Corporate_ELC\n",
      "Complaints_Corporate_Environmental\n",
      "Complaints_Corporate_Pricing\n",
      "Complaints_Corporate_Privacy\n",
      "Complaints_Corporate_Testing\n",
      "Complaints_Corporate_Unauthorized Account\n",
      "Complaints_Formula / Ingredients_Formula\n",
      "Complaints_Marketing & PR_Advertising\n",
      "Complaints_Marketing & PR_Back To M.A.C\n",
      "Complaints_Marketing & PR_Brand Program\n",
      "Complaints_Marketing & PR_Loyalty\n",
      "Complaints_Marketing & PR_Marketing General\n",
      "Complaints_Marketing & PR_Promotions/GWP/PWP\n",
      "Complaints_Order_Availability\n",
      "Complaints_Order_Delivery\n",
      "Complaints_Order_Options/Status\n",
      "Complaints_Order_Returns\n",
      "Complaints_Product_Accidental Damage\n",
      "Complaints_Product_Alleged Adverse Event\n",
      "Complaints_Product_Color\n",
      "Complaints_Product_Consistency\n",
      "Complaints_Product_Foreign Material\n",
      "Complaints_Product_Packaging\n",
      "Complaints_Product_Performance\n",
      "Complaints_Product_Scent\n",
      "Complaints_Product_Usage Related\n",
      "Complaints_Service_Ask an Artist\n",
      "Complaints_Service_Consumer Services Advisor\n",
      "Complaints_Service_Location\n",
      "Complaints_Service_Miscellaneous\n",
      "Complaints_Website_Offer Codes\n",
      "Complaints_Website_Website functionality\n",
      "Compliments_Corporate_nan\n",
      "Compliments_Product_Performance\n",
      "Compliments_Product_Scent\n",
      "Compliments_Service_Ask an Artist\n",
      "Compliments_Service_Consumer Services Advisor\n",
      "Compliments_Service_Location\n",
      "Questions_Availability_GBNF\n",
      "Questions_Availability_Where To Buy\n",
      "Questions_Corporate_BCRF\n",
      "Questions_Corporate_Charitable Contribution\n",
      "Questions_Corporate_Distribution\n",
      "Questions_Corporate_ELC\n",
      "Questions_Corporate_Environmental\n",
      "Questions_Corporate_Manufacturing\n",
      "Questions_Corporate_Privacy\n",
      "Questions_Corporate_Safety\n",
      "Questions_Corporate_Testing\n",
      "Questions_Formula / Ingredients_Allergens\n",
      "Questions_Formula / Ingredients_Animal\n",
      "Questions_Formula / Ingredients_Chemicals\n",
      "Questions_Formula / Ingredients_Colorants\n",
      "Questions_Formula / Ingredients_Formula\n",
      "Questions_Formula / Ingredients_Fragrance\n",
      "Questions_Formula / Ingredients_Oils and Naturals\n",
      "Questions_Formula / Ingredients_Other\n",
      "Questions_Formula / Ingredients_Plastics\n",
      "Questions_Formula / Ingredients_Sunscreen\n",
      "Questions_Formula / Ingredients_Vitamins\n",
      "Questions_Marketing & PR_Advertising\n",
      "Questions_Marketing & PR_Back To M.A.C\n",
      "Questions_Marketing & PR_Brand Program\n",
      "Questions_Marketing & PR_Loyalty\n",
      "Questions_Marketing & PR_Marketing General\n",
      "Questions_Marketing & PR_Promotions/GWP/PWP\n",
      "Questions_Order_Corporate Related Enquiry\n",
      "Questions_Order_Corporate Related Orders\n",
      "Questions_Order_Delivery\n",
      "Questions_Order_MAIL ORDER\n",
      "Questions_Order_Options/Status\n",
      "Questions_Order_Returns\n",
      "Questions_Product_General\n",
      "Questions_Product_Packaging\n",
      "Questions_Product_Performance\n",
      "Questions_Product_Usage Related\n",
      "Questions_Service_Location\n",
      "Questions_Service_Miscellaneous\n",
      "Questions_Website_Offer Codes\n",
      "Questions_Website_Website functionality\n",
      "Suggestions_Suggestion_Miscellaneous\n",
      "avg_subcat_demand\n",
      "avg_brand_demand\n",
      "month\n",
      "year\n",
      "monthly_avg_demand\n",
      "avg_12_month_demand\n"
     ]
    }
   ],
   "source": [
    "for col in counts.columns:\n",
    "    print(col)"
   ]
  },
  {
   "cell_type": "code",
   "execution_count": 31,
   "metadata": {},
   "outputs": [],
   "source": [
    "counts_selected = counts[[\"avg_subcat_demand\", \"avg_brand_demand\", \"month\", \"year\", \"monthly_avg_demand\", \n",
    "                          \"avg_12_month_demand\", \"rating\", \"rating_1\", \"rating_2\", \"rating_3\", \"rating_4\", \n",
    "                          \"rating_5\", \"sentiment_negative\", \"sentiment_neutral\", \"sentiment_positive\", \"sentiment\",\n",
    "                          \"demand_P1\", \"demand_P2\", \"demand\", \"demand_F1\", \"Complaints\", \"Compliments\", \"Questions\",\n",
    "                          \"Suggestions\"]].dropna()"
   ]
  },
  {
   "cell_type": "code",
   "execution_count": 32,
   "metadata": {},
   "outputs": [],
   "source": [
    "y = counts_selected.pop(\"demand_F1\")"
   ]
  },
  {
   "cell_type": "code",
   "execution_count": 33,
   "metadata": {},
   "outputs": [],
   "source": [
    "X = StandardScaler().fit_transform(counts_selected)"
   ]
  },
  {
   "cell_type": "code",
   "execution_count": 34,
   "metadata": {},
   "outputs": [
    {
     "data": {
      "text/plain": [
       "Text(0, 0.5, 'cumulative explained variance')"
      ]
     },
     "execution_count": 34,
     "metadata": {},
     "output_type": "execute_result"
    },
    {
     "data": {
      "image/png": "[encoded data removed]",
      "text/plain": [
       "<Figure size 432x288 with 1 Axes>"
      ]
     },
     "metadata": {
      "needs_background": "light"
     },
     "output_type": "display_data"
    }
   ],
   "source": [
    "pca = PCA().fit(X)\n",
    "plt.plot(pca.explained_variance_ratio_)\n",
    "plt.xlabel('number of components')\n",
    "plt.ylabel('cumulative explained variance')"
   ]
  },
  {
   "cell_type": "code",
   "execution_count": 35,
   "metadata": {},
   "outputs": [],
   "source": [
    "pca = PCA(n_components=4)\n",
    "principalComponents = pca.fit_transform(X)\n",
    "principalDf = pd.DataFrame(data = principalComponents)"
   ]
  },
  {
   "cell_type": "code",
   "execution_count": 36,
   "metadata": {},
   "outputs": [],
   "source": [
    "X_train, X_test, y_train, y_test = train_test_split(principalDf, y, shuffle = False)"
   ]
  },
  {
   "cell_type": "code",
   "execution_count": 37,
   "metadata": {},
   "outputs": [
    {
     "data": {
      "text/plain": [
       "0.7136011757931674"
      ]
     },
     "execution_count": 37,
     "metadata": {},
     "output_type": "execute_result"
    }
   ],
   "source": [
    "lm = LinearRegression()\n",
    "lm.fit(X_train, y_train)\n",
    "pred = lm.predict(X_test)\n",
    "metrics.r2_score(pred, y_test)"
   ]
  },
  {
   "cell_type": "code",
   "execution_count": 38,
   "metadata": {
    "scrolled": true
   },
   "outputs": [
    {
     "name": "stdout",
     "output_type": "stream",
     "text": [
      "                            OLS Regression Results                            \n",
      "==============================================================================\n",
      "Dep. Variable:                      y   R-squared:                       0.753\n",
      "Model:                            OLS   Adj. R-squared:                  0.753\n",
      "Method:                 Least Squares   F-statistic:                     5814.\n",
      "Date:                Tue, 07 Jul 2020   Prob (F-statistic):               0.00\n",
      "Time:                        11:01:39   Log-Likelihood:                -98860.\n",
      "No. Observations:                7638   AIC:                         1.977e+05\n",
      "Df Residuals:                    7633   BIC:                         1.978e+05\n",
      "Df Model:                           4                                         \n",
      "Covariance Type:            nonrobust                                         \n",
      "==============================================================================\n",
      "                 coef    std err          t      P>|t|      [0.025      0.975]\n",
      "------------------------------------------------------------------------------\n",
      "const       7.329e+04   1330.037     55.100      0.000    7.07e+04    7.59e+04\n",
      "0            5.01e+04    395.518    126.666      0.000    4.93e+04    5.09e+04\n",
      "1          -5.336e+04    686.223    -77.764      0.000   -5.47e+04    -5.2e+04\n",
      "2          -7174.3640   1076.321     -6.666      0.000   -9284.250   -5064.478\n",
      "3           3.317e+04   1112.224     29.827      0.000     3.1e+04    3.54e+04\n",
      "==============================================================================\n",
      "Omnibus:                     8700.250   Durbin-Watson:                   1.846\n",
      "Prob(Omnibus):                  0.000   Jarque-Bera (JB):          3595065.841\n",
      "Skew:                           5.350   Prob(JB):                         0.00\n",
      "Kurtosis:                     108.744   Cond. No.                         3.94\n",
      "==============================================================================\n",
      "\n",
      "Warnings:\n",
      "[1] Standard Errors assume that the covariance matrix of the errors is correctly specified.\n"
     ]
    }
   ],
   "source": [
    "X2 = sm.add_constant(X_train)\n",
    "est = sm.OLS(y_train.values, X2)\n",
    "est2 = est.fit()\n",
    "\n",
    "print(est2.summary())"
   ]
  },
  {
   "cell_type": "code",
   "execution_count": 39,
   "metadata": {},
   "outputs": [
    {
     "name": "stdout",
     "output_type": "stream",
     "text": [
      "Feature 0 , Explains 9.521664365659232\n",
      "                    0                    1\n",
      "0   sentiment_neutral  0.29635228005869235\n",
      "1            rating_5     0.29366798647256\n",
      "2  sentiment_positive   0.2894997027907376\n",
      "3  sentiment_negative   0.2852725090819049\n",
      "4            rating_1  0.25812961095935033\n",
      "Feature 1 , Explains 3.167893130804979\n",
      "                    0                    1\n",
      "0            rating_3   0.3233171695209387\n",
      "1            rating_4  0.30764428935306076\n",
      "2            rating_2  0.23575639943515989\n",
      "3  sentiment_negative  0.23465783672678356\n",
      "4  sentiment_positive   0.2158899752549769\n",
      "Feature 2 , Explains 1.7658883008550244\n",
      "                     0                     1\n",
      "0  avg_12_month_demand    0.6287742098819212\n",
      "1                month    0.5801863494524759\n",
      "2   monthly_avg_demand    0.4844968274586185\n",
      "3                 year    0.0808678214064756\n",
      "4     avg_brand_demand  0.057330566787851894\n",
      "Feature 3 , Explains 1.2857989423403633\n",
      "                   0                    1\n",
      "0              month   0.3894346106763018\n",
      "1             demand    0.143689486300564\n",
      "2          demand_P1  0.14277526347690017\n",
      "3          demand_P2  0.13973254705715615\n",
      "4  avg_subcat_demand  0.05530949727941229\n"
     ]
    }
   ],
   "source": [
    "for i,x in enumerate(pca.components_):\n",
    "    print(\"Feature \" + str(i), \", Explains \" + str(pca.explained_variance_[i]))\n",
    "    top = x.argsort()[-5:][::-1]\n",
    "    table = [list(counts_selected.columns[top]), x[top]]\n",
    "    df = pd.DataFrame(np.transpose(table))\n",
    "    print(df)"
   ]
  },
  {
   "cell_type": "markdown",
   "metadata": {},
   "source": [
    "## Let's try making PCA features for demand & sentiment seperately"
   ]
  },
  {
   "cell_type": "code",
   "execution_count": 40,
   "metadata": {},
   "outputs": [],
   "source": [
    "demand_features = counts_selected[[\"avg_subcat_demand\", \"avg_brand_demand\", \"month\", \"year\", \"monthly_avg_demand\", \n",
    "                    \"avg_12_month_demand\",\"demand_P1\", \"demand_P2\", \"demand\"]]\n",
    "sentiment_features = counts_selected[[ \"month\", \"year\", \"rating\", \"rating_1\", \"rating_2\", \"rating_3\", \"rating_4\", \n",
    "                          \"rating_5\", \"sentiment_negative\", \"sentiment_neutral\", \"sentiment_positive\", \"sentiment\",\n",
    "                                      \"Complaints\", \"Compliments\", \"Questions\", \"Suggestions\"]]\n"
   ]
  },
  {
   "cell_type": "code",
   "execution_count": 64,
   "metadata": {},
   "outputs": [],
   "source": [
    "X = StandardScaler().fit_transform(demand_features)"
   ]
  },
  {
   "cell_type": "code",
   "execution_count": 65,
   "metadata": {},
   "outputs": [
    {
     "data": {
      "text/plain": [
       "Text(0, 0.5, 'cumulative explained variance')"
      ]
     },
     "execution_count": 65,
     "metadata": {},
     "output_type": "execute_result"
    },
    {
     "data": {
      "image/png": "[encoded data removed]",
      "text/plain": [
       "<Figure size 432x288 with 1 Axes>"
      ]
     },
     "metadata": {
      "needs_background": "light"
     },
     "output_type": "display_data"
    }
   ],
   "source": [
    "pca = PCA().fit(X)\n",
    "plt.plot(pca.explained_variance_ratio_)\n",
    "plt.xlabel('number of components')\n",
    "plt.ylabel('cumulative explained variance')"
   ]
  },
  {
   "cell_type": "code",
   "execution_count": 66,
   "metadata": {},
   "outputs": [],
   "source": [
    "pca = PCA(n_components=3)\n",
    "principalComponents = pca.fit_transform(X)\n",
    "demand_comp = pd.DataFrame(data = principalComponents)"
   ]
  },
  {
   "cell_type": "code",
   "execution_count": 67,
   "metadata": {},
   "outputs": [
    {
     "name": "stdout",
     "output_type": "stream",
     "text": [
      "Feature 0 , Explains 3.450473975635865\n",
      "                   0                    1\n",
      "0             demand    0.506914392562998\n",
      "1          demand_P1  0.49602617635302093\n",
      "2          demand_P2  0.48518384387942404\n",
      "3  avg_subcat_demand   0.3617723331816796\n",
      "4   avg_brand_demand   0.3366806560102103\n",
      "Feature 1 , Explains 1.758247322326054\n",
      "                   0                      1\n",
      "0          demand_P2    0.09386173169842056\n",
      "1          demand_P1    0.08986742767803474\n",
      "2             demand    0.08173713841143068\n",
      "3  avg_subcat_demand  -0.007777156356651491\n",
      "4   avg_brand_demand  -0.026438482235542068\n",
      "Feature 2 , Explains 1.2616989914612327\n",
      "                     0                    1\n",
      "0                month  0.43302434999869893\n",
      "1  avg_12_month_demand  0.07710822987881681\n",
      "2            demand_P2  0.05605444194769019\n",
      "3            demand_P1    0.050840012973374\n",
      "4               demand  0.04058882433199172\n"
     ]
    }
   ],
   "source": [
    "for i,x in enumerate(pca.components_):\n",
    "    print(\"Feature \" + str(i), \", Explains \" + str(pca.explained_variance_[i]))\n",
    "    top = x.argsort()[-5:][::-1]\n",
    "    table = [list(demand_features.columns[top]), x[top]]\n",
    "    df = pd.DataFrame(np.transpose(table))\n",
    "    print(df)"
   ]
  },
  {
   "cell_type": "code",
   "execution_count": 68,
   "metadata": {},
   "outputs": [],
   "source": [
    "X = StandardScaler().fit_transform(sentiment_features)"
   ]
  },
  {
   "cell_type": "code",
   "execution_count": 69,
   "metadata": {},
   "outputs": [
    {
     "data": {
      "text/plain": [
       "Text(0, 0.5, 'cumulative explained variance')"
      ]
     },
     "execution_count": 69,
     "metadata": {},
     "output_type": "execute_result"
    },
    {
     "data": {
      "image/png": "[encoded data removed]",
      "text/plain": [
       "<Figure size 432x288 with 1 Axes>"
      ]
     },
     "metadata": {
      "needs_background": "light"
     },
     "output_type": "display_data"
    }
   ],
   "source": [
    "pca = PCA().fit(X)\n",
    "plt.plot(pca.explained_variance_ratio_)\n",
    "plt.xlabel('number of components')\n",
    "plt.ylabel('cumulative explained variance')"
   ]
  },
  {
   "cell_type": "code",
   "execution_count": 70,
   "metadata": {},
   "outputs": [],
   "source": [
    "pca = PCA(n_components=2)\n",
    "principalComponents = pca.fit_transform(X)\n",
    "sentiment_comp = pd.DataFrame(data = principalComponents)\n",
    "sentiment_comp.columns = [\"sent_1\", \"sent_2\"]"
   ]
  },
  {
   "cell_type": "code",
   "execution_count": 71,
   "metadata": {},
   "outputs": [
    {
     "name": "stdout",
     "output_type": "stream",
     "text": [
      "Feature 0 , Explains 7.893095729576409\n",
      "                    0                    1\n",
      "0   sentiment_neutral   0.3445427831979888\n",
      "1  sentiment_positive  0.33812546579082386\n",
      "2  sentiment_negative  0.33723686643414746\n",
      "3            rating_5   0.3335903564333976\n",
      "4            rating_3  0.30785629505168105\n",
      "Feature 1 , Explains 2.2628784019000396\n",
      "                    0                    1\n",
      "0            rating_3  0.25291039761559936\n",
      "1            rating_4   0.2414152032250002\n",
      "2            rating_2   0.1582380768413051\n",
      "3  sentiment_negative  0.15114545864121912\n",
      "4  sentiment_positive  0.13792510426792498\n"
     ]
    }
   ],
   "source": [
    "for i,x in enumerate(pca.components_):\n",
    "    print(\"Feature \" + str(i), \", Explains \" + str(pca.explained_variance_[i]))\n",
    "    top = x.argsort()[-5:][::-1]\n",
    "    table = [list(sentiment_features.columns[top]), x[top]]\n",
    "    df = pd.DataFrame(np.transpose(table))\n",
    "    print(df)"
   ]
  },
  {
   "cell_type": "code",
   "execution_count": 72,
   "metadata": {},
   "outputs": [],
   "source": [
    "X = pd.concat([sentiment_comp, demand_comp], axis = 1)\n",
    "X_train, X_test, y_train, y_test = train_test_split(X, y, shuffle = False)"
   ]
  },
  {
   "cell_type": "code",
   "execution_count": 73,
   "metadata": {},
   "outputs": [
    {
     "data": {
      "text/plain": [
       "0.8253944365188743"
      ]
     },
     "execution_count": 73,
     "metadata": {},
     "output_type": "execute_result"
    }
   ],
   "source": [
    "lm = LinearRegression()\n",
    "lm.fit(X_train, y_train)\n",
    "pred = lm.predict(X_test)\n",
    "metrics.r2_score(pred, y_test)"
   ]
  },
  {
   "cell_type": "code",
   "execution_count": 63,
   "metadata": {},
   "outputs": [
    {
     "name": "stdout",
     "output_type": "stream",
     "text": [
      "                            OLS Regression Results                            \n",
      "==============================================================================\n",
      "Dep. Variable:                      y   R-squared:                       0.802\n",
      "Model:                            OLS   Adj. R-squared:                  0.801\n",
      "Method:                 Least Squares   F-statistic:                     6168.\n",
      "Date:                Tue, 07 Jul 2020   Prob (F-statistic):               0.00\n",
      "Time:                        11:06:45   Log-Likelihood:                -98021.\n",
      "No. Observations:                7638   AIC:                         1.961e+05\n",
      "Df Residuals:                    7632   BIC:                         1.961e+05\n",
      "Df Model:                           5                                         \n",
      "Covariance Type:            nonrobust                                         \n",
      "==============================================================================\n",
      "                 coef    std err          t      P>|t|      [0.025      0.975]\n",
      "------------------------------------------------------------------------------\n",
      "const       6.704e+04   1204.319     55.664      0.000    6.47e+04    6.94e+04\n",
      "sent_1      1.296e+04    803.765     16.125      0.000    1.14e+04    1.45e+04\n",
      "sent_2     -1.138e+04   1058.948    -10.743      0.000   -1.35e+04   -9300.060\n",
      "0           8.083e+04   1598.130     50.578      0.000    7.77e+04     8.4e+04\n",
      "1           1.812e+04    975.171     18.578      0.000    1.62e+04       2e+04\n",
      "2           1.628e+04   1070.921     15.201      0.000    1.42e+04    1.84e+04\n",
      "==============================================================================\n",
      "Omnibus:                     9328.275   Durbin-Watson:                   1.793\n",
      "Prob(Omnibus):                  0.000   Jarque-Bera (JB):          4907746.104\n",
      "Skew:                           6.033   Prob(JB):                         0.00\n",
      "Kurtosis:                     126.594   Cond. No.                         6.32\n",
      "==============================================================================\n",
      "\n",
      "Warnings:\n",
      "[1] Standard Errors assume that the covariance matrix of the errors is correctly specified.\n"
     ]
    }
   ],
   "source": [
    "X2 = sm.add_constant(X_train)\n",
    "est = sm.OLS(y_train.values, X2)\n",
    "est2 = est.fit()\n",
    "\n",
    "print(est2.summary())"
   ]
  },
  {
   "cell_type": "markdown",
   "metadata": {},
   "source": [
    "### Let do this again with just the rating columns + CC"
   ]
  },
  {
   "cell_type": "code",
   "execution_count": 74,
   "metadata": {},
   "outputs": [],
   "source": [
    "sentiment_features = counts_selected[[ \"month\", \"year\", \"rating\", \"rating_1\", \"rating_2\", \"rating_3\", \"rating_4\", \n",
    "                          \"rating_5\", \"Complaints\", \"Compliments\", \"Questions\", \"Suggestions\"]]"
   ]
  },
  {
   "cell_type": "code",
   "execution_count": 75,
   "metadata": {},
   "outputs": [
    {
     "data": {
      "text/plain": [
       "Text(0, 0.5, 'cumulative explained variance')"
      ]
     },
     "execution_count": 75,
     "metadata": {},
     "output_type": "execute_result"
    },
    {
     "data": {
      "image/png": "[encoded data removed]",
      "text/plain": [
       "<Figure size 432x288 with 1 Axes>"
      ]
     },
     "metadata": {
      "needs_background": "light"
     },
     "output_type": "display_data"
    }
   ],
   "source": [
    "X = StandardScaler().fit_transform(sentiment_features)\n",
    "pca = PCA().fit(X)\n",
    "plt.plot(pca.explained_variance_ratio_)\n",
    "plt.xlabel('number of components')\n",
    "plt.ylabel('cumulative explained variance')"
   ]
  },
  {
   "cell_type": "code",
   "execution_count": 76,
   "metadata": {},
   "outputs": [],
   "source": [
    "pca = PCA(n_components=3)\n",
    "principalComponents = pca.fit_transform(X)\n",
    "sentiment_comp = pd.DataFrame(data = principalComponents)\n",
    "sentiment_comp.columns = [\"sent_1\", \"sent_2\", \"sent_3\"]"
   ]
  },
  {
   "cell_type": "code",
   "execution_count": 77,
   "metadata": {},
   "outputs": [
    {
     "name": "stdout",
     "output_type": "stream",
     "text": [
      "Feature 0 , Explains 4.717214874478803\n",
      "          0                    1\n",
      "0  rating_5    0.418239994850753\n",
      "1  rating_3   0.3847545311926819\n",
      "2  rating_4   0.3795213227792368\n",
      "3  rating_2  0.37491410461957214\n",
      "4  rating_1   0.3722274681888062\n",
      "Feature 1 , Explains 1.9274887339224998\n",
      "          0                     1\n",
      "0  rating_3   0.32138789376591353\n",
      "1  rating_4    0.3044256179827735\n",
      "2  rating_2   0.22802618241318928\n",
      "3  rating_5   0.14328646441041915\n",
      "4  rating_1  0.017853563344856216\n",
      "Feature 2 , Explains 1.2122385453158049\n",
      "             0                    1\n",
      "0        month   0.7201010712739895\n",
      "1    Questions  0.07315647989176699\n",
      "2  Compliments  0.06925235908461834\n",
      "3   Complaints  0.06465921243719339\n",
      "4  Suggestions  0.06006922121034491\n"
     ]
    }
   ],
   "source": [
    "for i,x in enumerate(pca.components_):\n",
    "    print(\"Feature \" + str(i), \", Explains \" + str(pca.explained_variance_[i]))\n",
    "    top = x.argsort()[-5:][::-1]\n",
    "    table = [list(sentiment_features.columns[top]), x[top]]\n",
    "    df = pd.DataFrame(np.transpose(table))\n",
    "    print(df)"
   ]
  },
  {
   "cell_type": "markdown",
   "metadata": {},
   "source": [
    "These really are just capturing the number of counts--nothing about the sentment. Let's try dropping ratings and using only sentiment"
   ]
  },
  {
   "cell_type": "code",
   "execution_count": 82,
   "metadata": {},
   "outputs": [],
   "source": [
    "sentiment_features = counts_selected[[ \"month\", \"year\", \"sentiment_negative\", \"sentiment_neutral\", \"sentiment_positive\", \"sentiment\",\n",
    "                                      \"Complaints\", \"Compliments\", \"Questions\", \"Suggestions\"]]"
   ]
  },
  {
   "cell_type": "code",
   "execution_count": 83,
   "metadata": {},
   "outputs": [
    {
     "data": {
      "text/plain": [
       "Text(0, 0.5, 'cumulative explained variance')"
      ]
     },
     "execution_count": 83,
     "metadata": {},
     "output_type": "execute_result"
    },
    {
     "data": {
      "image/png": "[encoded data removed]",
      "text/plain": [
       "<Figure size 432x288 with 1 Axes>"
      ]
     },
     "metadata": {
      "needs_background": "light"
     },
     "output_type": "display_data"
    }
   ],
   "source": [
    "X = StandardScaler().fit_transform(sentiment_features)\n",
    "pca = PCA().fit(X)\n",
    "plt.plot(pca.explained_variance_ratio_)\n",
    "plt.xlabel('number of components')\n",
    "plt.ylabel('cumulative explained variance')"
   ]
  },
  {
   "cell_type": "code",
   "execution_count": 84,
   "metadata": {},
   "outputs": [],
   "source": [
    "pca = PCA(n_components=3)\n",
    "principalComponents = pca.fit_transform(X)\n",
    "sentiment_comp = pd.DataFrame(data = principalComponents)\n",
    "sentiment_comp.columns = [\"sent_1\", \"sent_2\", \"sent_3\"]"
   ]
  },
  {
   "cell_type": "code",
   "execution_count": 85,
   "metadata": {},
   "outputs": [
    {
     "name": "stdout",
     "output_type": "stream",
     "text": [
      "Feature 0 , Explains 3.879663194850414\n",
      "                    0                    1\n",
      "0   sentiment_neutral   0.4561626301295624\n",
      "1  sentiment_positive   0.4446494365144844\n",
      "2  sentiment_negative   0.4359238942474693\n",
      "3           sentiment   0.3873351970118314\n",
      "4          Complaints  0.35625651564013133\n",
      "Feature 1 , Explains 1.6036346082065382\n",
      "                    0                     1\n",
      "0  sentiment_negative   0.34164050094901827\n",
      "1  sentiment_positive   0.33821176596668767\n",
      "2   sentiment_neutral    0.3174112568883204\n",
      "3               month   0.03785995135987693\n",
      "4           sentiment  -0.12270312345051597\n",
      "Feature 2 , Explains 1.2087395615121488\n",
      "             0                    1\n",
      "0        month   0.7213511642823726\n",
      "1    Questions   0.0903303088168063\n",
      "2  Compliments  0.08678300410625155\n",
      "3   Complaints  0.08205685388370998\n",
      "4  Suggestions   0.0728731339537354\n"
     ]
    }
   ],
   "source": [
    "for i,x in enumerate(pca.components_):\n",
    "    print(\"Feature \" + str(i), \", Explains \" + str(pca.explained_variance_[i]))\n",
    "    top = x.argsort()[-5:][::-1]\n",
    "    table = [list(sentiment_features.columns[top]), x[top]]\n",
    "    df = pd.DataFrame(np.transpose(table))\n",
    "    print(df)"
   ]
  },
  {
   "cell_type": "markdown",
   "metadata": {},
   "source": [
    "What if we had relative and count features in the same dataset?"
   ]
  },
  {
   "cell_type": "code",
   "execution_count": null,
   "metadata": {},
   "outputs": [],
   "source": []
  }
 ],
 "metadata": {
  "kernelspec": {
   "display_name": "Python 3",
   "language": "python",
   "name": "python3"
  },
  "language_info": {
   "codemirror_mode": {
    "name": "ipython",
    "version": 3
   },
   "file_extension": ".py",
   "mimetype": "text/x-python",
   "name": "python",
   "nbconvert_exporter": "python",
   "pygments_lexer": "ipython3",
   "version": "3.7.6"
  }
 },
 "nbformat": 4,
 "nbformat_minor": 4
}
