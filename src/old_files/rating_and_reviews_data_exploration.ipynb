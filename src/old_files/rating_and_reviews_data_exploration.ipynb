{
 "cells": [
  {
   "cell_type": "code",
   "execution_count": 1,
   "metadata": {},
   "outputs": [],
   "source": [
    "import pandas as pd\n",
    "pd.set_option('display.max_columns', None)\n",
    "import matplotlib.pyplot as plt\n"
   ]
  },
  {
   "cell_type": "markdown",
   "metadata": {},
   "source": [
    "## Loading Data"
   ]
  },
  {
   "cell_type": "markdown",
   "metadata": {},
   "source": [
    "### Rating and reviews"
   ]
  },
  {
   "cell_type": "code",
   "execution_count": 2,
   "metadata": {},
   "outputs": [
    {
     "name": "stderr",
     "output_type": "stream",
     "text": [
      "C:\\Users\\asaid\\Anaconda3\\lib\\site-packages\\IPython\\core\\interactiveshell.py:3063: DtypeWarning: Columns (27,28,29,32,33,37) have mixed types.Specify dtype option on import or set low_memory=False.\n",
      "  interactivity=interactivity, compiler=compiler, result=result)\n",
      "C:\\Users\\asaid\\Anaconda3\\lib\\site-packages\\IPython\\core\\interactiveshell.py:3063: DtypeWarning: Columns (33,34) have mixed types.Specify dtype option on import or set low_memory=False.\n",
      "  interactivity=interactivity, compiler=compiler, result=result)\n",
      "C:\\Users\\asaid\\Anaconda3\\lib\\site-packages\\IPython\\core\\interactiveshell.py:3063: DtypeWarning: Columns (1,23,24,25,26,27,28,29,30,32,33,34,35,36,37,38,39) have mixed types.Specify dtype option on import or set low_memory=False.\n",
      "  interactivity=interactivity, compiler=compiler, result=result)\n"
     ]
    }
   ],
   "source": [
    "rr_cosmetic_01_20 = pd.read_csv(\"../data/Rating and Reviews/cosmetics_reviews_20200101-20200131.csv\")\n",
    "rr_skincare_12_19 = pd.read_csv(\"../data/Rating and Reviews/skincare_reviews_20191231.csv\")\n",
    "rr_skincare_11_19 = pd.read_csv(\"../data/Rating and Reviews/skincare_reviews_20191130.csv\")"
   ]
  },
  {
   "cell_type": "markdown",
   "metadata": {},
   "source": [
    "### Product Catalogue"
   ]
  },
  {
   "cell_type": "code",
   "execution_count": 3,
   "metadata": {},
   "outputs": [
    {
     "name": "stderr",
     "output_type": "stream",
     "text": [
      "C:\\Users\\asaid\\Anaconda3\\lib\\site-packages\\IPython\\core\\interactiveshell.py:3063: DtypeWarning: Columns (16,17) have mixed types.Specify dtype option on import or set low_memory=False.\n",
      "  interactivity=interactivity, compiler=compiler, result=result)\n"
     ]
    }
   ],
   "source": [
    "pc_cosmetic_01_20 = pd.read_csv(\"../data/Product Catalogue/Cosmetics_Product_20200116.csv\")\n",
    "pc_skincare_01_20 = pd.read_csv(\"../data/Product Catalogue/SkinCare_Product_20200116.csv\")"
   ]
  },
  {
   "cell_type": "markdown",
   "metadata": {},
   "source": [
    "## Overview"
   ]
  },
  {
   "cell_type": "code",
   "execution_count": 4,
   "metadata": {},
   "outputs": [
    {
     "data": {
      "text/html": [
       "<div>\n",
       "<style scoped>\n",
       "    .dataframe tbody tr th:only-of-type {\n",
       "        vertical-align: middle;\n",
       "    }\n",
       "\n",
       "    .dataframe tbody tr th {\n",
       "        vertical-align: top;\n",
       "    }\n",
       "\n",
       "    .dataframe thead th {\n",
       "        text-align: right;\n",
       "    }\n",
       "</style>\n",
       "<table border=\"1\" class=\"dataframe\">\n",
       "  <thead>\n",
       "    <tr style=\"text-align: right;\">\n",
       "      <th></th>\n",
       "      <th>Rating</th>\n",
       "      <th>Verified Buyer</th>\n",
       "      <th>Verified Reviewer</th>\n",
       "      <th>I shop at macys.com</th>\n",
       "      <th>Age</th>\n",
       "    </tr>\n",
       "  </thead>\n",
       "  <tbody>\n",
       "    <tr>\n",
       "      <th>count</th>\n",
       "      <td>283871.000000</td>\n",
       "      <td>0.0</td>\n",
       "      <td>0.0</td>\n",
       "      <td>0.0</td>\n",
       "      <td>0.0</td>\n",
       "    </tr>\n",
       "    <tr>\n",
       "      <th>mean</th>\n",
       "      <td>4.099112</td>\n",
       "      <td>NaN</td>\n",
       "      <td>NaN</td>\n",
       "      <td>NaN</td>\n",
       "      <td>NaN</td>\n",
       "    </tr>\n",
       "    <tr>\n",
       "      <th>std</th>\n",
       "      <td>1.349078</td>\n",
       "      <td>NaN</td>\n",
       "      <td>NaN</td>\n",
       "      <td>NaN</td>\n",
       "      <td>NaN</td>\n",
       "    </tr>\n",
       "    <tr>\n",
       "      <th>min</th>\n",
       "      <td>1.000000</td>\n",
       "      <td>NaN</td>\n",
       "      <td>NaN</td>\n",
       "      <td>NaN</td>\n",
       "      <td>NaN</td>\n",
       "    </tr>\n",
       "    <tr>\n",
       "      <th>25%</th>\n",
       "      <td>4.000000</td>\n",
       "      <td>NaN</td>\n",
       "      <td>NaN</td>\n",
       "      <td>NaN</td>\n",
       "      <td>NaN</td>\n",
       "    </tr>\n",
       "    <tr>\n",
       "      <th>50%</th>\n",
       "      <td>5.000000</td>\n",
       "      <td>NaN</td>\n",
       "      <td>NaN</td>\n",
       "      <td>NaN</td>\n",
       "      <td>NaN</td>\n",
       "    </tr>\n",
       "    <tr>\n",
       "      <th>75%</th>\n",
       "      <td>5.000000</td>\n",
       "      <td>NaN</td>\n",
       "      <td>NaN</td>\n",
       "      <td>NaN</td>\n",
       "      <td>NaN</td>\n",
       "    </tr>\n",
       "    <tr>\n",
       "      <th>max</th>\n",
       "      <td>5.000000</td>\n",
       "      <td>NaN</td>\n",
       "      <td>NaN</td>\n",
       "      <td>NaN</td>\n",
       "      <td>NaN</td>\n",
       "    </tr>\n",
       "  </tbody>\n",
       "</table>\n",
       "</div>"
      ],
      "text/plain": [
       "              Rating  Verified Buyer  Verified Reviewer  I shop at macys.com  \\\n",
       "count  283871.000000             0.0                0.0                  0.0   \n",
       "mean        4.099112             NaN                NaN                  NaN   \n",
       "std         1.349078             NaN                NaN                  NaN   \n",
       "min         1.000000             NaN                NaN                  NaN   \n",
       "25%         4.000000             NaN                NaN                  NaN   \n",
       "50%         5.000000             NaN                NaN                  NaN   \n",
       "75%         5.000000             NaN                NaN                  NaN   \n",
       "max         5.000000             NaN                NaN                  NaN   \n",
       "\n",
       "       Age  \n",
       "count  0.0  \n",
       "mean   NaN  \n",
       "std    NaN  \n",
       "min    NaN  \n",
       "25%    NaN  \n",
       "50%    NaN  \n",
       "75%    NaN  \n",
       "max    NaN  "
      ]
     },
     "execution_count": 4,
     "metadata": {},
     "output_type": "execute_result"
    }
   ],
   "source": [
    "rr_cosmetic_01_20.describe()"
   ]
  },
  {
   "cell_type": "code",
   "execution_count": 5,
   "metadata": {},
   "outputs": [
    {
     "data": {
      "text/html": [
       "<div>\n",
       "<style scoped>\n",
       "    .dataframe tbody tr th:only-of-type {\n",
       "        vertical-align: middle;\n",
       "    }\n",
       "\n",
       "    .dataframe tbody tr th {\n",
       "        vertical-align: top;\n",
       "    }\n",
       "\n",
       "    .dataframe thead th {\n",
       "        text-align: right;\n",
       "    }\n",
       "</style>\n",
       "<table border=\"1\" class=\"dataframe\">\n",
       "  <thead>\n",
       "    <tr style=\"text-align: right;\">\n",
       "      <th></th>\n",
       "      <th>Rating</th>\n",
       "      <th>I shop at macys.com</th>\n",
       "    </tr>\n",
       "  </thead>\n",
       "  <tbody>\n",
       "    <tr>\n",
       "      <th>count</th>\n",
       "      <td>206660.000000</td>\n",
       "      <td>0.0</td>\n",
       "    </tr>\n",
       "    <tr>\n",
       "      <th>mean</th>\n",
       "      <td>4.274848</td>\n",
       "      <td>NaN</td>\n",
       "    </tr>\n",
       "    <tr>\n",
       "      <th>std</th>\n",
       "      <td>1.217490</td>\n",
       "      <td>NaN</td>\n",
       "    </tr>\n",
       "    <tr>\n",
       "      <th>min</th>\n",
       "      <td>1.000000</td>\n",
       "      <td>NaN</td>\n",
       "    </tr>\n",
       "    <tr>\n",
       "      <th>25%</th>\n",
       "      <td>4.000000</td>\n",
       "      <td>NaN</td>\n",
       "    </tr>\n",
       "    <tr>\n",
       "      <th>50%</th>\n",
       "      <td>5.000000</td>\n",
       "      <td>NaN</td>\n",
       "    </tr>\n",
       "    <tr>\n",
       "      <th>75%</th>\n",
       "      <td>5.000000</td>\n",
       "      <td>NaN</td>\n",
       "    </tr>\n",
       "    <tr>\n",
       "      <th>max</th>\n",
       "      <td>5.000000</td>\n",
       "      <td>NaN</td>\n",
       "    </tr>\n",
       "  </tbody>\n",
       "</table>\n",
       "</div>"
      ],
      "text/plain": [
       "              Rating  I shop at macys.com\n",
       "count  206660.000000                  0.0\n",
       "mean        4.274848                  NaN\n",
       "std         1.217490                  NaN\n",
       "min         1.000000                  NaN\n",
       "25%         4.000000                  NaN\n",
       "50%         5.000000                  NaN\n",
       "75%         5.000000                  NaN\n",
       "max         5.000000                  NaN"
      ]
     },
     "execution_count": 5,
     "metadata": {},
     "output_type": "execute_result"
    }
   ],
   "source": [
    "rr_skincare_12_19.describe()"
   ]
  },
  {
   "cell_type": "markdown",
   "metadata": {},
   "source": [
    "## Difference between the two datasets"
   ]
  },
  {
   "cell_type": "markdown",
   "metadata": {},
   "source": [
    "### Common columns"
   ]
  },
  {
   "cell_type": "code",
   "execution_count": 6,
   "metadata": {},
   "outputs": [
    {
     "name": "stdout",
     "output_type": "stream",
     "text": [
      "Common columns between the two datasets:\n",
      "Verified Reviewer\n",
      "Ingredient\n",
      "Feature\n",
      "Skin Tone\n",
      "Product_ID\n",
      "Sentiment\n",
      "Source Product Identifier\n",
      "Cons\n",
      "Syndication Source\n",
      "Geography\n",
      "Benefit\n",
      "Description\n",
      "From\n",
      "Additional Ingredients (no rulebase)\n",
      "Title\n",
      "Age\n",
      "OnlineStatement_ID\n",
      "Reviewer Skin Type\n",
      "I shop at macys.com\n",
      "Hair Color\n",
      "Best For\n",
      "Product Form\n",
      "Rating\n",
      "Purchase Location\n",
      "Channel\n",
      "Describe Yourself\n",
      "Date\n",
      "ELC Solution Type\n",
      "Verified Buyer\n",
      "Recommended\n",
      "Eye Color\n",
      "OnlinePost_ID\n",
      "Pros\n",
      "Make-up Style\n",
      "Gender\n"
     ]
    }
   ],
   "source": [
    "common_cols = set(rr_skincare_11_19.columns).intersection(set(rr_cosmetic_01_20.columns))\n",
    "print(\"Common columns between the two datasets:\")\n",
    "for col in common_cols:\n",
    "    print(col)"
   ]
  },
  {
   "cell_type": "markdown",
   "metadata": {},
   "source": [
    "### Different columns"
   ]
  },
  {
   "cell_type": "code",
   "execution_count": 7,
   "metadata": {},
   "outputs": [
    {
     "name": "stdout",
     "output_type": "stream",
     "text": [
      "Column Skin Condition  belongs to Skincare but not to Cosmetic\n",
      "Column Use Case        belongs to Skincare but not to Cosmetic\n",
      "Column Treatment Area  belongs to Skincare but not to Cosmetic\n",
      "Column Packaging       belongs to Skincare but not to Cosmetic\n",
      "Column Skin Type       belongs to Skincare but not to Cosmetic\n"
     ]
    }
   ],
   "source": [
    "common_cols = set(rr_skincare_11_19.columns).difference(set(rr_cosmetic_01_20.columns))\n",
    "for col in common_cols:\n",
    "    if col in rr_cosmetic_01_20:\n",
    "        print('Column {:15} belongs to Cosmetic but not to Skincare'.format(col))\n",
    "    else:\n",
    "        print('Column {:15} belongs to Skincare but not to Cosmetic'.format(col))"
   ]
  },
  {
   "cell_type": "markdown",
   "metadata": {},
   "source": [
    "## Merging the two datasets"
   ]
  },
  {
   "cell_type": "code",
   "execution_count": 8,
   "metadata": {},
   "outputs": [],
   "source": [
    "rr_cosmetic_01_20['Dataset'] = 'Cosmetic'\n",
    "rr_skincare_11_19['Dataset'] = 'Skincare'"
   ]
  },
  {
   "cell_type": "code",
   "execution_count": 9,
   "metadata": {},
   "outputs": [],
   "source": [
    "df = pd.concat([rr_cosmetic_01_20, rr_skincare_11_19])"
   ]
  },
  {
   "cell_type": "code",
   "execution_count": 10,
   "metadata": {},
   "outputs": [
    {
     "data": {
      "text/html": [
       "<div>\n",
       "<style scoped>\n",
       "    .dataframe tbody tr th:only-of-type {\n",
       "        vertical-align: middle;\n",
       "    }\n",
       "\n",
       "    .dataframe tbody tr th {\n",
       "        vertical-align: top;\n",
       "    }\n",
       "\n",
       "    .dataframe thead th {\n",
       "        text-align: right;\n",
       "    }\n",
       "</style>\n",
       "<table border=\"1\" class=\"dataframe\">\n",
       "  <thead>\n",
       "    <tr style=\"text-align: right;\">\n",
       "      <th></th>\n",
       "      <th>OnlinePost_ID</th>\n",
       "      <th>Source Product Identifier</th>\n",
       "      <th>OnlineStatement_ID</th>\n",
       "      <th>Date</th>\n",
       "      <th>Title</th>\n",
       "      <th>Description</th>\n",
       "      <th>Geography</th>\n",
       "      <th>Channel</th>\n",
       "      <th>Product_ID</th>\n",
       "      <th>Rating</th>\n",
       "      <th>Sentiment</th>\n",
       "      <th>Feature</th>\n",
       "      <th>Benefit</th>\n",
       "      <th>Ingredient</th>\n",
       "      <th>Additional Ingredients (no rulebase)</th>\n",
       "      <th>Product Form</th>\n",
       "      <th>ELC Solution Type</th>\n",
       "      <th>Finish</th>\n",
       "      <th>Looks</th>\n",
       "      <th>Other</th>\n",
       "      <th>Trends</th>\n",
       "      <th>Syndication Source</th>\n",
       "      <th>Best For</th>\n",
       "      <th>Verified Buyer</th>\n",
       "      <th>From</th>\n",
       "      <th>Recommended</th>\n",
       "      <th>Verified Reviewer</th>\n",
       "      <th>Eye Color</th>\n",
       "      <th>Hair Color</th>\n",
       "      <th>Skin Tone</th>\n",
       "      <th>Gender</th>\n",
       "      <th>I shop at macys.com</th>\n",
       "      <th>Make-up Style</th>\n",
       "      <th>Purchase Location</th>\n",
       "      <th>Cons</th>\n",
       "      <th>Pros</th>\n",
       "      <th>Describe Yourself</th>\n",
       "      <th>Reviewer Skin Type</th>\n",
       "      <th>Age</th>\n",
       "      <th>Dataset</th>\n",
       "      <th>Skin Condition</th>\n",
       "      <th>Packaging</th>\n",
       "      <th>Skin Type</th>\n",
       "      <th>Treatment Area</th>\n",
       "      <th>Use Case</th>\n",
       "    </tr>\n",
       "  </thead>\n",
       "  <tbody>\n",
       "    <tr>\n",
       "      <th>0</th>\n",
       "      <td>OnlinePost_20200304_835485c0-a5ef-4392-bf62-a5...</td>\n",
       "      <td>779364</td>\n",
       "      <td>OnlineStatement_20200304_835485c0-a5ef-4392-bf...</td>\n",
       "      <td>2020-01-22</td>\n",
       "      <td>Different blush</td>\n",
       "      <td>This a is a great product, the liquid blush is...</td>\n",
       "      <td>UK</td>\n",
       "      <td>Superdrug</td>\n",
       "      <td>Product_20200109_5658707</td>\n",
       "      <td>4.0</td>\n",
       "      <td>Positive</td>\n",
       "      <td>Not Mentioned</td>\n",
       "      <td>Ease of Use</td>\n",
       "      <td>Not Mentioned</td>\n",
       "      <td>Not Mentioned</td>\n",
       "      <td>Cream;Liquid</td>\n",
       "      <td>Blush</td>\n",
       "      <td>Not Mentioned</td>\n",
       "      <td>Not Mentioned</td>\n",
       "      <td>Not Mentioned</td>\n",
       "      <td>Not Mentioned</td>\n",
       "      <td>Original Source</td>\n",
       "      <td>NaN</td>\n",
       "      <td>NaN</td>\n",
       "      <td>NaN</td>\n",
       "      <td>NaN</td>\n",
       "      <td>NaN</td>\n",
       "      <td>NaN</td>\n",
       "      <td>NaN</td>\n",
       "      <td>NaN</td>\n",
       "      <td>Female</td>\n",
       "      <td>NaN</td>\n",
       "      <td>NaN</td>\n",
       "      <td>NaN</td>\n",
       "      <td>NaN</td>\n",
       "      <td>NaN</td>\n",
       "      <td>NaN</td>\n",
       "      <td>NaN</td>\n",
       "      <td>NaN</td>\n",
       "      <td>Cosmetic</td>\n",
       "      <td>NaN</td>\n",
       "      <td>NaN</td>\n",
       "      <td>NaN</td>\n",
       "      <td>NaN</td>\n",
       "      <td>NaN</td>\n",
       "    </tr>\n",
       "    <tr>\n",
       "      <th>1</th>\n",
       "      <td>OnlinePost_20200304_835485c0-a5ef-4392-bf62-a5...</td>\n",
       "      <td>779364</td>\n",
       "      <td>OnlineStatement_20200304_835485c0-a5ef-4392-bf...</td>\n",
       "      <td>2020-01-22</td>\n",
       "      <td>Different blush</td>\n",
       "      <td>Different blush.</td>\n",
       "      <td>UK</td>\n",
       "      <td>Superdrug</td>\n",
       "      <td>Product_20200109_5658707</td>\n",
       "      <td>4.0</td>\n",
       "      <td>Neutral</td>\n",
       "      <td>Not Mentioned</td>\n",
       "      <td>Not Mentioned</td>\n",
       "      <td>Not Mentioned</td>\n",
       "      <td>Not Mentioned</td>\n",
       "      <td>Cream;Liquid</td>\n",
       "      <td>Blush</td>\n",
       "      <td>Not Mentioned</td>\n",
       "      <td>Not Mentioned</td>\n",
       "      <td>Not Mentioned</td>\n",
       "      <td>Not Mentioned</td>\n",
       "      <td>Original Source</td>\n",
       "      <td>NaN</td>\n",
       "      <td>NaN</td>\n",
       "      <td>NaN</td>\n",
       "      <td>NaN</td>\n",
       "      <td>NaN</td>\n",
       "      <td>NaN</td>\n",
       "      <td>NaN</td>\n",
       "      <td>NaN</td>\n",
       "      <td>Female</td>\n",
       "      <td>NaN</td>\n",
       "      <td>NaN</td>\n",
       "      <td>NaN</td>\n",
       "      <td>NaN</td>\n",
       "      <td>NaN</td>\n",
       "      <td>NaN</td>\n",
       "      <td>NaN</td>\n",
       "      <td>NaN</td>\n",
       "      <td>Cosmetic</td>\n",
       "      <td>NaN</td>\n",
       "      <td>NaN</td>\n",
       "      <td>NaN</td>\n",
       "      <td>NaN</td>\n",
       "      <td>NaN</td>\n",
       "    </tr>\n",
       "    <tr>\n",
       "      <th>2</th>\n",
       "      <td>OnlinePost_20200304_835485c0-a5ef-4392-bf62-a5...</td>\n",
       "      <td>779364</td>\n",
       "      <td>OnlineStatement_20200304_835485c0-a5ef-4392-bf...</td>\n",
       "      <td>2020-01-22</td>\n",
       "      <td>Different blush</td>\n",
       "      <td>I would definitely recommend this product.</td>\n",
       "      <td>UK</td>\n",
       "      <td>Superdrug</td>\n",
       "      <td>Product_20200109_5658707</td>\n",
       "      <td>4.0</td>\n",
       "      <td>Positive</td>\n",
       "      <td>Not Mentioned</td>\n",
       "      <td>Not Mentioned</td>\n",
       "      <td>Not Mentioned</td>\n",
       "      <td>Not Mentioned</td>\n",
       "      <td>Cream;Liquid</td>\n",
       "      <td>Blush</td>\n",
       "      <td>Not Mentioned</td>\n",
       "      <td>Not Mentioned</td>\n",
       "      <td>Not Mentioned</td>\n",
       "      <td>Not Mentioned</td>\n",
       "      <td>Original Source</td>\n",
       "      <td>NaN</td>\n",
       "      <td>NaN</td>\n",
       "      <td>NaN</td>\n",
       "      <td>NaN</td>\n",
       "      <td>NaN</td>\n",
       "      <td>NaN</td>\n",
       "      <td>NaN</td>\n",
       "      <td>NaN</td>\n",
       "      <td>Female</td>\n",
       "      <td>NaN</td>\n",
       "      <td>NaN</td>\n",
       "      <td>NaN</td>\n",
       "      <td>NaN</td>\n",
       "      <td>NaN</td>\n",
       "      <td>NaN</td>\n",
       "      <td>NaN</td>\n",
       "      <td>NaN</td>\n",
       "      <td>Cosmetic</td>\n",
       "      <td>NaN</td>\n",
       "      <td>NaN</td>\n",
       "      <td>NaN</td>\n",
       "      <td>NaN</td>\n",
       "      <td>NaN</td>\n",
       "    </tr>\n",
       "    <tr>\n",
       "      <th>3</th>\n",
       "      <td>OnlinePost_20200304_1de67b2f-5c04-4bb8-8280-1f...</td>\n",
       "      <td>753499</td>\n",
       "      <td>OnlineStatement_20200304_1de67b2f-5c04-4bb8-82...</td>\n",
       "      <td>2020-01-03</td>\n",
       "      <td>Elf Flawless foundation</td>\n",
       "      <td>Elf Flawless foundation.</td>\n",
       "      <td>UK</td>\n",
       "      <td>Superdrug</td>\n",
       "      <td>Product_20200109_5659353</td>\n",
       "      <td>5.0</td>\n",
       "      <td>Neutral</td>\n",
       "      <td>Not Mentioned</td>\n",
       "      <td>Not Mentioned</td>\n",
       "      <td>Not Mentioned</td>\n",
       "      <td>Not Mentioned</td>\n",
       "      <td>Liquid</td>\n",
       "      <td>Foundation</td>\n",
       "      <td>Flawless</td>\n",
       "      <td>Not Mentioned</td>\n",
       "      <td>Not Mentioned</td>\n",
       "      <td>Not Mentioned</td>\n",
       "      <td>Original Source</td>\n",
       "      <td>NaN</td>\n",
       "      <td>NaN</td>\n",
       "      <td>NaN</td>\n",
       "      <td>NaN</td>\n",
       "      <td>NaN</td>\n",
       "      <td>NaN</td>\n",
       "      <td>NaN</td>\n",
       "      <td>NaN</td>\n",
       "      <td>Female</td>\n",
       "      <td>NaN</td>\n",
       "      <td>NaN</td>\n",
       "      <td>NaN</td>\n",
       "      <td>NaN</td>\n",
       "      <td>NaN</td>\n",
       "      <td>NaN</td>\n",
       "      <td>NaN</td>\n",
       "      <td>NaN</td>\n",
       "      <td>Cosmetic</td>\n",
       "      <td>NaN</td>\n",
       "      <td>NaN</td>\n",
       "      <td>NaN</td>\n",
       "      <td>NaN</td>\n",
       "      <td>NaN</td>\n",
       "    </tr>\n",
       "    <tr>\n",
       "      <th>4</th>\n",
       "      <td>OnlinePost_20200304_835485c0-a5ef-4392-bf62-a5...</td>\n",
       "      <td>779364</td>\n",
       "      <td>OnlineStatement_20200304_835485c0-a5ef-4392-bf...</td>\n",
       "      <td>2020-01-22</td>\n",
       "      <td>Different blush</td>\n",
       "      <td>I like the way you can layer the colour, keep ...</td>\n",
       "      <td>UK</td>\n",
       "      <td>Superdrug</td>\n",
       "      <td>Product_20200109_5658707</td>\n",
       "      <td>4.0</td>\n",
       "      <td>Neutral</td>\n",
       "      <td>Not Mentioned</td>\n",
       "      <td>Glowing &amp; Brightening;High Intensity Color</td>\n",
       "      <td>Not Mentioned</td>\n",
       "      <td>Not Mentioned</td>\n",
       "      <td>Cream;Liquid</td>\n",
       "      <td>Blush</td>\n",
       "      <td>Not Mentioned</td>\n",
       "      <td>Not Mentioned</td>\n",
       "      <td>Not Mentioned</td>\n",
       "      <td>Not Mentioned</td>\n",
       "      <td>Original Source</td>\n",
       "      <td>NaN</td>\n",
       "      <td>NaN</td>\n",
       "      <td>NaN</td>\n",
       "      <td>NaN</td>\n",
       "      <td>NaN</td>\n",
       "      <td>NaN</td>\n",
       "      <td>NaN</td>\n",
       "      <td>NaN</td>\n",
       "      <td>Female</td>\n",
       "      <td>NaN</td>\n",
       "      <td>NaN</td>\n",
       "      <td>NaN</td>\n",
       "      <td>NaN</td>\n",
       "      <td>NaN</td>\n",
       "      <td>NaN</td>\n",
       "      <td>NaN</td>\n",
       "      <td>NaN</td>\n",
       "      <td>Cosmetic</td>\n",
       "      <td>NaN</td>\n",
       "      <td>NaN</td>\n",
       "      <td>NaN</td>\n",
       "      <td>NaN</td>\n",
       "      <td>NaN</td>\n",
       "    </tr>\n",
       "  </tbody>\n",
       "</table>\n",
       "</div>"
      ],
      "text/plain": [
       "                                       OnlinePost_ID  \\\n",
       "0  OnlinePost_20200304_835485c0-a5ef-4392-bf62-a5...   \n",
       "1  OnlinePost_20200304_835485c0-a5ef-4392-bf62-a5...   \n",
       "2  OnlinePost_20200304_835485c0-a5ef-4392-bf62-a5...   \n",
       "3  OnlinePost_20200304_1de67b2f-5c04-4bb8-8280-1f...   \n",
       "4  OnlinePost_20200304_835485c0-a5ef-4392-bf62-a5...   \n",
       "\n",
       "  Source Product Identifier  \\\n",
       "0                    779364   \n",
       "1                    779364   \n",
       "2                    779364   \n",
       "3                    753499   \n",
       "4                    779364   \n",
       "\n",
       "                                  OnlineStatement_ID        Date  \\\n",
       "0  OnlineStatement_20200304_835485c0-a5ef-4392-bf...  2020-01-22   \n",
       "1  OnlineStatement_20200304_835485c0-a5ef-4392-bf...  2020-01-22   \n",
       "2  OnlineStatement_20200304_835485c0-a5ef-4392-bf...  2020-01-22   \n",
       "3  OnlineStatement_20200304_1de67b2f-5c04-4bb8-82...  2020-01-03   \n",
       "4  OnlineStatement_20200304_835485c0-a5ef-4392-bf...  2020-01-22   \n",
       "\n",
       "                     Title                                        Description  \\\n",
       "0          Different blush  This a is a great product, the liquid blush is...   \n",
       "1          Different blush                                   Different blush.   \n",
       "2          Different blush         I would definitely recommend this product.   \n",
       "3  Elf Flawless foundation                           Elf Flawless foundation.   \n",
       "4          Different blush  I like the way you can layer the colour, keep ...   \n",
       "\n",
       "  Geography    Channel                Product_ID  Rating Sentiment  \\\n",
       "0        UK  Superdrug  Product_20200109_5658707     4.0  Positive   \n",
       "1        UK  Superdrug  Product_20200109_5658707     4.0   Neutral   \n",
       "2        UK  Superdrug  Product_20200109_5658707     4.0  Positive   \n",
       "3        UK  Superdrug  Product_20200109_5659353     5.0   Neutral   \n",
       "4        UK  Superdrug  Product_20200109_5658707     4.0   Neutral   \n",
       "\n",
       "         Feature                                     Benefit     Ingredient  \\\n",
       "0  Not Mentioned                                 Ease of Use  Not Mentioned   \n",
       "1  Not Mentioned                               Not Mentioned  Not Mentioned   \n",
       "2  Not Mentioned                               Not Mentioned  Not Mentioned   \n",
       "3  Not Mentioned                               Not Mentioned  Not Mentioned   \n",
       "4  Not Mentioned  Glowing & Brightening;High Intensity Color  Not Mentioned   \n",
       "\n",
       "  Additional Ingredients (no rulebase)  Product Form ELC Solution Type  \\\n",
       "0                        Not Mentioned  Cream;Liquid             Blush   \n",
       "1                        Not Mentioned  Cream;Liquid             Blush   \n",
       "2                        Not Mentioned  Cream;Liquid             Blush   \n",
       "3                        Not Mentioned        Liquid        Foundation   \n",
       "4                        Not Mentioned  Cream;Liquid             Blush   \n",
       "\n",
       "          Finish          Looks          Other         Trends  \\\n",
       "0  Not Mentioned  Not Mentioned  Not Mentioned  Not Mentioned   \n",
       "1  Not Mentioned  Not Mentioned  Not Mentioned  Not Mentioned   \n",
       "2  Not Mentioned  Not Mentioned  Not Mentioned  Not Mentioned   \n",
       "3       Flawless  Not Mentioned  Not Mentioned  Not Mentioned   \n",
       "4  Not Mentioned  Not Mentioned  Not Mentioned  Not Mentioned   \n",
       "\n",
       "  Syndication Source Best For Verified Buyer From Recommended  \\\n",
       "0    Original Source      NaN            NaN  NaN         NaN   \n",
       "1    Original Source      NaN            NaN  NaN         NaN   \n",
       "2    Original Source      NaN            NaN  NaN         NaN   \n",
       "3    Original Source      NaN            NaN  NaN         NaN   \n",
       "4    Original Source      NaN            NaN  NaN         NaN   \n",
       "\n",
       "  Verified Reviewer Eye Color Hair Color Skin Tone  Gender  \\\n",
       "0               NaN       NaN        NaN       NaN  Female   \n",
       "1               NaN       NaN        NaN       NaN  Female   \n",
       "2               NaN       NaN        NaN       NaN  Female   \n",
       "3               NaN       NaN        NaN       NaN  Female   \n",
       "4               NaN       NaN        NaN       NaN  Female   \n",
       "\n",
       "  I shop at macys.com Make-up Style Purchase Location Cons Pros  \\\n",
       "0                 NaN           NaN               NaN  NaN  NaN   \n",
       "1                 NaN           NaN               NaN  NaN  NaN   \n",
       "2                 NaN           NaN               NaN  NaN  NaN   \n",
       "3                 NaN           NaN               NaN  NaN  NaN   \n",
       "4                 NaN           NaN               NaN  NaN  NaN   \n",
       "\n",
       "  Describe Yourself Reviewer Skin Type  Age   Dataset Skin Condition  \\\n",
       "0               NaN                NaN  NaN  Cosmetic            NaN   \n",
       "1               NaN                NaN  NaN  Cosmetic            NaN   \n",
       "2               NaN                NaN  NaN  Cosmetic            NaN   \n",
       "3               NaN                NaN  NaN  Cosmetic            NaN   \n",
       "4               NaN                NaN  NaN  Cosmetic            NaN   \n",
       "\n",
       "  Packaging Skin Type Treatment Area Use Case  \n",
       "0       NaN       NaN            NaN      NaN  \n",
       "1       NaN       NaN            NaN      NaN  \n",
       "2       NaN       NaN            NaN      NaN  \n",
       "3       NaN       NaN            NaN      NaN  \n",
       "4       NaN       NaN            NaN      NaN  "
      ]
     },
     "execution_count": 10,
     "metadata": {},
     "output_type": "execute_result"
    }
   ],
   "source": [
    "df.head()"
   ]
  },
  {
   "cell_type": "code",
   "execution_count": 40,
   "metadata": {},
   "outputs": [
    {
     "data": {
      "text/plain": [
       "array(['Original Source', 'MILANI COSMETICS', 'CHARLOTTE TILBURY',\n",
       "       'SMASHBOX', 'NYX COSMETICS', 'BARE MINERALS', 'JANE IREDALE',\n",
       "       'LAURA MERCIER', 'LANCOME', 'No Syndication Brand', 'NARS',\n",
       "       'IT COSMETICS', \"BURT'S BEES\", 'URBAN DECAY', 'YVES SAINT LAURENT',\n",
       "       'BUXOM COSMETICS', 'LAURA GELLER', 'COOLA', 'PERRICONE MD',\n",
       "       'STRIVECTIN', 'GIORGIO ARMANI', 'GRANDE COSMETICS',\n",
       "       'ELIZABETH ARDEN', 'MAC', 'SHISEIDO', \"L'OREAL\", 'FRESH',\n",
       "       'CLARINS', 'COVERGIRL', 'ORIGINS', 'OFRA COSMETICS', 'JULEP',\n",
       "       'ELEMIS', 'CLINIQUE', 'BLUEMERCURY', 'PHILOSOPHY',\n",
       "       'FIRST AID BEAUTY', 'TARTE COSMETICS', 'HALEYS BEAUTY',\n",
       "       'DERMABLEND', 'W3LL PEOPLE', 'CLE DE PEAU BEAUTE', \"KIEHL'S\",\n",
       "       'LORAC COSMETICS', 'DR. DENNIS GROSS', 'ERNO LASZLO',\n",
       "       'ESTEE LAUDER', 'SK-II', 'Philosophy', 'DERMALOGICA', 'StriVectin',\n",
       "       'Garnier', 'SPACE NK', \"MACY'S\", 'GARNIER', 'NUFACE', 'Clinique',\n",
       "       'PRODUCT SAMPLING COMMUNITY', \"BLOOMINGDALE'S\", 'Sulwhasoo',\n",
       "       'JUICE BEAUTY', 'TONYMOLY', 'BABOR', 'KITCHENAID', 'DERMA E',\n",
       "       'PETER THOMAS ROTH', 'LA MER', 'BOBBI BROWN', 'SUN BUM',\n",
       "       'KATE SOMERVILLE', 'Lancome', 'MAMONDE', 'BLISS', 'Tonymoly',\n",
       "       'KOPARI BEAUTY', 'Fresh', 'PEACH & LILY', 'Dermalogica', 'AHAVA',\n",
       "       'BARE REPUBLICK', 'MAD HIPPIE', 'Shiseido', 'KitchenAid', 'DHC',\n",
       "       'GLAMGLOW', 'YUNI BEAUTY', 'BABO BOTANIALS', 'LAB SERIES',\n",
       "       'Bareminerals', 'SKYN ICELAND', 'BOSCIA', 'MEANINGFUL BEAUTY',\n",
       "       'URBAN SKIN RX', 'TULA', 'LOVE ME BEAUTY', 'VICHY',\n",
       "       'BAXTER OF CALIFORNIA', 'TRILOGY', 'AMOREPACIFIC', 'Coola',\n",
       "       'INDEED LABS', 'Bluemercury', 'SEED PHYTONUTRIENTS',\n",
       "       'BENEFIT COSMETICS;IT COSMETICS', 'Elemis', 'IT Cosmetics',\n",
       "       'Erno Laszlo', 'DARPHIN', 'Origins', 'SKIN & CO', 'FLOWER BEAUTY',\n",
       "       'MALIN + GOETZ', 'DUKE CANNON', 'JO MALONE LONDON',\n",
       "       'HOUSE 99 BY DAVID BECKHAM', 'Clarins', \"Kiehl's\", 'NO7',\n",
       "       'Dr. Dennis Gross', 'Elizabeth Arden', 'Babor', 'LOREAL',\n",
       "       'BAREMINERALS', 'CLARISONIC', \"Burt's Bees\", 'OMOROVICZA',\n",
       "       'Derma E', 'OLAY', 'Sun Bum', 'CURÉL', 'SULWHASOO', 'YUNI',\n",
       "       'Yves Saint Laurent', 'Dermaflash', 'Peter Thomas Roth', 'BUXOM',\n",
       "       'Amorepacific', 'Baxter Of California', 'Almay', 'DERMAFLASH',\n",
       "       'TAOS', 'Laura Mercier', 'Jane Iredale', 'Nars', 'Ahava', 'Nuface',\n",
       "       'BeautyBio', 'Cle De Peau Beaute', 'NYX Cosmetics', 'Julep',\n",
       "       'DHC - BV'], dtype=object)"
      ]
     },
     "execution_count": 40,
     "metadata": {},
     "output_type": "execute_result"
    }
   ],
   "source": [
    "df['Syndication Source'].unique()"
   ]
  },
  {
   "cell_type": "code",
   "execution_count": 11,
   "metadata": {},
   "outputs": [
    {
     "data": {
      "text/html": [
       "<div>\n",
       "<style scoped>\n",
       "    .dataframe tbody tr th:only-of-type {\n",
       "        vertical-align: middle;\n",
       "    }\n",
       "\n",
       "    .dataframe tbody tr th {\n",
       "        vertical-align: top;\n",
       "    }\n",
       "\n",
       "    .dataframe thead th {\n",
       "        text-align: right;\n",
       "    }\n",
       "</style>\n",
       "<table border=\"1\" class=\"dataframe\">\n",
       "  <thead>\n",
       "    <tr style=\"text-align: right;\">\n",
       "      <th></th>\n",
       "      <th>Rating</th>\n",
       "    </tr>\n",
       "  </thead>\n",
       "  <tbody>\n",
       "    <tr>\n",
       "      <th>count</th>\n",
       "      <td>1.159114e+07</td>\n",
       "    </tr>\n",
       "    <tr>\n",
       "      <th>mean</th>\n",
       "      <td>4.234895e+00</td>\n",
       "    </tr>\n",
       "    <tr>\n",
       "      <th>std</th>\n",
       "      <td>1.141873e+00</td>\n",
       "    </tr>\n",
       "    <tr>\n",
       "      <th>min</th>\n",
       "      <td>1.000000e+00</td>\n",
       "    </tr>\n",
       "    <tr>\n",
       "      <th>25%</th>\n",
       "      <td>4.000000e+00</td>\n",
       "    </tr>\n",
       "    <tr>\n",
       "      <th>50%</th>\n",
       "      <td>5.000000e+00</td>\n",
       "    </tr>\n",
       "    <tr>\n",
       "      <th>75%</th>\n",
       "      <td>5.000000e+00</td>\n",
       "    </tr>\n",
       "    <tr>\n",
       "      <th>max</th>\n",
       "      <td>5.000000e+00</td>\n",
       "    </tr>\n",
       "  </tbody>\n",
       "</table>\n",
       "</div>"
      ],
      "text/plain": [
       "             Rating\n",
       "count  1.159114e+07\n",
       "mean   4.234895e+00\n",
       "std    1.141873e+00\n",
       "min    1.000000e+00\n",
       "25%    4.000000e+00\n",
       "50%    5.000000e+00\n",
       "75%    5.000000e+00\n",
       "max    5.000000e+00"
      ]
     },
     "execution_count": 11,
     "metadata": {},
     "output_type": "execute_result"
    }
   ],
   "source": [
    "df.describe()"
   ]
  },
  {
   "cell_type": "markdown",
   "metadata": {},
   "source": [
    "## Geography"
   ]
  },
  {
   "cell_type": "code",
   "execution_count": 12,
   "metadata": {},
   "outputs": [
    {
     "data": {
      "text/html": [
       "<div>\n",
       "<style scoped>\n",
       "    .dataframe tbody tr th:only-of-type {\n",
       "        vertical-align: middle;\n",
       "    }\n",
       "\n",
       "    .dataframe tbody tr th {\n",
       "        vertical-align: top;\n",
       "    }\n",
       "\n",
       "    .dataframe thead th {\n",
       "        text-align: right;\n",
       "    }\n",
       "</style>\n",
       "<table border=\"1\" class=\"dataframe\">\n",
       "  <thead>\n",
       "    <tr style=\"text-align: right;\">\n",
       "      <th>Dataset</th>\n",
       "      <th>Cosmetic</th>\n",
       "      <th>Skincare</th>\n",
       "    </tr>\n",
       "    <tr>\n",
       "      <th>Geography</th>\n",
       "      <th></th>\n",
       "      <th></th>\n",
       "    </tr>\n",
       "  </thead>\n",
       "  <tbody>\n",
       "    <tr>\n",
       "      <th>UK</th>\n",
       "      <td>36287</td>\n",
       "      <td>1428715</td>\n",
       "    </tr>\n",
       "    <tr>\n",
       "      <th>USA</th>\n",
       "      <td>247584</td>\n",
       "      <td>9878556</td>\n",
       "    </tr>\n",
       "  </tbody>\n",
       "</table>\n",
       "</div>"
      ],
      "text/plain": [
       "Dataset    Cosmetic  Skincare\n",
       "Geography                    \n",
       "UK            36287   1428715\n",
       "USA          247584   9878556"
      ]
     },
     "execution_count": 12,
     "metadata": {},
     "output_type": "execute_result"
    }
   ],
   "source": [
    "df.groupby(['Dataset', 'Geography']).size().unstack(0)"
   ]
  },
  {
   "cell_type": "code",
   "execution_count": 13,
   "metadata": {},
   "outputs": [
    {
     "data": {
      "text/plain": [
       "Text(0, 0.5, 'Geography')"
      ]
     },
     "execution_count": 13,
     "metadata": {},
     "output_type": "execute_result"
    },
    {
     "data": {
      "image/png": "[encoded data removed]",
      "text/plain": [
       "<Figure size 576x360 with 1 Axes>"
      ]
     },
     "metadata": {
      "needs_background": "light"
     },
     "output_type": "display_data"
    }
   ],
   "source": [
    "df.groupby(['Dataset', 'Geography']).size().unstack(0).plot.bar(figsize=[8,5])\n",
    "plt.grid()\n",
    "plt.title('Geography')\n",
    "plt.xlabel('Number of ratings')\n",
    "plt.ylabel('Geography')"
   ]
  },
  {
   "cell_type": "code",
   "execution_count": 14,
   "metadata": {},
   "outputs": [],
   "source": [
    "df=df[df['Geography']=='USA']"
   ]
  },
  {
   "cell_type": "markdown",
   "metadata": {},
   "source": [
    "## Dataset sizes"
   ]
  },
  {
   "cell_type": "code",
   "execution_count": 15,
   "metadata": {},
   "outputs": [
    {
     "data": {
      "text/plain": [
       "Dataset\n",
       "Cosmetic     247584\n",
       "Skincare    9878556\n",
       "dtype: int64"
      ]
     },
     "execution_count": 15,
     "metadata": {},
     "output_type": "execute_result"
    }
   ],
   "source": [
    "df.groupby('Dataset').size()"
   ]
  },
  {
   "cell_type": "code",
   "execution_count": 16,
   "metadata": {},
   "outputs": [
    {
     "data": {
      "text/plain": [
       "Text(0.5, 0, 'Dataset')"
      ]
     },
     "execution_count": 16,
     "metadata": {},
     "output_type": "execute_result"
    },
    {
     "data": {
      "image/png": "[encoded data removed]",
      "text/plain": [
       "<Figure size 360x360 with 1 Axes>"
      ]
     },
     "metadata": {
      "needs_background": "light"
     },
     "output_type": "display_data"
    }
   ],
   "source": [
    "df.groupby('Dataset').size().plot.bar(figsize=[5,5])\n",
    "plt.grid()\n",
    "plt.title('Size of datasets')\n",
    "plt.ylabel('Number of rows')\n",
    "plt.xlabel('Dataset')"
   ]
  },
  {
   "cell_type": "markdown",
   "metadata": {},
   "source": [
    "## Number of unique values"
   ]
  },
  {
   "cell_type": "code",
   "execution_count": 34,
   "metadata": {},
   "outputs": [
    {
     "name": "stdout",
     "output_type": "stream",
     "text": [
      "cos 40\n",
      "skin 40\n"
     ]
    }
   ],
   "source": [
    "print('cos', len(rr_cosmetic_01_20.columns))\n",
    "print('skin', len(rr_skincare_12_19.columns))"
   ]
  },
  {
   "cell_type": "code",
   "execution_count": 17,
   "metadata": {},
   "outputs": [
    {
     "data": {
      "text/html": [
       "<div>\n",
       "<style scoped>\n",
       "    .dataframe tbody tr th:only-of-type {\n",
       "        vertical-align: middle;\n",
       "    }\n",
       "\n",
       "    .dataframe tbody tr th {\n",
       "        vertical-align: top;\n",
       "    }\n",
       "\n",
       "    .dataframe thead th {\n",
       "        text-align: right;\n",
       "    }\n",
       "</style>\n",
       "<table border=\"1\" class=\"dataframe\">\n",
       "  <thead>\n",
       "    <tr style=\"text-align: right;\">\n",
       "      <th>Dataset</th>\n",
       "      <th>Cosmetic</th>\n",
       "      <th>Skincare</th>\n",
       "    </tr>\n",
       "  </thead>\n",
       "  <tbody>\n",
       "    <tr>\n",
       "      <th>OnlinePost_ID</th>\n",
       "      <td>63132</td>\n",
       "      <td>2397150</td>\n",
       "    </tr>\n",
       "    <tr>\n",
       "      <th>Source Product Identifier</th>\n",
       "      <td>10776</td>\n",
       "      <td>28576</td>\n",
       "    </tr>\n",
       "    <tr>\n",
       "      <th>OnlineStatement_ID</th>\n",
       "      <td>247584</td>\n",
       "      <td>9878556</td>\n",
       "    </tr>\n",
       "    <tr>\n",
       "      <th>Date</th>\n",
       "      <td>31</td>\n",
       "      <td>1826</td>\n",
       "    </tr>\n",
       "    <tr>\n",
       "      <th>Title</th>\n",
       "      <td>34522</td>\n",
       "      <td>854094</td>\n",
       "    </tr>\n",
       "    <tr>\n",
       "      <th>Description</th>\n",
       "      <td>196270</td>\n",
       "      <td>7221935</td>\n",
       "    </tr>\n",
       "    <tr>\n",
       "      <th>Geography</th>\n",
       "      <td>1</td>\n",
       "      <td>1</td>\n",
       "    </tr>\n",
       "    <tr>\n",
       "      <th>Channel</th>\n",
       "      <td>7</td>\n",
       "      <td>7</td>\n",
       "    </tr>\n",
       "    <tr>\n",
       "      <th>Product_ID</th>\n",
       "      <td>10776</td>\n",
       "      <td>28576</td>\n",
       "    </tr>\n",
       "    <tr>\n",
       "      <th>Rating</th>\n",
       "      <td>5</td>\n",
       "      <td>5</td>\n",
       "    </tr>\n",
       "    <tr>\n",
       "      <th>Sentiment</th>\n",
       "      <td>3</td>\n",
       "      <td>3</td>\n",
       "    </tr>\n",
       "    <tr>\n",
       "      <th>Feature</th>\n",
       "      <td>155</td>\n",
       "      <td>1211</td>\n",
       "    </tr>\n",
       "    <tr>\n",
       "      <th>Benefit</th>\n",
       "      <td>1063</td>\n",
       "      <td>7482</td>\n",
       "    </tr>\n",
       "    <tr>\n",
       "      <th>Ingredient</th>\n",
       "      <td>26</td>\n",
       "      <td>856</td>\n",
       "    </tr>\n",
       "    <tr>\n",
       "      <th>Additional Ingredients (no rulebase)</th>\n",
       "      <td>35</td>\n",
       "      <td>290</td>\n",
       "    </tr>\n",
       "    <tr>\n",
       "      <th>Product Form</th>\n",
       "      <td>221</td>\n",
       "      <td>635</td>\n",
       "    </tr>\n",
       "    <tr>\n",
       "      <th>ELC Solution Type</th>\n",
       "      <td>39</td>\n",
       "      <td>23</td>\n",
       "    </tr>\n",
       "    <tr>\n",
       "      <th>Finish</th>\n",
       "      <td>78</td>\n",
       "      <td>0</td>\n",
       "    </tr>\n",
       "    <tr>\n",
       "      <th>Looks</th>\n",
       "      <td>39</td>\n",
       "      <td>0</td>\n",
       "    </tr>\n",
       "    <tr>\n",
       "      <th>Other</th>\n",
       "      <td>11</td>\n",
       "      <td>0</td>\n",
       "    </tr>\n",
       "    <tr>\n",
       "      <th>Trends</th>\n",
       "      <td>38</td>\n",
       "      <td>0</td>\n",
       "    </tr>\n",
       "    <tr>\n",
       "      <th>Syndication Source</th>\n",
       "      <td>45</td>\n",
       "      <td>143</td>\n",
       "    </tr>\n",
       "    <tr>\n",
       "      <th>Best For</th>\n",
       "      <td>246</td>\n",
       "      <td>1038</td>\n",
       "    </tr>\n",
       "    <tr>\n",
       "      <th>Verified Buyer</th>\n",
       "      <td>0</td>\n",
       "      <td>2</td>\n",
       "    </tr>\n",
       "    <tr>\n",
       "      <th>From</th>\n",
       "      <td>634</td>\n",
       "      <td>62195</td>\n",
       "    </tr>\n",
       "    <tr>\n",
       "      <th>Recommended</th>\n",
       "      <td>7</td>\n",
       "      <td>9</td>\n",
       "    </tr>\n",
       "    <tr>\n",
       "      <th>Verified Reviewer</th>\n",
       "      <td>0</td>\n",
       "      <td>2</td>\n",
       "    </tr>\n",
       "    <tr>\n",
       "      <th>Eye Color</th>\n",
       "      <td>5</td>\n",
       "      <td>5</td>\n",
       "    </tr>\n",
       "    <tr>\n",
       "      <th>Hair Color</th>\n",
       "      <td>6</td>\n",
       "      <td>6</td>\n",
       "    </tr>\n",
       "    <tr>\n",
       "      <th>Skin Tone</th>\n",
       "      <td>9</td>\n",
       "      <td>9</td>\n",
       "    </tr>\n",
       "    <tr>\n",
       "      <th>Gender</th>\n",
       "      <td>1</td>\n",
       "      <td>2</td>\n",
       "    </tr>\n",
       "    <tr>\n",
       "      <th>I shop at macys.com</th>\n",
       "      <td>0</td>\n",
       "      <td>1</td>\n",
       "    </tr>\n",
       "    <tr>\n",
       "      <th>Make-up Style</th>\n",
       "      <td>1</td>\n",
       "      <td>3</td>\n",
       "    </tr>\n",
       "    <tr>\n",
       "      <th>Purchase Location</th>\n",
       "      <td>2</td>\n",
       "      <td>2</td>\n",
       "    </tr>\n",
       "    <tr>\n",
       "      <th>Cons</th>\n",
       "      <td>402</td>\n",
       "      <td>13268</td>\n",
       "    </tr>\n",
       "    <tr>\n",
       "      <th>Pros</th>\n",
       "      <td>705</td>\n",
       "      <td>22685</td>\n",
       "    </tr>\n",
       "    <tr>\n",
       "      <th>Describe Yourself</th>\n",
       "      <td>302</td>\n",
       "      <td>3859</td>\n",
       "    </tr>\n",
       "    <tr>\n",
       "      <th>Reviewer Skin Type</th>\n",
       "      <td>4</td>\n",
       "      <td>4</td>\n",
       "    </tr>\n",
       "    <tr>\n",
       "      <th>Age</th>\n",
       "      <td>0</td>\n",
       "      <td>12</td>\n",
       "    </tr>\n",
       "    <tr>\n",
       "      <th>Dataset</th>\n",
       "      <td>1</td>\n",
       "      <td>1</td>\n",
       "    </tr>\n",
       "    <tr>\n",
       "      <th>Skin Condition</th>\n",
       "      <td>0</td>\n",
       "      <td>1780</td>\n",
       "    </tr>\n",
       "    <tr>\n",
       "      <th>Packaging</th>\n",
       "      <td>0</td>\n",
       "      <td>17</td>\n",
       "    </tr>\n",
       "    <tr>\n",
       "      <th>Skin Type</th>\n",
       "      <td>0</td>\n",
       "      <td>154</td>\n",
       "    </tr>\n",
       "    <tr>\n",
       "      <th>Treatment Area</th>\n",
       "      <td>0</td>\n",
       "      <td>387</td>\n",
       "    </tr>\n",
       "    <tr>\n",
       "      <th>Use Case</th>\n",
       "      <td>0</td>\n",
       "      <td>4</td>\n",
       "    </tr>\n",
       "  </tbody>\n",
       "</table>\n",
       "</div>"
      ],
      "text/plain": [
       "Dataset                               Cosmetic  Skincare\n",
       "OnlinePost_ID                            63132   2397150\n",
       "Source Product Identifier                10776     28576\n",
       "OnlineStatement_ID                      247584   9878556\n",
       "Date                                        31      1826\n",
       "Title                                    34522    854094\n",
       "Description                             196270   7221935\n",
       "Geography                                    1         1\n",
       "Channel                                      7         7\n",
       "Product_ID                               10776     28576\n",
       "Rating                                       5         5\n",
       "Sentiment                                    3         3\n",
       "Feature                                    155      1211\n",
       "Benefit                                   1063      7482\n",
       "Ingredient                                  26       856\n",
       "Additional Ingredients (no rulebase)        35       290\n",
       "Product Form                               221       635\n",
       "ELC Solution Type                           39        23\n",
       "Finish                                      78         0\n",
       "Looks                                       39         0\n",
       "Other                                       11         0\n",
       "Trends                                      38         0\n",
       "Syndication Source                          45       143\n",
       "Best For                                   246      1038\n",
       "Verified Buyer                               0         2\n",
       "From                                       634     62195\n",
       "Recommended                                  7         9\n",
       "Verified Reviewer                            0         2\n",
       "Eye Color                                    5         5\n",
       "Hair Color                                   6         6\n",
       "Skin Tone                                    9         9\n",
       "Gender                                       1         2\n",
       "I shop at macys.com                          0         1\n",
       "Make-up Style                                1         3\n",
       "Purchase Location                            2         2\n",
       "Cons                                       402     13268\n",
       "Pros                                       705     22685\n",
       "Describe Yourself                          302      3859\n",
       "Reviewer Skin Type                           4         4\n",
       "Age                                          0        12\n",
       "Dataset                                      1         1\n",
       "Skin Condition                               0      1780\n",
       "Packaging                                    0        17\n",
       "Skin Type                                    0       154\n",
       "Treatment Area                               0       387\n",
       "Use Case                                     0         4"
      ]
     },
     "execution_count": 17,
     "metadata": {},
     "output_type": "execute_result"
    }
   ],
   "source": [
    "nb_unique = df.copy().groupby('Dataset').nunique().stack().unstack(0)\n",
    "nb_unique"
   ]
  },
  {
   "cell_type": "code",
   "execution_count": 1,
   "metadata": {},
   "outputs": [
    {
     "ename": "NameError",
     "evalue": "name 'plt' is not defined",
     "output_type": "error",
     "traceback": [
      "\u001b[1;31m---------------------------------------------------------------------------\u001b[0m",
      "\u001b[1;31mNameError\u001b[0m                                 Traceback (most recent call last)",
      "\u001b[1;32m<ipython-input-1-571cb387939b>\u001b[0m in \u001b[0;36m<module>\u001b[1;34m\u001b[0m\n\u001b[1;32m----> 1\u001b[1;33m \u001b[0mplt\u001b[0m\u001b[1;33m.\u001b[0m\u001b[0mfigure\u001b[0m\u001b[1;33m(\u001b[0m\u001b[0mfigsize\u001b[0m\u001b[1;33m=\u001b[0m\u001b[1;33m(\u001b[0m\u001b[1;36m19\u001b[0m\u001b[1;33m,\u001b[0m \u001b[1;36m15\u001b[0m\u001b[1;33m)\u001b[0m\u001b[1;33m)\u001b[0m\u001b[1;33m\u001b[0m\u001b[1;33m\u001b[0m\u001b[0m\n\u001b[0m\u001b[0;32m      2\u001b[0m \u001b[0mnb_unique\u001b[0m\u001b[1;33m.\u001b[0m\u001b[0mplot\u001b[0m\u001b[1;33m.\u001b[0m\u001b[0mbar\u001b[0m\u001b[1;33m(\u001b[0m\u001b[1;33m)\u001b[0m\u001b[1;33m\u001b[0m\u001b[1;33m\u001b[0m\u001b[0m\n\u001b[0;32m      3\u001b[0m \u001b[0mplt\u001b[0m\u001b[1;33m.\u001b[0m\u001b[0mgrid\u001b[0m\u001b[1;33m(\u001b[0m\u001b[1;33m)\u001b[0m\u001b[1;33m\u001b[0m\u001b[1;33m\u001b[0m\u001b[0m\n\u001b[0;32m      4\u001b[0m \u001b[0mplt\u001b[0m\u001b[1;33m.\u001b[0m\u001b[0mxlabel\u001b[0m\u001b[1;33m(\u001b[0m\u001b[1;34m'Column'\u001b[0m\u001b[1;33m)\u001b[0m\u001b[1;33m\u001b[0m\u001b[1;33m\u001b[0m\u001b[0m\n\u001b[0;32m      5\u001b[0m \u001b[0mplt\u001b[0m\u001b[1;33m.\u001b[0m\u001b[0mylabel\u001b[0m\u001b[1;33m(\u001b[0m\u001b[1;34m'Number of unique values'\u001b[0m\u001b[1;33m)\u001b[0m\u001b[1;33m\u001b[0m\u001b[1;33m\u001b[0m\u001b[0m\n",
      "\u001b[1;31mNameError\u001b[0m: name 'plt' is not defined"
     ]
    }
   ],
   "source": [
    "nb_unique.plot.bar()\n",
    "plt.grid()\n",
    "plt.xlabel('Column')\n",
    "plt.ylabel('Number of unique values')"
   ]
  },
  {
   "cell_type": "markdown",
   "metadata": {},
   "source": [
    "## Missing Data"
   ]
  },
  {
   "cell_type": "code",
   "execution_count": 19,
   "metadata": {},
   "outputs": [
    {
     "data": {
      "text/html": [
       "<div>\n",
       "<style scoped>\n",
       "    .dataframe tbody tr th:only-of-type {\n",
       "        vertical-align: middle;\n",
       "    }\n",
       "\n",
       "    .dataframe tbody tr th {\n",
       "        vertical-align: top;\n",
       "    }\n",
       "\n",
       "    .dataframe thead th {\n",
       "        text-align: right;\n",
       "    }\n",
       "</style>\n",
       "<table border=\"1\" class=\"dataframe\">\n",
       "  <thead>\n",
       "    <tr style=\"text-align: right;\">\n",
       "      <th>Dataset</th>\n",
       "      <th>Cosmetic</th>\n",
       "      <th>Skincare</th>\n",
       "    </tr>\n",
       "  </thead>\n",
       "  <tbody>\n",
       "    <tr>\n",
       "      <th>OnlinePost_ID</th>\n",
       "      <td>0.000000</td>\n",
       "      <td>0.000000</td>\n",
       "    </tr>\n",
       "    <tr>\n",
       "      <th>Source Product Identifier</th>\n",
       "      <td>0.000000</td>\n",
       "      <td>0.000000</td>\n",
       "    </tr>\n",
       "    <tr>\n",
       "      <th>OnlineStatement_ID</th>\n",
       "      <td>0.000000</td>\n",
       "      <td>0.000000</td>\n",
       "    </tr>\n",
       "    <tr>\n",
       "      <th>Date</th>\n",
       "      <td>0.000000</td>\n",
       "      <td>0.000000</td>\n",
       "    </tr>\n",
       "    <tr>\n",
       "      <th>Title</th>\n",
       "      <td>5.756026</td>\n",
       "      <td>0.350932</td>\n",
       "    </tr>\n",
       "    <tr>\n",
       "      <th>Description</th>\n",
       "      <td>0.000000</td>\n",
       "      <td>0.000000</td>\n",
       "    </tr>\n",
       "    <tr>\n",
       "      <th>Geography</th>\n",
       "      <td>0.000000</td>\n",
       "      <td>0.000000</td>\n",
       "    </tr>\n",
       "    <tr>\n",
       "      <th>Channel</th>\n",
       "      <td>0.000000</td>\n",
       "      <td>0.000000</td>\n",
       "    </tr>\n",
       "    <tr>\n",
       "      <th>Product_ID</th>\n",
       "      <td>0.000000</td>\n",
       "      <td>0.000000</td>\n",
       "    </tr>\n",
       "    <tr>\n",
       "      <th>Rating</th>\n",
       "      <td>0.000000</td>\n",
       "      <td>0.000000</td>\n",
       "    </tr>\n",
       "    <tr>\n",
       "      <th>Sentiment</th>\n",
       "      <td>0.000000</td>\n",
       "      <td>0.000000</td>\n",
       "    </tr>\n",
       "    <tr>\n",
       "      <th>Feature</th>\n",
       "      <td>0.000000</td>\n",
       "      <td>0.000000</td>\n",
       "    </tr>\n",
       "    <tr>\n",
       "      <th>Benefit</th>\n",
       "      <td>0.000000</td>\n",
       "      <td>0.000000</td>\n",
       "    </tr>\n",
       "    <tr>\n",
       "      <th>Ingredient</th>\n",
       "      <td>0.000000</td>\n",
       "      <td>0.000000</td>\n",
       "    </tr>\n",
       "    <tr>\n",
       "      <th>Additional Ingredients (no rulebase)</th>\n",
       "      <td>0.000000</td>\n",
       "      <td>0.000000</td>\n",
       "    </tr>\n",
       "    <tr>\n",
       "      <th>Product Form</th>\n",
       "      <td>0.000000</td>\n",
       "      <td>0.000000</td>\n",
       "    </tr>\n",
       "    <tr>\n",
       "      <th>ELC Solution Type</th>\n",
       "      <td>0.000000</td>\n",
       "      <td>0.000000</td>\n",
       "    </tr>\n",
       "    <tr>\n",
       "      <th>Finish</th>\n",
       "      <td>0.000000</td>\n",
       "      <td>100.000000</td>\n",
       "    </tr>\n",
       "    <tr>\n",
       "      <th>Looks</th>\n",
       "      <td>0.000000</td>\n",
       "      <td>100.000000</td>\n",
       "    </tr>\n",
       "    <tr>\n",
       "      <th>Other</th>\n",
       "      <td>0.000000</td>\n",
       "      <td>100.000000</td>\n",
       "    </tr>\n",
       "    <tr>\n",
       "      <th>Trends</th>\n",
       "      <td>0.000000</td>\n",
       "      <td>100.000000</td>\n",
       "    </tr>\n",
       "    <tr>\n",
       "      <th>Syndication Source</th>\n",
       "      <td>0.000000</td>\n",
       "      <td>0.000000</td>\n",
       "    </tr>\n",
       "    <tr>\n",
       "      <th>Best For</th>\n",
       "      <td>99.398588</td>\n",
       "      <td>99.665538</td>\n",
       "    </tr>\n",
       "    <tr>\n",
       "      <th>Verified Buyer</th>\n",
       "      <td>100.000000</td>\n",
       "      <td>86.955978</td>\n",
       "    </tr>\n",
       "    <tr>\n",
       "      <th>From</th>\n",
       "      <td>67.511632</td>\n",
       "      <td>58.325174</td>\n",
       "    </tr>\n",
       "    <tr>\n",
       "      <th>Recommended</th>\n",
       "      <td>70.245250</td>\n",
       "      <td>69.573559</td>\n",
       "    </tr>\n",
       "    <tr>\n",
       "      <th>Verified Reviewer</th>\n",
       "      <td>100.000000</td>\n",
       "      <td>86.955978</td>\n",
       "    </tr>\n",
       "    <tr>\n",
       "      <th>Eye Color</th>\n",
       "      <td>74.211985</td>\n",
       "      <td>85.031760</td>\n",
       "    </tr>\n",
       "    <tr>\n",
       "      <th>Hair Color</th>\n",
       "      <td>73.904614</td>\n",
       "      <td>85.501828</td>\n",
       "    </tr>\n",
       "    <tr>\n",
       "      <th>Skin Tone</th>\n",
       "      <td>73.713568</td>\n",
       "      <td>84.696599</td>\n",
       "    </tr>\n",
       "    <tr>\n",
       "      <th>Gender</th>\n",
       "      <td>99.989095</td>\n",
       "      <td>99.492578</td>\n",
       "    </tr>\n",
       "    <tr>\n",
       "      <th>I shop at macys.com</th>\n",
       "      <td>100.000000</td>\n",
       "      <td>99.987255</td>\n",
       "    </tr>\n",
       "    <tr>\n",
       "      <th>Make-up Style</th>\n",
       "      <td>99.995557</td>\n",
       "      <td>99.716720</td>\n",
       "    </tr>\n",
       "    <tr>\n",
       "      <th>Purchase Location</th>\n",
       "      <td>99.994345</td>\n",
       "      <td>99.657339</td>\n",
       "    </tr>\n",
       "    <tr>\n",
       "      <th>Cons</th>\n",
       "      <td>99.041537</td>\n",
       "      <td>97.536158</td>\n",
       "    </tr>\n",
       "    <tr>\n",
       "      <th>Pros</th>\n",
       "      <td>94.002843</td>\n",
       "      <td>90.215351</td>\n",
       "    </tr>\n",
       "    <tr>\n",
       "      <th>Describe Yourself</th>\n",
       "      <td>99.268935</td>\n",
       "      <td>93.024446</td>\n",
       "    </tr>\n",
       "    <tr>\n",
       "      <th>Reviewer Skin Type</th>\n",
       "      <td>73.746688</td>\n",
       "      <td>83.072162</td>\n",
       "    </tr>\n",
       "    <tr>\n",
       "      <th>Age</th>\n",
       "      <td>100.000000</td>\n",
       "      <td>95.522321</td>\n",
       "    </tr>\n",
       "    <tr>\n",
       "      <th>Skin Condition</th>\n",
       "      <td>100.000000</td>\n",
       "      <td>0.000000</td>\n",
       "    </tr>\n",
       "    <tr>\n",
       "      <th>Packaging</th>\n",
       "      <td>100.000000</td>\n",
       "      <td>0.000000</td>\n",
       "    </tr>\n",
       "    <tr>\n",
       "      <th>Skin Type</th>\n",
       "      <td>100.000000</td>\n",
       "      <td>0.000000</td>\n",
       "    </tr>\n",
       "    <tr>\n",
       "      <th>Treatment Area</th>\n",
       "      <td>100.000000</td>\n",
       "      <td>0.000000</td>\n",
       "    </tr>\n",
       "    <tr>\n",
       "      <th>Use Case</th>\n",
       "      <td>100.000000</td>\n",
       "      <td>0.000000</td>\n",
       "    </tr>\n",
       "  </tbody>\n",
       "</table>\n",
       "</div>"
      ],
      "text/plain": [
       "Dataset                                 Cosmetic    Skincare\n",
       "OnlinePost_ID                           0.000000    0.000000\n",
       "Source Product Identifier               0.000000    0.000000\n",
       "OnlineStatement_ID                      0.000000    0.000000\n",
       "Date                                    0.000000    0.000000\n",
       "Title                                   5.756026    0.350932\n",
       "Description                             0.000000    0.000000\n",
       "Geography                               0.000000    0.000000\n",
       "Channel                                 0.000000    0.000000\n",
       "Product_ID                              0.000000    0.000000\n",
       "Rating                                  0.000000    0.000000\n",
       "Sentiment                               0.000000    0.000000\n",
       "Feature                                 0.000000    0.000000\n",
       "Benefit                                 0.000000    0.000000\n",
       "Ingredient                              0.000000    0.000000\n",
       "Additional Ingredients (no rulebase)    0.000000    0.000000\n",
       "Product Form                            0.000000    0.000000\n",
       "ELC Solution Type                       0.000000    0.000000\n",
       "Finish                                  0.000000  100.000000\n",
       "Looks                                   0.000000  100.000000\n",
       "Other                                   0.000000  100.000000\n",
       "Trends                                  0.000000  100.000000\n",
       "Syndication Source                      0.000000    0.000000\n",
       "Best For                               99.398588   99.665538\n",
       "Verified Buyer                        100.000000   86.955978\n",
       "From                                   67.511632   58.325174\n",
       "Recommended                            70.245250   69.573559\n",
       "Verified Reviewer                     100.000000   86.955978\n",
       "Eye Color                              74.211985   85.031760\n",
       "Hair Color                             73.904614   85.501828\n",
       "Skin Tone                              73.713568   84.696599\n",
       "Gender                                 99.989095   99.492578\n",
       "I shop at macys.com                   100.000000   99.987255\n",
       "Make-up Style                          99.995557   99.716720\n",
       "Purchase Location                      99.994345   99.657339\n",
       "Cons                                   99.041537   97.536158\n",
       "Pros                                   94.002843   90.215351\n",
       "Describe Yourself                      99.268935   93.024446\n",
       "Reviewer Skin Type                     73.746688   83.072162\n",
       "Age                                   100.000000   95.522321\n",
       "Skin Condition                        100.000000    0.000000\n",
       "Packaging                             100.000000    0.000000\n",
       "Skin Type                             100.000000    0.000000\n",
       "Treatment Area                        100.000000    0.000000\n",
       "Use Case                              100.000000    0.000000"
      ]
     },
     "execution_count": 19,
     "metadata": {},
     "output_type": "execute_result"
    }
   ],
   "source": [
    "df_pct_na = (df.set_index('Dataset').isna().reset_index().groupby('Dataset').sum().divide(df.groupby('Dataset').size(), axis=0)*100).stack().unstack(0)\n",
    "df_pct_na"
   ]
  },
  {
   "cell_type": "code",
   "execution_count": 20,
   "metadata": {},
   "outputs": [
    {
     "data": {
      "text/plain": [
       "23"
      ]
     },
     "execution_count": 20,
     "metadata": {},
     "output_type": "execute_result"
    }
   ],
   "source": [
    "len(pc_skincare_01_20.columns)"
   ]
  },
  {
   "cell_type": "code",
   "execution_count": 21,
   "metadata": {},
   "outputs": [
    {
     "data": {
      "text/plain": [
       "Text(0.5, 0, 'Column')"
      ]
     },
     "execution_count": 21,
     "metadata": {},
     "output_type": "execute_result"
    },
    {
     "data": {
      "image/png": "[encoded data removed]",
      "text/plain": [
       "<Figure size 720x360 with 1 Axes>"
      ]
     },
     "metadata": {
      "needs_background": "light"
     },
     "output_type": "display_data"
    }
   ],
   "source": [
    "df_pct_na.plot.bar(figsize=[10,5])\n",
    "plt.grid()\n",
    "plt.title('Missing data per dataset')\n",
    "plt.ylabel('% of  NaN')\n",
    "plt.xlabel('Column')"
   ]
  },
  {
   "cell_type": "markdown",
   "metadata": {},
   "source": [
    "## Ratings"
   ]
  },
  {
   "cell_type": "code",
   "execution_count": 22,
   "metadata": {},
   "outputs": [
    {
     "data": {
      "text/plain": [
       "Text(0, 0.5, 'Rating')"
      ]
     },
     "execution_count": 22,
     "metadata": {},
     "output_type": "execute_result"
    },
    {
     "data": {
      "image/png": "[encoded data removed]",
      "text/plain": [
       "<Figure size 432x360 with 1 Axes>"
      ]
     },
     "metadata": {
      "needs_background": "light"
     },
     "output_type": "display_data"
    }
   ],
   "source": [
    "df[['Dataset', 'Rating']].boxplot(by='Dataset', figsize=[6,5])\n",
    "plt.xlabel('Dataset')\n",
    "plt.ylabel('Rating')"
   ]
  },
  {
   "cell_type": "code",
   "execution_count": 23,
   "metadata": {},
   "outputs": [
    {
     "data": {
      "text/plain": [
       "array([<matplotlib.axes._subplots.AxesSubplot object at 0x00000276C381F608>,\n",
       "       <matplotlib.axes._subplots.AxesSubplot object at 0x00000276C3A25E08>],\n",
       "      dtype=object)"
      ]
     },
     "execution_count": 23,
     "metadata": {},
     "output_type": "execute_result"
    },
    {
     "data": {
      "image/png": "[encoded data removed]",
      "text/plain": [
       "<Figure size 432x288 with 2 Axes>"
      ]
     },
     "metadata": {
      "needs_background": "light"
     },
     "output_type": "display_data"
    }
   ],
   "source": [
    "df.hist('Rating', by='Dataset', grid=True, bins=50)"
   ]
  },
  {
   "cell_type": "markdown",
   "metadata": {},
   "source": [
    "### Rating by channel"
   ]
  },
  {
   "cell_type": "code",
   "execution_count": 24,
   "metadata": {},
   "outputs": [
    {
     "data": {
      "text/html": [
       "<div>\n",
       "<style scoped>\n",
       "    .dataframe tbody tr th:only-of-type {\n",
       "        vertical-align: middle;\n",
       "    }\n",
       "\n",
       "    .dataframe tbody tr th {\n",
       "        vertical-align: top;\n",
       "    }\n",
       "\n",
       "    .dataframe thead th {\n",
       "        text-align: right;\n",
       "    }\n",
       "</style>\n",
       "<table border=\"1\" class=\"dataframe\">\n",
       "  <thead>\n",
       "    <tr style=\"text-align: right;\">\n",
       "      <th></th>\n",
       "      <th>count</th>\n",
       "      <th>mean</th>\n",
       "      <th>std</th>\n",
       "      <th>min</th>\n",
       "      <th>25%</th>\n",
       "      <th>50%</th>\n",
       "      <th>75%</th>\n",
       "      <th>max</th>\n",
       "    </tr>\n",
       "    <tr>\n",
       "      <th>Channel</th>\n",
       "      <th></th>\n",
       "      <th></th>\n",
       "      <th></th>\n",
       "      <th></th>\n",
       "      <th></th>\n",
       "      <th></th>\n",
       "      <th></th>\n",
       "      <th></th>\n",
       "    </tr>\n",
       "  </thead>\n",
       "  <tbody>\n",
       "    <tr>\n",
       "      <th>Amazon USA</th>\n",
       "      <td>1506025.0</td>\n",
       "      <td>4.125791</td>\n",
       "      <td>1.388725</td>\n",
       "      <td>1.0</td>\n",
       "      <td>4.0</td>\n",
       "      <td>5.0</td>\n",
       "      <td>5.0</td>\n",
       "      <td>5.0</td>\n",
       "    </tr>\n",
       "    <tr>\n",
       "      <th>Birchbox</th>\n",
       "      <td>4073898.0</td>\n",
       "      <td>4.136793</td>\n",
       "      <td>1.031476</td>\n",
       "      <td>1.0</td>\n",
       "      <td>4.0</td>\n",
       "      <td>4.0</td>\n",
       "      <td>5.0</td>\n",
       "      <td>5.0</td>\n",
       "    </tr>\n",
       "    <tr>\n",
       "      <th>Bloomingdales</th>\n",
       "      <td>224906.0</td>\n",
       "      <td>4.521716</td>\n",
       "      <td>0.951178</td>\n",
       "      <td>1.0</td>\n",
       "      <td>4.0</td>\n",
       "      <td>5.0</td>\n",
       "      <td>5.0</td>\n",
       "      <td>5.0</td>\n",
       "    </tr>\n",
       "    <tr>\n",
       "      <th>Macy's</th>\n",
       "      <td>580045.0</td>\n",
       "      <td>4.533715</td>\n",
       "      <td>0.972106</td>\n",
       "      <td>1.0</td>\n",
       "      <td>4.0</td>\n",
       "      <td>5.0</td>\n",
       "      <td>5.0</td>\n",
       "      <td>5.0</td>\n",
       "    </tr>\n",
       "    <tr>\n",
       "      <th>Nordstrom</th>\n",
       "      <td>113366.0</td>\n",
       "      <td>4.551964</td>\n",
       "      <td>0.974854</td>\n",
       "      <td>1.0</td>\n",
       "      <td>5.0</td>\n",
       "      <td>5.0</td>\n",
       "      <td>5.0</td>\n",
       "      <td>5.0</td>\n",
       "    </tr>\n",
       "    <tr>\n",
       "      <th>Sephora</th>\n",
       "      <td>2279557.0</td>\n",
       "      <td>4.230827</td>\n",
       "      <td>1.220818</td>\n",
       "      <td>1.0</td>\n",
       "      <td>4.0</td>\n",
       "      <td>5.0</td>\n",
       "      <td>5.0</td>\n",
       "      <td>5.0</td>\n",
       "    </tr>\n",
       "    <tr>\n",
       "      <th>Ulta</th>\n",
       "      <td>1348343.0</td>\n",
       "      <td>4.314109</td>\n",
       "      <td>1.157555</td>\n",
       "      <td>1.0</td>\n",
       "      <td>4.0</td>\n",
       "      <td>5.0</td>\n",
       "      <td>5.0</td>\n",
       "      <td>5.0</td>\n",
       "    </tr>\n",
       "  </tbody>\n",
       "</table>\n",
       "</div>"
      ],
      "text/plain": [
       "                   count      mean       std  min  25%  50%  75%  max\n",
       "Channel                                                              \n",
       "Amazon USA     1506025.0  4.125791  1.388725  1.0  4.0  5.0  5.0  5.0\n",
       "Birchbox       4073898.0  4.136793  1.031476  1.0  4.0  4.0  5.0  5.0\n",
       "Bloomingdales   224906.0  4.521716  0.951178  1.0  4.0  5.0  5.0  5.0\n",
       "Macy's          580045.0  4.533715  0.972106  1.0  4.0  5.0  5.0  5.0\n",
       "Nordstrom       113366.0  4.551964  0.974854  1.0  5.0  5.0  5.0  5.0\n",
       "Sephora        2279557.0  4.230827  1.220818  1.0  4.0  5.0  5.0  5.0\n",
       "Ulta           1348343.0  4.314109  1.157555  1.0  4.0  5.0  5.0  5.0"
      ]
     },
     "execution_count": 24,
     "metadata": {},
     "output_type": "execute_result"
    }
   ],
   "source": [
    "df.groupby('Channel')['Rating'].describe()"
   ]
  },
  {
   "cell_type": "code",
   "execution_count": 25,
   "metadata": {},
   "outputs": [],
   "source": [
    "df['Rating'] = df['Rating'].astype(int)"
   ]
  },
  {
   "cell_type": "code",
   "execution_count": 26,
   "metadata": {},
   "outputs": [],
   "source": [
    "ratings_channel = (df.groupby(['Channel','Rating'])['Rating'].count().divide(df.groupby('Channel')['Rating'].count())*100)"
   ]
  },
  {
   "cell_type": "code",
   "execution_count": 31,
   "metadata": {},
   "outputs": [
    {
     "data": {
      "image/png": "[encoded data removed]",
      "text/plain": [
       "<Figure size 576x360 with 1 Axes>"
      ]
     },
     "metadata": {
      "needs_background": "light"
     },
     "output_type": "display_data"
    }
   ],
   "source": [
    "ratings_channel.unstack(0).plot.bar(figsize=[8,5])\n",
    "plt.xlabel('Rating')\n",
    "plt.ylabel('% of total ratings')\n",
    "plt.title('Distribution of ratings by Channel')\n",
    "plt.grid()"
   ]
  },
  {
   "cell_type": "code",
   "execution_count": 28,
   "metadata": {},
   "outputs": [
    {
     "data": {
      "text/plain": [
       "array([[<matplotlib.axes._subplots.AxesSubplot object at 0x00000276C3CD8EC8>,\n",
       "        <matplotlib.axes._subplots.AxesSubplot object at 0x00000276C3CFFCC8>,\n",
       "        <matplotlib.axes._subplots.AxesSubplot object at 0x00000276C4375A08>],\n",
       "       [<matplotlib.axes._subplots.AxesSubplot object at 0x00000276C43ACB48>,\n",
       "        <matplotlib.axes._subplots.AxesSubplot object at 0x00000276C43E0C48>,\n",
       "        <matplotlib.axes._subplots.AxesSubplot object at 0x00000276C4414D48>],\n",
       "       [<matplotlib.axes._subplots.AxesSubplot object at 0x00000276C444AE48>,\n",
       "        <matplotlib.axes._subplots.AxesSubplot object at 0x00000276C4480F48>,\n",
       "        <matplotlib.axes._subplots.AxesSubplot object at 0x00000276C4489B48>]],\n",
       "      dtype=object)"
      ]
     },
     "execution_count": 28,
     "metadata": {},
     "output_type": "execute_result"
    },
    {
     "data": {
      "image/png": "[encoded data removed]",
      "text/plain": [
       "<Figure size 720x720 with 9 Axes>"
      ]
     },
     "metadata": {
      "needs_background": "light"
     },
     "output_type": "display_data"
    }
   ],
   "source": [
    "df.hist('Rating', by='Channel', grid=True, bins=50, figsize=[10,10])"
   ]
  },
  {
   "cell_type": "code",
   "execution_count": 29,
   "metadata": {},
   "outputs": [
    {
     "data": {
      "text/plain": [
       "Text(0, 0.5, 'Rating')"
      ]
     },
     "execution_count": 29,
     "metadata": {},
     "output_type": "execute_result"
    },
    {
     "data": {
      "image/png": "[encoded data removed]",
      "text/plain": [
       "<Figure size 432x360 with 1 Axes>"
      ]
     },
     "metadata": {
      "needs_background": "light"
     },
     "output_type": "display_data"
    }
   ],
   "source": [
    "df[['Channel', 'Rating']].boxplot(by='Channel', figsize=[6,5], rot=90)\n",
    "plt.xlabel('Channel')\n",
    "plt.ylabel('Rating')"
   ]
  },
  {
   "cell_type": "markdown",
   "metadata": {},
   "source": [
    "## Number of reviews by channel"
   ]
  },
  {
   "cell_type": "code",
   "execution_count": 35,
   "metadata": {
    "scrolled": true
   },
   "outputs": [
    {
     "data": {
      "text/plain": [
       "Text(0.5, 1.0, 'Distribution of reviews by channel')"
      ]
     },
     "execution_count": 35,
     "metadata": {},
     "output_type": "execute_result"
    },
    {
     "data": {
      "image/png": "[encoded data removed]",
      "text/plain": [
       "<Figure size 576x360 with 1 Axes>"
      ]
     },
     "metadata": {
      "needs_background": "light"
     },
     "output_type": "display_data"
    }
   ],
   "source": [
    "(df.groupby(['Dataset','Channel']).size().divide(df.groupby('Dataset').size(), axis=0)*100).unstack(0).plot.barh(figsize=[8,5])\n",
    "plt.grid()\n",
    "plt.xlabel('% of total reviews')\n",
    "plt.title('Distribution of reviews by channel')"
   ]
  },
  {
   "cell_type": "code",
   "execution_count": null,
   "metadata": {},
   "outputs": [],
   "source": []
  }
 ],
 "metadata": {
  "kernelspec": {
   "display_name": "Python 3",
   "language": "python",
   "name": "python3"
  },
  "language_info": {
   "codemirror_mode": {
    "name": "ipython",
    "version": 3
   },
   "file_extension": ".py",
   "mimetype": "text/x-python",
   "name": "python",
   "nbconvert_exporter": "python",
   "pygments_lexer": "ipython3",
   "version": "3.7.6"
  },
  "toc": {
   "base_numbering": 1,
   "nav_menu": {},
   "number_sections": true,
   "sideBar": true,
   "skip_h1_title": false,
   "title_cell": "Table of Contents",
   "title_sidebar": "Contents",
   "toc_cell": false,
   "toc_position": {},
   "toc_section_display": true,
   "toc_window_display": true
  }
 },
 "nbformat": 4,
 "nbformat_minor": 4
}
