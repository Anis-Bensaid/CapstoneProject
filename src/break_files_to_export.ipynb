{
 "cells": [
  {
   "cell_type": "code",
   "execution_count": 90,
   "metadata": {},
   "outputs": [],
   "source": [
    "import pandas as pd\n",
    "import os\n",
    "import numpy as np\n",
    "from tqdm import tqdm\n",
    "pd.set_option('display.max_columns', None)\n"
   ]
  },
  {
   "cell_type": "code",
   "execution_count": 91,
   "metadata": {},
   "outputs": [],
   "source": [
    "PATH_TO_PRODUCTS = '../data/raw_data/Product Catalogue/'\n",
    "PATH_TO_RATINGS = '../data/raw_data/Rating and Reviews/'\n",
    "NB_ROWS_PER_BATCH = 200000"
   ]
  },
  {
   "cell_type": "code",
   "execution_count": 92,
   "metadata": {},
   "outputs": [
    {
     "name": "stdout",
     "output_type": "stream",
     "text": [
      "Cosmetics_Product_20190831.csv\n",
      "Cosmetics_Product_20190930.csv\n",
      "Cosmetics_Product_20191031.csv\n",
      "cosmetics_product_2019Q4.csv\n",
      "Cosmetics_Product_20200116.csv\n",
      "Global Product Catalogs - ELC ST Fix\n",
      "Historic Product Catalog - ELC ST Fix.b\n",
      "Historic Product Catalogs - ELC ST Fix\n",
      "SkinCare_New_Product_20191031.zip\n",
      "SkinCare_Product_20190630_ST MV2SV.csv\n",
      "SkinCare_Product_20190930.csv\n",
      "SkinCare_Product_20190930_Update.csv\n",
      "SkinCare_Product_20191031.csv\n",
      "skincare_product_20191231.csv\n",
      "skincare_product_2019Q3.csv\n",
      "skincare_product_2019Q3_final.csv\n",
      "SkinCare_Product_20200116.csv\n"
     ]
    }
   ],
   "source": [
    "for filename in os.listdir(PATH_TO_PRODUCTS):\n",
    "    print(filename)"
   ]
  },
  {
   "cell_type": "code",
   "execution_count": 93,
   "metadata": {},
   "outputs": [
    {
     "name": "stdout",
     "output_type": "stream",
     "text": [
      "Cosmetics_Reviews_20190630.csv\n",
      "Cosmetics_Reviews_20190831.csv\n",
      "Cosmetics_Reviews_20190930.csv\n",
      "Cosmetics_Reviews_20191031.csv\n",
      "cosmetics_reviews_20191130_final.csv\n",
      "cosmetics_reviews_20191231.csv\n",
      "cosmetics_reviews_20200101-20200131.csv\n",
      "cosmetics_reviews_20200229.csv\n",
      "deleted\n",
      "pwds\n",
      "Skin Care_Reviews_20190930.csv\n",
      "skincare_reviews_20150201-20200131.csv\n",
      "SkinCare_Reviews_20190630_ST MV2SV.csv\n",
      "SkinCare_Reviews_20190831.csv\n",
      "SkinCare_Reviews_20191031.csv\n",
      "skincare_reviews_20191130.csv\n",
      "skincare_reviews_20191231.csv\n",
      "skincare_reviews_20200229.csv\n",
      "template\n"
     ]
    }
   ],
   "source": [
    "for filename in os.listdir(PATH_TO_RATINGS):\n",
    "    print(filename)"
   ]
  },
  {
   "cell_type": "code",
   "execution_count": 94,
   "metadata": {},
   "outputs": [
    {
     "data": {
      "text/plain": [
       "Index(['ImportID', 'FileSourceID', 'Product_Id', 'Source_Product_Identifier',\n",
       "       'Product', 'Description', 'Channel', 'Brand', 'Feature', 'Benefit',\n",
       "       'Ingredient', 'Additional_Ingredients', 'Product_Form',\n",
       "       'ELC_Solution_Type', 'Rating', 'Number_of_Reviews', 'Geography',\n",
       "       'Collection_Date', 'Normalized_Product_Title', 'ProductCluster_Id',\n",
       "       'Finish', 'Looks', 'Other', 'Trends', 'Source_file_loaded',\n",
       "       'Load_Date'],\n",
       "      dtype='object')"
      ]
     },
     "execution_count": 94,
     "metadata": {},
     "output_type": "execute_result"
    }
   ],
   "source": [
    "product_template = pd.read_csv('../data/raw_data/Rating and Reviews/template/sProduct.csv')\n",
    "product_template.columns"
   ]
  },
  {
   "cell_type": "code",
   "execution_count": 95,
   "metadata": {},
   "outputs": [
    {
     "data": {
      "text/plain": [
       "Index(['ImportID', 'FileSourceID', 'OnlinePost_ID',\n",
       "       'Source_Product_Identifier', 'OnlineStatement_ID', 'Review_Date',\n",
       "       'Title', 'Description', 'Geography', 'Channel', 'Product_ID', 'Rating',\n",
       "       'Sentiment', 'Feature', 'Benefit', 'Ingredient',\n",
       "       'Additional_Ingredients', 'Product_Form', 'ELC_Solution_Type',\n",
       "       'Skin_Condition', 'Packaging', 'Skin_Type', 'Treatment_Area',\n",
       "       'Use_Case', 'Syndication_Source', 'Best_For', 'Verified_Buyer', '_From',\n",
       "       'Recommended', 'Verified_Reviewer', 'Eye_Color', 'Hair_Color',\n",
       "       'Skin_Tone', 'Gender', 'I_shop_at_macys_com', 'Make_up_Style',\n",
       "       'Purchase_Location', 'Cons', 'Pros', 'Describe_Yourself',\n",
       "       'Reviewer_Skin_Type', 'Age', 'Source_File_Loaded', 'Load_Date', 'Looks',\n",
       "       'Other', 'Trends'],\n",
       "      dtype='object')"
      ]
     },
     "execution_count": 95,
     "metadata": {},
     "output_type": "execute_result"
    }
   ],
   "source": [
    "ratings_template = pd.read_csv('../data/raw_data/Rating and Reviews/template/sReviewTheme.csv')\n",
    "ratings_template.columns"
   ]
  },
  {
   "cell_type": "code",
   "execution_count": 96,
   "metadata": {},
   "outputs": [],
   "source": [
    "ratings_columns_mapping = {\n",
    "    'OnlinePost_ID':'OnlinePost_ID',\n",
    "    'Source Product Identifier':'Source_Product_Identifier',\n",
    "    'OnlineStatement_ID':'OnlineStatement_ID',\n",
    "    'Date':'Review_Date', \n",
    "    'Title':'Title',\n",
    "    'Description':'Description',\n",
    "    'Geography':'Geography',\n",
    "    'Channel':'Channel',\n",
    "    'Product_ID':'Product_ID',\n",
    "    'Rating':'Rating',\n",
    "    'Sentiment':'Sentiment',\n",
    "    'Feature':'Feature',\n",
    "    'Benefit':'Benefit',\n",
    "    'Ingredient':'Ingredient',\n",
    "    'Additional Ingredients (no rulebase)':'Additional_Ingredients',\n",
    "    'Product Form':'Product_Form',\n",
    "    'ELC Solution Type':'ELC_Solution_Type',\n",
    "    'Skin Condition':'Skin_Condition',\n",
    "    'Packaging':'Packaging',\n",
    "    'Skin Type':'Skin_Type',\n",
    "    'Treatment Area':'Treatment_Area',\n",
    "    'Use Case':'Use_Case',\n",
    "    'Syndication Source':'Syndication_Source',\n",
    "    'Best For':'Best_For',\n",
    "    'Verified Buyer':'Verified_Buyer',\n",
    "    'From':'_From', \n",
    "    ' From':'_From',\n",
    "    'Recommended':'Recommended',\n",
    "    'Verified Reviewer':'Verified_Reviewer',\n",
    "    'Eye Color':'Eye_Color',\n",
    "    'Hair Color':'Hair_Color', \n",
    "    'Skin Tone':'Skin_Tone',\n",
    "    'Gender':'Gender', \n",
    "    'I shop at macys.com':'I_shop_at_macys_com',\n",
    "    'I shop at\\xa0macys.com':'I_shop_at_macys_com',\n",
    "    'Make-up Style':'Make_up_Style',\n",
    "    'Purchase Location':'Purchase_Location',\n",
    "    'Cons':'Cons',\n",
    "    'Pros':'Pros',\n",
    "    'Describe Yourself':'Describe_Yourself',\n",
    "    'Reviewer Skin Type':'Reviewer_Skin_Type',\n",
    "    'Age':'Age'\n",
    "}"
   ]
  },
  {
   "cell_type": "code",
   "execution_count": 97,
   "metadata": {},
   "outputs": [],
   "source": [
    "product_columns_mapping = {\n",
    "    'Product_ID':'Product_Id', \n",
    "    'Source Product Identifier':'Source_Product_Identifier',\n",
    "    'Product':'Product',\n",
    "    'DescriptioChanneln':'Description',\n",
    "    'Channel':'Channel',\n",
    "    'Brand':'Brand',\n",
    "    'Feature':'Feature',\n",
    "    'Benefit':'Benefit',\n",
    "    'Ingredient':'Ingredient',\n",
    "    'Additional Ingredients (no rulebase)':'Additional_Ingredients',\n",
    "    'Product Form':'Product_Form',\n",
    "    'ELC Solution Type':'ELC_Solution_Type',\n",
    "    'Finish':'Finish',\n",
    "    'Looks':'Looks',\n",
    "    'Other':'Other',\n",
    "    'Trends':'Trends',\n",
    "    'Rating':'Rating',\n",
    "    'Number of Reviews':'Number_of_Reviews',\n",
    "    'Geography':'Geography', \n",
    "    'Collection Date':'Collection_Date',\n",
    "    'Normalized Product Title':'Normalized_Product_Title',\n",
    "    'ProductCluster_ID':'ProductCluster_Id', \n",
    "    'Cluster Size':''\n",
    "}"
   ]
  },
  {
   "cell_type": "code",
   "execution_count": 98,
   "metadata": {},
   "outputs": [],
   "source": [
    "def split_data(input_path, \n",
    "               rows_per_batch = 150000, \n",
    "               output_path = '../data/to_import/',\n",
    "               ratings_columns=ratings_template.columns.tolist(),\n",
    "               product_columns=product_template.columns.tolist(),\n",
    "               ratings_mapping = ratings_columns_mapping,\n",
    "               product_mapping = product_columns_mapping\n",
    "              ):\n",
    "    \n",
    "    for filename in tqdm(os.listdir(input_path)):\n",
    "        if filename.endswith('.csv'):\n",
    "            if filename.lower().find('product')!=-1:\n",
    "                file_type = 'products'\n",
    "                template_columns = product_columns\n",
    "                mapping = product_mapping\n",
    "                if filename.lower().startswith('cosm'):\n",
    "                    product_type = 'cosmetics'\n",
    "                elif filename.lower().startswith('skin'):\n",
    "                    product_type = 'skincare'   \n",
    "                \n",
    "                \n",
    "            elif filename.lower().find('reviews')!=-1:\n",
    "                file_type = 'reviews'\n",
    "                template_columns = ratings_columns\n",
    "                mapping = ratings_mapping\n",
    "                if filename.lower().startswith('cosm'):\n",
    "                    product_type = 'cosmetics'\n",
    "                elif filename.lower().startswith('skin'):\n",
    "                    product_type = 'skincare' \n",
    "                    \n",
    "            file_dir = os.path.join(output_path, file_type, product_type, filename.replace('.csv',''))\n",
    "            if not os.path.exists(file_dir):\n",
    "                os.makedirs(file_dir)\n",
    "            print(filename)\n",
    "            df=pd.read_csv(os.path.join(input_path, filename), low_memory=False)\n",
    "            df.rename(columns=mapping, inplace=True)\n",
    "            columns_to_add = [col for col in template_columns if not col in df.columns] \n",
    "            columns_to_drop = [col for col in df.columns if not col in template_columns]\n",
    "            print('Columns to drop : ', columns_to_drop)\n",
    "            print('Columns to add : ', columns_to_add)\n",
    "            for col in columns_to_add:\n",
    "                df[col]=np.nan\n",
    "            df=df[template_columns]\n",
    "            nb_files = int(np.ceil(len(df)/rows_per_batch))\n",
    "            for i in range(nb_files):\n",
    "                batch = df.iloc[i*rows_per_batch:(i+1)*rows_per_batch,:]\n",
    "                if nb_files==1:\n",
    "                    batch.to_csv(os.path.join(file_dir, filename), index=False)\n",
    "                else:\n",
    "                    batch.to_csv(os.path.join(file_dir, filename.replace('.csv','_'+str(i+1)+'.csv')), index=False)"
   ]
  },
  {
   "cell_type": "code",
   "execution_count": 100,
   "metadata": {
    "scrolled": false
   },
   "outputs": [
    {
     "name": "stderr",
     "output_type": "stream",
     "text": [
      "\n",
      "\n",
      "\n",
      "  0%|                                                                                           | 0/17 [00:00<?, ?it/s]\u001b[A\u001b[A\u001b[A"
     ]
    },
    {
     "name": "stdout",
     "output_type": "stream",
     "text": [
      "Cosmetics_Product_20190831.csv\n",
      "Columns to drop :  ['']\n",
      "Columns to add :  ['ImportID', 'FileSourceID', 'Source_file_loaded', 'Load_Date']\n"
     ]
    },
    {
     "name": "stderr",
     "output_type": "stream",
     "text": [
      "\n",
      "\n",
      "\n",
      "  6%|████▉                                                                              | 1/17 [00:02<00:35,  2.24s/it]\u001b[A\u001b[A\u001b[A"
     ]
    },
    {
     "name": "stdout",
     "output_type": "stream",
     "text": [
      "Cosmetics_Product_20190930.csv\n",
      "Columns to drop :  ['']\n",
      "Columns to add :  ['ImportID', 'FileSourceID', 'Source_file_loaded', 'Load_Date']\n"
     ]
    },
    {
     "name": "stderr",
     "output_type": "stream",
     "text": [
      "\n",
      "\n",
      "\n",
      " 12%|█████████▊                                                                         | 2/17 [00:04<00:33,  2.22s/it]\u001b[A\u001b[A\u001b[A"
     ]
    },
    {
     "name": "stdout",
     "output_type": "stream",
     "text": [
      "Cosmetics_Product_20191031.csv\n",
      "Columns to drop :  ['Title']\n",
      "Columns to add :  ['ImportID', 'FileSourceID', 'Source_file_loaded', 'Load_Date']\n"
     ]
    },
    {
     "name": "stderr",
     "output_type": "stream",
     "text": [
      "\n",
      "\n",
      "\n",
      " 18%|██████████████▋                                                                    | 3/17 [00:06<00:31,  2.25s/it]\u001b[A\u001b[A\u001b[A"
     ]
    },
    {
     "name": "stdout",
     "output_type": "stream",
     "text": [
      "cosmetics_product_2019Q4.csv\n",
      "Columns to drop :  []\n",
      "Columns to add :  ['ImportID', 'FileSourceID', 'Source_file_loaded', 'Load_Date']\n"
     ]
    },
    {
     "name": "stderr",
     "output_type": "stream",
     "text": [
      "\n",
      "\n",
      "\n",
      " 24%|███████████████████▌                                                               | 4/17 [00:09<00:32,  2.46s/it]\u001b[A\u001b[A\u001b[A"
     ]
    },
    {
     "name": "stdout",
     "output_type": "stream",
     "text": [
      "Cosmetics_Product_20200116.csv\n",
      "Columns to drop :  []\n",
      "Columns to add :  ['ImportID', 'FileSourceID', 'Source_file_loaded', 'Load_Date']\n"
     ]
    },
    {
     "name": "stderr",
     "output_type": "stream",
     "text": [
      "\n",
      "\n",
      "\n",
      " 29%|████████████████████████▍                                                          | 5/17 [00:12<00:29,  2.46s/it]\u001b[A\u001b[A\u001b[A"
     ]
    },
    {
     "name": "stdout",
     "output_type": "stream",
     "text": [
      "SkinCare_Product_20190630_ST MV2SV.csv\n",
      "Columns to drop :  ['Title', 'Skin Condition', 'Packaging', 'Skin Type', 'Treatment Area', 'Use Case']\n",
      "Columns to add :  ['ImportID', 'FileSourceID', 'Product', 'Finish', 'Looks', 'Other', 'Trends', 'Source_file_loaded', 'Load_Date']\n"
     ]
    },
    {
     "name": "stderr",
     "output_type": "stream",
     "text": [
      "\n",
      "\n",
      "\n",
      " 59%|████████████████████████████████████████████████▏                                 | 10/17 [00:16<00:13,  1.99s/it]\u001b[A\u001b[A\u001b[A"
     ]
    },
    {
     "name": "stdout",
     "output_type": "stream",
     "text": [
      "SkinCare_Product_20190930.csv\n",
      "Columns to drop :  ['', 'Skin Condition', 'Packaging', 'Skin Type', 'Treatment Area', 'Use Case', 'Unnamed: 24', 'Unnamed: 25', 'Unnamed: 26', 'Unnamed: 27', 'Unnamed: 28', 'Unnamed: 29', 'Unnamed: 30', 'Unnamed: 31', 'Unnamed: 32', 'Unnamed: 33', 'Unnamed: 34', 'Unnamed: 35', 'Unnamed: 36', 'Unnamed: 37', 'Unnamed: 38', 'Unnamed: 39', 'Unnamed: 40', 'Unnamed: 41', 'Unnamed: 42', 'Unnamed: 43', 'Unnamed: 44', 'Unnamed: 45', 'Unnamed: 46', 'Unnamed: 47', 'Unnamed: 48', 'Unnamed: 49', 'Unnamed: 50', 'Unnamed: 51', 'Unnamed: 52', 'Unnamed: 53', 'Unnamed: 54', 'Unnamed: 55', 'Unnamed: 56', 'Unnamed: 57', 'Unnamed: 58', 'Unnamed: 59', 'Unnamed: 60', 'Unnamed: 61', 'Unnamed: 62', 'Unnamed: 63', 'Unnamed: 64', 'Unnamed: 65', 'Unnamed: 66', 'Unnamed: 67', 'Unnamed: 68', 'Unnamed: 69', 'Unnamed: 70', 'Unnamed: 71', 'Unnamed: 72', 'Unnamed: 73', 'Unnamed: 74', 'Unnamed: 75', 'Unnamed: 76', 'Unnamed: 77', 'Unnamed: 78', 'Unnamed: 79', 'Unnamed: 80', 'Unnamed: 81', 'Unnamed: 82', 'Unnamed: 83', 'Unnamed: 84', 'Unnamed: 85', 'Unnamed: 86', 'Unnamed: 87', 'Unnamed: 88', 'Unnamed: 89', 'Unnamed: 90', 'Unnamed: 91', 'Unnamed: 92', 'Unnamed: 93', 'Unnamed: 94', 'Unnamed: 95', 'Unnamed: 96', 'Unnamed: 97', 'Unnamed: 98', 'Unnamed: 99', 'Unnamed: 100', 'Unnamed: 101', 'Unnamed: 102', 'Unnamed: 103', 'Unnamed: 104', 'Unnamed: 105', 'Unnamed: 106', 'Unnamed: 107', 'Unnamed: 108', 'Unnamed: 109', 'Unnamed: 110', 'Unnamed: 111', 'Unnamed: 112', 'Unnamed: 113', 'Unnamed: 114', 'Unnamed: 115', 'Unnamed: 116', 'Unnamed: 117', 'Unnamed: 118', 'Unnamed: 119', 'Unnamed: 120', 'Unnamed: 121', 'Unnamed: 122', 'Unnamed: 123', 'Unnamed: 124', 'Unnamed: 125', 'Unnamed: 126', 'Unnamed: 127', 'Unnamed: 128', 'Unnamed: 129', 'Unnamed: 130', 'Unnamed: 131', 'Unnamed: 132', 'Unnamed: 133', 'Unnamed: 134', 'Unnamed: 135', 'Unnamed: 136', 'Unnamed: 137', 'Unnamed: 138', 'Unnamed: 139', 'Unnamed: 140', 'Unnamed: 141', 'Unnamed: 142', 'Unnamed: 143', 'Unnamed: 144', 'Unnamed: 145', 'Unnamed: 146', 'Unnamed: 147', 'Unnamed: 148', 'Unnamed: 149', 'Unnamed: 150', 'Unnamed: 151', 'Unnamed: 152', 'Unnamed: 153', 'Unnamed: 154', 'Unnamed: 155', 'Unnamed: 156', 'Unnamed: 157', 'Unnamed: 158', 'Unnamed: 159', 'Unnamed: 160', 'Unnamed: 161', 'Unnamed: 162', 'Unnamed: 163', 'Unnamed: 164', 'Unnamed: 165', 'Unnamed: 166', 'Unnamed: 167', 'Unnamed: 168', 'Unnamed: 169', 'Unnamed: 170', 'Unnamed: 171', 'Unnamed: 172']\n",
      "Columns to add :  ['ImportID', 'FileSourceID', 'Finish', 'Looks', 'Other', 'Trends', 'Source_file_loaded', 'Load_Date']\n"
     ]
    },
    {
     "name": "stderr",
     "output_type": "stream",
     "text": [
      "\n",
      "\n",
      "\n",
      " 65%|█████████████████████████████████████████████████████                             | 11/17 [00:24<00:21,  3.65s/it]\u001b[A\u001b[A\u001b[A"
     ]
    },
    {
     "name": "stdout",
     "output_type": "stream",
     "text": [
      "SkinCare_Product_20190930_Update.csv\n",
      "Columns to drop :  ['', 'Skin Condition', 'Packaging', 'Skin Type', 'Treatment Area', 'Use Case']\n",
      "Columns to add :  ['ImportID', 'FileSourceID', 'Finish', 'Looks', 'Other', 'Trends', 'Source_file_loaded', 'Load_Date']\n"
     ]
    },
    {
     "name": "stderr",
     "output_type": "stream",
     "text": [
      "\n",
      "\n",
      "\n",
      " 71%|█████████████████████████████████████████████████████████▉                        | 12/17 [00:28<00:19,  3.93s/it]\u001b[A\u001b[A\u001b[A"
     ]
    },
    {
     "name": "stdout",
     "output_type": "stream",
     "text": [
      "SkinCare_Product_20191031.csv\n",
      "Columns to drop :  ['', 'Skin Condition', 'Packaging', 'Skin Type', 'Treatment Area', 'Use Case']\n",
      "Columns to add :  ['ImportID', 'FileSourceID', 'Finish', 'Looks', 'Other', 'Trends', 'Source_file_loaded', 'Load_Date']\n"
     ]
    },
    {
     "name": "stderr",
     "output_type": "stream",
     "text": [
      "\n",
      "\n",
      "\n",
      " 76%|██████████████████████████████████████████████████████████████▋                   | 13/17 [00:33<00:16,  4.09s/it]\u001b[A\u001b[A\u001b[A"
     ]
    },
    {
     "name": "stdout",
     "output_type": "stream",
     "text": [
      "skincare_product_20191231.csv\n",
      "Columns to drop :  ['Skin Condition', 'Packaging', 'Skin Type', 'Treatment Area', 'Use Case']\n",
      "Columns to add :  ['ImportID', 'FileSourceID', 'Finish', 'Looks', 'Other', 'Trends', 'Source_file_loaded', 'Load_Date']\n"
     ]
    },
    {
     "name": "stderr",
     "output_type": "stream",
     "text": [
      "\n",
      "\n",
      "\n",
      " 82%|███████████████████████████████████████████████████████████████████▌              | 14/17 [00:38<00:12,  4.31s/it]\u001b[A\u001b[A\u001b[A"
     ]
    },
    {
     "name": "stdout",
     "output_type": "stream",
     "text": [
      "skincare_product_2019Q3.csv\n",
      "Columns to drop :  ['Skin Condition', 'Packaging', 'Skin Type', 'Treatment Area', 'Use Case']\n",
      "Columns to add :  ['ImportID', 'FileSourceID', 'Finish', 'Looks', 'Other', 'Trends', 'Source_file_loaded', 'Load_Date']\n"
     ]
    },
    {
     "name": "stderr",
     "output_type": "stream",
     "text": [
      "\n",
      "\n",
      "\n",
      " 88%|████████████████████████████████████████████████████████████████████████▎         | 15/17 [00:42<00:08,  4.41s/it]\u001b[A\u001b[A\u001b[A"
     ]
    },
    {
     "name": "stdout",
     "output_type": "stream",
     "text": [
      "skincare_product_2019Q3_final.csv\n",
      "Columns to drop :  ['Skin Condition', 'Packaging', 'Skin Type', 'Treatment Area', 'Use Case']\n",
      "Columns to add :  ['ImportID', 'FileSourceID', 'Finish', 'Looks', 'Other', 'Trends', 'Source_file_loaded', 'Load_Date']\n"
     ]
    },
    {
     "name": "stderr",
     "output_type": "stream",
     "text": [
      "\n",
      "\n",
      "\n",
      " 94%|█████████████████████████████████████████████████████████████████████████████▏    | 16/17 [00:47<00:04,  4.42s/it]\u001b[A\u001b[A\u001b[A"
     ]
    },
    {
     "name": "stdout",
     "output_type": "stream",
     "text": [
      "SkinCare_Product_20200116.csv\n",
      "Columns to drop :  ['Skin Condition', 'Packaging', 'Skin Type', 'Treatment Area', 'Use Case']\n",
      "Columns to add :  ['ImportID', 'FileSourceID', 'Finish', 'Looks', 'Other', 'Trends', 'Source_file_loaded', 'Load_Date']\n"
     ]
    },
    {
     "name": "stderr",
     "output_type": "stream",
     "text": [
      "\n",
      "\n",
      "\n",
      "100%|██████████████████████████████████████████████████████████████████████████████████| 17/17 [00:51<00:00,  3.03s/it]\u001b[A\u001b[A\u001b[A\n"
     ]
    }
   ],
   "source": [
    "split_data(PATH_TO_PRODUCTS, rows_per_batch=NB_ROWS_PER_BATCH)"
   ]
  },
  {
   "cell_type": "code",
   "execution_count": 23,
   "metadata": {},
   "outputs": [],
   "source": [
    "split_data(PATH_TO_RATINGS, rows_per_batch=NB_ROWS_PER_BATCH)"
   ]
  },
  {
   "cell_type": "code",
   "execution_count": null,
   "metadata": {},
   "outputs": [],
   "source": []
  },
  {
   "cell_type": "code",
   "execution_count": 24,
   "metadata": {},
   "outputs": [],
   "source": [
    "['ImportID', 'FileSourceID', '',\n",
    "       '', '', '',\n",
    "       '', '', '', '', '', '',\n",
    "       '', '', '', '',\n",
    "       '', '', '',\n",
    "       '', '', '', '',\n",
    "       '', '', '', '', '',\n",
    "       '', '', '', '',\n",
    "       '', '', '', '',\n",
    "       '', '', '', '',\n",
    "       '', '', 'Source_File_Loaded', 'Load_Date', 'Looks',\n",
    "       'Other', 'Trends']"
   ]
  },
  {
   "cell_type": "code",
   "execution_count": null,
   "metadata": {},
   "outputs": [],
   "source": [
    "['ImportID', 'FileSourceID', '', '',\n",
    "       '', '', '', '', '', '',\n",
    "       '', '', '',\n",
    "       '', '', '', '',\n",
    "       '', '', '',\n",
    "       '', '', '', '', 'Source_file_loaded',\n",
    "       'Load_Date']"
   ]
  }
 ],
 "metadata": {
  "kernelspec": {
   "display_name": "Python 3",
   "language": "python",
   "name": "python3"
  },
  "language_info": {
   "codemirror_mode": {
    "name": "ipython",
    "version": 3
   },
   "file_extension": ".py",
   "mimetype": "text/x-python",
   "name": "python",
   "nbconvert_exporter": "python",
   "pygments_lexer": "ipython3",
   "version": "3.7.6"
  },
  "toc": {
   "base_numbering": 1,
   "nav_menu": {},
   "number_sections": true,
   "sideBar": true,
   "skip_h1_title": false,
   "title_cell": "Table of Contents",
   "title_sidebar": "Contents",
   "toc_cell": false,
   "toc_position": {},
   "toc_section_display": true,
   "toc_window_display": true
  }
 },
 "nbformat": 4,
 "nbformat_minor": 4
}
