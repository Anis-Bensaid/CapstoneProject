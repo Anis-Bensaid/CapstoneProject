{
 "cells": [
  {
   "cell_type": "code",
   "execution_count": 1,
   "metadata": {},
   "outputs": [],
   "source": [
    "import pandas as pd\n",
    "import os\n",
    "import numpy as np\n",
    "from tqdm import tqdm"
   ]
  },
  {
   "cell_type": "code",
   "execution_count": 2,
   "metadata": {},
   "outputs": [],
   "source": [
    "PATH_TO_PRODUCTS = '../data/raw_data/Product Catalogue/'\n",
    "PATH_TO_RATINGS = '../data/raw_data/Rating and Reviews/'\n",
    "NB_ROWS_PER_BATCH = 200000"
   ]
  },
  {
   "cell_type": "code",
   "execution_count": 3,
   "metadata": {},
   "outputs": [
    {
     "name": "stdout",
     "output_type": "stream",
     "text": [
      "Cosmetics_Product_20190831.csv\n",
      "Cosmetics_Product_20190930.csv\n",
      "Cosmetics_Product_20191031.csv\n",
      "cosmetics_product_2019Q4.csv\n",
      "Cosmetics_Product_20200116.csv\n",
      "Global Product Catalogs - ELC ST Fix\n",
      "Historic Product Catalog - ELC ST Fix.b\n",
      "Historic Product Catalogs - ELC ST Fix\n",
      "SkinCare_New_Product_20191031.zip\n",
      "SkinCare_Product_20190630_ST MV2SV.csv\n",
      "SkinCare_Product_20190930.csv\n",
      "SkinCare_Product_20190930_Update.csv\n",
      "SkinCare_Product_20191031.csv\n",
      "skincare_product_20191231.csv\n",
      "skincare_product_2019Q3.csv\n",
      "skincare_product_2019Q3_final.csv\n",
      "SkinCare_Product_20200116.csv\n"
     ]
    }
   ],
   "source": [
    "for filename in os.listdir(PATH_TO_PRODUCTS):\n",
    "    print(filename)"
   ]
  },
  {
   "cell_type": "code",
   "execution_count": 4,
   "metadata": {},
   "outputs": [
    {
     "name": "stdout",
     "output_type": "stream",
     "text": [
      "Cosmetics_Reviews_20190630.csv\n",
      "Cosmetics_Reviews_20190831.csv\n",
      "Cosmetics_Reviews_20190930.csv\n",
      "Cosmetics_Reviews_20191031.csv\n",
      "cosmetics_reviews_20191130_final.csv\n",
      "cosmetics_reviews_20191231.csv\n",
      "cosmetics_reviews_20200101-20200131.csv\n",
      "cosmetics_reviews_20200229.csv\n",
      "deleted\n",
      "pwds\n",
      "Skin Care_Reviews_20190930.csv\n",
      "skincare_reviews_20150201-20200131.csv\n",
      "SkinCare_Reviews_20190630_ST MV2SV.csv\n",
      "SkinCare_Reviews_20190831.csv\n",
      "SkinCare_Reviews_20191031.csv\n",
      "skincare_reviews_20191130.csv\n",
      "skincare_reviews_20191231.csv\n",
      "skincare_reviews_20200229.csv\n"
     ]
    }
   ],
   "source": [
    "for filename in os.listdir(PATH_TO_RATINGS):\n",
    "    print(filename)"
   ]
  },
  {
   "cell_type": "code",
   "execution_count": 5,
   "metadata": {},
   "outputs": [],
   "source": [
    "def split_data(input_path, rows_per_batch = 150000, output_path = '../data/to_import/'):\n",
    "    for filename in tqdm(os.listdir(input_path)):\n",
    "        if filename.endswith('.csv'):\n",
    "            if filename.lower().startswith('cosm'):\n",
    "                product_type = 'cosmetics'\n",
    "            elif filename.lower().startswith('skin'):\n",
    "                product_type = 'skincare'\n",
    "            if filename.lower().find('product')!=-1:\n",
    "                file_type = 'products'\n",
    "            elif filename.lower().find('reviews')!=-1:\n",
    "                file_type = 'reviews'\n",
    "            file_dir = os.path.join(output_path, file_type, product_type, filename.replace('.csv',''))\n",
    "            if not os.path.exists(file_dir):\n",
    "                os.makedirs(file_dir)\n",
    "            df = pd.read_csv(os.path.join(input_path, filename))\n",
    "            nb_files = int(np.ceil(len(df)/rows_per_batch))\n",
    "            for i in range(nb_files):\n",
    "                batch = df.iloc[i*rows_per_batch:(i+1)*rows_per_batch,:]\n",
    "                if nb_files==1:\n",
    "                    batch.to_csv(os.path.join(file_dir, filename), index=False)\n",
    "                else:\n",
    "                    batch.to_csv(os.path.join(file_dir, filename.replace('.csv','_'+str(i+1)+'.csv')), index=False)"
   ]
  },
  {
   "cell_type": "code",
   "execution_count": 6,
   "metadata": {},
   "outputs": [
    {
     "name": "stderr",
     "output_type": "stream",
     "text": [
      " 59%|████████████████████████████████████████████████▏                                 | 10/17 [00:15<00:12,  1.78s/it]C:\\Users\\asaid\\Anaconda3\\lib\\site-packages\\IPython\\core\\interactiveshell.py:3254: DtypeWarning: Columns (12,13,16,17,18,26,29,32,33,34,35,36,37,38,39,40,41,42,43,44,45,46,47,48,49,50,51,52,53,54,55,56,57,58,59,60,61,62,63,64,65,66,67,68,69,70,71,72,73,74,75,76,77,78,79,80,81,82,83,84,85,86,87,88,89,90,91,92,93,94,95,96,97,98,99,100,101,102,103,104,105,106,107,108,109,110,111,112,113,114,115,116,117,118,119,120,121,122,123,124,125,126,127,128,129,130,131,132,133,134,135,136,137,138,139,140,141,142,143,144,145,146,147,148,149,150,151,152,153,154,155,156,157,158,159,160,163,164,168,169,170,171,172) have mixed types.Specify dtype option on import or set low_memory=False.\n",
      "  if (await self.run_code(code, result,  async_=asy)):\n",
      " 65%|█████████████████████████████████████████████████████                             | 11/17 [00:21<00:19,  3.25s/it]C:\\Users\\asaid\\Anaconda3\\lib\\site-packages\\IPython\\core\\interactiveshell.py:3254: DtypeWarning: Columns (16,17) have mixed types.Specify dtype option on import or set low_memory=False.\n",
      "  if (await self.run_code(code, result,  async_=asy)):\n",
      "100%|██████████████████████████████████████████████████████████████████████████████████| 17/17 [00:44<00:00,  2.62s/it]\n"
     ]
    }
   ],
   "source": [
    "split_data(PATH_TO_PRODUCTS, rows_per_batch=NB_ROWS_PER_BATCH)"
   ]
  },
  {
   "cell_type": "code",
   "execution_count": 7,
   "metadata": {},
   "outputs": [
    {
     "name": "stderr",
     "output_type": "stream",
     "text": [
      " 11%|█████████                                                                         | 2/18 [04:03<44:37, 167.32s/it]C:\\Users\\asaid\\Anaconda3\\lib\\site-packages\\IPython\\core\\interactiveshell.py:3254: DtypeWarning: Columns (16,22) have mixed types.Specify dtype option on import or set low_memory=False.\n",
      "  if (await self.run_code(code, result,  async_=asy)):\n",
      " 22%|█████████████████▊                                                              | 4/18 [24:46<1:37:29, 417.84s/it]C:\\Users\\asaid\\Anaconda3\\lib\\site-packages\\IPython\\core\\interactiveshell.py:3254: DtypeWarning: Columns (2,23,24,25,26,27,28,29,30,31,32,33,34,35,36,37,38,39) have mixed types.Specify dtype option on import or set low_memory=False.\n",
      "  if (await self.run_code(code, result,  async_=asy)):\n",
      " 28%|██████████████████████▏                                                         | 5/18 [37:28<1:52:54, 521.09s/it]C:\\Users\\asaid\\Anaconda3\\lib\\site-packages\\IPython\\core\\interactiveshell.py:3254: DtypeWarning: Columns (32,33) have mixed types.Specify dtype option on import or set low_memory=False.\n",
      "  if (await self.run_code(code, result,  async_=asy)):\n",
      " 33%|██████████████████████████▋                                                     | 6/18 [39:03<1:18:38, 393.23s/it]C:\\Users\\asaid\\Anaconda3\\lib\\site-packages\\IPython\\core\\interactiveshell.py:3254: DtypeWarning: Columns (27,28,29,32,33,37) have mixed types.Specify dtype option on import or set low_memory=False.\n",
      "  if (await self.run_code(code, result,  async_=asy)):\n",
      " 39%|███████████████████████████████▉                                                  | 7/18 [39:10<50:51, 277.43s/it]C:\\Users\\asaid\\Anaconda3\\lib\\site-packages\\IPython\\core\\interactiveshell.py:3254: DtypeWarning: Columns (22,27,28,29,32,33,34,36,37) have mixed types.Specify dtype option on import or set low_memory=False.\n",
      "  if (await self.run_code(code, result,  async_=asy)):\n",
      " 44%|████████████████████████████████████▍                                             | 8/18 [39:15<32:37, 195.77s/it]C:\\Users\\asaid\\Anaconda3\\lib\\site-packages\\IPython\\core\\interactiveshell.py:3254: DtypeWarning: Columns (16,19,23) have mixed types.Specify dtype option on import or set low_memory=False.\n",
      "  if (await self.run_code(code, result,  async_=asy)):\n",
      " 61%|█████████████████████████████████████████████████▌                               | 11/18 [42:07<17:59, 154.20s/it]C:\\Users\\asaid\\Anaconda3\\lib\\site-packages\\IPython\\core\\interactiveshell.py:3254: DtypeWarning: Columns (23,25,28,29,30,33,34,35,36,37,38) have mixed types.Specify dtype option on import or set low_memory=False.\n",
      "  if (await self.run_code(code, result,  async_=asy)):\n",
      " 67%|██████████████████████████████████████████████████████                           | 12/18 [44:17<14:41, 146.97s/it]C:\\Users\\asaid\\Anaconda3\\lib\\site-packages\\IPython\\core\\interactiveshell.py:3254: DtypeWarning: Columns (1,8) have mixed types.Specify dtype option on import or set low_memory=False.\n",
      "  if (await self.run_code(code, result,  async_=asy)):\n",
      " 78%|███████████████████████████████████████████████████████████████                  | 14/18 [47:04<07:12, 108.22s/it]C:\\Users\\asaid\\Anaconda3\\lib\\site-packages\\IPython\\core\\interactiveshell.py:3254: DtypeWarning: Columns (13,15,17,19,20,21,24,25,26,27,28,35,37) have mixed types.Specify dtype option on import or set low_memory=False.\n",
      "  if (await self.run_code(code, result,  async_=asy)):\n",
      " 83%|███████████████████████████████████████████████████████████████████▌             | 15/18 [53:11<09:17, 185.81s/it]C:\\Users\\asaid\\Anaconda3\\lib\\site-packages\\IPython\\core\\interactiveshell.py:3254: DtypeWarning: Columns (1,23,24,25,26,27,28,29,30,32,33,34,35,36,37,38,39) have mixed types.Specify dtype option on import or set low_memory=False.\n",
      "  if (await self.run_code(code, result,  async_=asy)):\n",
      " 89%|████████████████████████████████████████████████████████████████████████         | 16/18 [59:21<08:02, 241.08s/it]C:\\Users\\asaid\\Anaconda3\\lib\\site-packages\\IPython\\core\\interactiveshell.py:3254: DtypeWarning: Columns (33,34) have mixed types.Specify dtype option on import or set low_memory=False.\n",
      "  if (await self.run_code(code, result,  async_=asy)):\n",
      "100%|█████████████████████████████████████████████████████████████████████████████████| 18/18 [59:34<00:00, 198.56s/it]\n"
     ]
    }
   ],
   "source": [
    "split_data(PATH_TO_RATINGS, rows_per_batch=NB_ROWS_PER_BATCH)"
   ]
  },
  {
   "cell_type": "code",
   "execution_count": null,
   "metadata": {},
   "outputs": [],
   "source": []
  }
 ],
 "metadata": {
  "kernelspec": {
   "display_name": "Python 3",
   "language": "python",
   "name": "python3"
  },
  "language_info": {
   "codemirror_mode": {
    "name": "ipython",
    "version": 3
   },
   "file_extension": ".py",
   "mimetype": "text/x-python",
   "name": "python",
   "nbconvert_exporter": "python",
   "pygments_lexer": "ipython3",
   "version": "3.7.6"
  },
  "toc": {
   "base_numbering": 1,
   "nav_menu": {},
   "number_sections": true,
   "sideBar": true,
   "skip_h1_title": false,
   "title_cell": "Table of Contents",
   "title_sidebar": "Contents",
   "toc_cell": false,
   "toc_position": {},
   "toc_section_display": true,
   "toc_window_display": true
  }
 },
 "nbformat": 4,
 "nbformat_minor": 4
}
