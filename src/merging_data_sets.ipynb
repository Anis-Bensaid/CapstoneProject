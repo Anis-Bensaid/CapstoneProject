{
 "cells": [
  {
   "cell_type": "code",
   "execution_count": 4,
   "metadata": {},
   "outputs": [],
   "source": [
    "import os\n",
    "import pickle\n",
    "import pandas as pd\n",
    "pd.set_option('display.max_columns', None)"
   ]
  },
  {
   "cell_type": "code",
   "execution_count": 5,
   "metadata": {},
   "outputs": [
    {
     "data": {
      "text/plain": [
       "['cosmetic.p',\n",
       " 'Cosmetics_Reviews_20190630.csv',\n",
       " 'Cosmetics_Reviews_20190831.csv',\n",
       " 'Cosmetics_Reviews_20190930.csv',\n",
       " 'Cosmetics_Reviews_20191031.csv',\n",
       " 'cosmetics_reviews_20191130.csv',\n",
       " 'cosmetics_reviews_20191130_final.csv',\n",
       " 'cosmetics_reviews_20191231.csv',\n",
       " 'cosmetics_reviews_20200101-20200131.csv',\n",
       " 'cosmetics_reviews_20200229.csv',\n",
       " 'pwds',\n",
       " 'Skin Care_Reviews_20190930.csv',\n",
       " 'skincare_reviews_20150201-20200131.csv',\n",
       " 'SkinCare_Reviews_20190630_ST MV2SV.csv',\n",
       " 'SkinCare_Reviews_20190831.csv',\n",
       " 'SkinCare_Reviews_20190930.7z',\n",
       " 'SkinCare_Reviews_20191031.csv',\n",
       " 'skincare_reviews_20191130.csv',\n",
       " 'skincare_reviews_20191231.csv',\n",
       " 'skincare_reviews_20200229.csv']"
      ]
     },
     "execution_count": 5,
     "metadata": {},
     "output_type": "execute_result"
    }
   ],
   "source": [
    "path = os.path.join(os.getcwd(),r'..\\data\\Rating and Reviews')\n",
    "os.listdir(path)"
   ]
  },
  {
   "cell_type": "markdown",
   "metadata": {},
   "source": [
    "## Reading and concatenating all datasets together (do not run)\n",
    "Bad idea, since some of the files are bigger than 5 Gb."
   ]
  },
  {
   "cell_type": "code",
   "execution_count": 9,
   "metadata": {},
   "outputs": [],
   "source": [
    "# skincare = pd.DataFrame()\n",
    "# cosmetic = pd.DataFrame()\n",
    "# for file in listdir(path):\n",
    "#     if '.csv' in file.lower():\n",
    "#         if 'skincare' in file.lower():\n",
    "#             print('Adding', file)\n",
    "#             skincare=pd.concat([skincare, pd.read_csv(os.path.join(path,file))])\n",
    "#             display(skincare)\n",
    "#         elif 'cosmetics' in file.lower():\n",
    "#             print('Adding', file)\n",
    "#             cosmetic=pd.concat([cosmetic, pd.read_csv(os.path.join(path,file))])\n",
    "#             display(cosmetic)"
   ]
  },
  {
   "cell_type": "code",
   "execution_count": null,
   "metadata": {},
   "outputs": [],
   "source": [
    "# skincare = dict()\n",
    "# cosmetic = dict()\n",
    "# for file in listdir(path):\n",
    "#     if '.csv' in file.lower():\n",
    "#         if 'skincare' in file.lower():\n",
    "#             print('Adding', file)\n",
    "#             skincare[file] = pd.read_csv(os.path.join(path,file))\n",
    "# #         elif 'cosmetics' in file.lower():\n",
    "# #             print('Adding', file)\n",
    "# #             cosmetic[file] = pd.read_csv(os.path.join(path,file))"
   ]
  },
  {
   "cell_type": "code",
   "execution_count": null,
   "metadata": {},
   "outputs": [],
   "source": [
    "# pickle.dump(cosmetic, open( \"../data/Rating and Reviews/cosmetic.p\", \"wb\" ) )"
   ]
  },
  {
   "cell_type": "code",
   "execution_count": 7,
   "metadata": {},
   "outputs": [],
   "source": [
    "# cosmetic_df=pd.DataFrame()\n",
    "# for key, df in cosmetic.items():\n",
    "#     print(key)\n",
    "#     print(df.columns)\n",
    "#     example=df\n",
    "#     break"
   ]
  },
  {
   "cell_type": "markdown",
   "metadata": {},
   "source": [
    "## Data wrangling and aggregation\n",
    "1. Filter only on US\n",
    "2. create data by YM\n",
    "3. change sentiment to num_sentiment : -1,0,1\n",
    "4. change sentiments to hot ones HO_sentiment\n",
    "5. create hot ones rating\n",
    "5. Groupby YM, Source Product Identifierm, Channel, Product_ID\n",
    "6. Aggregate by {num_sentiment:mean, num_rating:mean, HO_sentiments:count, HO_rating:count}\n",
    "7. Number of reviews"
   ]
  },
  {
   "cell_type": "code",
   "execution_count": 8,
   "metadata": {},
   "outputs": [],
   "source": [
    "df = pd.read_csv('../data/Rating and Reviews/Cosmetics_Reviews_20191031.csv')"
   ]
  },
  {
   "cell_type": "code",
   "execution_count": null,
   "metadata": {},
   "outputs": [],
   "source": [
    "df['Date'] = pd.to_datetime(df['Date'])"
   ]
  },
  {
   "cell_type": "code",
   "execution_count": null,
   "metadata": {},
   "outputs": [],
   "source": [
    "example[example['Geography']=='USA']['Product_ID'].isna().sum()/len(example[example['Geography']=='USA'])"
   ]
  },
  {
   "cell_type": "code",
   "execution_count": null,
   "metadata": {},
   "outputs": [],
   "source": []
  }
 ],
 "metadata": {
  "kernelspec": {
   "display_name": "Python 3",
   "language": "python",
   "name": "python3"
  },
  "language_info": {
   "codemirror_mode": {
    "name": "ipython",
    "version": 3
   },
   "file_extension": ".py",
   "mimetype": "text/x-python",
   "name": "python",
   "nbconvert_exporter": "python",
   "pygments_lexer": "ipython3",
   "version": "3.7.6"
  }
 },
 "nbformat": 4,
 "nbformat_minor": 4
}
