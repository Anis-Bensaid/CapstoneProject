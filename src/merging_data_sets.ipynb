{
 "cells": [
  {
   "cell_type": "markdown",
   "metadata": {},
   "source": [
    "# Data Wrangling Rating and Reviews"
   ]
  },
  {
   "cell_type": "code",
   "execution_count": 224,
   "metadata": {},
   "outputs": [],
   "source": [
    "import os\n",
    "import pickle\n",
    "import pandas as pd\n",
    "import numpy as np\n",
    "pd.set_option('display.max_columns', None)\n",
    "\n",
    "# pd.set_option('display.max_rows', 20)\n",
    "# pd.set_option('display.width', None)\n",
    "# pd.set_option('display.max_colwidth', 1)"
   ]
  },
  {
   "cell_type": "markdown",
   "metadata": {},
   "source": [
    "## Product Catalogue"
   ]
  },
  {
   "cell_type": "markdown",
   "metadata": {},
   "source": [
    "### Reading data"
   ]
  },
  {
   "cell_type": "code",
   "execution_count": 2,
   "metadata": {},
   "outputs": [],
   "source": [
    "output_path = r'../data/clean_data/'"
   ]
  },
  {
   "cell_type": "markdown",
   "metadata": {},
   "source": [
    "We have a look at the available data"
   ]
  },
  {
   "cell_type": "code",
   "execution_count": 3,
   "metadata": {},
   "outputs": [
    {
     "data": {
      "text/plain": [
       "['Cosmetics_Product_20190831.csv',\n",
       " 'Cosmetics_Product_20190930.csv',\n",
       " 'Cosmetics_Product_20191031.csv',\n",
       " 'cosmetics_product_2019Q4.csv',\n",
       " 'Cosmetics_Product_20200116.csv',\n",
       " 'Global Product Catalogs - ELC ST Fix',\n",
       " 'Historic Product Catalog - ELC ST Fix.b',\n",
       " 'Historic Product Catalogs - ELC ST Fix',\n",
       " 'SkinCare_New_Product_20191031.zip',\n",
       " 'SkinCare_Product_20190630_ST MV2SV.csv',\n",
       " 'SkinCare_Product_20190930.csv',\n",
       " 'SkinCare_Product_20190930_Update.csv',\n",
       " 'SkinCare_Product_20191031.csv',\n",
       " 'skincare_product_20191231.csv',\n",
       " 'skincare_product_2019Q3.csv',\n",
       " 'skincare_product_2019Q3_final.csv',\n",
       " 'SkinCare_Product_20200116.csv']"
      ]
     },
     "execution_count": 3,
     "metadata": {},
     "output_type": "execute_result"
    }
   ],
   "source": [
    "input_product_paths = os.path.join(os.getcwd(),r'../data/raw_data/Product Catalogue/')\n",
    "os.listdir(input_product_paths)"
   ]
  },
  {
   "cell_type": "markdown",
   "metadata": {},
   "source": [
    "We create a DataFrame for skincare and cosmetics that concatenates all the dataframes."
   ]
  },
  {
   "cell_type": "code",
   "execution_count": 4,
   "metadata": {},
   "outputs": [
    {
     "name": "stdout",
     "output_type": "stream",
     "text": [
      "Adding Cosmetics_Product_20190831.csv\n",
      "Adding Cosmetics_Product_20190930.csv\n",
      "Adding Cosmetics_Product_20191031.csv\n",
      "Adding cosmetics_product_2019Q4.csv\n",
      "Adding Cosmetics_Product_20200116.csv\n",
      "Adding SkinCare_Product_20190630_ST MV2SV.csv\n",
      "Adding SkinCare_Product_20190930.csv\n"
     ]
    },
    {
     "name": "stderr",
     "output_type": "stream",
     "text": [
      "C:\\Users\\asaid\\Anaconda3\\lib\\site-packages\\IPython\\core\\interactiveshell.py:3063: DtypeWarning: Columns (12,13,16,17,18,26,29,32,33,34,35,36,37,38,39,40,41,42,43,44,45,46,47,48,49,50,51,52,53,54,55,56,57,58,59,60,61,62,63,64,65,66,67,68,69,70,71,72,73,74,75,76,77,78,79,80,81,82,83,84,85,86,87,88,89,90,91,92,93,94,95,96,97,98,99,100,101,102,103,104,105,106,107,108,109,110,111,112,113,114,115,116,117,118,119,120,121,122,123,124,125,126,127,128,129,130,131,132,133,134,135,136,137,138,139,140,141,142,143,144,145,146,147,148,149,150,151,152,153,154,155,156,157,158,159,160,163,164,168,169,170,171,172) have mixed types.Specify dtype option on import or set low_memory=False.\n",
      "  interactivity=interactivity, compiler=compiler, result=result)\n"
     ]
    },
    {
     "name": "stdout",
     "output_type": "stream",
     "text": [
      "Adding SkinCare_Product_20190930_Update.csv\n"
     ]
    },
    {
     "name": "stderr",
     "output_type": "stream",
     "text": [
      "C:\\Users\\asaid\\Anaconda3\\lib\\site-packages\\IPython\\core\\interactiveshell.py:3063: DtypeWarning: Columns (16,17) have mixed types.Specify dtype option on import or set low_memory=False.\n",
      "  interactivity=interactivity, compiler=compiler, result=result)\n"
     ]
    },
    {
     "name": "stdout",
     "output_type": "stream",
     "text": [
      "Adding SkinCare_Product_20191031.csv\n",
      "Adding skincare_product_20191231.csv\n",
      "Adding skincare_product_2019Q3.csv\n",
      "Adding skincare_product_2019Q3_final.csv\n",
      "Adding SkinCare_Product_20200116.csv\n"
     ]
    }
   ],
   "source": [
    "product_skincare = pd.DataFrame()\n",
    "product_cosmetics = pd.DataFrame()\n",
    "for file in os.listdir(input_product_paths):\n",
    "    if '.csv' in file.lower():\n",
    "        if 'skincare' in file.lower():\n",
    "            print('Adding', file)\n",
    "            temp = pd.read_csv(os.path.join(input_product_paths,file))\n",
    "            temp = temp.loc[:, ~temp.columns.str.contains('^Unnamed')]\n",
    "            product_skincare=pd.concat([product_skincare, temp])\n",
    "        elif 'cosmetics' in file.lower():\n",
    "            print('Adding', file)\n",
    "            temp = pd.read_csv(os.path.join(input_product_paths,file))\n",
    "            temp = temp.loc[:, ~temp.columns.str.contains('^Unnamed')]\n",
    "            product_cosmetics=pd.concat([product_cosmetics, temp])\n",
    "del temp"
   ]
  },
  {
   "cell_type": "code",
   "execution_count": 5,
   "metadata": {},
   "outputs": [
    {
     "data": {
      "text/plain": [
       "Index(['Product_ID', 'Source Product Identifier', 'Product', 'Description',\n",
       "       'Channel', 'Brand', 'Feature', 'Benefit', 'Ingredient',\n",
       "       'Additional Ingredients (no rulebase)', 'Product Form',\n",
       "       'ELC Solution Type', 'Finish', 'Looks', 'Other', 'Trends', 'Rating',\n",
       "       'Number of Reviews', 'Geography', 'Collection Date',\n",
       "       'Normalized Product Title', 'ProductCluster_ID', 'Cluster Size',\n",
       "       'Title'],\n",
       "      dtype='object')"
      ]
     },
     "execution_count": 5,
     "metadata": {},
     "output_type": "execute_result"
    }
   ],
   "source": [
    "product_cosmetics.columns"
   ]
  },
  {
   "cell_type": "markdown",
   "metadata": {},
   "source": [
    "### Skincare"
   ]
  },
  {
   "cell_type": "markdown",
   "metadata": {},
   "source": [
    "We start by changing the columns names to make them code friendly"
   ]
  },
  {
   "cell_type": "code",
   "execution_count": 6,
   "metadata": {},
   "outputs": [],
   "source": [
    "product_skincare.columns = [colname.lower().replace(' ','_') for colname in product_skincare.columns]"
   ]
  },
  {
   "cell_type": "markdown",
   "metadata": {},
   "source": [
    "We format the Clean Collection Date and fill the missing rows/bad format with the oldest date available."
   ]
  },
  {
   "cell_type": "code",
   "execution_count": 7,
   "metadata": {},
   "outputs": [],
   "source": [
    "product_skincare['clean_collection_date'] = pd.to_datetime(product_skincare['collection_date'], errors='coerce')\n",
    "product_skincare.loc[product_skincare['clean_collection_date'].isna(), 'collection_date']=min(product_skincare['clean_collection_date'])\n",
    "product_skincare['clean_collection_date'] = pd.to_datetime(product_skincare['collection_date'], errors='coerce')"
   ]
  },
  {
   "cell_type": "markdown",
   "metadata": {},
   "source": [
    "We drop the duplicates while only keeping the row with the most recent Collection Date"
   ]
  },
  {
   "cell_type": "code",
   "execution_count": 30,
   "metadata": {},
   "outputs": [],
   "source": [
    "product_skincare = product_skincare.sort_values('clean_collection_date', ascending=False).drop_duplicates([\n",
    "    'elc_solution_type',\n",
    "    'source_product_identifier', \n",
    "    'product_id'])"
   ]
  },
  {
   "cell_type": "markdown",
   "metadata": {},
   "source": [
    "Finally, we save the DataFrame:"
   ]
  },
  {
   "cell_type": "code",
   "execution_count": 9,
   "metadata": {},
   "outputs": [],
   "source": [
    "product_skincare.to_csv(os.path.join(output_path,'product_catalogue_skincare.csv'))"
   ]
  },
  {
   "cell_type": "markdown",
   "metadata": {},
   "source": [
    "### Cosmetics"
   ]
  },
  {
   "cell_type": "markdown",
   "metadata": {},
   "source": [
    "We do the same for Coemetics. We start by changing the columns names to make them code friendly"
   ]
  },
  {
   "cell_type": "code",
   "execution_count": 10,
   "metadata": {},
   "outputs": [],
   "source": [
    "product_cosmetics.columns = [colname.lower().replace(' ','_') for colname in product_cosmetics.columns]"
   ]
  },
  {
   "cell_type": "markdown",
   "metadata": {},
   "source": [
    "We format the Clean Collection Date and fill the missing rows/bad format with the oldest date available."
   ]
  },
  {
   "cell_type": "code",
   "execution_count": 11,
   "metadata": {},
   "outputs": [],
   "source": [
    "product_cosmetics['clean_collection_date'] = pd.to_datetime(product_cosmetics['collection_date'], errors='coerce')\n",
    "product_cosmetics.loc[product_cosmetics['clean_collection_date'].isna(), 'collection_date']=min(product_cosmetics['clean_collection_date'])\n",
    "product_cosmetics['clean_collection_date'] = pd.to_datetime(product_cosmetics['collection_date'], errors='coerce')"
   ]
  },
  {
   "cell_type": "markdown",
   "metadata": {},
   "source": [
    "We drop the duplicates while only keeping the row with the most recent Collection Date"
   ]
  },
  {
   "cell_type": "code",
   "execution_count": 12,
   "metadata": {},
   "outputs": [],
   "source": [
    "product_cosmetics.sort_values('clean_collection_date', ascending=False).drop_duplicates([\n",
    "    'elc_solution_type',\n",
    "    'source_product_identifier', \n",
    "    'product_id'], inplace=True)"
   ]
  },
  {
   "cell_type": "markdown",
   "metadata": {},
   "source": [
    "Finally, we save the DataFrame:"
   ]
  },
  {
   "cell_type": "code",
   "execution_count": 13,
   "metadata": {},
   "outputs": [],
   "source": [
    "product_cosmetics.to_csv(os.path.join(output_path,'product_catalogue_cosmetics.csv'))"
   ]
  },
  {
   "cell_type": "code",
   "execution_count": 38,
   "metadata": {},
   "outputs": [
    {
     "data": {
      "text/plain": [
       "286919"
      ]
     },
     "execution_count": 38,
     "metadata": {},
     "output_type": "execute_result"
    }
   ],
   "source": [
    "len(product_skincare.drop_duplicates([\n",
    "    'source_product_identifier', \n",
    "    'product_id']))"
   ]
  },
  {
   "cell_type": "code",
   "execution_count": 39,
   "metadata": {},
   "outputs": [
    {
     "data": {
      "text/plain": [
       "286920"
      ]
     },
     "execution_count": 39,
     "metadata": {},
     "output_type": "execute_result"
    }
   ],
   "source": [
    "len(product_skincare.drop_duplicates(['elc_solution_type',\n",
    "    'source_product_identifier', \n",
    "    'product_id',]))"
   ]
  },
  {
   "cell_type": "code",
   "execution_count": 80,
   "metadata": {},
   "outputs": [
    {
     "data": {
      "text/html": [
       "<div>\n",
       "<style scoped>\n",
       "    .dataframe tbody tr th:only-of-type {\n",
       "        vertical-align: middle;\n",
       "    }\n",
       "\n",
       "    .dataframe tbody tr th {\n",
       "        vertical-align: top;\n",
       "    }\n",
       "\n",
       "    .dataframe thead th {\n",
       "        text-align: right;\n",
       "    }\n",
       "</style>\n",
       "<table border=\"1\" class=\"dataframe\">\n",
       "  <thead>\n",
       "    <tr style=\"text-align: right;\">\n",
       "      <th></th>\n",
       "      <th>elc_solution_type</th>\n",
       "      <th>source_product_identifier</th>\n",
       "      <th>product_id</th>\n",
       "    </tr>\n",
       "  </thead>\n",
       "  <tbody>\n",
       "    <tr>\n",
       "      <th>82374</th>\n",
       "      <td>Exfoliator</td>\n",
       "      <td>B004ZD2M6I</td>\n",
       "      <td>Product_20191016_14035148</td>\n",
       "    </tr>\n",
       "    <tr>\n",
       "      <th>82844</th>\n",
       "      <td>NaN</td>\n",
       "      <td>B004ZD2M6I</td>\n",
       "      <td>Product_20191016_14035148</td>\n",
       "    </tr>\n",
       "  </tbody>\n",
       "</table>\n",
       "</div>"
      ],
      "text/plain": [
       "      elc_solution_type source_product_identifier                 product_id\n",
       "82374        Exfoliator                B004ZD2M6I  Product_20191016_14035148\n",
       "82844               NaN                B004ZD2M6I  Product_20191016_14035148"
      ]
     },
     "execution_count": 80,
     "metadata": {},
     "output_type": "execute_result"
    }
   ],
   "source": [
    "g = product_skincare.drop_duplicates([\n",
    "    'source_product_identifier',\n",
    "    'product_id',\n",
    "    'elc_solution_type'\n",
    "])\n",
    "\n",
    "g[g[['source_product_identifier', \n",
    "     'product_id']].duplicated(\n",
    "    keep=False)][[\n",
    "    'elc_solution_type',\n",
    "    'source_product_identifier', \n",
    "    'product_id']].sort_values([\n",
    "    'elc_solution_type',\n",
    "    'source_product_identifier', \n",
    "    'product_id'])"
   ]
  },
  {
   "cell_type": "code",
   "execution_count": 59,
   "metadata": {
    "scrolled": true
   },
   "outputs": [
    {
     "data": {
      "text/html": [
       "<div>\n",
       "<style scoped>\n",
       "    .dataframe tbody tr th:only-of-type {\n",
       "        vertical-align: middle;\n",
       "    }\n",
       "\n",
       "    .dataframe tbody tr th {\n",
       "        vertical-align: top;\n",
       "    }\n",
       "\n",
       "    .dataframe thead th {\n",
       "        text-align: right;\n",
       "    }\n",
       "</style>\n",
       "<table border=\"1\" class=\"dataframe\">\n",
       "  <thead>\n",
       "    <tr style=\"text-align: right;\">\n",
       "      <th></th>\n",
       "      <th>product_id</th>\n",
       "      <th>brand</th>\n",
       "    </tr>\n",
       "  </thead>\n",
       "  <tbody>\n",
       "    <tr>\n",
       "      <th>19191</th>\n",
       "      <td>Product_20191007_12717887</td>\n",
       "      <td>COMFORT ZONE</td>\n",
       "    </tr>\n",
       "    <tr>\n",
       "      <th>19191</th>\n",
       "      <td>Product_20191007_12717887</td>\n",
       "      <td>[ COMFORT ZONE ]</td>\n",
       "    </tr>\n",
       "    <tr>\n",
       "      <th>20206</th>\n",
       "      <td>Product_20191007_12755905</td>\n",
       "      <td>COMFORT ZONE</td>\n",
       "    </tr>\n",
       "    <tr>\n",
       "      <th>20206</th>\n",
       "      <td>Product_20191007_12755905</td>\n",
       "      <td>[ COMFORT ZONE ]</td>\n",
       "    </tr>\n",
       "    <tr>\n",
       "      <th>22244</th>\n",
       "      <td>Product_20191007_12918864</td>\n",
       "      <td>COMFORT ZONE</td>\n",
       "    </tr>\n",
       "    <tr>\n",
       "      <th>...</th>\n",
       "      <td>...</td>\n",
       "      <td>...</td>\n",
       "    </tr>\n",
       "    <tr>\n",
       "      <th>87844</th>\n",
       "      <td>Product_20191016_14108270</td>\n",
       "      <td>[ COMFORT ZONE ]</td>\n",
       "    </tr>\n",
       "    <tr>\n",
       "      <th>87477</th>\n",
       "      <td>Product_20191016_14109713</td>\n",
       "      <td>COMFORT ZONE</td>\n",
       "    </tr>\n",
       "    <tr>\n",
       "      <th>87950</th>\n",
       "      <td>Product_20191016_14109713</td>\n",
       "      <td>[ COMFORT ZONE ]</td>\n",
       "    </tr>\n",
       "    <tr>\n",
       "      <th>87947</th>\n",
       "      <td>Product_20191016_14115714</td>\n",
       "      <td>COMFORT ZONE</td>\n",
       "    </tr>\n",
       "    <tr>\n",
       "      <th>88418</th>\n",
       "      <td>Product_20191016_14115714</td>\n",
       "      <td>[ COMFORT ZONE ]</td>\n",
       "    </tr>\n",
       "  </tbody>\n",
       "</table>\n",
       "<p>194 rows × 2 columns</p>\n",
       "</div>"
      ],
      "text/plain": [
       "                      product_id             brand\n",
       "19191  Product_20191007_12717887      COMFORT ZONE\n",
       "19191  Product_20191007_12717887  [ COMFORT ZONE ]\n",
       "20206  Product_20191007_12755905      COMFORT ZONE\n",
       "20206  Product_20191007_12755905  [ COMFORT ZONE ]\n",
       "22244  Product_20191007_12918864      COMFORT ZONE\n",
       "...                          ...               ...\n",
       "87844  Product_20191016_14108270  [ COMFORT ZONE ]\n",
       "87477  Product_20191016_14109713      COMFORT ZONE\n",
       "87950  Product_20191016_14109713  [ COMFORT ZONE ]\n",
       "87947  Product_20191016_14115714      COMFORT ZONE\n",
       "88418  Product_20191016_14115714  [ COMFORT ZONE ]\n",
       "\n",
       "[194 rows x 2 columns]"
      ]
     },
     "metadata": {},
     "output_type": "display_data"
    },
    {
     "data": {
      "text/plain": [
       "['COMFORT ZONE', '[ COMFORT ZONE ]', 'NEUTROGENA', nan]"
      ]
     },
     "execution_count": 59,
     "metadata": {},
     "output_type": "execute_result"
    }
   ],
   "source": [
    "g = product_skincare.drop_duplicates([\n",
    "    'product_id',\n",
    "    'brand'\n",
    "])\n",
    "\n",
    "h = g[g[['product_id', \n",
    "     ]].duplicated(\n",
    "    keep=False)][[\n",
    "    'product_id', \n",
    "    'brand']].sort_values([\n",
    "    'product_id',\n",
    "    'brand'])\n",
    "\n",
    "display(h)\n",
    "h['brand'].unique().tolist()"
   ]
  },
  {
   "cell_type": "code",
   "execution_count": 37,
   "metadata": {},
   "outputs": [
    {
     "data": {
      "text/plain": [
       "array(['COMFORT ZONE', '[ COMFORT ZONE ]'], dtype=object)"
      ]
     },
     "execution_count": 37,
     "metadata": {},
     "output_type": "execute_result"
    }
   ],
   "source": [
    "product_skincare[product_skincare[[\n",
    "    'elc_solution_type',\n",
    "    'source_product_identifier', \n",
    "    'product_id']].duplicated(keep=False)][[\n",
    "    'elc_solution_type',\n",
    "    'source_product_identifier', \n",
    "    'product_id',\n",
    "    'brand']].sort_values([\n",
    "    'elc_solution_type',\n",
    "    'source_product_identifier', \n",
    "    'product_id',\n",
    "    'brand'])['brand'].unique()"
   ]
  },
  {
   "cell_type": "markdown",
   "metadata": {},
   "source": [
    "## Ratings and Reviews \n",
    "1. Filter only on US\n",
    "2. create data by YM\n",
    "3. change sentiment to num_sentiment : -1,0,1\n",
    "4. change sentiments to hot ones HO_sentiment\n",
    "5. create hot ones rating\n",
    "5. Groupby YM, Source Product Identifierm, Channel, Product_ID\n",
    "6. Aggregate by {num_sentiment:mean, num_rating:mean, HO_sentiments:count, HO_rating:count}\n",
    "7. Number of reviews"
   ]
  },
  {
   "cell_type": "code",
   "execution_count": null,
   "metadata": {},
   "outputs": [],
   "source": [
    "# product_cosmetics = pd.read_csv(os.path.join(output_path,'product_catalogue_cosmetics.csv'))\n",
    "# product_skincare = pd.read_csv(os.path.join(output_path,'product_catalogue_skincare.csv'))"
   ]
  },
  {
   "cell_type": "code",
   "execution_count": 228,
   "metadata": {},
   "outputs": [],
   "source": [
    "def format_rating_and_reviews(df, product_catalogue):\n",
    "    df.columns = [colname.lower().replace(' ','_') for colname in df.columns]\n",
    "    df = df[df['geography']=='USA']\n",
    "    df.loc[:,'clean_date'] = pd.to_datetime(df['date'], errors='coerce')\n",
    "    df.loc[:,'year'] = df.loc[:,'clean_date'].dt.year\n",
    "    df.loc[:,'month'] = df.loc[:,'clean_date'].dt.month\n",
    "    df.loc[:,'rating'] = df['rating'].fillna(-1).astype(int)\n",
    "    df.loc[:,'sentiment'] = df['sentiment'].str.lower()\n",
    "    df = pd.concat([df, pd.get_dummies(data=df[['rating','sentiment']], columns=['rating','sentiment'], dtype=int)], axis=1)\n",
    "    df.loc[:,'sentiment'] = df['sentiment_positive'] - df['sentiment_negative']\n",
    "    df.loc[df['rating']==-1,'rating'] = np.nan\n",
    "    \n",
    "    # We could add 'elc_solution_type' and 'channel' to groupby !\n",
    "    df = df.groupby(['elc_solution_type',\n",
    "                     'source_product_identifier', \n",
    "                     'product_id', \n",
    "                     'year', \n",
    "                     'month']).agg({\n",
    "        'rating':'mean',\n",
    "        'rating_1':'sum',\n",
    "        'rating_2':'sum',\n",
    "        'rating_3':'sum',\n",
    "        'rating_4':'sum',\n",
    "        'rating_5':'sum',\n",
    "        'sentiment_negative':'sum',\n",
    "        'sentiment_neutral':'sum',\n",
    "        'sentiment_positive':'sum',\n",
    "        'sentiment':'mean'\n",
    "    }).reset_index()\n",
    "\n",
    "    initial_size=len(df)\n",
    "\n",
    "    df = df.merge(product_catalogue, how='left')\n",
    "    df['brand'].fillna(df.merge(product_catalogue[['elc_solution_type','source_product_identifier','brand']].drop_duplicates(), on=['elc_solution_type','source_product_identifier'], how='left', suffixes=['','_filler'])['brand_filler'], inplace=True)\n",
    "    df['brand'].fillna(df.merge(product_catalogue[['source_product_identifier','brand']].drop_duplicates(), on=['source_product_identifier'], how='left', suffixes=['','_filler'])['brand_filler'], inplace=True)\n",
    "    print('Check that no duplicates have been created:', initial_size==len(df))\n",
    "    if df.isna().sum().sum()>0:\n",
    "        print('Missing values:')\n",
    "        display(df.isna().sum()/len(df)*100)\n",
    "    return df"
   ]
  },
  {
   "cell_type": "code",
   "execution_count": 229,
   "metadata": {},
   "outputs": [
    {
     "data": {
      "text/plain": [
       "['cosmetic.p',\n",
       " 'Cosmetics_Reviews_20190630.csv',\n",
       " 'Cosmetics_Reviews_20190831.csv',\n",
       " 'Cosmetics_Reviews_20190930.csv',\n",
       " 'Cosmetics_Reviews_20191031.csv',\n",
       " 'cosmetics_reviews_20191130.csv',\n",
       " 'cosmetics_reviews_20191130_final.csv',\n",
       " 'cosmetics_reviews_20191231.csv',\n",
       " 'cosmetics_reviews_20200101-20200131.csv',\n",
       " 'cosmetics_reviews_20200229.csv',\n",
       " 'pwds',\n",
       " 'Skin Care_Reviews_20190930.csv',\n",
       " 'skincare_reviews_20150201-20200131.csv',\n",
       " 'SkinCare_Reviews_20190630_ST MV2SV.csv',\n",
       " 'SkinCare_Reviews_20190831.csv',\n",
       " 'SkinCare_Reviews_20190930.7z',\n",
       " 'SkinCare_Reviews_20191031.csv',\n",
       " 'skincare_reviews_20191130.csv',\n",
       " 'skincare_reviews_20191231.csv',\n",
       " 'skincare_reviews_20200229.csv']"
      ]
     },
     "execution_count": 229,
     "metadata": {},
     "output_type": "execute_result"
    }
   ],
   "source": [
    "ratings_input_product_paths = os.path.join(os.getcwd(),r'../data/raw_data/Rating and Reviews/')\n",
    "os.listdir(ratings_input_product_paths)"
   ]
  },
  {
   "cell_type": "code",
   "execution_count": null,
   "metadata": {
    "scrolled": false
   },
   "outputs": [
    {
     "name": "stdout",
     "output_type": "stream",
     "text": [
      "Adding Cosmetics_Reviews_20190630.csv\n"
     ]
    },
    {
     "name": "stderr",
     "output_type": "stream",
     "text": [
      "C:\\Users\\asaid\\Anaconda3\\lib\\site-packages\\pandas\\core\\indexing.py:844: SettingWithCopyWarning: \n",
      "A value is trying to be set on a copy of a slice from a DataFrame.\n",
      "Try using .loc[row_indexer,col_indexer] = value instead\n",
      "\n",
      "See the caveats in the documentation: https://pandas.pydata.org/pandas-docs/stable/user_guide/indexing.html#returning-a-view-versus-a-copy\n",
      "  self.obj[key] = _infer_fill_value(value)\n",
      "C:\\Users\\asaid\\Anaconda3\\lib\\site-packages\\pandas\\core\\indexing.py:965: SettingWithCopyWarning: \n",
      "A value is trying to be set on a copy of a slice from a DataFrame.\n",
      "Try using .loc[row_indexer,col_indexer] = value instead\n",
      "\n",
      "See the caveats in the documentation: https://pandas.pydata.org/pandas-docs/stable/user_guide/indexing.html#returning-a-view-versus-a-copy\n",
      "  self.obj[item] = s\n"
     ]
    },
    {
     "name": "stdout",
     "output_type": "stream",
     "text": [
      "Check that no duplicates have been created: True\n",
      "Missing values:\n"
     ]
    },
    {
     "data": {
      "text/plain": [
       "elc_solution_type            0.000000\n",
       "source_product_identifier    0.000000\n",
       "product_id                   0.000000\n",
       "year                         0.000000\n",
       "month                        0.000000\n",
       "rating                       0.000000\n",
       "rating_1                     0.000000\n",
       "rating_2                     0.000000\n",
       "rating_3                     0.000000\n",
       "rating_4                     0.000000\n",
       "rating_5                     0.000000\n",
       "sentiment_negative           0.000000\n",
       "sentiment_neutral            0.000000\n",
       "sentiment_positive           0.000000\n",
       "sentiment                    0.000000\n",
       "brand                        0.006049\n",
       "dtype: float64"
      ]
     },
     "metadata": {},
     "output_type": "display_data"
    },
    {
     "name": "stdout",
     "output_type": "stream",
     "text": [
      "Adding Cosmetics_Reviews_20190831.csv\n",
      "Check that no duplicates have been created: True\n",
      "Adding Cosmetics_Reviews_20190930.csv\n"
     ]
    },
    {
     "name": "stderr",
     "output_type": "stream",
     "text": [
      "C:\\Users\\asaid\\Anaconda3\\lib\\site-packages\\IPython\\core\\interactiveshell.py:3063: DtypeWarning: Columns (16,22) have mixed types.Specify dtype option on import or set low_memory=False.\n",
      "  interactivity=interactivity, compiler=compiler, result=result)\n"
     ]
    },
    {
     "name": "stdout",
     "output_type": "stream",
     "text": [
      "Check that no duplicates have been created: True\n",
      "Adding Cosmetics_Reviews_20191031.csv\n",
      "Check that no duplicates have been created: True\n",
      "Adding cosmetics_reviews_20191130.csv\n"
     ]
    },
    {
     "name": "stderr",
     "output_type": "stream",
     "text": [
      "C:\\Users\\asaid\\Anaconda3\\lib\\site-packages\\IPython\\core\\interactiveshell.py:3063: DtypeWarning: Columns (1,22,23,24,25,26,27,28,29,30,31,32,33,34,35,36,37,38) have mixed types.Specify dtype option on import or set low_memory=False.\n",
      "  interactivity=interactivity, compiler=compiler, result=result)\n"
     ]
    }
   ],
   "source": [
    "ratings_skincare = pd.DataFrame()\n",
    "ratings_cosmetics = pd.DataFrame()\n",
    "for file in os.listdir(ratings_input_product_paths):\n",
    "    if '.csv' in file.lower():\n",
    "        if 'skincare' in file.lower():\n",
    "            print('Adding', file)\n",
    "            temp = pd.read_csv(os.path.join(ratings_input_product_paths,file))\n",
    "            temp = temp.loc[:, ~temp.columns.str.contains('^Unnamed')]\n",
    "            display(temp.head(3))\n",
    "            temp = format_rating_and_reviews(temp, product_skincare)\n",
    "            ratings_skincare = pd.concat([ratings_skincare, temp])\n",
    "            display(ratings_skincare.head(3))\n",
    "        elif 'cosmetics' in file.lower():\n",
    "            print('Adding', file)\n",
    "            temp = pd.read_csv(os.path.join(ratings_input_product_paths,file))\n",
    "            temp = temp.loc[:, ~temp.columns.str.contains('^Unnamed')]\n",
    "            display(temp.head(3))\n",
    "            temp = format_rating_and_reviews(temp, product_cosmetics)\n",
    "            ratings_cosmetics = pd.concat([ratings_cosmetics, temp])\n",
    "            display(ratings_cosmetics.head(3))\n",
    "del temp"
   ]
  },
  {
   "cell_type": "markdown",
   "metadata": {},
   "source": [
    "# EXTRA CODE\n",
    "Bad idea, since some of the files are bigger than 5 Gb."
   ]
  },
  {
   "cell_type": "code",
   "execution_count": null,
   "metadata": {},
   "outputs": [],
   "source": [
    "# skincare = pd.DataFrame()\n",
    "# cosmetic = pd.DataFrame()\n",
    "# for file in listdir(path):\n",
    "#     if '.csv' in file.lower():\n",
    "#         if 'skincare' in file.lower():\n",
    "#             print('Adding', file)\n",
    "#             skincare=pd.concat([skincare, pd.read_csv(os.path.join(path,file))])\n",
    "#             display(skincare)\n",
    "#         elif 'cosmetics' in file.lower():\n",
    "#             print('Adding', file)\n",
    "#             cosmetic=pd.concat([cosmetic, pd.read_csv(os.path.join(path,file))])\n",
    "#             display(cosmetic)"
   ]
  },
  {
   "cell_type": "code",
   "execution_count": null,
   "metadata": {},
   "outputs": [],
   "source": [
    "# skincare = dict()\n",
    "# cosmetic = dict()\n",
    "# for file in listdir(path):\n",
    "#     if '.csv' in file.lower():\n",
    "#         if 'skincare' in file.lower():\n",
    "#             print('Adding', file)\n",
    "#             skincare[file] = pd.read_csv(os.path.join(path,file))\n",
    "# #         elif 'cosmetics' in file.lower():\n",
    "# #             print('Adding', file)\n",
    "# #             cosmetic[file] = pd.read_csv(os.path.join(path,file))"
   ]
  },
  {
   "cell_type": "code",
   "execution_count": null,
   "metadata": {},
   "outputs": [],
   "source": [
    "# pickle.dump(cosmetic, open( \"../data/Rating and Reviews/cosmetic.p\", \"wb\" ) )"
   ]
  },
  {
   "cell_type": "code",
   "execution_count": null,
   "metadata": {},
   "outputs": [],
   "source": [
    "# cosmetic_df=pd.DataFrame()\n",
    "# for key, df in cosmetic.items():\n",
    "#     print(key)\n",
    "#     print(df.columns)\n",
    "#     example=df\n",
    "#     break"
   ]
  }
 ],
 "metadata": {
  "kernelspec": {
   "display_name": "Python 3",
   "language": "python",
   "name": "python3"
  },
  "language_info": {
   "codemirror_mode": {
    "name": "ipython",
    "version": 3
   },
   "file_extension": ".py",
   "mimetype": "text/x-python",
   "name": "python",
   "nbconvert_exporter": "python",
   "pygments_lexer": "ipython3",
   "version": "3.7.6"
  },
  "toc": {
   "base_numbering": 1,
   "nav_menu": {},
   "number_sections": true,
   "sideBar": true,
   "skip_h1_title": false,
   "title_cell": "Table of Contents",
   "title_sidebar": "Contents",
   "toc_cell": false,
   "toc_position": {},
   "toc_section_display": true,
   "toc_window_display": true
  }
 },
 "nbformat": 4,
 "nbformat_minor": 4
}
